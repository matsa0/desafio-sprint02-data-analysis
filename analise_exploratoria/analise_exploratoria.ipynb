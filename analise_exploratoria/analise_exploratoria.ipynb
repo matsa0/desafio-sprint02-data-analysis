{
 "cells": [
  {
   "cell_type": "code",
   "execution_count": 195,
   "id": "25fefc74-8f39-491c-8f98-3eccc1b5396f",
   "metadata": {},
   "outputs": [],
   "source": [
    "import pandas as pd\n",
    "import numpy as np\n",
    "import matplotlib.pyplot as plt\n",
    "import seaborn as sns"
   ]
  },
  {
   "cell_type": "markdown",
   "id": "8dbca435-e52e-43b8-a945-897971a6952a",
   "metadata": {
    "jp-MarkdownHeadingCollapsed": true
   },
   "source": [
    "# Order Items Dataset"
   ]
  },
  {
   "cell_type": "code",
   "execution_count": 196,
   "id": "d6c2f7b4-80f3-4340-b384-7aba477c0cec",
   "metadata": {},
   "outputs": [],
   "source": [
    "order_items_dataset = pd.read_csv('/home/matsa/Documents/project_sprint02/data/olist_order_items_dataset.csv', \n",
    "                            sep=',', encoding='utf-8')"
   ]
  },
  {
   "cell_type": "code",
   "execution_count": 197,
   "id": "9946ccf1-0a57-4b1d-8524-647918bcfb85",
   "metadata": {},
   "outputs": [
    {
     "data": {
      "text/html": [
       "<div>\n",
       "<style scoped>\n",
       "    .dataframe tbody tr th:only-of-type {\n",
       "        vertical-align: middle;\n",
       "    }\n",
       "\n",
       "    .dataframe tbody tr th {\n",
       "        vertical-align: top;\n",
       "    }\n",
       "\n",
       "    .dataframe thead th {\n",
       "        text-align: right;\n",
       "    }\n",
       "</style>\n",
       "<table border=\"1\" class=\"dataframe\">\n",
       "  <thead>\n",
       "    <tr style=\"text-align: right;\">\n",
       "      <th></th>\n",
       "      <th>order_id</th>\n",
       "      <th>order_item_id</th>\n",
       "      <th>product_id</th>\n",
       "      <th>seller_id</th>\n",
       "      <th>shipping_limit_date</th>\n",
       "      <th>price</th>\n",
       "      <th>freight_value</th>\n",
       "    </tr>\n",
       "  </thead>\n",
       "  <tbody>\n",
       "    <tr>\n",
       "      <th>0</th>\n",
       "      <td>00010242fe8c5a6d1ba2dd792cb16214</td>\n",
       "      <td>1</td>\n",
       "      <td>4244733e06e7ecb4970a6e2683c13e61</td>\n",
       "      <td>48436dade18ac8b2bce089ec2a041202</td>\n",
       "      <td>2017-09-19 09:45:35</td>\n",
       "      <td>58.90</td>\n",
       "      <td>13.29</td>\n",
       "    </tr>\n",
       "    <tr>\n",
       "      <th>1</th>\n",
       "      <td>00018f77f2f0320c557190d7a144bdd3</td>\n",
       "      <td>1</td>\n",
       "      <td>e5f2d52b802189ee658865ca93d83a8f</td>\n",
       "      <td>dd7ddc04e1b6c2c614352b383efe2d36</td>\n",
       "      <td>2017-05-03 11:05:13</td>\n",
       "      <td>239.90</td>\n",
       "      <td>19.93</td>\n",
       "    </tr>\n",
       "    <tr>\n",
       "      <th>2</th>\n",
       "      <td>000229ec398224ef6ca0657da4fc703e</td>\n",
       "      <td>1</td>\n",
       "      <td>c777355d18b72b67abbeef9df44fd0fd</td>\n",
       "      <td>5b51032eddd242adc84c38acab88f23d</td>\n",
       "      <td>2018-01-18 14:48:30</td>\n",
       "      <td>199.00</td>\n",
       "      <td>17.87</td>\n",
       "    </tr>\n",
       "    <tr>\n",
       "      <th>3</th>\n",
       "      <td>00024acbcdf0a6daa1e931b038114c75</td>\n",
       "      <td>1</td>\n",
       "      <td>7634da152a4610f1595efa32f14722fc</td>\n",
       "      <td>9d7a1d34a5052409006425275ba1c2b4</td>\n",
       "      <td>2018-08-15 10:10:18</td>\n",
       "      <td>12.99</td>\n",
       "      <td>12.79</td>\n",
       "    </tr>\n",
       "    <tr>\n",
       "      <th>4</th>\n",
       "      <td>00042b26cf59d7ce69dfabb4e55b4fd9</td>\n",
       "      <td>1</td>\n",
       "      <td>ac6c3623068f30de03045865e4e10089</td>\n",
       "      <td>df560393f3a51e74553ab94004ba5c87</td>\n",
       "      <td>2017-02-13 13:57:51</td>\n",
       "      <td>199.90</td>\n",
       "      <td>18.14</td>\n",
       "    </tr>\n",
       "  </tbody>\n",
       "</table>\n",
       "</div>"
      ],
      "text/plain": [
       "                           order_id  order_item_id  \\\n",
       "0  00010242fe8c5a6d1ba2dd792cb16214              1   \n",
       "1  00018f77f2f0320c557190d7a144bdd3              1   \n",
       "2  000229ec398224ef6ca0657da4fc703e              1   \n",
       "3  00024acbcdf0a6daa1e931b038114c75              1   \n",
       "4  00042b26cf59d7ce69dfabb4e55b4fd9              1   \n",
       "\n",
       "                         product_id                         seller_id  \\\n",
       "0  4244733e06e7ecb4970a6e2683c13e61  48436dade18ac8b2bce089ec2a041202   \n",
       "1  e5f2d52b802189ee658865ca93d83a8f  dd7ddc04e1b6c2c614352b383efe2d36   \n",
       "2  c777355d18b72b67abbeef9df44fd0fd  5b51032eddd242adc84c38acab88f23d   \n",
       "3  7634da152a4610f1595efa32f14722fc  9d7a1d34a5052409006425275ba1c2b4   \n",
       "4  ac6c3623068f30de03045865e4e10089  df560393f3a51e74553ab94004ba5c87   \n",
       "\n",
       "   shipping_limit_date   price  freight_value  \n",
       "0  2017-09-19 09:45:35   58.90          13.29  \n",
       "1  2017-05-03 11:05:13  239.90          19.93  \n",
       "2  2018-01-18 14:48:30  199.00          17.87  \n",
       "3  2018-08-15 10:10:18   12.99          12.79  \n",
       "4  2017-02-13 13:57:51  199.90          18.14  "
      ]
     },
     "execution_count": 197,
     "metadata": {},
     "output_type": "execute_result"
    }
   ],
   "source": [
    "order_items_dataset.head()"
   ]
  },
  {
   "cell_type": "code",
   "execution_count": 198,
   "id": "2fa9a431-102d-4966-9481-72ca8cbb2375",
   "metadata": {},
   "outputs": [
    {
     "data": {
      "text/plain": [
       "(112650, 7)"
      ]
     },
     "execution_count": 198,
     "metadata": {},
     "output_type": "execute_result"
    }
   ],
   "source": [
    "order_items_dataset.shape"
   ]
  },
  {
   "cell_type": "code",
   "execution_count": 199,
   "id": "63870c90-a370-4813-81c8-0d346f4f245b",
   "metadata": {},
   "outputs": [
    {
     "data": {
      "text/plain": [
       "order_id                object\n",
       "order_item_id            int64\n",
       "product_id              object\n",
       "seller_id               object\n",
       "shipping_limit_date     object\n",
       "price                  float64\n",
       "freight_value          float64\n",
       "dtype: object"
      ]
     },
     "execution_count": 199,
     "metadata": {},
     "output_type": "execute_result"
    }
   ],
   "source": [
    "order_items_dataset.dtypes"
   ]
  },
  {
   "cell_type": "code",
   "execution_count": 200,
   "id": "d7ff91eb-0b8e-43e4-a75f-76bef0921449",
   "metadata": {},
   "outputs": [
    {
     "data": {
      "text/html": [
       "<div>\n",
       "<style scoped>\n",
       "    .dataframe tbody tr th:only-of-type {\n",
       "        vertical-align: middle;\n",
       "    }\n",
       "\n",
       "    .dataframe tbody tr th {\n",
       "        vertical-align: top;\n",
       "    }\n",
       "\n",
       "    .dataframe thead th {\n",
       "        text-align: right;\n",
       "    }\n",
       "</style>\n",
       "<table border=\"1\" class=\"dataframe\">\n",
       "  <thead>\n",
       "    <tr style=\"text-align: right;\">\n",
       "      <th></th>\n",
       "      <th>order_id</th>\n",
       "      <th>order_item_id</th>\n",
       "      <th>product_id</th>\n",
       "      <th>seller_id</th>\n",
       "      <th>shipping_limit_date</th>\n",
       "      <th>price</th>\n",
       "      <th>freight_value</th>\n",
       "    </tr>\n",
       "  </thead>\n",
       "  <tbody>\n",
       "    <tr>\n",
       "      <th>32</th>\n",
       "      <td>00143d0f86d6fbd9f9b38ab440ac16f5</td>\n",
       "      <td>1</td>\n",
       "      <td>e95ee6822b66ac6058e2e4aff656071a</td>\n",
       "      <td>a17f621c590ea0fab3d5d883e1630ec6</td>\n",
       "      <td>2017-10-20 16:07:52</td>\n",
       "      <td>21.33</td>\n",
       "      <td>15.1</td>\n",
       "    </tr>\n",
       "    <tr>\n",
       "      <th>33</th>\n",
       "      <td>00143d0f86d6fbd9f9b38ab440ac16f5</td>\n",
       "      <td>2</td>\n",
       "      <td>e95ee6822b66ac6058e2e4aff656071a</td>\n",
       "      <td>a17f621c590ea0fab3d5d883e1630ec6</td>\n",
       "      <td>2017-10-20 16:07:52</td>\n",
       "      <td>21.33</td>\n",
       "      <td>15.1</td>\n",
       "    </tr>\n",
       "    <tr>\n",
       "      <th>34</th>\n",
       "      <td>00143d0f86d6fbd9f9b38ab440ac16f5</td>\n",
       "      <td>3</td>\n",
       "      <td>e95ee6822b66ac6058e2e4aff656071a</td>\n",
       "      <td>a17f621c590ea0fab3d5d883e1630ec6</td>\n",
       "      <td>2017-10-20 16:07:52</td>\n",
       "      <td>21.33</td>\n",
       "      <td>15.1</td>\n",
       "    </tr>\n",
       "  </tbody>\n",
       "</table>\n",
       "</div>"
      ],
      "text/plain": [
       "                            order_id  order_item_id  \\\n",
       "32  00143d0f86d6fbd9f9b38ab440ac16f5              1   \n",
       "33  00143d0f86d6fbd9f9b38ab440ac16f5              2   \n",
       "34  00143d0f86d6fbd9f9b38ab440ac16f5              3   \n",
       "\n",
       "                          product_id                         seller_id  \\\n",
       "32  e95ee6822b66ac6058e2e4aff656071a  a17f621c590ea0fab3d5d883e1630ec6   \n",
       "33  e95ee6822b66ac6058e2e4aff656071a  a17f621c590ea0fab3d5d883e1630ec6   \n",
       "34  e95ee6822b66ac6058e2e4aff656071a  a17f621c590ea0fab3d5d883e1630ec6   \n",
       "\n",
       "    shipping_limit_date  price  freight_value  \n",
       "32  2017-10-20 16:07:52  21.33           15.1  \n",
       "33  2017-10-20 16:07:52  21.33           15.1  \n",
       "34  2017-10-20 16:07:52  21.33           15.1  "
      ]
     },
     "execution_count": 200,
     "metadata": {},
     "output_type": "execute_result"
    }
   ],
   "source": [
    "productx = order_items_dataset.loc[order_items_dataset.order_id == '00143d0f86d6fbd9f9b38ab440ac16f5']\n",
    "productx"
   ]
  },
  {
   "cell_type": "markdown",
   "id": "dcd8bdc9-46fe-4505-bba4-9810ec6f2f68",
   "metadata": {},
   "source": [
    "### Valores faltantes"
   ]
  },
  {
   "cell_type": "code",
   "execution_count": 201,
   "id": "2a624f3c-171a-46fd-b6ee-75a48d0d9d63",
   "metadata": {},
   "outputs": [
    {
     "data": {
      "text/plain": [
       "order_id               0\n",
       "order_item_id          0\n",
       "product_id             0\n",
       "seller_id              0\n",
       "shipping_limit_date    0\n",
       "price                  0\n",
       "freight_value          0\n",
       "dtype: int64"
      ]
     },
     "execution_count": 201,
     "metadata": {},
     "output_type": "execute_result"
    }
   ],
   "source": [
    "order_items_dataset.isnull().sum()"
   ]
  },
  {
   "cell_type": "markdown",
   "id": "12351db2-5dec-4d35-9d6c-4387681f0099",
   "metadata": {},
   "source": [
    "### Duplicatas"
   ]
  },
  {
   "cell_type": "code",
   "execution_count": 202,
   "id": "0179cc14-ff37-4a17-9f31-7baff49fe801",
   "metadata": {},
   "outputs": [
    {
     "data": {
      "text/plain": [
       "np.int64(0)"
      ]
     },
     "execution_count": 202,
     "metadata": {},
     "output_type": "execute_result"
    }
   ],
   "source": [
    "order_items_dataset.duplicated().sum()"
   ]
  },
  {
   "cell_type": "markdown",
   "id": "bf556574-23d2-48eb-b2f8-b215f0a59e9a",
   "metadata": {},
   "source": [
    "### Excluindo colunas"
   ]
  },
  {
   "cell_type": "code",
   "execution_count": 203,
   "id": "fb1d11c1-fe79-4055-bc1d-3ebd3b30179f",
   "metadata": {},
   "outputs": [],
   "source": [
    "columns_drop = order_items_dataset.columns[[4,5,6]]"
   ]
  },
  {
   "cell_type": "code",
   "execution_count": 204,
   "id": "fa412ffc-187c-4f10-b966-4e030d59b77a",
   "metadata": {},
   "outputs": [],
   "source": [
    "order_items_df_cleaned = order_items_dataset.drop(columns=columns_drop, axis=1)"
   ]
  },
  {
   "cell_type": "code",
   "execution_count": 205,
   "id": "d76dcc75-32f7-4f41-9f7a-274218d023ed",
   "metadata": {},
   "outputs": [
    {
     "data": {
      "text/plain": [
       "order_id         object\n",
       "order_item_id     int64\n",
       "product_id       object\n",
       "seller_id        object\n",
       "dtype: object"
      ]
     },
     "execution_count": 205,
     "metadata": {},
     "output_type": "execute_result"
    }
   ],
   "source": [
    "order_items_df_cleaned.dtypes"
   ]
  },
  {
   "cell_type": "markdown",
   "id": "23c92973-7f0a-40b6-83c4-714f45c20b13",
   "metadata": {
    "jp-MarkdownHeadingCollapsed": true
   },
   "source": [
    "# Order Payments Dataset"
   ]
  },
  {
   "cell_type": "code",
   "execution_count": 206,
   "id": "792b0c49-30ab-4475-b27c-05c578d1b231",
   "metadata": {},
   "outputs": [],
   "source": [
    "order_payments_dataset = pd.read_csv('/home/matsa/Documents/project_sprint02/data/olist_order_payments_dataset.csv')"
   ]
  },
  {
   "cell_type": "code",
   "execution_count": 207,
   "id": "9b85bfac-2818-44e8-b95d-127f36156de2",
   "metadata": {},
   "outputs": [
    {
     "data": {
      "text/html": [
       "<div>\n",
       "<style scoped>\n",
       "    .dataframe tbody tr th:only-of-type {\n",
       "        vertical-align: middle;\n",
       "    }\n",
       "\n",
       "    .dataframe tbody tr th {\n",
       "        vertical-align: top;\n",
       "    }\n",
       "\n",
       "    .dataframe thead th {\n",
       "        text-align: right;\n",
       "    }\n",
       "</style>\n",
       "<table border=\"1\" class=\"dataframe\">\n",
       "  <thead>\n",
       "    <tr style=\"text-align: right;\">\n",
       "      <th></th>\n",
       "      <th>order_id</th>\n",
       "      <th>payment_sequential</th>\n",
       "      <th>payment_type</th>\n",
       "      <th>payment_installments</th>\n",
       "      <th>payment_value</th>\n",
       "    </tr>\n",
       "  </thead>\n",
       "  <tbody>\n",
       "    <tr>\n",
       "      <th>0</th>\n",
       "      <td>b81ef226f3fe1789b1e8b2acac839d17</td>\n",
       "      <td>1</td>\n",
       "      <td>credit_card</td>\n",
       "      <td>8</td>\n",
       "      <td>99.33</td>\n",
       "    </tr>\n",
       "    <tr>\n",
       "      <th>1</th>\n",
       "      <td>a9810da82917af2d9aefd1278f1dcfa0</td>\n",
       "      <td>1</td>\n",
       "      <td>credit_card</td>\n",
       "      <td>1</td>\n",
       "      <td>24.39</td>\n",
       "    </tr>\n",
       "    <tr>\n",
       "      <th>2</th>\n",
       "      <td>25e8ea4e93396b6fa0d3dd708e76c1bd</td>\n",
       "      <td>1</td>\n",
       "      <td>credit_card</td>\n",
       "      <td>1</td>\n",
       "      <td>65.71</td>\n",
       "    </tr>\n",
       "    <tr>\n",
       "      <th>3</th>\n",
       "      <td>ba78997921bbcdc1373bb41e913ab953</td>\n",
       "      <td>1</td>\n",
       "      <td>credit_card</td>\n",
       "      <td>8</td>\n",
       "      <td>107.78</td>\n",
       "    </tr>\n",
       "    <tr>\n",
       "      <th>4</th>\n",
       "      <td>42fdf880ba16b47b59251dd489d4441a</td>\n",
       "      <td>1</td>\n",
       "      <td>credit_card</td>\n",
       "      <td>2</td>\n",
       "      <td>128.45</td>\n",
       "    </tr>\n",
       "  </tbody>\n",
       "</table>\n",
       "</div>"
      ],
      "text/plain": [
       "                           order_id  payment_sequential payment_type  \\\n",
       "0  b81ef226f3fe1789b1e8b2acac839d17                   1  credit_card   \n",
       "1  a9810da82917af2d9aefd1278f1dcfa0                   1  credit_card   \n",
       "2  25e8ea4e93396b6fa0d3dd708e76c1bd                   1  credit_card   \n",
       "3  ba78997921bbcdc1373bb41e913ab953                   1  credit_card   \n",
       "4  42fdf880ba16b47b59251dd489d4441a                   1  credit_card   \n",
       "\n",
       "   payment_installments  payment_value  \n",
       "0                     8          99.33  \n",
       "1                     1          24.39  \n",
       "2                     1          65.71  \n",
       "3                     8         107.78  \n",
       "4                     2         128.45  "
      ]
     },
     "execution_count": 207,
     "metadata": {},
     "output_type": "execute_result"
    }
   ],
   "source": [
    "order_payments_dataset.head()"
   ]
  },
  {
   "cell_type": "code",
   "execution_count": 208,
   "id": "29c2c5dd-c10e-4e48-ab09-c83c93a5b1c0",
   "metadata": {},
   "outputs": [
    {
     "data": {
      "text/html": [
       "<div>\n",
       "<style scoped>\n",
       "    .dataframe tbody tr th:only-of-type {\n",
       "        vertical-align: middle;\n",
       "    }\n",
       "\n",
       "    .dataframe tbody tr th {\n",
       "        vertical-align: top;\n",
       "    }\n",
       "\n",
       "    .dataframe thead th {\n",
       "        text-align: right;\n",
       "    }\n",
       "</style>\n",
       "<table border=\"1\" class=\"dataframe\">\n",
       "  <thead>\n",
       "    <tr style=\"text-align: right;\">\n",
       "      <th></th>\n",
       "      <th>order_id</th>\n",
       "      <th>payment_sequential</th>\n",
       "      <th>payment_type</th>\n",
       "      <th>payment_installments</th>\n",
       "      <th>payment_value</th>\n",
       "    </tr>\n",
       "  </thead>\n",
       "  <tbody>\n",
       "    <tr>\n",
       "      <th>29413</th>\n",
       "      <td>00143d0f86d6fbd9f9b38ab440ac16f5</td>\n",
       "      <td>1</td>\n",
       "      <td>credit_card</td>\n",
       "      <td>1</td>\n",
       "      <td>109.29</td>\n",
       "    </tr>\n",
       "  </tbody>\n",
       "</table>\n",
       "</div>"
      ],
      "text/plain": [
       "                               order_id  payment_sequential payment_type  \\\n",
       "29413  00143d0f86d6fbd9f9b38ab440ac16f5                   1  credit_card   \n",
       "\n",
       "       payment_installments  payment_value  \n",
       "29413                     1         109.29  "
      ]
     },
     "execution_count": 208,
     "metadata": {},
     "output_type": "execute_result"
    }
   ],
   "source": [
    "# procurando pela order_id deixada como exemplo no documento de informações\n",
    "x = order_payments_dataset.loc[order_payments_dataset.order_id == '00143d0f86d6fbd9f9b38ab440ac16f5']\n",
    "x"
   ]
  },
  {
   "cell_type": "code",
   "execution_count": 209,
   "id": "bcd8bf0e-5e4a-48bd-a9b5-7c31a478a79d",
   "metadata": {},
   "outputs": [
    {
     "data": {
      "text/plain": [
       "(103886, 5)"
      ]
     },
     "execution_count": 209,
     "metadata": {},
     "output_type": "execute_result"
    }
   ],
   "source": [
    "order_payments_dataset.shape"
   ]
  },
  {
   "cell_type": "code",
   "execution_count": 210,
   "id": "e4ea2370-596f-469c-96b4-c091dd22b2c2",
   "metadata": {},
   "outputs": [
    {
     "data": {
      "text/plain": [
       "order_id                 object\n",
       "payment_sequential        int64\n",
       "payment_type             object\n",
       "payment_installments      int64\n",
       "payment_value           float64\n",
       "dtype: object"
      ]
     },
     "execution_count": 210,
     "metadata": {},
     "output_type": "execute_result"
    }
   ],
   "source": [
    "order_payments_dataset.dtypes"
   ]
  },
  {
   "cell_type": "markdown",
   "id": "c5cb2c6b-c7f2-469a-9cd4-be7755b58725",
   "metadata": {},
   "source": [
    "### Valores faltantes"
   ]
  },
  {
   "cell_type": "code",
   "execution_count": 211,
   "id": "44102e31-5e7d-42ab-9332-9de9bb916d36",
   "metadata": {},
   "outputs": [
    {
     "data": {
      "text/plain": [
       "order_id                0\n",
       "payment_sequential      0\n",
       "payment_type            0\n",
       "payment_installments    0\n",
       "payment_value           0\n",
       "dtype: int64"
      ]
     },
     "execution_count": 211,
     "metadata": {},
     "output_type": "execute_result"
    }
   ],
   "source": [
    "order_payments_dataset.isnull().sum()"
   ]
  },
  {
   "cell_type": "markdown",
   "id": "6bf1e4ac-f9d5-46bb-bf27-ded9dcc5ed91",
   "metadata": {},
   "source": [
    "### Duplicatas"
   ]
  },
  {
   "cell_type": "code",
   "execution_count": 212,
   "id": "d7c1cf3a-13af-46bf-82df-194792260c85",
   "metadata": {},
   "outputs": [
    {
     "data": {
      "text/plain": [
       "np.int64(0)"
      ]
     },
     "execution_count": 212,
     "metadata": {},
     "output_type": "execute_result"
    }
   ],
   "source": [
    "order_payments_dataset.duplicated().sum()"
   ]
  },
  {
   "cell_type": "markdown",
   "id": "40284244-a7c4-4b78-b54b-f9d5c5a4339a",
   "metadata": {},
   "source": [
    "### Excluindo colunas"
   ]
  },
  {
   "cell_type": "code",
   "execution_count": 213,
   "id": "8ae51259-b296-4325-81d2-05ac79163d74",
   "metadata": {},
   "outputs": [],
   "source": [
    "columns_drop = order_payments_dataset.columns[[1,2,3]]"
   ]
  },
  {
   "cell_type": "code",
   "execution_count": 214,
   "id": "214b1da5-e2e2-4859-a5ac-c742538ac317",
   "metadata": {},
   "outputs": [],
   "source": [
    "order_payments_df_cleaned = order_payments_dataset.drop(columns=columns_drop, axis=1)"
   ]
  },
  {
   "cell_type": "code",
   "execution_count": 215,
   "id": "335dbe58-edd0-47ae-9ceb-104a0d77e81e",
   "metadata": {},
   "outputs": [
    {
     "data": {
      "text/plain": [
       "order_id          object\n",
       "payment_value    float64\n",
       "dtype: object"
      ]
     },
     "execution_count": 215,
     "metadata": {},
     "output_type": "execute_result"
    }
   ],
   "source": [
    "order_payments_df_cleaned.dtypes"
   ]
  },
  {
   "cell_type": "markdown",
   "id": "129dc284-df4f-49e8-9271-2c63dff9fb8e",
   "metadata": {},
   "source": [
    "# Orders Dataset"
   ]
  },
  {
   "cell_type": "code",
   "execution_count": 315,
   "id": "19ee0072-dc8a-49ed-98fc-124cb7f156d4",
   "metadata": {},
   "outputs": [],
   "source": [
    "orders_dataset = pd.read_csv('/home/matsa/Documents/project_sprint02/data/olist_orders_dataset.csv')"
   ]
  },
  {
   "cell_type": "code",
   "execution_count": 316,
   "id": "d5acb5a6-dd78-44cc-934f-59fe684c17d3",
   "metadata": {},
   "outputs": [
    {
     "data": {
      "text/html": [
       "<div>\n",
       "<style scoped>\n",
       "    .dataframe tbody tr th:only-of-type {\n",
       "        vertical-align: middle;\n",
       "    }\n",
       "\n",
       "    .dataframe tbody tr th {\n",
       "        vertical-align: top;\n",
       "    }\n",
       "\n",
       "    .dataframe thead th {\n",
       "        text-align: right;\n",
       "    }\n",
       "</style>\n",
       "<table border=\"1\" class=\"dataframe\">\n",
       "  <thead>\n",
       "    <tr style=\"text-align: right;\">\n",
       "      <th></th>\n",
       "      <th>order_id</th>\n",
       "      <th>customer_id</th>\n",
       "      <th>order_status</th>\n",
       "      <th>order_purchase_timestamp</th>\n",
       "      <th>order_approved_at</th>\n",
       "      <th>order_delivered_carrier_date</th>\n",
       "      <th>order_delivered_customer_date</th>\n",
       "      <th>order_estimated_delivery_date</th>\n",
       "    </tr>\n",
       "  </thead>\n",
       "  <tbody>\n",
       "    <tr>\n",
       "      <th>0</th>\n",
       "      <td>e481f51cbdc54678b7cc49136f2d6af7</td>\n",
       "      <td>9ef432eb6251297304e76186b10a928d</td>\n",
       "      <td>delivered</td>\n",
       "      <td>2017-10-02 10:56:33</td>\n",
       "      <td>2017-10-02 11:07:15</td>\n",
       "      <td>2017-10-04 19:55:00</td>\n",
       "      <td>2017-10-10 21:25:13</td>\n",
       "      <td>2017-10-18 00:00:00</td>\n",
       "    </tr>\n",
       "    <tr>\n",
       "      <th>1</th>\n",
       "      <td>53cdb2fc8bc7dce0b6741e2150273451</td>\n",
       "      <td>b0830fb4747a6c6d20dea0b8c802d7ef</td>\n",
       "      <td>delivered</td>\n",
       "      <td>2018-07-24 20:41:37</td>\n",
       "      <td>2018-07-26 03:24:27</td>\n",
       "      <td>2018-07-26 14:31:00</td>\n",
       "      <td>2018-08-07 15:27:45</td>\n",
       "      <td>2018-08-13 00:00:00</td>\n",
       "    </tr>\n",
       "    <tr>\n",
       "      <th>2</th>\n",
       "      <td>47770eb9100c2d0c44946d9cf07ec65d</td>\n",
       "      <td>41ce2a54c0b03bf3443c3d931a367089</td>\n",
       "      <td>delivered</td>\n",
       "      <td>2018-08-08 08:38:49</td>\n",
       "      <td>2018-08-08 08:55:23</td>\n",
       "      <td>2018-08-08 13:50:00</td>\n",
       "      <td>2018-08-17 18:06:29</td>\n",
       "      <td>2018-09-04 00:00:00</td>\n",
       "    </tr>\n",
       "    <tr>\n",
       "      <th>3</th>\n",
       "      <td>949d5b44dbf5de918fe9c16f97b45f8a</td>\n",
       "      <td>f88197465ea7920adcdbec7375364d82</td>\n",
       "      <td>delivered</td>\n",
       "      <td>2017-11-18 19:28:06</td>\n",
       "      <td>2017-11-18 19:45:59</td>\n",
       "      <td>2017-11-22 13:39:59</td>\n",
       "      <td>2017-12-02 00:28:42</td>\n",
       "      <td>2017-12-15 00:00:00</td>\n",
       "    </tr>\n",
       "    <tr>\n",
       "      <th>4</th>\n",
       "      <td>ad21c59c0840e6cb83a9ceb5573f8159</td>\n",
       "      <td>8ab97904e6daea8866dbdbc4fb7aad2c</td>\n",
       "      <td>delivered</td>\n",
       "      <td>2018-02-13 21:18:39</td>\n",
       "      <td>2018-02-13 22:20:29</td>\n",
       "      <td>2018-02-14 19:46:34</td>\n",
       "      <td>2018-02-16 18:17:02</td>\n",
       "      <td>2018-02-26 00:00:00</td>\n",
       "    </tr>\n",
       "  </tbody>\n",
       "</table>\n",
       "</div>"
      ],
      "text/plain": [
       "                           order_id                       customer_id  \\\n",
       "0  e481f51cbdc54678b7cc49136f2d6af7  9ef432eb6251297304e76186b10a928d   \n",
       "1  53cdb2fc8bc7dce0b6741e2150273451  b0830fb4747a6c6d20dea0b8c802d7ef   \n",
       "2  47770eb9100c2d0c44946d9cf07ec65d  41ce2a54c0b03bf3443c3d931a367089   \n",
       "3  949d5b44dbf5de918fe9c16f97b45f8a  f88197465ea7920adcdbec7375364d82   \n",
       "4  ad21c59c0840e6cb83a9ceb5573f8159  8ab97904e6daea8866dbdbc4fb7aad2c   \n",
       "\n",
       "  order_status order_purchase_timestamp    order_approved_at  \\\n",
       "0    delivered      2017-10-02 10:56:33  2017-10-02 11:07:15   \n",
       "1    delivered      2018-07-24 20:41:37  2018-07-26 03:24:27   \n",
       "2    delivered      2018-08-08 08:38:49  2018-08-08 08:55:23   \n",
       "3    delivered      2017-11-18 19:28:06  2017-11-18 19:45:59   \n",
       "4    delivered      2018-02-13 21:18:39  2018-02-13 22:20:29   \n",
       "\n",
       "  order_delivered_carrier_date order_delivered_customer_date  \\\n",
       "0          2017-10-04 19:55:00           2017-10-10 21:25:13   \n",
       "1          2018-07-26 14:31:00           2018-08-07 15:27:45   \n",
       "2          2018-08-08 13:50:00           2018-08-17 18:06:29   \n",
       "3          2017-11-22 13:39:59           2017-12-02 00:28:42   \n",
       "4          2018-02-14 19:46:34           2018-02-16 18:17:02   \n",
       "\n",
       "  order_estimated_delivery_date  \n",
       "0           2017-10-18 00:00:00  \n",
       "1           2018-08-13 00:00:00  \n",
       "2           2018-09-04 00:00:00  \n",
       "3           2017-12-15 00:00:00  \n",
       "4           2018-02-26 00:00:00  "
      ]
     },
     "execution_count": 316,
     "metadata": {},
     "output_type": "execute_result"
    }
   ],
   "source": [
    "orders_dataset.head()"
   ]
  },
  {
   "cell_type": "code",
   "execution_count": 317,
   "id": "2be44c81-96d6-4668-94cb-9a1d92eb4ba8",
   "metadata": {},
   "outputs": [
    {
     "data": {
      "text/plain": [
       "(99441, 8)"
      ]
     },
     "execution_count": 317,
     "metadata": {},
     "output_type": "execute_result"
    }
   ],
   "source": [
    "orders_dataset.shape"
   ]
  },
  {
   "cell_type": "code",
   "execution_count": 318,
   "id": "05db7a35-b3be-408b-a208-63986f55a154",
   "metadata": {},
   "outputs": [
    {
     "data": {
      "text/plain": [
       "order_id                         object\n",
       "customer_id                      object\n",
       "order_status                     object\n",
       "order_purchase_timestamp         object\n",
       "order_approved_at                object\n",
       "order_delivered_carrier_date     object\n",
       "order_delivered_customer_date    object\n",
       "order_estimated_delivery_date    object\n",
       "dtype: object"
      ]
     },
     "execution_count": 318,
     "metadata": {},
     "output_type": "execute_result"
    }
   ],
   "source": [
    "orders_dataset.dtypes"
   ]
  },
  {
   "cell_type": "markdown",
   "id": "ebd97366-a478-4f70-89d4-bd50d83459fd",
   "metadata": {},
   "source": [
    "### Valores faltantes"
   ]
  },
  {
   "cell_type": "code",
   "execution_count": 319,
   "id": "9195032d-d62d-4f50-a84f-8848a5258ea9",
   "metadata": {},
   "outputs": [
    {
     "data": {
      "text/plain": [
       "order_id                            0\n",
       "customer_id                         0\n",
       "order_status                        0\n",
       "order_purchase_timestamp            0\n",
       "order_approved_at                 160\n",
       "order_delivered_carrier_date     1783\n",
       "order_delivered_customer_date    2965\n",
       "order_estimated_delivery_date       0\n",
       "dtype: int64"
      ]
     },
     "execution_count": 319,
     "metadata": {},
     "output_type": "execute_result"
    }
   ],
   "source": [
    "orders_dataset.isnull().sum()"
   ]
  },
  {
   "cell_type": "code",
   "execution_count": 320,
   "id": "7b056f74-f5b6-4bd6-bf1f-516b3ed48a4f",
   "metadata": {},
   "outputs": [],
   "source": [
    "#excluindo valores NaN\n",
    "orders_dataset.dropna(axis=0, inplace=True)"
   ]
  },
  {
   "cell_type": "code",
   "execution_count": 321,
   "id": "f0544575-8623-46a0-b869-506a7812a48a",
   "metadata": {},
   "outputs": [
    {
     "data": {
      "text/plain": [
       "order_id                         0\n",
       "customer_id                      0\n",
       "order_status                     0\n",
       "order_purchase_timestamp         0\n",
       "order_approved_at                0\n",
       "order_delivered_carrier_date     0\n",
       "order_delivered_customer_date    0\n",
       "order_estimated_delivery_date    0\n",
       "dtype: int64"
      ]
     },
     "execution_count": 321,
     "metadata": {},
     "output_type": "execute_result"
    }
   ],
   "source": [
    "orders_dataset.isnull().sum()"
   ]
  },
  {
   "cell_type": "markdown",
   "id": "d3cdc58b-693b-45ed-bf13-b22cf62ed30f",
   "metadata": {},
   "source": [
    "### Duplicatas"
   ]
  },
  {
   "cell_type": "code",
   "execution_count": 322,
   "id": "12f75c9f-45bf-4182-bf35-96f0d0c28aea",
   "metadata": {},
   "outputs": [
    {
     "data": {
      "text/plain": [
       "False    96461\n",
       "Name: count, dtype: int64"
      ]
     },
     "execution_count": 322,
     "metadata": {},
     "output_type": "execute_result"
    }
   ],
   "source": [
    "orders_dataset.duplicated().value_counts()"
   ]
  },
  {
   "cell_type": "markdown",
   "id": "7a07640f-970d-4d44-8413-a2d17ad8120b",
   "metadata": {},
   "source": [
    "### Últimos 12 meses"
   ]
  },
  {
   "cell_type": "markdown",
   "id": "da8a748a-b835-4eff-84ad-88e55889d053",
   "metadata": {},
   "source": [
    "Convertendo a data do tipo object para date_time, assim fica mais simples manipular as datas"
   ]
  },
  {
   "cell_type": "code",
   "execution_count": 323,
   "id": "065a07e3-027c-4829-a5e0-e2a4399595c3",
   "metadata": {},
   "outputs": [],
   "source": [
    "orders_dataset['order_approved_at'] = pd.to_datetime(orders_dataset.order_approved_at)"
   ]
  },
  {
   "cell_type": "code",
   "execution_count": 324,
   "id": "a1c7cba5-6b33-4b39-9a50-d8378fb31762",
   "metadata": {},
   "outputs": [
    {
     "data": {
      "text/plain": [
       "order_id                                 object\n",
       "customer_id                              object\n",
       "order_status                             object\n",
       "order_purchase_timestamp                 object\n",
       "order_approved_at                datetime64[ns]\n",
       "order_delivered_carrier_date             object\n",
       "order_delivered_customer_date            object\n",
       "order_estimated_delivery_date            object\n",
       "dtype: object"
      ]
     },
     "execution_count": 324,
     "metadata": {},
     "output_type": "execute_result"
    }
   ],
   "source": [
    "orders_dataset.dtypes"
   ]
  },
  {
   "cell_type": "markdown",
   "id": "a2293a4e-b052-4903-be5a-c030a11ace0a",
   "metadata": {},
   "source": [
    "Calculando o intervalo de 12 meses"
   ]
  },
  {
   "cell_type": "code",
   "execution_count": 325,
   "id": "5948f23d-11bd-47e0-a06b-5deb6cb554ac",
   "metadata": {},
   "outputs": [
    {
     "data": {
      "text/plain": [
       "Timestamp('2018-08-29 15:10:26')"
      ]
     },
     "execution_count": 325,
     "metadata": {},
     "output_type": "execute_result"
    }
   ],
   "source": [
    "last_order_date = orders_dataset.order_approved_at.max()\n",
    "last_order_date"
   ]
  },
  {
   "cell_type": "code",
   "execution_count": 326,
   "id": "ce86438f-077d-4277-9c9a-bbd077e67db2",
   "metadata": {},
   "outputs": [
    {
     "data": {
      "text/plain": [
       "Timestamp('2017-08-29 15:10:26')"
      ]
     },
     "execution_count": 326,
     "metadata": {},
     "output_type": "execute_result"
    }
   ],
   "source": [
    "min_order_date = last_order_date - pd.DateOffset(months=12)\n",
    "min_order_date"
   ]
  },
  {
   "cell_type": "code",
   "execution_count": 327,
   "id": "bed4529b-6af9-4cb2-9c89-050ba9456aa9",
   "metadata": {},
   "outputs": [],
   "source": [
    "orders_dataset = orders_dataset.loc[(orders_dataset.order_approved_at >= min_order_date) &\n",
    "                                    (orders_dataset.order_approved_at <= last_order_date)]"
   ]
  },
  {
   "cell_type": "code",
   "execution_count": 328,
   "id": "4c8a7dfb-0d41-41dd-9bd3-4baf6b8cafbb",
   "metadata": {},
   "outputs": [
    {
     "data": {
      "text/plain": [
       "(74641, 8)"
      ]
     },
     "execution_count": 328,
     "metadata": {},
     "output_type": "execute_result"
    }
   ],
   "source": [
    "orders_dataset.shape"
   ]
  },
  {
   "cell_type": "code",
   "execution_count": 329,
   "id": "830719e5-55a9-41d8-805a-aa0b0f99bb22",
   "metadata": {},
   "outputs": [
    {
     "data": {
      "text/plain": [
       "Timestamp('2018-08-29 15:10:26')"
      ]
     },
     "execution_count": 329,
     "metadata": {},
     "output_type": "execute_result"
    }
   ],
   "source": [
    "orders_dataset.order_approved_at.max()"
   ]
  },
  {
   "cell_type": "code",
   "execution_count": 330,
   "id": "bfbb4ef6-232c-40fe-947e-62303cd29b7c",
   "metadata": {},
   "outputs": [
    {
     "data": {
      "text/plain": [
       "Timestamp('2017-08-29 15:35:27')"
      ]
     },
     "execution_count": 330,
     "metadata": {},
     "output_type": "execute_result"
    }
   ],
   "source": [
    "orders_dataset.order_approved_at.min()"
   ]
  },
  {
   "cell_type": "markdown",
   "id": "eafd8009-f509-4104-b9cd-f7429fee74d7",
   "metadata": {},
   "source": [
    "### Excluindo colunas"
   ]
  },
  {
   "cell_type": "code",
   "execution_count": 331,
   "id": "e89d39c9-024f-4929-b700-c914e5dc4aef",
   "metadata": {},
   "outputs": [],
   "source": [
    "columns_drop = orders_dataset.columns[[3,5,6,7]]"
   ]
  },
  {
   "cell_type": "code",
   "execution_count": 332,
   "id": "cd29710d-2377-4786-97d8-07c50bf95cf0",
   "metadata": {},
   "outputs": [],
   "source": [
    "orders_df_cleaned = orders_dataset.drop(columns=columns_drop, axis=1)"
   ]
  },
  {
   "cell_type": "code",
   "execution_count": 333,
   "id": "8c3691bd-7519-4a9c-bccc-ed9bdc0982bd",
   "metadata": {},
   "outputs": [
    {
     "data": {
      "text/plain": [
       "order_id                     object\n",
       "customer_id                  object\n",
       "order_status                 object\n",
       "order_approved_at    datetime64[ns]\n",
       "dtype: object"
      ]
     },
     "execution_count": 333,
     "metadata": {},
     "output_type": "execute_result"
    }
   ],
   "source": [
    "orders_df_cleaned.dtypes"
   ]
  },
  {
   "cell_type": "markdown",
   "id": "fe4c7797-fdd8-4661-8599-b66ee9c5be45",
   "metadata": {
    "jp-MarkdownHeadingCollapsed": true
   },
   "source": [
    "# Products Dataset"
   ]
  },
  {
   "cell_type": "code",
   "execution_count": 235,
   "id": "7692801c-962f-43fb-8197-9ddd4438d2ce",
   "metadata": {},
   "outputs": [
    {
     "data": {
      "text/html": [
       "<div>\n",
       "<style scoped>\n",
       "    .dataframe tbody tr th:only-of-type {\n",
       "        vertical-align: middle;\n",
       "    }\n",
       "\n",
       "    .dataframe tbody tr th {\n",
       "        vertical-align: top;\n",
       "    }\n",
       "\n",
       "    .dataframe thead th {\n",
       "        text-align: right;\n",
       "    }\n",
       "</style>\n",
       "<table border=\"1\" class=\"dataframe\">\n",
       "  <thead>\n",
       "    <tr style=\"text-align: right;\">\n",
       "      <th></th>\n",
       "      <th>product_id</th>\n",
       "      <th>product_category_name</th>\n",
       "      <th>product_name_lenght</th>\n",
       "      <th>product_description_lenght</th>\n",
       "      <th>product_photos_qty</th>\n",
       "      <th>product_weight_g</th>\n",
       "      <th>product_length_cm</th>\n",
       "      <th>product_height_cm</th>\n",
       "      <th>product_width_cm</th>\n",
       "    </tr>\n",
       "  </thead>\n",
       "  <tbody>\n",
       "    <tr>\n",
       "      <th>0</th>\n",
       "      <td>1e9e8ef04dbcff4541ed26657ea517e5</td>\n",
       "      <td>perfumaria</td>\n",
       "      <td>40.0</td>\n",
       "      <td>287.0</td>\n",
       "      <td>1.0</td>\n",
       "      <td>225.0</td>\n",
       "      <td>16.0</td>\n",
       "      <td>10.0</td>\n",
       "      <td>14.0</td>\n",
       "    </tr>\n",
       "    <tr>\n",
       "      <th>1</th>\n",
       "      <td>3aa071139cb16b67ca9e5dea641aaa2f</td>\n",
       "      <td>artes</td>\n",
       "      <td>44.0</td>\n",
       "      <td>276.0</td>\n",
       "      <td>1.0</td>\n",
       "      <td>1000.0</td>\n",
       "      <td>30.0</td>\n",
       "      <td>18.0</td>\n",
       "      <td>20.0</td>\n",
       "    </tr>\n",
       "    <tr>\n",
       "      <th>2</th>\n",
       "      <td>96bd76ec8810374ed1b65e291975717f</td>\n",
       "      <td>esporte_lazer</td>\n",
       "      <td>46.0</td>\n",
       "      <td>250.0</td>\n",
       "      <td>1.0</td>\n",
       "      <td>154.0</td>\n",
       "      <td>18.0</td>\n",
       "      <td>9.0</td>\n",
       "      <td>15.0</td>\n",
       "    </tr>\n",
       "    <tr>\n",
       "      <th>3</th>\n",
       "      <td>cef67bcfe19066a932b7673e239eb23d</td>\n",
       "      <td>bebes</td>\n",
       "      <td>27.0</td>\n",
       "      <td>261.0</td>\n",
       "      <td>1.0</td>\n",
       "      <td>371.0</td>\n",
       "      <td>26.0</td>\n",
       "      <td>4.0</td>\n",
       "      <td>26.0</td>\n",
       "    </tr>\n",
       "    <tr>\n",
       "      <th>4</th>\n",
       "      <td>9dc1a7de274444849c219cff195d0b71</td>\n",
       "      <td>utilidades_domesticas</td>\n",
       "      <td>37.0</td>\n",
       "      <td>402.0</td>\n",
       "      <td>4.0</td>\n",
       "      <td>625.0</td>\n",
       "      <td>20.0</td>\n",
       "      <td>17.0</td>\n",
       "      <td>13.0</td>\n",
       "    </tr>\n",
       "  </tbody>\n",
       "</table>\n",
       "</div>"
      ],
      "text/plain": [
       "                         product_id  product_category_name  \\\n",
       "0  1e9e8ef04dbcff4541ed26657ea517e5             perfumaria   \n",
       "1  3aa071139cb16b67ca9e5dea641aaa2f                  artes   \n",
       "2  96bd76ec8810374ed1b65e291975717f          esporte_lazer   \n",
       "3  cef67bcfe19066a932b7673e239eb23d                  bebes   \n",
       "4  9dc1a7de274444849c219cff195d0b71  utilidades_domesticas   \n",
       "\n",
       "   product_name_lenght  product_description_lenght  product_photos_qty  \\\n",
       "0                 40.0                       287.0                 1.0   \n",
       "1                 44.0                       276.0                 1.0   \n",
       "2                 46.0                       250.0                 1.0   \n",
       "3                 27.0                       261.0                 1.0   \n",
       "4                 37.0                       402.0                 4.0   \n",
       "\n",
       "   product_weight_g  product_length_cm  product_height_cm  product_width_cm  \n",
       "0             225.0               16.0               10.0              14.0  \n",
       "1            1000.0               30.0               18.0              20.0  \n",
       "2             154.0               18.0                9.0              15.0  \n",
       "3             371.0               26.0                4.0              26.0  \n",
       "4             625.0               20.0               17.0              13.0  "
      ]
     },
     "execution_count": 235,
     "metadata": {},
     "output_type": "execute_result"
    }
   ],
   "source": [
    "products_dataset = pd.read_csv('/home/matsa/Documents/project_sprint02/data/olist_products_dataset.csv', \n",
    "                            sep=',', encoding='utf-8')\n",
    "\n",
    "products_dataset.head()"
   ]
  },
  {
   "cell_type": "code",
   "execution_count": 236,
   "id": "53e7e45a-bda8-488b-9fc7-90db1838a496",
   "metadata": {},
   "outputs": [
    {
     "data": {
      "text/plain": [
       "(32951, 9)"
      ]
     },
     "execution_count": 236,
     "metadata": {},
     "output_type": "execute_result"
    }
   ],
   "source": [
    "products_dataset.shape"
   ]
  },
  {
   "cell_type": "code",
   "execution_count": 237,
   "id": "08c3e833-1b9c-4bd7-9e82-12a20bf28ee0",
   "metadata": {},
   "outputs": [
    {
     "data": {
      "text/plain": [
       "product_id                     object\n",
       "product_category_name          object\n",
       "product_name_lenght           float64\n",
       "product_description_lenght    float64\n",
       "product_photos_qty            float64\n",
       "product_weight_g              float64\n",
       "product_length_cm             float64\n",
       "product_height_cm             float64\n",
       "product_width_cm              float64\n",
       "dtype: object"
      ]
     },
     "execution_count": 237,
     "metadata": {},
     "output_type": "execute_result"
    }
   ],
   "source": [
    "products_dataset.dtypes"
   ]
  },
  {
   "cell_type": "markdown",
   "id": "48b92f1c-47ff-4ad3-a59e-1301d4beb1c9",
   "metadata": {},
   "source": [
    "### Valores faltantes"
   ]
  },
  {
   "cell_type": "code",
   "execution_count": 238,
   "id": "e3821e5b-232e-4767-ab3f-c8a480cd1090",
   "metadata": {},
   "outputs": [
    {
     "data": {
      "text/plain": [
       "product_id                      0\n",
       "product_category_name         610\n",
       "product_name_lenght           610\n",
       "product_description_lenght    610\n",
       "product_photos_qty            610\n",
       "product_weight_g                2\n",
       "product_length_cm               2\n",
       "product_height_cm               2\n",
       "product_width_cm                2\n",
       "dtype: int64"
      ]
     },
     "execution_count": 238,
     "metadata": {},
     "output_type": "execute_result"
    }
   ],
   "source": [
    "products_dataset.isnull().sum()"
   ]
  },
  {
   "cell_type": "code",
   "execution_count": 239,
   "id": "0443c058-fc50-48f1-8748-f89772190940",
   "metadata": {},
   "outputs": [
    {
     "data": {
      "text/html": [
       "<div>\n",
       "<style scoped>\n",
       "    .dataframe tbody tr th:only-of-type {\n",
       "        vertical-align: middle;\n",
       "    }\n",
       "\n",
       "    .dataframe tbody tr th {\n",
       "        vertical-align: top;\n",
       "    }\n",
       "\n",
       "    .dataframe thead th {\n",
       "        text-align: right;\n",
       "    }\n",
       "</style>\n",
       "<table border=\"1\" class=\"dataframe\">\n",
       "  <thead>\n",
       "    <tr style=\"text-align: right;\">\n",
       "      <th></th>\n",
       "      <th>product_id</th>\n",
       "      <th>product_category_name</th>\n",
       "      <th>product_name_lenght</th>\n",
       "      <th>product_description_lenght</th>\n",
       "      <th>product_photos_qty</th>\n",
       "      <th>product_weight_g</th>\n",
       "      <th>product_length_cm</th>\n",
       "      <th>product_height_cm</th>\n",
       "      <th>product_width_cm</th>\n",
       "    </tr>\n",
       "  </thead>\n",
       "  <tbody>\n",
       "    <tr>\n",
       "      <th>105</th>\n",
       "      <td>a41e356c76fab66334f36de622ecbd3a</td>\n",
       "      <td>NaN</td>\n",
       "      <td>NaN</td>\n",
       "      <td>NaN</td>\n",
       "      <td>NaN</td>\n",
       "      <td>650.0</td>\n",
       "      <td>17.0</td>\n",
       "      <td>14.0</td>\n",
       "      <td>12.0</td>\n",
       "    </tr>\n",
       "    <tr>\n",
       "      <th>128</th>\n",
       "      <td>d8dee61c2034d6d075997acef1870e9b</td>\n",
       "      <td>NaN</td>\n",
       "      <td>NaN</td>\n",
       "      <td>NaN</td>\n",
       "      <td>NaN</td>\n",
       "      <td>300.0</td>\n",
       "      <td>16.0</td>\n",
       "      <td>7.0</td>\n",
       "      <td>20.0</td>\n",
       "    </tr>\n",
       "    <tr>\n",
       "      <th>145</th>\n",
       "      <td>56139431d72cd51f19eb9f7dae4d1617</td>\n",
       "      <td>NaN</td>\n",
       "      <td>NaN</td>\n",
       "      <td>NaN</td>\n",
       "      <td>NaN</td>\n",
       "      <td>200.0</td>\n",
       "      <td>20.0</td>\n",
       "      <td>20.0</td>\n",
       "      <td>20.0</td>\n",
       "    </tr>\n",
       "    <tr>\n",
       "      <th>154</th>\n",
       "      <td>46b48281eb6d663ced748f324108c733</td>\n",
       "      <td>NaN</td>\n",
       "      <td>NaN</td>\n",
       "      <td>NaN</td>\n",
       "      <td>NaN</td>\n",
       "      <td>18500.0</td>\n",
       "      <td>41.0</td>\n",
       "      <td>30.0</td>\n",
       "      <td>41.0</td>\n",
       "    </tr>\n",
       "    <tr>\n",
       "      <th>197</th>\n",
       "      <td>5fb61f482620cb672f5e586bb132eae9</td>\n",
       "      <td>NaN</td>\n",
       "      <td>NaN</td>\n",
       "      <td>NaN</td>\n",
       "      <td>NaN</td>\n",
       "      <td>300.0</td>\n",
       "      <td>35.0</td>\n",
       "      <td>7.0</td>\n",
       "      <td>12.0</td>\n",
       "    </tr>\n",
       "  </tbody>\n",
       "</table>\n",
       "</div>"
      ],
      "text/plain": [
       "                           product_id product_category_name  \\\n",
       "105  a41e356c76fab66334f36de622ecbd3a                   NaN   \n",
       "128  d8dee61c2034d6d075997acef1870e9b                   NaN   \n",
       "145  56139431d72cd51f19eb9f7dae4d1617                   NaN   \n",
       "154  46b48281eb6d663ced748f324108c733                   NaN   \n",
       "197  5fb61f482620cb672f5e586bb132eae9                   NaN   \n",
       "\n",
       "     product_name_lenght  product_description_lenght  product_photos_qty  \\\n",
       "105                  NaN                         NaN                 NaN   \n",
       "128                  NaN                         NaN                 NaN   \n",
       "145                  NaN                         NaN                 NaN   \n",
       "154                  NaN                         NaN                 NaN   \n",
       "197                  NaN                         NaN                 NaN   \n",
       "\n",
       "     product_weight_g  product_length_cm  product_height_cm  product_width_cm  \n",
       "105             650.0               17.0               14.0              12.0  \n",
       "128             300.0               16.0                7.0              20.0  \n",
       "145             200.0               20.0               20.0              20.0  \n",
       "154           18500.0               41.0               30.0              41.0  \n",
       "197             300.0               35.0                7.0              12.0  "
      ]
     },
     "execution_count": 239,
     "metadata": {},
     "output_type": "execute_result"
    }
   ],
   "source": [
    "null_values = products_dataset[products_dataset.product_category_name.isnull()]\n",
    "null_values.head()"
   ]
  },
  {
   "cell_type": "code",
   "execution_count": 240,
   "id": "4a6f8ecc-3829-4c65-8b28-c96c460fb4bc",
   "metadata": {},
   "outputs": [
    {
     "data": {
      "text/html": [
       "<div>\n",
       "<style scoped>\n",
       "    .dataframe tbody tr th:only-of-type {\n",
       "        vertical-align: middle;\n",
       "    }\n",
       "\n",
       "    .dataframe tbody tr th {\n",
       "        vertical-align: top;\n",
       "    }\n",
       "\n",
       "    .dataframe thead th {\n",
       "        text-align: right;\n",
       "    }\n",
       "</style>\n",
       "<table border=\"1\" class=\"dataframe\">\n",
       "  <thead>\n",
       "    <tr style=\"text-align: right;\">\n",
       "      <th></th>\n",
       "      <th>product_id</th>\n",
       "      <th>product_category_name</th>\n",
       "      <th>product_name_lenght</th>\n",
       "      <th>product_description_lenght</th>\n",
       "      <th>product_photos_qty</th>\n",
       "      <th>product_weight_g</th>\n",
       "      <th>product_length_cm</th>\n",
       "      <th>product_height_cm</th>\n",
       "      <th>product_width_cm</th>\n",
       "    </tr>\n",
       "  </thead>\n",
       "  <tbody>\n",
       "    <tr>\n",
       "      <th>8578</th>\n",
       "      <td>09ff539a621711667c43eba6a3bd8466</td>\n",
       "      <td>bebes</td>\n",
       "      <td>60.0</td>\n",
       "      <td>865.0</td>\n",
       "      <td>3.0</td>\n",
       "      <td>NaN</td>\n",
       "      <td>NaN</td>\n",
       "      <td>NaN</td>\n",
       "      <td>NaN</td>\n",
       "    </tr>\n",
       "    <tr>\n",
       "      <th>18851</th>\n",
       "      <td>5eb564652db742ff8f28759cd8d2652a</td>\n",
       "      <td>NaN</td>\n",
       "      <td>NaN</td>\n",
       "      <td>NaN</td>\n",
       "      <td>NaN</td>\n",
       "      <td>NaN</td>\n",
       "      <td>NaN</td>\n",
       "      <td>NaN</td>\n",
       "      <td>NaN</td>\n",
       "    </tr>\n",
       "  </tbody>\n",
       "</table>\n",
       "</div>"
      ],
      "text/plain": [
       "                             product_id product_category_name  \\\n",
       "8578   09ff539a621711667c43eba6a3bd8466                 bebes   \n",
       "18851  5eb564652db742ff8f28759cd8d2652a                   NaN   \n",
       "\n",
       "       product_name_lenght  product_description_lenght  product_photos_qty  \\\n",
       "8578                  60.0                       865.0                 3.0   \n",
       "18851                  NaN                         NaN                 NaN   \n",
       "\n",
       "       product_weight_g  product_length_cm  product_height_cm  \\\n",
       "8578                NaN                NaN                NaN   \n",
       "18851               NaN                NaN                NaN   \n",
       "\n",
       "       product_width_cm  \n",
       "8578                NaN  \n",
       "18851               NaN  "
      ]
     },
     "execution_count": 240,
     "metadata": {},
     "output_type": "execute_result"
    }
   ],
   "source": [
    "null_values = products_dataset[products_dataset.product_weight_g.isnull()]\n",
    "null_values"
   ]
  },
  {
   "cell_type": "markdown",
   "id": "4b746e4b-df5a-4e8c-bc2d-cfebc5bd2cda",
   "metadata": {},
   "source": [
    "A ideia é excluir apenas os registros em que o **'product_category_name' é NaN**, pois registros com esse valor faltante não vão auxiliar na análise"
   ]
  },
  {
   "cell_type": "code",
   "execution_count": 241,
   "id": "83d2e449-018a-44f2-bf2e-0f2d111fc0ad",
   "metadata": {},
   "outputs": [],
   "source": [
    "products_dataset = products_dataset.dropna(subset=['product_category_name'], axis=0) "
   ]
  },
  {
   "cell_type": "code",
   "execution_count": 242,
   "id": "25aa2064-86d0-45b0-ac90-954fc1b6446a",
   "metadata": {},
   "outputs": [
    {
     "data": {
      "text/plain": [
       "product_id                    0\n",
       "product_category_name         0\n",
       "product_name_lenght           0\n",
       "product_description_lenght    0\n",
       "product_photos_qty            0\n",
       "product_weight_g              1\n",
       "product_length_cm             1\n",
       "product_height_cm             1\n",
       "product_width_cm              1\n",
       "dtype: int64"
      ]
     },
     "execution_count": 242,
     "metadata": {},
     "output_type": "execute_result"
    }
   ],
   "source": [
    "products_dataset.isnull().sum()"
   ]
  },
  {
   "cell_type": "markdown",
   "id": "bf827737-08b0-4285-bb25-3b9a7164b621",
   "metadata": {},
   "source": [
    "### Removendo colunas\n",
    "\n",
    "Tomei como conclusão que as colunas abaixo não vão auxiliar na análise"
   ]
  },
  {
   "cell_type": "code",
   "execution_count": 243,
   "id": "26466dab-a78e-4d40-9efd-78b16cc29e30",
   "metadata": {},
   "outputs": [],
   "source": [
    "columns_drop = products_dataset.columns[[2,3,4,5,6,7,8]]"
   ]
  },
  {
   "cell_type": "code",
   "execution_count": 244,
   "id": "6a89f621-33e6-4713-9fd9-7f8258cac381",
   "metadata": {},
   "outputs": [],
   "source": [
    "products_df_cleaned = products_dataset.drop(columns=columns_drop, axis=1)"
   ]
  },
  {
   "cell_type": "code",
   "execution_count": 245,
   "id": "1470527c-cfa9-466f-bba7-feb45b41e556",
   "metadata": {},
   "outputs": [
    {
     "data": {
      "text/plain": [
       "(32341, 2)"
      ]
     },
     "execution_count": 245,
     "metadata": {},
     "output_type": "execute_result"
    }
   ],
   "source": [
    "products_df_cleaned.shape"
   ]
  },
  {
   "cell_type": "markdown",
   "id": "ec2f331d-2ef5-4f4c-833c-df4844ba38ab",
   "metadata": {},
   "source": [
    "### Duplicatas"
   ]
  },
  {
   "cell_type": "code",
   "execution_count": 246,
   "id": "e92195f2-5877-4020-ae83-06f16454c7e7",
   "metadata": {},
   "outputs": [
    {
     "data": {
      "text/plain": [
       "False    32341\n",
       "Name: count, dtype: int64"
      ]
     },
     "execution_count": 246,
     "metadata": {},
     "output_type": "execute_result"
    }
   ],
   "source": [
    "products_df_cleaned.duplicated().value_counts()"
   ]
  },
  {
   "cell_type": "markdown",
   "id": "01139db9-e2e4-44cb-9583-27e135e6af79",
   "metadata": {
    "jp-MarkdownHeadingCollapsed": true
   },
   "source": [
    "# Customers Dataset"
   ]
  },
  {
   "cell_type": "code",
   "execution_count": 247,
   "id": "582300b7-bcbf-4a5f-b837-06a95f06ac00",
   "metadata": {},
   "outputs": [],
   "source": [
    "customers_dataset = pd.read_csv('/home/matsa/Documents/project_sprint02/data/olist_customers_dataset.csv', \n",
    "                            sep=',', encoding='utf-8')"
   ]
  },
  {
   "cell_type": "code",
   "execution_count": 248,
   "id": "6ad525a2-7c0e-4522-a3c0-0f5bd1b8bbdf",
   "metadata": {},
   "outputs": [
    {
     "data": {
      "text/html": [
       "<div>\n",
       "<style scoped>\n",
       "    .dataframe tbody tr th:only-of-type {\n",
       "        vertical-align: middle;\n",
       "    }\n",
       "\n",
       "    .dataframe tbody tr th {\n",
       "        vertical-align: top;\n",
       "    }\n",
       "\n",
       "    .dataframe thead th {\n",
       "        text-align: right;\n",
       "    }\n",
       "</style>\n",
       "<table border=\"1\" class=\"dataframe\">\n",
       "  <thead>\n",
       "    <tr style=\"text-align: right;\">\n",
       "      <th></th>\n",
       "      <th>customer_id</th>\n",
       "      <th>customer_unique_id</th>\n",
       "      <th>customer_zip_code_prefix</th>\n",
       "      <th>customer_city</th>\n",
       "      <th>customer_state</th>\n",
       "    </tr>\n",
       "  </thead>\n",
       "  <tbody>\n",
       "    <tr>\n",
       "      <th>0</th>\n",
       "      <td>06b8999e2fba1a1fbc88172c00ba8bc7</td>\n",
       "      <td>861eff4711a542e4b93843c6dd7febb0</td>\n",
       "      <td>14409</td>\n",
       "      <td>franca</td>\n",
       "      <td>SP</td>\n",
       "    </tr>\n",
       "    <tr>\n",
       "      <th>1</th>\n",
       "      <td>18955e83d337fd6b2def6b18a428ac77</td>\n",
       "      <td>290c77bc529b7ac935b93aa66c333dc3</td>\n",
       "      <td>9790</td>\n",
       "      <td>sao bernardo do campo</td>\n",
       "      <td>SP</td>\n",
       "    </tr>\n",
       "    <tr>\n",
       "      <th>2</th>\n",
       "      <td>4e7b3e00288586ebd08712fdd0374a03</td>\n",
       "      <td>060e732b5b29e8181a18229c7b0b2b5e</td>\n",
       "      <td>1151</td>\n",
       "      <td>sao paulo</td>\n",
       "      <td>SP</td>\n",
       "    </tr>\n",
       "    <tr>\n",
       "      <th>3</th>\n",
       "      <td>b2b6027bc5c5109e529d4dc6358b12c3</td>\n",
       "      <td>259dac757896d24d7702b9acbbff3f3c</td>\n",
       "      <td>8775</td>\n",
       "      <td>mogi das cruzes</td>\n",
       "      <td>SP</td>\n",
       "    </tr>\n",
       "    <tr>\n",
       "      <th>4</th>\n",
       "      <td>4f2d8ab171c80ec8364f7c12e35b23ad</td>\n",
       "      <td>345ecd01c38d18a9036ed96c73b8d066</td>\n",
       "      <td>13056</td>\n",
       "      <td>campinas</td>\n",
       "      <td>SP</td>\n",
       "    </tr>\n",
       "  </tbody>\n",
       "</table>\n",
       "</div>"
      ],
      "text/plain": [
       "                        customer_id                customer_unique_id  \\\n",
       "0  06b8999e2fba1a1fbc88172c00ba8bc7  861eff4711a542e4b93843c6dd7febb0   \n",
       "1  18955e83d337fd6b2def6b18a428ac77  290c77bc529b7ac935b93aa66c333dc3   \n",
       "2  4e7b3e00288586ebd08712fdd0374a03  060e732b5b29e8181a18229c7b0b2b5e   \n",
       "3  b2b6027bc5c5109e529d4dc6358b12c3  259dac757896d24d7702b9acbbff3f3c   \n",
       "4  4f2d8ab171c80ec8364f7c12e35b23ad  345ecd01c38d18a9036ed96c73b8d066   \n",
       "\n",
       "   customer_zip_code_prefix          customer_city customer_state  \n",
       "0                     14409                 franca             SP  \n",
       "1                      9790  sao bernardo do campo             SP  \n",
       "2                      1151              sao paulo             SP  \n",
       "3                      8775        mogi das cruzes             SP  \n",
       "4                     13056               campinas             SP  "
      ]
     },
     "execution_count": 248,
     "metadata": {},
     "output_type": "execute_result"
    }
   ],
   "source": [
    "customers_dataset.head()"
   ]
  },
  {
   "cell_type": "code",
   "execution_count": 249,
   "id": "88f277e6-1a95-4b33-9ad2-da2534506188",
   "metadata": {},
   "outputs": [
    {
     "data": {
      "text/plain": [
       "(99441, 5)"
      ]
     },
     "execution_count": 249,
     "metadata": {},
     "output_type": "execute_result"
    }
   ],
   "source": [
    "customers_dataset.shape"
   ]
  },
  {
   "cell_type": "code",
   "execution_count": 250,
   "id": "d7f8d454-2a5d-4c06-94cd-540355ea89c0",
   "metadata": {},
   "outputs": [
    {
     "data": {
      "text/plain": [
       "customer_id                 object\n",
       "customer_unique_id          object\n",
       "customer_zip_code_prefix     int64\n",
       "customer_city               object\n",
       "customer_state              object\n",
       "dtype: object"
      ]
     },
     "execution_count": 250,
     "metadata": {},
     "output_type": "execute_result"
    }
   ],
   "source": [
    "customers_dataset.dtypes"
   ]
  },
  {
   "cell_type": "markdown",
   "id": "9f8b5a44-d0c8-4812-83fb-28edb805b059",
   "metadata": {},
   "source": [
    "### Valores faltantes"
   ]
  },
  {
   "cell_type": "code",
   "execution_count": 251,
   "id": "af50ddf6-4f74-43e8-acb4-a807d111a783",
   "metadata": {},
   "outputs": [
    {
     "data": {
      "text/plain": [
       "customer_id                 0\n",
       "customer_unique_id          0\n",
       "customer_zip_code_prefix    0\n",
       "customer_city               0\n",
       "customer_state              0\n",
       "dtype: int64"
      ]
     },
     "execution_count": 251,
     "metadata": {},
     "output_type": "execute_result"
    }
   ],
   "source": [
    "customers_dataset.isnull().sum()"
   ]
  },
  {
   "cell_type": "markdown",
   "id": "4add951e-14e4-403d-9d11-91aa45170e35",
   "metadata": {},
   "source": [
    "### Duplicatas"
   ]
  },
  {
   "cell_type": "code",
   "execution_count": 252,
   "id": "cbda3264-1cb4-4af7-9d1d-da96e72d0e74",
   "metadata": {},
   "outputs": [
    {
     "data": {
      "text/plain": [
       "False    99441\n",
       "Name: count, dtype: int64"
      ]
     },
     "execution_count": 252,
     "metadata": {},
     "output_type": "execute_result"
    }
   ],
   "source": [
    "customers_dataset.duplicated().value_counts()"
   ]
  },
  {
   "cell_type": "markdown",
   "id": "3a99393d-d5e9-47bc-896e-33d3db37c9b6",
   "metadata": {},
   "source": [
    "As duplicatas são clientes que realizaram compras mais de uma vez"
   ]
  },
  {
   "cell_type": "code",
   "execution_count": 253,
   "id": "63952a9b-4926-4bee-8248-54f47de1bb12",
   "metadata": {},
   "outputs": [
    {
     "data": {
      "text/plain": [
       "customer_unique_id\n",
       "False    96096\n",
       "True      3345\n",
       "Name: count, dtype: int64"
      ]
     },
     "execution_count": 253,
     "metadata": {},
     "output_type": "execute_result"
    }
   ],
   "source": [
    "customers_dataset.customer_unique_id.duplicated().value_counts()"
   ]
  },
  {
   "cell_type": "markdown",
   "id": "eaa19600-5d5e-4950-8d56-46b96ae14ac7",
   "metadata": {},
   "source": [
    "### Excluindo colunas"
   ]
  },
  {
   "cell_type": "code",
   "execution_count": 254,
   "id": "0ff35732-f8e7-4ee8-b95f-9f76dba0d42b",
   "metadata": {},
   "outputs": [],
   "source": [
    "columns_drop = customers_dataset.columns[[2,3,4]]"
   ]
  },
  {
   "cell_type": "code",
   "execution_count": 255,
   "id": "ba43d6a2-9b1e-43fa-974a-7e9b266a72df",
   "metadata": {},
   "outputs": [],
   "source": [
    "customers_df_cleaned = customers_dataset.drop(columns=columns_drop, axis=1)"
   ]
  },
  {
   "cell_type": "code",
   "execution_count": 256,
   "id": "d25c2671-791e-4aec-9d78-60decf8d275b",
   "metadata": {},
   "outputs": [
    {
     "data": {
      "text/plain": [
       "customer_id           object\n",
       "customer_unique_id    object\n",
       "dtype: object"
      ]
     },
     "execution_count": 256,
     "metadata": {},
     "output_type": "execute_result"
    }
   ],
   "source": [
    "customers_df_cleaned.dtypes"
   ]
  },
  {
   "cell_type": "markdown",
   "id": "c6d6c2df-3d64-43ac-a6ed-44d71a5dbfba",
   "metadata": {
    "jp-MarkdownHeadingCollapsed": true
   },
   "source": [
    "# Sellers Dataset"
   ]
  },
  {
   "cell_type": "code",
   "execution_count": 257,
   "id": "71d08011-76be-48c4-93d9-b88a56634f2a",
   "metadata": {},
   "outputs": [],
   "source": [
    "sellers_dataset = pd.read_csv('/home/matsa/Documents/project_sprint02/data/olist_sellers_dataset.csv', \n",
    "                            sep=',', encoding='utf-8')"
   ]
  },
  {
   "cell_type": "code",
   "execution_count": 258,
   "id": "c25bc84f-8004-49b8-8768-7478efef6c05",
   "metadata": {},
   "outputs": [
    {
     "data": {
      "text/html": [
       "<div>\n",
       "<style scoped>\n",
       "    .dataframe tbody tr th:only-of-type {\n",
       "        vertical-align: middle;\n",
       "    }\n",
       "\n",
       "    .dataframe tbody tr th {\n",
       "        vertical-align: top;\n",
       "    }\n",
       "\n",
       "    .dataframe thead th {\n",
       "        text-align: right;\n",
       "    }\n",
       "</style>\n",
       "<table border=\"1\" class=\"dataframe\">\n",
       "  <thead>\n",
       "    <tr style=\"text-align: right;\">\n",
       "      <th></th>\n",
       "      <th>seller_id</th>\n",
       "      <th>seller_zip_code_prefix</th>\n",
       "      <th>seller_city</th>\n",
       "      <th>seller_state</th>\n",
       "    </tr>\n",
       "  </thead>\n",
       "  <tbody>\n",
       "    <tr>\n",
       "      <th>0</th>\n",
       "      <td>3442f8959a84dea7ee197c632cb2df15</td>\n",
       "      <td>13023</td>\n",
       "      <td>campinas</td>\n",
       "      <td>SP</td>\n",
       "    </tr>\n",
       "    <tr>\n",
       "      <th>1</th>\n",
       "      <td>d1b65fc7debc3361ea86b5f14c68d2e2</td>\n",
       "      <td>13844</td>\n",
       "      <td>mogi guacu</td>\n",
       "      <td>SP</td>\n",
       "    </tr>\n",
       "    <tr>\n",
       "      <th>2</th>\n",
       "      <td>ce3ad9de960102d0677a81f5d0bb7b2d</td>\n",
       "      <td>20031</td>\n",
       "      <td>rio de janeiro</td>\n",
       "      <td>RJ</td>\n",
       "    </tr>\n",
       "    <tr>\n",
       "      <th>3</th>\n",
       "      <td>c0f3eea2e14555b6faeea3dd58c1b1c3</td>\n",
       "      <td>4195</td>\n",
       "      <td>sao paulo</td>\n",
       "      <td>SP</td>\n",
       "    </tr>\n",
       "    <tr>\n",
       "      <th>4</th>\n",
       "      <td>51a04a8a6bdcb23deccc82b0b80742cf</td>\n",
       "      <td>12914</td>\n",
       "      <td>braganca paulista</td>\n",
       "      <td>SP</td>\n",
       "    </tr>\n",
       "  </tbody>\n",
       "</table>\n",
       "</div>"
      ],
      "text/plain": [
       "                          seller_id  seller_zip_code_prefix  \\\n",
       "0  3442f8959a84dea7ee197c632cb2df15                   13023   \n",
       "1  d1b65fc7debc3361ea86b5f14c68d2e2                   13844   \n",
       "2  ce3ad9de960102d0677a81f5d0bb7b2d                   20031   \n",
       "3  c0f3eea2e14555b6faeea3dd58c1b1c3                    4195   \n",
       "4  51a04a8a6bdcb23deccc82b0b80742cf                   12914   \n",
       "\n",
       "         seller_city seller_state  \n",
       "0           campinas           SP  \n",
       "1         mogi guacu           SP  \n",
       "2     rio de janeiro           RJ  \n",
       "3          sao paulo           SP  \n",
       "4  braganca paulista           SP  "
      ]
     },
     "execution_count": 258,
     "metadata": {},
     "output_type": "execute_result"
    }
   ],
   "source": [
    "sellers_dataset.head()"
   ]
  },
  {
   "cell_type": "code",
   "execution_count": 259,
   "id": "6a01523d-7ee3-4874-b577-ad26e3ea5bee",
   "metadata": {},
   "outputs": [
    {
     "data": {
      "text/plain": [
       "seller_id                 object\n",
       "seller_zip_code_prefix     int64\n",
       "seller_city               object\n",
       "seller_state              object\n",
       "dtype: object"
      ]
     },
     "execution_count": 259,
     "metadata": {},
     "output_type": "execute_result"
    }
   ],
   "source": [
    "sellers_dataset.dtypes"
   ]
  },
  {
   "cell_type": "code",
   "execution_count": 260,
   "id": "88f29edd-7ffc-42a9-86c8-f5d489c18dcf",
   "metadata": {},
   "outputs": [
    {
     "data": {
      "text/plain": [
       "(3095, 4)"
      ]
     },
     "execution_count": 260,
     "metadata": {},
     "output_type": "execute_result"
    }
   ],
   "source": [
    "sellers_dataset.shape"
   ]
  },
  {
   "cell_type": "markdown",
   "id": "ba2da421-d446-40fb-8c78-af05e18850b8",
   "metadata": {},
   "source": [
    "### Valores faltantes"
   ]
  },
  {
   "cell_type": "code",
   "execution_count": 261,
   "id": "9b84c645-e753-43ce-a301-4c4eb638f49d",
   "metadata": {},
   "outputs": [
    {
     "data": {
      "text/plain": [
       "seller_id                 0\n",
       "seller_zip_code_prefix    0\n",
       "seller_city               0\n",
       "seller_state              0\n",
       "dtype: int64"
      ]
     },
     "execution_count": 261,
     "metadata": {},
     "output_type": "execute_result"
    }
   ],
   "source": [
    "sellers_dataset.isnull().sum()"
   ]
  },
  {
   "cell_type": "markdown",
   "id": "7009bc72-807e-4f44-bb92-8cb2a7411184",
   "metadata": {},
   "source": [
    "### Duplicatas"
   ]
  },
  {
   "cell_type": "code",
   "execution_count": 262,
   "id": "24ddb27e-f402-489f-8e35-0574c614cdc2",
   "metadata": {},
   "outputs": [
    {
     "data": {
      "text/plain": [
       "np.int64(0)"
      ]
     },
     "execution_count": 262,
     "metadata": {},
     "output_type": "execute_result"
    }
   ],
   "source": [
    "sellers_dataset.duplicated().sum()"
   ]
  },
  {
   "cell_type": "code",
   "execution_count": 263,
   "id": "1b28c53e-5c43-4fab-b158-85f9f7dd2e5c",
   "metadata": {},
   "outputs": [
    {
     "data": {
      "text/plain": [
       "False    3095\n",
       "Name: count, dtype: int64"
      ]
     },
     "execution_count": 263,
     "metadata": {},
     "output_type": "execute_result"
    }
   ],
   "source": [
    "sellers_dataset.duplicated().value_counts()"
   ]
  },
  {
   "cell_type": "markdown",
   "id": "f33d0c95-529f-4cef-b535-60cbe2a389ec",
   "metadata": {},
   "source": [
    "### Excluindo colunas"
   ]
  },
  {
   "cell_type": "code",
   "execution_count": 264,
   "id": "d8a1da8d-b7f0-49e7-a129-eeef473e7a2b",
   "metadata": {},
   "outputs": [],
   "source": [
    "columns_drop = sellers_dataset.columns[[1,2,3]]"
   ]
  },
  {
   "cell_type": "code",
   "execution_count": 265,
   "id": "57ccee79-f8e7-4386-a004-e6ce8f623902",
   "metadata": {},
   "outputs": [],
   "source": [
    "sellers_df_cleaned = sellers_dataset.drop(columns=columns_drop, axis=1)"
   ]
  },
  {
   "cell_type": "code",
   "execution_count": 266,
   "id": "32eaaf60-a352-42a8-9e82-d456db824457",
   "metadata": {},
   "outputs": [
    {
     "data": {
      "text/plain": [
       "seller_id    object\n",
       "dtype: object"
      ]
     },
     "execution_count": 266,
     "metadata": {},
     "output_type": "execute_result"
    }
   ],
   "source": [
    "sellers_df_cleaned.dtypes"
   ]
  },
  {
   "cell_type": "markdown",
   "id": "2f43f7cc-6fba-4426-8162-69afd1256bbc",
   "metadata": {},
   "source": [
    "# ---------------------------------------------------------------------------------------------------------------------"
   ]
  },
  {
   "cell_type": "markdown",
   "id": "adb3986a-8e40-445d-925b-190a065c5909",
   "metadata": {
    "jp-MarkdownHeadingCollapsed": true
   },
   "source": [
    "# Quais são as categorias com maior e menor receita?"
   ]
  },
  {
   "cell_type": "markdown",
   "id": "9c0d6c46-0cfe-4e66-a814-40fe83b8bf05",
   "metadata": {},
   "source": [
    "### Merge dos datasets products, order items, orders e order payments"
   ]
  },
  {
   "cell_type": "code",
   "execution_count": 267,
   "id": "6ad33a5a-a32e-4cde-a3c5-d723af736974",
   "metadata": {},
   "outputs": [
    {
     "data": {
      "text/html": [
       "<div>\n",
       "<style scoped>\n",
       "    .dataframe tbody tr th:only-of-type {\n",
       "        vertical-align: middle;\n",
       "    }\n",
       "\n",
       "    .dataframe tbody tr th {\n",
       "        vertical-align: top;\n",
       "    }\n",
       "\n",
       "    .dataframe thead th {\n",
       "        text-align: right;\n",
       "    }\n",
       "</style>\n",
       "<table border=\"1\" class=\"dataframe\">\n",
       "  <thead>\n",
       "    <tr style=\"text-align: right;\">\n",
       "      <th></th>\n",
       "      <th>order_id</th>\n",
       "      <th>order_item_id</th>\n",
       "      <th>product_id</th>\n",
       "      <th>seller_id</th>\n",
       "      <th>product_category_name</th>\n",
       "    </tr>\n",
       "  </thead>\n",
       "  <tbody>\n",
       "    <tr>\n",
       "      <th>0</th>\n",
       "      <td>00010242fe8c5a6d1ba2dd792cb16214</td>\n",
       "      <td>1</td>\n",
       "      <td>4244733e06e7ecb4970a6e2683c13e61</td>\n",
       "      <td>48436dade18ac8b2bce089ec2a041202</td>\n",
       "      <td>cool_stuff</td>\n",
       "    </tr>\n",
       "    <tr>\n",
       "      <th>1</th>\n",
       "      <td>00018f77f2f0320c557190d7a144bdd3</td>\n",
       "      <td>1</td>\n",
       "      <td>e5f2d52b802189ee658865ca93d83a8f</td>\n",
       "      <td>dd7ddc04e1b6c2c614352b383efe2d36</td>\n",
       "      <td>pet_shop</td>\n",
       "    </tr>\n",
       "    <tr>\n",
       "      <th>2</th>\n",
       "      <td>000229ec398224ef6ca0657da4fc703e</td>\n",
       "      <td>1</td>\n",
       "      <td>c777355d18b72b67abbeef9df44fd0fd</td>\n",
       "      <td>5b51032eddd242adc84c38acab88f23d</td>\n",
       "      <td>moveis_decoracao</td>\n",
       "    </tr>\n",
       "    <tr>\n",
       "      <th>3</th>\n",
       "      <td>00024acbcdf0a6daa1e931b038114c75</td>\n",
       "      <td>1</td>\n",
       "      <td>7634da152a4610f1595efa32f14722fc</td>\n",
       "      <td>9d7a1d34a5052409006425275ba1c2b4</td>\n",
       "      <td>perfumaria</td>\n",
       "    </tr>\n",
       "    <tr>\n",
       "      <th>4</th>\n",
       "      <td>00042b26cf59d7ce69dfabb4e55b4fd9</td>\n",
       "      <td>1</td>\n",
       "      <td>ac6c3623068f30de03045865e4e10089</td>\n",
       "      <td>df560393f3a51e74553ab94004ba5c87</td>\n",
       "      <td>ferramentas_jardim</td>\n",
       "    </tr>\n",
       "  </tbody>\n",
       "</table>\n",
       "</div>"
      ],
      "text/plain": [
       "                           order_id  order_item_id  \\\n",
       "0  00010242fe8c5a6d1ba2dd792cb16214              1   \n",
       "1  00018f77f2f0320c557190d7a144bdd3              1   \n",
       "2  000229ec398224ef6ca0657da4fc703e              1   \n",
       "3  00024acbcdf0a6daa1e931b038114c75              1   \n",
       "4  00042b26cf59d7ce69dfabb4e55b4fd9              1   \n",
       "\n",
       "                         product_id                         seller_id  \\\n",
       "0  4244733e06e7ecb4970a6e2683c13e61  48436dade18ac8b2bce089ec2a041202   \n",
       "1  e5f2d52b802189ee658865ca93d83a8f  dd7ddc04e1b6c2c614352b383efe2d36   \n",
       "2  c777355d18b72b67abbeef9df44fd0fd  5b51032eddd242adc84c38acab88f23d   \n",
       "3  7634da152a4610f1595efa32f14722fc  9d7a1d34a5052409006425275ba1c2b4   \n",
       "4  ac6c3623068f30de03045865e4e10089  df560393f3a51e74553ab94004ba5c87   \n",
       "\n",
       "  product_category_name  \n",
       "0            cool_stuff  \n",
       "1              pet_shop  \n",
       "2      moveis_decoracao  \n",
       "3            perfumaria  \n",
       "4    ferramentas_jardim  "
      ]
     },
     "execution_count": 267,
     "metadata": {},
     "output_type": "execute_result"
    }
   ],
   "source": [
    "merged_df = pd.merge(order_items_df_cleaned, products_df_cleaned, on='product_id', how='inner')\n",
    "merged_df.head()"
   ]
  },
  {
   "cell_type": "code",
   "execution_count": 268,
   "id": "688e4295-80ad-49f8-93b0-cef0fee70f71",
   "metadata": {},
   "outputs": [
    {
     "data": {
      "text/html": [
       "<div>\n",
       "<style scoped>\n",
       "    .dataframe tbody tr th:only-of-type {\n",
       "        vertical-align: middle;\n",
       "    }\n",
       "\n",
       "    .dataframe tbody tr th {\n",
       "        vertical-align: top;\n",
       "    }\n",
       "\n",
       "    .dataframe thead th {\n",
       "        text-align: right;\n",
       "    }\n",
       "</style>\n",
       "<table border=\"1\" class=\"dataframe\">\n",
       "  <thead>\n",
       "    <tr style=\"text-align: right;\">\n",
       "      <th></th>\n",
       "      <th>order_id</th>\n",
       "      <th>order_item_id</th>\n",
       "      <th>product_id</th>\n",
       "      <th>seller_id</th>\n",
       "      <th>product_category_name</th>\n",
       "      <th>customer_id</th>\n",
       "      <th>order_status</th>\n",
       "      <th>order_approved_at</th>\n",
       "    </tr>\n",
       "  </thead>\n",
       "  <tbody>\n",
       "    <tr>\n",
       "      <th>0</th>\n",
       "      <td>00010242fe8c5a6d1ba2dd792cb16214</td>\n",
       "      <td>1</td>\n",
       "      <td>4244733e06e7ecb4970a6e2683c13e61</td>\n",
       "      <td>48436dade18ac8b2bce089ec2a041202</td>\n",
       "      <td>cool_stuff</td>\n",
       "      <td>3ce436f183e68e07877b285a838db11a</td>\n",
       "      <td>delivered</td>\n",
       "      <td>2017-09-13 09:45:35</td>\n",
       "    </tr>\n",
       "    <tr>\n",
       "      <th>1</th>\n",
       "      <td>000229ec398224ef6ca0657da4fc703e</td>\n",
       "      <td>1</td>\n",
       "      <td>c777355d18b72b67abbeef9df44fd0fd</td>\n",
       "      <td>5b51032eddd242adc84c38acab88f23d</td>\n",
       "      <td>moveis_decoracao</td>\n",
       "      <td>6489ae5e4333f3693df5ad4372dab6d3</td>\n",
       "      <td>delivered</td>\n",
       "      <td>2018-01-14 14:48:30</td>\n",
       "    </tr>\n",
       "    <tr>\n",
       "      <th>2</th>\n",
       "      <td>00024acbcdf0a6daa1e931b038114c75</td>\n",
       "      <td>1</td>\n",
       "      <td>7634da152a4610f1595efa32f14722fc</td>\n",
       "      <td>9d7a1d34a5052409006425275ba1c2b4</td>\n",
       "      <td>perfumaria</td>\n",
       "      <td>d4eb9395c8c0431ee92fce09860c5a06</td>\n",
       "      <td>delivered</td>\n",
       "      <td>2018-08-08 10:10:18</td>\n",
       "    </tr>\n",
       "    <tr>\n",
       "      <th>3</th>\n",
       "      <td>00054e8431b9d7675808bcb819fb4a32</td>\n",
       "      <td>1</td>\n",
       "      <td>8d4f2bb7e93e6710a28f34fa83ee7d28</td>\n",
       "      <td>7040e82f899a04d1b434b795a43b4617</td>\n",
       "      <td>telefonia</td>\n",
       "      <td>32e2e6ab09e778d99bf2e0ecd4898718</td>\n",
       "      <td>delivered</td>\n",
       "      <td>2017-12-10 12:10:31</td>\n",
       "    </tr>\n",
       "    <tr>\n",
       "      <th>4</th>\n",
       "      <td>000576fe39319847cbb9d288c5617fa6</td>\n",
       "      <td>1</td>\n",
       "      <td>557d850972a7d6f792fd18ae1400d9b6</td>\n",
       "      <td>5996cddab893a4652a15592fb58ab8db</td>\n",
       "      <td>ferramentas_jardim</td>\n",
       "      <td>9ed5e522dd9dd85b4af4a077526d8117</td>\n",
       "      <td>delivered</td>\n",
       "      <td>2018-07-05 16:35:48</td>\n",
       "    </tr>\n",
       "  </tbody>\n",
       "</table>\n",
       "</div>"
      ],
      "text/plain": [
       "                           order_id  order_item_id  \\\n",
       "0  00010242fe8c5a6d1ba2dd792cb16214              1   \n",
       "1  000229ec398224ef6ca0657da4fc703e              1   \n",
       "2  00024acbcdf0a6daa1e931b038114c75              1   \n",
       "3  00054e8431b9d7675808bcb819fb4a32              1   \n",
       "4  000576fe39319847cbb9d288c5617fa6              1   \n",
       "\n",
       "                         product_id                         seller_id  \\\n",
       "0  4244733e06e7ecb4970a6e2683c13e61  48436dade18ac8b2bce089ec2a041202   \n",
       "1  c777355d18b72b67abbeef9df44fd0fd  5b51032eddd242adc84c38acab88f23d   \n",
       "2  7634da152a4610f1595efa32f14722fc  9d7a1d34a5052409006425275ba1c2b4   \n",
       "3  8d4f2bb7e93e6710a28f34fa83ee7d28  7040e82f899a04d1b434b795a43b4617   \n",
       "4  557d850972a7d6f792fd18ae1400d9b6  5996cddab893a4652a15592fb58ab8db   \n",
       "\n",
       "  product_category_name                       customer_id order_status  \\\n",
       "0            cool_stuff  3ce436f183e68e07877b285a838db11a    delivered   \n",
       "1      moveis_decoracao  6489ae5e4333f3693df5ad4372dab6d3    delivered   \n",
       "2            perfumaria  d4eb9395c8c0431ee92fce09860c5a06    delivered   \n",
       "3             telefonia  32e2e6ab09e778d99bf2e0ecd4898718    delivered   \n",
       "4    ferramentas_jardim  9ed5e522dd9dd85b4af4a077526d8117    delivered   \n",
       "\n",
       "    order_approved_at  \n",
       "0 2017-09-13 09:45:35  \n",
       "1 2018-01-14 14:48:30  \n",
       "2 2018-08-08 10:10:18  \n",
       "3 2017-12-10 12:10:31  \n",
       "4 2018-07-05 16:35:48  "
      ]
     },
     "execution_count": 268,
     "metadata": {},
     "output_type": "execute_result"
    }
   ],
   "source": [
    "merged_df = pd.merge(merged_df, orders_df_cleaned, on='order_id', how='inner')\n",
    "merged_df.head()"
   ]
  },
  {
   "cell_type": "code",
   "execution_count": 269,
   "id": "c3d3cce9-40f9-4b30-ad3a-8b236500f627",
   "metadata": {},
   "outputs": [
    {
     "data": {
      "text/html": [
       "<div>\n",
       "<style scoped>\n",
       "    .dataframe tbody tr th:only-of-type {\n",
       "        vertical-align: middle;\n",
       "    }\n",
       "\n",
       "    .dataframe tbody tr th {\n",
       "        vertical-align: top;\n",
       "    }\n",
       "\n",
       "    .dataframe thead th {\n",
       "        text-align: right;\n",
       "    }\n",
       "</style>\n",
       "<table border=\"1\" class=\"dataframe\">\n",
       "  <thead>\n",
       "    <tr style=\"text-align: right;\">\n",
       "      <th></th>\n",
       "      <th>order_id</th>\n",
       "      <th>order_item_id</th>\n",
       "      <th>product_id</th>\n",
       "      <th>seller_id</th>\n",
       "      <th>product_category_name</th>\n",
       "      <th>customer_id</th>\n",
       "      <th>order_status</th>\n",
       "      <th>order_approved_at</th>\n",
       "      <th>payment_value</th>\n",
       "    </tr>\n",
       "  </thead>\n",
       "  <tbody>\n",
       "    <tr>\n",
       "      <th>0</th>\n",
       "      <td>00010242fe8c5a6d1ba2dd792cb16214</td>\n",
       "      <td>1</td>\n",
       "      <td>4244733e06e7ecb4970a6e2683c13e61</td>\n",
       "      <td>48436dade18ac8b2bce089ec2a041202</td>\n",
       "      <td>cool_stuff</td>\n",
       "      <td>3ce436f183e68e07877b285a838db11a</td>\n",
       "      <td>delivered</td>\n",
       "      <td>2017-09-13 09:45:35</td>\n",
       "      <td>72.19</td>\n",
       "    </tr>\n",
       "    <tr>\n",
       "      <th>1</th>\n",
       "      <td>000229ec398224ef6ca0657da4fc703e</td>\n",
       "      <td>1</td>\n",
       "      <td>c777355d18b72b67abbeef9df44fd0fd</td>\n",
       "      <td>5b51032eddd242adc84c38acab88f23d</td>\n",
       "      <td>moveis_decoracao</td>\n",
       "      <td>6489ae5e4333f3693df5ad4372dab6d3</td>\n",
       "      <td>delivered</td>\n",
       "      <td>2018-01-14 14:48:30</td>\n",
       "      <td>216.87</td>\n",
       "    </tr>\n",
       "    <tr>\n",
       "      <th>2</th>\n",
       "      <td>00024acbcdf0a6daa1e931b038114c75</td>\n",
       "      <td>1</td>\n",
       "      <td>7634da152a4610f1595efa32f14722fc</td>\n",
       "      <td>9d7a1d34a5052409006425275ba1c2b4</td>\n",
       "      <td>perfumaria</td>\n",
       "      <td>d4eb9395c8c0431ee92fce09860c5a06</td>\n",
       "      <td>delivered</td>\n",
       "      <td>2018-08-08 10:10:18</td>\n",
       "      <td>25.78</td>\n",
       "    </tr>\n",
       "    <tr>\n",
       "      <th>3</th>\n",
       "      <td>00054e8431b9d7675808bcb819fb4a32</td>\n",
       "      <td>1</td>\n",
       "      <td>8d4f2bb7e93e6710a28f34fa83ee7d28</td>\n",
       "      <td>7040e82f899a04d1b434b795a43b4617</td>\n",
       "      <td>telefonia</td>\n",
       "      <td>32e2e6ab09e778d99bf2e0ecd4898718</td>\n",
       "      <td>delivered</td>\n",
       "      <td>2017-12-10 12:10:31</td>\n",
       "      <td>31.75</td>\n",
       "    </tr>\n",
       "    <tr>\n",
       "      <th>4</th>\n",
       "      <td>000576fe39319847cbb9d288c5617fa6</td>\n",
       "      <td>1</td>\n",
       "      <td>557d850972a7d6f792fd18ae1400d9b6</td>\n",
       "      <td>5996cddab893a4652a15592fb58ab8db</td>\n",
       "      <td>ferramentas_jardim</td>\n",
       "      <td>9ed5e522dd9dd85b4af4a077526d8117</td>\n",
       "      <td>delivered</td>\n",
       "      <td>2018-07-05 16:35:48</td>\n",
       "      <td>880.75</td>\n",
       "    </tr>\n",
       "  </tbody>\n",
       "</table>\n",
       "</div>"
      ],
      "text/plain": [
       "                           order_id  order_item_id  \\\n",
       "0  00010242fe8c5a6d1ba2dd792cb16214              1   \n",
       "1  000229ec398224ef6ca0657da4fc703e              1   \n",
       "2  00024acbcdf0a6daa1e931b038114c75              1   \n",
       "3  00054e8431b9d7675808bcb819fb4a32              1   \n",
       "4  000576fe39319847cbb9d288c5617fa6              1   \n",
       "\n",
       "                         product_id                         seller_id  \\\n",
       "0  4244733e06e7ecb4970a6e2683c13e61  48436dade18ac8b2bce089ec2a041202   \n",
       "1  c777355d18b72b67abbeef9df44fd0fd  5b51032eddd242adc84c38acab88f23d   \n",
       "2  7634da152a4610f1595efa32f14722fc  9d7a1d34a5052409006425275ba1c2b4   \n",
       "3  8d4f2bb7e93e6710a28f34fa83ee7d28  7040e82f899a04d1b434b795a43b4617   \n",
       "4  557d850972a7d6f792fd18ae1400d9b6  5996cddab893a4652a15592fb58ab8db   \n",
       "\n",
       "  product_category_name                       customer_id order_status  \\\n",
       "0            cool_stuff  3ce436f183e68e07877b285a838db11a    delivered   \n",
       "1      moveis_decoracao  6489ae5e4333f3693df5ad4372dab6d3    delivered   \n",
       "2            perfumaria  d4eb9395c8c0431ee92fce09860c5a06    delivered   \n",
       "3             telefonia  32e2e6ab09e778d99bf2e0ecd4898718    delivered   \n",
       "4    ferramentas_jardim  9ed5e522dd9dd85b4af4a077526d8117    delivered   \n",
       "\n",
       "    order_approved_at  payment_value  \n",
       "0 2017-09-13 09:45:35          72.19  \n",
       "1 2018-01-14 14:48:30         216.87  \n",
       "2 2018-08-08 10:10:18          25.78  \n",
       "3 2017-12-10 12:10:31          31.75  \n",
       "4 2018-07-05 16:35:48         880.75  "
      ]
     },
     "execution_count": 269,
     "metadata": {},
     "output_type": "execute_result"
    }
   ],
   "source": [
    "merged_df = pd.merge(merged_df, order_payments_df_cleaned, on='order_id', how='inner')\n",
    "merged_df.head()"
   ]
  },
  {
   "cell_type": "markdown",
   "id": "cdd6d212-2770-4e1e-9d40-d09f46725b32",
   "metadata": {},
   "source": [
    "### Valores faltantes"
   ]
  },
  {
   "cell_type": "code",
   "execution_count": 270,
   "id": "f2fe8003-30d0-43b6-a153-f193bf7c1536",
   "metadata": {},
   "outputs": [
    {
     "data": {
      "text/plain": [
       "order_id                 0\n",
       "order_item_id            0\n",
       "product_id               0\n",
       "seller_id                0\n",
       "product_category_name    0\n",
       "customer_id              0\n",
       "order_status             0\n",
       "order_approved_at        0\n",
       "payment_value            0\n",
       "dtype: int64"
      ]
     },
     "execution_count": 270,
     "metadata": {},
     "output_type": "execute_result"
    }
   ],
   "source": [
    "merged_df.isnull().sum()"
   ]
  },
  {
   "cell_type": "markdown",
   "id": "f05f3d90-3e8c-4c7b-9da8-33ed2aab6cae",
   "metadata": {},
   "source": [
    "### Duplicatas"
   ]
  },
  {
   "cell_type": "code",
   "execution_count": 271,
   "id": "68f91851-2bcd-4975-87c9-f8ef3c6900fe",
   "metadata": {},
   "outputs": [
    {
     "data": {
      "text/plain": [
       "np.int64(432)"
      ]
     },
     "execution_count": 271,
     "metadata": {},
     "output_type": "execute_result"
    }
   ],
   "source": [
    "merged_df.duplicated().sum()"
   ]
  },
  {
   "cell_type": "markdown",
   "id": "1807d53d-626d-4864-b420-852621144227",
   "metadata": {},
   "source": [
    "**Excluindo as duplicatas utilizando como parâmetros as chaves que uniram os dataframes**"
   ]
  },
  {
   "cell_type": "code",
   "execution_count": 272,
   "id": "ddbe9a11-55e1-4980-83e2-4b15335ed6cd",
   "metadata": {},
   "outputs": [],
   "source": [
    "final_merged_df = merged_df.drop_duplicates(subset=(['order_id', 'product_id']))"
   ]
  },
  {
   "cell_type": "code",
   "execution_count": 273,
   "id": "7f07b2a5-35df-4a40-835b-2d03298058aa",
   "metadata": {},
   "outputs": [
    {
     "data": {
      "text/plain": [
       "(76536, 9)"
      ]
     },
     "execution_count": 273,
     "metadata": {},
     "output_type": "execute_result"
    }
   ],
   "source": [
    "final_merged_df.shape"
   ]
  },
  {
   "cell_type": "code",
   "execution_count": 274,
   "id": "edbfea3b-2146-4864-92c4-2442683a26e3",
   "metadata": {},
   "outputs": [
    {
     "data": {
      "text/plain": [
       "np.int64(0)"
      ]
     },
     "execution_count": 274,
     "metadata": {},
     "output_type": "execute_result"
    }
   ],
   "source": [
    "final_merged_df.duplicated().sum()"
   ]
  },
  {
   "cell_type": "markdown",
   "id": "825365c6-82f8-410d-990f-1f070593f0c9",
   "metadata": {},
   "source": [
    "### Agrupando pela categoria e o valor total"
   ]
  },
  {
   "cell_type": "code",
   "execution_count": 275,
   "id": "29405d69-fb2f-4e85-80f6-a710a7874f98",
   "metadata": {},
   "outputs": [],
   "source": [
    "group_by_category_payment = final_merged_df.groupby('product_category_name')['payment_value']"
   ]
  },
  {
   "cell_type": "code",
   "execution_count": 276,
   "id": "76b63d04-f053-4482-9f3d-2a8de4579d8f",
   "metadata": {},
   "outputs": [],
   "source": [
    "# somando os payment values correspondentes as suas categorias\n",
    "group_by_category_payment = group_by_category_payment.sum()"
   ]
  },
  {
   "cell_type": "code",
   "execution_count": 277,
   "id": "77086174-6e1f-4f3e-a973-e310a25c6c86",
   "metadata": {},
   "outputs": [],
   "source": [
    "df_category_payment = group_by_category_payment.reset_index()"
   ]
  },
  {
   "cell_type": "code",
   "execution_count": 278,
   "id": "008faf6a-942d-42fc-b101-6aca4c8dd38f",
   "metadata": {},
   "outputs": [
    {
     "data": {
      "text/html": [
       "<div>\n",
       "<style scoped>\n",
       "    .dataframe tbody tr th:only-of-type {\n",
       "        vertical-align: middle;\n",
       "    }\n",
       "\n",
       "    .dataframe tbody tr th {\n",
       "        vertical-align: top;\n",
       "    }\n",
       "\n",
       "    .dataframe thead th {\n",
       "        text-align: right;\n",
       "    }\n",
       "</style>\n",
       "<table border=\"1\" class=\"dataframe\">\n",
       "  <thead>\n",
       "    <tr style=\"text-align: right;\">\n",
       "      <th></th>\n",
       "      <th>product_category_name</th>\n",
       "      <th>payment_value</th>\n",
       "    </tr>\n",
       "  </thead>\n",
       "  <tbody>\n",
       "    <tr>\n",
       "      <th>0</th>\n",
       "      <td>agro_industria_e_comercio</td>\n",
       "      <td>69712.97</td>\n",
       "    </tr>\n",
       "    <tr>\n",
       "      <th>1</th>\n",
       "      <td>alimentos</td>\n",
       "      <td>30414.63</td>\n",
       "    </tr>\n",
       "    <tr>\n",
       "      <th>2</th>\n",
       "      <td>alimentos_bebidas</td>\n",
       "      <td>18032.24</td>\n",
       "    </tr>\n",
       "    <tr>\n",
       "      <th>3</th>\n",
       "      <td>artes</td>\n",
       "      <td>19136.30</td>\n",
       "    </tr>\n",
       "    <tr>\n",
       "      <th>4</th>\n",
       "      <td>artes_e_artesanato</td>\n",
       "      <td>2107.54</td>\n",
       "    </tr>\n",
       "    <tr>\n",
       "      <th>...</th>\n",
       "      <td>...</td>\n",
       "      <td>...</td>\n",
       "    </tr>\n",
       "    <tr>\n",
       "      <th>68</th>\n",
       "      <td>sinalizacao_e_seguranca</td>\n",
       "      <td>29107.49</td>\n",
       "    </tr>\n",
       "    <tr>\n",
       "      <th>69</th>\n",
       "      <td>tablets_impressao_imagem</td>\n",
       "      <td>3047.04</td>\n",
       "    </tr>\n",
       "    <tr>\n",
       "      <th>70</th>\n",
       "      <td>telefonia</td>\n",
       "      <td>309299.36</td>\n",
       "    </tr>\n",
       "    <tr>\n",
       "      <th>71</th>\n",
       "      <td>telefonia_fixa</td>\n",
       "      <td>48757.20</td>\n",
       "    </tr>\n",
       "    <tr>\n",
       "      <th>72</th>\n",
       "      <td>utilidades_domesticas</td>\n",
       "      <td>628200.78</td>\n",
       "    </tr>\n",
       "  </tbody>\n",
       "</table>\n",
       "<p>73 rows × 2 columns</p>\n",
       "</div>"
      ],
      "text/plain": [
       "        product_category_name  payment_value\n",
       "0   agro_industria_e_comercio       69712.97\n",
       "1                   alimentos       30414.63\n",
       "2           alimentos_bebidas       18032.24\n",
       "3                       artes       19136.30\n",
       "4          artes_e_artesanato        2107.54\n",
       "..                        ...            ...\n",
       "68    sinalizacao_e_seguranca       29107.49\n",
       "69   tablets_impressao_imagem        3047.04\n",
       "70                  telefonia      309299.36\n",
       "71             telefonia_fixa       48757.20\n",
       "72      utilidades_domesticas      628200.78\n",
       "\n",
       "[73 rows x 2 columns]"
      ]
     },
     "execution_count": 278,
     "metadata": {},
     "output_type": "execute_result"
    }
   ],
   "source": [
    "df_category_payment"
   ]
  },
  {
   "cell_type": "code",
   "execution_count": 279,
   "id": "1e117791-d6c6-4f99-b091-d9cf2ef8fd94",
   "metadata": {},
   "outputs": [],
   "source": [
    "df_category_payment_sorted = df_category_payment.sort_values(by=['payment_value'], ascending=False)"
   ]
  },
  {
   "cell_type": "markdown",
   "id": "83c2fc82-5eb9-4b1a-b3f2-7b850598d7bf",
   "metadata": {},
   "source": [
    "beleza_saude - 1162367.44\n",
    "\n",
    "seguro_e_servicos - 115.45"
   ]
  },
  {
   "cell_type": "code",
   "execution_count": 280,
   "id": "c4fe2005-d4f9-48a8-973d-8ad40b5e6769",
   "metadata": {},
   "outputs": [
    {
     "data": {
      "text/html": [
       "<div>\n",
       "<style scoped>\n",
       "    .dataframe tbody tr th:only-of-type {\n",
       "        vertical-align: middle;\n",
       "    }\n",
       "\n",
       "    .dataframe tbody tr th {\n",
       "        vertical-align: top;\n",
       "    }\n",
       "\n",
       "    .dataframe thead th {\n",
       "        text-align: right;\n",
       "    }\n",
       "</style>\n",
       "<table border=\"1\" class=\"dataframe\">\n",
       "  <thead>\n",
       "    <tr style=\"text-align: right;\">\n",
       "      <th></th>\n",
       "      <th>product_category_name</th>\n",
       "      <th>payment_value</th>\n",
       "    </tr>\n",
       "  </thead>\n",
       "  <tbody>\n",
       "    <tr>\n",
       "      <th>11</th>\n",
       "      <td>beleza_saude</td>\n",
       "      <td>1162367.44</td>\n",
       "    </tr>\n",
       "    <tr>\n",
       "      <th>13</th>\n",
       "      <td>cama_mesa_banho</td>\n",
       "      <td>1087220.94</td>\n",
       "    </tr>\n",
       "    <tr>\n",
       "      <th>66</th>\n",
       "      <td>relogios_presentes</td>\n",
       "      <td>1075412.05</td>\n",
       "    </tr>\n",
       "    <tr>\n",
       "      <th>32</th>\n",
       "      <td>esporte_lazer</td>\n",
       "      <td>888087.37</td>\n",
       "    </tr>\n",
       "    <tr>\n",
       "      <th>44</th>\n",
       "      <td>informatica_acessorios</td>\n",
       "      <td>850116.27</td>\n",
       "    </tr>\n",
       "    <tr>\n",
       "      <th>...</th>\n",
       "      <td>...</td>\n",
       "      <td>...</td>\n",
       "    </tr>\n",
       "    <tr>\n",
       "      <th>60</th>\n",
       "      <td>pc_gamer</td>\n",
       "      <td>883.57</td>\n",
       "    </tr>\n",
       "    <tr>\n",
       "      <th>15</th>\n",
       "      <td>casa_conforto_2</td>\n",
       "      <td>643.15</td>\n",
       "    </tr>\n",
       "    <tr>\n",
       "      <th>17</th>\n",
       "      <td>cds_dvds_musicais</td>\n",
       "      <td>478.45</td>\n",
       "    </tr>\n",
       "    <tr>\n",
       "      <th>37</th>\n",
       "      <td>fashion_roupa_infanto_juvenil</td>\n",
       "      <td>475.50</td>\n",
       "    </tr>\n",
       "    <tr>\n",
       "      <th>67</th>\n",
       "      <td>seguros_e_servicos</td>\n",
       "      <td>115.45</td>\n",
       "    </tr>\n",
       "  </tbody>\n",
       "</table>\n",
       "<p>73 rows × 2 columns</p>\n",
       "</div>"
      ],
      "text/plain": [
       "            product_category_name  payment_value\n",
       "11                   beleza_saude     1162367.44\n",
       "13                cama_mesa_banho     1087220.94\n",
       "66             relogios_presentes     1075412.05\n",
       "32                  esporte_lazer      888087.37\n",
       "44         informatica_acessorios      850116.27\n",
       "..                            ...            ...\n",
       "60                       pc_gamer         883.57\n",
       "15                casa_conforto_2         643.15\n",
       "17              cds_dvds_musicais         478.45\n",
       "37  fashion_roupa_infanto_juvenil         475.50\n",
       "67             seguros_e_servicos         115.45\n",
       "\n",
       "[73 rows x 2 columns]"
      ]
     },
     "execution_count": 280,
     "metadata": {},
     "output_type": "execute_result"
    }
   ],
   "source": [
    "df_category_payment_sorted"
   ]
  },
  {
   "cell_type": "markdown",
   "id": "8c83e2d9-1fa8-452e-96af-532389c7292b",
   "metadata": {},
   "source": [
    "### Visualização através do gráfico de barras"
   ]
  },
  {
   "cell_type": "code",
   "execution_count": 281,
   "id": "9f119e11-3b96-4395-b610-a21eb8712df0",
   "metadata": {},
   "outputs": [],
   "source": [
    "top_10_categories = df_category_payment_sorted.head(10)"
   ]
  },
  {
   "cell_type": "code",
   "execution_count": 282,
   "id": "8704d158-9617-4173-9607-bbb18c172956",
   "metadata": {},
   "outputs": [],
   "source": [
    "bottom_10_categories = df_category_payment_sorted.tail(10)"
   ]
  },
  {
   "cell_type": "code",
   "execution_count": 283,
   "id": "95237a1b-e624-4014-8f3f-d5dca86c6423",
   "metadata": {},
   "outputs": [
    {
     "data": {
      "image/png": "[encoded data removed]",
      "text/plain": [
       "<Figure size 1000x600 with 1 Axes>"
      ]
     },
     "metadata": {},
     "output_type": "display_data"
    }
   ],
   "source": [
    "plt.figure(figsize=(10,6))\n",
    "sns.barplot(data=top_10_categories, x='payment_value', y='product_category_name', palette='flare', hue='payment_value')\n",
    "\n",
    "# Personalizando o gráfico\n",
    "plt.title('Categorias com maior receita', fontsize=16)\n",
    "plt.xlabel('Receita total (R$)', fontsize=12)\n",
    "plt.ylabel('Categoria do Produto', fontsize=12)\n",
    "plt.tight_layout()\n",
    "\n",
    "plt.show()"
   ]
  },
  {
   "cell_type": "code",
   "execution_count": 284,
   "id": "742ab891-daf3-4b46-ab26-ff80b46e8662",
   "metadata": {},
   "outputs": [
    {
     "data": {
      "image/png": "[encoded data removed]",
      "text/plain": [
       "<Figure size 1000x600 with 1 Axes>"
      ]
     },
     "metadata": {},
     "output_type": "display_data"
    }
   ],
   "source": [
    "plt.figure(figsize=(10,6))\n",
    "sns.barplot(data=bottom_10_categories, x='payment_value', y='product_category_name', hue='payment_value', palette='flare')\n",
    "\n",
    "# Personalizando o gráfico\n",
    "plt.title('Categorias com menor receita', fontsize=16)\n",
    "plt.xlabel('Receita total (R$)', fontsize=12)\n",
    "plt.ylabel('Categoria do produto', fontsize=12)\n",
    "plt.tight_layout()\n",
    "\n",
    "plt.show()"
   ]
  },
  {
   "cell_type": "markdown",
   "id": "6dcd133d-589f-4cb1-84a8-1a41312289c0",
   "metadata": {},
   "source": [
    "# Top 10 maiores sellers(com maior receita)"
   ]
  },
  {
   "cell_type": "code",
   "execution_count": 338,
   "id": "4905c84a-96d8-44b6-b6cc-025440b895ee",
   "metadata": {},
   "outputs": [
    {
     "data": {
      "text/html": [
       "<div>\n",
       "<style scoped>\n",
       "    .dataframe tbody tr th:only-of-type {\n",
       "        vertical-align: middle;\n",
       "    }\n",
       "\n",
       "    .dataframe tbody tr th {\n",
       "        vertical-align: top;\n",
       "    }\n",
       "\n",
       "    .dataframe thead th {\n",
       "        text-align: right;\n",
       "    }\n",
       "</style>\n",
       "<table border=\"1\" class=\"dataframe\">\n",
       "  <thead>\n",
       "    <tr style=\"text-align: right;\">\n",
       "      <th></th>\n",
       "      <th>seller_id</th>\n",
       "    </tr>\n",
       "  </thead>\n",
       "  <tbody>\n",
       "    <tr>\n",
       "      <th>0</th>\n",
       "      <td>3442f8959a84dea7ee197c632cb2df15</td>\n",
       "    </tr>\n",
       "    <tr>\n",
       "      <th>1</th>\n",
       "      <td>d1b65fc7debc3361ea86b5f14c68d2e2</td>\n",
       "    </tr>\n",
       "    <tr>\n",
       "      <th>2</th>\n",
       "      <td>ce3ad9de960102d0677a81f5d0bb7b2d</td>\n",
       "    </tr>\n",
       "    <tr>\n",
       "      <th>3</th>\n",
       "      <td>c0f3eea2e14555b6faeea3dd58c1b1c3</td>\n",
       "    </tr>\n",
       "    <tr>\n",
       "      <th>4</th>\n",
       "      <td>51a04a8a6bdcb23deccc82b0b80742cf</td>\n",
       "    </tr>\n",
       "  </tbody>\n",
       "</table>\n",
       "</div>"
      ],
      "text/plain": [
       "                          seller_id\n",
       "0  3442f8959a84dea7ee197c632cb2df15\n",
       "1  d1b65fc7debc3361ea86b5f14c68d2e2\n",
       "2  ce3ad9de960102d0677a81f5d0bb7b2d\n",
       "3  c0f3eea2e14555b6faeea3dd58c1b1c3\n",
       "4  51a04a8a6bdcb23deccc82b0b80742cf"
      ]
     },
     "execution_count": 338,
     "metadata": {},
     "output_type": "execute_result"
    }
   ],
   "source": [
    "sellers_df_cleaned.head()"
   ]
  },
  {
   "cell_type": "code",
   "execution_count": 340,
   "id": "a7a7f75f-295c-47ad-9290-993faf31d1af",
   "metadata": {},
   "outputs": [
    {
     "data": {
      "text/html": [
       "<div>\n",
       "<style scoped>\n",
       "    .dataframe tbody tr th:only-of-type {\n",
       "        vertical-align: middle;\n",
       "    }\n",
       "\n",
       "    .dataframe tbody tr th {\n",
       "        vertical-align: top;\n",
       "    }\n",
       "\n",
       "    .dataframe thead th {\n",
       "        text-align: right;\n",
       "    }\n",
       "</style>\n",
       "<table border=\"1\" class=\"dataframe\">\n",
       "  <thead>\n",
       "    <tr style=\"text-align: right;\">\n",
       "      <th></th>\n",
       "      <th>order_id</th>\n",
       "      <th>order_item_id</th>\n",
       "      <th>product_id</th>\n",
       "      <th>seller_id</th>\n",
       "    </tr>\n",
       "  </thead>\n",
       "  <tbody>\n",
       "    <tr>\n",
       "      <th>0</th>\n",
       "      <td>00010242fe8c5a6d1ba2dd792cb16214</td>\n",
       "      <td>1</td>\n",
       "      <td>4244733e06e7ecb4970a6e2683c13e61</td>\n",
       "      <td>48436dade18ac8b2bce089ec2a041202</td>\n",
       "    </tr>\n",
       "    <tr>\n",
       "      <th>1</th>\n",
       "      <td>00018f77f2f0320c557190d7a144bdd3</td>\n",
       "      <td>1</td>\n",
       "      <td>e5f2d52b802189ee658865ca93d83a8f</td>\n",
       "      <td>dd7ddc04e1b6c2c614352b383efe2d36</td>\n",
       "    </tr>\n",
       "    <tr>\n",
       "      <th>2</th>\n",
       "      <td>000229ec398224ef6ca0657da4fc703e</td>\n",
       "      <td>1</td>\n",
       "      <td>c777355d18b72b67abbeef9df44fd0fd</td>\n",
       "      <td>5b51032eddd242adc84c38acab88f23d</td>\n",
       "    </tr>\n",
       "    <tr>\n",
       "      <th>3</th>\n",
       "      <td>00024acbcdf0a6daa1e931b038114c75</td>\n",
       "      <td>1</td>\n",
       "      <td>7634da152a4610f1595efa32f14722fc</td>\n",
       "      <td>9d7a1d34a5052409006425275ba1c2b4</td>\n",
       "    </tr>\n",
       "    <tr>\n",
       "      <th>4</th>\n",
       "      <td>00042b26cf59d7ce69dfabb4e55b4fd9</td>\n",
       "      <td>1</td>\n",
       "      <td>ac6c3623068f30de03045865e4e10089</td>\n",
       "      <td>df560393f3a51e74553ab94004ba5c87</td>\n",
       "    </tr>\n",
       "  </tbody>\n",
       "</table>\n",
       "</div>"
      ],
      "text/plain": [
       "                           order_id  order_item_id  \\\n",
       "0  00010242fe8c5a6d1ba2dd792cb16214              1   \n",
       "1  00018f77f2f0320c557190d7a144bdd3              1   \n",
       "2  000229ec398224ef6ca0657da4fc703e              1   \n",
       "3  00024acbcdf0a6daa1e931b038114c75              1   \n",
       "4  00042b26cf59d7ce69dfabb4e55b4fd9              1   \n",
       "\n",
       "                         product_id                         seller_id  \n",
       "0  4244733e06e7ecb4970a6e2683c13e61  48436dade18ac8b2bce089ec2a041202  \n",
       "1  e5f2d52b802189ee658865ca93d83a8f  dd7ddc04e1b6c2c614352b383efe2d36  \n",
       "2  c777355d18b72b67abbeef9df44fd0fd  5b51032eddd242adc84c38acab88f23d  \n",
       "3  7634da152a4610f1595efa32f14722fc  9d7a1d34a5052409006425275ba1c2b4  \n",
       "4  ac6c3623068f30de03045865e4e10089  df560393f3a51e74553ab94004ba5c87  "
      ]
     },
     "execution_count": 340,
     "metadata": {},
     "output_type": "execute_result"
    }
   ],
   "source": [
    "order_items_df_cleaned.head()"
   ]
  },
  {
   "cell_type": "code",
   "execution_count": 341,
   "id": "19207453-6d94-4adc-95d5-dce96c8e5937",
   "metadata": {},
   "outputs": [
    {
     "data": {
      "text/html": [
       "<div>\n",
       "<style scoped>\n",
       "    .dataframe tbody tr th:only-of-type {\n",
       "        vertical-align: middle;\n",
       "    }\n",
       "\n",
       "    .dataframe tbody tr th {\n",
       "        vertical-align: top;\n",
       "    }\n",
       "\n",
       "    .dataframe thead th {\n",
       "        text-align: right;\n",
       "    }\n",
       "</style>\n",
       "<table border=\"1\" class=\"dataframe\">\n",
       "  <thead>\n",
       "    <tr style=\"text-align: right;\">\n",
       "      <th></th>\n",
       "      <th>order_id</th>\n",
       "      <th>customer_id</th>\n",
       "      <th>order_status</th>\n",
       "      <th>order_approved_at</th>\n",
       "    </tr>\n",
       "  </thead>\n",
       "  <tbody>\n",
       "    <tr>\n",
       "      <th>0</th>\n",
       "      <td>e481f51cbdc54678b7cc49136f2d6af7</td>\n",
       "      <td>9ef432eb6251297304e76186b10a928d</td>\n",
       "      <td>delivered</td>\n",
       "      <td>2017-10-02 11:07:15</td>\n",
       "    </tr>\n",
       "    <tr>\n",
       "      <th>1</th>\n",
       "      <td>53cdb2fc8bc7dce0b6741e2150273451</td>\n",
       "      <td>b0830fb4747a6c6d20dea0b8c802d7ef</td>\n",
       "      <td>delivered</td>\n",
       "      <td>2018-07-26 03:24:27</td>\n",
       "    </tr>\n",
       "    <tr>\n",
       "      <th>2</th>\n",
       "      <td>47770eb9100c2d0c44946d9cf07ec65d</td>\n",
       "      <td>41ce2a54c0b03bf3443c3d931a367089</td>\n",
       "      <td>delivered</td>\n",
       "      <td>2018-08-08 08:55:23</td>\n",
       "    </tr>\n",
       "    <tr>\n",
       "      <th>3</th>\n",
       "      <td>949d5b44dbf5de918fe9c16f97b45f8a</td>\n",
       "      <td>f88197465ea7920adcdbec7375364d82</td>\n",
       "      <td>delivered</td>\n",
       "      <td>2017-11-18 19:45:59</td>\n",
       "    </tr>\n",
       "    <tr>\n",
       "      <th>4</th>\n",
       "      <td>ad21c59c0840e6cb83a9ceb5573f8159</td>\n",
       "      <td>8ab97904e6daea8866dbdbc4fb7aad2c</td>\n",
       "      <td>delivered</td>\n",
       "      <td>2018-02-13 22:20:29</td>\n",
       "    </tr>\n",
       "  </tbody>\n",
       "</table>\n",
       "</div>"
      ],
      "text/plain": [
       "                           order_id                       customer_id  \\\n",
       "0  e481f51cbdc54678b7cc49136f2d6af7  9ef432eb6251297304e76186b10a928d   \n",
       "1  53cdb2fc8bc7dce0b6741e2150273451  b0830fb4747a6c6d20dea0b8c802d7ef   \n",
       "2  47770eb9100c2d0c44946d9cf07ec65d  41ce2a54c0b03bf3443c3d931a367089   \n",
       "3  949d5b44dbf5de918fe9c16f97b45f8a  f88197465ea7920adcdbec7375364d82   \n",
       "4  ad21c59c0840e6cb83a9ceb5573f8159  8ab97904e6daea8866dbdbc4fb7aad2c   \n",
       "\n",
       "  order_status   order_approved_at  \n",
       "0    delivered 2017-10-02 11:07:15  \n",
       "1    delivered 2018-07-26 03:24:27  \n",
       "2    delivered 2018-08-08 08:55:23  \n",
       "3    delivered 2017-11-18 19:45:59  \n",
       "4    delivered 2018-02-13 22:20:29  "
      ]
     },
     "execution_count": 341,
     "metadata": {},
     "output_type": "execute_result"
    }
   ],
   "source": [
    "orders_df_cleaned.head()"
   ]
  },
  {
   "cell_type": "markdown",
   "id": "3c75a5fb-a61e-43f4-9b85-068820bae124",
   "metadata": {},
   "source": [
    "**Excluindo colunas que não fazem sentido para análise do dataframe orders**"
   ]
  },
  {
   "cell_type": "code",
   "execution_count": 342,
   "id": "6d6fd92a-ac50-4349-b364-6122984e9e7a",
   "metadata": {},
   "outputs": [],
   "source": [
    "columns_drop = orders_df_cleaned.columns[[1,2,3]]"
   ]
  },
  {
   "cell_type": "code",
   "execution_count": 343,
   "id": "bc3db0dd-353e-4e21-aa6f-c7e460563bef",
   "metadata": {},
   "outputs": [],
   "source": [
    "orders_df_cleaned = orders_df_cleaned.drop(columns=columns_drop, axis=1)"
   ]
  },
  {
   "cell_type": "code",
   "execution_count": 344,
   "id": "bd71b757-b701-49c9-81e8-ce3df6ac5370",
   "metadata": {},
   "outputs": [
    {
     "data": {
      "text/html": [
       "<div>\n",
       "<style scoped>\n",
       "    .dataframe tbody tr th:only-of-type {\n",
       "        vertical-align: middle;\n",
       "    }\n",
       "\n",
       "    .dataframe tbody tr th {\n",
       "        vertical-align: top;\n",
       "    }\n",
       "\n",
       "    .dataframe thead th {\n",
       "        text-align: right;\n",
       "    }\n",
       "</style>\n",
       "<table border=\"1\" class=\"dataframe\">\n",
       "  <thead>\n",
       "    <tr style=\"text-align: right;\">\n",
       "      <th></th>\n",
       "      <th>order_id</th>\n",
       "    </tr>\n",
       "  </thead>\n",
       "  <tbody>\n",
       "    <tr>\n",
       "      <th>0</th>\n",
       "      <td>e481f51cbdc54678b7cc49136f2d6af7</td>\n",
       "    </tr>\n",
       "    <tr>\n",
       "      <th>1</th>\n",
       "      <td>53cdb2fc8bc7dce0b6741e2150273451</td>\n",
       "    </tr>\n",
       "    <tr>\n",
       "      <th>2</th>\n",
       "      <td>47770eb9100c2d0c44946d9cf07ec65d</td>\n",
       "    </tr>\n",
       "    <tr>\n",
       "      <th>3</th>\n",
       "      <td>949d5b44dbf5de918fe9c16f97b45f8a</td>\n",
       "    </tr>\n",
       "    <tr>\n",
       "      <th>4</th>\n",
       "      <td>ad21c59c0840e6cb83a9ceb5573f8159</td>\n",
       "    </tr>\n",
       "  </tbody>\n",
       "</table>\n",
       "</div>"
      ],
      "text/plain": [
       "                           order_id\n",
       "0  e481f51cbdc54678b7cc49136f2d6af7\n",
       "1  53cdb2fc8bc7dce0b6741e2150273451\n",
       "2  47770eb9100c2d0c44946d9cf07ec65d\n",
       "3  949d5b44dbf5de918fe9c16f97b45f8a\n",
       "4  ad21c59c0840e6cb83a9ceb5573f8159"
      ]
     },
     "execution_count": 344,
     "metadata": {},
     "output_type": "execute_result"
    }
   ],
   "source": [
    "orders_df_cleaned.head()"
   ]
  },
  {
   "cell_type": "markdown",
   "id": "eb53728a-995d-48fe-9d0c-1a9cf55675bb",
   "metadata": {},
   "source": [
    "**Merge de sellers com order_items**"
   ]
  },
  {
   "cell_type": "code",
   "execution_count": 345,
   "id": "fb923304-c8aa-4840-afaf-176ecc28f905",
   "metadata": {},
   "outputs": [
    {
     "data": {
      "text/html": [
       "<div>\n",
       "<style scoped>\n",
       "    .dataframe tbody tr th:only-of-type {\n",
       "        vertical-align: middle;\n",
       "    }\n",
       "\n",
       "    .dataframe tbody tr th {\n",
       "        vertical-align: top;\n",
       "    }\n",
       "\n",
       "    .dataframe thead th {\n",
       "        text-align: right;\n",
       "    }\n",
       "</style>\n",
       "<table border=\"1\" class=\"dataframe\">\n",
       "  <thead>\n",
       "    <tr style=\"text-align: right;\">\n",
       "      <th></th>\n",
       "      <th>seller_id</th>\n",
       "      <th>order_id</th>\n",
       "      <th>order_item_id</th>\n",
       "      <th>product_id</th>\n",
       "    </tr>\n",
       "  </thead>\n",
       "  <tbody>\n",
       "    <tr>\n",
       "      <th>0</th>\n",
       "      <td>3442f8959a84dea7ee197c632cb2df15</td>\n",
       "      <td>4a90af3e85dd563884e2afeab1091394</td>\n",
       "      <td>1</td>\n",
       "      <td>ffb64e34a37740dafb6c88f1abd1fa61</td>\n",
       "    </tr>\n",
       "    <tr>\n",
       "      <th>1</th>\n",
       "      <td>3442f8959a84dea7ee197c632cb2df15</td>\n",
       "      <td>6d953888a914b67350d5bc4d48f2acab</td>\n",
       "      <td>1</td>\n",
       "      <td>f4621f8ad6f54a2e3c408884068be46d</td>\n",
       "    </tr>\n",
       "    <tr>\n",
       "      <th>2</th>\n",
       "      <td>3442f8959a84dea7ee197c632cb2df15</td>\n",
       "      <td>bc8a5de6abf5b14f98a6135a7fb46731</td>\n",
       "      <td>2</td>\n",
       "      <td>325a06bcce0da45b7f4ecf2797dd40e4</td>\n",
       "    </tr>\n",
       "    <tr>\n",
       "      <th>3</th>\n",
       "      <td>d1b65fc7debc3361ea86b5f14c68d2e2</td>\n",
       "      <td>035201c3c82a97f8a25dd6bd5244b2d5</td>\n",
       "      <td>1</td>\n",
       "      <td>1c36a5285f7f3b1ed2637d7c528ce5ff</td>\n",
       "    </tr>\n",
       "    <tr>\n",
       "      <th>4</th>\n",
       "      <td>d1b65fc7debc3361ea86b5f14c68d2e2</td>\n",
       "      <td>0504447548229e075dea8441b37b1e2a</td>\n",
       "      <td>1</td>\n",
       "      <td>8852eb03b04ec3268a66e9b696e25f6f</td>\n",
       "    </tr>\n",
       "  </tbody>\n",
       "</table>\n",
       "</div>"
      ],
      "text/plain": [
       "                          seller_id                          order_id  \\\n",
       "0  3442f8959a84dea7ee197c632cb2df15  4a90af3e85dd563884e2afeab1091394   \n",
       "1  3442f8959a84dea7ee197c632cb2df15  6d953888a914b67350d5bc4d48f2acab   \n",
       "2  3442f8959a84dea7ee197c632cb2df15  bc8a5de6abf5b14f98a6135a7fb46731   \n",
       "3  d1b65fc7debc3361ea86b5f14c68d2e2  035201c3c82a97f8a25dd6bd5244b2d5   \n",
       "4  d1b65fc7debc3361ea86b5f14c68d2e2  0504447548229e075dea8441b37b1e2a   \n",
       "\n",
       "   order_item_id                        product_id  \n",
       "0              1  ffb64e34a37740dafb6c88f1abd1fa61  \n",
       "1              1  f4621f8ad6f54a2e3c408884068be46d  \n",
       "2              2  325a06bcce0da45b7f4ecf2797dd40e4  \n",
       "3              1  1c36a5285f7f3b1ed2637d7c528ce5ff  \n",
       "4              1  8852eb03b04ec3268a66e9b696e25f6f  "
      ]
     },
     "execution_count": 345,
     "metadata": {},
     "output_type": "execute_result"
    }
   ],
   "source": [
    "merged_df2 = pd.merge(sellers_df_cleaned, order_items_df_cleaned, on='seller_id', how='inner')\n",
    "merged_df2.head()"
   ]
  },
  {
   "cell_type": "markdown",
   "id": "73476906-6a82-4d06-b864-aab4c1d15bc8",
   "metadata": {},
   "source": [
    "**Merge com orders**"
   ]
  },
  {
   "cell_type": "code",
   "execution_count": 347,
   "id": "de38a5e7-a04f-48c2-b44d-fd246be650d3",
   "metadata": {},
   "outputs": [
    {
     "data": {
      "text/html": [
       "<div>\n",
       "<style scoped>\n",
       "    .dataframe tbody tr th:only-of-type {\n",
       "        vertical-align: middle;\n",
       "    }\n",
       "\n",
       "    .dataframe tbody tr th {\n",
       "        vertical-align: top;\n",
       "    }\n",
       "\n",
       "    .dataframe thead th {\n",
       "        text-align: right;\n",
       "    }\n",
       "</style>\n",
       "<table border=\"1\" class=\"dataframe\">\n",
       "  <thead>\n",
       "    <tr style=\"text-align: right;\">\n",
       "      <th></th>\n",
       "      <th>seller_id</th>\n",
       "      <th>order_id</th>\n",
       "      <th>order_item_id</th>\n",
       "      <th>product_id</th>\n",
       "    </tr>\n",
       "  </thead>\n",
       "  <tbody>\n",
       "    <tr>\n",
       "      <th>0</th>\n",
       "      <td>3442f8959a84dea7ee197c632cb2df15</td>\n",
       "      <td>bc8a5de6abf5b14f98a6135a7fb46731</td>\n",
       "      <td>2</td>\n",
       "      <td>325a06bcce0da45b7f4ecf2797dd40e4</td>\n",
       "    </tr>\n",
       "    <tr>\n",
       "      <th>1</th>\n",
       "      <td>d1b65fc7debc3361ea86b5f14c68d2e2</td>\n",
       "      <td>035201c3c82a97f8a25dd6bd5244b2d5</td>\n",
       "      <td>1</td>\n",
       "      <td>1c36a5285f7f3b1ed2637d7c528ce5ff</td>\n",
       "    </tr>\n",
       "    <tr>\n",
       "      <th>2</th>\n",
       "      <td>d1b65fc7debc3361ea86b5f14c68d2e2</td>\n",
       "      <td>0504447548229e075dea8441b37b1e2a</td>\n",
       "      <td>1</td>\n",
       "      <td>8852eb03b04ec3268a66e9b696e25f6f</td>\n",
       "    </tr>\n",
       "    <tr>\n",
       "      <th>3</th>\n",
       "      <td>d1b65fc7debc3361ea86b5f14c68d2e2</td>\n",
       "      <td>16fd9b360cbadca08b1026c8532820f5</td>\n",
       "      <td>1</td>\n",
       "      <td>f74ed500ab93d12ce3fbc611474d89af</td>\n",
       "    </tr>\n",
       "    <tr>\n",
       "      <th>4</th>\n",
       "      <td>d1b65fc7debc3361ea86b5f14c68d2e2</td>\n",
       "      <td>21fab12baaa93481ad76d02fa22255eb</td>\n",
       "      <td>1</td>\n",
       "      <td>4353af36fe588dc73497fa158ed6cefb</td>\n",
       "    </tr>\n",
       "  </tbody>\n",
       "</table>\n",
       "</div>"
      ],
      "text/plain": [
       "                          seller_id                          order_id  \\\n",
       "0  3442f8959a84dea7ee197c632cb2df15  bc8a5de6abf5b14f98a6135a7fb46731   \n",
       "1  d1b65fc7debc3361ea86b5f14c68d2e2  035201c3c82a97f8a25dd6bd5244b2d5   \n",
       "2  d1b65fc7debc3361ea86b5f14c68d2e2  0504447548229e075dea8441b37b1e2a   \n",
       "3  d1b65fc7debc3361ea86b5f14c68d2e2  16fd9b360cbadca08b1026c8532820f5   \n",
       "4  d1b65fc7debc3361ea86b5f14c68d2e2  21fab12baaa93481ad76d02fa22255eb   \n",
       "\n",
       "   order_item_id                        product_id  \n",
       "0              2  325a06bcce0da45b7f4ecf2797dd40e4  \n",
       "1              1  1c36a5285f7f3b1ed2637d7c528ce5ff  \n",
       "2              1  8852eb03b04ec3268a66e9b696e25f6f  \n",
       "3              1  f74ed500ab93d12ce3fbc611474d89af  \n",
       "4              1  4353af36fe588dc73497fa158ed6cefb  "
      ]
     },
     "execution_count": 347,
     "metadata": {},
     "output_type": "execute_result"
    }
   ],
   "source": [
    "merged_df2 = pd.merge(merged_df2, orders_df_cleaned, on='order_id', how='inner')\n",
    "merged_df2.head()"
   ]
  },
  {
   "cell_type": "code",
   "execution_count": 349,
   "id": "f71ec061-9eff-4eae-91c7-f8f198d0f895",
   "metadata": {},
   "outputs": [
    {
     "data": {
      "text/html": [
       "<div>\n",
       "<style scoped>\n",
       "    .dataframe tbody tr th:only-of-type {\n",
       "        vertical-align: middle;\n",
       "    }\n",
       "\n",
       "    .dataframe tbody tr th {\n",
       "        vertical-align: top;\n",
       "    }\n",
       "\n",
       "    .dataframe thead th {\n",
       "        text-align: right;\n",
       "    }\n",
       "</style>\n",
       "<table border=\"1\" class=\"dataframe\">\n",
       "  <thead>\n",
       "    <tr style=\"text-align: right;\">\n",
       "      <th></th>\n",
       "      <th>seller_id</th>\n",
       "      <th>order_id</th>\n",
       "      <th>order_item_id</th>\n",
       "      <th>product_id</th>\n",
       "      <th>payment_value</th>\n",
       "    </tr>\n",
       "  </thead>\n",
       "  <tbody>\n",
       "    <tr>\n",
       "      <th>0</th>\n",
       "      <td>3442f8959a84dea7ee197c632cb2df15</td>\n",
       "      <td>bc8a5de6abf5b14f98a6135a7fb46731</td>\n",
       "      <td>2</td>\n",
       "      <td>325a06bcce0da45b7f4ecf2797dd40e4</td>\n",
       "      <td>158.80</td>\n",
       "    </tr>\n",
       "    <tr>\n",
       "      <th>1</th>\n",
       "      <td>d1b65fc7debc3361ea86b5f14c68d2e2</td>\n",
       "      <td>035201c3c82a97f8a25dd6bd5244b2d5</td>\n",
       "      <td>1</td>\n",
       "      <td>1c36a5285f7f3b1ed2637d7c528ce5ff</td>\n",
       "      <td>135.08</td>\n",
       "    </tr>\n",
       "    <tr>\n",
       "      <th>2</th>\n",
       "      <td>d1b65fc7debc3361ea86b5f14c68d2e2</td>\n",
       "      <td>0504447548229e075dea8441b37b1e2a</td>\n",
       "      <td>1</td>\n",
       "      <td>8852eb03b04ec3268a66e9b696e25f6f</td>\n",
       "      <td>221.79</td>\n",
       "    </tr>\n",
       "    <tr>\n",
       "      <th>3</th>\n",
       "      <td>d1b65fc7debc3361ea86b5f14c68d2e2</td>\n",
       "      <td>16fd9b360cbadca08b1026c8532820f5</td>\n",
       "      <td>1</td>\n",
       "      <td>f74ed500ab93d12ce3fbc611474d89af</td>\n",
       "      <td>213.09</td>\n",
       "    </tr>\n",
       "    <tr>\n",
       "      <th>4</th>\n",
       "      <td>d1b65fc7debc3361ea86b5f14c68d2e2</td>\n",
       "      <td>21fab12baaa93481ad76d02fa22255eb</td>\n",
       "      <td>1</td>\n",
       "      <td>4353af36fe588dc73497fa158ed6cefb</td>\n",
       "      <td>388.01</td>\n",
       "    </tr>\n",
       "  </tbody>\n",
       "</table>\n",
       "</div>"
      ],
      "text/plain": [
       "                          seller_id                          order_id  \\\n",
       "0  3442f8959a84dea7ee197c632cb2df15  bc8a5de6abf5b14f98a6135a7fb46731   \n",
       "1  d1b65fc7debc3361ea86b5f14c68d2e2  035201c3c82a97f8a25dd6bd5244b2d5   \n",
       "2  d1b65fc7debc3361ea86b5f14c68d2e2  0504447548229e075dea8441b37b1e2a   \n",
       "3  d1b65fc7debc3361ea86b5f14c68d2e2  16fd9b360cbadca08b1026c8532820f5   \n",
       "4  d1b65fc7debc3361ea86b5f14c68d2e2  21fab12baaa93481ad76d02fa22255eb   \n",
       "\n",
       "   order_item_id                        product_id  payment_value  \n",
       "0              2  325a06bcce0da45b7f4ecf2797dd40e4         158.80  \n",
       "1              1  1c36a5285f7f3b1ed2637d7c528ce5ff         135.08  \n",
       "2              1  8852eb03b04ec3268a66e9b696e25f6f         221.79  \n",
       "3              1  f74ed500ab93d12ce3fbc611474d89af         213.09  \n",
       "4              1  4353af36fe588dc73497fa158ed6cefb         388.01  "
      ]
     },
     "execution_count": 349,
     "metadata": {},
     "output_type": "execute_result"
    }
   ],
   "source": [
    "merged_df2 = pd.merge(merged_df2, order_payments_df_cleaned, on='order_id', how='inner')\n",
    "merged_df2.head()"
   ]
  },
  {
   "cell_type": "markdown",
   "id": "5d0a1480-57f1-4c0b-a239-d2a196458b38",
   "metadata": {},
   "source": [
    "### Valores faltantes"
   ]
  },
  {
   "cell_type": "code",
   "execution_count": 350,
   "id": "3471d002-666e-489e-a11e-9a240754e5bf",
   "metadata": {},
   "outputs": [
    {
     "data": {
      "text/plain": [
       "seller_id        0\n",
       "order_id         0\n",
       "order_item_id    0\n",
       "product_id       0\n",
       "payment_value    0\n",
       "dtype: int64"
      ]
     },
     "execution_count": 350,
     "metadata": {},
     "output_type": "execute_result"
    }
   ],
   "source": [
    "merged_df2.isnull().sum()"
   ]
  },
  {
   "cell_type": "markdown",
   "id": "ebe2d73c-44c4-4888-a077-d3865545c8c5",
   "metadata": {},
   "source": [
    "### Duplicatas"
   ]
  },
  {
   "cell_type": "code",
   "execution_count": 351,
   "id": "1e3d10cc-974a-4951-a56e-12be50d13ae0",
   "metadata": {},
   "outputs": [
    {
     "data": {
      "text/plain": [
       "np.int64(448)"
      ]
     },
     "execution_count": 351,
     "metadata": {},
     "output_type": "execute_result"
    }
   ],
   "source": [
    "merged_df2.duplicated().sum()"
   ]
  },
  {
   "cell_type": "markdown",
   "id": "57727895-067d-4639-892a-275c5e98dd8a",
   "metadata": {},
   "source": [
    "**Excluindo as duplicatas utilizando como parâmetros as chaves que uniram os dataframes**"
   ]
  },
  {
   "cell_type": "code",
   "execution_count": 352,
   "id": "6a44254b-6af3-4ca2-af1a-5e26bec6232f",
   "metadata": {},
   "outputs": [],
   "source": [
    "final_merged_df2 = merged_df2.drop_duplicates(subset=(['seller_id', 'order_id']))"
   ]
  },
  {
   "cell_type": "code",
   "execution_count": 353,
   "id": "b468e6ca-6ba3-4c76-91b4-c92eb0b00ecf",
   "metadata": {},
   "outputs": [
    {
     "data": {
      "text/plain": [
       "np.int64(0)"
      ]
     },
     "execution_count": 353,
     "metadata": {},
     "output_type": "execute_result"
    }
   ],
   "source": [
    "final_merged_df2.duplicated().sum()"
   ]
  },
  {
   "cell_type": "markdown",
   "id": "fde24fea-6890-4511-a577-c8cc78319b39",
   "metadata": {},
   "source": [
    "### Agrupando por seller e payment value"
   ]
  },
  {
   "cell_type": "code",
   "execution_count": 354,
   "id": "1c00b32e-ebb3-4f70-b5fa-5cc8e624387e",
   "metadata": {},
   "outputs": [],
   "source": [
    "group_by_seller_payment = final_merged_df2.groupby('seller_id')['payment_value']"
   ]
  },
  {
   "cell_type": "code",
   "execution_count": 355,
   "id": "3e6c5920-854b-4f40-bfdc-3ac3454db569",
   "metadata": {},
   "outputs": [],
   "source": [
    "group_by_seller_payment = group_by_seller_payment.sum().reset_index()"
   ]
  },
  {
   "cell_type": "code",
   "execution_count": 356,
   "id": "dad1a37d-2957-44d8-aab7-1bd6d43e6377",
   "metadata": {},
   "outputs": [
    {
     "data": {
      "text/html": [
       "<div>\n",
       "<style scoped>\n",
       "    .dataframe tbody tr th:only-of-type {\n",
       "        vertical-align: middle;\n",
       "    }\n",
       "\n",
       "    .dataframe tbody tr th {\n",
       "        vertical-align: top;\n",
       "    }\n",
       "\n",
       "    .dataframe thead th {\n",
       "        text-align: right;\n",
       "    }\n",
       "</style>\n",
       "<table border=\"1\" class=\"dataframe\">\n",
       "  <thead>\n",
       "    <tr style=\"text-align: right;\">\n",
       "      <th></th>\n",
       "      <th>seller_id</th>\n",
       "      <th>payment_value</th>\n",
       "    </tr>\n",
       "  </thead>\n",
       "  <tbody>\n",
       "    <tr>\n",
       "      <th>0</th>\n",
       "      <td>0015a82c2db000af6aaaf3ae2ecb0532</td>\n",
       "      <td>2748.06</td>\n",
       "    </tr>\n",
       "    <tr>\n",
       "      <th>1</th>\n",
       "      <td>001cca7ae9ae17fb1caed9dfb1094831</td>\n",
       "      <td>15838.33</td>\n",
       "    </tr>\n",
       "    <tr>\n",
       "      <th>2</th>\n",
       "      <td>002100f778ceb8431b7a1020ff7ab48f</td>\n",
       "      <td>2110.33</td>\n",
       "    </tr>\n",
       "    <tr>\n",
       "      <th>3</th>\n",
       "      <td>003554e2dce176b5555353e4f3555ac8</td>\n",
       "      <td>139.38</td>\n",
       "    </tr>\n",
       "    <tr>\n",
       "      <th>4</th>\n",
       "      <td>004c9cd9d87a3c30c522c48c4fc07416</td>\n",
       "      <td>9830.99</td>\n",
       "    </tr>\n",
       "    <tr>\n",
       "      <th>...</th>\n",
       "      <td>...</td>\n",
       "      <td>...</td>\n",
       "    </tr>\n",
       "    <tr>\n",
       "      <th>2614</th>\n",
       "      <td>ffad1e7127fb622cb64a900751590acd</td>\n",
       "      <td>1090.83</td>\n",
       "    </tr>\n",
       "    <tr>\n",
       "      <th>2615</th>\n",
       "      <td>ffc470761de7d0232558ba5e786e57b7</td>\n",
       "      <td>1856.85</td>\n",
       "    </tr>\n",
       "    <tr>\n",
       "      <th>2616</th>\n",
       "      <td>ffdd9f82b9a447f6f8d4b91554cc7dd3</td>\n",
       "      <td>2287.25</td>\n",
       "    </tr>\n",
       "    <tr>\n",
       "      <th>2617</th>\n",
       "      <td>ffeee66ac5d5a62fe688b9d26f83f534</td>\n",
       "      <td>2259.55</td>\n",
       "    </tr>\n",
       "    <tr>\n",
       "      <th>2618</th>\n",
       "      <td>fffd5413c0700ac820c7069d66d98c89</td>\n",
       "      <td>10678.78</td>\n",
       "    </tr>\n",
       "  </tbody>\n",
       "</table>\n",
       "<p>2619 rows × 2 columns</p>\n",
       "</div>"
      ],
      "text/plain": [
       "                             seller_id  payment_value\n",
       "0     0015a82c2db000af6aaaf3ae2ecb0532        2748.06\n",
       "1     001cca7ae9ae17fb1caed9dfb1094831       15838.33\n",
       "2     002100f778ceb8431b7a1020ff7ab48f        2110.33\n",
       "3     003554e2dce176b5555353e4f3555ac8         139.38\n",
       "4     004c9cd9d87a3c30c522c48c4fc07416        9830.99\n",
       "...                                ...            ...\n",
       "2614  ffad1e7127fb622cb64a900751590acd        1090.83\n",
       "2615  ffc470761de7d0232558ba5e786e57b7        1856.85\n",
       "2616  ffdd9f82b9a447f6f8d4b91554cc7dd3        2287.25\n",
       "2617  ffeee66ac5d5a62fe688b9d26f83f534        2259.55\n",
       "2618  fffd5413c0700ac820c7069d66d98c89       10678.78\n",
       "\n",
       "[2619 rows x 2 columns]"
      ]
     },
     "execution_count": 356,
     "metadata": {},
     "output_type": "execute_result"
    }
   ],
   "source": [
    "group_by_seller_payment"
   ]
  },
  {
   "cell_type": "code",
   "execution_count": 357,
   "id": "83b993a6-b753-4b66-a801-edd3aef83afc",
   "metadata": {},
   "outputs": [],
   "source": [
    "df_category_seller_payment = group_by_seller_payment.sort_values(by=['payment_value'], ascending=False)"
   ]
  },
  {
   "cell_type": "code",
   "execution_count": 358,
   "id": "9165c201-a4bb-4772-b1c6-8330ac410fc2",
   "metadata": {},
   "outputs": [
    {
     "data": {
      "text/html": [
       "<div>\n",
       "<style scoped>\n",
       "    .dataframe tbody tr th:only-of-type {\n",
       "        vertical-align: middle;\n",
       "    }\n",
       "\n",
       "    .dataframe tbody tr th {\n",
       "        vertical-align: top;\n",
       "    }\n",
       "\n",
       "    .dataframe thead th {\n",
       "        text-align: right;\n",
       "    }\n",
       "</style>\n",
       "<table border=\"1\" class=\"dataframe\">\n",
       "  <thead>\n",
       "    <tr style=\"text-align: right;\">\n",
       "      <th></th>\n",
       "      <th>seller_id</th>\n",
       "      <th>payment_value</th>\n",
       "    </tr>\n",
       "  </thead>\n",
       "  <tbody>\n",
       "    <tr>\n",
       "      <th>751</th>\n",
       "      <td>4869f7a5dfa277a7dca6462dcf3b52b2</td>\n",
       "      <td>221195.68</td>\n",
       "    </tr>\n",
       "    <tr>\n",
       "      <th>882</th>\n",
       "      <td>53243585a1d6dc2643021fd1853d8905</td>\n",
       "      <td>214912.99</td>\n",
       "    </tr>\n",
       "    <tr>\n",
       "      <th>168</th>\n",
       "      <td>1025f0e2d44d7041d6cf58b6550e0bfa</td>\n",
       "      <td>170025.09</td>\n",
       "    </tr>\n",
       "    <tr>\n",
       "      <th>1316</th>\n",
       "      <td>7c67e1448b00f6e969d365cea6b010ab</td>\n",
       "      <td>169568.68</td>\n",
       "    </tr>\n",
       "    <tr>\n",
       "      <th>771</th>\n",
       "      <td>4a3ca9315b744ce9f8e9374361493884</td>\n",
       "      <td>159112.63</td>\n",
       "    </tr>\n",
       "    <tr>\n",
       "      <th>...</th>\n",
       "      <td>...</td>\n",
       "      <td>...</td>\n",
       "    </tr>\n",
       "    <tr>\n",
       "      <th>1992</th>\n",
       "      <td>c1dde11f12d05c478f5de2d7319ad3b2</td>\n",
       "      <td>19.89</td>\n",
       "    </tr>\n",
       "    <tr>\n",
       "      <th>759</th>\n",
       "      <td>4965a7002cca77301c82d3f91b82e1a9</td>\n",
       "      <td>16.36</td>\n",
       "    </tr>\n",
       "    <tr>\n",
       "      <th>614</th>\n",
       "      <td>3ac588cd562971392504a9e17130c40b</td>\n",
       "      <td>11.46</td>\n",
       "    </tr>\n",
       "    <tr>\n",
       "      <th>1754</th>\n",
       "      <td>aa17b35ce4de7b565be3249ba838944f</td>\n",
       "      <td>7.50</td>\n",
       "    </tr>\n",
       "    <tr>\n",
       "      <th>1866</th>\n",
       "      <td>b5dd7151a92ccaaa282cbe9681a05f44</td>\n",
       "      <td>3.70</td>\n",
       "    </tr>\n",
       "  </tbody>\n",
       "</table>\n",
       "<p>2619 rows × 2 columns</p>\n",
       "</div>"
      ],
      "text/plain": [
       "                             seller_id  payment_value\n",
       "751   4869f7a5dfa277a7dca6462dcf3b52b2      221195.68\n",
       "882   53243585a1d6dc2643021fd1853d8905      214912.99\n",
       "168   1025f0e2d44d7041d6cf58b6550e0bfa      170025.09\n",
       "1316  7c67e1448b00f6e969d365cea6b010ab      169568.68\n",
       "771   4a3ca9315b744ce9f8e9374361493884      159112.63\n",
       "...                                ...            ...\n",
       "1992  c1dde11f12d05c478f5de2d7319ad3b2          19.89\n",
       "759   4965a7002cca77301c82d3f91b82e1a9          16.36\n",
       "614   3ac588cd562971392504a9e17130c40b          11.46\n",
       "1754  aa17b35ce4de7b565be3249ba838944f           7.50\n",
       "1866  b5dd7151a92ccaaa282cbe9681a05f44           3.70\n",
       "\n",
       "[2619 rows x 2 columns]"
      ]
     },
     "execution_count": 358,
     "metadata": {},
     "output_type": "execute_result"
    }
   ],
   "source": [
    "df_category_seller_payment"
   ]
  },
  {
   "cell_type": "code",
   "execution_count": 304,
   "id": "8b7edd6c-8d9c-4c23-b4a8-ba715f5c2125",
   "metadata": {},
   "outputs": [],
   "source": [
    "df_category_seller_payment['seller_name'] = 'seller' + df_category_seller_payment['seller_id'].str[:4]"
   ]
  },
  {
   "cell_type": "code",
   "execution_count": 305,
   "id": "ad184dc4-db2f-406c-8135-8c759be4eb6b",
   "metadata": {},
   "outputs": [
    {
     "data": {
      "text/html": [
       "<div>\n",
       "<style scoped>\n",
       "    .dataframe tbody tr th:only-of-type {\n",
       "        vertical-align: middle;\n",
       "    }\n",
       "\n",
       "    .dataframe tbody tr th {\n",
       "        vertical-align: top;\n",
       "    }\n",
       "\n",
       "    .dataframe thead th {\n",
       "        text-align: right;\n",
       "    }\n",
       "</style>\n",
       "<table border=\"1\" class=\"dataframe\">\n",
       "  <thead>\n",
       "    <tr style=\"text-align: right;\">\n",
       "      <th></th>\n",
       "      <th>seller_id</th>\n",
       "      <th>payment_value</th>\n",
       "      <th>seller_name</th>\n",
       "    </tr>\n",
       "  </thead>\n",
       "  <tbody>\n",
       "    <tr>\n",
       "      <th>751</th>\n",
       "      <td>4869f7a5dfa277a7dca6462dcf3b52b2</td>\n",
       "      <td>221195.68</td>\n",
       "      <td>seller4869</td>\n",
       "    </tr>\n",
       "    <tr>\n",
       "      <th>882</th>\n",
       "      <td>53243585a1d6dc2643021fd1853d8905</td>\n",
       "      <td>214912.99</td>\n",
       "      <td>seller5324</td>\n",
       "    </tr>\n",
       "    <tr>\n",
       "      <th>168</th>\n",
       "      <td>1025f0e2d44d7041d6cf58b6550e0bfa</td>\n",
       "      <td>170025.09</td>\n",
       "      <td>seller1025</td>\n",
       "    </tr>\n",
       "    <tr>\n",
       "      <th>1316</th>\n",
       "      <td>7c67e1448b00f6e969d365cea6b010ab</td>\n",
       "      <td>169568.68</td>\n",
       "      <td>seller7c67</td>\n",
       "    </tr>\n",
       "    <tr>\n",
       "      <th>771</th>\n",
       "      <td>4a3ca9315b744ce9f8e9374361493884</td>\n",
       "      <td>159112.63</td>\n",
       "      <td>seller4a3c</td>\n",
       "    </tr>\n",
       "    <tr>\n",
       "      <th>...</th>\n",
       "      <td>...</td>\n",
       "      <td>...</td>\n",
       "      <td>...</td>\n",
       "    </tr>\n",
       "    <tr>\n",
       "      <th>1992</th>\n",
       "      <td>c1dde11f12d05c478f5de2d7319ad3b2</td>\n",
       "      <td>19.89</td>\n",
       "      <td>sellerc1dd</td>\n",
       "    </tr>\n",
       "    <tr>\n",
       "      <th>759</th>\n",
       "      <td>4965a7002cca77301c82d3f91b82e1a9</td>\n",
       "      <td>16.36</td>\n",
       "      <td>seller4965</td>\n",
       "    </tr>\n",
       "    <tr>\n",
       "      <th>614</th>\n",
       "      <td>3ac588cd562971392504a9e17130c40b</td>\n",
       "      <td>11.46</td>\n",
       "      <td>seller3ac5</td>\n",
       "    </tr>\n",
       "    <tr>\n",
       "      <th>1754</th>\n",
       "      <td>aa17b35ce4de7b565be3249ba838944f</td>\n",
       "      <td>7.50</td>\n",
       "      <td>selleraa17</td>\n",
       "    </tr>\n",
       "    <tr>\n",
       "      <th>1866</th>\n",
       "      <td>b5dd7151a92ccaaa282cbe9681a05f44</td>\n",
       "      <td>3.70</td>\n",
       "      <td>sellerb5dd</td>\n",
       "    </tr>\n",
       "  </tbody>\n",
       "</table>\n",
       "<p>2619 rows × 3 columns</p>\n",
       "</div>"
      ],
      "text/plain": [
       "                             seller_id  payment_value seller_name\n",
       "751   4869f7a5dfa277a7dca6462dcf3b52b2      221195.68  seller4869\n",
       "882   53243585a1d6dc2643021fd1853d8905      214912.99  seller5324\n",
       "168   1025f0e2d44d7041d6cf58b6550e0bfa      170025.09  seller1025\n",
       "1316  7c67e1448b00f6e969d365cea6b010ab      169568.68  seller7c67\n",
       "771   4a3ca9315b744ce9f8e9374361493884      159112.63  seller4a3c\n",
       "...                                ...            ...         ...\n",
       "1992  c1dde11f12d05c478f5de2d7319ad3b2          19.89  sellerc1dd\n",
       "759   4965a7002cca77301c82d3f91b82e1a9          16.36  seller4965\n",
       "614   3ac588cd562971392504a9e17130c40b          11.46  seller3ac5\n",
       "1754  aa17b35ce4de7b565be3249ba838944f           7.50  selleraa17\n",
       "1866  b5dd7151a92ccaaa282cbe9681a05f44           3.70  sellerb5dd\n",
       "\n",
       "[2619 rows x 3 columns]"
      ]
     },
     "execution_count": 305,
     "metadata": {},
     "output_type": "execute_result"
    }
   ],
   "source": [
    "df_category_seller_payment"
   ]
  },
  {
   "cell_type": "code",
   "execution_count": 306,
   "id": "eefe49c1-f437-4728-a002-a6773b62eb1c",
   "metadata": {},
   "outputs": [],
   "source": [
    "top_10_sellers = df_category_seller_payment.head(10)"
   ]
  },
  {
   "cell_type": "code",
   "execution_count": 307,
   "id": "744fe729-4ab5-448c-85c8-5a90e5132e47",
   "metadata": {},
   "outputs": [],
   "source": [
    "bottom_10_sellers = df_category_seller_payment.tail(10)"
   ]
  },
  {
   "cell_type": "markdown",
   "id": "08646255-efe9-41af-9c01-d0e3c7aad768",
   "metadata": {},
   "source": [
    "### Visualização através do gráfico de barras"
   ]
  },
  {
   "cell_type": "code",
   "execution_count": 308,
   "id": "80f12073-b994-4f98-b665-67f0b93dc986",
   "metadata": {},
   "outputs": [
    {
     "data": {
      "image/png": "[encoded data removed]",
      "text/plain": [
       "<Figure size 1000x600 with 1 Axes>"
      ]
     },
     "metadata": {},
     "output_type": "display_data"
    }
   ],
   "source": [
    "plt.figure(figsize=(10,6))\n",
    "sns.barplot(data=top_10_sellers, y='payment_value', x='seller_name', hue='payment_value', palette='flare')\n",
    "\n",
    "# Personalizando o gráfico\n",
    "plt.title('Vendedores que mais vendem', fontsize=16)\n",
    "plt.xlabel('Receita total (R$)', fontsize=12)\n",
    "plt.ylabel('Vendedores', fontsize=12)\n",
    "plt.tight_layout()\n",
    "\n",
    "plt.show()"
   ]
  },
  {
   "cell_type": "markdown",
   "id": "afa278c7-cd41-42c1-8313-c94a693ae330",
   "metadata": {
    "jp-MarkdownHeadingCollapsed": true
   },
   "source": [
    "# Top 10 piores sellers(com menor receita)"
   ]
  },
  {
   "cell_type": "markdown",
   "id": "ae5aba36-988b-484c-b0b1-22511dcb6dfb",
   "metadata": {},
   "source": [
    "### Visualização através do gráfico de barras"
   ]
  },
  {
   "cell_type": "code",
   "execution_count": 309,
   "id": "bd80f295-ff9d-4435-841d-9181bb69de6b",
   "metadata": {},
   "outputs": [
    {
     "data": {
      "image/png": "[encoded data removed]",
      "text/plain": [
       "<Figure size 1000x600 with 1 Axes>"
      ]
     },
     "metadata": {},
     "output_type": "display_data"
    }
   ],
   "source": [
    "plt.figure(figsize=(10,6))\n",
    "sns.barplot(data=bottom_10_sellers, y='payment_value', x='seller_name', hue='payment_value', palette='flare')\n",
    "\n",
    "# Personalizando o gráfico\n",
    "plt.title('Vendedores que menos vendem', fontsize=16)\n",
    "plt.xlabel('Receita total (R$)', fontsize=12)\n",
    "plt.ylabel('Vendedores', fontsize=12)\n",
    "plt.tight_layout()\n",
    "\n",
    "plt.show()"
   ]
  },
  {
   "cell_type": "markdown",
   "id": "fc583d81-3098-4398-a9dd-764368d0d6a2",
   "metadata": {},
   "source": [
    "# Existem sellers que vendem o mesmo produto? Se sim, quais são? Qual é a variação de preço praticado entre os Sellers?"
   ]
  },
  {
   "cell_type": "markdown",
   "id": "c7a8c1b8-24df-4f15-8d6d-7debf8e3b3be",
   "metadata": {},
   "source": [
    "**Agrupando a coluna de id do produto para realização da análise**"
   ]
  },
  {
   "cell_type": "code",
   "execution_count": 383,
   "id": "78771c77-b450-4355-9d60-714b56c49d59",
   "metadata": {},
   "outputs": [],
   "source": [
    "group_by_seller_products = final_merged_df2.groupby('seller_id')[['payment_value', 'product_id']]"
   ]
  },
  {
   "cell_type": "code",
   "execution_count": 384,
   "id": "d161e202-630a-49b4-a1e3-eb1206b0e2f6",
   "metadata": {},
   "outputs": [],
   "source": [
    "df_sellers_products = group_by_seller_products.sum().reset_index()"
   ]
  },
  {
   "cell_type": "markdown",
   "id": "1321c931-6c8f-4f28-bd95-073de85ec993",
   "metadata": {},
   "source": [
    "### Valores faltantes"
   ]
  },
  {
   "cell_type": "code",
   "execution_count": 385,
   "id": "426e6917-a84b-416c-be2a-6c7046ac0373",
   "metadata": {},
   "outputs": [
    {
     "data": {
      "text/plain": [
       "seller_id        0\n",
       "payment_value    0\n",
       "product_id       0\n",
       "dtype: int64"
      ]
     },
     "execution_count": 385,
     "metadata": {},
     "output_type": "execute_result"
    }
   ],
   "source": [
    "df_sellers_products.isnull().sum()"
   ]
  },
  {
   "cell_type": "markdown",
   "id": "4c52dbd4-7de0-4455-ba0e-aabf2ddb99e3",
   "metadata": {},
   "source": [
    "### Duplicatas"
   ]
  },
  {
   "cell_type": "code",
   "execution_count": 378,
   "id": "9ef1c494-6310-4444-b3fa-36b792f78c28",
   "metadata": {},
   "outputs": [
    {
     "data": {
      "text/plain": [
       "np.int64(0)"
      ]
     },
     "execution_count": 378,
     "metadata": {},
     "output_type": "execute_result"
    }
   ],
   "source": [
    "df_sellers_products.duplicated().sum()"
   ]
  },
  {
   "cell_type": "markdown",
   "id": "fb9b3aa4-b4f5-40cb-aa11-e1a2d433e624",
   "metadata": {},
   "source": [
    "**Criando a coluna seller_name**"
   ]
  },
  {
   "cell_type": "code",
   "execution_count": 393,
   "id": "f9de68dc-5d80-44cc-8dc7-2a70dc589978",
   "metadata": {},
   "outputs": [],
   "source": [
    "df_sellers_products['seller_name'] = 'seller' + df_sellers_products['seller_id'].str[:4]"
   ]
  },
  {
   "cell_type": "code",
   "execution_count": 394,
   "id": "e5a79aea-8e40-44e4-a206-75ac1974c9b1",
   "metadata": {},
   "outputs": [
    {
     "data": {
      "text/plain": [
       "seller_id         object\n",
       "payment_value    float64\n",
       "product_id        object\n",
       "seller_name       object\n",
       "dtype: object"
      ]
     },
     "execution_count": 394,
     "metadata": {},
     "output_type": "execute_result"
    }
   ],
   "source": [
    "df_sellers_products.dtypes"
   ]
  },
  {
   "cell_type": "markdown",
   "id": "a4119f5a-a71f-45ab-9e4c-65f3eef1b684",
   "metadata": {},
   "source": [
    "**Agrupando por sellers únicos**"
   ]
  },
  {
   "cell_type": "code",
   "execution_count": 400,
   "id": "8b1d835f-2371-444b-965a-fdac00ac5332",
   "metadata": {},
   "outputs": [],
   "source": [
    "product_sellers_count = df_sellers_products.groupby('product_id')['seller_id'].nunique().reset_index(name='seller_count')"
   ]
  },
  {
   "cell_type": "code",
   "execution_count": 401,
   "id": "cab95656-bcd4-4893-84a4-6c2e81b258f0",
   "metadata": {},
   "outputs": [
    {
     "data": {
      "text/html": [
       "<div>\n",
       "<style scoped>\n",
       "    .dataframe tbody tr th:only-of-type {\n",
       "        vertical-align: middle;\n",
       "    }\n",
       "\n",
       "    .dataframe tbody tr th {\n",
       "        vertical-align: top;\n",
       "    }\n",
       "\n",
       "    .dataframe thead th {\n",
       "        text-align: right;\n",
       "    }\n",
       "</style>\n",
       "<table border=\"1\" class=\"dataframe\">\n",
       "  <thead>\n",
       "    <tr style=\"text-align: right;\">\n",
       "      <th></th>\n",
       "      <th>product_id</th>\n",
       "      <th>seller_count</th>\n",
       "    </tr>\n",
       "  </thead>\n",
       "  <tbody>\n",
       "    <tr>\n",
       "      <th>0</th>\n",
       "      <td>000b8f95fcb9e0096488278317764d19000b8f95fcb9e0...</td>\n",
       "      <td>1</td>\n",
       "    </tr>\n",
       "    <tr>\n",
       "      <th>1</th>\n",
       "      <td>0030e635639c898b323826589761cf2314d617ec6c1f7a...</td>\n",
       "      <td>1</td>\n",
       "    </tr>\n",
       "    <tr>\n",
       "      <th>2</th>\n",
       "      <td>004552d98c5d3653af8b4dbe8def00484d8de1d60513d0...</td>\n",
       "      <td>1</td>\n",
       "    </tr>\n",
       "    <tr>\n",
       "      <th>3</th>\n",
       "      <td>0082684bb4a60a862baaf7a60a5845ed9901b5cedc1eb8...</td>\n",
       "      <td>1</td>\n",
       "    </tr>\n",
       "    <tr>\n",
       "      <th>4</th>\n",
       "      <td>00a0db09dc7c94d512ec51900141ed69e51c94c542c310...</td>\n",
       "      <td>1</td>\n",
       "    </tr>\n",
       "    <tr>\n",
       "      <th>...</th>\n",
       "      <td>...</td>\n",
       "      <td>...</td>\n",
       "    </tr>\n",
       "    <tr>\n",
       "      <th>2613</th>\n",
       "      <td>ffc9caf33e2d1e9f44e3e06da19085f7ffc9caf33e2d1e...</td>\n",
       "      <td>1</td>\n",
       "    </tr>\n",
       "    <tr>\n",
       "      <th>2614</th>\n",
       "      <td>ffc9caf33e2d1e9f44e3e06da19085f7ffc9caf33e2d1e...</td>\n",
       "      <td>1</td>\n",
       "    </tr>\n",
       "    <tr>\n",
       "      <th>2615</th>\n",
       "      <td>ffd63ee42a5c8cc5a15a1c8e2aa50011893b9464c6ab7f...</td>\n",
       "      <td>1</td>\n",
       "    </tr>\n",
       "    <tr>\n",
       "      <th>2616</th>\n",
       "      <td>ffd7628b0b0b98ebc549e8e4c54a59af</td>\n",
       "      <td>1</td>\n",
       "    </tr>\n",
       "    <tr>\n",
       "      <th>2617</th>\n",
       "      <td>fff81cc3158d2725c0655ab9ba0f712c2c96824d871617...</td>\n",
       "      <td>1</td>\n",
       "    </tr>\n",
       "  </tbody>\n",
       "</table>\n",
       "<p>2618 rows × 2 columns</p>\n",
       "</div>"
      ],
      "text/plain": [
       "                                             product_id  seller_count\n",
       "0     000b8f95fcb9e0096488278317764d19000b8f95fcb9e0...             1\n",
       "1     0030e635639c898b323826589761cf2314d617ec6c1f7a...             1\n",
       "2     004552d98c5d3653af8b4dbe8def00484d8de1d60513d0...             1\n",
       "3     0082684bb4a60a862baaf7a60a5845ed9901b5cedc1eb8...             1\n",
       "4     00a0db09dc7c94d512ec51900141ed69e51c94c542c310...             1\n",
       "...                                                 ...           ...\n",
       "2613  ffc9caf33e2d1e9f44e3e06da19085f7ffc9caf33e2d1e...             1\n",
       "2614  ffc9caf33e2d1e9f44e3e06da19085f7ffc9caf33e2d1e...             1\n",
       "2615  ffd63ee42a5c8cc5a15a1c8e2aa50011893b9464c6ab7f...             1\n",
       "2616                   ffd7628b0b0b98ebc549e8e4c54a59af             1\n",
       "2617  fff81cc3158d2725c0655ab9ba0f712c2c96824d871617...             1\n",
       "\n",
       "[2618 rows x 2 columns]"
      ]
     },
     "execution_count": 401,
     "metadata": {},
     "output_type": "execute_result"
    }
   ],
   "source": [
    "product_sellers_count"
   ]
  },
  {
   "cell_type": "code",
   "execution_count": null,
   "id": "a2cd1bdb-d1aa-4c0c-b152-b1efc7323f8c",
   "metadata": {},
   "outputs": [],
   "source": []
  }
 ],
 "metadata": {
  "kernelspec": {
   "display_name": "Python 3 (ipykernel)",
   "language": "python",
   "name": "python3"
  },
  "language_info": {
   "codemirror_mode": {
    "name": "ipython",
    "version": 3
   },
   "file_extension": ".py",
   "mimetype": "text/x-python",
   "name": "python",
   "nbconvert_exporter": "python",
   "pygments_lexer": "ipython3",
   "version": "3.13.0"
  }
 },
 "nbformat": 4,
 "nbformat_minor": 5
}
