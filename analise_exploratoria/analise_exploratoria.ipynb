{
 "cells": [
  {
   "cell_type": "code",
   "execution_count": 2831,
   "id": "25fefc74-8f39-491c-8f98-3eccc1b5396f",
   "metadata": {},
   "outputs": [],
   "source": [
    "import pandas as pd\n",
    "import numpy as np\n",
    "import matplotlib.pyplot as plt\n",
    "import seaborn as sns"
   ]
  },
  {
   "cell_type": "markdown",
   "id": "8dbca435-e52e-43b8-a945-897971a6952a",
   "metadata": {
    "jp-MarkdownHeadingCollapsed": true
   },
   "source": [
    "# Order Items Dataset"
   ]
  },
  {
   "cell_type": "code",
   "execution_count": 2832,
   "id": "d6c2f7b4-80f3-4340-b384-7aba477c0cec",
   "metadata": {},
   "outputs": [],
   "source": [
    "order_items_dataset = pd.read_csv('/home/matsa/Documents/project_sprint02/data/olist_order_items_dataset.csv', \n",
    "                            sep=',', encoding='utf-8')"
   ]
  },
  {
   "cell_type": "code",
   "execution_count": 2833,
   "id": "9946ccf1-0a57-4b1d-8524-647918bcfb85",
   "metadata": {},
   "outputs": [
    {
     "data": {
      "text/html": [
       "<div>\n",
       "<style scoped>\n",
       "    .dataframe tbody tr th:only-of-type {\n",
       "        vertical-align: middle;\n",
       "    }\n",
       "\n",
       "    .dataframe tbody tr th {\n",
       "        vertical-align: top;\n",
       "    }\n",
       "\n",
       "    .dataframe thead th {\n",
       "        text-align: right;\n",
       "    }\n",
       "</style>\n",
       "<table border=\"1\" class=\"dataframe\">\n",
       "  <thead>\n",
       "    <tr style=\"text-align: right;\">\n",
       "      <th></th>\n",
       "      <th>order_id</th>\n",
       "      <th>order_item_id</th>\n",
       "      <th>product_id</th>\n",
       "      <th>seller_id</th>\n",
       "      <th>shipping_limit_date</th>\n",
       "      <th>price</th>\n",
       "      <th>freight_value</th>\n",
       "    </tr>\n",
       "  </thead>\n",
       "  <tbody>\n",
       "    <tr>\n",
       "      <th>0</th>\n",
       "      <td>00010242fe8c5a6d1ba2dd792cb16214</td>\n",
       "      <td>1</td>\n",
       "      <td>4244733e06e7ecb4970a6e2683c13e61</td>\n",
       "      <td>48436dade18ac8b2bce089ec2a041202</td>\n",
       "      <td>2017-09-19 09:45:35</td>\n",
       "      <td>58.90</td>\n",
       "      <td>13.29</td>\n",
       "    </tr>\n",
       "    <tr>\n",
       "      <th>1</th>\n",
       "      <td>00018f77f2f0320c557190d7a144bdd3</td>\n",
       "      <td>1</td>\n",
       "      <td>e5f2d52b802189ee658865ca93d83a8f</td>\n",
       "      <td>dd7ddc04e1b6c2c614352b383efe2d36</td>\n",
       "      <td>2017-05-03 11:05:13</td>\n",
       "      <td>239.90</td>\n",
       "      <td>19.93</td>\n",
       "    </tr>\n",
       "    <tr>\n",
       "      <th>2</th>\n",
       "      <td>000229ec398224ef6ca0657da4fc703e</td>\n",
       "      <td>1</td>\n",
       "      <td>c777355d18b72b67abbeef9df44fd0fd</td>\n",
       "      <td>5b51032eddd242adc84c38acab88f23d</td>\n",
       "      <td>2018-01-18 14:48:30</td>\n",
       "      <td>199.00</td>\n",
       "      <td>17.87</td>\n",
       "    </tr>\n",
       "    <tr>\n",
       "      <th>3</th>\n",
       "      <td>00024acbcdf0a6daa1e931b038114c75</td>\n",
       "      <td>1</td>\n",
       "      <td>7634da152a4610f1595efa32f14722fc</td>\n",
       "      <td>9d7a1d34a5052409006425275ba1c2b4</td>\n",
       "      <td>2018-08-15 10:10:18</td>\n",
       "      <td>12.99</td>\n",
       "      <td>12.79</td>\n",
       "    </tr>\n",
       "    <tr>\n",
       "      <th>4</th>\n",
       "      <td>00042b26cf59d7ce69dfabb4e55b4fd9</td>\n",
       "      <td>1</td>\n",
       "      <td>ac6c3623068f30de03045865e4e10089</td>\n",
       "      <td>df560393f3a51e74553ab94004ba5c87</td>\n",
       "      <td>2017-02-13 13:57:51</td>\n",
       "      <td>199.90</td>\n",
       "      <td>18.14</td>\n",
       "    </tr>\n",
       "  </tbody>\n",
       "</table>\n",
       "</div>"
      ],
      "text/plain": [
       "                           order_id  order_item_id  \\\n",
       "0  00010242fe8c5a6d1ba2dd792cb16214              1   \n",
       "1  00018f77f2f0320c557190d7a144bdd3              1   \n",
       "2  000229ec398224ef6ca0657da4fc703e              1   \n",
       "3  00024acbcdf0a6daa1e931b038114c75              1   \n",
       "4  00042b26cf59d7ce69dfabb4e55b4fd9              1   \n",
       "\n",
       "                         product_id                         seller_id  \\\n",
       "0  4244733e06e7ecb4970a6e2683c13e61  48436dade18ac8b2bce089ec2a041202   \n",
       "1  e5f2d52b802189ee658865ca93d83a8f  dd7ddc04e1b6c2c614352b383efe2d36   \n",
       "2  c777355d18b72b67abbeef9df44fd0fd  5b51032eddd242adc84c38acab88f23d   \n",
       "3  7634da152a4610f1595efa32f14722fc  9d7a1d34a5052409006425275ba1c2b4   \n",
       "4  ac6c3623068f30de03045865e4e10089  df560393f3a51e74553ab94004ba5c87   \n",
       "\n",
       "   shipping_limit_date   price  freight_value  \n",
       "0  2017-09-19 09:45:35   58.90          13.29  \n",
       "1  2017-05-03 11:05:13  239.90          19.93  \n",
       "2  2018-01-18 14:48:30  199.00          17.87  \n",
       "3  2018-08-15 10:10:18   12.99          12.79  \n",
       "4  2017-02-13 13:57:51  199.90          18.14  "
      ]
     },
     "execution_count": 2833,
     "metadata": {},
     "output_type": "execute_result"
    }
   ],
   "source": [
    "order_items_dataset.head()"
   ]
  },
  {
   "cell_type": "code",
   "execution_count": 2834,
   "id": "2fa9a431-102d-4966-9481-72ca8cbb2375",
   "metadata": {},
   "outputs": [
    {
     "data": {
      "text/plain": [
       "(112650, 7)"
      ]
     },
     "execution_count": 2834,
     "metadata": {},
     "output_type": "execute_result"
    }
   ],
   "source": [
    "order_items_dataset.shape"
   ]
  },
  {
   "cell_type": "code",
   "execution_count": 2835,
   "id": "63870c90-a370-4813-81c8-0d346f4f245b",
   "metadata": {},
   "outputs": [
    {
     "data": {
      "text/plain": [
       "order_id                object\n",
       "order_item_id            int64\n",
       "product_id              object\n",
       "seller_id               object\n",
       "shipping_limit_date     object\n",
       "price                  float64\n",
       "freight_value          float64\n",
       "dtype: object"
      ]
     },
     "execution_count": 2835,
     "metadata": {},
     "output_type": "execute_result"
    }
   ],
   "source": [
    "order_items_dataset.dtypes"
   ]
  },
  {
   "cell_type": "code",
   "execution_count": 2836,
   "id": "d7ff91eb-0b8e-43e4-a75f-76bef0921449",
   "metadata": {},
   "outputs": [
    {
     "data": {
      "text/html": [
       "<div>\n",
       "<style scoped>\n",
       "    .dataframe tbody tr th:only-of-type {\n",
       "        vertical-align: middle;\n",
       "    }\n",
       "\n",
       "    .dataframe tbody tr th {\n",
       "        vertical-align: top;\n",
       "    }\n",
       "\n",
       "    .dataframe thead th {\n",
       "        text-align: right;\n",
       "    }\n",
       "</style>\n",
       "<table border=\"1\" class=\"dataframe\">\n",
       "  <thead>\n",
       "    <tr style=\"text-align: right;\">\n",
       "      <th></th>\n",
       "      <th>order_id</th>\n",
       "      <th>order_item_id</th>\n",
       "      <th>product_id</th>\n",
       "      <th>seller_id</th>\n",
       "      <th>shipping_limit_date</th>\n",
       "      <th>price</th>\n",
       "      <th>freight_value</th>\n",
       "    </tr>\n",
       "  </thead>\n",
       "  <tbody>\n",
       "    <tr>\n",
       "      <th>32</th>\n",
       "      <td>00143d0f86d6fbd9f9b38ab440ac16f5</td>\n",
       "      <td>1</td>\n",
       "      <td>e95ee6822b66ac6058e2e4aff656071a</td>\n",
       "      <td>a17f621c590ea0fab3d5d883e1630ec6</td>\n",
       "      <td>2017-10-20 16:07:52</td>\n",
       "      <td>21.33</td>\n",
       "      <td>15.1</td>\n",
       "    </tr>\n",
       "    <tr>\n",
       "      <th>33</th>\n",
       "      <td>00143d0f86d6fbd9f9b38ab440ac16f5</td>\n",
       "      <td>2</td>\n",
       "      <td>e95ee6822b66ac6058e2e4aff656071a</td>\n",
       "      <td>a17f621c590ea0fab3d5d883e1630ec6</td>\n",
       "      <td>2017-10-20 16:07:52</td>\n",
       "      <td>21.33</td>\n",
       "      <td>15.1</td>\n",
       "    </tr>\n",
       "    <tr>\n",
       "      <th>34</th>\n",
       "      <td>00143d0f86d6fbd9f9b38ab440ac16f5</td>\n",
       "      <td>3</td>\n",
       "      <td>e95ee6822b66ac6058e2e4aff656071a</td>\n",
       "      <td>a17f621c590ea0fab3d5d883e1630ec6</td>\n",
       "      <td>2017-10-20 16:07:52</td>\n",
       "      <td>21.33</td>\n",
       "      <td>15.1</td>\n",
       "    </tr>\n",
       "  </tbody>\n",
       "</table>\n",
       "</div>"
      ],
      "text/plain": [
       "                            order_id  order_item_id  \\\n",
       "32  00143d0f86d6fbd9f9b38ab440ac16f5              1   \n",
       "33  00143d0f86d6fbd9f9b38ab440ac16f5              2   \n",
       "34  00143d0f86d6fbd9f9b38ab440ac16f5              3   \n",
       "\n",
       "                          product_id                         seller_id  \\\n",
       "32  e95ee6822b66ac6058e2e4aff656071a  a17f621c590ea0fab3d5d883e1630ec6   \n",
       "33  e95ee6822b66ac6058e2e4aff656071a  a17f621c590ea0fab3d5d883e1630ec6   \n",
       "34  e95ee6822b66ac6058e2e4aff656071a  a17f621c590ea0fab3d5d883e1630ec6   \n",
       "\n",
       "    shipping_limit_date  price  freight_value  \n",
       "32  2017-10-20 16:07:52  21.33           15.1  \n",
       "33  2017-10-20 16:07:52  21.33           15.1  \n",
       "34  2017-10-20 16:07:52  21.33           15.1  "
      ]
     },
     "execution_count": 2836,
     "metadata": {},
     "output_type": "execute_result"
    }
   ],
   "source": [
    "productx = order_items_dataset.loc[order_items_dataset.order_id == '00143d0f86d6fbd9f9b38ab440ac16f5']\n",
    "productx"
   ]
  },
  {
   "cell_type": "markdown",
   "id": "dcd8bdc9-46fe-4505-bba4-9810ec6f2f68",
   "metadata": {},
   "source": [
    "### Valores faltantes"
   ]
  },
  {
   "cell_type": "code",
   "execution_count": 2837,
   "id": "2a624f3c-171a-46fd-b6ee-75a48d0d9d63",
   "metadata": {},
   "outputs": [
    {
     "data": {
      "text/plain": [
       "order_id               0\n",
       "order_item_id          0\n",
       "product_id             0\n",
       "seller_id              0\n",
       "shipping_limit_date    0\n",
       "price                  0\n",
       "freight_value          0\n",
       "dtype: int64"
      ]
     },
     "execution_count": 2837,
     "metadata": {},
     "output_type": "execute_result"
    }
   ],
   "source": [
    "order_items_dataset.isnull().sum()"
   ]
  },
  {
   "cell_type": "markdown",
   "id": "12351db2-5dec-4d35-9d6c-4387681f0099",
   "metadata": {},
   "source": [
    "### Duplicatas"
   ]
  },
  {
   "cell_type": "code",
   "execution_count": 2838,
   "id": "0179cc14-ff37-4a17-9f31-7baff49fe801",
   "metadata": {},
   "outputs": [
    {
     "data": {
      "text/plain": [
       "np.int64(0)"
      ]
     },
     "execution_count": 2838,
     "metadata": {},
     "output_type": "execute_result"
    }
   ],
   "source": [
    "order_items_dataset.duplicated().sum()"
   ]
  },
  {
   "cell_type": "markdown",
   "id": "bf556574-23d2-48eb-b2f8-b215f0a59e9a",
   "metadata": {},
   "source": [
    "### Excluindo colunas"
   ]
  },
  {
   "cell_type": "code",
   "execution_count": 2839,
   "id": "fb1d11c1-fe79-4055-bc1d-3ebd3b30179f",
   "metadata": {},
   "outputs": [],
   "source": [
    "columns_drop = order_items_dataset.columns[[4,5,6]]"
   ]
  },
  {
   "cell_type": "code",
   "execution_count": 2840,
   "id": "fa412ffc-187c-4f10-b966-4e030d59b77a",
   "metadata": {},
   "outputs": [],
   "source": [
    "order_items_df_cleaned = order_items_dataset.drop(columns=columns_drop, axis=1)"
   ]
  },
  {
   "cell_type": "code",
   "execution_count": 2841,
   "id": "d76dcc75-32f7-4f41-9f7a-274218d023ed",
   "metadata": {},
   "outputs": [
    {
     "data": {
      "text/plain": [
       "order_id         object\n",
       "order_item_id     int64\n",
       "product_id       object\n",
       "seller_id        object\n",
       "dtype: object"
      ]
     },
     "execution_count": 2841,
     "metadata": {},
     "output_type": "execute_result"
    }
   ],
   "source": [
    "order_items_df_cleaned.dtypes"
   ]
  },
  {
   "cell_type": "markdown",
   "id": "23c92973-7f0a-40b6-83c4-714f45c20b13",
   "metadata": {
    "jp-MarkdownHeadingCollapsed": true
   },
   "source": [
    "# Order Payments Dataset"
   ]
  },
  {
   "cell_type": "code",
   "execution_count": 2842,
   "id": "792b0c49-30ab-4475-b27c-05c578d1b231",
   "metadata": {},
   "outputs": [],
   "source": [
    "order_payments_dataset = pd.read_csv('/home/matsa/Documents/project_sprint02/data/olist_order_payments_dataset.csv')"
   ]
  },
  {
   "cell_type": "code",
   "execution_count": 2843,
   "id": "9b85bfac-2818-44e8-b95d-127f36156de2",
   "metadata": {},
   "outputs": [
    {
     "data": {
      "text/html": [
       "<div>\n",
       "<style scoped>\n",
       "    .dataframe tbody tr th:only-of-type {\n",
       "        vertical-align: middle;\n",
       "    }\n",
       "\n",
       "    .dataframe tbody tr th {\n",
       "        vertical-align: top;\n",
       "    }\n",
       "\n",
       "    .dataframe thead th {\n",
       "        text-align: right;\n",
       "    }\n",
       "</style>\n",
       "<table border=\"1\" class=\"dataframe\">\n",
       "  <thead>\n",
       "    <tr style=\"text-align: right;\">\n",
       "      <th></th>\n",
       "      <th>order_id</th>\n",
       "      <th>payment_sequential</th>\n",
       "      <th>payment_type</th>\n",
       "      <th>payment_installments</th>\n",
       "      <th>payment_value</th>\n",
       "    </tr>\n",
       "  </thead>\n",
       "  <tbody>\n",
       "    <tr>\n",
       "      <th>0</th>\n",
       "      <td>b81ef226f3fe1789b1e8b2acac839d17</td>\n",
       "      <td>1</td>\n",
       "      <td>credit_card</td>\n",
       "      <td>8</td>\n",
       "      <td>99.33</td>\n",
       "    </tr>\n",
       "    <tr>\n",
       "      <th>1</th>\n",
       "      <td>a9810da82917af2d9aefd1278f1dcfa0</td>\n",
       "      <td>1</td>\n",
       "      <td>credit_card</td>\n",
       "      <td>1</td>\n",
       "      <td>24.39</td>\n",
       "    </tr>\n",
       "    <tr>\n",
       "      <th>2</th>\n",
       "      <td>25e8ea4e93396b6fa0d3dd708e76c1bd</td>\n",
       "      <td>1</td>\n",
       "      <td>credit_card</td>\n",
       "      <td>1</td>\n",
       "      <td>65.71</td>\n",
       "    </tr>\n",
       "    <tr>\n",
       "      <th>3</th>\n",
       "      <td>ba78997921bbcdc1373bb41e913ab953</td>\n",
       "      <td>1</td>\n",
       "      <td>credit_card</td>\n",
       "      <td>8</td>\n",
       "      <td>107.78</td>\n",
       "    </tr>\n",
       "    <tr>\n",
       "      <th>4</th>\n",
       "      <td>42fdf880ba16b47b59251dd489d4441a</td>\n",
       "      <td>1</td>\n",
       "      <td>credit_card</td>\n",
       "      <td>2</td>\n",
       "      <td>128.45</td>\n",
       "    </tr>\n",
       "  </tbody>\n",
       "</table>\n",
       "</div>"
      ],
      "text/plain": [
       "                           order_id  payment_sequential payment_type  \\\n",
       "0  b81ef226f3fe1789b1e8b2acac839d17                   1  credit_card   \n",
       "1  a9810da82917af2d9aefd1278f1dcfa0                   1  credit_card   \n",
       "2  25e8ea4e93396b6fa0d3dd708e76c1bd                   1  credit_card   \n",
       "3  ba78997921bbcdc1373bb41e913ab953                   1  credit_card   \n",
       "4  42fdf880ba16b47b59251dd489d4441a                   1  credit_card   \n",
       "\n",
       "   payment_installments  payment_value  \n",
       "0                     8          99.33  \n",
       "1                     1          24.39  \n",
       "2                     1          65.71  \n",
       "3                     8         107.78  \n",
       "4                     2         128.45  "
      ]
     },
     "execution_count": 2843,
     "metadata": {},
     "output_type": "execute_result"
    }
   ],
   "source": [
    "order_payments_dataset.head()"
   ]
  },
  {
   "cell_type": "code",
   "execution_count": 2844,
   "id": "29c2c5dd-c10e-4e48-ab09-c83c93a5b1c0",
   "metadata": {},
   "outputs": [
    {
     "data": {
      "text/html": [
       "<div>\n",
       "<style scoped>\n",
       "    .dataframe tbody tr th:only-of-type {\n",
       "        vertical-align: middle;\n",
       "    }\n",
       "\n",
       "    .dataframe tbody tr th {\n",
       "        vertical-align: top;\n",
       "    }\n",
       "\n",
       "    .dataframe thead th {\n",
       "        text-align: right;\n",
       "    }\n",
       "</style>\n",
       "<table border=\"1\" class=\"dataframe\">\n",
       "  <thead>\n",
       "    <tr style=\"text-align: right;\">\n",
       "      <th></th>\n",
       "      <th>order_id</th>\n",
       "      <th>payment_sequential</th>\n",
       "      <th>payment_type</th>\n",
       "      <th>payment_installments</th>\n",
       "      <th>payment_value</th>\n",
       "    </tr>\n",
       "  </thead>\n",
       "  <tbody>\n",
       "    <tr>\n",
       "      <th>29413</th>\n",
       "      <td>00143d0f86d6fbd9f9b38ab440ac16f5</td>\n",
       "      <td>1</td>\n",
       "      <td>credit_card</td>\n",
       "      <td>1</td>\n",
       "      <td>109.29</td>\n",
       "    </tr>\n",
       "  </tbody>\n",
       "</table>\n",
       "</div>"
      ],
      "text/plain": [
       "                               order_id  payment_sequential payment_type  \\\n",
       "29413  00143d0f86d6fbd9f9b38ab440ac16f5                   1  credit_card   \n",
       "\n",
       "       payment_installments  payment_value  \n",
       "29413                     1         109.29  "
      ]
     },
     "execution_count": 2844,
     "metadata": {},
     "output_type": "execute_result"
    }
   ],
   "source": [
    "# procurando pela order_id deixada como exemplo no documento de informações\n",
    "x = order_payments_dataset.loc[order_payments_dataset.order_id == '00143d0f86d6fbd9f9b38ab440ac16f5']\n",
    "x"
   ]
  },
  {
   "cell_type": "code",
   "execution_count": 2845,
   "id": "bcd8bf0e-5e4a-48bd-a9b5-7c31a478a79d",
   "metadata": {},
   "outputs": [
    {
     "data": {
      "text/plain": [
       "(103886, 5)"
      ]
     },
     "execution_count": 2845,
     "metadata": {},
     "output_type": "execute_result"
    }
   ],
   "source": [
    "order_payments_dataset.shape"
   ]
  },
  {
   "cell_type": "code",
   "execution_count": 2846,
   "id": "e4ea2370-596f-469c-96b4-c091dd22b2c2",
   "metadata": {},
   "outputs": [
    {
     "data": {
      "text/plain": [
       "order_id                 object\n",
       "payment_sequential        int64\n",
       "payment_type             object\n",
       "payment_installments      int64\n",
       "payment_value           float64\n",
       "dtype: object"
      ]
     },
     "execution_count": 2846,
     "metadata": {},
     "output_type": "execute_result"
    }
   ],
   "source": [
    "order_payments_dataset.dtypes"
   ]
  },
  {
   "cell_type": "markdown",
   "id": "c5cb2c6b-c7f2-469a-9cd4-be7755b58725",
   "metadata": {},
   "source": [
    "### Valores faltantes"
   ]
  },
  {
   "cell_type": "code",
   "execution_count": 2847,
   "id": "44102e31-5e7d-42ab-9332-9de9bb916d36",
   "metadata": {},
   "outputs": [
    {
     "data": {
      "text/plain": [
       "order_id                0\n",
       "payment_sequential      0\n",
       "payment_type            0\n",
       "payment_installments    0\n",
       "payment_value           0\n",
       "dtype: int64"
      ]
     },
     "execution_count": 2847,
     "metadata": {},
     "output_type": "execute_result"
    }
   ],
   "source": [
    "order_payments_dataset.isnull().sum()"
   ]
  },
  {
   "cell_type": "markdown",
   "id": "6bf1e4ac-f9d5-46bb-bf27-ded9dcc5ed91",
   "metadata": {},
   "source": [
    "### Duplicatas"
   ]
  },
  {
   "cell_type": "code",
   "execution_count": 2848,
   "id": "d7c1cf3a-13af-46bf-82df-194792260c85",
   "metadata": {},
   "outputs": [
    {
     "data": {
      "text/plain": [
       "np.int64(0)"
      ]
     },
     "execution_count": 2848,
     "metadata": {},
     "output_type": "execute_result"
    }
   ],
   "source": [
    "order_payments_dataset.duplicated().sum()"
   ]
  },
  {
   "cell_type": "markdown",
   "id": "40284244-a7c4-4b78-b54b-f9d5c5a4339a",
   "metadata": {},
   "source": [
    "### Excluindo colunas"
   ]
  },
  {
   "cell_type": "code",
   "execution_count": 2849,
   "id": "8ae51259-b296-4325-81d2-05ac79163d74",
   "metadata": {},
   "outputs": [],
   "source": [
    "columns_drop = order_payments_dataset.columns[[1,2,3]]"
   ]
  },
  {
   "cell_type": "code",
   "execution_count": 2850,
   "id": "214b1da5-e2e2-4859-a5ac-c742538ac317",
   "metadata": {},
   "outputs": [],
   "source": [
    "order_payments_df_cleaned = order_payments_dataset.drop(columns=columns_drop, axis=1)"
   ]
  },
  {
   "cell_type": "code",
   "execution_count": 2851,
   "id": "335dbe58-edd0-47ae-9ceb-104a0d77e81e",
   "metadata": {},
   "outputs": [
    {
     "data": {
      "text/plain": [
       "order_id          object\n",
       "payment_value    float64\n",
       "dtype: object"
      ]
     },
     "execution_count": 2851,
     "metadata": {},
     "output_type": "execute_result"
    }
   ],
   "source": [
    "order_payments_df_cleaned.dtypes"
   ]
  },
  {
   "cell_type": "markdown",
   "id": "129dc284-df4f-49e8-9271-2c63dff9fb8e",
   "metadata": {
    "jp-MarkdownHeadingCollapsed": true
   },
   "source": [
    "# Orders Dataset"
   ]
  },
  {
   "cell_type": "code",
   "execution_count": 2852,
   "id": "19ee0072-dc8a-49ed-98fc-124cb7f156d4",
   "metadata": {},
   "outputs": [],
   "source": [
    "orders_dataset = pd.read_csv('/home/matsa/Documents/project_sprint02/data/olist_orders_dataset.csv')"
   ]
  },
  {
   "cell_type": "code",
   "execution_count": 2853,
   "id": "d5acb5a6-dd78-44cc-934f-59fe684c17d3",
   "metadata": {},
   "outputs": [
    {
     "data": {
      "text/html": [
       "<div>\n",
       "<style scoped>\n",
       "    .dataframe tbody tr th:only-of-type {\n",
       "        vertical-align: middle;\n",
       "    }\n",
       "\n",
       "    .dataframe tbody tr th {\n",
       "        vertical-align: top;\n",
       "    }\n",
       "\n",
       "    .dataframe thead th {\n",
       "        text-align: right;\n",
       "    }\n",
       "</style>\n",
       "<table border=\"1\" class=\"dataframe\">\n",
       "  <thead>\n",
       "    <tr style=\"text-align: right;\">\n",
       "      <th></th>\n",
       "      <th>order_id</th>\n",
       "      <th>customer_id</th>\n",
       "      <th>order_status</th>\n",
       "      <th>order_purchase_timestamp</th>\n",
       "      <th>order_approved_at</th>\n",
       "      <th>order_delivered_carrier_date</th>\n",
       "      <th>order_delivered_customer_date</th>\n",
       "      <th>order_estimated_delivery_date</th>\n",
       "    </tr>\n",
       "  </thead>\n",
       "  <tbody>\n",
       "    <tr>\n",
       "      <th>0</th>\n",
       "      <td>e481f51cbdc54678b7cc49136f2d6af7</td>\n",
       "      <td>9ef432eb6251297304e76186b10a928d</td>\n",
       "      <td>delivered</td>\n",
       "      <td>2017-10-02 10:56:33</td>\n",
       "      <td>2017-10-02 11:07:15</td>\n",
       "      <td>2017-10-04 19:55:00</td>\n",
       "      <td>2017-10-10 21:25:13</td>\n",
       "      <td>2017-10-18 00:00:00</td>\n",
       "    </tr>\n",
       "    <tr>\n",
       "      <th>1</th>\n",
       "      <td>53cdb2fc8bc7dce0b6741e2150273451</td>\n",
       "      <td>b0830fb4747a6c6d20dea0b8c802d7ef</td>\n",
       "      <td>delivered</td>\n",
       "      <td>2018-07-24 20:41:37</td>\n",
       "      <td>2018-07-26 03:24:27</td>\n",
       "      <td>2018-07-26 14:31:00</td>\n",
       "      <td>2018-08-07 15:27:45</td>\n",
       "      <td>2018-08-13 00:00:00</td>\n",
       "    </tr>\n",
       "    <tr>\n",
       "      <th>2</th>\n",
       "      <td>47770eb9100c2d0c44946d9cf07ec65d</td>\n",
       "      <td>41ce2a54c0b03bf3443c3d931a367089</td>\n",
       "      <td>delivered</td>\n",
       "      <td>2018-08-08 08:38:49</td>\n",
       "      <td>2018-08-08 08:55:23</td>\n",
       "      <td>2018-08-08 13:50:00</td>\n",
       "      <td>2018-08-17 18:06:29</td>\n",
       "      <td>2018-09-04 00:00:00</td>\n",
       "    </tr>\n",
       "    <tr>\n",
       "      <th>3</th>\n",
       "      <td>949d5b44dbf5de918fe9c16f97b45f8a</td>\n",
       "      <td>f88197465ea7920adcdbec7375364d82</td>\n",
       "      <td>delivered</td>\n",
       "      <td>2017-11-18 19:28:06</td>\n",
       "      <td>2017-11-18 19:45:59</td>\n",
       "      <td>2017-11-22 13:39:59</td>\n",
       "      <td>2017-12-02 00:28:42</td>\n",
       "      <td>2017-12-15 00:00:00</td>\n",
       "    </tr>\n",
       "    <tr>\n",
       "      <th>4</th>\n",
       "      <td>ad21c59c0840e6cb83a9ceb5573f8159</td>\n",
       "      <td>8ab97904e6daea8866dbdbc4fb7aad2c</td>\n",
       "      <td>delivered</td>\n",
       "      <td>2018-02-13 21:18:39</td>\n",
       "      <td>2018-02-13 22:20:29</td>\n",
       "      <td>2018-02-14 19:46:34</td>\n",
       "      <td>2018-02-16 18:17:02</td>\n",
       "      <td>2018-02-26 00:00:00</td>\n",
       "    </tr>\n",
       "  </tbody>\n",
       "</table>\n",
       "</div>"
      ],
      "text/plain": [
       "                           order_id                       customer_id  \\\n",
       "0  e481f51cbdc54678b7cc49136f2d6af7  9ef432eb6251297304e76186b10a928d   \n",
       "1  53cdb2fc8bc7dce0b6741e2150273451  b0830fb4747a6c6d20dea0b8c802d7ef   \n",
       "2  47770eb9100c2d0c44946d9cf07ec65d  41ce2a54c0b03bf3443c3d931a367089   \n",
       "3  949d5b44dbf5de918fe9c16f97b45f8a  f88197465ea7920adcdbec7375364d82   \n",
       "4  ad21c59c0840e6cb83a9ceb5573f8159  8ab97904e6daea8866dbdbc4fb7aad2c   \n",
       "\n",
       "  order_status order_purchase_timestamp    order_approved_at  \\\n",
       "0    delivered      2017-10-02 10:56:33  2017-10-02 11:07:15   \n",
       "1    delivered      2018-07-24 20:41:37  2018-07-26 03:24:27   \n",
       "2    delivered      2018-08-08 08:38:49  2018-08-08 08:55:23   \n",
       "3    delivered      2017-11-18 19:28:06  2017-11-18 19:45:59   \n",
       "4    delivered      2018-02-13 21:18:39  2018-02-13 22:20:29   \n",
       "\n",
       "  order_delivered_carrier_date order_delivered_customer_date  \\\n",
       "0          2017-10-04 19:55:00           2017-10-10 21:25:13   \n",
       "1          2018-07-26 14:31:00           2018-08-07 15:27:45   \n",
       "2          2018-08-08 13:50:00           2018-08-17 18:06:29   \n",
       "3          2017-11-22 13:39:59           2017-12-02 00:28:42   \n",
       "4          2018-02-14 19:46:34           2018-02-16 18:17:02   \n",
       "\n",
       "  order_estimated_delivery_date  \n",
       "0           2017-10-18 00:00:00  \n",
       "1           2018-08-13 00:00:00  \n",
       "2           2018-09-04 00:00:00  \n",
       "3           2017-12-15 00:00:00  \n",
       "4           2018-02-26 00:00:00  "
      ]
     },
     "execution_count": 2853,
     "metadata": {},
     "output_type": "execute_result"
    }
   ],
   "source": [
    "orders_dataset.head()"
   ]
  },
  {
   "cell_type": "code",
   "execution_count": 2854,
   "id": "2be44c81-96d6-4668-94cb-9a1d92eb4ba8",
   "metadata": {},
   "outputs": [
    {
     "data": {
      "text/plain": [
       "(99441, 8)"
      ]
     },
     "execution_count": 2854,
     "metadata": {},
     "output_type": "execute_result"
    }
   ],
   "source": [
    "orders_dataset.shape"
   ]
  },
  {
   "cell_type": "code",
   "execution_count": 2855,
   "id": "05db7a35-b3be-408b-a208-63986f55a154",
   "metadata": {},
   "outputs": [
    {
     "data": {
      "text/plain": [
       "order_id                         object\n",
       "customer_id                      object\n",
       "order_status                     object\n",
       "order_purchase_timestamp         object\n",
       "order_approved_at                object\n",
       "order_delivered_carrier_date     object\n",
       "order_delivered_customer_date    object\n",
       "order_estimated_delivery_date    object\n",
       "dtype: object"
      ]
     },
     "execution_count": 2855,
     "metadata": {},
     "output_type": "execute_result"
    }
   ],
   "source": [
    "orders_dataset.dtypes"
   ]
  },
  {
   "cell_type": "markdown",
   "id": "ebd97366-a478-4f70-89d4-bd50d83459fd",
   "metadata": {},
   "source": [
    "### Valores faltantes"
   ]
  },
  {
   "cell_type": "code",
   "execution_count": 2856,
   "id": "9195032d-d62d-4f50-a84f-8848a5258ea9",
   "metadata": {},
   "outputs": [
    {
     "data": {
      "text/plain": [
       "order_id                            0\n",
       "customer_id                         0\n",
       "order_status                        0\n",
       "order_purchase_timestamp            0\n",
       "order_approved_at                 160\n",
       "order_delivered_carrier_date     1783\n",
       "order_delivered_customer_date    2965\n",
       "order_estimated_delivery_date       0\n",
       "dtype: int64"
      ]
     },
     "execution_count": 2856,
     "metadata": {},
     "output_type": "execute_result"
    }
   ],
   "source": [
    "orders_dataset.isnull().sum()"
   ]
  },
  {
   "cell_type": "markdown",
   "id": "9ae4062f-6760-45f7-918a-7e72638ef3b1",
   "metadata": {},
   "source": [
    "Excluindo valores nulos que não farão falta na análise"
   ]
  },
  {
   "cell_type": "code",
   "execution_count": 2857,
   "id": "7b056f74-f5b6-4bd6-bf1f-516b3ed48a4f",
   "metadata": {},
   "outputs": [],
   "source": [
    "orders_dataset.dropna(axis=0, inplace=True)"
   ]
  },
  {
   "cell_type": "code",
   "execution_count": 2858,
   "id": "f0544575-8623-46a0-b869-506a7812a48a",
   "metadata": {},
   "outputs": [
    {
     "data": {
      "text/plain": [
       "order_id                         0\n",
       "customer_id                      0\n",
       "order_status                     0\n",
       "order_purchase_timestamp         0\n",
       "order_approved_at                0\n",
       "order_delivered_carrier_date     0\n",
       "order_delivered_customer_date    0\n",
       "order_estimated_delivery_date    0\n",
       "dtype: int64"
      ]
     },
     "execution_count": 2858,
     "metadata": {},
     "output_type": "execute_result"
    }
   ],
   "source": [
    "orders_dataset.isnull().sum()"
   ]
  },
  {
   "cell_type": "markdown",
   "id": "d3cdc58b-693b-45ed-bf13-b22cf62ed30f",
   "metadata": {},
   "source": [
    "### Duplicatas"
   ]
  },
  {
   "cell_type": "code",
   "execution_count": 2859,
   "id": "12f75c9f-45bf-4182-bf35-96f0d0c28aea",
   "metadata": {},
   "outputs": [
    {
     "data": {
      "text/plain": [
       "False    96461\n",
       "Name: count, dtype: int64"
      ]
     },
     "execution_count": 2859,
     "metadata": {},
     "output_type": "execute_result"
    }
   ],
   "source": [
    "orders_dataset.duplicated().value_counts()"
   ]
  },
  {
   "cell_type": "markdown",
   "id": "7a07640f-970d-4d44-8413-a2d17ad8120b",
   "metadata": {},
   "source": [
    "### Filtrando últimos 12 meses"
   ]
  },
  {
   "cell_type": "markdown",
   "id": "da8a748a-b835-4eff-84ad-88e55889d053",
   "metadata": {},
   "source": [
    "Convertendo a data do tipo object para date_time, assim fica mais simples manipular as datas"
   ]
  },
  {
   "cell_type": "code",
   "execution_count": 3054,
   "id": "245a2540-9270-4e24-809c-4ee3462e7421",
   "metadata": {},
   "outputs": [],
   "source": [
    "orders_dataset['order_approved_at'] = pd.to_datetime(orders_dataset.order_approved_at)"
   ]
  },
  {
   "cell_type": "code",
   "execution_count": 3055,
   "id": "a1c7cba5-6b33-4b39-9a50-d8378fb31762",
   "metadata": {},
   "outputs": [
    {
     "data": {
      "text/plain": [
       "order_id                                 object\n",
       "customer_id                              object\n",
       "order_status                             object\n",
       "order_purchase_timestamp                 object\n",
       "order_approved_at                datetime64[ns]\n",
       "order_delivered_carrier_date             object\n",
       "order_delivered_customer_date            object\n",
       "order_estimated_delivery_date            object\n",
       "dtype: object"
      ]
     },
     "execution_count": 3055,
     "metadata": {},
     "output_type": "execute_result"
    }
   ],
   "source": [
    "orders_dataset.dtypes"
   ]
  },
  {
   "cell_type": "markdown",
   "id": "a2293a4e-b052-4903-be5a-c030a11ace0a",
   "metadata": {},
   "source": [
    "Calculando o intervalo de 12 meses"
   ]
  },
  {
   "cell_type": "code",
   "execution_count": 3056,
   "id": "5948f23d-11bd-47e0-a06b-5deb6cb554ac",
   "metadata": {},
   "outputs": [
    {
     "data": {
      "text/plain": [
       "Timestamp('2018-08-29 15:10:26')"
      ]
     },
     "execution_count": 3056,
     "metadata": {},
     "output_type": "execute_result"
    }
   ],
   "source": [
    "last_order_date = orders_dataset.order_approved_at.max()\n",
    "last_order_date"
   ]
  },
  {
   "cell_type": "code",
   "execution_count": 3052,
   "id": "ce86438f-077d-4277-9c9a-bbd077e67db2",
   "metadata": {},
   "outputs": [
    {
     "data": {
      "text/plain": [
       "Timestamp('2017-08-29 15:10:26')"
      ]
     },
     "execution_count": 3052,
     "metadata": {},
     "output_type": "execute_result"
    }
   ],
   "source": [
    "# Subtraindo 12 meses da data máxima\n",
    "min_order_date = last_order_date - pd.DateOffset(months=12)\n",
    "min_order_date"
   ]
  },
  {
   "cell_type": "markdown",
   "id": "29adcbdf-35e7-4dd0-8c07-1f1dd66234ea",
   "metadata": {},
   "source": [
    "Filtragem por datas maiores ou igual a mínima e menores ou igual a máxima."
   ]
  },
  {
   "cell_type": "code",
   "execution_count": 2864,
   "id": "bed4529b-6af9-4cb2-9c89-050ba9456aa9",
   "metadata": {},
   "outputs": [],
   "source": [
    "orders_dataset = orders_dataset.loc[(orders_dataset.order_approved_at >= min_order_date) &\n",
    "                                    (orders_dataset.order_approved_at <= last_order_date)]"
   ]
  },
  {
   "cell_type": "code",
   "execution_count": 2865,
   "id": "4c8a7dfb-0d41-41dd-9bd3-4baf6b8cafbb",
   "metadata": {},
   "outputs": [
    {
     "data": {
      "text/plain": [
       "(74641, 8)"
      ]
     },
     "execution_count": 2865,
     "metadata": {},
     "output_type": "execute_result"
    }
   ],
   "source": [
    "orders_dataset.shape"
   ]
  },
  {
   "cell_type": "code",
   "execution_count": 2866,
   "id": "830719e5-55a9-41d8-805a-aa0b0f99bb22",
   "metadata": {},
   "outputs": [
    {
     "data": {
      "text/plain": [
       "Timestamp('2018-08-29 15:10:26')"
      ]
     },
     "execution_count": 2866,
     "metadata": {},
     "output_type": "execute_result"
    }
   ],
   "source": [
    "orders_dataset.order_approved_at.max()"
   ]
  },
  {
   "cell_type": "code",
   "execution_count": 2867,
   "id": "bfbb4ef6-232c-40fe-947e-62303cd29b7c",
   "metadata": {},
   "outputs": [
    {
     "data": {
      "text/plain": [
       "Timestamp('2017-08-29 15:35:27')"
      ]
     },
     "execution_count": 2867,
     "metadata": {},
     "output_type": "execute_result"
    }
   ],
   "source": [
    "orders_dataset.order_approved_at.min()"
   ]
  },
  {
   "cell_type": "markdown",
   "id": "eafd8009-f509-4104-b9cd-f7429fee74d7",
   "metadata": {},
   "source": [
    "### Excluindo colunas"
   ]
  },
  {
   "cell_type": "code",
   "execution_count": 2868,
   "id": "e89d39c9-024f-4929-b700-c914e5dc4aef",
   "metadata": {},
   "outputs": [],
   "source": [
    "columns_drop = orders_dataset.columns[[3,5,6,7]]"
   ]
  },
  {
   "cell_type": "code",
   "execution_count": 2869,
   "id": "cd29710d-2377-4786-97d8-07c50bf95cf0",
   "metadata": {},
   "outputs": [],
   "source": [
    "orders_df_cleaned = orders_dataset.drop(columns=columns_drop, axis=1)"
   ]
  },
  {
   "cell_type": "code",
   "execution_count": 3058,
   "id": "8c3691bd-7519-4a9c-bccc-ed9bdc0982bd",
   "metadata": {},
   "outputs": [
    {
     "data": {
      "text/plain": [
       "Index(['order_id'], dtype='object')"
      ]
     },
     "execution_count": 3058,
     "metadata": {},
     "output_type": "execute_result"
    }
   ],
   "source": [
    "orders_df_cleaned.columns"
   ]
  },
  {
   "cell_type": "markdown",
   "id": "fe4c7797-fdd8-4661-8599-b66ee9c5be45",
   "metadata": {
    "jp-MarkdownHeadingCollapsed": true
   },
   "source": [
    "# Products Dataset"
   ]
  },
  {
   "cell_type": "code",
   "execution_count": 2871,
   "id": "7692801c-962f-43fb-8197-9ddd4438d2ce",
   "metadata": {},
   "outputs": [
    {
     "data": {
      "text/html": [
       "<div>\n",
       "<style scoped>\n",
       "    .dataframe tbody tr th:only-of-type {\n",
       "        vertical-align: middle;\n",
       "    }\n",
       "\n",
       "    .dataframe tbody tr th {\n",
       "        vertical-align: top;\n",
       "    }\n",
       "\n",
       "    .dataframe thead th {\n",
       "        text-align: right;\n",
       "    }\n",
       "</style>\n",
       "<table border=\"1\" class=\"dataframe\">\n",
       "  <thead>\n",
       "    <tr style=\"text-align: right;\">\n",
       "      <th></th>\n",
       "      <th>product_id</th>\n",
       "      <th>product_category_name</th>\n",
       "      <th>product_name_lenght</th>\n",
       "      <th>product_description_lenght</th>\n",
       "      <th>product_photos_qty</th>\n",
       "      <th>product_weight_g</th>\n",
       "      <th>product_length_cm</th>\n",
       "      <th>product_height_cm</th>\n",
       "      <th>product_width_cm</th>\n",
       "    </tr>\n",
       "  </thead>\n",
       "  <tbody>\n",
       "    <tr>\n",
       "      <th>0</th>\n",
       "      <td>1e9e8ef04dbcff4541ed26657ea517e5</td>\n",
       "      <td>perfumaria</td>\n",
       "      <td>40.0</td>\n",
       "      <td>287.0</td>\n",
       "      <td>1.0</td>\n",
       "      <td>225.0</td>\n",
       "      <td>16.0</td>\n",
       "      <td>10.0</td>\n",
       "      <td>14.0</td>\n",
       "    </tr>\n",
       "    <tr>\n",
       "      <th>1</th>\n",
       "      <td>3aa071139cb16b67ca9e5dea641aaa2f</td>\n",
       "      <td>artes</td>\n",
       "      <td>44.0</td>\n",
       "      <td>276.0</td>\n",
       "      <td>1.0</td>\n",
       "      <td>1000.0</td>\n",
       "      <td>30.0</td>\n",
       "      <td>18.0</td>\n",
       "      <td>20.0</td>\n",
       "    </tr>\n",
       "    <tr>\n",
       "      <th>2</th>\n",
       "      <td>96bd76ec8810374ed1b65e291975717f</td>\n",
       "      <td>esporte_lazer</td>\n",
       "      <td>46.0</td>\n",
       "      <td>250.0</td>\n",
       "      <td>1.0</td>\n",
       "      <td>154.0</td>\n",
       "      <td>18.0</td>\n",
       "      <td>9.0</td>\n",
       "      <td>15.0</td>\n",
       "    </tr>\n",
       "    <tr>\n",
       "      <th>3</th>\n",
       "      <td>cef67bcfe19066a932b7673e239eb23d</td>\n",
       "      <td>bebes</td>\n",
       "      <td>27.0</td>\n",
       "      <td>261.0</td>\n",
       "      <td>1.0</td>\n",
       "      <td>371.0</td>\n",
       "      <td>26.0</td>\n",
       "      <td>4.0</td>\n",
       "      <td>26.0</td>\n",
       "    </tr>\n",
       "    <tr>\n",
       "      <th>4</th>\n",
       "      <td>9dc1a7de274444849c219cff195d0b71</td>\n",
       "      <td>utilidades_domesticas</td>\n",
       "      <td>37.0</td>\n",
       "      <td>402.0</td>\n",
       "      <td>4.0</td>\n",
       "      <td>625.0</td>\n",
       "      <td>20.0</td>\n",
       "      <td>17.0</td>\n",
       "      <td>13.0</td>\n",
       "    </tr>\n",
       "  </tbody>\n",
       "</table>\n",
       "</div>"
      ],
      "text/plain": [
       "                         product_id  product_category_name  \\\n",
       "0  1e9e8ef04dbcff4541ed26657ea517e5             perfumaria   \n",
       "1  3aa071139cb16b67ca9e5dea641aaa2f                  artes   \n",
       "2  96bd76ec8810374ed1b65e291975717f          esporte_lazer   \n",
       "3  cef67bcfe19066a932b7673e239eb23d                  bebes   \n",
       "4  9dc1a7de274444849c219cff195d0b71  utilidades_domesticas   \n",
       "\n",
       "   product_name_lenght  product_description_lenght  product_photos_qty  \\\n",
       "0                 40.0                       287.0                 1.0   \n",
       "1                 44.0                       276.0                 1.0   \n",
       "2                 46.0                       250.0                 1.0   \n",
       "3                 27.0                       261.0                 1.0   \n",
       "4                 37.0                       402.0                 4.0   \n",
       "\n",
       "   product_weight_g  product_length_cm  product_height_cm  product_width_cm  \n",
       "0             225.0               16.0               10.0              14.0  \n",
       "1            1000.0               30.0               18.0              20.0  \n",
       "2             154.0               18.0                9.0              15.0  \n",
       "3             371.0               26.0                4.0              26.0  \n",
       "4             625.0               20.0               17.0              13.0  "
      ]
     },
     "execution_count": 2871,
     "metadata": {},
     "output_type": "execute_result"
    }
   ],
   "source": [
    "products_dataset = pd.read_csv('/home/matsa/Documents/project_sprint02/data/olist_products_dataset.csv', \n",
    "                            sep=',', encoding='utf-8')\n",
    "\n",
    "products_dataset.head()"
   ]
  },
  {
   "cell_type": "code",
   "execution_count": 2872,
   "id": "53e7e45a-bda8-488b-9fc7-90db1838a496",
   "metadata": {},
   "outputs": [
    {
     "data": {
      "text/plain": [
       "(32951, 9)"
      ]
     },
     "execution_count": 2872,
     "metadata": {},
     "output_type": "execute_result"
    }
   ],
   "source": [
    "products_dataset.shape"
   ]
  },
  {
   "cell_type": "code",
   "execution_count": 2873,
   "id": "08c3e833-1b9c-4bd7-9e82-12a20bf28ee0",
   "metadata": {},
   "outputs": [
    {
     "data": {
      "text/plain": [
       "product_id                     object\n",
       "product_category_name          object\n",
       "product_name_lenght           float64\n",
       "product_description_lenght    float64\n",
       "product_photos_qty            float64\n",
       "product_weight_g              float64\n",
       "product_length_cm             float64\n",
       "product_height_cm             float64\n",
       "product_width_cm              float64\n",
       "dtype: object"
      ]
     },
     "execution_count": 2873,
     "metadata": {},
     "output_type": "execute_result"
    }
   ],
   "source": [
    "products_dataset.dtypes"
   ]
  },
  {
   "cell_type": "markdown",
   "id": "48b92f1c-47ff-4ad3-a59e-1301d4beb1c9",
   "metadata": {},
   "source": [
    "### Valores faltantes"
   ]
  },
  {
   "cell_type": "code",
   "execution_count": 2874,
   "id": "e3821e5b-232e-4767-ab3f-c8a480cd1090",
   "metadata": {},
   "outputs": [
    {
     "data": {
      "text/plain": [
       "product_id                      0\n",
       "product_category_name         610\n",
       "product_name_lenght           610\n",
       "product_description_lenght    610\n",
       "product_photos_qty            610\n",
       "product_weight_g                2\n",
       "product_length_cm               2\n",
       "product_height_cm               2\n",
       "product_width_cm                2\n",
       "dtype: int64"
      ]
     },
     "execution_count": 2874,
     "metadata": {},
     "output_type": "execute_result"
    }
   ],
   "source": [
    "products_dataset.isnull().sum()"
   ]
  },
  {
   "cell_type": "markdown",
   "id": "4b746e4b-df5a-4e8c-bc2d-cfebc5bd2cda",
   "metadata": {},
   "source": [
    "A ideia é excluir apenas os registros em que o **'product_category_name' é NaN**, pois registros com esse valor faltante não vão auxiliar na análise"
   ]
  },
  {
   "cell_type": "code",
   "execution_count": 2877,
   "id": "83d2e449-018a-44f2-bf2e-0f2d111fc0ad",
   "metadata": {},
   "outputs": [],
   "source": [
    "products_dataset = products_dataset.dropna(subset=['product_category_name'], axis=0) "
   ]
  },
  {
   "cell_type": "code",
   "execution_count": 2878,
   "id": "25aa2064-86d0-45b0-ac90-954fc1b6446a",
   "metadata": {},
   "outputs": [
    {
     "data": {
      "text/plain": [
       "product_id                    0\n",
       "product_category_name         0\n",
       "product_name_lenght           0\n",
       "product_description_lenght    0\n",
       "product_photos_qty            0\n",
       "product_weight_g              1\n",
       "product_length_cm             1\n",
       "product_height_cm             1\n",
       "product_width_cm              1\n",
       "dtype: int64"
      ]
     },
     "execution_count": 2878,
     "metadata": {},
     "output_type": "execute_result"
    }
   ],
   "source": [
    "products_dataset.isnull().sum()"
   ]
  },
  {
   "cell_type": "markdown",
   "id": "bf827737-08b0-4285-bb25-3b9a7164b621",
   "metadata": {},
   "source": [
    "### Removendo colunas\n",
    "\n",
    "Tomei como conclusão que as colunas abaixo não vão auxiliar na análise"
   ]
  },
  {
   "cell_type": "code",
   "execution_count": 2879,
   "id": "26466dab-a78e-4d40-9efd-78b16cc29e30",
   "metadata": {},
   "outputs": [],
   "source": [
    "columns_drop = products_dataset.columns[[2,3,4,5,6,7,8]]"
   ]
  },
  {
   "cell_type": "code",
   "execution_count": 2880,
   "id": "6a89f621-33e6-4713-9fd9-7f8258cac381",
   "metadata": {},
   "outputs": [],
   "source": [
    "products_df_cleaned = products_dataset.drop(columns=columns_drop, axis=1)"
   ]
  },
  {
   "cell_type": "code",
   "execution_count": 3057,
   "id": "1470527c-cfa9-466f-bba7-feb45b41e556",
   "metadata": {},
   "outputs": [
    {
     "data": {
      "text/plain": [
       "Index(['product_id', 'product_category_name'], dtype='object')"
      ]
     },
     "execution_count": 3057,
     "metadata": {},
     "output_type": "execute_result"
    }
   ],
   "source": [
    "products_df_cleaned.columns"
   ]
  },
  {
   "cell_type": "markdown",
   "id": "ec2f331d-2ef5-4f4c-833c-df4844ba38ab",
   "metadata": {},
   "source": [
    "### Duplicatas"
   ]
  },
  {
   "cell_type": "code",
   "execution_count": 2882,
   "id": "e92195f2-5877-4020-ae83-06f16454c7e7",
   "metadata": {},
   "outputs": [
    {
     "data": {
      "text/plain": [
       "False    32341\n",
       "Name: count, dtype: int64"
      ]
     },
     "execution_count": 2882,
     "metadata": {},
     "output_type": "execute_result"
    }
   ],
   "source": [
    "products_df_cleaned.duplicated().value_counts()"
   ]
  },
  {
   "cell_type": "markdown",
   "id": "01139db9-e2e4-44cb-9583-27e135e6af79",
   "metadata": {
    "jp-MarkdownHeadingCollapsed": true
   },
   "source": [
    "# Customers Dataset"
   ]
  },
  {
   "cell_type": "code",
   "execution_count": 2883,
   "id": "582300b7-bcbf-4a5f-b837-06a95f06ac00",
   "metadata": {},
   "outputs": [],
   "source": [
    "customers_dataset = pd.read_csv('/home/matsa/Documents/project_sprint02/data/olist_customers_dataset.csv', \n",
    "                            sep=',', encoding='utf-8')"
   ]
  },
  {
   "cell_type": "code",
   "execution_count": 2884,
   "id": "6ad525a2-7c0e-4522-a3c0-0f5bd1b8bbdf",
   "metadata": {},
   "outputs": [
    {
     "data": {
      "text/html": [
       "<div>\n",
       "<style scoped>\n",
       "    .dataframe tbody tr th:only-of-type {\n",
       "        vertical-align: middle;\n",
       "    }\n",
       "\n",
       "    .dataframe tbody tr th {\n",
       "        vertical-align: top;\n",
       "    }\n",
       "\n",
       "    .dataframe thead th {\n",
       "        text-align: right;\n",
       "    }\n",
       "</style>\n",
       "<table border=\"1\" class=\"dataframe\">\n",
       "  <thead>\n",
       "    <tr style=\"text-align: right;\">\n",
       "      <th></th>\n",
       "      <th>customer_id</th>\n",
       "      <th>customer_unique_id</th>\n",
       "      <th>customer_zip_code_prefix</th>\n",
       "      <th>customer_city</th>\n",
       "      <th>customer_state</th>\n",
       "    </tr>\n",
       "  </thead>\n",
       "  <tbody>\n",
       "    <tr>\n",
       "      <th>0</th>\n",
       "      <td>06b8999e2fba1a1fbc88172c00ba8bc7</td>\n",
       "      <td>861eff4711a542e4b93843c6dd7febb0</td>\n",
       "      <td>14409</td>\n",
       "      <td>franca</td>\n",
       "      <td>SP</td>\n",
       "    </tr>\n",
       "    <tr>\n",
       "      <th>1</th>\n",
       "      <td>18955e83d337fd6b2def6b18a428ac77</td>\n",
       "      <td>290c77bc529b7ac935b93aa66c333dc3</td>\n",
       "      <td>9790</td>\n",
       "      <td>sao bernardo do campo</td>\n",
       "      <td>SP</td>\n",
       "    </tr>\n",
       "    <tr>\n",
       "      <th>2</th>\n",
       "      <td>4e7b3e00288586ebd08712fdd0374a03</td>\n",
       "      <td>060e732b5b29e8181a18229c7b0b2b5e</td>\n",
       "      <td>1151</td>\n",
       "      <td>sao paulo</td>\n",
       "      <td>SP</td>\n",
       "    </tr>\n",
       "    <tr>\n",
       "      <th>3</th>\n",
       "      <td>b2b6027bc5c5109e529d4dc6358b12c3</td>\n",
       "      <td>259dac757896d24d7702b9acbbff3f3c</td>\n",
       "      <td>8775</td>\n",
       "      <td>mogi das cruzes</td>\n",
       "      <td>SP</td>\n",
       "    </tr>\n",
       "    <tr>\n",
       "      <th>4</th>\n",
       "      <td>4f2d8ab171c80ec8364f7c12e35b23ad</td>\n",
       "      <td>345ecd01c38d18a9036ed96c73b8d066</td>\n",
       "      <td>13056</td>\n",
       "      <td>campinas</td>\n",
       "      <td>SP</td>\n",
       "    </tr>\n",
       "  </tbody>\n",
       "</table>\n",
       "</div>"
      ],
      "text/plain": [
       "                        customer_id                customer_unique_id  \\\n",
       "0  06b8999e2fba1a1fbc88172c00ba8bc7  861eff4711a542e4b93843c6dd7febb0   \n",
       "1  18955e83d337fd6b2def6b18a428ac77  290c77bc529b7ac935b93aa66c333dc3   \n",
       "2  4e7b3e00288586ebd08712fdd0374a03  060e732b5b29e8181a18229c7b0b2b5e   \n",
       "3  b2b6027bc5c5109e529d4dc6358b12c3  259dac757896d24d7702b9acbbff3f3c   \n",
       "4  4f2d8ab171c80ec8364f7c12e35b23ad  345ecd01c38d18a9036ed96c73b8d066   \n",
       "\n",
       "   customer_zip_code_prefix          customer_city customer_state  \n",
       "0                     14409                 franca             SP  \n",
       "1                      9790  sao bernardo do campo             SP  \n",
       "2                      1151              sao paulo             SP  \n",
       "3                      8775        mogi das cruzes             SP  \n",
       "4                     13056               campinas             SP  "
      ]
     },
     "execution_count": 2884,
     "metadata": {},
     "output_type": "execute_result"
    }
   ],
   "source": [
    "customers_dataset.head()"
   ]
  },
  {
   "cell_type": "code",
   "execution_count": 2885,
   "id": "88f277e6-1a95-4b33-9ad2-da2534506188",
   "metadata": {},
   "outputs": [
    {
     "data": {
      "text/plain": [
       "(99441, 5)"
      ]
     },
     "execution_count": 2885,
     "metadata": {},
     "output_type": "execute_result"
    }
   ],
   "source": [
    "customers_dataset.shape"
   ]
  },
  {
   "cell_type": "code",
   "execution_count": 2886,
   "id": "d7f8d454-2a5d-4c06-94cd-540355ea89c0",
   "metadata": {},
   "outputs": [
    {
     "data": {
      "text/plain": [
       "customer_id                 object\n",
       "customer_unique_id          object\n",
       "customer_zip_code_prefix     int64\n",
       "customer_city               object\n",
       "customer_state              object\n",
       "dtype: object"
      ]
     },
     "execution_count": 2886,
     "metadata": {},
     "output_type": "execute_result"
    }
   ],
   "source": [
    "customers_dataset.dtypes"
   ]
  },
  {
   "cell_type": "markdown",
   "id": "9f8b5a44-d0c8-4812-83fb-28edb805b059",
   "metadata": {},
   "source": [
    "### Valores faltantes"
   ]
  },
  {
   "cell_type": "code",
   "execution_count": 2887,
   "id": "af50ddf6-4f74-43e8-acb4-a807d111a783",
   "metadata": {},
   "outputs": [
    {
     "data": {
      "text/plain": [
       "customer_id                 0\n",
       "customer_unique_id          0\n",
       "customer_zip_code_prefix    0\n",
       "customer_city               0\n",
       "customer_state              0\n",
       "dtype: int64"
      ]
     },
     "execution_count": 2887,
     "metadata": {},
     "output_type": "execute_result"
    }
   ],
   "source": [
    "customers_dataset.isnull().sum()"
   ]
  },
  {
   "cell_type": "markdown",
   "id": "4add951e-14e4-403d-9d11-91aa45170e35",
   "metadata": {},
   "source": [
    "### Duplicatas"
   ]
  },
  {
   "cell_type": "code",
   "execution_count": 2888,
   "id": "cbda3264-1cb4-4af7-9d1d-da96e72d0e74",
   "metadata": {},
   "outputs": [
    {
     "data": {
      "text/plain": [
       "False    99441\n",
       "Name: count, dtype: int64"
      ]
     },
     "execution_count": 2888,
     "metadata": {},
     "output_type": "execute_result"
    }
   ],
   "source": [
    "customers_dataset.duplicated().value_counts()"
   ]
  },
  {
   "cell_type": "markdown",
   "id": "3a99393d-d5e9-47bc-896e-33d3db37c9b6",
   "metadata": {},
   "source": [
    "As duplicatas são clientes que realizaram compras mais de uma vez"
   ]
  },
  {
   "cell_type": "code",
   "execution_count": 2889,
   "id": "63952a9b-4926-4bee-8248-54f47de1bb12",
   "metadata": {},
   "outputs": [
    {
     "data": {
      "text/plain": [
       "customer_unique_id\n",
       "False    96096\n",
       "True      3345\n",
       "Name: count, dtype: int64"
      ]
     },
     "execution_count": 2889,
     "metadata": {},
     "output_type": "execute_result"
    }
   ],
   "source": [
    "customers_dataset.customer_unique_id.duplicated().value_counts()"
   ]
  },
  {
   "cell_type": "markdown",
   "id": "eaa19600-5d5e-4950-8d56-46b96ae14ac7",
   "metadata": {},
   "source": [
    "### Excluindo colunas"
   ]
  },
  {
   "cell_type": "code",
   "execution_count": 2890,
   "id": "0ff35732-f8e7-4ee8-b95f-9f76dba0d42b",
   "metadata": {},
   "outputs": [],
   "source": [
    "columns_drop = customers_dataset.columns[[2,3,4]]"
   ]
  },
  {
   "cell_type": "code",
   "execution_count": 2891,
   "id": "ba43d6a2-9b1e-43fa-974a-7e9b266a72df",
   "metadata": {},
   "outputs": [],
   "source": [
    "customers_df_cleaned = customers_dataset.drop(columns=columns_drop, axis=1)"
   ]
  },
  {
   "cell_type": "code",
   "execution_count": 3059,
   "id": "d25c2671-791e-4aec-9d78-60decf8d275b",
   "metadata": {},
   "outputs": [
    {
     "data": {
      "text/plain": [
       "Index(['customer_id', 'customer_unique_id'], dtype='object')"
      ]
     },
     "execution_count": 3059,
     "metadata": {},
     "output_type": "execute_result"
    }
   ],
   "source": [
    "customers_df_cleaned.columns"
   ]
  },
  {
   "cell_type": "markdown",
   "id": "c6d6c2df-3d64-43ac-a6ed-44d71a5dbfba",
   "metadata": {
    "jp-MarkdownHeadingCollapsed": true
   },
   "source": [
    "# Sellers Dataset"
   ]
  },
  {
   "cell_type": "code",
   "execution_count": 2893,
   "id": "71d08011-76be-48c4-93d9-b88a56634f2a",
   "metadata": {},
   "outputs": [],
   "source": [
    "sellers_dataset = pd.read_csv('/home/matsa/Documents/project_sprint02/data/olist_sellers_dataset.csv', \n",
    "                            sep=',', encoding='utf-8')"
   ]
  },
  {
   "cell_type": "code",
   "execution_count": 2894,
   "id": "c25bc84f-8004-49b8-8768-7478efef6c05",
   "metadata": {},
   "outputs": [
    {
     "data": {
      "text/html": [
       "<div>\n",
       "<style scoped>\n",
       "    .dataframe tbody tr th:only-of-type {\n",
       "        vertical-align: middle;\n",
       "    }\n",
       "\n",
       "    .dataframe tbody tr th {\n",
       "        vertical-align: top;\n",
       "    }\n",
       "\n",
       "    .dataframe thead th {\n",
       "        text-align: right;\n",
       "    }\n",
       "</style>\n",
       "<table border=\"1\" class=\"dataframe\">\n",
       "  <thead>\n",
       "    <tr style=\"text-align: right;\">\n",
       "      <th></th>\n",
       "      <th>seller_id</th>\n",
       "      <th>seller_zip_code_prefix</th>\n",
       "      <th>seller_city</th>\n",
       "      <th>seller_state</th>\n",
       "    </tr>\n",
       "  </thead>\n",
       "  <tbody>\n",
       "    <tr>\n",
       "      <th>0</th>\n",
       "      <td>3442f8959a84dea7ee197c632cb2df15</td>\n",
       "      <td>13023</td>\n",
       "      <td>campinas</td>\n",
       "      <td>SP</td>\n",
       "    </tr>\n",
       "    <tr>\n",
       "      <th>1</th>\n",
       "      <td>d1b65fc7debc3361ea86b5f14c68d2e2</td>\n",
       "      <td>13844</td>\n",
       "      <td>mogi guacu</td>\n",
       "      <td>SP</td>\n",
       "    </tr>\n",
       "    <tr>\n",
       "      <th>2</th>\n",
       "      <td>ce3ad9de960102d0677a81f5d0bb7b2d</td>\n",
       "      <td>20031</td>\n",
       "      <td>rio de janeiro</td>\n",
       "      <td>RJ</td>\n",
       "    </tr>\n",
       "    <tr>\n",
       "      <th>3</th>\n",
       "      <td>c0f3eea2e14555b6faeea3dd58c1b1c3</td>\n",
       "      <td>4195</td>\n",
       "      <td>sao paulo</td>\n",
       "      <td>SP</td>\n",
       "    </tr>\n",
       "    <tr>\n",
       "      <th>4</th>\n",
       "      <td>51a04a8a6bdcb23deccc82b0b80742cf</td>\n",
       "      <td>12914</td>\n",
       "      <td>braganca paulista</td>\n",
       "      <td>SP</td>\n",
       "    </tr>\n",
       "  </tbody>\n",
       "</table>\n",
       "</div>"
      ],
      "text/plain": [
       "                          seller_id  seller_zip_code_prefix  \\\n",
       "0  3442f8959a84dea7ee197c632cb2df15                   13023   \n",
       "1  d1b65fc7debc3361ea86b5f14c68d2e2                   13844   \n",
       "2  ce3ad9de960102d0677a81f5d0bb7b2d                   20031   \n",
       "3  c0f3eea2e14555b6faeea3dd58c1b1c3                    4195   \n",
       "4  51a04a8a6bdcb23deccc82b0b80742cf                   12914   \n",
       "\n",
       "         seller_city seller_state  \n",
       "0           campinas           SP  \n",
       "1         mogi guacu           SP  \n",
       "2     rio de janeiro           RJ  \n",
       "3          sao paulo           SP  \n",
       "4  braganca paulista           SP  "
      ]
     },
     "execution_count": 2894,
     "metadata": {},
     "output_type": "execute_result"
    }
   ],
   "source": [
    "sellers_dataset.head()"
   ]
  },
  {
   "cell_type": "code",
   "execution_count": 2895,
   "id": "6a01523d-7ee3-4874-b577-ad26e3ea5bee",
   "metadata": {},
   "outputs": [
    {
     "data": {
      "text/plain": [
       "seller_id                 object\n",
       "seller_zip_code_prefix     int64\n",
       "seller_city               object\n",
       "seller_state              object\n",
       "dtype: object"
      ]
     },
     "execution_count": 2895,
     "metadata": {},
     "output_type": "execute_result"
    }
   ],
   "source": [
    "sellers_dataset.dtypes"
   ]
  },
  {
   "cell_type": "code",
   "execution_count": 2896,
   "id": "88f29edd-7ffc-42a9-86c8-f5d489c18dcf",
   "metadata": {},
   "outputs": [
    {
     "data": {
      "text/plain": [
       "(3095, 4)"
      ]
     },
     "execution_count": 2896,
     "metadata": {},
     "output_type": "execute_result"
    }
   ],
   "source": [
    "sellers_dataset.shape"
   ]
  },
  {
   "cell_type": "markdown",
   "id": "ba2da421-d446-40fb-8c78-af05e18850b8",
   "metadata": {},
   "source": [
    "### Valores faltantes"
   ]
  },
  {
   "cell_type": "code",
   "execution_count": 2897,
   "id": "9b84c645-e753-43ce-a301-4c4eb638f49d",
   "metadata": {},
   "outputs": [
    {
     "data": {
      "text/plain": [
       "seller_id                 0\n",
       "seller_zip_code_prefix    0\n",
       "seller_city               0\n",
       "seller_state              0\n",
       "dtype: int64"
      ]
     },
     "execution_count": 2897,
     "metadata": {},
     "output_type": "execute_result"
    }
   ],
   "source": [
    "sellers_dataset.isnull().sum()"
   ]
  },
  {
   "cell_type": "markdown",
   "id": "7009bc72-807e-4f44-bb92-8cb2a7411184",
   "metadata": {},
   "source": [
    "### Duplicatas"
   ]
  },
  {
   "cell_type": "code",
   "execution_count": 2898,
   "id": "24ddb27e-f402-489f-8e35-0574c614cdc2",
   "metadata": {},
   "outputs": [
    {
     "data": {
      "text/plain": [
       "np.int64(0)"
      ]
     },
     "execution_count": 2898,
     "metadata": {},
     "output_type": "execute_result"
    }
   ],
   "source": [
    "sellers_dataset.duplicated().sum()"
   ]
  },
  {
   "cell_type": "code",
   "execution_count": 2899,
   "id": "1b28c53e-5c43-4fab-b158-85f9f7dd2e5c",
   "metadata": {},
   "outputs": [
    {
     "data": {
      "text/plain": [
       "False    3095\n",
       "Name: count, dtype: int64"
      ]
     },
     "execution_count": 2899,
     "metadata": {},
     "output_type": "execute_result"
    }
   ],
   "source": [
    "sellers_dataset.duplicated().value_counts()"
   ]
  },
  {
   "cell_type": "markdown",
   "id": "f33d0c95-529f-4cef-b535-60cbe2a389ec",
   "metadata": {},
   "source": [
    "### Excluindo colunas"
   ]
  },
  {
   "cell_type": "code",
   "execution_count": 2900,
   "id": "d8a1da8d-b7f0-49e7-a129-eeef473e7a2b",
   "metadata": {},
   "outputs": [],
   "source": [
    "columns_drop = sellers_dataset.columns[[1,2,3]]"
   ]
  },
  {
   "cell_type": "code",
   "execution_count": 2901,
   "id": "57ccee79-f8e7-4386-a004-e6ce8f623902",
   "metadata": {},
   "outputs": [],
   "source": [
    "sellers_df_cleaned = sellers_dataset.drop(columns=columns_drop, axis=1)"
   ]
  },
  {
   "cell_type": "code",
   "execution_count": 2902,
   "id": "32eaaf60-a352-42a8-9e82-d456db824457",
   "metadata": {},
   "outputs": [
    {
     "data": {
      "text/plain": [
       "seller_id    object\n",
       "dtype: object"
      ]
     },
     "execution_count": 2902,
     "metadata": {},
     "output_type": "execute_result"
    }
   ],
   "source": [
    "sellers_df_cleaned.dtypes"
   ]
  },
  {
   "cell_type": "markdown",
   "id": "d9611c6e-b522-45e8-8b7f-8cbda7d08b06",
   "metadata": {
    "jp-MarkdownHeadingCollapsed": true
   },
   "source": [
    "# Order Reviews Dataset"
   ]
  },
  {
   "cell_type": "code",
   "execution_count": 2903,
   "id": "61cab718-3793-4371-924b-c0a8df9cce23",
   "metadata": {},
   "outputs": [],
   "source": [
    "order_reviews_dataset = pd.read_csv('/home/matsa/Documents/project_sprint02/data/olist_order_reviews_dataset.csv', \n",
    "                            sep=',', encoding='utf-8')"
   ]
  },
  {
   "cell_type": "markdown",
   "id": "a64c150f-c885-4c61-a966-7a95a233e655",
   "metadata": {},
   "source": [
    "**Melhor review = 5**\n",
    "\n",
    "**Pior review = 1**"
   ]
  },
  {
   "cell_type": "code",
   "execution_count": 2904,
   "id": "b2352700-664b-4ee7-b69f-62c57c6967d1",
   "metadata": {},
   "outputs": [
    {
     "data": {
      "text/html": [
       "<div>\n",
       "<style scoped>\n",
       "    .dataframe tbody tr th:only-of-type {\n",
       "        vertical-align: middle;\n",
       "    }\n",
       "\n",
       "    .dataframe tbody tr th {\n",
       "        vertical-align: top;\n",
       "    }\n",
       "\n",
       "    .dataframe thead th {\n",
       "        text-align: right;\n",
       "    }\n",
       "</style>\n",
       "<table border=\"1\" class=\"dataframe\">\n",
       "  <thead>\n",
       "    <tr style=\"text-align: right;\">\n",
       "      <th></th>\n",
       "      <th>review_id</th>\n",
       "      <th>order_id</th>\n",
       "      <th>review_score</th>\n",
       "      <th>review_comment_title</th>\n",
       "      <th>review_comment_message</th>\n",
       "      <th>review_creation_date</th>\n",
       "      <th>review_answer_timestamp</th>\n",
       "    </tr>\n",
       "  </thead>\n",
       "  <tbody>\n",
       "    <tr>\n",
       "      <th>0</th>\n",
       "      <td>7bc2406110b926393aa56f80a40eba40</td>\n",
       "      <td>73fc7af87114b39712e6da79b0a377eb</td>\n",
       "      <td>4</td>\n",
       "      <td>NaN</td>\n",
       "      <td>NaN</td>\n",
       "      <td>2018-01-18 00:00:00</td>\n",
       "      <td>2018-01-18 21:46:59</td>\n",
       "    </tr>\n",
       "    <tr>\n",
       "      <th>1</th>\n",
       "      <td>80e641a11e56f04c1ad469d5645fdfde</td>\n",
       "      <td>a548910a1c6147796b98fdf73dbeba33</td>\n",
       "      <td>5</td>\n",
       "      <td>NaN</td>\n",
       "      <td>NaN</td>\n",
       "      <td>2018-03-10 00:00:00</td>\n",
       "      <td>2018-03-11 03:05:13</td>\n",
       "    </tr>\n",
       "    <tr>\n",
       "      <th>2</th>\n",
       "      <td>228ce5500dc1d8e020d8d1322874b6f0</td>\n",
       "      <td>f9e4b658b201a9f2ecdecbb34bed034b</td>\n",
       "      <td>5</td>\n",
       "      <td>NaN</td>\n",
       "      <td>NaN</td>\n",
       "      <td>2018-02-17 00:00:00</td>\n",
       "      <td>2018-02-18 14:36:24</td>\n",
       "    </tr>\n",
       "    <tr>\n",
       "      <th>3</th>\n",
       "      <td>e64fb393e7b32834bb789ff8bb30750e</td>\n",
       "      <td>658677c97b385a9be170737859d3511b</td>\n",
       "      <td>5</td>\n",
       "      <td>NaN</td>\n",
       "      <td>Recebi bem antes do prazo estipulado.</td>\n",
       "      <td>2017-04-21 00:00:00</td>\n",
       "      <td>2017-04-21 22:02:06</td>\n",
       "    </tr>\n",
       "    <tr>\n",
       "      <th>4</th>\n",
       "      <td>f7c4243c7fe1938f181bec41a392bdeb</td>\n",
       "      <td>8e6bfb81e283fa7e4f11123a3fb894f1</td>\n",
       "      <td>5</td>\n",
       "      <td>NaN</td>\n",
       "      <td>Parabéns lojas lannister adorei comprar pela I...</td>\n",
       "      <td>2018-03-01 00:00:00</td>\n",
       "      <td>2018-03-02 10:26:53</td>\n",
       "    </tr>\n",
       "    <tr>\n",
       "      <th>...</th>\n",
       "      <td>...</td>\n",
       "      <td>...</td>\n",
       "      <td>...</td>\n",
       "      <td>...</td>\n",
       "      <td>...</td>\n",
       "      <td>...</td>\n",
       "      <td>...</td>\n",
       "    </tr>\n",
       "    <tr>\n",
       "      <th>99219</th>\n",
       "      <td>574ed12dd733e5fa530cfd4bbf39d7c9</td>\n",
       "      <td>2a8c23fee101d4d5662fa670396eb8da</td>\n",
       "      <td>5</td>\n",
       "      <td>NaN</td>\n",
       "      <td>NaN</td>\n",
       "      <td>2018-07-07 00:00:00</td>\n",
       "      <td>2018-07-14 17:18:30</td>\n",
       "    </tr>\n",
       "    <tr>\n",
       "      <th>99220</th>\n",
       "      <td>f3897127253a9592a73be9bdfdf4ed7a</td>\n",
       "      <td>22ec9f0669f784db00fa86d035cf8602</td>\n",
       "      <td>5</td>\n",
       "      <td>NaN</td>\n",
       "      <td>NaN</td>\n",
       "      <td>2017-12-09 00:00:00</td>\n",
       "      <td>2017-12-11 20:06:42</td>\n",
       "    </tr>\n",
       "    <tr>\n",
       "      <th>99221</th>\n",
       "      <td>b3de70c89b1510c4cd3d0649fd302472</td>\n",
       "      <td>55d4004744368f5571d1f590031933e4</td>\n",
       "      <td>5</td>\n",
       "      <td>NaN</td>\n",
       "      <td>Excelente mochila, entrega super rápida. Super...</td>\n",
       "      <td>2018-03-22 00:00:00</td>\n",
       "      <td>2018-03-23 09:10:43</td>\n",
       "    </tr>\n",
       "    <tr>\n",
       "      <th>99222</th>\n",
       "      <td>1adeb9d84d72fe4e337617733eb85149</td>\n",
       "      <td>7725825d039fc1f0ceb7635e3f7d9206</td>\n",
       "      <td>4</td>\n",
       "      <td>NaN</td>\n",
       "      <td>NaN</td>\n",
       "      <td>2018-07-01 00:00:00</td>\n",
       "      <td>2018-07-02 12:59:13</td>\n",
       "    </tr>\n",
       "    <tr>\n",
       "      <th>99223</th>\n",
       "      <td>efe49f1d6f951dd88b51e6ccd4cc548f</td>\n",
       "      <td>90531360ecb1eec2a1fbb265a0db0508</td>\n",
       "      <td>1</td>\n",
       "      <td>NaN</td>\n",
       "      <td>meu produto chegou e ja tenho que devolver, po...</td>\n",
       "      <td>2017-07-03 00:00:00</td>\n",
       "      <td>2017-07-03 21:01:49</td>\n",
       "    </tr>\n",
       "  </tbody>\n",
       "</table>\n",
       "<p>99224 rows × 7 columns</p>\n",
       "</div>"
      ],
      "text/plain": [
       "                              review_id                          order_id  \\\n",
       "0      7bc2406110b926393aa56f80a40eba40  73fc7af87114b39712e6da79b0a377eb   \n",
       "1      80e641a11e56f04c1ad469d5645fdfde  a548910a1c6147796b98fdf73dbeba33   \n",
       "2      228ce5500dc1d8e020d8d1322874b6f0  f9e4b658b201a9f2ecdecbb34bed034b   \n",
       "3      e64fb393e7b32834bb789ff8bb30750e  658677c97b385a9be170737859d3511b   \n",
       "4      f7c4243c7fe1938f181bec41a392bdeb  8e6bfb81e283fa7e4f11123a3fb894f1   \n",
       "...                                 ...                               ...   \n",
       "99219  574ed12dd733e5fa530cfd4bbf39d7c9  2a8c23fee101d4d5662fa670396eb8da   \n",
       "99220  f3897127253a9592a73be9bdfdf4ed7a  22ec9f0669f784db00fa86d035cf8602   \n",
       "99221  b3de70c89b1510c4cd3d0649fd302472  55d4004744368f5571d1f590031933e4   \n",
       "99222  1adeb9d84d72fe4e337617733eb85149  7725825d039fc1f0ceb7635e3f7d9206   \n",
       "99223  efe49f1d6f951dd88b51e6ccd4cc548f  90531360ecb1eec2a1fbb265a0db0508   \n",
       "\n",
       "       review_score review_comment_title  \\\n",
       "0                 4                  NaN   \n",
       "1                 5                  NaN   \n",
       "2                 5                  NaN   \n",
       "3                 5                  NaN   \n",
       "4                 5                  NaN   \n",
       "...             ...                  ...   \n",
       "99219             5                  NaN   \n",
       "99220             5                  NaN   \n",
       "99221             5                  NaN   \n",
       "99222             4                  NaN   \n",
       "99223             1                  NaN   \n",
       "\n",
       "                                  review_comment_message review_creation_date  \\\n",
       "0                                                    NaN  2018-01-18 00:00:00   \n",
       "1                                                    NaN  2018-03-10 00:00:00   \n",
       "2                                                    NaN  2018-02-17 00:00:00   \n",
       "3                  Recebi bem antes do prazo estipulado.  2017-04-21 00:00:00   \n",
       "4      Parabéns lojas lannister adorei comprar pela I...  2018-03-01 00:00:00   \n",
       "...                                                  ...                  ...   \n",
       "99219                                                NaN  2018-07-07 00:00:00   \n",
       "99220                                                NaN  2017-12-09 00:00:00   \n",
       "99221  Excelente mochila, entrega super rápida. Super...  2018-03-22 00:00:00   \n",
       "99222                                                NaN  2018-07-01 00:00:00   \n",
       "99223  meu produto chegou e ja tenho que devolver, po...  2017-07-03 00:00:00   \n",
       "\n",
       "      review_answer_timestamp  \n",
       "0         2018-01-18 21:46:59  \n",
       "1         2018-03-11 03:05:13  \n",
       "2         2018-02-18 14:36:24  \n",
       "3         2017-04-21 22:02:06  \n",
       "4         2018-03-02 10:26:53  \n",
       "...                       ...  \n",
       "99219     2018-07-14 17:18:30  \n",
       "99220     2017-12-11 20:06:42  \n",
       "99221     2018-03-23 09:10:43  \n",
       "99222     2018-07-02 12:59:13  \n",
       "99223     2017-07-03 21:01:49  \n",
       "\n",
       "[99224 rows x 7 columns]"
      ]
     },
     "execution_count": 2904,
     "metadata": {},
     "output_type": "execute_result"
    }
   ],
   "source": [
    "order_reviews_dataset"
   ]
  },
  {
   "cell_type": "code",
   "execution_count": 2905,
   "id": "eeb341a3-863d-4af0-b2cf-abf635b93817",
   "metadata": {},
   "outputs": [
    {
     "data": {
      "text/plain": [
       "review_id                  object\n",
       "order_id                   object\n",
       "review_score                int64\n",
       "review_comment_title       object\n",
       "review_comment_message     object\n",
       "review_creation_date       object\n",
       "review_answer_timestamp    object\n",
       "dtype: object"
      ]
     },
     "execution_count": 2905,
     "metadata": {},
     "output_type": "execute_result"
    }
   ],
   "source": [
    "order_reviews_dataset.dtypes"
   ]
  },
  {
   "cell_type": "code",
   "execution_count": 2906,
   "id": "424a5306-08ff-4eb5-9a30-fa7f110af0f6",
   "metadata": {},
   "outputs": [
    {
     "data": {
      "text/plain": [
       "(99224, 7)"
      ]
     },
     "execution_count": 2906,
     "metadata": {},
     "output_type": "execute_result"
    }
   ],
   "source": [
    "order_reviews_dataset.shape"
   ]
  },
  {
   "cell_type": "markdown",
   "id": "4c487207-5452-486f-9c68-4c38dac14974",
   "metadata": {},
   "source": [
    "### Valores faltantes"
   ]
  },
  {
   "cell_type": "code",
   "execution_count": 2907,
   "id": "857152a6-4f45-4e41-8f8e-5f00a17e0c3a",
   "metadata": {},
   "outputs": [
    {
     "data": {
      "text/plain": [
       "review_id                      0\n",
       "order_id                       0\n",
       "review_score                   0\n",
       "review_comment_title       87656\n",
       "review_comment_message     58247\n",
       "review_creation_date           0\n",
       "review_answer_timestamp        0\n",
       "dtype: int64"
      ]
     },
     "execution_count": 2907,
     "metadata": {},
     "output_type": "execute_result"
    }
   ],
   "source": [
    "order_reviews_dataset.isnull().sum()"
   ]
  },
  {
   "cell_type": "markdown",
   "id": "83620d2a-dd3c-405a-9486-8604567f446a",
   "metadata": {},
   "source": [
    "**Preenchendo valores faltantes**"
   ]
  },
  {
   "cell_type": "code",
   "execution_count": 2908,
   "id": "3b5f6939-9ad4-4c41-9e4a-d6b0a65d3673",
   "metadata": {},
   "outputs": [],
   "source": [
    "order_reviews_dataset['review_comment_title'] = order_reviews_dataset['review_comment_title'].fillna('Nenhum título')"
   ]
  },
  {
   "cell_type": "code",
   "execution_count": 2909,
   "id": "1d44d25e-f1c9-47fc-8661-315dea1b7511",
   "metadata": {},
   "outputs": [],
   "source": [
    "order_reviews_dataset['review_comment_message'] = order_reviews_dataset['review_comment_message'].fillna('Nenhuma mensagem')"
   ]
  },
  {
   "cell_type": "code",
   "execution_count": 2910,
   "id": "69a6b8b4-d62d-41ce-bcb9-067498820ee8",
   "metadata": {},
   "outputs": [
    {
     "data": {
      "text/html": [
       "<div>\n",
       "<style scoped>\n",
       "    .dataframe tbody tr th:only-of-type {\n",
       "        vertical-align: middle;\n",
       "    }\n",
       "\n",
       "    .dataframe tbody tr th {\n",
       "        vertical-align: top;\n",
       "    }\n",
       "\n",
       "    .dataframe thead th {\n",
       "        text-align: right;\n",
       "    }\n",
       "</style>\n",
       "<table border=\"1\" class=\"dataframe\">\n",
       "  <thead>\n",
       "    <tr style=\"text-align: right;\">\n",
       "      <th></th>\n",
       "      <th>review_id</th>\n",
       "      <th>order_id</th>\n",
       "      <th>review_score</th>\n",
       "      <th>review_comment_title</th>\n",
       "      <th>review_comment_message</th>\n",
       "      <th>review_creation_date</th>\n",
       "      <th>review_answer_timestamp</th>\n",
       "    </tr>\n",
       "  </thead>\n",
       "  <tbody>\n",
       "    <tr>\n",
       "      <th>0</th>\n",
       "      <td>7bc2406110b926393aa56f80a40eba40</td>\n",
       "      <td>73fc7af87114b39712e6da79b0a377eb</td>\n",
       "      <td>4</td>\n",
       "      <td>Nenhum título</td>\n",
       "      <td>Nenhuma mensagem</td>\n",
       "      <td>2018-01-18 00:00:00</td>\n",
       "      <td>2018-01-18 21:46:59</td>\n",
       "    </tr>\n",
       "    <tr>\n",
       "      <th>1</th>\n",
       "      <td>80e641a11e56f04c1ad469d5645fdfde</td>\n",
       "      <td>a548910a1c6147796b98fdf73dbeba33</td>\n",
       "      <td>5</td>\n",
       "      <td>Nenhum título</td>\n",
       "      <td>Nenhuma mensagem</td>\n",
       "      <td>2018-03-10 00:00:00</td>\n",
       "      <td>2018-03-11 03:05:13</td>\n",
       "    </tr>\n",
       "    <tr>\n",
       "      <th>2</th>\n",
       "      <td>228ce5500dc1d8e020d8d1322874b6f0</td>\n",
       "      <td>f9e4b658b201a9f2ecdecbb34bed034b</td>\n",
       "      <td>5</td>\n",
       "      <td>Nenhum título</td>\n",
       "      <td>Nenhuma mensagem</td>\n",
       "      <td>2018-02-17 00:00:00</td>\n",
       "      <td>2018-02-18 14:36:24</td>\n",
       "    </tr>\n",
       "    <tr>\n",
       "      <th>3</th>\n",
       "      <td>e64fb393e7b32834bb789ff8bb30750e</td>\n",
       "      <td>658677c97b385a9be170737859d3511b</td>\n",
       "      <td>5</td>\n",
       "      <td>Nenhum título</td>\n",
       "      <td>Recebi bem antes do prazo estipulado.</td>\n",
       "      <td>2017-04-21 00:00:00</td>\n",
       "      <td>2017-04-21 22:02:06</td>\n",
       "    </tr>\n",
       "    <tr>\n",
       "      <th>4</th>\n",
       "      <td>f7c4243c7fe1938f181bec41a392bdeb</td>\n",
       "      <td>8e6bfb81e283fa7e4f11123a3fb894f1</td>\n",
       "      <td>5</td>\n",
       "      <td>Nenhum título</td>\n",
       "      <td>Parabéns lojas lannister adorei comprar pela I...</td>\n",
       "      <td>2018-03-01 00:00:00</td>\n",
       "      <td>2018-03-02 10:26:53</td>\n",
       "    </tr>\n",
       "  </tbody>\n",
       "</table>\n",
       "</div>"
      ],
      "text/plain": [
       "                          review_id                          order_id  \\\n",
       "0  7bc2406110b926393aa56f80a40eba40  73fc7af87114b39712e6da79b0a377eb   \n",
       "1  80e641a11e56f04c1ad469d5645fdfde  a548910a1c6147796b98fdf73dbeba33   \n",
       "2  228ce5500dc1d8e020d8d1322874b6f0  f9e4b658b201a9f2ecdecbb34bed034b   \n",
       "3  e64fb393e7b32834bb789ff8bb30750e  658677c97b385a9be170737859d3511b   \n",
       "4  f7c4243c7fe1938f181bec41a392bdeb  8e6bfb81e283fa7e4f11123a3fb894f1   \n",
       "\n",
       "   review_score review_comment_title  \\\n",
       "0             4        Nenhum título   \n",
       "1             5        Nenhum título   \n",
       "2             5        Nenhum título   \n",
       "3             5        Nenhum título   \n",
       "4             5        Nenhum título   \n",
       "\n",
       "                              review_comment_message review_creation_date  \\\n",
       "0                                   Nenhuma mensagem  2018-01-18 00:00:00   \n",
       "1                                   Nenhuma mensagem  2018-03-10 00:00:00   \n",
       "2                                   Nenhuma mensagem  2018-02-17 00:00:00   \n",
       "3              Recebi bem antes do prazo estipulado.  2017-04-21 00:00:00   \n",
       "4  Parabéns lojas lannister adorei comprar pela I...  2018-03-01 00:00:00   \n",
       "\n",
       "  review_answer_timestamp  \n",
       "0     2018-01-18 21:46:59  \n",
       "1     2018-03-11 03:05:13  \n",
       "2     2018-02-18 14:36:24  \n",
       "3     2017-04-21 22:02:06  \n",
       "4     2018-03-02 10:26:53  "
      ]
     },
     "execution_count": 2910,
     "metadata": {},
     "output_type": "execute_result"
    }
   ],
   "source": [
    "order_reviews_dataset.head()"
   ]
  },
  {
   "cell_type": "markdown",
   "id": "2124ce06-ae3b-4726-b7d2-78525f0e3179",
   "metadata": {},
   "source": [
    "### Duplicatas"
   ]
  },
  {
   "cell_type": "code",
   "execution_count": 2911,
   "id": "81ba3277-c9b4-4126-b27d-3ee8e62bf416",
   "metadata": {},
   "outputs": [
    {
     "data": {
      "text/plain": [
       "np.int64(0)"
      ]
     },
     "execution_count": 2911,
     "metadata": {},
     "output_type": "execute_result"
    }
   ],
   "source": [
    "order_reviews_dataset.duplicated().sum()"
   ]
  },
  {
   "cell_type": "markdown",
   "id": "a83f0813-9e46-4912-826a-52fa35dba3aa",
   "metadata": {},
   "source": [
    "### Excluindo colunas"
   ]
  },
  {
   "cell_type": "code",
   "execution_count": 2912,
   "id": "39e64e80-87ea-4007-8df6-9a91914aa851",
   "metadata": {},
   "outputs": [
    {
     "data": {
      "text/plain": [
       "Index(['review_creation_date', 'review_answer_timestamp'], dtype='object')"
      ]
     },
     "execution_count": 2912,
     "metadata": {},
     "output_type": "execute_result"
    }
   ],
   "source": [
    "columns_drop = order_reviews_dataset.columns[[5,6]]\n",
    "columns_drop"
   ]
  },
  {
   "cell_type": "code",
   "execution_count": 2913,
   "id": "9accd69a-fd88-4d50-a87b-0648c95614d7",
   "metadata": {},
   "outputs": [],
   "source": [
    "order_reviews_df_cleaned = order_reviews_dataset.drop(columns=columns_drop, axis=1)"
   ]
  },
  {
   "cell_type": "code",
   "execution_count": 3060,
   "id": "081b952d-3a7d-422e-b158-ef6b57906a15",
   "metadata": {},
   "outputs": [
    {
     "data": {
      "text/plain": [
       "Index(['review_id', 'order_id', 'review_score', 'review_comment_title',\n",
       "       'review_comment_message'],\n",
       "      dtype='object')"
      ]
     },
     "execution_count": 3060,
     "metadata": {},
     "output_type": "execute_result"
    }
   ],
   "source": [
    "order_reviews_df_cleaned.columns"
   ]
  },
  {
   "cell_type": "markdown",
   "id": "2f43f7cc-6fba-4426-8162-69afd1256bbc",
   "metadata": {},
   "source": [
    "# ---------------------------------------------------------------------------------------------------------------------"
   ]
  },
  {
   "cell_type": "markdown",
   "id": "adb3986a-8e40-445d-925b-190a065c5909",
   "metadata": {
    "jp-MarkdownHeadingCollapsed": true
   },
   "source": [
    "# Quais são as categorias com maior e menor receita?"
   ]
  },
  {
   "cell_type": "markdown",
   "id": "9c0d6c46-0cfe-4e66-a814-40fe83b8bf05",
   "metadata": {},
   "source": [
    "### Merge "
   ]
  },
  {
   "cell_type": "markdown",
   "id": "7bd67f6b-6e15-4b24-a44d-0878ed39c491",
   "metadata": {},
   "source": [
    "- Order Items com Products"
   ]
  },
  {
   "cell_type": "code",
   "execution_count": 2915,
   "id": "6ad33a5a-a32e-4cde-a3c5-d723af736974",
   "metadata": {},
   "outputs": [
    {
     "data": {
      "text/html": [
       "<div>\n",
       "<style scoped>\n",
       "    .dataframe tbody tr th:only-of-type {\n",
       "        vertical-align: middle;\n",
       "    }\n",
       "\n",
       "    .dataframe tbody tr th {\n",
       "        vertical-align: top;\n",
       "    }\n",
       "\n",
       "    .dataframe thead th {\n",
       "        text-align: right;\n",
       "    }\n",
       "</style>\n",
       "<table border=\"1\" class=\"dataframe\">\n",
       "  <thead>\n",
       "    <tr style=\"text-align: right;\">\n",
       "      <th></th>\n",
       "      <th>order_id</th>\n",
       "      <th>order_item_id</th>\n",
       "      <th>product_id</th>\n",
       "      <th>seller_id</th>\n",
       "      <th>product_category_name</th>\n",
       "    </tr>\n",
       "  </thead>\n",
       "  <tbody>\n",
       "    <tr>\n",
       "      <th>0</th>\n",
       "      <td>00010242fe8c5a6d1ba2dd792cb16214</td>\n",
       "      <td>1</td>\n",
       "      <td>4244733e06e7ecb4970a6e2683c13e61</td>\n",
       "      <td>48436dade18ac8b2bce089ec2a041202</td>\n",
       "      <td>cool_stuff</td>\n",
       "    </tr>\n",
       "    <tr>\n",
       "      <th>1</th>\n",
       "      <td>00018f77f2f0320c557190d7a144bdd3</td>\n",
       "      <td>1</td>\n",
       "      <td>e5f2d52b802189ee658865ca93d83a8f</td>\n",
       "      <td>dd7ddc04e1b6c2c614352b383efe2d36</td>\n",
       "      <td>pet_shop</td>\n",
       "    </tr>\n",
       "    <tr>\n",
       "      <th>2</th>\n",
       "      <td>000229ec398224ef6ca0657da4fc703e</td>\n",
       "      <td>1</td>\n",
       "      <td>c777355d18b72b67abbeef9df44fd0fd</td>\n",
       "      <td>5b51032eddd242adc84c38acab88f23d</td>\n",
       "      <td>moveis_decoracao</td>\n",
       "    </tr>\n",
       "    <tr>\n",
       "      <th>3</th>\n",
       "      <td>00024acbcdf0a6daa1e931b038114c75</td>\n",
       "      <td>1</td>\n",
       "      <td>7634da152a4610f1595efa32f14722fc</td>\n",
       "      <td>9d7a1d34a5052409006425275ba1c2b4</td>\n",
       "      <td>perfumaria</td>\n",
       "    </tr>\n",
       "    <tr>\n",
       "      <th>4</th>\n",
       "      <td>00042b26cf59d7ce69dfabb4e55b4fd9</td>\n",
       "      <td>1</td>\n",
       "      <td>ac6c3623068f30de03045865e4e10089</td>\n",
       "      <td>df560393f3a51e74553ab94004ba5c87</td>\n",
       "      <td>ferramentas_jardim</td>\n",
       "    </tr>\n",
       "  </tbody>\n",
       "</table>\n",
       "</div>"
      ],
      "text/plain": [
       "                           order_id  order_item_id  \\\n",
       "0  00010242fe8c5a6d1ba2dd792cb16214              1   \n",
       "1  00018f77f2f0320c557190d7a144bdd3              1   \n",
       "2  000229ec398224ef6ca0657da4fc703e              1   \n",
       "3  00024acbcdf0a6daa1e931b038114c75              1   \n",
       "4  00042b26cf59d7ce69dfabb4e55b4fd9              1   \n",
       "\n",
       "                         product_id                         seller_id  \\\n",
       "0  4244733e06e7ecb4970a6e2683c13e61  48436dade18ac8b2bce089ec2a041202   \n",
       "1  e5f2d52b802189ee658865ca93d83a8f  dd7ddc04e1b6c2c614352b383efe2d36   \n",
       "2  c777355d18b72b67abbeef9df44fd0fd  5b51032eddd242adc84c38acab88f23d   \n",
       "3  7634da152a4610f1595efa32f14722fc  9d7a1d34a5052409006425275ba1c2b4   \n",
       "4  ac6c3623068f30de03045865e4e10089  df560393f3a51e74553ab94004ba5c87   \n",
       "\n",
       "  product_category_name  \n",
       "0            cool_stuff  \n",
       "1              pet_shop  \n",
       "2      moveis_decoracao  \n",
       "3            perfumaria  \n",
       "4    ferramentas_jardim  "
      ]
     },
     "execution_count": 2915,
     "metadata": {},
     "output_type": "execute_result"
    }
   ],
   "source": [
    "merged_df = pd.merge(order_items_df_cleaned, products_df_cleaned, on='product_id', how='inner')\n",
    "merged_df.head()"
   ]
  },
  {
   "cell_type": "markdown",
   "id": "4a50dfff-5015-486b-b9cc-ecaaf4a8affc",
   "metadata": {},
   "source": [
    "- Orders"
   ]
  },
  {
   "cell_type": "code",
   "execution_count": 2916,
   "id": "688e4295-80ad-49f8-93b0-cef0fee70f71",
   "metadata": {},
   "outputs": [
    {
     "data": {
      "text/html": [
       "<div>\n",
       "<style scoped>\n",
       "    .dataframe tbody tr th:only-of-type {\n",
       "        vertical-align: middle;\n",
       "    }\n",
       "\n",
       "    .dataframe tbody tr th {\n",
       "        vertical-align: top;\n",
       "    }\n",
       "\n",
       "    .dataframe thead th {\n",
       "        text-align: right;\n",
       "    }\n",
       "</style>\n",
       "<table border=\"1\" class=\"dataframe\">\n",
       "  <thead>\n",
       "    <tr style=\"text-align: right;\">\n",
       "      <th></th>\n",
       "      <th>order_id</th>\n",
       "      <th>order_item_id</th>\n",
       "      <th>product_id</th>\n",
       "      <th>seller_id</th>\n",
       "      <th>product_category_name</th>\n",
       "      <th>customer_id</th>\n",
       "      <th>order_status</th>\n",
       "      <th>order_approved_at</th>\n",
       "    </tr>\n",
       "  </thead>\n",
       "  <tbody>\n",
       "    <tr>\n",
       "      <th>0</th>\n",
       "      <td>00010242fe8c5a6d1ba2dd792cb16214</td>\n",
       "      <td>1</td>\n",
       "      <td>4244733e06e7ecb4970a6e2683c13e61</td>\n",
       "      <td>48436dade18ac8b2bce089ec2a041202</td>\n",
       "      <td>cool_stuff</td>\n",
       "      <td>3ce436f183e68e07877b285a838db11a</td>\n",
       "      <td>delivered</td>\n",
       "      <td>2017-09-13 09:45:35</td>\n",
       "    </tr>\n",
       "    <tr>\n",
       "      <th>1</th>\n",
       "      <td>000229ec398224ef6ca0657da4fc703e</td>\n",
       "      <td>1</td>\n",
       "      <td>c777355d18b72b67abbeef9df44fd0fd</td>\n",
       "      <td>5b51032eddd242adc84c38acab88f23d</td>\n",
       "      <td>moveis_decoracao</td>\n",
       "      <td>6489ae5e4333f3693df5ad4372dab6d3</td>\n",
       "      <td>delivered</td>\n",
       "      <td>2018-01-14 14:48:30</td>\n",
       "    </tr>\n",
       "    <tr>\n",
       "      <th>2</th>\n",
       "      <td>00024acbcdf0a6daa1e931b038114c75</td>\n",
       "      <td>1</td>\n",
       "      <td>7634da152a4610f1595efa32f14722fc</td>\n",
       "      <td>9d7a1d34a5052409006425275ba1c2b4</td>\n",
       "      <td>perfumaria</td>\n",
       "      <td>d4eb9395c8c0431ee92fce09860c5a06</td>\n",
       "      <td>delivered</td>\n",
       "      <td>2018-08-08 10:10:18</td>\n",
       "    </tr>\n",
       "    <tr>\n",
       "      <th>3</th>\n",
       "      <td>00054e8431b9d7675808bcb819fb4a32</td>\n",
       "      <td>1</td>\n",
       "      <td>8d4f2bb7e93e6710a28f34fa83ee7d28</td>\n",
       "      <td>7040e82f899a04d1b434b795a43b4617</td>\n",
       "      <td>telefonia</td>\n",
       "      <td>32e2e6ab09e778d99bf2e0ecd4898718</td>\n",
       "      <td>delivered</td>\n",
       "      <td>2017-12-10 12:10:31</td>\n",
       "    </tr>\n",
       "    <tr>\n",
       "      <th>4</th>\n",
       "      <td>000576fe39319847cbb9d288c5617fa6</td>\n",
       "      <td>1</td>\n",
       "      <td>557d850972a7d6f792fd18ae1400d9b6</td>\n",
       "      <td>5996cddab893a4652a15592fb58ab8db</td>\n",
       "      <td>ferramentas_jardim</td>\n",
       "      <td>9ed5e522dd9dd85b4af4a077526d8117</td>\n",
       "      <td>delivered</td>\n",
       "      <td>2018-07-05 16:35:48</td>\n",
       "    </tr>\n",
       "  </tbody>\n",
       "</table>\n",
       "</div>"
      ],
      "text/plain": [
       "                           order_id  order_item_id  \\\n",
       "0  00010242fe8c5a6d1ba2dd792cb16214              1   \n",
       "1  000229ec398224ef6ca0657da4fc703e              1   \n",
       "2  00024acbcdf0a6daa1e931b038114c75              1   \n",
       "3  00054e8431b9d7675808bcb819fb4a32              1   \n",
       "4  000576fe39319847cbb9d288c5617fa6              1   \n",
       "\n",
       "                         product_id                         seller_id  \\\n",
       "0  4244733e06e7ecb4970a6e2683c13e61  48436dade18ac8b2bce089ec2a041202   \n",
       "1  c777355d18b72b67abbeef9df44fd0fd  5b51032eddd242adc84c38acab88f23d   \n",
       "2  7634da152a4610f1595efa32f14722fc  9d7a1d34a5052409006425275ba1c2b4   \n",
       "3  8d4f2bb7e93e6710a28f34fa83ee7d28  7040e82f899a04d1b434b795a43b4617   \n",
       "4  557d850972a7d6f792fd18ae1400d9b6  5996cddab893a4652a15592fb58ab8db   \n",
       "\n",
       "  product_category_name                       customer_id order_status  \\\n",
       "0            cool_stuff  3ce436f183e68e07877b285a838db11a    delivered   \n",
       "1      moveis_decoracao  6489ae5e4333f3693df5ad4372dab6d3    delivered   \n",
       "2            perfumaria  d4eb9395c8c0431ee92fce09860c5a06    delivered   \n",
       "3             telefonia  32e2e6ab09e778d99bf2e0ecd4898718    delivered   \n",
       "4    ferramentas_jardim  9ed5e522dd9dd85b4af4a077526d8117    delivered   \n",
       "\n",
       "    order_approved_at  \n",
       "0 2017-09-13 09:45:35  \n",
       "1 2018-01-14 14:48:30  \n",
       "2 2018-08-08 10:10:18  \n",
       "3 2017-12-10 12:10:31  \n",
       "4 2018-07-05 16:35:48  "
      ]
     },
     "execution_count": 2916,
     "metadata": {},
     "output_type": "execute_result"
    }
   ],
   "source": [
    "merged_df = pd.merge(merged_df, orders_df_cleaned, on='order_id', how='inner')\n",
    "merged_df.head()"
   ]
  },
  {
   "cell_type": "markdown",
   "id": "807260ac-1e7d-4725-87f9-5b19a902a4da",
   "metadata": {},
   "source": [
    "- Order Payments"
   ]
  },
  {
   "cell_type": "code",
   "execution_count": 2917,
   "id": "c3d3cce9-40f9-4b30-ad3a-8b236500f627",
   "metadata": {},
   "outputs": [
    {
     "data": {
      "text/html": [
       "<div>\n",
       "<style scoped>\n",
       "    .dataframe tbody tr th:only-of-type {\n",
       "        vertical-align: middle;\n",
       "    }\n",
       "\n",
       "    .dataframe tbody tr th {\n",
       "        vertical-align: top;\n",
       "    }\n",
       "\n",
       "    .dataframe thead th {\n",
       "        text-align: right;\n",
       "    }\n",
       "</style>\n",
       "<table border=\"1\" class=\"dataframe\">\n",
       "  <thead>\n",
       "    <tr style=\"text-align: right;\">\n",
       "      <th></th>\n",
       "      <th>order_id</th>\n",
       "      <th>order_item_id</th>\n",
       "      <th>product_id</th>\n",
       "      <th>seller_id</th>\n",
       "      <th>product_category_name</th>\n",
       "      <th>customer_id</th>\n",
       "      <th>order_status</th>\n",
       "      <th>order_approved_at</th>\n",
       "      <th>payment_value</th>\n",
       "    </tr>\n",
       "  </thead>\n",
       "  <tbody>\n",
       "    <tr>\n",
       "      <th>0</th>\n",
       "      <td>00010242fe8c5a6d1ba2dd792cb16214</td>\n",
       "      <td>1</td>\n",
       "      <td>4244733e06e7ecb4970a6e2683c13e61</td>\n",
       "      <td>48436dade18ac8b2bce089ec2a041202</td>\n",
       "      <td>cool_stuff</td>\n",
       "      <td>3ce436f183e68e07877b285a838db11a</td>\n",
       "      <td>delivered</td>\n",
       "      <td>2017-09-13 09:45:35</td>\n",
       "      <td>72.19</td>\n",
       "    </tr>\n",
       "    <tr>\n",
       "      <th>1</th>\n",
       "      <td>000229ec398224ef6ca0657da4fc703e</td>\n",
       "      <td>1</td>\n",
       "      <td>c777355d18b72b67abbeef9df44fd0fd</td>\n",
       "      <td>5b51032eddd242adc84c38acab88f23d</td>\n",
       "      <td>moveis_decoracao</td>\n",
       "      <td>6489ae5e4333f3693df5ad4372dab6d3</td>\n",
       "      <td>delivered</td>\n",
       "      <td>2018-01-14 14:48:30</td>\n",
       "      <td>216.87</td>\n",
       "    </tr>\n",
       "    <tr>\n",
       "      <th>2</th>\n",
       "      <td>00024acbcdf0a6daa1e931b038114c75</td>\n",
       "      <td>1</td>\n",
       "      <td>7634da152a4610f1595efa32f14722fc</td>\n",
       "      <td>9d7a1d34a5052409006425275ba1c2b4</td>\n",
       "      <td>perfumaria</td>\n",
       "      <td>d4eb9395c8c0431ee92fce09860c5a06</td>\n",
       "      <td>delivered</td>\n",
       "      <td>2018-08-08 10:10:18</td>\n",
       "      <td>25.78</td>\n",
       "    </tr>\n",
       "    <tr>\n",
       "      <th>3</th>\n",
       "      <td>00054e8431b9d7675808bcb819fb4a32</td>\n",
       "      <td>1</td>\n",
       "      <td>8d4f2bb7e93e6710a28f34fa83ee7d28</td>\n",
       "      <td>7040e82f899a04d1b434b795a43b4617</td>\n",
       "      <td>telefonia</td>\n",
       "      <td>32e2e6ab09e778d99bf2e0ecd4898718</td>\n",
       "      <td>delivered</td>\n",
       "      <td>2017-12-10 12:10:31</td>\n",
       "      <td>31.75</td>\n",
       "    </tr>\n",
       "    <tr>\n",
       "      <th>4</th>\n",
       "      <td>000576fe39319847cbb9d288c5617fa6</td>\n",
       "      <td>1</td>\n",
       "      <td>557d850972a7d6f792fd18ae1400d9b6</td>\n",
       "      <td>5996cddab893a4652a15592fb58ab8db</td>\n",
       "      <td>ferramentas_jardim</td>\n",
       "      <td>9ed5e522dd9dd85b4af4a077526d8117</td>\n",
       "      <td>delivered</td>\n",
       "      <td>2018-07-05 16:35:48</td>\n",
       "      <td>880.75</td>\n",
       "    </tr>\n",
       "  </tbody>\n",
       "</table>\n",
       "</div>"
      ],
      "text/plain": [
       "                           order_id  order_item_id  \\\n",
       "0  00010242fe8c5a6d1ba2dd792cb16214              1   \n",
       "1  000229ec398224ef6ca0657da4fc703e              1   \n",
       "2  00024acbcdf0a6daa1e931b038114c75              1   \n",
       "3  00054e8431b9d7675808bcb819fb4a32              1   \n",
       "4  000576fe39319847cbb9d288c5617fa6              1   \n",
       "\n",
       "                         product_id                         seller_id  \\\n",
       "0  4244733e06e7ecb4970a6e2683c13e61  48436dade18ac8b2bce089ec2a041202   \n",
       "1  c777355d18b72b67abbeef9df44fd0fd  5b51032eddd242adc84c38acab88f23d   \n",
       "2  7634da152a4610f1595efa32f14722fc  9d7a1d34a5052409006425275ba1c2b4   \n",
       "3  8d4f2bb7e93e6710a28f34fa83ee7d28  7040e82f899a04d1b434b795a43b4617   \n",
       "4  557d850972a7d6f792fd18ae1400d9b6  5996cddab893a4652a15592fb58ab8db   \n",
       "\n",
       "  product_category_name                       customer_id order_status  \\\n",
       "0            cool_stuff  3ce436f183e68e07877b285a838db11a    delivered   \n",
       "1      moveis_decoracao  6489ae5e4333f3693df5ad4372dab6d3    delivered   \n",
       "2            perfumaria  d4eb9395c8c0431ee92fce09860c5a06    delivered   \n",
       "3             telefonia  32e2e6ab09e778d99bf2e0ecd4898718    delivered   \n",
       "4    ferramentas_jardim  9ed5e522dd9dd85b4af4a077526d8117    delivered   \n",
       "\n",
       "    order_approved_at  payment_value  \n",
       "0 2017-09-13 09:45:35          72.19  \n",
       "1 2018-01-14 14:48:30         216.87  \n",
       "2 2018-08-08 10:10:18          25.78  \n",
       "3 2017-12-10 12:10:31          31.75  \n",
       "4 2018-07-05 16:35:48         880.75  "
      ]
     },
     "execution_count": 2917,
     "metadata": {},
     "output_type": "execute_result"
    }
   ],
   "source": [
    "merged_df = pd.merge(merged_df, order_payments_df_cleaned, on='order_id', how='inner')\n",
    "merged_df.head()"
   ]
  },
  {
   "cell_type": "markdown",
   "id": "cdd6d212-2770-4e1e-9d40-d09f46725b32",
   "metadata": {},
   "source": [
    "### Valores faltantes"
   ]
  },
  {
   "cell_type": "code",
   "execution_count": 2918,
   "id": "f2fe8003-30d0-43b6-a153-f193bf7c1536",
   "metadata": {},
   "outputs": [
    {
     "data": {
      "text/plain": [
       "order_id                 0\n",
       "order_item_id            0\n",
       "product_id               0\n",
       "seller_id                0\n",
       "product_category_name    0\n",
       "customer_id              0\n",
       "order_status             0\n",
       "order_approved_at        0\n",
       "payment_value            0\n",
       "dtype: int64"
      ]
     },
     "execution_count": 2918,
     "metadata": {},
     "output_type": "execute_result"
    }
   ],
   "source": [
    "merged_df.isnull().sum()"
   ]
  },
  {
   "cell_type": "markdown",
   "id": "f05f3d90-3e8c-4c7b-9da8-33ed2aab6cae",
   "metadata": {},
   "source": [
    "### Duplicatas"
   ]
  },
  {
   "cell_type": "code",
   "execution_count": 2919,
   "id": "68f91851-2bcd-4975-87c9-f8ef3c6900fe",
   "metadata": {},
   "outputs": [
    {
     "data": {
      "text/plain": [
       "np.int64(432)"
      ]
     },
     "execution_count": 2919,
     "metadata": {},
     "output_type": "execute_result"
    }
   ],
   "source": [
    "merged_df.duplicated().sum()"
   ]
  },
  {
   "cell_type": "markdown",
   "id": "1807d53d-626d-4864-b420-852621144227",
   "metadata": {},
   "source": [
    "**Excluindo as duplicatas utilizando como parâmetros as chaves que uniram os dataframes**"
   ]
  },
  {
   "cell_type": "code",
   "execution_count": 2920,
   "id": "ddbe9a11-55e1-4980-83e2-4b15335ed6cd",
   "metadata": {},
   "outputs": [],
   "source": [
    "final_merged_df = merged_df.drop_duplicates(subset=(['order_id', 'product_id']))"
   ]
  },
  {
   "cell_type": "code",
   "execution_count": 2921,
   "id": "7f07b2a5-35df-4a40-835b-2d03298058aa",
   "metadata": {},
   "outputs": [
    {
     "data": {
      "text/plain": [
       "(76536, 9)"
      ]
     },
     "execution_count": 2921,
     "metadata": {},
     "output_type": "execute_result"
    }
   ],
   "source": [
    "final_merged_df.shape"
   ]
  },
  {
   "cell_type": "code",
   "execution_count": 2922,
   "id": "edbfea3b-2146-4864-92c4-2442683a26e3",
   "metadata": {},
   "outputs": [
    {
     "data": {
      "text/plain": [
       "np.int64(0)"
      ]
     },
     "execution_count": 2922,
     "metadata": {},
     "output_type": "execute_result"
    }
   ],
   "source": [
    "final_merged_df.duplicated().sum()"
   ]
  },
  {
   "cell_type": "markdown",
   "id": "825365c6-82f8-410d-990f-1f070593f0c9",
   "metadata": {},
   "source": [
    "### Agrupando pela categoria e o valor de pagamento"
   ]
  },
  {
   "cell_type": "code",
   "execution_count": 2923,
   "id": "29405d69-fb2f-4e85-80f6-a710a7874f98",
   "metadata": {},
   "outputs": [],
   "source": [
    "group_by_category_payment = final_merged_df.groupby('product_category_name')['payment_value']"
   ]
  },
  {
   "cell_type": "code",
   "execution_count": 2924,
   "id": "76b63d04-f053-4482-9f3d-2a8de4579d8f",
   "metadata": {},
   "outputs": [],
   "source": [
    "# somando os payment values correspondentes as suas categorias\n",
    "group_by_category_payment = group_by_category_payment.sum()"
   ]
  },
  {
   "cell_type": "code",
   "execution_count": 2925,
   "id": "77086174-6e1f-4f3e-a973-e310a25c6c86",
   "metadata": {},
   "outputs": [],
   "source": [
    "df_category_payment = group_by_category_payment.reset_index()"
   ]
  },
  {
   "cell_type": "code",
   "execution_count": 2926,
   "id": "008faf6a-942d-42fc-b101-6aca4c8dd38f",
   "metadata": {},
   "outputs": [
    {
     "data": {
      "text/html": [
       "<div>\n",
       "<style scoped>\n",
       "    .dataframe tbody tr th:only-of-type {\n",
       "        vertical-align: middle;\n",
       "    }\n",
       "\n",
       "    .dataframe tbody tr th {\n",
       "        vertical-align: top;\n",
       "    }\n",
       "\n",
       "    .dataframe thead th {\n",
       "        text-align: right;\n",
       "    }\n",
       "</style>\n",
       "<table border=\"1\" class=\"dataframe\">\n",
       "  <thead>\n",
       "    <tr style=\"text-align: right;\">\n",
       "      <th></th>\n",
       "      <th>product_category_name</th>\n",
       "      <th>payment_value</th>\n",
       "    </tr>\n",
       "  </thead>\n",
       "  <tbody>\n",
       "    <tr>\n",
       "      <th>0</th>\n",
       "      <td>agro_industria_e_comercio</td>\n",
       "      <td>69712.97</td>\n",
       "    </tr>\n",
       "    <tr>\n",
       "      <th>1</th>\n",
       "      <td>alimentos</td>\n",
       "      <td>30414.63</td>\n",
       "    </tr>\n",
       "    <tr>\n",
       "      <th>2</th>\n",
       "      <td>alimentos_bebidas</td>\n",
       "      <td>18032.24</td>\n",
       "    </tr>\n",
       "    <tr>\n",
       "      <th>3</th>\n",
       "      <td>artes</td>\n",
       "      <td>19136.30</td>\n",
       "    </tr>\n",
       "    <tr>\n",
       "      <th>4</th>\n",
       "      <td>artes_e_artesanato</td>\n",
       "      <td>2107.54</td>\n",
       "    </tr>\n",
       "    <tr>\n",
       "      <th>...</th>\n",
       "      <td>...</td>\n",
       "      <td>...</td>\n",
       "    </tr>\n",
       "    <tr>\n",
       "      <th>68</th>\n",
       "      <td>sinalizacao_e_seguranca</td>\n",
       "      <td>29107.49</td>\n",
       "    </tr>\n",
       "    <tr>\n",
       "      <th>69</th>\n",
       "      <td>tablets_impressao_imagem</td>\n",
       "      <td>3047.04</td>\n",
       "    </tr>\n",
       "    <tr>\n",
       "      <th>70</th>\n",
       "      <td>telefonia</td>\n",
       "      <td>309299.36</td>\n",
       "    </tr>\n",
       "    <tr>\n",
       "      <th>71</th>\n",
       "      <td>telefonia_fixa</td>\n",
       "      <td>48757.20</td>\n",
       "    </tr>\n",
       "    <tr>\n",
       "      <th>72</th>\n",
       "      <td>utilidades_domesticas</td>\n",
       "      <td>628200.78</td>\n",
       "    </tr>\n",
       "  </tbody>\n",
       "</table>\n",
       "<p>73 rows × 2 columns</p>\n",
       "</div>"
      ],
      "text/plain": [
       "        product_category_name  payment_value\n",
       "0   agro_industria_e_comercio       69712.97\n",
       "1                   alimentos       30414.63\n",
       "2           alimentos_bebidas       18032.24\n",
       "3                       artes       19136.30\n",
       "4          artes_e_artesanato        2107.54\n",
       "..                        ...            ...\n",
       "68    sinalizacao_e_seguranca       29107.49\n",
       "69   tablets_impressao_imagem        3047.04\n",
       "70                  telefonia      309299.36\n",
       "71             telefonia_fixa       48757.20\n",
       "72      utilidades_domesticas      628200.78\n",
       "\n",
       "[73 rows x 2 columns]"
      ]
     },
     "execution_count": 2926,
     "metadata": {},
     "output_type": "execute_result"
    }
   ],
   "source": [
    "df_category_payment"
   ]
  },
  {
   "cell_type": "markdown",
   "id": "d3a7a25c-1c25-4a9f-b4a6-0104cd67a150",
   "metadata": {},
   "source": [
    "Ordenando pelo valor de pagamento"
   ]
  },
  {
   "cell_type": "code",
   "execution_count": 2927,
   "id": "329e0679-32ee-4dd8-9c65-b93157a9133e",
   "metadata": {},
   "outputs": [],
   "source": [
    "df_category_payment_sorted = df_category_payment.sort_values(by=['payment_value'], ascending=False)"
   ]
  },
  {
   "cell_type": "markdown",
   "id": "1006513f-0f91-45d8-a9f5-49011ff34e90",
   "metadata": {},
   "source": [
    "**Categorias com maior e menor receita**"
   ]
  },
  {
   "cell_type": "markdown",
   "id": "83c2fc82-5eb9-4b1a-b3f2-7b850598d7bf",
   "metadata": {},
   "source": [
    "beleza_saude - 1162367.44\n",
    "\n",
    "seguro_e_servicos - 115.45"
   ]
  },
  {
   "cell_type": "code",
   "execution_count": 2928,
   "id": "c4fe2005-d4f9-48a8-973d-8ad40b5e6769",
   "metadata": {},
   "outputs": [
    {
     "data": {
      "text/html": [
       "<div>\n",
       "<style scoped>\n",
       "    .dataframe tbody tr th:only-of-type {\n",
       "        vertical-align: middle;\n",
       "    }\n",
       "\n",
       "    .dataframe tbody tr th {\n",
       "        vertical-align: top;\n",
       "    }\n",
       "\n",
       "    .dataframe thead th {\n",
       "        text-align: right;\n",
       "    }\n",
       "</style>\n",
       "<table border=\"1\" class=\"dataframe\">\n",
       "  <thead>\n",
       "    <tr style=\"text-align: right;\">\n",
       "      <th></th>\n",
       "      <th>product_category_name</th>\n",
       "      <th>payment_value</th>\n",
       "    </tr>\n",
       "  </thead>\n",
       "  <tbody>\n",
       "    <tr>\n",
       "      <th>11</th>\n",
       "      <td>beleza_saude</td>\n",
       "      <td>1162367.44</td>\n",
       "    </tr>\n",
       "    <tr>\n",
       "      <th>13</th>\n",
       "      <td>cama_mesa_banho</td>\n",
       "      <td>1087220.94</td>\n",
       "    </tr>\n",
       "    <tr>\n",
       "      <th>66</th>\n",
       "      <td>relogios_presentes</td>\n",
       "      <td>1075412.05</td>\n",
       "    </tr>\n",
       "    <tr>\n",
       "      <th>32</th>\n",
       "      <td>esporte_lazer</td>\n",
       "      <td>888087.37</td>\n",
       "    </tr>\n",
       "    <tr>\n",
       "      <th>44</th>\n",
       "      <td>informatica_acessorios</td>\n",
       "      <td>850116.27</td>\n",
       "    </tr>\n",
       "    <tr>\n",
       "      <th>...</th>\n",
       "      <td>...</td>\n",
       "      <td>...</td>\n",
       "    </tr>\n",
       "    <tr>\n",
       "      <th>60</th>\n",
       "      <td>pc_gamer</td>\n",
       "      <td>883.57</td>\n",
       "    </tr>\n",
       "    <tr>\n",
       "      <th>15</th>\n",
       "      <td>casa_conforto_2</td>\n",
       "      <td>643.15</td>\n",
       "    </tr>\n",
       "    <tr>\n",
       "      <th>17</th>\n",
       "      <td>cds_dvds_musicais</td>\n",
       "      <td>478.45</td>\n",
       "    </tr>\n",
       "    <tr>\n",
       "      <th>37</th>\n",
       "      <td>fashion_roupa_infanto_juvenil</td>\n",
       "      <td>475.50</td>\n",
       "    </tr>\n",
       "    <tr>\n",
       "      <th>67</th>\n",
       "      <td>seguros_e_servicos</td>\n",
       "      <td>115.45</td>\n",
       "    </tr>\n",
       "  </tbody>\n",
       "</table>\n",
       "<p>73 rows × 2 columns</p>\n",
       "</div>"
      ],
      "text/plain": [
       "            product_category_name  payment_value\n",
       "11                   beleza_saude     1162367.44\n",
       "13                cama_mesa_banho     1087220.94\n",
       "66             relogios_presentes     1075412.05\n",
       "32                  esporte_lazer      888087.37\n",
       "44         informatica_acessorios      850116.27\n",
       "..                            ...            ...\n",
       "60                       pc_gamer         883.57\n",
       "15                casa_conforto_2         643.15\n",
       "17              cds_dvds_musicais         478.45\n",
       "37  fashion_roupa_infanto_juvenil         475.50\n",
       "67             seguros_e_servicos         115.45\n",
       "\n",
       "[73 rows x 2 columns]"
      ]
     },
     "execution_count": 2928,
     "metadata": {},
     "output_type": "execute_result"
    }
   ],
   "source": [
    "df_category_payment_sorted"
   ]
  },
  {
   "cell_type": "markdown",
   "id": "8c83e2d9-1fa8-452e-96af-532389c7292b",
   "metadata": {},
   "source": [
    "### Visualização através do gráfico de barras"
   ]
  },
  {
   "cell_type": "code",
   "execution_count": 2929,
   "id": "9f119e11-3b96-4395-b610-a21eb8712df0",
   "metadata": {},
   "outputs": [],
   "source": [
    "top_10_categories = df_category_payment_sorted.head(10)"
   ]
  },
  {
   "cell_type": "code",
   "execution_count": 2930,
   "id": "8704d158-9617-4173-9607-bbb18c172956",
   "metadata": {},
   "outputs": [],
   "source": [
    "bottom_10_categories = df_category_payment_sorted.tail(10)"
   ]
  },
  {
   "cell_type": "code",
   "execution_count": 3064,
   "id": "95237a1b-e624-4014-8f3f-d5dca86c6423",
   "metadata": {},
   "outputs": [
    {
     "data": {
      "image/png": "[encoded data removed]",
      "text/plain": [
       "<Figure size 1000x600 with 1 Axes>"
      ]
     },
     "metadata": {},
     "output_type": "display_data"
    }
   ],
   "source": [
    "plt.figure(figsize=(10,6))\n",
    "sns.barplot(data=top_10_categories, x='payment_value', y='product_category_name', palette='flare', hue='payment_value')\n",
    "\n",
    "plt.title('Categorias com maior receita', fontsize=16)\n",
    "plt.xlabel('Receita total (R$)', fontsize=12)\n",
    "plt.ylabel('Categoria do Produto', fontsize=12)\n",
    "plt.tight_layout()\n",
    "\n",
    "plt.show()"
   ]
  },
  {
   "cell_type": "code",
   "execution_count": 3062,
   "id": "742ab891-daf3-4b46-ab26-ff80b46e8662",
   "metadata": {},
   "outputs": [
    {
     "data": {
      "image/png": "[encoded data removed]",
      "text/plain": [
       "<Figure size 1000x600 with 1 Axes>"
      ]
     },
     "metadata": {},
     "output_type": "display_data"
    }
   ],
   "source": [
    "plt.figure(figsize=(10,6))\n",
    "sns.barplot(data=bottom_10_categories, x='payment_value', y='product_category_name', hue='payment_value', palette='flare')\n",
    "\n",
    "plt.title('Categorias com menor receita', fontsize=16)\n",
    "plt.xlabel('Receita total (R$)', fontsize=12)\n",
    "plt.ylabel('Categoria do produto', fontsize=12)\n",
    "plt.tight_layout()\n",
    "\n",
    "plt.show()"
   ]
  },
  {
   "cell_type": "markdown",
   "id": "6dcd133d-589f-4cb1-84a8-1a41312289c0",
   "metadata": {
    "jp-MarkdownHeadingCollapsed": true
   },
   "source": [
    "# Top 10 maiores sellers(com maior receita)"
   ]
  },
  {
   "cell_type": "code",
   "execution_count": 2933,
   "id": "4905c84a-96d8-44b6-b6cc-025440b895ee",
   "metadata": {},
   "outputs": [
    {
     "data": {
      "text/html": [
       "<div>\n",
       "<style scoped>\n",
       "    .dataframe tbody tr th:only-of-type {\n",
       "        vertical-align: middle;\n",
       "    }\n",
       "\n",
       "    .dataframe tbody tr th {\n",
       "        vertical-align: top;\n",
       "    }\n",
       "\n",
       "    .dataframe thead th {\n",
       "        text-align: right;\n",
       "    }\n",
       "</style>\n",
       "<table border=\"1\" class=\"dataframe\">\n",
       "  <thead>\n",
       "    <tr style=\"text-align: right;\">\n",
       "      <th></th>\n",
       "      <th>seller_id</th>\n",
       "    </tr>\n",
       "  </thead>\n",
       "  <tbody>\n",
       "    <tr>\n",
       "      <th>0</th>\n",
       "      <td>3442f8959a84dea7ee197c632cb2df15</td>\n",
       "    </tr>\n",
       "    <tr>\n",
       "      <th>1</th>\n",
       "      <td>d1b65fc7debc3361ea86b5f14c68d2e2</td>\n",
       "    </tr>\n",
       "    <tr>\n",
       "      <th>2</th>\n",
       "      <td>ce3ad9de960102d0677a81f5d0bb7b2d</td>\n",
       "    </tr>\n",
       "    <tr>\n",
       "      <th>3</th>\n",
       "      <td>c0f3eea2e14555b6faeea3dd58c1b1c3</td>\n",
       "    </tr>\n",
       "    <tr>\n",
       "      <th>4</th>\n",
       "      <td>51a04a8a6bdcb23deccc82b0b80742cf</td>\n",
       "    </tr>\n",
       "  </tbody>\n",
       "</table>\n",
       "</div>"
      ],
      "text/plain": [
       "                          seller_id\n",
       "0  3442f8959a84dea7ee197c632cb2df15\n",
       "1  d1b65fc7debc3361ea86b5f14c68d2e2\n",
       "2  ce3ad9de960102d0677a81f5d0bb7b2d\n",
       "3  c0f3eea2e14555b6faeea3dd58c1b1c3\n",
       "4  51a04a8a6bdcb23deccc82b0b80742cf"
      ]
     },
     "execution_count": 2933,
     "metadata": {},
     "output_type": "execute_result"
    }
   ],
   "source": [
    "sellers_df_cleaned.head()"
   ]
  },
  {
   "cell_type": "code",
   "execution_count": 2934,
   "id": "a7a7f75f-295c-47ad-9290-993faf31d1af",
   "metadata": {},
   "outputs": [
    {
     "data": {
      "text/html": [
       "<div>\n",
       "<style scoped>\n",
       "    .dataframe tbody tr th:only-of-type {\n",
       "        vertical-align: middle;\n",
       "    }\n",
       "\n",
       "    .dataframe tbody tr th {\n",
       "        vertical-align: top;\n",
       "    }\n",
       "\n",
       "    .dataframe thead th {\n",
       "        text-align: right;\n",
       "    }\n",
       "</style>\n",
       "<table border=\"1\" class=\"dataframe\">\n",
       "  <thead>\n",
       "    <tr style=\"text-align: right;\">\n",
       "      <th></th>\n",
       "      <th>order_id</th>\n",
       "      <th>order_item_id</th>\n",
       "      <th>product_id</th>\n",
       "      <th>seller_id</th>\n",
       "    </tr>\n",
       "  </thead>\n",
       "  <tbody>\n",
       "    <tr>\n",
       "      <th>0</th>\n",
       "      <td>00010242fe8c5a6d1ba2dd792cb16214</td>\n",
       "      <td>1</td>\n",
       "      <td>4244733e06e7ecb4970a6e2683c13e61</td>\n",
       "      <td>48436dade18ac8b2bce089ec2a041202</td>\n",
       "    </tr>\n",
       "    <tr>\n",
       "      <th>1</th>\n",
       "      <td>00018f77f2f0320c557190d7a144bdd3</td>\n",
       "      <td>1</td>\n",
       "      <td>e5f2d52b802189ee658865ca93d83a8f</td>\n",
       "      <td>dd7ddc04e1b6c2c614352b383efe2d36</td>\n",
       "    </tr>\n",
       "    <tr>\n",
       "      <th>2</th>\n",
       "      <td>000229ec398224ef6ca0657da4fc703e</td>\n",
       "      <td>1</td>\n",
       "      <td>c777355d18b72b67abbeef9df44fd0fd</td>\n",
       "      <td>5b51032eddd242adc84c38acab88f23d</td>\n",
       "    </tr>\n",
       "    <tr>\n",
       "      <th>3</th>\n",
       "      <td>00024acbcdf0a6daa1e931b038114c75</td>\n",
       "      <td>1</td>\n",
       "      <td>7634da152a4610f1595efa32f14722fc</td>\n",
       "      <td>9d7a1d34a5052409006425275ba1c2b4</td>\n",
       "    </tr>\n",
       "    <tr>\n",
       "      <th>4</th>\n",
       "      <td>00042b26cf59d7ce69dfabb4e55b4fd9</td>\n",
       "      <td>1</td>\n",
       "      <td>ac6c3623068f30de03045865e4e10089</td>\n",
       "      <td>df560393f3a51e74553ab94004ba5c87</td>\n",
       "    </tr>\n",
       "  </tbody>\n",
       "</table>\n",
       "</div>"
      ],
      "text/plain": [
       "                           order_id  order_item_id  \\\n",
       "0  00010242fe8c5a6d1ba2dd792cb16214              1   \n",
       "1  00018f77f2f0320c557190d7a144bdd3              1   \n",
       "2  000229ec398224ef6ca0657da4fc703e              1   \n",
       "3  00024acbcdf0a6daa1e931b038114c75              1   \n",
       "4  00042b26cf59d7ce69dfabb4e55b4fd9              1   \n",
       "\n",
       "                         product_id                         seller_id  \n",
       "0  4244733e06e7ecb4970a6e2683c13e61  48436dade18ac8b2bce089ec2a041202  \n",
       "1  e5f2d52b802189ee658865ca93d83a8f  dd7ddc04e1b6c2c614352b383efe2d36  \n",
       "2  c777355d18b72b67abbeef9df44fd0fd  5b51032eddd242adc84c38acab88f23d  \n",
       "3  7634da152a4610f1595efa32f14722fc  9d7a1d34a5052409006425275ba1c2b4  \n",
       "4  ac6c3623068f30de03045865e4e10089  df560393f3a51e74553ab94004ba5c87  "
      ]
     },
     "execution_count": 2934,
     "metadata": {},
     "output_type": "execute_result"
    }
   ],
   "source": [
    "order_items_df_cleaned.head()"
   ]
  },
  {
   "cell_type": "code",
   "execution_count": 2935,
   "id": "19207453-6d94-4adc-95d5-dce96c8e5937",
   "metadata": {},
   "outputs": [
    {
     "data": {
      "text/html": [
       "<div>\n",
       "<style scoped>\n",
       "    .dataframe tbody tr th:only-of-type {\n",
       "        vertical-align: middle;\n",
       "    }\n",
       "\n",
       "    .dataframe tbody tr th {\n",
       "        vertical-align: top;\n",
       "    }\n",
       "\n",
       "    .dataframe thead th {\n",
       "        text-align: right;\n",
       "    }\n",
       "</style>\n",
       "<table border=\"1\" class=\"dataframe\">\n",
       "  <thead>\n",
       "    <tr style=\"text-align: right;\">\n",
       "      <th></th>\n",
       "      <th>order_id</th>\n",
       "      <th>customer_id</th>\n",
       "      <th>order_status</th>\n",
       "      <th>order_approved_at</th>\n",
       "    </tr>\n",
       "  </thead>\n",
       "  <tbody>\n",
       "    <tr>\n",
       "      <th>0</th>\n",
       "      <td>e481f51cbdc54678b7cc49136f2d6af7</td>\n",
       "      <td>9ef432eb6251297304e76186b10a928d</td>\n",
       "      <td>delivered</td>\n",
       "      <td>2017-10-02 11:07:15</td>\n",
       "    </tr>\n",
       "    <tr>\n",
       "      <th>1</th>\n",
       "      <td>53cdb2fc8bc7dce0b6741e2150273451</td>\n",
       "      <td>b0830fb4747a6c6d20dea0b8c802d7ef</td>\n",
       "      <td>delivered</td>\n",
       "      <td>2018-07-26 03:24:27</td>\n",
       "    </tr>\n",
       "    <tr>\n",
       "      <th>2</th>\n",
       "      <td>47770eb9100c2d0c44946d9cf07ec65d</td>\n",
       "      <td>41ce2a54c0b03bf3443c3d931a367089</td>\n",
       "      <td>delivered</td>\n",
       "      <td>2018-08-08 08:55:23</td>\n",
       "    </tr>\n",
       "    <tr>\n",
       "      <th>3</th>\n",
       "      <td>949d5b44dbf5de918fe9c16f97b45f8a</td>\n",
       "      <td>f88197465ea7920adcdbec7375364d82</td>\n",
       "      <td>delivered</td>\n",
       "      <td>2017-11-18 19:45:59</td>\n",
       "    </tr>\n",
       "    <tr>\n",
       "      <th>4</th>\n",
       "      <td>ad21c59c0840e6cb83a9ceb5573f8159</td>\n",
       "      <td>8ab97904e6daea8866dbdbc4fb7aad2c</td>\n",
       "      <td>delivered</td>\n",
       "      <td>2018-02-13 22:20:29</td>\n",
       "    </tr>\n",
       "  </tbody>\n",
       "</table>\n",
       "</div>"
      ],
      "text/plain": [
       "                           order_id                       customer_id  \\\n",
       "0  e481f51cbdc54678b7cc49136f2d6af7  9ef432eb6251297304e76186b10a928d   \n",
       "1  53cdb2fc8bc7dce0b6741e2150273451  b0830fb4747a6c6d20dea0b8c802d7ef   \n",
       "2  47770eb9100c2d0c44946d9cf07ec65d  41ce2a54c0b03bf3443c3d931a367089   \n",
       "3  949d5b44dbf5de918fe9c16f97b45f8a  f88197465ea7920adcdbec7375364d82   \n",
       "4  ad21c59c0840e6cb83a9ceb5573f8159  8ab97904e6daea8866dbdbc4fb7aad2c   \n",
       "\n",
       "  order_status   order_approved_at  \n",
       "0    delivered 2017-10-02 11:07:15  \n",
       "1    delivered 2018-07-26 03:24:27  \n",
       "2    delivered 2018-08-08 08:55:23  \n",
       "3    delivered 2017-11-18 19:45:59  \n",
       "4    delivered 2018-02-13 22:20:29  "
      ]
     },
     "execution_count": 2935,
     "metadata": {},
     "output_type": "execute_result"
    }
   ],
   "source": [
    "orders_df_cleaned.head()"
   ]
  },
  {
   "cell_type": "markdown",
   "id": "3c75a5fb-a61e-43f4-9b85-068820bae124",
   "metadata": {},
   "source": [
    "**Excluindo colunas que não fazem sentido para análise do dataframe orders**"
   ]
  },
  {
   "cell_type": "code",
   "execution_count": 2936,
   "id": "6d6fd92a-ac50-4349-b364-6122984e9e7a",
   "metadata": {},
   "outputs": [],
   "source": [
    "columns_drop = orders_df_cleaned.columns[[1,2,3]]"
   ]
  },
  {
   "cell_type": "code",
   "execution_count": 2937,
   "id": "bc3db0dd-353e-4e21-aa6f-c7e460563bef",
   "metadata": {},
   "outputs": [],
   "source": [
    "orders_df_cleaned = orders_df_cleaned.drop(columns=columns_drop, axis=1)"
   ]
  },
  {
   "cell_type": "code",
   "execution_count": 2938,
   "id": "bd71b757-b701-49c9-81e8-ce3df6ac5370",
   "metadata": {},
   "outputs": [
    {
     "data": {
      "text/html": [
       "<div>\n",
       "<style scoped>\n",
       "    .dataframe tbody tr th:only-of-type {\n",
       "        vertical-align: middle;\n",
       "    }\n",
       "\n",
       "    .dataframe tbody tr th {\n",
       "        vertical-align: top;\n",
       "    }\n",
       "\n",
       "    .dataframe thead th {\n",
       "        text-align: right;\n",
       "    }\n",
       "</style>\n",
       "<table border=\"1\" class=\"dataframe\">\n",
       "  <thead>\n",
       "    <tr style=\"text-align: right;\">\n",
       "      <th></th>\n",
       "      <th>order_id</th>\n",
       "    </tr>\n",
       "  </thead>\n",
       "  <tbody>\n",
       "    <tr>\n",
       "      <th>0</th>\n",
       "      <td>e481f51cbdc54678b7cc49136f2d6af7</td>\n",
       "    </tr>\n",
       "    <tr>\n",
       "      <th>1</th>\n",
       "      <td>53cdb2fc8bc7dce0b6741e2150273451</td>\n",
       "    </tr>\n",
       "    <tr>\n",
       "      <th>2</th>\n",
       "      <td>47770eb9100c2d0c44946d9cf07ec65d</td>\n",
       "    </tr>\n",
       "    <tr>\n",
       "      <th>3</th>\n",
       "      <td>949d5b44dbf5de918fe9c16f97b45f8a</td>\n",
       "    </tr>\n",
       "    <tr>\n",
       "      <th>4</th>\n",
       "      <td>ad21c59c0840e6cb83a9ceb5573f8159</td>\n",
       "    </tr>\n",
       "  </tbody>\n",
       "</table>\n",
       "</div>"
      ],
      "text/plain": [
       "                           order_id\n",
       "0  e481f51cbdc54678b7cc49136f2d6af7\n",
       "1  53cdb2fc8bc7dce0b6741e2150273451\n",
       "2  47770eb9100c2d0c44946d9cf07ec65d\n",
       "3  949d5b44dbf5de918fe9c16f97b45f8a\n",
       "4  ad21c59c0840e6cb83a9ceb5573f8159"
      ]
     },
     "execution_count": 2938,
     "metadata": {},
     "output_type": "execute_result"
    }
   ],
   "source": [
    "orders_df_cleaned.head()"
   ]
  },
  {
   "cell_type": "markdown",
   "id": "eec1fa6d-b63c-4eeb-ab01-9601bcc416c4",
   "metadata": {},
   "source": [
    "### Merges"
   ]
  },
  {
   "cell_type": "markdown",
   "id": "eb53728a-995d-48fe-9d0c-1a9cf55675bb",
   "metadata": {},
   "source": [
    "Merge de sellers com order_items"
   ]
  },
  {
   "cell_type": "code",
   "execution_count": 2939,
   "id": "fb923304-c8aa-4840-afaf-176ecc28f905",
   "metadata": {},
   "outputs": [
    {
     "data": {
      "text/html": [
       "<div>\n",
       "<style scoped>\n",
       "    .dataframe tbody tr th:only-of-type {\n",
       "        vertical-align: middle;\n",
       "    }\n",
       "\n",
       "    .dataframe tbody tr th {\n",
       "        vertical-align: top;\n",
       "    }\n",
       "\n",
       "    .dataframe thead th {\n",
       "        text-align: right;\n",
       "    }\n",
       "</style>\n",
       "<table border=\"1\" class=\"dataframe\">\n",
       "  <thead>\n",
       "    <tr style=\"text-align: right;\">\n",
       "      <th></th>\n",
       "      <th>seller_id</th>\n",
       "      <th>order_id</th>\n",
       "      <th>order_item_id</th>\n",
       "      <th>product_id</th>\n",
       "    </tr>\n",
       "  </thead>\n",
       "  <tbody>\n",
       "    <tr>\n",
       "      <th>0</th>\n",
       "      <td>3442f8959a84dea7ee197c632cb2df15</td>\n",
       "      <td>4a90af3e85dd563884e2afeab1091394</td>\n",
       "      <td>1</td>\n",
       "      <td>ffb64e34a37740dafb6c88f1abd1fa61</td>\n",
       "    </tr>\n",
       "    <tr>\n",
       "      <th>1</th>\n",
       "      <td>3442f8959a84dea7ee197c632cb2df15</td>\n",
       "      <td>6d953888a914b67350d5bc4d48f2acab</td>\n",
       "      <td>1</td>\n",
       "      <td>f4621f8ad6f54a2e3c408884068be46d</td>\n",
       "    </tr>\n",
       "    <tr>\n",
       "      <th>2</th>\n",
       "      <td>3442f8959a84dea7ee197c632cb2df15</td>\n",
       "      <td>bc8a5de6abf5b14f98a6135a7fb46731</td>\n",
       "      <td>2</td>\n",
       "      <td>325a06bcce0da45b7f4ecf2797dd40e4</td>\n",
       "    </tr>\n",
       "    <tr>\n",
       "      <th>3</th>\n",
       "      <td>d1b65fc7debc3361ea86b5f14c68d2e2</td>\n",
       "      <td>035201c3c82a97f8a25dd6bd5244b2d5</td>\n",
       "      <td>1</td>\n",
       "      <td>1c36a5285f7f3b1ed2637d7c528ce5ff</td>\n",
       "    </tr>\n",
       "    <tr>\n",
       "      <th>4</th>\n",
       "      <td>d1b65fc7debc3361ea86b5f14c68d2e2</td>\n",
       "      <td>0504447548229e075dea8441b37b1e2a</td>\n",
       "      <td>1</td>\n",
       "      <td>8852eb03b04ec3268a66e9b696e25f6f</td>\n",
       "    </tr>\n",
       "  </tbody>\n",
       "</table>\n",
       "</div>"
      ],
      "text/plain": [
       "                          seller_id                          order_id  \\\n",
       "0  3442f8959a84dea7ee197c632cb2df15  4a90af3e85dd563884e2afeab1091394   \n",
       "1  3442f8959a84dea7ee197c632cb2df15  6d953888a914b67350d5bc4d48f2acab   \n",
       "2  3442f8959a84dea7ee197c632cb2df15  bc8a5de6abf5b14f98a6135a7fb46731   \n",
       "3  d1b65fc7debc3361ea86b5f14c68d2e2  035201c3c82a97f8a25dd6bd5244b2d5   \n",
       "4  d1b65fc7debc3361ea86b5f14c68d2e2  0504447548229e075dea8441b37b1e2a   \n",
       "\n",
       "   order_item_id                        product_id  \n",
       "0              1  ffb64e34a37740dafb6c88f1abd1fa61  \n",
       "1              1  f4621f8ad6f54a2e3c408884068be46d  \n",
       "2              2  325a06bcce0da45b7f4ecf2797dd40e4  \n",
       "3              1  1c36a5285f7f3b1ed2637d7c528ce5ff  \n",
       "4              1  8852eb03b04ec3268a66e9b696e25f6f  "
      ]
     },
     "execution_count": 2939,
     "metadata": {},
     "output_type": "execute_result"
    }
   ],
   "source": [
    "merged_df2 = pd.merge(sellers_df_cleaned, order_items_df_cleaned, on='seller_id', how='inner')\n",
    "merged_df2.head()"
   ]
  },
  {
   "cell_type": "markdown",
   "id": "73476906-6a82-4d06-b864-aab4c1d15bc8",
   "metadata": {},
   "source": [
    "Merge com orders"
   ]
  },
  {
   "cell_type": "code",
   "execution_count": 2940,
   "id": "de38a5e7-a04f-48c2-b44d-fd246be650d3",
   "metadata": {},
   "outputs": [
    {
     "data": {
      "text/html": [
       "<div>\n",
       "<style scoped>\n",
       "    .dataframe tbody tr th:only-of-type {\n",
       "        vertical-align: middle;\n",
       "    }\n",
       "\n",
       "    .dataframe tbody tr th {\n",
       "        vertical-align: top;\n",
       "    }\n",
       "\n",
       "    .dataframe thead th {\n",
       "        text-align: right;\n",
       "    }\n",
       "</style>\n",
       "<table border=\"1\" class=\"dataframe\">\n",
       "  <thead>\n",
       "    <tr style=\"text-align: right;\">\n",
       "      <th></th>\n",
       "      <th>seller_id</th>\n",
       "      <th>order_id</th>\n",
       "      <th>order_item_id</th>\n",
       "      <th>product_id</th>\n",
       "    </tr>\n",
       "  </thead>\n",
       "  <tbody>\n",
       "    <tr>\n",
       "      <th>0</th>\n",
       "      <td>3442f8959a84dea7ee197c632cb2df15</td>\n",
       "      <td>bc8a5de6abf5b14f98a6135a7fb46731</td>\n",
       "      <td>2</td>\n",
       "      <td>325a06bcce0da45b7f4ecf2797dd40e4</td>\n",
       "    </tr>\n",
       "    <tr>\n",
       "      <th>1</th>\n",
       "      <td>d1b65fc7debc3361ea86b5f14c68d2e2</td>\n",
       "      <td>035201c3c82a97f8a25dd6bd5244b2d5</td>\n",
       "      <td>1</td>\n",
       "      <td>1c36a5285f7f3b1ed2637d7c528ce5ff</td>\n",
       "    </tr>\n",
       "    <tr>\n",
       "      <th>2</th>\n",
       "      <td>d1b65fc7debc3361ea86b5f14c68d2e2</td>\n",
       "      <td>0504447548229e075dea8441b37b1e2a</td>\n",
       "      <td>1</td>\n",
       "      <td>8852eb03b04ec3268a66e9b696e25f6f</td>\n",
       "    </tr>\n",
       "    <tr>\n",
       "      <th>3</th>\n",
       "      <td>d1b65fc7debc3361ea86b5f14c68d2e2</td>\n",
       "      <td>16fd9b360cbadca08b1026c8532820f5</td>\n",
       "      <td>1</td>\n",
       "      <td>f74ed500ab93d12ce3fbc611474d89af</td>\n",
       "    </tr>\n",
       "    <tr>\n",
       "      <th>4</th>\n",
       "      <td>d1b65fc7debc3361ea86b5f14c68d2e2</td>\n",
       "      <td>21fab12baaa93481ad76d02fa22255eb</td>\n",
       "      <td>1</td>\n",
       "      <td>4353af36fe588dc73497fa158ed6cefb</td>\n",
       "    </tr>\n",
       "  </tbody>\n",
       "</table>\n",
       "</div>"
      ],
      "text/plain": [
       "                          seller_id                          order_id  \\\n",
       "0  3442f8959a84dea7ee197c632cb2df15  bc8a5de6abf5b14f98a6135a7fb46731   \n",
       "1  d1b65fc7debc3361ea86b5f14c68d2e2  035201c3c82a97f8a25dd6bd5244b2d5   \n",
       "2  d1b65fc7debc3361ea86b5f14c68d2e2  0504447548229e075dea8441b37b1e2a   \n",
       "3  d1b65fc7debc3361ea86b5f14c68d2e2  16fd9b360cbadca08b1026c8532820f5   \n",
       "4  d1b65fc7debc3361ea86b5f14c68d2e2  21fab12baaa93481ad76d02fa22255eb   \n",
       "\n",
       "   order_item_id                        product_id  \n",
       "0              2  325a06bcce0da45b7f4ecf2797dd40e4  \n",
       "1              1  1c36a5285f7f3b1ed2637d7c528ce5ff  \n",
       "2              1  8852eb03b04ec3268a66e9b696e25f6f  \n",
       "3              1  f74ed500ab93d12ce3fbc611474d89af  \n",
       "4              1  4353af36fe588dc73497fa158ed6cefb  "
      ]
     },
     "execution_count": 2940,
     "metadata": {},
     "output_type": "execute_result"
    }
   ],
   "source": [
    "merged_df2 = pd.merge(merged_df2, orders_df_cleaned, on='order_id', how='inner')\n",
    "merged_df2.head()"
   ]
  },
  {
   "cell_type": "markdown",
   "id": "da977c8c-e9d2-407c-b2c2-649f52e31155",
   "metadata": {},
   "source": [
    "Merge com Order Payments"
   ]
  },
  {
   "cell_type": "code",
   "execution_count": 2941,
   "id": "f71ec061-9eff-4eae-91c7-f8f198d0f895",
   "metadata": {},
   "outputs": [
    {
     "data": {
      "text/html": [
       "<div>\n",
       "<style scoped>\n",
       "    .dataframe tbody tr th:only-of-type {\n",
       "        vertical-align: middle;\n",
       "    }\n",
       "\n",
       "    .dataframe tbody tr th {\n",
       "        vertical-align: top;\n",
       "    }\n",
       "\n",
       "    .dataframe thead th {\n",
       "        text-align: right;\n",
       "    }\n",
       "</style>\n",
       "<table border=\"1\" class=\"dataframe\">\n",
       "  <thead>\n",
       "    <tr style=\"text-align: right;\">\n",
       "      <th></th>\n",
       "      <th>seller_id</th>\n",
       "      <th>order_id</th>\n",
       "      <th>order_item_id</th>\n",
       "      <th>product_id</th>\n",
       "      <th>payment_value</th>\n",
       "    </tr>\n",
       "  </thead>\n",
       "  <tbody>\n",
       "    <tr>\n",
       "      <th>0</th>\n",
       "      <td>3442f8959a84dea7ee197c632cb2df15</td>\n",
       "      <td>bc8a5de6abf5b14f98a6135a7fb46731</td>\n",
       "      <td>2</td>\n",
       "      <td>325a06bcce0da45b7f4ecf2797dd40e4</td>\n",
       "      <td>158.80</td>\n",
       "    </tr>\n",
       "    <tr>\n",
       "      <th>1</th>\n",
       "      <td>d1b65fc7debc3361ea86b5f14c68d2e2</td>\n",
       "      <td>035201c3c82a97f8a25dd6bd5244b2d5</td>\n",
       "      <td>1</td>\n",
       "      <td>1c36a5285f7f3b1ed2637d7c528ce5ff</td>\n",
       "      <td>135.08</td>\n",
       "    </tr>\n",
       "    <tr>\n",
       "      <th>2</th>\n",
       "      <td>d1b65fc7debc3361ea86b5f14c68d2e2</td>\n",
       "      <td>0504447548229e075dea8441b37b1e2a</td>\n",
       "      <td>1</td>\n",
       "      <td>8852eb03b04ec3268a66e9b696e25f6f</td>\n",
       "      <td>221.79</td>\n",
       "    </tr>\n",
       "    <tr>\n",
       "      <th>3</th>\n",
       "      <td>d1b65fc7debc3361ea86b5f14c68d2e2</td>\n",
       "      <td>16fd9b360cbadca08b1026c8532820f5</td>\n",
       "      <td>1</td>\n",
       "      <td>f74ed500ab93d12ce3fbc611474d89af</td>\n",
       "      <td>213.09</td>\n",
       "    </tr>\n",
       "    <tr>\n",
       "      <th>4</th>\n",
       "      <td>d1b65fc7debc3361ea86b5f14c68d2e2</td>\n",
       "      <td>21fab12baaa93481ad76d02fa22255eb</td>\n",
       "      <td>1</td>\n",
       "      <td>4353af36fe588dc73497fa158ed6cefb</td>\n",
       "      <td>388.01</td>\n",
       "    </tr>\n",
       "  </tbody>\n",
       "</table>\n",
       "</div>"
      ],
      "text/plain": [
       "                          seller_id                          order_id  \\\n",
       "0  3442f8959a84dea7ee197c632cb2df15  bc8a5de6abf5b14f98a6135a7fb46731   \n",
       "1  d1b65fc7debc3361ea86b5f14c68d2e2  035201c3c82a97f8a25dd6bd5244b2d5   \n",
       "2  d1b65fc7debc3361ea86b5f14c68d2e2  0504447548229e075dea8441b37b1e2a   \n",
       "3  d1b65fc7debc3361ea86b5f14c68d2e2  16fd9b360cbadca08b1026c8532820f5   \n",
       "4  d1b65fc7debc3361ea86b5f14c68d2e2  21fab12baaa93481ad76d02fa22255eb   \n",
       "\n",
       "   order_item_id                        product_id  payment_value  \n",
       "0              2  325a06bcce0da45b7f4ecf2797dd40e4         158.80  \n",
       "1              1  1c36a5285f7f3b1ed2637d7c528ce5ff         135.08  \n",
       "2              1  8852eb03b04ec3268a66e9b696e25f6f         221.79  \n",
       "3              1  f74ed500ab93d12ce3fbc611474d89af         213.09  \n",
       "4              1  4353af36fe588dc73497fa158ed6cefb         388.01  "
      ]
     },
     "execution_count": 2941,
     "metadata": {},
     "output_type": "execute_result"
    }
   ],
   "source": [
    "merged_df2 = pd.merge(merged_df2, order_payments_df_cleaned, on='order_id', how='inner')\n",
    "merged_df2.head()"
   ]
  },
  {
   "cell_type": "markdown",
   "id": "5d0a1480-57f1-4c0b-a239-d2a196458b38",
   "metadata": {},
   "source": [
    "### Valores faltantes"
   ]
  },
  {
   "cell_type": "code",
   "execution_count": 2942,
   "id": "3471d002-666e-489e-a11e-9a240754e5bf",
   "metadata": {},
   "outputs": [
    {
     "data": {
      "text/plain": [
       "seller_id        0\n",
       "order_id         0\n",
       "order_item_id    0\n",
       "product_id       0\n",
       "payment_value    0\n",
       "dtype: int64"
      ]
     },
     "execution_count": 2942,
     "metadata": {},
     "output_type": "execute_result"
    }
   ],
   "source": [
    "merged_df2.isnull().sum()"
   ]
  },
  {
   "cell_type": "markdown",
   "id": "ebe2d73c-44c4-4888-a077-d3865545c8c5",
   "metadata": {},
   "source": [
    "### Duplicatas"
   ]
  },
  {
   "cell_type": "code",
   "execution_count": 2943,
   "id": "1e3d10cc-974a-4951-a56e-12be50d13ae0",
   "metadata": {},
   "outputs": [
    {
     "data": {
      "text/plain": [
       "np.int64(448)"
      ]
     },
     "execution_count": 2943,
     "metadata": {},
     "output_type": "execute_result"
    }
   ],
   "source": [
    "merged_df2.duplicated().sum()"
   ]
  },
  {
   "cell_type": "markdown",
   "id": "57727895-067d-4639-892a-275c5e98dd8a",
   "metadata": {},
   "source": [
    "**Excluindo as duplicatas utilizando como parâmetros as chaves que uniram os dataframes**"
   ]
  },
  {
   "cell_type": "code",
   "execution_count": 2944,
   "id": "6a44254b-6af3-4ca2-af1a-5e26bec6232f",
   "metadata": {},
   "outputs": [],
   "source": [
    "final_merged_df2 = merged_df2.drop_duplicates(subset=(['seller_id', 'order_id']))"
   ]
  },
  {
   "cell_type": "code",
   "execution_count": 2945,
   "id": "b468e6ca-6ba3-4c76-91b4-c92eb0b00ecf",
   "metadata": {},
   "outputs": [
    {
     "data": {
      "text/plain": [
       "np.int64(0)"
      ]
     },
     "execution_count": 2945,
     "metadata": {},
     "output_type": "execute_result"
    }
   ],
   "source": [
    "final_merged_df2.duplicated().sum()"
   ]
  },
  {
   "cell_type": "markdown",
   "id": "fde24fea-6890-4511-a577-c8cc78319b39",
   "metadata": {},
   "source": [
    "### Agrupando por seller e payment value"
   ]
  },
  {
   "cell_type": "code",
   "execution_count": 2946,
   "id": "1c00b32e-ebb3-4f70-b5fa-5cc8e624387e",
   "metadata": {},
   "outputs": [],
   "source": [
    "group_by_seller_payment = final_merged_df2.groupby('seller_id')['payment_value']"
   ]
  },
  {
   "cell_type": "code",
   "execution_count": 2947,
   "id": "3e6c5920-854b-4f40-bfdc-3ac3454db569",
   "metadata": {},
   "outputs": [],
   "source": [
    "group_by_seller_payment = group_by_seller_payment.sum().reset_index()"
   ]
  },
  {
   "cell_type": "code",
   "execution_count": 2948,
   "id": "dad1a37d-2957-44d8-aab7-1bd6d43e6377",
   "metadata": {},
   "outputs": [
    {
     "data": {
      "text/html": [
       "<div>\n",
       "<style scoped>\n",
       "    .dataframe tbody tr th:only-of-type {\n",
       "        vertical-align: middle;\n",
       "    }\n",
       "\n",
       "    .dataframe tbody tr th {\n",
       "        vertical-align: top;\n",
       "    }\n",
       "\n",
       "    .dataframe thead th {\n",
       "        text-align: right;\n",
       "    }\n",
       "</style>\n",
       "<table border=\"1\" class=\"dataframe\">\n",
       "  <thead>\n",
       "    <tr style=\"text-align: right;\">\n",
       "      <th></th>\n",
       "      <th>seller_id</th>\n",
       "      <th>payment_value</th>\n",
       "    </tr>\n",
       "  </thead>\n",
       "  <tbody>\n",
       "    <tr>\n",
       "      <th>0</th>\n",
       "      <td>0015a82c2db000af6aaaf3ae2ecb0532</td>\n",
       "      <td>2748.06</td>\n",
       "    </tr>\n",
       "    <tr>\n",
       "      <th>1</th>\n",
       "      <td>001cca7ae9ae17fb1caed9dfb1094831</td>\n",
       "      <td>15838.33</td>\n",
       "    </tr>\n",
       "    <tr>\n",
       "      <th>2</th>\n",
       "      <td>002100f778ceb8431b7a1020ff7ab48f</td>\n",
       "      <td>2110.33</td>\n",
       "    </tr>\n",
       "    <tr>\n",
       "      <th>3</th>\n",
       "      <td>003554e2dce176b5555353e4f3555ac8</td>\n",
       "      <td>139.38</td>\n",
       "    </tr>\n",
       "    <tr>\n",
       "      <th>4</th>\n",
       "      <td>004c9cd9d87a3c30c522c48c4fc07416</td>\n",
       "      <td>9830.99</td>\n",
       "    </tr>\n",
       "    <tr>\n",
       "      <th>...</th>\n",
       "      <td>...</td>\n",
       "      <td>...</td>\n",
       "    </tr>\n",
       "    <tr>\n",
       "      <th>2614</th>\n",
       "      <td>ffad1e7127fb622cb64a900751590acd</td>\n",
       "      <td>1090.83</td>\n",
       "    </tr>\n",
       "    <tr>\n",
       "      <th>2615</th>\n",
       "      <td>ffc470761de7d0232558ba5e786e57b7</td>\n",
       "      <td>1856.85</td>\n",
       "    </tr>\n",
       "    <tr>\n",
       "      <th>2616</th>\n",
       "      <td>ffdd9f82b9a447f6f8d4b91554cc7dd3</td>\n",
       "      <td>2287.25</td>\n",
       "    </tr>\n",
       "    <tr>\n",
       "      <th>2617</th>\n",
       "      <td>ffeee66ac5d5a62fe688b9d26f83f534</td>\n",
       "      <td>2259.55</td>\n",
       "    </tr>\n",
       "    <tr>\n",
       "      <th>2618</th>\n",
       "      <td>fffd5413c0700ac820c7069d66d98c89</td>\n",
       "      <td>10678.78</td>\n",
       "    </tr>\n",
       "  </tbody>\n",
       "</table>\n",
       "<p>2619 rows × 2 columns</p>\n",
       "</div>"
      ],
      "text/plain": [
       "                             seller_id  payment_value\n",
       "0     0015a82c2db000af6aaaf3ae2ecb0532        2748.06\n",
       "1     001cca7ae9ae17fb1caed9dfb1094831       15838.33\n",
       "2     002100f778ceb8431b7a1020ff7ab48f        2110.33\n",
       "3     003554e2dce176b5555353e4f3555ac8         139.38\n",
       "4     004c9cd9d87a3c30c522c48c4fc07416        9830.99\n",
       "...                                ...            ...\n",
       "2614  ffad1e7127fb622cb64a900751590acd        1090.83\n",
       "2615  ffc470761de7d0232558ba5e786e57b7        1856.85\n",
       "2616  ffdd9f82b9a447f6f8d4b91554cc7dd3        2287.25\n",
       "2617  ffeee66ac5d5a62fe688b9d26f83f534        2259.55\n",
       "2618  fffd5413c0700ac820c7069d66d98c89       10678.78\n",
       "\n",
       "[2619 rows x 2 columns]"
      ]
     },
     "execution_count": 2948,
     "metadata": {},
     "output_type": "execute_result"
    }
   ],
   "source": [
    "group_by_seller_payment"
   ]
  },
  {
   "cell_type": "code",
   "execution_count": 2949,
   "id": "83b993a6-b753-4b66-a801-edd3aef83afc",
   "metadata": {},
   "outputs": [],
   "source": [
    "df_category_seller_payment = group_by_seller_payment.sort_values(by=['payment_value'], ascending=False)"
   ]
  },
  {
   "cell_type": "code",
   "execution_count": 2950,
   "id": "9165c201-a4bb-4772-b1c6-8330ac410fc2",
   "metadata": {},
   "outputs": [
    {
     "data": {
      "text/html": [
       "<div>\n",
       "<style scoped>\n",
       "    .dataframe tbody tr th:only-of-type {\n",
       "        vertical-align: middle;\n",
       "    }\n",
       "\n",
       "    .dataframe tbody tr th {\n",
       "        vertical-align: top;\n",
       "    }\n",
       "\n",
       "    .dataframe thead th {\n",
       "        text-align: right;\n",
       "    }\n",
       "</style>\n",
       "<table border=\"1\" class=\"dataframe\">\n",
       "  <thead>\n",
       "    <tr style=\"text-align: right;\">\n",
       "      <th></th>\n",
       "      <th>seller_id</th>\n",
       "      <th>payment_value</th>\n",
       "    </tr>\n",
       "  </thead>\n",
       "  <tbody>\n",
       "    <tr>\n",
       "      <th>751</th>\n",
       "      <td>4869f7a5dfa277a7dca6462dcf3b52b2</td>\n",
       "      <td>221195.68</td>\n",
       "    </tr>\n",
       "    <tr>\n",
       "      <th>882</th>\n",
       "      <td>53243585a1d6dc2643021fd1853d8905</td>\n",
       "      <td>214912.99</td>\n",
       "    </tr>\n",
       "    <tr>\n",
       "      <th>168</th>\n",
       "      <td>1025f0e2d44d7041d6cf58b6550e0bfa</td>\n",
       "      <td>170025.09</td>\n",
       "    </tr>\n",
       "    <tr>\n",
       "      <th>1316</th>\n",
       "      <td>7c67e1448b00f6e969d365cea6b010ab</td>\n",
       "      <td>169568.68</td>\n",
       "    </tr>\n",
       "    <tr>\n",
       "      <th>771</th>\n",
       "      <td>4a3ca9315b744ce9f8e9374361493884</td>\n",
       "      <td>159112.63</td>\n",
       "    </tr>\n",
       "    <tr>\n",
       "      <th>...</th>\n",
       "      <td>...</td>\n",
       "      <td>...</td>\n",
       "    </tr>\n",
       "    <tr>\n",
       "      <th>1992</th>\n",
       "      <td>c1dde11f12d05c478f5de2d7319ad3b2</td>\n",
       "      <td>19.89</td>\n",
       "    </tr>\n",
       "    <tr>\n",
       "      <th>759</th>\n",
       "      <td>4965a7002cca77301c82d3f91b82e1a9</td>\n",
       "      <td>16.36</td>\n",
       "    </tr>\n",
       "    <tr>\n",
       "      <th>614</th>\n",
       "      <td>3ac588cd562971392504a9e17130c40b</td>\n",
       "      <td>11.46</td>\n",
       "    </tr>\n",
       "    <tr>\n",
       "      <th>1754</th>\n",
       "      <td>aa17b35ce4de7b565be3249ba838944f</td>\n",
       "      <td>7.50</td>\n",
       "    </tr>\n",
       "    <tr>\n",
       "      <th>1866</th>\n",
       "      <td>b5dd7151a92ccaaa282cbe9681a05f44</td>\n",
       "      <td>3.70</td>\n",
       "    </tr>\n",
       "  </tbody>\n",
       "</table>\n",
       "<p>2619 rows × 2 columns</p>\n",
       "</div>"
      ],
      "text/plain": [
       "                             seller_id  payment_value\n",
       "751   4869f7a5dfa277a7dca6462dcf3b52b2      221195.68\n",
       "882   53243585a1d6dc2643021fd1853d8905      214912.99\n",
       "168   1025f0e2d44d7041d6cf58b6550e0bfa      170025.09\n",
       "1316  7c67e1448b00f6e969d365cea6b010ab      169568.68\n",
       "771   4a3ca9315b744ce9f8e9374361493884      159112.63\n",
       "...                                ...            ...\n",
       "1992  c1dde11f12d05c478f5de2d7319ad3b2          19.89\n",
       "759   4965a7002cca77301c82d3f91b82e1a9          16.36\n",
       "614   3ac588cd562971392504a9e17130c40b          11.46\n",
       "1754  aa17b35ce4de7b565be3249ba838944f           7.50\n",
       "1866  b5dd7151a92ccaaa282cbe9681a05f44           3.70\n",
       "\n",
       "[2619 rows x 2 columns]"
      ]
     },
     "execution_count": 2950,
     "metadata": {},
     "output_type": "execute_result"
    }
   ],
   "source": [
    "df_category_seller_payment"
   ]
  },
  {
   "cell_type": "markdown",
   "id": "b804191f-4b3b-4b2d-b5a6-e4cfdecb5c53",
   "metadata": {},
   "source": [
    "**Criando uma coluna para o nome do vendedor**"
   ]
  },
  {
   "cell_type": "code",
   "execution_count": 2951,
   "id": "8b7edd6c-8d9c-4c23-b4a8-ba715f5c2125",
   "metadata": {},
   "outputs": [],
   "source": [
    "df_category_seller_payment['seller_name'] = 'seller' + df_category_seller_payment['seller_id'].str[:4]"
   ]
  },
  {
   "cell_type": "code",
   "execution_count": 2952,
   "id": "ad184dc4-db2f-406c-8135-8c759be4eb6b",
   "metadata": {},
   "outputs": [
    {
     "data": {
      "text/html": [
       "<div>\n",
       "<style scoped>\n",
       "    .dataframe tbody tr th:only-of-type {\n",
       "        vertical-align: middle;\n",
       "    }\n",
       "\n",
       "    .dataframe tbody tr th {\n",
       "        vertical-align: top;\n",
       "    }\n",
       "\n",
       "    .dataframe thead th {\n",
       "        text-align: right;\n",
       "    }\n",
       "</style>\n",
       "<table border=\"1\" class=\"dataframe\">\n",
       "  <thead>\n",
       "    <tr style=\"text-align: right;\">\n",
       "      <th></th>\n",
       "      <th>seller_id</th>\n",
       "      <th>payment_value</th>\n",
       "      <th>seller_name</th>\n",
       "    </tr>\n",
       "  </thead>\n",
       "  <tbody>\n",
       "    <tr>\n",
       "      <th>751</th>\n",
       "      <td>4869f7a5dfa277a7dca6462dcf3b52b2</td>\n",
       "      <td>221195.68</td>\n",
       "      <td>seller4869</td>\n",
       "    </tr>\n",
       "    <tr>\n",
       "      <th>882</th>\n",
       "      <td>53243585a1d6dc2643021fd1853d8905</td>\n",
       "      <td>214912.99</td>\n",
       "      <td>seller5324</td>\n",
       "    </tr>\n",
       "    <tr>\n",
       "      <th>168</th>\n",
       "      <td>1025f0e2d44d7041d6cf58b6550e0bfa</td>\n",
       "      <td>170025.09</td>\n",
       "      <td>seller1025</td>\n",
       "    </tr>\n",
       "    <tr>\n",
       "      <th>1316</th>\n",
       "      <td>7c67e1448b00f6e969d365cea6b010ab</td>\n",
       "      <td>169568.68</td>\n",
       "      <td>seller7c67</td>\n",
       "    </tr>\n",
       "    <tr>\n",
       "      <th>771</th>\n",
       "      <td>4a3ca9315b744ce9f8e9374361493884</td>\n",
       "      <td>159112.63</td>\n",
       "      <td>seller4a3c</td>\n",
       "    </tr>\n",
       "    <tr>\n",
       "      <th>...</th>\n",
       "      <td>...</td>\n",
       "      <td>...</td>\n",
       "      <td>...</td>\n",
       "    </tr>\n",
       "    <tr>\n",
       "      <th>1992</th>\n",
       "      <td>c1dde11f12d05c478f5de2d7319ad3b2</td>\n",
       "      <td>19.89</td>\n",
       "      <td>sellerc1dd</td>\n",
       "    </tr>\n",
       "    <tr>\n",
       "      <th>759</th>\n",
       "      <td>4965a7002cca77301c82d3f91b82e1a9</td>\n",
       "      <td>16.36</td>\n",
       "      <td>seller4965</td>\n",
       "    </tr>\n",
       "    <tr>\n",
       "      <th>614</th>\n",
       "      <td>3ac588cd562971392504a9e17130c40b</td>\n",
       "      <td>11.46</td>\n",
       "      <td>seller3ac5</td>\n",
       "    </tr>\n",
       "    <tr>\n",
       "      <th>1754</th>\n",
       "      <td>aa17b35ce4de7b565be3249ba838944f</td>\n",
       "      <td>7.50</td>\n",
       "      <td>selleraa17</td>\n",
       "    </tr>\n",
       "    <tr>\n",
       "      <th>1866</th>\n",
       "      <td>b5dd7151a92ccaaa282cbe9681a05f44</td>\n",
       "      <td>3.70</td>\n",
       "      <td>sellerb5dd</td>\n",
       "    </tr>\n",
       "  </tbody>\n",
       "</table>\n",
       "<p>2619 rows × 3 columns</p>\n",
       "</div>"
      ],
      "text/plain": [
       "                             seller_id  payment_value seller_name\n",
       "751   4869f7a5dfa277a7dca6462dcf3b52b2      221195.68  seller4869\n",
       "882   53243585a1d6dc2643021fd1853d8905      214912.99  seller5324\n",
       "168   1025f0e2d44d7041d6cf58b6550e0bfa      170025.09  seller1025\n",
       "1316  7c67e1448b00f6e969d365cea6b010ab      169568.68  seller7c67\n",
       "771   4a3ca9315b744ce9f8e9374361493884      159112.63  seller4a3c\n",
       "...                                ...            ...         ...\n",
       "1992  c1dde11f12d05c478f5de2d7319ad3b2          19.89  sellerc1dd\n",
       "759   4965a7002cca77301c82d3f91b82e1a9          16.36  seller4965\n",
       "614   3ac588cd562971392504a9e17130c40b          11.46  seller3ac5\n",
       "1754  aa17b35ce4de7b565be3249ba838944f           7.50  selleraa17\n",
       "1866  b5dd7151a92ccaaa282cbe9681a05f44           3.70  sellerb5dd\n",
       "\n",
       "[2619 rows x 3 columns]"
      ]
     },
     "execution_count": 2952,
     "metadata": {},
     "output_type": "execute_result"
    }
   ],
   "source": [
    "df_category_seller_payment"
   ]
  },
  {
   "cell_type": "code",
   "execution_count": 3065,
   "id": "eefe49c1-f437-4728-a002-a6773b62eb1c",
   "metadata": {},
   "outputs": [],
   "source": [
    "# Pegando os 10 primeiros sellers\n",
    "top_10_sellers = df_category_seller_payment.head(10)"
   ]
  },
  {
   "cell_type": "code",
   "execution_count": 3066,
   "id": "744fe729-4ab5-448c-85c8-5a90e5132e47",
   "metadata": {},
   "outputs": [],
   "source": [
    "# Pegando os 10 últimos sellers\n",
    "bottom_10_sellers = df_category_seller_payment.tail(10)"
   ]
  },
  {
   "cell_type": "markdown",
   "id": "08646255-efe9-41af-9c01-d0e3c7aad768",
   "metadata": {},
   "source": [
    "### Visualização através do gráfico de barras"
   ]
  },
  {
   "cell_type": "code",
   "execution_count": 2955,
   "id": "80f12073-b994-4f98-b665-67f0b93dc986",
   "metadata": {},
   "outputs": [
    {
     "data": {
      "image/png": "[encoded data removed]",
      "text/plain": [
       "<Figure size 1000x600 with 1 Axes>"
      ]
     },
     "metadata": {},
     "output_type": "display_data"
    }
   ],
   "source": [
    "plt.figure(figsize=(10,6))\n",
    "sns.barplot(data=top_10_sellers, y='payment_value', x='seller_name', hue='payment_value', palette='flare')\n",
    "\n",
    "plt.title('Vendedores que mais vendem', fontsize=16)\n",
    "plt.xlabel('Receita total (R$)', fontsize=12)\n",
    "plt.ylabel('Vendedores', fontsize=12)\n",
    "plt.tight_layout()\n",
    "\n",
    "plt.show()"
   ]
  },
  {
   "cell_type": "markdown",
   "id": "afa278c7-cd41-42c1-8313-c94a693ae330",
   "metadata": {
    "jp-MarkdownHeadingCollapsed": true
   },
   "source": [
    "# Top 10 piores sellers(com menor receita)"
   ]
  },
  {
   "cell_type": "markdown",
   "id": "ae5aba36-988b-484c-b0b1-22511dcb6dfb",
   "metadata": {},
   "source": [
    "### Visualização através do gráfico de barras"
   ]
  },
  {
   "cell_type": "code",
   "execution_count": 2956,
   "id": "bd80f295-ff9d-4435-841d-9181bb69de6b",
   "metadata": {},
   "outputs": [
    {
     "data": {
      "image/png": "[encoded data removed]",
      "text/plain": [
       "<Figure size 1000x600 with 1 Axes>"
      ]
     },
     "metadata": {},
     "output_type": "display_data"
    }
   ],
   "source": [
    "plt.figure(figsize=(10,6))\n",
    "sns.barplot(data=bottom_10_sellers, y='payment_value', x='seller_name', hue='payment_value', palette='flare')\n",
    "\n",
    "# Personalizando o gráfico\n",
    "plt.title('Vendedores que menos vendem', fontsize=16)\n",
    "plt.xlabel('Receita total (R$)', fontsize=12)\n",
    "plt.ylabel('Vendedores', fontsize=12)\n",
    "plt.tight_layout()\n",
    "\n",
    "plt.show()"
   ]
  },
  {
   "cell_type": "markdown",
   "id": "fc583d81-3098-4398-a9dd-764368d0d6a2",
   "metadata": {},
   "source": [
    "# Existem sellers que vendem o mesmo produto? Se sim, quais são? Qual é a variação de preço praticado entre os Sellers?"
   ]
  },
  {
   "cell_type": "markdown",
   "id": "9b03365e-9368-4575-b112-d0088be568ae",
   "metadata": {},
   "source": [
    "**Limpando o dataset order_items**"
   ]
  },
  {
   "cell_type": "code",
   "execution_count": 2957,
   "id": "d78148c8-14ca-4754-8ecc-55c96c34358f",
   "metadata": {},
   "outputs": [
    {
     "data": {
      "text/plain": [
       "'shipping_limit_date'"
      ]
     },
     "execution_count": 2957,
     "metadata": {},
     "output_type": "execute_result"
    }
   ],
   "source": [
    "columns_drop = order_items_dataset.columns[4]\n",
    "columns_drop"
   ]
  },
  {
   "cell_type": "code",
   "execution_count": 2958,
   "id": "cdb2f044-7114-4693-adf3-3bcfaea9da48",
   "metadata": {},
   "outputs": [
    {
     "data": {
      "text/plain": [
       "order_id          object\n",
       "order_item_id      int64\n",
       "product_id        object\n",
       "seller_id         object\n",
       "price            float64\n",
       "freight_value    float64\n",
       "dtype: object"
      ]
     },
     "execution_count": 2958,
     "metadata": {},
     "output_type": "execute_result"
    }
   ],
   "source": [
    "order_items_df_cleaned2 = order_items_dataset.drop(columns=columns_drop, axis=1)\n",
    "order_items_df_cleaned2.dtypes"
   ]
  },
  {
   "cell_type": "markdown",
   "id": "2c0b34d4-8bfc-460a-8883-85c367828322",
   "metadata": {},
   "source": [
    "### Merge"
   ]
  },
  {
   "cell_type": "markdown",
   "id": "259a9253-cb0e-4942-86f8-62dcc49a2c69",
   "metadata": {},
   "source": [
    "- Sellers e Order Items"
   ]
  },
  {
   "cell_type": "code",
   "execution_count": 2959,
   "id": "bf34c17b-4cd1-426f-9a0d-a824f3df972e",
   "metadata": {},
   "outputs": [],
   "source": [
    "merged_df3 = pd.merge(sellers_df_cleaned, order_items_df_cleaned2, on='seller_id', how='inner')"
   ]
  },
  {
   "cell_type": "code",
   "execution_count": 2960,
   "id": "4b6981b0-071e-4b20-8a8e-14c918a27cbc",
   "metadata": {},
   "outputs": [
    {
     "data": {
      "text/html": [
       "<div>\n",
       "<style scoped>\n",
       "    .dataframe tbody tr th:only-of-type {\n",
       "        vertical-align: middle;\n",
       "    }\n",
       "\n",
       "    .dataframe tbody tr th {\n",
       "        vertical-align: top;\n",
       "    }\n",
       "\n",
       "    .dataframe thead th {\n",
       "        text-align: right;\n",
       "    }\n",
       "</style>\n",
       "<table border=\"1\" class=\"dataframe\">\n",
       "  <thead>\n",
       "    <tr style=\"text-align: right;\">\n",
       "      <th></th>\n",
       "      <th>seller_id</th>\n",
       "      <th>order_id</th>\n",
       "      <th>order_item_id</th>\n",
       "      <th>product_id</th>\n",
       "      <th>price</th>\n",
       "      <th>freight_value</th>\n",
       "    </tr>\n",
       "  </thead>\n",
       "  <tbody>\n",
       "    <tr>\n",
       "      <th>0</th>\n",
       "      <td>3442f8959a84dea7ee197c632cb2df15</td>\n",
       "      <td>4a90af3e85dd563884e2afeab1091394</td>\n",
       "      <td>1</td>\n",
       "      <td>ffb64e34a37740dafb6c88f1abd1fa61</td>\n",
       "      <td>106.20</td>\n",
       "      <td>9.56</td>\n",
       "    </tr>\n",
       "    <tr>\n",
       "      <th>1</th>\n",
       "      <td>3442f8959a84dea7ee197c632cb2df15</td>\n",
       "      <td>6d953888a914b67350d5bc4d48f2acab</td>\n",
       "      <td>1</td>\n",
       "      <td>f4621f8ad6f54a2e3c408884068be46d</td>\n",
       "      <td>101.70</td>\n",
       "      <td>15.92</td>\n",
       "    </tr>\n",
       "    <tr>\n",
       "      <th>2</th>\n",
       "      <td>3442f8959a84dea7ee197c632cb2df15</td>\n",
       "      <td>bc8a5de6abf5b14f98a6135a7fb46731</td>\n",
       "      <td>2</td>\n",
       "      <td>325a06bcce0da45b7f4ecf2797dd40e4</td>\n",
       "      <td>10.80</td>\n",
       "      <td>2.42</td>\n",
       "    </tr>\n",
       "    <tr>\n",
       "      <th>3</th>\n",
       "      <td>d1b65fc7debc3361ea86b5f14c68d2e2</td>\n",
       "      <td>035201c3c82a97f8a25dd6bd5244b2d5</td>\n",
       "      <td>1</td>\n",
       "      <td>1c36a5285f7f3b1ed2637d7c528ce5ff</td>\n",
       "      <td>89.99</td>\n",
       "      <td>45.09</td>\n",
       "    </tr>\n",
       "    <tr>\n",
       "      <th>4</th>\n",
       "      <td>d1b65fc7debc3361ea86b5f14c68d2e2</td>\n",
       "      <td>0504447548229e075dea8441b37b1e2a</td>\n",
       "      <td>1</td>\n",
       "      <td>8852eb03b04ec3268a66e9b696e25f6f</td>\n",
       "      <td>199.90</td>\n",
       "      <td>21.89</td>\n",
       "    </tr>\n",
       "  </tbody>\n",
       "</table>\n",
       "</div>"
      ],
      "text/plain": [
       "                          seller_id                          order_id  \\\n",
       "0  3442f8959a84dea7ee197c632cb2df15  4a90af3e85dd563884e2afeab1091394   \n",
       "1  3442f8959a84dea7ee197c632cb2df15  6d953888a914b67350d5bc4d48f2acab   \n",
       "2  3442f8959a84dea7ee197c632cb2df15  bc8a5de6abf5b14f98a6135a7fb46731   \n",
       "3  d1b65fc7debc3361ea86b5f14c68d2e2  035201c3c82a97f8a25dd6bd5244b2d5   \n",
       "4  d1b65fc7debc3361ea86b5f14c68d2e2  0504447548229e075dea8441b37b1e2a   \n",
       "\n",
       "   order_item_id                        product_id   price  freight_value  \n",
       "0              1  ffb64e34a37740dafb6c88f1abd1fa61  106.20           9.56  \n",
       "1              1  f4621f8ad6f54a2e3c408884068be46d  101.70          15.92  \n",
       "2              2  325a06bcce0da45b7f4ecf2797dd40e4   10.80           2.42  \n",
       "3              1  1c36a5285f7f3b1ed2637d7c528ce5ff   89.99          45.09  \n",
       "4              1  8852eb03b04ec3268a66e9b696e25f6f  199.90          21.89  "
      ]
     },
     "execution_count": 2960,
     "metadata": {},
     "output_type": "execute_result"
    }
   ],
   "source": [
    "merged_df3.head()"
   ]
  },
  {
   "cell_type": "markdown",
   "id": "f3fc36da-1689-4a8a-a6e1-d96c4687303f",
   "metadata": {},
   "source": [
    "- Products"
   ]
  },
  {
   "cell_type": "code",
   "execution_count": 2961,
   "id": "ac11b0c0-06f7-46be-b2be-27050f51df18",
   "metadata": {},
   "outputs": [
    {
     "data": {
      "text/html": [
       "<div>\n",
       "<style scoped>\n",
       "    .dataframe tbody tr th:only-of-type {\n",
       "        vertical-align: middle;\n",
       "    }\n",
       "\n",
       "    .dataframe tbody tr th {\n",
       "        vertical-align: top;\n",
       "    }\n",
       "\n",
       "    .dataframe thead th {\n",
       "        text-align: right;\n",
       "    }\n",
       "</style>\n",
       "<table border=\"1\" class=\"dataframe\">\n",
       "  <thead>\n",
       "    <tr style=\"text-align: right;\">\n",
       "      <th></th>\n",
       "      <th>seller_id</th>\n",
       "      <th>order_id</th>\n",
       "      <th>order_item_id</th>\n",
       "      <th>product_id</th>\n",
       "      <th>price</th>\n",
       "      <th>freight_value</th>\n",
       "      <th>product_category_name</th>\n",
       "    </tr>\n",
       "  </thead>\n",
       "  <tbody>\n",
       "    <tr>\n",
       "      <th>0</th>\n",
       "      <td>3442f8959a84dea7ee197c632cb2df15</td>\n",
       "      <td>4a90af3e85dd563884e2afeab1091394</td>\n",
       "      <td>1</td>\n",
       "      <td>ffb64e34a37740dafb6c88f1abd1fa61</td>\n",
       "      <td>106.20</td>\n",
       "      <td>9.56</td>\n",
       "      <td>esporte_lazer</td>\n",
       "    </tr>\n",
       "    <tr>\n",
       "      <th>1</th>\n",
       "      <td>3442f8959a84dea7ee197c632cb2df15</td>\n",
       "      <td>6d953888a914b67350d5bc4d48f2acab</td>\n",
       "      <td>1</td>\n",
       "      <td>f4621f8ad6f54a2e3c408884068be46d</td>\n",
       "      <td>101.70</td>\n",
       "      <td>15.92</td>\n",
       "      <td>esporte_lazer</td>\n",
       "    </tr>\n",
       "    <tr>\n",
       "      <th>2</th>\n",
       "      <td>3442f8959a84dea7ee197c632cb2df15</td>\n",
       "      <td>bc8a5de6abf5b14f98a6135a7fb46731</td>\n",
       "      <td>2</td>\n",
       "      <td>325a06bcce0da45b7f4ecf2797dd40e4</td>\n",
       "      <td>10.80</td>\n",
       "      <td>2.42</td>\n",
       "      <td>esporte_lazer</td>\n",
       "    </tr>\n",
       "    <tr>\n",
       "      <th>3</th>\n",
       "      <td>d1b65fc7debc3361ea86b5f14c68d2e2</td>\n",
       "      <td>035201c3c82a97f8a25dd6bd5244b2d5</td>\n",
       "      <td>1</td>\n",
       "      <td>1c36a5285f7f3b1ed2637d7c528ce5ff</td>\n",
       "      <td>89.99</td>\n",
       "      <td>45.09</td>\n",
       "      <td>malas_acessorios</td>\n",
       "    </tr>\n",
       "    <tr>\n",
       "      <th>4</th>\n",
       "      <td>d1b65fc7debc3361ea86b5f14c68d2e2</td>\n",
       "      <td>0504447548229e075dea8441b37b1e2a</td>\n",
       "      <td>1</td>\n",
       "      <td>8852eb03b04ec3268a66e9b696e25f6f</td>\n",
       "      <td>199.90</td>\n",
       "      <td>21.89</td>\n",
       "      <td>papelaria</td>\n",
       "    </tr>\n",
       "  </tbody>\n",
       "</table>\n",
       "</div>"
      ],
      "text/plain": [
       "                          seller_id                          order_id  \\\n",
       "0  3442f8959a84dea7ee197c632cb2df15  4a90af3e85dd563884e2afeab1091394   \n",
       "1  3442f8959a84dea7ee197c632cb2df15  6d953888a914b67350d5bc4d48f2acab   \n",
       "2  3442f8959a84dea7ee197c632cb2df15  bc8a5de6abf5b14f98a6135a7fb46731   \n",
       "3  d1b65fc7debc3361ea86b5f14c68d2e2  035201c3c82a97f8a25dd6bd5244b2d5   \n",
       "4  d1b65fc7debc3361ea86b5f14c68d2e2  0504447548229e075dea8441b37b1e2a   \n",
       "\n",
       "   order_item_id                        product_id   price  freight_value  \\\n",
       "0              1  ffb64e34a37740dafb6c88f1abd1fa61  106.20           9.56   \n",
       "1              1  f4621f8ad6f54a2e3c408884068be46d  101.70          15.92   \n",
       "2              2  325a06bcce0da45b7f4ecf2797dd40e4   10.80           2.42   \n",
       "3              1  1c36a5285f7f3b1ed2637d7c528ce5ff   89.99          45.09   \n",
       "4              1  8852eb03b04ec3268a66e9b696e25f6f  199.90          21.89   \n",
       "\n",
       "  product_category_name  \n",
       "0         esporte_lazer  \n",
       "1         esporte_lazer  \n",
       "2         esporte_lazer  \n",
       "3      malas_acessorios  \n",
       "4             papelaria  "
      ]
     },
     "execution_count": 2961,
     "metadata": {},
     "output_type": "execute_result"
    }
   ],
   "source": [
    "merged_df3 = pd.merge(merged_df3, products_df_cleaned, on='product_id', how='inner')\n",
    "merged_df3.head()"
   ]
  },
  {
   "cell_type": "markdown",
   "id": "8311cd52-be84-4af4-b4cd-4b28bddc0fab",
   "metadata": {},
   "source": [
    "### Duplicatas"
   ]
  },
  {
   "cell_type": "code",
   "execution_count": 2962,
   "id": "1f5ab7dc-3fe9-4f78-9b16-e563fc048597",
   "metadata": {},
   "outputs": [
    {
     "data": {
      "text/plain": [
       "np.int64(0)"
      ]
     },
     "execution_count": 2962,
     "metadata": {},
     "output_type": "execute_result"
    }
   ],
   "source": [
    "merged_df3.duplicated().sum()"
   ]
  },
  {
   "cell_type": "code",
   "execution_count": 2963,
   "id": "149f62f7-0764-47d5-9c0a-08d35db21789",
   "metadata": {},
   "outputs": [
    {
     "data": {
      "text/plain": [
       "seller_id                 object\n",
       "order_id                  object\n",
       "order_item_id              int64\n",
       "product_id                object\n",
       "price                    float64\n",
       "freight_value            float64\n",
       "product_category_name     object\n",
       "dtype: object"
      ]
     },
     "execution_count": 2963,
     "metadata": {},
     "output_type": "execute_result"
    }
   ],
   "source": [
    "merged_df3.dtypes"
   ]
  },
  {
   "cell_type": "markdown",
   "id": "7c1bac2c-6ef5-4a12-abe0-cbc2986a326b",
   "metadata": {},
   "source": [
    "### Criando colunas seller_name e product_name"
   ]
  },
  {
   "cell_type": "code",
   "execution_count": 2964,
   "id": "6dcfa73e-77bf-4e7b-9c68-d510c0a07e69",
   "metadata": {},
   "outputs": [],
   "source": [
    "merged_df3['seller_name'] = 'seller' + merged_df3['seller_id'].str[:4]"
   ]
  },
  {
   "cell_type": "code",
   "execution_count": 2965,
   "id": "176e1fe9-f2f9-4035-b532-e2d3459b3bc2",
   "metadata": {},
   "outputs": [],
   "source": [
    "merged_df3['product_name'] = 'product' + merged_df3['product_id'].str[:4]"
   ]
  },
  {
   "cell_type": "code",
   "execution_count": 2966,
   "id": "9fb3b036-f7bc-40d9-a0f6-048cc592bde5",
   "metadata": {},
   "outputs": [
    {
     "data": {
      "text/plain": [
       "product_name\n",
       "productaca2    532\n",
       "product4228    494\n",
       "product99a4    489\n",
       "product389d    395\n",
       "product368c    388\n",
       "              ... \n",
       "product1311      1\n",
       "product617b      1\n",
       "product00cf      1\n",
       "productc518      1\n",
       "product8723      1\n",
       "Name: count, Length: 25478, dtype: int64"
      ]
     },
     "execution_count": 2966,
     "metadata": {},
     "output_type": "execute_result"
    }
   ],
   "source": [
    "merged_df3.product_name.value_counts()"
   ]
  },
  {
   "cell_type": "markdown",
   "id": "d2f8a2c1-8883-423c-b2e1-dccc6176150d",
   "metadata": {},
   "source": [
    "### Agrupamento \n",
    "\n",
    "Agrupamento de product_id com a agregação de uma lista de sellers e o menor e maior preço"
   ]
  },
  {
   "cell_type": "code",
   "execution_count": 3068,
   "id": "bb70c76c-3a19-4afa-96d9-b0781ffc29da",
   "metadata": {},
   "outputs": [],
   "source": [
    "group_by_sellers_products = merged_df3.groupby('product_name').agg({\n",
    "    'seller_name': lambda x: list(set(x)), #remove duplicatas da lista de sellers que vendem o mesmo produto mais de uma vez\n",
    "    'price': [\n",
    "        lambda x: list(set(x)), #remove duplicatas dos preços\n",
    "        'min', \n",
    "        'max'\n",
    "    ]\n",
    "}).reset_index()"
   ]
  },
  {
   "cell_type": "code",
   "execution_count": 2968,
   "id": "13e1009d-8190-4d74-8981-1a25e7587bc2",
   "metadata": {},
   "outputs": [
    {
     "data": {
      "text/html": [
       "<div>\n",
       "<style scoped>\n",
       "    .dataframe tbody tr th:only-of-type {\n",
       "        vertical-align: middle;\n",
       "    }\n",
       "\n",
       "    .dataframe tbody tr th {\n",
       "        vertical-align: top;\n",
       "    }\n",
       "\n",
       "    .dataframe thead tr th {\n",
       "        text-align: left;\n",
       "    }\n",
       "</style>\n",
       "<table border=\"1\" class=\"dataframe\">\n",
       "  <thead>\n",
       "    <tr>\n",
       "      <th></th>\n",
       "      <th>product_name</th>\n",
       "      <th>seller_name</th>\n",
       "      <th colspan=\"3\" halign=\"left\">price</th>\n",
       "    </tr>\n",
       "    <tr>\n",
       "      <th></th>\n",
       "      <th></th>\n",
       "      <th>&lt;lambda&gt;</th>\n",
       "      <th>&lt;lambda_0&gt;</th>\n",
       "      <th>min</th>\n",
       "      <th>max</th>\n",
       "    </tr>\n",
       "  </thead>\n",
       "  <tbody>\n",
       "    <tr>\n",
       "      <th>0</th>\n",
       "      <td>product0006</td>\n",
       "      <td>[seller5670]</td>\n",
       "      <td>[101.65]</td>\n",
       "      <td>101.65</td>\n",
       "      <td>101.65</td>\n",
       "    </tr>\n",
       "    <tr>\n",
       "      <th>1</th>\n",
       "      <td>product0008</td>\n",
       "      <td>[seller7142]</td>\n",
       "      <td>[129.9]</td>\n",
       "      <td>129.90</td>\n",
       "      <td>129.90</td>\n",
       "    </tr>\n",
       "    <tr>\n",
       "      <th>2</th>\n",
       "      <td>product0009</td>\n",
       "      <td>[seller4a3c]</td>\n",
       "      <td>[229.0]</td>\n",
       "      <td>229.00</td>\n",
       "      <td>229.00</td>\n",
       "    </tr>\n",
       "    <tr>\n",
       "      <th>3</th>\n",
       "      <td>product000b</td>\n",
       "      <td>[seller40ec]</td>\n",
       "      <td>[58.9]</td>\n",
       "      <td>58.90</td>\n",
       "      <td>58.90</td>\n",
       "    </tr>\n",
       "    <tr>\n",
       "      <th>4</th>\n",
       "      <td>product000d</td>\n",
       "      <td>[seller8ae5]</td>\n",
       "      <td>[199.0]</td>\n",
       "      <td>199.00</td>\n",
       "      <td>199.00</td>\n",
       "    </tr>\n",
       "    <tr>\n",
       "      <th>5</th>\n",
       "      <td>product0011</td>\n",
       "      <td>[sellerb4ff]</td>\n",
       "      <td>[52.0]</td>\n",
       "      <td>52.00</td>\n",
       "      <td>52.00</td>\n",
       "    </tr>\n",
       "    <tr>\n",
       "      <th>6</th>\n",
       "      <td>product0012</td>\n",
       "      <td>[sellercd68]</td>\n",
       "      <td>[249.0]</td>\n",
       "      <td>249.00</td>\n",
       "      <td>249.00</td>\n",
       "    </tr>\n",
       "    <tr>\n",
       "      <th>7</th>\n",
       "      <td>product0017</td>\n",
       "      <td>[seller8b32]</td>\n",
       "      <td>[38.9]</td>\n",
       "      <td>38.90</td>\n",
       "      <td>38.90</td>\n",
       "    </tr>\n",
       "    <tr>\n",
       "      <th>8</th>\n",
       "      <td>product001b</td>\n",
       "      <td>[seller8a32, sellerd237]</td>\n",
       "      <td>[34.99, 78.9]</td>\n",
       "      <td>34.99</td>\n",
       "      <td>78.90</td>\n",
       "    </tr>\n",
       "    <tr>\n",
       "      <th>9</th>\n",
       "      <td>product001c</td>\n",
       "      <td>[seller41b3]</td>\n",
       "      <td>[79.9]</td>\n",
       "      <td>79.90</td>\n",
       "      <td>79.90</td>\n",
       "    </tr>\n",
       "  </tbody>\n",
       "</table>\n",
       "</div>"
      ],
      "text/plain": [
       "  product_name               seller_name          price                \n",
       "                                <lambda>     <lambda_0>     min     max\n",
       "0  product0006              [seller5670]       [101.65]  101.65  101.65\n",
       "1  product0008              [seller7142]        [129.9]  129.90  129.90\n",
       "2  product0009              [seller4a3c]        [229.0]  229.00  229.00\n",
       "3  product000b              [seller40ec]         [58.9]   58.90   58.90\n",
       "4  product000d              [seller8ae5]        [199.0]  199.00  199.00\n",
       "5  product0011              [sellerb4ff]         [52.0]   52.00   52.00\n",
       "6  product0012              [sellercd68]        [249.0]  249.00  249.00\n",
       "7  product0017              [seller8b32]         [38.9]   38.90   38.90\n",
       "8  product001b  [seller8a32, sellerd237]  [34.99, 78.9]   34.99   78.90\n",
       "9  product001c              [seller41b3]         [79.9]   79.90   79.90"
      ]
     },
     "execution_count": 2968,
     "metadata": {},
     "output_type": "execute_result"
    }
   ],
   "source": [
    "group_by_sellers_products.head(10)"
   ]
  },
  {
   "cell_type": "markdown",
   "id": "7c1fdfc1-f3ce-4281-a654-46b8d7fb859a",
   "metadata": {},
   "source": [
    "**Renomeando as colunas**"
   ]
  },
  {
   "cell_type": "code",
   "execution_count": 2969,
   "id": "39793d97-57a1-4d85-8ef9-31a896c9c54d",
   "metadata": {},
   "outputs": [
    {
     "data": {
      "text/plain": [
       "product_name                 object\n",
       "seller_name   <lambda>       object\n",
       "price         <lambda_0>     object\n",
       "              min           float64\n",
       "              max           float64\n",
       "dtype: object"
      ]
     },
     "execution_count": 2969,
     "metadata": {},
     "output_type": "execute_result"
    }
   ],
   "source": [
    "group_by_sellers_products.dtypes"
   ]
  },
  {
   "cell_type": "code",
   "execution_count": 2970,
   "id": "6f21c730-2d12-43e7-b589-f3e77bb2574a",
   "metadata": {},
   "outputs": [
    {
     "data": {
      "text/plain": [
       "product_name     object\n",
       "seller_name      object\n",
       "prices           object\n",
       "min_price       float64\n",
       "max_price       float64\n",
       "dtype: object"
      ]
     },
     "execution_count": 2970,
     "metadata": {},
     "output_type": "execute_result"
    }
   ],
   "source": [
    "group_by_sellers_products.columns = ['product_name', 'seller_name', 'prices', 'min_price', 'max_price']\n",
    "group_by_sellers_products.dtypes"
   ]
  },
  {
   "cell_type": "markdown",
   "id": "44b69b9c-b1ef-444b-87f3-a3a4aa57a62f",
   "metadata": {},
   "source": [
    "**Calculando a variação dos preços**"
   ]
  },
  {
   "cell_type": "code",
   "execution_count": 2971,
   "id": "a07728d8-4f25-485f-b4fb-11c35e210bb3",
   "metadata": {},
   "outputs": [
    {
     "data": {
      "text/html": [
       "<div>\n",
       "<style scoped>\n",
       "    .dataframe tbody tr th:only-of-type {\n",
       "        vertical-align: middle;\n",
       "    }\n",
       "\n",
       "    .dataframe tbody tr th {\n",
       "        vertical-align: top;\n",
       "    }\n",
       "\n",
       "    .dataframe thead th {\n",
       "        text-align: right;\n",
       "    }\n",
       "</style>\n",
       "<table border=\"1\" class=\"dataframe\">\n",
       "  <thead>\n",
       "    <tr style=\"text-align: right;\">\n",
       "      <th></th>\n",
       "      <th>product_name</th>\n",
       "      <th>seller_name</th>\n",
       "      <th>prices</th>\n",
       "      <th>min_price</th>\n",
       "      <th>max_price</th>\n",
       "      <th>price_variation</th>\n",
       "    </tr>\n",
       "  </thead>\n",
       "  <tbody>\n",
       "    <tr>\n",
       "      <th>0</th>\n",
       "      <td>product0006</td>\n",
       "      <td>[seller5670]</td>\n",
       "      <td>[101.65]</td>\n",
       "      <td>101.65</td>\n",
       "      <td>101.65</td>\n",
       "      <td>0.0</td>\n",
       "    </tr>\n",
       "    <tr>\n",
       "      <th>1</th>\n",
       "      <td>product0008</td>\n",
       "      <td>[seller7142]</td>\n",
       "      <td>[129.9]</td>\n",
       "      <td>129.90</td>\n",
       "      <td>129.90</td>\n",
       "      <td>0.0</td>\n",
       "    </tr>\n",
       "    <tr>\n",
       "      <th>2</th>\n",
       "      <td>product0009</td>\n",
       "      <td>[seller4a3c]</td>\n",
       "      <td>[229.0]</td>\n",
       "      <td>229.00</td>\n",
       "      <td>229.00</td>\n",
       "      <td>0.0</td>\n",
       "    </tr>\n",
       "    <tr>\n",
       "      <th>3</th>\n",
       "      <td>product000b</td>\n",
       "      <td>[seller40ec]</td>\n",
       "      <td>[58.9]</td>\n",
       "      <td>58.90</td>\n",
       "      <td>58.90</td>\n",
       "      <td>0.0</td>\n",
       "    </tr>\n",
       "    <tr>\n",
       "      <th>4</th>\n",
       "      <td>product000d</td>\n",
       "      <td>[seller8ae5]</td>\n",
       "      <td>[199.0]</td>\n",
       "      <td>199.00</td>\n",
       "      <td>199.00</td>\n",
       "      <td>0.0</td>\n",
       "    </tr>\n",
       "    <tr>\n",
       "      <th>...</th>\n",
       "      <td>...</td>\n",
       "      <td>...</td>\n",
       "      <td>...</td>\n",
       "      <td>...</td>\n",
       "      <td>...</td>\n",
       "      <td>...</td>\n",
       "    </tr>\n",
       "    <tr>\n",
       "      <th>25473</th>\n",
       "      <td>productfff6</td>\n",
       "      <td>[seller7a67]</td>\n",
       "      <td>[109.99, 119.99]</td>\n",
       "      <td>109.99</td>\n",
       "      <td>119.99</td>\n",
       "      <td>10.0</td>\n",
       "    </tr>\n",
       "    <tr>\n",
       "      <th>25474</th>\n",
       "      <td>productfff8</td>\n",
       "      <td>[seller7783]</td>\n",
       "      <td>[90.0]</td>\n",
       "      <td>90.00</td>\n",
       "      <td>90.00</td>\n",
       "      <td>0.0</td>\n",
       "    </tr>\n",
       "    <tr>\n",
       "      <th>25475</th>\n",
       "      <td>productfff9</td>\n",
       "      <td>[seller6432]</td>\n",
       "      <td>[32.0]</td>\n",
       "      <td>32.00</td>\n",
       "      <td>32.00</td>\n",
       "      <td>0.0</td>\n",
       "    </tr>\n",
       "    <tr>\n",
       "      <th>25476</th>\n",
       "      <td>productfffd</td>\n",
       "      <td>[seller9f50]</td>\n",
       "      <td>[34.99, 29.99]</td>\n",
       "      <td>29.99</td>\n",
       "      <td>34.99</td>\n",
       "      <td>5.0</td>\n",
       "    </tr>\n",
       "    <tr>\n",
       "      <th>25477</th>\n",
       "      <td>productfffe</td>\n",
       "      <td>[seller7299]</td>\n",
       "      <td>[249.99]</td>\n",
       "      <td>249.99</td>\n",
       "      <td>249.99</td>\n",
       "      <td>0.0</td>\n",
       "    </tr>\n",
       "  </tbody>\n",
       "</table>\n",
       "<p>25478 rows × 6 columns</p>\n",
       "</div>"
      ],
      "text/plain": [
       "      product_name   seller_name            prices  min_price  max_price  \\\n",
       "0      product0006  [seller5670]          [101.65]     101.65     101.65   \n",
       "1      product0008  [seller7142]           [129.9]     129.90     129.90   \n",
       "2      product0009  [seller4a3c]           [229.0]     229.00     229.00   \n",
       "3      product000b  [seller40ec]            [58.9]      58.90      58.90   \n",
       "4      product000d  [seller8ae5]           [199.0]     199.00     199.00   \n",
       "...            ...           ...               ...        ...        ...   \n",
       "25473  productfff6  [seller7a67]  [109.99, 119.99]     109.99     119.99   \n",
       "25474  productfff8  [seller7783]            [90.0]      90.00      90.00   \n",
       "25475  productfff9  [seller6432]            [32.0]      32.00      32.00   \n",
       "25476  productfffd  [seller9f50]    [34.99, 29.99]      29.99      34.99   \n",
       "25477  productfffe  [seller7299]          [249.99]     249.99     249.99   \n",
       "\n",
       "       price_variation  \n",
       "0                  0.0  \n",
       "1                  0.0  \n",
       "2                  0.0  \n",
       "3                  0.0  \n",
       "4                  0.0  \n",
       "...                ...  \n",
       "25473             10.0  \n",
       "25474              0.0  \n",
       "25475              0.0  \n",
       "25476              5.0  \n",
       "25477              0.0  \n",
       "\n",
       "[25478 rows x 6 columns]"
      ]
     },
     "execution_count": 2971,
     "metadata": {},
     "output_type": "execute_result"
    }
   ],
   "source": [
    "group_by_sellers_products['price_variation'] = group_by_sellers_products['max_price'] - group_by_sellers_products['min_price']\n",
    "group_by_sellers_products"
   ]
  },
  {
   "cell_type": "markdown",
   "id": "584f3307-63b1-4ec0-a2a2-81a75f2473c2",
   "metadata": {},
   "source": [
    "**Limpando o dataset para exibir apenas os produtos com mais de um seller**\n",
    "\n",
    "Isso pois, para um produto com um úncio seller, ainda pode haver variação de preço"
   ]
  },
  {
   "cell_type": "code",
   "execution_count": 2972,
   "id": "285962dc-845b-4b95-b77f-d534c4fc267b",
   "metadata": {},
   "outputs": [],
   "source": [
    "sellers_same_products = group_by_sellers_products.loc[group_by_sellers_products['seller_name'].apply(len) > 1]"
   ]
  },
  {
   "cell_type": "code",
   "execution_count": 2973,
   "id": "a2cd1bdb-d1aa-4c0c-b152-b1efc7323f8c",
   "metadata": {},
   "outputs": [
    {
     "data": {
      "text/html": [
       "<div>\n",
       "<style scoped>\n",
       "    .dataframe tbody tr th:only-of-type {\n",
       "        vertical-align: middle;\n",
       "    }\n",
       "\n",
       "    .dataframe tbody tr th {\n",
       "        vertical-align: top;\n",
       "    }\n",
       "\n",
       "    .dataframe thead th {\n",
       "        text-align: right;\n",
       "    }\n",
       "</style>\n",
       "<table border=\"1\" class=\"dataframe\">\n",
       "  <thead>\n",
       "    <tr style=\"text-align: right;\">\n",
       "      <th></th>\n",
       "      <th>product_name</th>\n",
       "      <th>seller_name</th>\n",
       "      <th>prices</th>\n",
       "      <th>min_price</th>\n",
       "      <th>max_price</th>\n",
       "      <th>price_variation</th>\n",
       "    </tr>\n",
       "  </thead>\n",
       "  <tbody>\n",
       "    <tr>\n",
       "      <th>0</th>\n",
       "      <td>product001b</td>\n",
       "      <td>[seller8a32, sellerd237]</td>\n",
       "      <td>[34.99, 78.9]</td>\n",
       "      <td>34.99</td>\n",
       "      <td>78.90</td>\n",
       "      <td>43.91</td>\n",
       "    </tr>\n",
       "    <tr>\n",
       "      <th>1</th>\n",
       "      <td>product0021</td>\n",
       "      <td>[seller0806, seller048c, sellere977]</td>\n",
       "      <td>[32.98, 33.99, 199.7, 220.7, 29.0]</td>\n",
       "      <td>29.00</td>\n",
       "      <td>220.70</td>\n",
       "      <td>191.70</td>\n",
       "    </tr>\n",
       "    <tr>\n",
       "      <th>2</th>\n",
       "      <td>product0025</td>\n",
       "      <td>[sellera5cb, sellerb499]</td>\n",
       "      <td>[108.0, 54.99, 79.99]</td>\n",
       "      <td>54.99</td>\n",
       "      <td>108.00</td>\n",
       "      <td>53.01</td>\n",
       "    </tr>\n",
       "    <tr>\n",
       "      <th>3</th>\n",
       "      <td>product0030</td>\n",
       "      <td>[seller0be8, selleracad]</td>\n",
       "      <td>[153.0, 39.9]</td>\n",
       "      <td>39.90</td>\n",
       "      <td>153.00</td>\n",
       "      <td>113.10</td>\n",
       "    </tr>\n",
       "    <tr>\n",
       "      <th>4</th>\n",
       "      <td>product0039</td>\n",
       "      <td>[sellerdbc2, seller1554]</td>\n",
       "      <td>[179.9, 94.9]</td>\n",
       "      <td>94.90</td>\n",
       "      <td>179.90</td>\n",
       "      <td>85.00</td>\n",
       "    </tr>\n",
       "    <tr>\n",
       "      <th>...</th>\n",
       "      <td>...</td>\n",
       "      <td>...</td>\n",
       "      <td>...</td>\n",
       "      <td>...</td>\n",
       "      <td>...</td>\n",
       "      <td>...</td>\n",
       "    </tr>\n",
       "    <tr>\n",
       "      <th>6587</th>\n",
       "      <td>productffc9</td>\n",
       "      <td>[sellerd06d, seller9b00, sellerb18d]</td>\n",
       "      <td>[224.0, 36.0, 199.89, 40.0, 219.89]</td>\n",
       "      <td>36.00</td>\n",
       "      <td>224.00</td>\n",
       "      <td>188.00</td>\n",
       "    </tr>\n",
       "    <tr>\n",
       "      <th>6588</th>\n",
       "      <td>productffd2</td>\n",
       "      <td>[seller8648, seller4305, seller2bf6, seller606...</td>\n",
       "      <td>[199.0, 73.9, 938.9, 948.0, 948.9]</td>\n",
       "      <td>73.90</td>\n",
       "      <td>948.90</td>\n",
       "      <td>875.00</td>\n",
       "    </tr>\n",
       "    <tr>\n",
       "      <th>6589</th>\n",
       "      <td>productffd3</td>\n",
       "      <td>[seller11bf, sellera416]</td>\n",
       "      <td>[48.85, 52.99]</td>\n",
       "      <td>48.85</td>\n",
       "      <td>52.99</td>\n",
       "      <td>4.14</td>\n",
       "    </tr>\n",
       "    <tr>\n",
       "      <th>6590</th>\n",
       "      <td>productffd6</td>\n",
       "      <td>[seller55bb, seller578f]</td>\n",
       "      <td>[77.0, 30.0]</td>\n",
       "      <td>30.00</td>\n",
       "      <td>77.00</td>\n",
       "      <td>47.00</td>\n",
       "    </tr>\n",
       "    <tr>\n",
       "      <th>6591</th>\n",
       "      <td>productffe0</td>\n",
       "      <td>[sellerba6c, sellerc68f]</td>\n",
       "      <td>[56.25, 169.0, 54.75]</td>\n",
       "      <td>54.75</td>\n",
       "      <td>169.00</td>\n",
       "      <td>114.25</td>\n",
       "    </tr>\n",
       "  </tbody>\n",
       "</table>\n",
       "<p>6592 rows × 6 columns</p>\n",
       "</div>"
      ],
      "text/plain": [
       "     product_name                                        seller_name  \\\n",
       "0     product001b                           [seller8a32, sellerd237]   \n",
       "1     product0021               [seller0806, seller048c, sellere977]   \n",
       "2     product0025                           [sellera5cb, sellerb499]   \n",
       "3     product0030                           [seller0be8, selleracad]   \n",
       "4     product0039                           [sellerdbc2, seller1554]   \n",
       "...           ...                                                ...   \n",
       "6587  productffc9               [sellerd06d, seller9b00, sellerb18d]   \n",
       "6588  productffd2  [seller8648, seller4305, seller2bf6, seller606...   \n",
       "6589  productffd3                           [seller11bf, sellera416]   \n",
       "6590  productffd6                           [seller55bb, seller578f]   \n",
       "6591  productffe0                           [sellerba6c, sellerc68f]   \n",
       "\n",
       "                                   prices  min_price  max_price  \\\n",
       "0                           [34.99, 78.9]      34.99      78.90   \n",
       "1      [32.98, 33.99, 199.7, 220.7, 29.0]      29.00     220.70   \n",
       "2                   [108.0, 54.99, 79.99]      54.99     108.00   \n",
       "3                           [153.0, 39.9]      39.90     153.00   \n",
       "4                           [179.9, 94.9]      94.90     179.90   \n",
       "...                                   ...        ...        ...   \n",
       "6587  [224.0, 36.0, 199.89, 40.0, 219.89]      36.00     224.00   \n",
       "6588   [199.0, 73.9, 938.9, 948.0, 948.9]      73.90     948.90   \n",
       "6589                       [48.85, 52.99]      48.85      52.99   \n",
       "6590                         [77.0, 30.0]      30.00      77.00   \n",
       "6591                [56.25, 169.0, 54.75]      54.75     169.00   \n",
       "\n",
       "      price_variation  \n",
       "0               43.91  \n",
       "1              191.70  \n",
       "2               53.01  \n",
       "3              113.10  \n",
       "4               85.00  \n",
       "...               ...  \n",
       "6587           188.00  \n",
       "6588           875.00  \n",
       "6589             4.14  \n",
       "6590            47.00  \n",
       "6591           114.25  \n",
       "\n",
       "[6592 rows x 6 columns]"
      ]
     },
     "execution_count": 2973,
     "metadata": {},
     "output_type": "execute_result"
    }
   ],
   "source": [
    "sellers_same_products.reset_index(drop=True)"
   ]
  },
  {
   "cell_type": "markdown",
   "id": "63d0f576-c1c2-4d29-aff7-3ef379afd1db",
   "metadata": {},
   "source": [
    "**Na minha análise, fez mais sentido saber os produtos que mais possuem sellers que o vendem, por isso criei uma coluna com a contagem dos sellers que vendem cada produto**"
   ]
  },
  {
   "cell_type": "code",
   "execution_count": 2974,
   "id": "6ca6b14d-7ec6-4006-8370-ff8ae4fdec02",
   "metadata": {},
   "outputs": [],
   "source": [
    "sellers_same_products = sellers_same_products.copy()\n",
    "sellers_same_products['sellers_count'] = sellers_same_products['seller_name'].apply(len)"
   ]
  },
  {
   "cell_type": "code",
   "execution_count": 2975,
   "id": "d40e614f-e731-4185-9c4c-8b22f80aa180",
   "metadata": {},
   "outputs": [
    {
     "data": {
      "text/html": [
       "<div>\n",
       "<style scoped>\n",
       "    .dataframe tbody tr th:only-of-type {\n",
       "        vertical-align: middle;\n",
       "    }\n",
       "\n",
       "    .dataframe tbody tr th {\n",
       "        vertical-align: top;\n",
       "    }\n",
       "\n",
       "    .dataframe thead th {\n",
       "        text-align: right;\n",
       "    }\n",
       "</style>\n",
       "<table border=\"1\" class=\"dataframe\">\n",
       "  <thead>\n",
       "    <tr style=\"text-align: right;\">\n",
       "      <th></th>\n",
       "      <th>product_name</th>\n",
       "      <th>seller_name</th>\n",
       "      <th>prices</th>\n",
       "      <th>min_price</th>\n",
       "      <th>max_price</th>\n",
       "      <th>price_variation</th>\n",
       "      <th>sellers_count</th>\n",
       "    </tr>\n",
       "  </thead>\n",
       "  <tbody>\n",
       "    <tr>\n",
       "      <th>0</th>\n",
       "      <td>product001b</td>\n",
       "      <td>[seller8a32, sellerd237]</td>\n",
       "      <td>[34.99, 78.9]</td>\n",
       "      <td>34.99</td>\n",
       "      <td>78.90</td>\n",
       "      <td>43.91</td>\n",
       "      <td>2</td>\n",
       "    </tr>\n",
       "    <tr>\n",
       "      <th>1</th>\n",
       "      <td>product0021</td>\n",
       "      <td>[seller0806, seller048c, sellere977]</td>\n",
       "      <td>[32.98, 33.99, 199.7, 220.7, 29.0]</td>\n",
       "      <td>29.00</td>\n",
       "      <td>220.70</td>\n",
       "      <td>191.70</td>\n",
       "      <td>3</td>\n",
       "    </tr>\n",
       "    <tr>\n",
       "      <th>2</th>\n",
       "      <td>product0025</td>\n",
       "      <td>[sellera5cb, sellerb499]</td>\n",
       "      <td>[108.0, 54.99, 79.99]</td>\n",
       "      <td>54.99</td>\n",
       "      <td>108.00</td>\n",
       "      <td>53.01</td>\n",
       "      <td>2</td>\n",
       "    </tr>\n",
       "    <tr>\n",
       "      <th>3</th>\n",
       "      <td>product0030</td>\n",
       "      <td>[seller0be8, selleracad]</td>\n",
       "      <td>[153.0, 39.9]</td>\n",
       "      <td>39.90</td>\n",
       "      <td>153.00</td>\n",
       "      <td>113.10</td>\n",
       "      <td>2</td>\n",
       "    </tr>\n",
       "    <tr>\n",
       "      <th>4</th>\n",
       "      <td>product0039</td>\n",
       "      <td>[sellerdbc2, seller1554]</td>\n",
       "      <td>[179.9, 94.9]</td>\n",
       "      <td>94.90</td>\n",
       "      <td>179.90</td>\n",
       "      <td>85.00</td>\n",
       "      <td>2</td>\n",
       "    </tr>\n",
       "    <tr>\n",
       "      <th>...</th>\n",
       "      <td>...</td>\n",
       "      <td>...</td>\n",
       "      <td>...</td>\n",
       "      <td>...</td>\n",
       "      <td>...</td>\n",
       "      <td>...</td>\n",
       "      <td>...</td>\n",
       "    </tr>\n",
       "    <tr>\n",
       "      <th>6587</th>\n",
       "      <td>productffc9</td>\n",
       "      <td>[sellerd06d, seller9b00, sellerb18d]</td>\n",
       "      <td>[224.0, 36.0, 199.89, 40.0, 219.89]</td>\n",
       "      <td>36.00</td>\n",
       "      <td>224.00</td>\n",
       "      <td>188.00</td>\n",
       "      <td>3</td>\n",
       "    </tr>\n",
       "    <tr>\n",
       "      <th>6588</th>\n",
       "      <td>productffd2</td>\n",
       "      <td>[seller8648, seller4305, seller2bf6, seller606...</td>\n",
       "      <td>[199.0, 73.9, 938.9, 948.0, 948.9]</td>\n",
       "      <td>73.90</td>\n",
       "      <td>948.90</td>\n",
       "      <td>875.00</td>\n",
       "      <td>5</td>\n",
       "    </tr>\n",
       "    <tr>\n",
       "      <th>6589</th>\n",
       "      <td>productffd3</td>\n",
       "      <td>[seller11bf, sellera416]</td>\n",
       "      <td>[48.85, 52.99]</td>\n",
       "      <td>48.85</td>\n",
       "      <td>52.99</td>\n",
       "      <td>4.14</td>\n",
       "      <td>2</td>\n",
       "    </tr>\n",
       "    <tr>\n",
       "      <th>6590</th>\n",
       "      <td>productffd6</td>\n",
       "      <td>[seller55bb, seller578f]</td>\n",
       "      <td>[77.0, 30.0]</td>\n",
       "      <td>30.00</td>\n",
       "      <td>77.00</td>\n",
       "      <td>47.00</td>\n",
       "      <td>2</td>\n",
       "    </tr>\n",
       "    <tr>\n",
       "      <th>6591</th>\n",
       "      <td>productffe0</td>\n",
       "      <td>[sellerba6c, sellerc68f]</td>\n",
       "      <td>[56.25, 169.0, 54.75]</td>\n",
       "      <td>54.75</td>\n",
       "      <td>169.00</td>\n",
       "      <td>114.25</td>\n",
       "      <td>2</td>\n",
       "    </tr>\n",
       "  </tbody>\n",
       "</table>\n",
       "<p>6592 rows × 7 columns</p>\n",
       "</div>"
      ],
      "text/plain": [
       "     product_name                                        seller_name  \\\n",
       "0     product001b                           [seller8a32, sellerd237]   \n",
       "1     product0021               [seller0806, seller048c, sellere977]   \n",
       "2     product0025                           [sellera5cb, sellerb499]   \n",
       "3     product0030                           [seller0be8, selleracad]   \n",
       "4     product0039                           [sellerdbc2, seller1554]   \n",
       "...           ...                                                ...   \n",
       "6587  productffc9               [sellerd06d, seller9b00, sellerb18d]   \n",
       "6588  productffd2  [seller8648, seller4305, seller2bf6, seller606...   \n",
       "6589  productffd3                           [seller11bf, sellera416]   \n",
       "6590  productffd6                           [seller55bb, seller578f]   \n",
       "6591  productffe0                           [sellerba6c, sellerc68f]   \n",
       "\n",
       "                                   prices  min_price  max_price  \\\n",
       "0                           [34.99, 78.9]      34.99      78.90   \n",
       "1      [32.98, 33.99, 199.7, 220.7, 29.0]      29.00     220.70   \n",
       "2                   [108.0, 54.99, 79.99]      54.99     108.00   \n",
       "3                           [153.0, 39.9]      39.90     153.00   \n",
       "4                           [179.9, 94.9]      94.90     179.90   \n",
       "...                                   ...        ...        ...   \n",
       "6587  [224.0, 36.0, 199.89, 40.0, 219.89]      36.00     224.00   \n",
       "6588   [199.0, 73.9, 938.9, 948.0, 948.9]      73.90     948.90   \n",
       "6589                       [48.85, 52.99]      48.85      52.99   \n",
       "6590                         [77.0, 30.0]      30.00      77.00   \n",
       "6591                [56.25, 169.0, 54.75]      54.75     169.00   \n",
       "\n",
       "      price_variation  sellers_count  \n",
       "0               43.91              2  \n",
       "1              191.70              3  \n",
       "2               53.01              2  \n",
       "3              113.10              2  \n",
       "4               85.00              2  \n",
       "...               ...            ...  \n",
       "6587           188.00              3  \n",
       "6588           875.00              5  \n",
       "6589             4.14              2  \n",
       "6590            47.00              2  \n",
       "6591           114.25              2  \n",
       "\n",
       "[6592 rows x 7 columns]"
      ]
     },
     "execution_count": 2975,
     "metadata": {},
     "output_type": "execute_result"
    }
   ],
   "source": [
    "sellers_same_products.reset_index(drop=True)"
   ]
  },
  {
   "cell_type": "markdown",
   "id": "c293fcc9-5f18-4008-95cb-67eaf8c6a54b",
   "metadata": {},
   "source": [
    "Ordenando pela contagem dos selleres"
   ]
  },
  {
   "cell_type": "code",
   "execution_count": 2976,
   "id": "ef8c55be-4f2c-44e8-b25b-ce2d5665bdcd",
   "metadata": {},
   "outputs": [],
   "source": [
    "top_10_sellers_sharing_products = sellers_same_products.sort_values(by='sellers_count', ascending=False).head(10)"
   ]
  },
  {
   "cell_type": "code",
   "execution_count": 2977,
   "id": "3ea34115-67f9-4824-8ea8-b8c4a9c55f9a",
   "metadata": {},
   "outputs": [
    {
     "data": {
      "text/html": [
       "<div>\n",
       "<style scoped>\n",
       "    .dataframe tbody tr th:only-of-type {\n",
       "        vertical-align: middle;\n",
       "    }\n",
       "\n",
       "    .dataframe tbody tr th {\n",
       "        vertical-align: top;\n",
       "    }\n",
       "\n",
       "    .dataframe thead th {\n",
       "        text-align: right;\n",
       "    }\n",
       "</style>\n",
       "<table border=\"1\" class=\"dataframe\">\n",
       "  <thead>\n",
       "    <tr style=\"text-align: right;\">\n",
       "      <th></th>\n",
       "      <th>product_name</th>\n",
       "      <th>seller_name</th>\n",
       "      <th>prices</th>\n",
       "      <th>min_price</th>\n",
       "      <th>max_price</th>\n",
       "      <th>price_variation</th>\n",
       "      <th>sellers_count</th>\n",
       "    </tr>\n",
       "  </thead>\n",
       "  <tbody>\n",
       "    <tr>\n",
       "      <th>10158</th>\n",
       "      <td>product656e</td>\n",
       "      <td>[seller00fc, seller8e6d, sellere9bc, seller9c0...</td>\n",
       "      <td>[65.9, 65.0, 72.99, 73.0, 79.9, 81.0, 82.8, 84...</td>\n",
       "      <td>65.0</td>\n",
       "      <td>110.32</td>\n",
       "      <td>45.32</td>\n",
       "      <td>8</td>\n",
       "    </tr>\n",
       "    <tr>\n",
       "      <th>6732</th>\n",
       "      <td>product4298</td>\n",
       "      <td>[seller8e6d, sellere9bc, seller3bb5, seller9c0...</td>\n",
       "      <td>[129.9, 134.9, 138.9, 139.8, 139.9, 147.9, 149...</td>\n",
       "      <td>119.0</td>\n",
       "      <td>179.90</td>\n",
       "      <td>60.90</td>\n",
       "      <td>7</td>\n",
       "    </tr>\n",
       "    <tr>\n",
       "      <th>13575</th>\n",
       "      <td>product87c9</td>\n",
       "      <td>[seller9b01, sellere977, sellerc3cf, seller6b3...</td>\n",
       "      <td>[21.9, 85.9, 23.49, 24.0, 25.49, 94.9]</td>\n",
       "      <td>21.9</td>\n",
       "      <td>94.90</td>\n",
       "      <td>73.00</td>\n",
       "      <td>6</td>\n",
       "    </tr>\n",
       "    <tr>\n",
       "      <th>5552</th>\n",
       "      <td>product36f6</td>\n",
       "      <td>[seller229c, seller00fc, seller8e6d, sellerf45...</td>\n",
       "      <td>[89.9, 129.9, 89.15, 67.9, 89.49, 167.0, 109.8...</td>\n",
       "      <td>67.9</td>\n",
       "      <td>167.00</td>\n",
       "      <td>99.10</td>\n",
       "      <td>7</td>\n",
       "    </tr>\n",
       "    <tr>\n",
       "      <th>12603</th>\n",
       "      <td>product7d88</td>\n",
       "      <td>[seller30a2, sellerdd55, seller8648, seller8ff...</td>\n",
       "      <td>[100.0, 38.4, 49.9, 63.9, 223.99]</td>\n",
       "      <td>38.4</td>\n",
       "      <td>223.99</td>\n",
       "      <td>185.59</td>\n",
       "      <td>6</td>\n",
       "    </tr>\n",
       "  </tbody>\n",
       "</table>\n",
       "</div>"
      ],
      "text/plain": [
       "      product_name                                        seller_name  \\\n",
       "10158  product656e  [seller00fc, seller8e6d, sellere9bc, seller9c0...   \n",
       "6732   product4298  [seller8e6d, sellere9bc, seller3bb5, seller9c0...   \n",
       "13575  product87c9  [seller9b01, sellere977, sellerc3cf, seller6b3...   \n",
       "5552   product36f6  [seller229c, seller00fc, seller8e6d, sellerf45...   \n",
       "12603  product7d88  [seller30a2, sellerdd55, seller8648, seller8ff...   \n",
       "\n",
       "                                                  prices  min_price  \\\n",
       "10158  [65.9, 65.0, 72.99, 73.0, 79.9, 81.0, 82.8, 84...       65.0   \n",
       "6732   [129.9, 134.9, 138.9, 139.8, 139.9, 147.9, 149...      119.0   \n",
       "13575             [21.9, 85.9, 23.49, 24.0, 25.49, 94.9]       21.9   \n",
       "5552   [89.9, 129.9, 89.15, 67.9, 89.49, 167.0, 109.8...       67.9   \n",
       "12603                  [100.0, 38.4, 49.9, 63.9, 223.99]       38.4   \n",
       "\n",
       "       max_price  price_variation  sellers_count  \n",
       "10158     110.32            45.32              8  \n",
       "6732      179.90            60.90              7  \n",
       "13575      94.90            73.00              6  \n",
       "5552      167.00            99.10              7  \n",
       "12603     223.99           185.59              6  "
      ]
     },
     "execution_count": 2977,
     "metadata": {},
     "output_type": "execute_result"
    }
   ],
   "source": [
    "top_10_sellers_sharing_products = top_10_sellers_sharing_products.sort_values(by='price_variation', ascending=True)\n",
    "top_10_sellers_sharing_products.head()"
   ]
  },
  {
   "cell_type": "markdown",
   "id": "7922ea30-312e-40ae-8162-47552c138a0e",
   "metadata": {},
   "source": [
    "### Visualização através do barplot"
   ]
  },
  {
   "cell_type": "code",
   "execution_count": 2978,
   "id": "d3bb476f-0153-4f1b-9438-bc841e4400eb",
   "metadata": {},
   "outputs": [
    {
     "data": {
      "image/png": "[encoded data removed]",
      "text/plain": [
       "<Figure size 1000x600 with 1 Axes>"
      ]
     },
     "metadata": {},
     "output_type": "display_data"
    }
   ],
   "source": [
    "plt.figure(figsize=(10,6))\n",
    "sns.barplot(data=top_10_sellers_sharing_products, x='product_name', y='price_variation', hue='price_variation', palette=\"ch:s=.25,rot=-.25\")\n",
    "\n",
    "plt.title('Produtos com maior quantidade de sellers e sua variação de preços', fontsize=16)\n",
    "plt.xlabel('Nome do produto', fontsize=12)\n",
    "plt.xticks(rotation=45)\n",
    "plt.ylabel('Variação de preço', fontsize=12)\n",
    "plt.tight_layout()\n",
    "\n",
    "plt.show()"
   ]
  },
  {
   "cell_type": "code",
   "execution_count": 2979,
   "id": "a8db4e6d-bc34-4af0-8fb4-20a7197e85a1",
   "metadata": {},
   "outputs": [],
   "source": [
    "top_5_sellers_sharing_products = sellers_same_products.sort_values(by='sellers_count', ascending=False).head(5)"
   ]
  },
  {
   "cell_type": "markdown",
   "id": "2d7ed307-f75d-4a75-a4cc-e9da13bcf079",
   "metadata": {},
   "source": [
    "**Desempacotando a coluna de preços, para que cada valor tenha sua prórpia linha**"
   ]
  },
  {
   "cell_type": "code",
   "execution_count": 2980,
   "id": "d79b37c7-703f-4faa-956d-d33688a13781",
   "metadata": {},
   "outputs": [
    {
     "data": {
      "text/html": [
       "<div>\n",
       "<style scoped>\n",
       "    .dataframe tbody tr th:only-of-type {\n",
       "        vertical-align: middle;\n",
       "    }\n",
       "\n",
       "    .dataframe tbody tr th {\n",
       "        vertical-align: top;\n",
       "    }\n",
       "\n",
       "    .dataframe thead th {\n",
       "        text-align: right;\n",
       "    }\n",
       "</style>\n",
       "<table border=\"1\" class=\"dataframe\">\n",
       "  <thead>\n",
       "    <tr style=\"text-align: right;\">\n",
       "      <th></th>\n",
       "      <th>product_name</th>\n",
       "      <th>seller_name</th>\n",
       "      <th>prices</th>\n",
       "      <th>min_price</th>\n",
       "      <th>max_price</th>\n",
       "      <th>price_variation</th>\n",
       "      <th>sellers_count</th>\n",
       "    </tr>\n",
       "  </thead>\n",
       "  <tbody>\n",
       "    <tr>\n",
       "      <th>10158</th>\n",
       "      <td>product656e</td>\n",
       "      <td>[seller00fc, seller8e6d, sellere9bc, seller9c0...</td>\n",
       "      <td>65.9</td>\n",
       "      <td>65.0</td>\n",
       "      <td>110.32</td>\n",
       "      <td>45.32</td>\n",
       "      <td>8</td>\n",
       "    </tr>\n",
       "    <tr>\n",
       "      <th>10158</th>\n",
       "      <td>product656e</td>\n",
       "      <td>[seller00fc, seller8e6d, sellere9bc, seller9c0...</td>\n",
       "      <td>65.0</td>\n",
       "      <td>65.0</td>\n",
       "      <td>110.32</td>\n",
       "      <td>45.32</td>\n",
       "      <td>8</td>\n",
       "    </tr>\n",
       "    <tr>\n",
       "      <th>10158</th>\n",
       "      <td>product656e</td>\n",
       "      <td>[seller00fc, seller8e6d, sellere9bc, seller9c0...</td>\n",
       "      <td>72.99</td>\n",
       "      <td>65.0</td>\n",
       "      <td>110.32</td>\n",
       "      <td>45.32</td>\n",
       "      <td>8</td>\n",
       "    </tr>\n",
       "    <tr>\n",
       "      <th>10158</th>\n",
       "      <td>product656e</td>\n",
       "      <td>[seller00fc, seller8e6d, sellere9bc, seller9c0...</td>\n",
       "      <td>73.0</td>\n",
       "      <td>65.0</td>\n",
       "      <td>110.32</td>\n",
       "      <td>45.32</td>\n",
       "      <td>8</td>\n",
       "    </tr>\n",
       "    <tr>\n",
       "      <th>10158</th>\n",
       "      <td>product656e</td>\n",
       "      <td>[seller00fc, seller8e6d, sellere9bc, seller9c0...</td>\n",
       "      <td>79.9</td>\n",
       "      <td>65.0</td>\n",
       "      <td>110.32</td>\n",
       "      <td>45.32</td>\n",
       "      <td>8</td>\n",
       "    </tr>\n",
       "    <tr>\n",
       "      <th>...</th>\n",
       "      <td>...</td>\n",
       "      <td>...</td>\n",
       "      <td>...</td>\n",
       "      <td>...</td>\n",
       "      <td>...</td>\n",
       "      <td>...</td>\n",
       "      <td>...</td>\n",
       "    </tr>\n",
       "    <tr>\n",
       "      <th>5552</th>\n",
       "      <td>product36f6</td>\n",
       "      <td>[seller229c, seller00fc, seller8e6d, sellerf45...</td>\n",
       "      <td>78.9</td>\n",
       "      <td>67.9</td>\n",
       "      <td>167.00</td>\n",
       "      <td>99.10</td>\n",
       "      <td>7</td>\n",
       "    </tr>\n",
       "    <tr>\n",
       "      <th>5552</th>\n",
       "      <td>product36f6</td>\n",
       "      <td>[seller229c, seller00fc, seller8e6d, sellerf45...</td>\n",
       "      <td>86.0</td>\n",
       "      <td>67.9</td>\n",
       "      <td>167.00</td>\n",
       "      <td>99.10</td>\n",
       "      <td>7</td>\n",
       "    </tr>\n",
       "    <tr>\n",
       "      <th>5552</th>\n",
       "      <td>product36f6</td>\n",
       "      <td>[seller229c, seller00fc, seller8e6d, sellerf45...</td>\n",
       "      <td>87.0</td>\n",
       "      <td>67.9</td>\n",
       "      <td>167.00</td>\n",
       "      <td>99.10</td>\n",
       "      <td>7</td>\n",
       "    </tr>\n",
       "    <tr>\n",
       "      <th>5552</th>\n",
       "      <td>product36f6</td>\n",
       "      <td>[seller229c, seller00fc, seller8e6d, sellerf45...</td>\n",
       "      <td>88.0</td>\n",
       "      <td>67.9</td>\n",
       "      <td>167.00</td>\n",
       "      <td>99.10</td>\n",
       "      <td>7</td>\n",
       "    </tr>\n",
       "    <tr>\n",
       "      <th>5552</th>\n",
       "      <td>product36f6</td>\n",
       "      <td>[seller229c, seller00fc, seller8e6d, sellerf45...</td>\n",
       "      <td>89.5</td>\n",
       "      <td>67.9</td>\n",
       "      <td>167.00</td>\n",
       "      <td>99.10</td>\n",
       "      <td>7</td>\n",
       "    </tr>\n",
       "  </tbody>\n",
       "</table>\n",
       "<p>107 rows × 7 columns</p>\n",
       "</div>"
      ],
      "text/plain": [
       "      product_name                                        seller_name prices  \\\n",
       "10158  product656e  [seller00fc, seller8e6d, sellere9bc, seller9c0...   65.9   \n",
       "10158  product656e  [seller00fc, seller8e6d, sellere9bc, seller9c0...   65.0   \n",
       "10158  product656e  [seller00fc, seller8e6d, sellere9bc, seller9c0...  72.99   \n",
       "10158  product656e  [seller00fc, seller8e6d, sellere9bc, seller9c0...   73.0   \n",
       "10158  product656e  [seller00fc, seller8e6d, sellere9bc, seller9c0...   79.9   \n",
       "...            ...                                                ...    ...   \n",
       "5552   product36f6  [seller229c, seller00fc, seller8e6d, sellerf45...   78.9   \n",
       "5552   product36f6  [seller229c, seller00fc, seller8e6d, sellerf45...   86.0   \n",
       "5552   product36f6  [seller229c, seller00fc, seller8e6d, sellerf45...   87.0   \n",
       "5552   product36f6  [seller229c, seller00fc, seller8e6d, sellerf45...   88.0   \n",
       "5552   product36f6  [seller229c, seller00fc, seller8e6d, sellerf45...   89.5   \n",
       "\n",
       "       min_price  max_price  price_variation  sellers_count  \n",
       "10158       65.0     110.32            45.32              8  \n",
       "10158       65.0     110.32            45.32              8  \n",
       "10158       65.0     110.32            45.32              8  \n",
       "10158       65.0     110.32            45.32              8  \n",
       "10158       65.0     110.32            45.32              8  \n",
       "...          ...        ...              ...            ...  \n",
       "5552        67.9     167.00            99.10              7  \n",
       "5552        67.9     167.00            99.10              7  \n",
       "5552        67.9     167.00            99.10              7  \n",
       "5552        67.9     167.00            99.10              7  \n",
       "5552        67.9     167.00            99.10              7  \n",
       "\n",
       "[107 rows x 7 columns]"
      ]
     },
     "execution_count": 2980,
     "metadata": {},
     "output_type": "execute_result"
    }
   ],
   "source": [
    "top_5_sellers_sharing_products_expanded = top_5_sellers_sharing_products.explode('prices')\n",
    "top_5_sellers_sharing_products_expanded"
   ]
  },
  {
   "cell_type": "markdown",
   "id": "80f49e05-6b1c-4be7-9d06-5f04c005fb86",
   "metadata": {},
   "source": [
    "### Visualização através do Boxplot"
   ]
  },
  {
   "cell_type": "code",
   "execution_count": 2981,
   "id": "0b6d10b7-7517-43f2-be02-e6da3f65a29d",
   "metadata": {},
   "outputs": [
    {
     "data": {
      "image/png": "[encoded data removed]",
      "text/plain": [
       "<Figure size 900x600 with 1 Axes>"
      ]
     },
     "metadata": {},
     "output_type": "display_data"
    }
   ],
   "source": [
    "plt.figure(figsize=(9, 6))\n",
    "sns.boxplot(data=top_5_sellers_sharing_products_expanded, x='product_name', y='prices')\n",
    "plt.title('Distribuição dos preços dos 5 produtos mais compartilhados por sellers', fontsize=16)\n",
    "plt.xlabel('Produto', fontsize=12)\n",
    "plt.ylabel('Preço (R$)', fontsize=12)\n",
    "plt.xticks(rotation=45)\n",
    "plt.tight_layout()\n",
    "plt.show()"
   ]
  },
  {
   "cell_type": "markdown",
   "id": "3a43fc85-4a43-4398-be2e-941a22e8fa90",
   "metadata": {
    "jp-MarkdownHeadingCollapsed": true
   },
   "source": [
    "# Top 10 melhores sellers (com mais reviews positivas)"
   ]
  },
  {
   "cell_type": "code",
   "execution_count": 2983,
   "id": "d6c0e4a8-41d4-417b-a954-cbb58b6284cf",
   "metadata": {},
   "outputs": [],
   "source": [
    "sellers_df_names = sellers_df_cleaned\n",
    "sellers_df_names['seller_name'] = 'seller' + sellers_df_names['seller_id'].str[:4]"
   ]
  },
  {
   "cell_type": "code",
   "execution_count": 2984,
   "id": "4e0be254-043e-40d7-80db-eae3830e8917",
   "metadata": {},
   "outputs": [
    {
     "data": {
      "text/html": [
       "<div>\n",
       "<style scoped>\n",
       "    .dataframe tbody tr th:only-of-type {\n",
       "        vertical-align: middle;\n",
       "    }\n",
       "\n",
       "    .dataframe tbody tr th {\n",
       "        vertical-align: top;\n",
       "    }\n",
       "\n",
       "    .dataframe thead th {\n",
       "        text-align: right;\n",
       "    }\n",
       "</style>\n",
       "<table border=\"1\" class=\"dataframe\">\n",
       "  <thead>\n",
       "    <tr style=\"text-align: right;\">\n",
       "      <th></th>\n",
       "      <th>seller_id</th>\n",
       "      <th>seller_name</th>\n",
       "    </tr>\n",
       "  </thead>\n",
       "  <tbody>\n",
       "    <tr>\n",
       "      <th>0</th>\n",
       "      <td>3442f8959a84dea7ee197c632cb2df15</td>\n",
       "      <td>seller3442</td>\n",
       "    </tr>\n",
       "    <tr>\n",
       "      <th>1</th>\n",
       "      <td>d1b65fc7debc3361ea86b5f14c68d2e2</td>\n",
       "      <td>sellerd1b6</td>\n",
       "    </tr>\n",
       "    <tr>\n",
       "      <th>2</th>\n",
       "      <td>ce3ad9de960102d0677a81f5d0bb7b2d</td>\n",
       "      <td>sellerce3a</td>\n",
       "    </tr>\n",
       "    <tr>\n",
       "      <th>3</th>\n",
       "      <td>c0f3eea2e14555b6faeea3dd58c1b1c3</td>\n",
       "      <td>sellerc0f3</td>\n",
       "    </tr>\n",
       "    <tr>\n",
       "      <th>4</th>\n",
       "      <td>51a04a8a6bdcb23deccc82b0b80742cf</td>\n",
       "      <td>seller51a0</td>\n",
       "    </tr>\n",
       "  </tbody>\n",
       "</table>\n",
       "</div>"
      ],
      "text/plain": [
       "                          seller_id seller_name\n",
       "0  3442f8959a84dea7ee197c632cb2df15  seller3442\n",
       "1  d1b65fc7debc3361ea86b5f14c68d2e2  sellerd1b6\n",
       "2  ce3ad9de960102d0677a81f5d0bb7b2d  sellerce3a\n",
       "3  c0f3eea2e14555b6faeea3dd58c1b1c3  sellerc0f3\n",
       "4  51a04a8a6bdcb23deccc82b0b80742cf  seller51a0"
      ]
     },
     "execution_count": 2984,
     "metadata": {},
     "output_type": "execute_result"
    }
   ],
   "source": [
    "sellers_df_names.head()"
   ]
  },
  {
   "cell_type": "code",
   "execution_count": 2985,
   "id": "eb633a87-8d84-4676-a604-f76d45a61bc6",
   "metadata": {},
   "outputs": [
    {
     "data": {
      "text/html": [
       "<div>\n",
       "<style scoped>\n",
       "    .dataframe tbody tr th:only-of-type {\n",
       "        vertical-align: middle;\n",
       "    }\n",
       "\n",
       "    .dataframe tbody tr th {\n",
       "        vertical-align: top;\n",
       "    }\n",
       "\n",
       "    .dataframe thead th {\n",
       "        text-align: right;\n",
       "    }\n",
       "</style>\n",
       "<table border=\"1\" class=\"dataframe\">\n",
       "  <thead>\n",
       "    <tr style=\"text-align: right;\">\n",
       "      <th></th>\n",
       "      <th>order_id</th>\n",
       "      <th>order_item_id</th>\n",
       "      <th>product_id</th>\n",
       "      <th>seller_id</th>\n",
       "    </tr>\n",
       "  </thead>\n",
       "  <tbody>\n",
       "    <tr>\n",
       "      <th>0</th>\n",
       "      <td>00010242fe8c5a6d1ba2dd792cb16214</td>\n",
       "      <td>1</td>\n",
       "      <td>4244733e06e7ecb4970a6e2683c13e61</td>\n",
       "      <td>48436dade18ac8b2bce089ec2a041202</td>\n",
       "    </tr>\n",
       "    <tr>\n",
       "      <th>1</th>\n",
       "      <td>00018f77f2f0320c557190d7a144bdd3</td>\n",
       "      <td>1</td>\n",
       "      <td>e5f2d52b802189ee658865ca93d83a8f</td>\n",
       "      <td>dd7ddc04e1b6c2c614352b383efe2d36</td>\n",
       "    </tr>\n",
       "    <tr>\n",
       "      <th>2</th>\n",
       "      <td>000229ec398224ef6ca0657da4fc703e</td>\n",
       "      <td>1</td>\n",
       "      <td>c777355d18b72b67abbeef9df44fd0fd</td>\n",
       "      <td>5b51032eddd242adc84c38acab88f23d</td>\n",
       "    </tr>\n",
       "    <tr>\n",
       "      <th>3</th>\n",
       "      <td>00024acbcdf0a6daa1e931b038114c75</td>\n",
       "      <td>1</td>\n",
       "      <td>7634da152a4610f1595efa32f14722fc</td>\n",
       "      <td>9d7a1d34a5052409006425275ba1c2b4</td>\n",
       "    </tr>\n",
       "    <tr>\n",
       "      <th>4</th>\n",
       "      <td>00042b26cf59d7ce69dfabb4e55b4fd9</td>\n",
       "      <td>1</td>\n",
       "      <td>ac6c3623068f30de03045865e4e10089</td>\n",
       "      <td>df560393f3a51e74553ab94004ba5c87</td>\n",
       "    </tr>\n",
       "  </tbody>\n",
       "</table>\n",
       "</div>"
      ],
      "text/plain": [
       "                           order_id  order_item_id  \\\n",
       "0  00010242fe8c5a6d1ba2dd792cb16214              1   \n",
       "1  00018f77f2f0320c557190d7a144bdd3              1   \n",
       "2  000229ec398224ef6ca0657da4fc703e              1   \n",
       "3  00024acbcdf0a6daa1e931b038114c75              1   \n",
       "4  00042b26cf59d7ce69dfabb4e55b4fd9              1   \n",
       "\n",
       "                         product_id                         seller_id  \n",
       "0  4244733e06e7ecb4970a6e2683c13e61  48436dade18ac8b2bce089ec2a041202  \n",
       "1  e5f2d52b802189ee658865ca93d83a8f  dd7ddc04e1b6c2c614352b383efe2d36  \n",
       "2  c777355d18b72b67abbeef9df44fd0fd  5b51032eddd242adc84c38acab88f23d  \n",
       "3  7634da152a4610f1595efa32f14722fc  9d7a1d34a5052409006425275ba1c2b4  \n",
       "4  ac6c3623068f30de03045865e4e10089  df560393f3a51e74553ab94004ba5c87  "
      ]
     },
     "execution_count": 2985,
     "metadata": {},
     "output_type": "execute_result"
    }
   ],
   "source": [
    "order_items_df_cleaned.head()"
   ]
  },
  {
   "cell_type": "markdown",
   "id": "304adccf-cc72-47fa-812b-37ec28789183",
   "metadata": {},
   "source": [
    "- Merge de sellers e order_items"
   ]
  },
  {
   "cell_type": "code",
   "execution_count": 2986,
   "id": "dc0f6a17-97f6-483a-87d0-7bd874577883",
   "metadata": {},
   "outputs": [
    {
     "data": {
      "text/html": [
       "<div>\n",
       "<style scoped>\n",
       "    .dataframe tbody tr th:only-of-type {\n",
       "        vertical-align: middle;\n",
       "    }\n",
       "\n",
       "    .dataframe tbody tr th {\n",
       "        vertical-align: top;\n",
       "    }\n",
       "\n",
       "    .dataframe thead th {\n",
       "        text-align: right;\n",
       "    }\n",
       "</style>\n",
       "<table border=\"1\" class=\"dataframe\">\n",
       "  <thead>\n",
       "    <tr style=\"text-align: right;\">\n",
       "      <th></th>\n",
       "      <th>seller_id</th>\n",
       "      <th>seller_name</th>\n",
       "      <th>order_id</th>\n",
       "      <th>order_item_id</th>\n",
       "      <th>product_id</th>\n",
       "    </tr>\n",
       "  </thead>\n",
       "  <tbody>\n",
       "    <tr>\n",
       "      <th>0</th>\n",
       "      <td>3442f8959a84dea7ee197c632cb2df15</td>\n",
       "      <td>seller3442</td>\n",
       "      <td>4a90af3e85dd563884e2afeab1091394</td>\n",
       "      <td>1</td>\n",
       "      <td>ffb64e34a37740dafb6c88f1abd1fa61</td>\n",
       "    </tr>\n",
       "    <tr>\n",
       "      <th>1</th>\n",
       "      <td>3442f8959a84dea7ee197c632cb2df15</td>\n",
       "      <td>seller3442</td>\n",
       "      <td>6d953888a914b67350d5bc4d48f2acab</td>\n",
       "      <td>1</td>\n",
       "      <td>f4621f8ad6f54a2e3c408884068be46d</td>\n",
       "    </tr>\n",
       "    <tr>\n",
       "      <th>2</th>\n",
       "      <td>3442f8959a84dea7ee197c632cb2df15</td>\n",
       "      <td>seller3442</td>\n",
       "      <td>bc8a5de6abf5b14f98a6135a7fb46731</td>\n",
       "      <td>2</td>\n",
       "      <td>325a06bcce0da45b7f4ecf2797dd40e4</td>\n",
       "    </tr>\n",
       "    <tr>\n",
       "      <th>3</th>\n",
       "      <td>d1b65fc7debc3361ea86b5f14c68d2e2</td>\n",
       "      <td>sellerd1b6</td>\n",
       "      <td>035201c3c82a97f8a25dd6bd5244b2d5</td>\n",
       "      <td>1</td>\n",
       "      <td>1c36a5285f7f3b1ed2637d7c528ce5ff</td>\n",
       "    </tr>\n",
       "    <tr>\n",
       "      <th>4</th>\n",
       "      <td>d1b65fc7debc3361ea86b5f14c68d2e2</td>\n",
       "      <td>sellerd1b6</td>\n",
       "      <td>0504447548229e075dea8441b37b1e2a</td>\n",
       "      <td>1</td>\n",
       "      <td>8852eb03b04ec3268a66e9b696e25f6f</td>\n",
       "    </tr>\n",
       "  </tbody>\n",
       "</table>\n",
       "</div>"
      ],
      "text/plain": [
       "                          seller_id seller_name  \\\n",
       "0  3442f8959a84dea7ee197c632cb2df15  seller3442   \n",
       "1  3442f8959a84dea7ee197c632cb2df15  seller3442   \n",
       "2  3442f8959a84dea7ee197c632cb2df15  seller3442   \n",
       "3  d1b65fc7debc3361ea86b5f14c68d2e2  sellerd1b6   \n",
       "4  d1b65fc7debc3361ea86b5f14c68d2e2  sellerd1b6   \n",
       "\n",
       "                           order_id  order_item_id  \\\n",
       "0  4a90af3e85dd563884e2afeab1091394              1   \n",
       "1  6d953888a914b67350d5bc4d48f2acab              1   \n",
       "2  bc8a5de6abf5b14f98a6135a7fb46731              2   \n",
       "3  035201c3c82a97f8a25dd6bd5244b2d5              1   \n",
       "4  0504447548229e075dea8441b37b1e2a              1   \n",
       "\n",
       "                         product_id  \n",
       "0  ffb64e34a37740dafb6c88f1abd1fa61  \n",
       "1  f4621f8ad6f54a2e3c408884068be46d  \n",
       "2  325a06bcce0da45b7f4ecf2797dd40e4  \n",
       "3  1c36a5285f7f3b1ed2637d7c528ce5ff  \n",
       "4  8852eb03b04ec3268a66e9b696e25f6f  "
      ]
     },
     "execution_count": 2986,
     "metadata": {},
     "output_type": "execute_result"
    }
   ],
   "source": [
    "merge_df4 = pd.merge(sellers_df_names, order_items_df_cleaned, on='seller_id', how='inner')\n",
    "merge_df4.head()"
   ]
  },
  {
   "cell_type": "markdown",
   "id": "9c71469e-0dd3-4740-b75f-12c4c742c759",
   "metadata": {},
   "source": [
    "- Merge com orders"
   ]
  },
  {
   "cell_type": "code",
   "execution_count": 2987,
   "id": "e643b5bd-793d-430f-9fb1-9813709012ce",
   "metadata": {},
   "outputs": [
    {
     "data": {
      "text/html": [
       "<div>\n",
       "<style scoped>\n",
       "    .dataframe tbody tr th:only-of-type {\n",
       "        vertical-align: middle;\n",
       "    }\n",
       "\n",
       "    .dataframe tbody tr th {\n",
       "        vertical-align: top;\n",
       "    }\n",
       "\n",
       "    .dataframe thead th {\n",
       "        text-align: right;\n",
       "    }\n",
       "</style>\n",
       "<table border=\"1\" class=\"dataframe\">\n",
       "  <thead>\n",
       "    <tr style=\"text-align: right;\">\n",
       "      <th></th>\n",
       "      <th>seller_id</th>\n",
       "      <th>seller_name</th>\n",
       "      <th>order_id</th>\n",
       "      <th>order_item_id</th>\n",
       "      <th>product_id</th>\n",
       "    </tr>\n",
       "  </thead>\n",
       "  <tbody>\n",
       "    <tr>\n",
       "      <th>0</th>\n",
       "      <td>3442f8959a84dea7ee197c632cb2df15</td>\n",
       "      <td>seller3442</td>\n",
       "      <td>bc8a5de6abf5b14f98a6135a7fb46731</td>\n",
       "      <td>2</td>\n",
       "      <td>325a06bcce0da45b7f4ecf2797dd40e4</td>\n",
       "    </tr>\n",
       "    <tr>\n",
       "      <th>1</th>\n",
       "      <td>d1b65fc7debc3361ea86b5f14c68d2e2</td>\n",
       "      <td>sellerd1b6</td>\n",
       "      <td>035201c3c82a97f8a25dd6bd5244b2d5</td>\n",
       "      <td>1</td>\n",
       "      <td>1c36a5285f7f3b1ed2637d7c528ce5ff</td>\n",
       "    </tr>\n",
       "    <tr>\n",
       "      <th>2</th>\n",
       "      <td>d1b65fc7debc3361ea86b5f14c68d2e2</td>\n",
       "      <td>sellerd1b6</td>\n",
       "      <td>0504447548229e075dea8441b37b1e2a</td>\n",
       "      <td>1</td>\n",
       "      <td>8852eb03b04ec3268a66e9b696e25f6f</td>\n",
       "    </tr>\n",
       "    <tr>\n",
       "      <th>3</th>\n",
       "      <td>d1b65fc7debc3361ea86b5f14c68d2e2</td>\n",
       "      <td>sellerd1b6</td>\n",
       "      <td>16fd9b360cbadca08b1026c8532820f5</td>\n",
       "      <td>1</td>\n",
       "      <td>f74ed500ab93d12ce3fbc611474d89af</td>\n",
       "    </tr>\n",
       "    <tr>\n",
       "      <th>4</th>\n",
       "      <td>d1b65fc7debc3361ea86b5f14c68d2e2</td>\n",
       "      <td>sellerd1b6</td>\n",
       "      <td>21fab12baaa93481ad76d02fa22255eb</td>\n",
       "      <td>1</td>\n",
       "      <td>4353af36fe588dc73497fa158ed6cefb</td>\n",
       "    </tr>\n",
       "  </tbody>\n",
       "</table>\n",
       "</div>"
      ],
      "text/plain": [
       "                          seller_id seller_name  \\\n",
       "0  3442f8959a84dea7ee197c632cb2df15  seller3442   \n",
       "1  d1b65fc7debc3361ea86b5f14c68d2e2  sellerd1b6   \n",
       "2  d1b65fc7debc3361ea86b5f14c68d2e2  sellerd1b6   \n",
       "3  d1b65fc7debc3361ea86b5f14c68d2e2  sellerd1b6   \n",
       "4  d1b65fc7debc3361ea86b5f14c68d2e2  sellerd1b6   \n",
       "\n",
       "                           order_id  order_item_id  \\\n",
       "0  bc8a5de6abf5b14f98a6135a7fb46731              2   \n",
       "1  035201c3c82a97f8a25dd6bd5244b2d5              1   \n",
       "2  0504447548229e075dea8441b37b1e2a              1   \n",
       "3  16fd9b360cbadca08b1026c8532820f5              1   \n",
       "4  21fab12baaa93481ad76d02fa22255eb              1   \n",
       "\n",
       "                         product_id  \n",
       "0  325a06bcce0da45b7f4ecf2797dd40e4  \n",
       "1  1c36a5285f7f3b1ed2637d7c528ce5ff  \n",
       "2  8852eb03b04ec3268a66e9b696e25f6f  \n",
       "3  f74ed500ab93d12ce3fbc611474d89af  \n",
       "4  4353af36fe588dc73497fa158ed6cefb  "
      ]
     },
     "execution_count": 2987,
     "metadata": {},
     "output_type": "execute_result"
    }
   ],
   "source": [
    "merge_df4 = pd.merge(merge_df4, orders_df_cleaned, on='order_id', how='inner')\n",
    "merge_df4.head()"
   ]
  },
  {
   "cell_type": "markdown",
   "id": "d2c326a6-a7f6-41af-b2fd-cd07d3f33cb6",
   "metadata": {},
   "source": [
    "- Merge com reviews (obterei apenas os produtos que possuem reviews, pois se um produto não tem review, ele não vai contribuir para a análise)"
   ]
  },
  {
   "cell_type": "code",
   "execution_count": 2988,
   "id": "c9048d74-3d64-4ea9-9e34-405286aa3e53",
   "metadata": {},
   "outputs": [
    {
     "data": {
      "text/html": [
       "<div>\n",
       "<style scoped>\n",
       "    .dataframe tbody tr th:only-of-type {\n",
       "        vertical-align: middle;\n",
       "    }\n",
       "\n",
       "    .dataframe tbody tr th {\n",
       "        vertical-align: top;\n",
       "    }\n",
       "\n",
       "    .dataframe thead th {\n",
       "        text-align: right;\n",
       "    }\n",
       "</style>\n",
       "<table border=\"1\" class=\"dataframe\">\n",
       "  <thead>\n",
       "    <tr style=\"text-align: right;\">\n",
       "      <th></th>\n",
       "      <th>seller_id</th>\n",
       "      <th>seller_name</th>\n",
       "      <th>order_id</th>\n",
       "      <th>order_item_id</th>\n",
       "      <th>product_id</th>\n",
       "      <th>review_id</th>\n",
       "      <th>review_score</th>\n",
       "      <th>review_comment_title</th>\n",
       "      <th>review_comment_message</th>\n",
       "    </tr>\n",
       "  </thead>\n",
       "  <tbody>\n",
       "    <tr>\n",
       "      <th>0</th>\n",
       "      <td>3442f8959a84dea7ee197c632cb2df15</td>\n",
       "      <td>seller3442</td>\n",
       "      <td>bc8a5de6abf5b14f98a6135a7fb46731</td>\n",
       "      <td>2</td>\n",
       "      <td>325a06bcce0da45b7f4ecf2797dd40e4</td>\n",
       "      <td>cc77a6d63753c1d7b88b7c64630b97b9</td>\n",
       "      <td>3</td>\n",
       "      <td>Nenhum título</td>\n",
       "      <td>coprei tres ítens faltou entregar um</td>\n",
       "    </tr>\n",
       "    <tr>\n",
       "      <th>1</th>\n",
       "      <td>d1b65fc7debc3361ea86b5f14c68d2e2</td>\n",
       "      <td>sellerd1b6</td>\n",
       "      <td>035201c3c82a97f8a25dd6bd5244b2d5</td>\n",
       "      <td>1</td>\n",
       "      <td>1c36a5285f7f3b1ed2637d7c528ce5ff</td>\n",
       "      <td>27a894ac7d70600fd49d2ac3b910e65d</td>\n",
       "      <td>5</td>\n",
       "      <td>Nenhum título</td>\n",
       "      <td>A cor é muito diferente da foto.\\r\\nÉ uma ótim...</td>\n",
       "    </tr>\n",
       "    <tr>\n",
       "      <th>2</th>\n",
       "      <td>d1b65fc7debc3361ea86b5f14c68d2e2</td>\n",
       "      <td>sellerd1b6</td>\n",
       "      <td>0504447548229e075dea8441b37b1e2a</td>\n",
       "      <td>1</td>\n",
       "      <td>8852eb03b04ec3268a66e9b696e25f6f</td>\n",
       "      <td>265e6d99461ed7db35a7f48a00df7e6c</td>\n",
       "      <td>5</td>\n",
       "      <td>Nenhum título</td>\n",
       "      <td>excelente aquisição</td>\n",
       "    </tr>\n",
       "    <tr>\n",
       "      <th>3</th>\n",
       "      <td>d1b65fc7debc3361ea86b5f14c68d2e2</td>\n",
       "      <td>sellerd1b6</td>\n",
       "      <td>16fd9b360cbadca08b1026c8532820f5</td>\n",
       "      <td>1</td>\n",
       "      <td>f74ed500ab93d12ce3fbc611474d89af</td>\n",
       "      <td>90d1148c6f19ba228dfcfb87bdda1bca</td>\n",
       "      <td>5</td>\n",
       "      <td>Nenhum título</td>\n",
       "      <td>Produto idêntico a da foto, e entrega rápida. ...</td>\n",
       "    </tr>\n",
       "    <tr>\n",
       "      <th>4</th>\n",
       "      <td>d1b65fc7debc3361ea86b5f14c68d2e2</td>\n",
       "      <td>sellerd1b6</td>\n",
       "      <td>21fab12baaa93481ad76d02fa22255eb</td>\n",
       "      <td>1</td>\n",
       "      <td>4353af36fe588dc73497fa158ed6cefb</td>\n",
       "      <td>01be0a30ff6e06bfde5e1acc5c5f4a7d</td>\n",
       "      <td>5</td>\n",
       "      <td>Nenhum título</td>\n",
       "      <td>O produto é ótimo e a entrega foi antes do pre...</td>\n",
       "    </tr>\n",
       "  </tbody>\n",
       "</table>\n",
       "</div>"
      ],
      "text/plain": [
       "                          seller_id seller_name  \\\n",
       "0  3442f8959a84dea7ee197c632cb2df15  seller3442   \n",
       "1  d1b65fc7debc3361ea86b5f14c68d2e2  sellerd1b6   \n",
       "2  d1b65fc7debc3361ea86b5f14c68d2e2  sellerd1b6   \n",
       "3  d1b65fc7debc3361ea86b5f14c68d2e2  sellerd1b6   \n",
       "4  d1b65fc7debc3361ea86b5f14c68d2e2  sellerd1b6   \n",
       "\n",
       "                           order_id  order_item_id  \\\n",
       "0  bc8a5de6abf5b14f98a6135a7fb46731              2   \n",
       "1  035201c3c82a97f8a25dd6bd5244b2d5              1   \n",
       "2  0504447548229e075dea8441b37b1e2a              1   \n",
       "3  16fd9b360cbadca08b1026c8532820f5              1   \n",
       "4  21fab12baaa93481ad76d02fa22255eb              1   \n",
       "\n",
       "                         product_id                         review_id  \\\n",
       "0  325a06bcce0da45b7f4ecf2797dd40e4  cc77a6d63753c1d7b88b7c64630b97b9   \n",
       "1  1c36a5285f7f3b1ed2637d7c528ce5ff  27a894ac7d70600fd49d2ac3b910e65d   \n",
       "2  8852eb03b04ec3268a66e9b696e25f6f  265e6d99461ed7db35a7f48a00df7e6c   \n",
       "3  f74ed500ab93d12ce3fbc611474d89af  90d1148c6f19ba228dfcfb87bdda1bca   \n",
       "4  4353af36fe588dc73497fa158ed6cefb  01be0a30ff6e06bfde5e1acc5c5f4a7d   \n",
       "\n",
       "   review_score review_comment_title  \\\n",
       "0             3        Nenhum título   \n",
       "1             5        Nenhum título   \n",
       "2             5        Nenhum título   \n",
       "3             5        Nenhum título   \n",
       "4             5        Nenhum título   \n",
       "\n",
       "                              review_comment_message  \n",
       "0               coprei tres ítens faltou entregar um  \n",
       "1  A cor é muito diferente da foto.\\r\\nÉ uma ótim...  \n",
       "2                                excelente aquisição  \n",
       "3  Produto idêntico a da foto, e entrega rápida. ...  \n",
       "4  O produto é ótimo e a entrega foi antes do pre...  "
      ]
     },
     "execution_count": 2988,
     "metadata": {},
     "output_type": "execute_result"
    }
   ],
   "source": [
    "merge_df4 = pd.merge(merge_df4, order_reviews_df_cleaned, on='order_id', how='inner')\n",
    "merge_df4.head()"
   ]
  },
  {
   "cell_type": "markdown",
   "id": "7e0a3fa7-21fe-44c8-b462-50b144937b4a",
   "metadata": {},
   "source": [
    "### Valores Faltantes"
   ]
  },
  {
   "cell_type": "code",
   "execution_count": 2989,
   "id": "c540f52e-abb8-4ef8-920e-01747021edc0",
   "metadata": {},
   "outputs": [
    {
     "data": {
      "text/plain": [
       "seller_id                 0\n",
       "seller_name               0\n",
       "order_id                  0\n",
       "order_item_id             0\n",
       "product_id                0\n",
       "review_id                 0\n",
       "review_score              0\n",
       "review_comment_title      0\n",
       "review_comment_message    0\n",
       "dtype: int64"
      ]
     },
     "execution_count": 2989,
     "metadata": {},
     "output_type": "execute_result"
    }
   ],
   "source": [
    "merge_df4.isnull().sum()"
   ]
  },
  {
   "cell_type": "markdown",
   "id": "84461d08-bdcc-471c-900d-0e12069f2624",
   "metadata": {},
   "source": [
    "### Duplicatas"
   ]
  },
  {
   "cell_type": "code",
   "execution_count": 2990,
   "id": "39e8213f-36c4-4c41-acbe-d2f8452a92dd",
   "metadata": {},
   "outputs": [
    {
     "data": {
      "text/plain": [
       "np.int64(0)"
      ]
     },
     "execution_count": 2990,
     "metadata": {},
     "output_type": "execute_result"
    }
   ],
   "source": [
    "merge_df4.duplicated().sum()"
   ]
  },
  {
   "cell_type": "code",
   "execution_count": 2991,
   "id": "9ad2b15e-427b-40e0-b2fd-f22652dbed13",
   "metadata": {},
   "outputs": [
    {
     "data": {
      "text/plain": [
       "(85223, 9)"
      ]
     },
     "execution_count": 2991,
     "metadata": {},
     "output_type": "execute_result"
    }
   ],
   "source": [
    "merge_df4.shape"
   ]
  },
  {
   "cell_type": "code",
   "execution_count": 2992,
   "id": "e50ff94c-7aa0-4434-8449-7e234e02f9c0",
   "metadata": {},
   "outputs": [
    {
     "data": {
      "text/html": [
       "<div>\n",
       "<style scoped>\n",
       "    .dataframe tbody tr th:only-of-type {\n",
       "        vertical-align: middle;\n",
       "    }\n",
       "\n",
       "    .dataframe tbody tr th {\n",
       "        vertical-align: top;\n",
       "    }\n",
       "\n",
       "    .dataframe thead th {\n",
       "        text-align: right;\n",
       "    }\n",
       "</style>\n",
       "<table border=\"1\" class=\"dataframe\">\n",
       "  <thead>\n",
       "    <tr style=\"text-align: right;\">\n",
       "      <th></th>\n",
       "      <th>seller_id</th>\n",
       "      <th>seller_name</th>\n",
       "      <th>order_id</th>\n",
       "      <th>order_item_id</th>\n",
       "      <th>product_id</th>\n",
       "      <th>review_id</th>\n",
       "      <th>review_score</th>\n",
       "      <th>review_comment_title</th>\n",
       "      <th>review_comment_message</th>\n",
       "    </tr>\n",
       "  </thead>\n",
       "  <tbody>\n",
       "    <tr>\n",
       "      <th>0</th>\n",
       "      <td>3442f8959a84dea7ee197c632cb2df15</td>\n",
       "      <td>seller3442</td>\n",
       "      <td>bc8a5de6abf5b14f98a6135a7fb46731</td>\n",
       "      <td>2</td>\n",
       "      <td>325a06bcce0da45b7f4ecf2797dd40e4</td>\n",
       "      <td>cc77a6d63753c1d7b88b7c64630b97b9</td>\n",
       "      <td>3</td>\n",
       "      <td>Nenhum título</td>\n",
       "      <td>coprei tres ítens faltou entregar um</td>\n",
       "    </tr>\n",
       "    <tr>\n",
       "      <th>1</th>\n",
       "      <td>d1b65fc7debc3361ea86b5f14c68d2e2</td>\n",
       "      <td>sellerd1b6</td>\n",
       "      <td>035201c3c82a97f8a25dd6bd5244b2d5</td>\n",
       "      <td>1</td>\n",
       "      <td>1c36a5285f7f3b1ed2637d7c528ce5ff</td>\n",
       "      <td>27a894ac7d70600fd49d2ac3b910e65d</td>\n",
       "      <td>5</td>\n",
       "      <td>Nenhum título</td>\n",
       "      <td>A cor é muito diferente da foto.\\r\\nÉ uma ótim...</td>\n",
       "    </tr>\n",
       "    <tr>\n",
       "      <th>2</th>\n",
       "      <td>d1b65fc7debc3361ea86b5f14c68d2e2</td>\n",
       "      <td>sellerd1b6</td>\n",
       "      <td>0504447548229e075dea8441b37b1e2a</td>\n",
       "      <td>1</td>\n",
       "      <td>8852eb03b04ec3268a66e9b696e25f6f</td>\n",
       "      <td>265e6d99461ed7db35a7f48a00df7e6c</td>\n",
       "      <td>5</td>\n",
       "      <td>Nenhum título</td>\n",
       "      <td>excelente aquisição</td>\n",
       "    </tr>\n",
       "    <tr>\n",
       "      <th>3</th>\n",
       "      <td>d1b65fc7debc3361ea86b5f14c68d2e2</td>\n",
       "      <td>sellerd1b6</td>\n",
       "      <td>16fd9b360cbadca08b1026c8532820f5</td>\n",
       "      <td>1</td>\n",
       "      <td>f74ed500ab93d12ce3fbc611474d89af</td>\n",
       "      <td>90d1148c6f19ba228dfcfb87bdda1bca</td>\n",
       "      <td>5</td>\n",
       "      <td>Nenhum título</td>\n",
       "      <td>Produto idêntico a da foto, e entrega rápida. ...</td>\n",
       "    </tr>\n",
       "    <tr>\n",
       "      <th>4</th>\n",
       "      <td>d1b65fc7debc3361ea86b5f14c68d2e2</td>\n",
       "      <td>sellerd1b6</td>\n",
       "      <td>21fab12baaa93481ad76d02fa22255eb</td>\n",
       "      <td>1</td>\n",
       "      <td>4353af36fe588dc73497fa158ed6cefb</td>\n",
       "      <td>01be0a30ff6e06bfde5e1acc5c5f4a7d</td>\n",
       "      <td>5</td>\n",
       "      <td>Nenhum título</td>\n",
       "      <td>O produto é ótimo e a entrega foi antes do pre...</td>\n",
       "    </tr>\n",
       "    <tr>\n",
       "      <th>5</th>\n",
       "      <td>d1b65fc7debc3361ea86b5f14c68d2e2</td>\n",
       "      <td>sellerd1b6</td>\n",
       "      <td>2d5abff139e8101029312b689bfeae7a</td>\n",
       "      <td>1</td>\n",
       "      <td>f74ed500ab93d12ce3fbc611474d89af</td>\n",
       "      <td>35c7b1789db330dfda75511bfe965525</td>\n",
       "      <td>4</td>\n",
       "      <td>Nenhum título</td>\n",
       "      <td>Nenhuma mensagem</td>\n",
       "    </tr>\n",
       "    <tr>\n",
       "      <th>6</th>\n",
       "      <td>d1b65fc7debc3361ea86b5f14c68d2e2</td>\n",
       "      <td>sellerd1b6</td>\n",
       "      <td>3ad057222aa3896524e1f8676a6fed66</td>\n",
       "      <td>1</td>\n",
       "      <td>16afd9cf37e1b340bc46822fdd8240aa</td>\n",
       "      <td>08cddc0ee7ce3a240cd466f672038d09</td>\n",
       "      <td>4</td>\n",
       "      <td>Nenhum título</td>\n",
       "      <td>Nenhuma mensagem</td>\n",
       "    </tr>\n",
       "    <tr>\n",
       "      <th>7</th>\n",
       "      <td>d1b65fc7debc3361ea86b5f14c68d2e2</td>\n",
       "      <td>sellerd1b6</td>\n",
       "      <td>4b3be677878505d6696458ae4b209876</td>\n",
       "      <td>1</td>\n",
       "      <td>f74ed500ab93d12ce3fbc611474d89af</td>\n",
       "      <td>52b2a058d09c97ef05d0f455a84e9c04</td>\n",
       "      <td>5</td>\n",
       "      <td>Nenhum título</td>\n",
       "      <td>Nenhuma mensagem</td>\n",
       "    </tr>\n",
       "    <tr>\n",
       "      <th>8</th>\n",
       "      <td>d1b65fc7debc3361ea86b5f14c68d2e2</td>\n",
       "      <td>sellerd1b6</td>\n",
       "      <td>56cbeec7ba721c09cf45937ec625f675</td>\n",
       "      <td>1</td>\n",
       "      <td>aa720f8684a8fc318f7a22c52c02a2dc</td>\n",
       "      <td>7b57bd31862f46b892533b8a5200cb16</td>\n",
       "      <td>5</td>\n",
       "      <td>Nenhum título</td>\n",
       "      <td>entrega super rápida, produto conforme anunciado.</td>\n",
       "    </tr>\n",
       "    <tr>\n",
       "      <th>9</th>\n",
       "      <td>d1b65fc7debc3361ea86b5f14c68d2e2</td>\n",
       "      <td>sellerd1b6</td>\n",
       "      <td>68350de28c940e619bfce38aa0001ef2</td>\n",
       "      <td>1</td>\n",
       "      <td>ba1cc0f3f26616d7ad90de1085bdfeda</td>\n",
       "      <td>596ce38da99fd281dd79ae7d18f8cdb0</td>\n",
       "      <td>4</td>\n",
       "      <td>Nenhum título</td>\n",
       "      <td>Nenhuma mensagem</td>\n",
       "    </tr>\n",
       "    <tr>\n",
       "      <th>10</th>\n",
       "      <td>d1b65fc7debc3361ea86b5f14c68d2e2</td>\n",
       "      <td>sellerd1b6</td>\n",
       "      <td>6cff0bbcafb7486dd85cda3c8171cf9a</td>\n",
       "      <td>1</td>\n",
       "      <td>2a65f5c6c203f2e5079da9ac55814c61</td>\n",
       "      <td>7fed54f6eea21eb2b9f9a8340efe0555</td>\n",
       "      <td>5</td>\n",
       "      <td>Nenhum título</td>\n",
       "      <td>Nenhuma mensagem</td>\n",
       "    </tr>\n",
       "    <tr>\n",
       "      <th>11</th>\n",
       "      <td>d1b65fc7debc3361ea86b5f14c68d2e2</td>\n",
       "      <td>sellerd1b6</td>\n",
       "      <td>6d771a62f8e59777188b20db61acb214</td>\n",
       "      <td>1</td>\n",
       "      <td>1c36a5285f7f3b1ed2637d7c528ce5ff</td>\n",
       "      <td>1a6abde308f070c764bfebdbe3f18c3d</td>\n",
       "      <td>4</td>\n",
       "      <td>Nenhum título</td>\n",
       "      <td>Nenhuma mensagem</td>\n",
       "    </tr>\n",
       "    <tr>\n",
       "      <th>12</th>\n",
       "      <td>d1b65fc7debc3361ea86b5f14c68d2e2</td>\n",
       "      <td>sellerd1b6</td>\n",
       "      <td>9cca241ed87f1ae14fc65df5c12397a8</td>\n",
       "      <td>1</td>\n",
       "      <td>e9e8ec421793c31261cde20786e9ff16</td>\n",
       "      <td>ae66360c08e22bc7548145e19105647c</td>\n",
       "      <td>5</td>\n",
       "      <td>Nenhum título</td>\n",
       "      <td>Nenhuma mensagem</td>\n",
       "    </tr>\n",
       "    <tr>\n",
       "      <th>13</th>\n",
       "      <td>d1b65fc7debc3361ea86b5f14c68d2e2</td>\n",
       "      <td>sellerd1b6</td>\n",
       "      <td>a2d07ac7e227a1d032218e0144893375</td>\n",
       "      <td>1</td>\n",
       "      <td>fcddf470369a3a13fc7b6146ac3a816e</td>\n",
       "      <td>a4397b49d95f7cb1f79925d8d661a7f8</td>\n",
       "      <td>5</td>\n",
       "      <td>Nenhum título</td>\n",
       "      <td>Nenhuma mensagem</td>\n",
       "    </tr>\n",
       "    <tr>\n",
       "      <th>14</th>\n",
       "      <td>d1b65fc7debc3361ea86b5f14c68d2e2</td>\n",
       "      <td>sellerd1b6</td>\n",
       "      <td>b908238158de71c7143c6284de581ce1</td>\n",
       "      <td>1</td>\n",
       "      <td>cb378611bbb39f1716b4f0c335201448</td>\n",
       "      <td>78145f0764462bd62521c9ea92da6e9c</td>\n",
       "      <td>5</td>\n",
       "      <td>Nenhum título</td>\n",
       "      <td>Nenhuma mensagem</td>\n",
       "    </tr>\n",
       "  </tbody>\n",
       "</table>\n",
       "</div>"
      ],
      "text/plain": [
       "                           seller_id seller_name  \\\n",
       "0   3442f8959a84dea7ee197c632cb2df15  seller3442   \n",
       "1   d1b65fc7debc3361ea86b5f14c68d2e2  sellerd1b6   \n",
       "2   d1b65fc7debc3361ea86b5f14c68d2e2  sellerd1b6   \n",
       "3   d1b65fc7debc3361ea86b5f14c68d2e2  sellerd1b6   \n",
       "4   d1b65fc7debc3361ea86b5f14c68d2e2  sellerd1b6   \n",
       "5   d1b65fc7debc3361ea86b5f14c68d2e2  sellerd1b6   \n",
       "6   d1b65fc7debc3361ea86b5f14c68d2e2  sellerd1b6   \n",
       "7   d1b65fc7debc3361ea86b5f14c68d2e2  sellerd1b6   \n",
       "8   d1b65fc7debc3361ea86b5f14c68d2e2  sellerd1b6   \n",
       "9   d1b65fc7debc3361ea86b5f14c68d2e2  sellerd1b6   \n",
       "10  d1b65fc7debc3361ea86b5f14c68d2e2  sellerd1b6   \n",
       "11  d1b65fc7debc3361ea86b5f14c68d2e2  sellerd1b6   \n",
       "12  d1b65fc7debc3361ea86b5f14c68d2e2  sellerd1b6   \n",
       "13  d1b65fc7debc3361ea86b5f14c68d2e2  sellerd1b6   \n",
       "14  d1b65fc7debc3361ea86b5f14c68d2e2  sellerd1b6   \n",
       "\n",
       "                            order_id  order_item_id  \\\n",
       "0   bc8a5de6abf5b14f98a6135a7fb46731              2   \n",
       "1   035201c3c82a97f8a25dd6bd5244b2d5              1   \n",
       "2   0504447548229e075dea8441b37b1e2a              1   \n",
       "3   16fd9b360cbadca08b1026c8532820f5              1   \n",
       "4   21fab12baaa93481ad76d02fa22255eb              1   \n",
       "5   2d5abff139e8101029312b689bfeae7a              1   \n",
       "6   3ad057222aa3896524e1f8676a6fed66              1   \n",
       "7   4b3be677878505d6696458ae4b209876              1   \n",
       "8   56cbeec7ba721c09cf45937ec625f675              1   \n",
       "9   68350de28c940e619bfce38aa0001ef2              1   \n",
       "10  6cff0bbcafb7486dd85cda3c8171cf9a              1   \n",
       "11  6d771a62f8e59777188b20db61acb214              1   \n",
       "12  9cca241ed87f1ae14fc65df5c12397a8              1   \n",
       "13  a2d07ac7e227a1d032218e0144893375              1   \n",
       "14  b908238158de71c7143c6284de581ce1              1   \n",
       "\n",
       "                          product_id                         review_id  \\\n",
       "0   325a06bcce0da45b7f4ecf2797dd40e4  cc77a6d63753c1d7b88b7c64630b97b9   \n",
       "1   1c36a5285f7f3b1ed2637d7c528ce5ff  27a894ac7d70600fd49d2ac3b910e65d   \n",
       "2   8852eb03b04ec3268a66e9b696e25f6f  265e6d99461ed7db35a7f48a00df7e6c   \n",
       "3   f74ed500ab93d12ce3fbc611474d89af  90d1148c6f19ba228dfcfb87bdda1bca   \n",
       "4   4353af36fe588dc73497fa158ed6cefb  01be0a30ff6e06bfde5e1acc5c5f4a7d   \n",
       "5   f74ed500ab93d12ce3fbc611474d89af  35c7b1789db330dfda75511bfe965525   \n",
       "6   16afd9cf37e1b340bc46822fdd8240aa  08cddc0ee7ce3a240cd466f672038d09   \n",
       "7   f74ed500ab93d12ce3fbc611474d89af  52b2a058d09c97ef05d0f455a84e9c04   \n",
       "8   aa720f8684a8fc318f7a22c52c02a2dc  7b57bd31862f46b892533b8a5200cb16   \n",
       "9   ba1cc0f3f26616d7ad90de1085bdfeda  596ce38da99fd281dd79ae7d18f8cdb0   \n",
       "10  2a65f5c6c203f2e5079da9ac55814c61  7fed54f6eea21eb2b9f9a8340efe0555   \n",
       "11  1c36a5285f7f3b1ed2637d7c528ce5ff  1a6abde308f070c764bfebdbe3f18c3d   \n",
       "12  e9e8ec421793c31261cde20786e9ff16  ae66360c08e22bc7548145e19105647c   \n",
       "13  fcddf470369a3a13fc7b6146ac3a816e  a4397b49d95f7cb1f79925d8d661a7f8   \n",
       "14  cb378611bbb39f1716b4f0c335201448  78145f0764462bd62521c9ea92da6e9c   \n",
       "\n",
       "    review_score review_comment_title  \\\n",
       "0              3        Nenhum título   \n",
       "1              5        Nenhum título   \n",
       "2              5        Nenhum título   \n",
       "3              5        Nenhum título   \n",
       "4              5        Nenhum título   \n",
       "5              4        Nenhum título   \n",
       "6              4        Nenhum título   \n",
       "7              5        Nenhum título   \n",
       "8              5        Nenhum título   \n",
       "9              4        Nenhum título   \n",
       "10             5        Nenhum título   \n",
       "11             4        Nenhum título   \n",
       "12             5        Nenhum título   \n",
       "13             5        Nenhum título   \n",
       "14             5        Nenhum título   \n",
       "\n",
       "                               review_comment_message  \n",
       "0                coprei tres ítens faltou entregar um  \n",
       "1   A cor é muito diferente da foto.\\r\\nÉ uma ótim...  \n",
       "2                                 excelente aquisição  \n",
       "3   Produto idêntico a da foto, e entrega rápida. ...  \n",
       "4   O produto é ótimo e a entrega foi antes do pre...  \n",
       "5                                    Nenhuma mensagem  \n",
       "6                                    Nenhuma mensagem  \n",
       "7                                    Nenhuma mensagem  \n",
       "8   entrega super rápida, produto conforme anunciado.  \n",
       "9                                    Nenhuma mensagem  \n",
       "10                                   Nenhuma mensagem  \n",
       "11                                   Nenhuma mensagem  \n",
       "12                                   Nenhuma mensagem  \n",
       "13                                   Nenhuma mensagem  \n",
       "14                                   Nenhuma mensagem  "
      ]
     },
     "execution_count": 2992,
     "metadata": {},
     "output_type": "execute_result"
    }
   ],
   "source": [
    "merge_df4.head(15)"
   ]
  },
  {
   "cell_type": "code",
   "execution_count": 2993,
   "id": "ea704a12-cb95-4f2c-9725-a92574ab1cc6",
   "metadata": {},
   "outputs": [
    {
     "data": {
      "text/plain": [
       "seller_name\n",
       "seller1f50    1682\n",
       "seller6560    1604\n",
       "seller955f    1433\n",
       "seller1025    1378\n",
       "seller4a3c    1350\n",
       "              ... \n",
       "seller8e67       1\n",
       "sellerbede       1\n",
       "sellerec21       1\n",
       "seller13d9       1\n",
       "seller9853       1\n",
       "Name: count, Length: 2550, dtype: int64"
      ]
     },
     "execution_count": 2993,
     "metadata": {},
     "output_type": "execute_result"
    }
   ],
   "source": [
    "merge_df4.seller_name.value_counts()"
   ]
  },
  {
   "cell_type": "markdown",
   "id": "9262ed76-3749-44d1-9a5d-61bad39b63df",
   "metadata": {},
   "source": [
    "**Para a minha análise, eu resolvi filtrar os sellers com um número mínimo de Reviews**\n",
    "\n",
    "Isso para que sellers com poucos reviews não enviesem a base. Portanto, a **média bayesiana** vai ser utilizada, pois ela garante que à medida que o número de avaliações aumente, o peso das avaliações individuais cresce.\n",
    "\n",
    "media_bayesiana = (valor_minimo_reviews * nota_media_geral) + soma_notas_seller / valor_minimo_reviews + numero_avaliacoes_sellers\n",
    "                    \n",
    "Eu estabeleci que valor mínimo de reviews para a análise será de **25**"
   ]
  },
  {
   "cell_type": "code",
   "execution_count": 2994,
   "id": "1cce1884-1e04-42db-8e86-a988290420aa",
   "metadata": {},
   "outputs": [
    {
     "data": {
      "text/html": [
       "<div>\n",
       "<style scoped>\n",
       "    .dataframe tbody tr th:only-of-type {\n",
       "        vertical-align: middle;\n",
       "    }\n",
       "\n",
       "    .dataframe tbody tr th {\n",
       "        vertical-align: top;\n",
       "    }\n",
       "\n",
       "    .dataframe thead th {\n",
       "        text-align: right;\n",
       "    }\n",
       "</style>\n",
       "<table border=\"1\" class=\"dataframe\">\n",
       "  <thead>\n",
       "    <tr style=\"text-align: right;\">\n",
       "      <th></th>\n",
       "      <th>seller_id</th>\n",
       "      <th>seller_name</th>\n",
       "      <th>order_id</th>\n",
       "      <th>order_item_id</th>\n",
       "      <th>product_id</th>\n",
       "      <th>review_id</th>\n",
       "      <th>review_score</th>\n",
       "      <th>review_comment_title</th>\n",
       "      <th>review_comment_message</th>\n",
       "    </tr>\n",
       "  </thead>\n",
       "  <tbody>\n",
       "    <tr>\n",
       "      <th>0</th>\n",
       "      <td>3442f8959a84dea7ee197c632cb2df15</td>\n",
       "      <td>seller3442</td>\n",
       "      <td>bc8a5de6abf5b14f98a6135a7fb46731</td>\n",
       "      <td>2</td>\n",
       "      <td>325a06bcce0da45b7f4ecf2797dd40e4</td>\n",
       "      <td>cc77a6d63753c1d7b88b7c64630b97b9</td>\n",
       "      <td>3</td>\n",
       "      <td>Nenhum título</td>\n",
       "      <td>coprei tres ítens faltou entregar um</td>\n",
       "    </tr>\n",
       "    <tr>\n",
       "      <th>1</th>\n",
       "      <td>d1b65fc7debc3361ea86b5f14c68d2e2</td>\n",
       "      <td>sellerd1b6</td>\n",
       "      <td>035201c3c82a97f8a25dd6bd5244b2d5</td>\n",
       "      <td>1</td>\n",
       "      <td>1c36a5285f7f3b1ed2637d7c528ce5ff</td>\n",
       "      <td>27a894ac7d70600fd49d2ac3b910e65d</td>\n",
       "      <td>5</td>\n",
       "      <td>Nenhum título</td>\n",
       "      <td>A cor é muito diferente da foto.\\r\\nÉ uma ótim...</td>\n",
       "    </tr>\n",
       "    <tr>\n",
       "      <th>2</th>\n",
       "      <td>d1b65fc7debc3361ea86b5f14c68d2e2</td>\n",
       "      <td>sellerd1b6</td>\n",
       "      <td>0504447548229e075dea8441b37b1e2a</td>\n",
       "      <td>1</td>\n",
       "      <td>8852eb03b04ec3268a66e9b696e25f6f</td>\n",
       "      <td>265e6d99461ed7db35a7f48a00df7e6c</td>\n",
       "      <td>5</td>\n",
       "      <td>Nenhum título</td>\n",
       "      <td>excelente aquisição</td>\n",
       "    </tr>\n",
       "    <tr>\n",
       "      <th>3</th>\n",
       "      <td>d1b65fc7debc3361ea86b5f14c68d2e2</td>\n",
       "      <td>sellerd1b6</td>\n",
       "      <td>16fd9b360cbadca08b1026c8532820f5</td>\n",
       "      <td>1</td>\n",
       "      <td>f74ed500ab93d12ce3fbc611474d89af</td>\n",
       "      <td>90d1148c6f19ba228dfcfb87bdda1bca</td>\n",
       "      <td>5</td>\n",
       "      <td>Nenhum título</td>\n",
       "      <td>Produto idêntico a da foto, e entrega rápida. ...</td>\n",
       "    </tr>\n",
       "    <tr>\n",
       "      <th>4</th>\n",
       "      <td>d1b65fc7debc3361ea86b5f14c68d2e2</td>\n",
       "      <td>sellerd1b6</td>\n",
       "      <td>21fab12baaa93481ad76d02fa22255eb</td>\n",
       "      <td>1</td>\n",
       "      <td>4353af36fe588dc73497fa158ed6cefb</td>\n",
       "      <td>01be0a30ff6e06bfde5e1acc5c5f4a7d</td>\n",
       "      <td>5</td>\n",
       "      <td>Nenhum título</td>\n",
       "      <td>O produto é ótimo e a entrega foi antes do pre...</td>\n",
       "    </tr>\n",
       "  </tbody>\n",
       "</table>\n",
       "</div>"
      ],
      "text/plain": [
       "                          seller_id seller_name  \\\n",
       "0  3442f8959a84dea7ee197c632cb2df15  seller3442   \n",
       "1  d1b65fc7debc3361ea86b5f14c68d2e2  sellerd1b6   \n",
       "2  d1b65fc7debc3361ea86b5f14c68d2e2  sellerd1b6   \n",
       "3  d1b65fc7debc3361ea86b5f14c68d2e2  sellerd1b6   \n",
       "4  d1b65fc7debc3361ea86b5f14c68d2e2  sellerd1b6   \n",
       "\n",
       "                           order_id  order_item_id  \\\n",
       "0  bc8a5de6abf5b14f98a6135a7fb46731              2   \n",
       "1  035201c3c82a97f8a25dd6bd5244b2d5              1   \n",
       "2  0504447548229e075dea8441b37b1e2a              1   \n",
       "3  16fd9b360cbadca08b1026c8532820f5              1   \n",
       "4  21fab12baaa93481ad76d02fa22255eb              1   \n",
       "\n",
       "                         product_id                         review_id  \\\n",
       "0  325a06bcce0da45b7f4ecf2797dd40e4  cc77a6d63753c1d7b88b7c64630b97b9   \n",
       "1  1c36a5285f7f3b1ed2637d7c528ce5ff  27a894ac7d70600fd49d2ac3b910e65d   \n",
       "2  8852eb03b04ec3268a66e9b696e25f6f  265e6d99461ed7db35a7f48a00df7e6c   \n",
       "3  f74ed500ab93d12ce3fbc611474d89af  90d1148c6f19ba228dfcfb87bdda1bca   \n",
       "4  4353af36fe588dc73497fa158ed6cefb  01be0a30ff6e06bfde5e1acc5c5f4a7d   \n",
       "\n",
       "   review_score review_comment_title  \\\n",
       "0             3        Nenhum título   \n",
       "1             5        Nenhum título   \n",
       "2             5        Nenhum título   \n",
       "3             5        Nenhum título   \n",
       "4             5        Nenhum título   \n",
       "\n",
       "                              review_comment_message  \n",
       "0               coprei tres ítens faltou entregar um  \n",
       "1  A cor é muito diferente da foto.\\r\\nÉ uma ótim...  \n",
       "2                                excelente aquisição  \n",
       "3  Produto idêntico a da foto, e entrega rápida. ...  \n",
       "4  O produto é ótimo e a entrega foi antes do pre...  "
      ]
     },
     "execution_count": 2994,
     "metadata": {},
     "output_type": "execute_result"
    }
   ],
   "source": [
    "merge_df4.head()"
   ]
  },
  {
   "cell_type": "code",
   "execution_count": 2995,
   "id": "f30b6354-0899-4efe-9058-ad1415a4b6a3",
   "metadata": {},
   "outputs": [
    {
     "data": {
      "text/plain": [
       "(85223, 9)"
      ]
     },
     "execution_count": 2995,
     "metadata": {},
     "output_type": "execute_result"
    }
   ],
   "source": [
    "merge_df4.shape"
   ]
  },
  {
   "cell_type": "markdown",
   "id": "c65b8d1e-32a7-4b6d-a0bc-ad86caa6ad2c",
   "metadata": {},
   "source": [
    "**Calculando a média geral de todas as reviews**"
   ]
  },
  {
   "cell_type": "code",
   "execution_count": 2996,
   "id": "b818541d-2d69-4f5b-a9c1-67fc59c5d139",
   "metadata": {},
   "outputs": [
    {
     "data": {
      "text/plain": [
       "np.float64(4.051429778346221)"
      ]
     },
     "execution_count": 2996,
     "metadata": {},
     "output_type": "execute_result"
    }
   ],
   "source": [
    "general_mean = merge_df4['review_score'].mean()\n",
    "general_mean"
   ]
  },
  {
   "cell_type": "markdown",
   "id": "7f6680de-0e6f-42cf-ae44-57f60f2e8580",
   "metadata": {},
   "source": [
    "**Valor mínimo de reviews**"
   ]
  },
  {
   "cell_type": "code",
   "execution_count": 2997,
   "id": "69ea690c-a0ed-4378-b664-f573f5cd6d5b",
   "metadata": {},
   "outputs": [],
   "source": [
    "min_review_value = 25"
   ]
  },
  {
   "cell_type": "markdown",
   "id": "e0093eba-130f-4a11-a099-d3e58243b3ba",
   "metadata": {},
   "source": [
    "**Obtendo o total dos reviews score por seller e a contagem de reviews com agrupamento**"
   ]
  },
  {
   "cell_type": "code",
   "execution_count": 2998,
   "id": "af4b172d-6b4d-40be-8841-49c3205c85bc",
   "metadata": {},
   "outputs": [],
   "source": [
    "reviews_score_per_seller = merge_df4.groupby('seller_name').agg(\n",
    "    review_count = ('review_score', 'count'),\n",
    "    review_score_total = ('review_score', 'sum')\n",
    ").reset_index()"
   ]
  },
  {
   "cell_type": "code",
   "execution_count": 2999,
   "id": "e5d8e7ec-6f7f-46f1-b87c-184e18fb2af0",
   "metadata": {
    "scrolled": true
   },
   "outputs": [
    {
     "data": {
      "text/html": [
       "<div>\n",
       "<style scoped>\n",
       "    .dataframe tbody tr th:only-of-type {\n",
       "        vertical-align: middle;\n",
       "    }\n",
       "\n",
       "    .dataframe tbody tr th {\n",
       "        vertical-align: top;\n",
       "    }\n",
       "\n",
       "    .dataframe thead th {\n",
       "        text-align: right;\n",
       "    }\n",
       "</style>\n",
       "<table border=\"1\" class=\"dataframe\">\n",
       "  <thead>\n",
       "    <tr style=\"text-align: right;\">\n",
       "      <th></th>\n",
       "      <th>seller_name</th>\n",
       "      <th>review_count</th>\n",
       "      <th>review_score_total</th>\n",
       "    </tr>\n",
       "  </thead>\n",
       "  <tbody>\n",
       "    <tr>\n",
       "      <th>0</th>\n",
       "      <td>seller0015</td>\n",
       "      <td>3</td>\n",
       "      <td>11</td>\n",
       "    </tr>\n",
       "    <tr>\n",
       "      <th>1</th>\n",
       "      <td>seller001c</td>\n",
       "      <td>106</td>\n",
       "      <td>421</td>\n",
       "    </tr>\n",
       "    <tr>\n",
       "      <th>2</th>\n",
       "      <td>seller0021</td>\n",
       "      <td>55</td>\n",
       "      <td>222</td>\n",
       "    </tr>\n",
       "    <tr>\n",
       "      <th>3</th>\n",
       "      <td>seller0035</td>\n",
       "      <td>1</td>\n",
       "      <td>5</td>\n",
       "    </tr>\n",
       "    <tr>\n",
       "      <th>4</th>\n",
       "      <td>seller004c</td>\n",
       "      <td>77</td>\n",
       "      <td>309</td>\n",
       "    </tr>\n",
       "  </tbody>\n",
       "</table>\n",
       "</div>"
      ],
      "text/plain": [
       "  seller_name  review_count  review_score_total\n",
       "0  seller0015             3                  11\n",
       "1  seller001c           106                 421\n",
       "2  seller0021            55                 222\n",
       "3  seller0035             1                   5\n",
       "4  seller004c            77                 309"
      ]
     },
     "execution_count": 2999,
     "metadata": {},
     "output_type": "execute_result"
    }
   ],
   "source": [
    "reviews_score_per_seller.head()"
   ]
  },
  {
   "cell_type": "markdown",
   "id": "37b2013c-9218-4cec-8ded-6cc4ca36ba29",
   "metadata": {},
   "source": [
    "**Calculando a média bayesiana**\n",
    "\n",
    "media_bayesiana = (valor_minimo_reviews * nota_media_geral) + soma_notas_seller / (valor_minimo_reviews + numero_avaliacoes_sellers)"
   ]
  },
  {
   "cell_type": "code",
   "execution_count": 3000,
   "id": "97440814-e139-4879-a5f3-0b0b6fca985c",
   "metadata": {},
   "outputs": [],
   "source": [
    "reviews_score_per_seller['bayesian_avg'] = (((min_review_value*general_mean) + reviews_score_per_seller['review_score_total']) / (min_review_value + reviews_score_per_seller['review_count'])).round(2)"
   ]
  },
  {
   "cell_type": "code",
   "execution_count": 3001,
   "id": "8ca2d565-6f3c-4a6c-9607-6ce09aaf44a2",
   "metadata": {},
   "outputs": [
    {
     "data": {
      "text/html": [
       "<div>\n",
       "<style scoped>\n",
       "    .dataframe tbody tr th:only-of-type {\n",
       "        vertical-align: middle;\n",
       "    }\n",
       "\n",
       "    .dataframe tbody tr th {\n",
       "        vertical-align: top;\n",
       "    }\n",
       "\n",
       "    .dataframe thead th {\n",
       "        text-align: right;\n",
       "    }\n",
       "</style>\n",
       "<table border=\"1\" class=\"dataframe\">\n",
       "  <thead>\n",
       "    <tr style=\"text-align: right;\">\n",
       "      <th></th>\n",
       "      <th>seller_name</th>\n",
       "      <th>review_count</th>\n",
       "      <th>review_score_total</th>\n",
       "      <th>bayesian_avg</th>\n",
       "    </tr>\n",
       "  </thead>\n",
       "  <tbody>\n",
       "    <tr>\n",
       "      <th>0</th>\n",
       "      <td>seller0015</td>\n",
       "      <td>3</td>\n",
       "      <td>11</td>\n",
       "      <td>4.01</td>\n",
       "    </tr>\n",
       "    <tr>\n",
       "      <th>1</th>\n",
       "      <td>seller001c</td>\n",
       "      <td>106</td>\n",
       "      <td>421</td>\n",
       "      <td>3.99</td>\n",
       "    </tr>\n",
       "    <tr>\n",
       "      <th>2</th>\n",
       "      <td>seller0021</td>\n",
       "      <td>55</td>\n",
       "      <td>222</td>\n",
       "      <td>4.04</td>\n",
       "    </tr>\n",
       "    <tr>\n",
       "      <th>3</th>\n",
       "      <td>seller0035</td>\n",
       "      <td>1</td>\n",
       "      <td>5</td>\n",
       "      <td>4.09</td>\n",
       "    </tr>\n",
       "    <tr>\n",
       "      <th>4</th>\n",
       "      <td>seller004c</td>\n",
       "      <td>77</td>\n",
       "      <td>309</td>\n",
       "      <td>4.02</td>\n",
       "    </tr>\n",
       "    <tr>\n",
       "      <th>...</th>\n",
       "      <td>...</td>\n",
       "      <td>...</td>\n",
       "      <td>...</td>\n",
       "      <td>...</td>\n",
       "    </tr>\n",
       "    <tr>\n",
       "      <th>2545</th>\n",
       "      <td>sellerffad</td>\n",
       "      <td>15</td>\n",
       "      <td>73</td>\n",
       "      <td>4.36</td>\n",
       "    </tr>\n",
       "    <tr>\n",
       "      <th>2546</th>\n",
       "      <td>sellerffc4</td>\n",
       "      <td>30</td>\n",
       "      <td>129</td>\n",
       "      <td>4.19</td>\n",
       "    </tr>\n",
       "    <tr>\n",
       "      <th>2547</th>\n",
       "      <td>sellerffdd</td>\n",
       "      <td>17</td>\n",
       "      <td>72</td>\n",
       "      <td>4.13</td>\n",
       "    </tr>\n",
       "    <tr>\n",
       "      <th>2548</th>\n",
       "      <td>sellerffee</td>\n",
       "      <td>14</td>\n",
       "      <td>59</td>\n",
       "      <td>4.11</td>\n",
       "    </tr>\n",
       "    <tr>\n",
       "      <th>2549</th>\n",
       "      <td>sellerfffd</td>\n",
       "      <td>53</td>\n",
       "      <td>205</td>\n",
       "      <td>3.93</td>\n",
       "    </tr>\n",
       "  </tbody>\n",
       "</table>\n",
       "<p>2550 rows × 4 columns</p>\n",
       "</div>"
      ],
      "text/plain": [
       "     seller_name  review_count  review_score_total  bayesian_avg\n",
       "0     seller0015             3                  11          4.01\n",
       "1     seller001c           106                 421          3.99\n",
       "2     seller0021            55                 222          4.04\n",
       "3     seller0035             1                   5          4.09\n",
       "4     seller004c            77                 309          4.02\n",
       "...          ...           ...                 ...           ...\n",
       "2545  sellerffad            15                  73          4.36\n",
       "2546  sellerffc4            30                 129          4.19\n",
       "2547  sellerffdd            17                  72          4.13\n",
       "2548  sellerffee            14                  59          4.11\n",
       "2549  sellerfffd            53                 205          3.93\n",
       "\n",
       "[2550 rows x 4 columns]"
      ]
     },
     "execution_count": 3001,
     "metadata": {},
     "output_type": "execute_result"
    }
   ],
   "source": [
    "reviews_score_per_seller"
   ]
  },
  {
   "cell_type": "markdown",
   "id": "630ad1a7-e7ac-4f95-a080-acab14ff4ac2",
   "metadata": {},
   "source": [
    "**Ordenando pela média bayesiana**"
   ]
  },
  {
   "cell_type": "code",
   "execution_count": 3002,
   "id": "a2d203ed-1003-4b71-9c40-f701ea6b954d",
   "metadata": {},
   "outputs": [],
   "source": [
    "reviews_score_per_seller = reviews_score_per_seller.sort_values(by='bayesian_avg', ascending = False)"
   ]
  },
  {
   "cell_type": "code",
   "execution_count": 3003,
   "id": "31de45d7-2fd2-46cc-bc75-40c8a3447f1e",
   "metadata": {},
   "outputs": [
    {
     "data": {
      "text/html": [
       "<div>\n",
       "<style scoped>\n",
       "    .dataframe tbody tr th:only-of-type {\n",
       "        vertical-align: middle;\n",
       "    }\n",
       "\n",
       "    .dataframe tbody tr th {\n",
       "        vertical-align: top;\n",
       "    }\n",
       "\n",
       "    .dataframe thead th {\n",
       "        text-align: right;\n",
       "    }\n",
       "</style>\n",
       "<table border=\"1\" class=\"dataframe\">\n",
       "  <thead>\n",
       "    <tr style=\"text-align: right;\">\n",
       "      <th></th>\n",
       "      <th>seller_name</th>\n",
       "      <th>review_count</th>\n",
       "      <th>review_score_total</th>\n",
       "      <th>bayesian_avg</th>\n",
       "    </tr>\n",
       "  </thead>\n",
       "  <tbody>\n",
       "    <tr>\n",
       "      <th>0</th>\n",
       "      <td>sellerd13e</td>\n",
       "      <td>68</td>\n",
       "      <td>327</td>\n",
       "      <td>4.61</td>\n",
       "    </tr>\n",
       "    <tr>\n",
       "      <th>1</th>\n",
       "      <td>sellerd9bd</td>\n",
       "      <td>61</td>\n",
       "      <td>294</td>\n",
       "      <td>4.60</td>\n",
       "    </tr>\n",
       "    <tr>\n",
       "      <th>2</th>\n",
       "      <td>sellerd566</td>\n",
       "      <td>71</td>\n",
       "      <td>335</td>\n",
       "      <td>4.54</td>\n",
       "    </tr>\n",
       "    <tr>\n",
       "      <th>3</th>\n",
       "      <td>sellerb410</td>\n",
       "      <td>42</td>\n",
       "      <td>202</td>\n",
       "      <td>4.53</td>\n",
       "    </tr>\n",
       "    <tr>\n",
       "      <th>4</th>\n",
       "      <td>seller334c</td>\n",
       "      <td>26</td>\n",
       "      <td>129</td>\n",
       "      <td>4.52</td>\n",
       "    </tr>\n",
       "    <tr>\n",
       "      <th>...</th>\n",
       "      <td>...</td>\n",
       "      <td>...</td>\n",
       "      <td>...</td>\n",
       "      <td>...</td>\n",
       "    </tr>\n",
       "    <tr>\n",
       "      <th>2545</th>\n",
       "      <td>seller8e6d</td>\n",
       "      <td>132</td>\n",
       "      <td>400</td>\n",
       "      <td>3.19</td>\n",
       "    </tr>\n",
       "    <tr>\n",
       "      <th>2546</th>\n",
       "      <td>sellera499</td>\n",
       "      <td>84</td>\n",
       "      <td>230</td>\n",
       "      <td>3.04</td>\n",
       "    </tr>\n",
       "    <tr>\n",
       "      <th>2547</th>\n",
       "      <td>sellerb37c</td>\n",
       "      <td>14</td>\n",
       "      <td>16</td>\n",
       "      <td>3.01</td>\n",
       "    </tr>\n",
       "    <tr>\n",
       "      <th>2548</th>\n",
       "      <td>seller2eb7</td>\n",
       "      <td>195</td>\n",
       "      <td>547</td>\n",
       "      <td>2.95</td>\n",
       "    </tr>\n",
       "    <tr>\n",
       "      <th>2549</th>\n",
       "      <td>seller1ca7</td>\n",
       "      <td>126</td>\n",
       "      <td>286</td>\n",
       "      <td>2.56</td>\n",
       "    </tr>\n",
       "  </tbody>\n",
       "</table>\n",
       "<p>2550 rows × 4 columns</p>\n",
       "</div>"
      ],
      "text/plain": [
       "     seller_name  review_count  review_score_total  bayesian_avg\n",
       "0     sellerd13e            68                 327          4.61\n",
       "1     sellerd9bd            61                 294          4.60\n",
       "2     sellerd566            71                 335          4.54\n",
       "3     sellerb410            42                 202          4.53\n",
       "4     seller334c            26                 129          4.52\n",
       "...          ...           ...                 ...           ...\n",
       "2545  seller8e6d           132                 400          3.19\n",
       "2546  sellera499            84                 230          3.04\n",
       "2547  sellerb37c            14                  16          3.01\n",
       "2548  seller2eb7           195                 547          2.95\n",
       "2549  seller1ca7           126                 286          2.56\n",
       "\n",
       "[2550 rows x 4 columns]"
      ]
     },
     "execution_count": 3003,
     "metadata": {},
     "output_type": "execute_result"
    }
   ],
   "source": [
    "reviews_score_per_seller.reset_index(drop=True)"
   ]
  },
  {
   "cell_type": "markdown",
   "id": "da56ed11-3f5a-4a73-affb-5319a50b3a1c",
   "metadata": {},
   "source": [
    "### Exibindo em gráficos"
   ]
  },
  {
   "cell_type": "code",
   "execution_count": 3004,
   "id": "2b65d923-7ac4-4aea-90e9-19b8a9a244ff",
   "metadata": {},
   "outputs": [],
   "source": [
    "top10_best_sellers = reviews_score_per_seller.head(10)"
   ]
  },
  {
   "cell_type": "code",
   "execution_count": 3005,
   "id": "6b6d98b1-7cef-4453-8d11-fdea163b46b7",
   "metadata": {},
   "outputs": [],
   "source": [
    "top10_worst_sellers = reviews_score_per_seller.tail(10)"
   ]
  },
  {
   "cell_type": "markdown",
   "id": "8898f4d3-c7d9-4b40-b977-0b1b3585e42c",
   "metadata": {},
   "source": [
    "**Teste de normalidade Shapiro Wilk**\n",
    "\n",
    "Se p-value > 0,05\n",
    "\n",
    "Ho = segue uma distribuição normal\n",
    "\n",
    "Se p-value < 0,05\n",
    "\n",
    "Ha = não segue uma distribuição normal"
   ]
  },
  {
   "cell_type": "code",
   "execution_count": 3006,
   "id": "ed1aede9-24a9-4f0b-8656-d117f9f21a52",
   "metadata": {},
   "outputs": [],
   "source": [
    "import scipy.stats as stats"
   ]
  },
  {
   "cell_type": "code",
   "execution_count": 3007,
   "id": "1c00f36d-d0cd-4748-92af-8717493ff5f5",
   "metadata": {},
   "outputs": [
    {
     "name": "stdout",
     "output_type": "stream",
     "text": [
      "stat: 0.8078805977143213\n",
      "p-value: 0.01807271495089263\n"
     ]
    }
   ],
   "source": [
    "stat, p_value = stats.shapiro(top10_best_sellers['bayesian_avg'])\n",
    "print(f'stat: {stat}')\n",
    "print(f'p-value: {p_value}')"
   ]
  },
  {
   "cell_type": "markdown",
   "id": "0467826c-7c45-4547-b375-3dc94ca8a30d",
   "metadata": {},
   "source": [
    "**Top 10 maiores sellers não segue distribuição normal**"
   ]
  },
  {
   "cell_type": "code",
   "execution_count": 3008,
   "id": "5dce348f-0571-453b-aca0-2964aef709d9",
   "metadata": {},
   "outputs": [
    {
     "name": "stdout",
     "output_type": "stream",
     "text": [
      "stat: 0.7778379074030253\n",
      "p-value: 0.0077915997537407675\n"
     ]
    }
   ],
   "source": [
    "stat, p_value = stats.shapiro(top10_worst_sellers['bayesian_avg'])\n",
    "print(f'stat: {stat}')\n",
    "print(f'p-value: {p_value}')"
   ]
  },
  {
   "cell_type": "markdown",
   "id": "6d1368c7-4b66-444d-9410-a6a316379477",
   "metadata": {},
   "source": [
    "**Top 10 piores sellers não segue distribuição normal**"
   ]
  },
  {
   "cell_type": "markdown",
   "id": "0c7c624c-e67e-4239-b443-b7d2b5347056",
   "metadata": {},
   "source": [
    "### Visualização através do gráfico de linhas"
   ]
  },
  {
   "cell_type": "code",
   "execution_count": 3009,
   "id": "42a3f897-8017-48ef-9cf8-e3b34e95d725",
   "metadata": {},
   "outputs": [
    {
     "data": {
      "image/png": "[encoded data removed]",
      "text/plain": [
       "<Figure size 800x600 with 1 Axes>"
      ]
     },
     "metadata": {},
     "output_type": "display_data"
    }
   ],
   "source": [
    "plt.figure(figsize=(8,6))\n",
    "sns.lineplot(x='seller_name', y='bayesian_avg', data=top10_best_sellers)\n",
    "plt.title('Top 10 melhores sellers', fontsize=16)\n",
    "plt.ylabel('Média bayesiana', fontsize=12)\n",
    "plt.xlabel('Vendedores', fontsize=12)\n",
    "plt.grid(True)\n",
    "plt.xticks(rotation=45)\n",
    "plt.tight_layout()\n",
    "\n",
    "plt.show()"
   ]
  },
  {
   "cell_type": "markdown",
   "id": "242f8608-ec27-4912-892f-66ab0786eebf",
   "metadata": {
    "jp-MarkdownHeadingCollapsed": true
   },
   "source": [
    "# Top 10 piores sellers(com mais reviews negativas)"
   ]
  },
  {
   "cell_type": "code",
   "execution_count": 3010,
   "id": "d3dace56-bf95-4805-8b71-62070b01aad2",
   "metadata": {},
   "outputs": [
    {
     "data": {
      "image/png": "[encoded data removed]",
      "text/plain": [
       "<Figure size 800x600 with 1 Axes>"
      ]
     },
     "metadata": {},
     "output_type": "display_data"
    }
   ],
   "source": [
    "plt.figure(figsize=(8,6))\n",
    "sns.lineplot(x='seller_name', y='bayesian_avg', data=top10_worst_sellers)\n",
    "plt.title('Top 10 melhores sellers', fontsize=16)\n",
    "plt.ylabel('Média bayesiana', fontsize=12)\n",
    "plt.xlabel('Vendedores', fontsize=12)\n",
    "plt.grid(True)\n",
    "plt.xticks(rotation=45)\n",
    "plt.tight_layout()\n",
    "\n",
    "plt.show()"
   ]
  },
  {
   "cell_type": "markdown",
   "id": "f2ba2716-8e74-45a4-862c-29b23595e3a0",
   "metadata": {},
   "source": [
    "# Existe relação entre a quantidade de vendas e a quantidade de reviews para os sellers? É possível identificar aumento ou queda na venda de um seller com base nas avaliações do que já foi vendido no passado?"
   ]
  },
  {
   "cell_type": "markdown",
   "id": "ee2485bb-ab9e-47c3-bf65-82643ca3c8b3",
   "metadata": {},
   "source": [
    "## Existe relação entre a quantidade de vendas e a quantidade de reviews para os sellers?"
   ]
  },
  {
   "cell_type": "markdown",
   "id": "f0d53fe0-3707-4e23-988a-e66c41df9bea",
   "metadata": {},
   "source": [
    "Para verificar a relação entre a quantidade de vendas e a quantidade de reviews, resolvi utilizar a **correlação linear** que é representada pelo **Coeficiente de correlação de Pearson(r)**.\n",
    "\n",
    "Este coeficiente varia de -1 e +1.\n",
    "\n",
    "Se **r > 0**, à medida que a quantidade de vendas aumenta, a quantidade de reviews também aumenta.<br>\n",
    "Se **r < 0**, à medida que a quantidade de vendas aumenta, a quantidade de reviews tende a diminuir. <br>\n",
    "Se **r = 0**, não há relação linear entre as variáveis."
   ]
  },
  {
   "cell_type": "markdown",
   "id": "cfea9e7f-6d29-4078-b166-1d4a368aa6ea",
   "metadata": {},
   "source": [
    "- Refazendo os merges"
   ]
  },
  {
   "cell_type": "code",
   "execution_count": 3011,
   "id": "f9d8ca40-3f6f-459a-a57a-1dcfff912d06",
   "metadata": {},
   "outputs": [
    {
     "data": {
      "text/html": [
       "<div>\n",
       "<style scoped>\n",
       "    .dataframe tbody tr th:only-of-type {\n",
       "        vertical-align: middle;\n",
       "    }\n",
       "\n",
       "    .dataframe tbody tr th {\n",
       "        vertical-align: top;\n",
       "    }\n",
       "\n",
       "    .dataframe thead th {\n",
       "        text-align: right;\n",
       "    }\n",
       "</style>\n",
       "<table border=\"1\" class=\"dataframe\">\n",
       "  <thead>\n",
       "    <tr style=\"text-align: right;\">\n",
       "      <th></th>\n",
       "      <th>seller_id</th>\n",
       "      <th>seller_name</th>\n",
       "      <th>order_id</th>\n",
       "      <th>order_item_id</th>\n",
       "      <th>product_id</th>\n",
       "    </tr>\n",
       "  </thead>\n",
       "  <tbody>\n",
       "    <tr>\n",
       "      <th>0</th>\n",
       "      <td>3442f8959a84dea7ee197c632cb2df15</td>\n",
       "      <td>seller3442</td>\n",
       "      <td>4a90af3e85dd563884e2afeab1091394</td>\n",
       "      <td>1</td>\n",
       "      <td>ffb64e34a37740dafb6c88f1abd1fa61</td>\n",
       "    </tr>\n",
       "    <tr>\n",
       "      <th>1</th>\n",
       "      <td>3442f8959a84dea7ee197c632cb2df15</td>\n",
       "      <td>seller3442</td>\n",
       "      <td>6d953888a914b67350d5bc4d48f2acab</td>\n",
       "      <td>1</td>\n",
       "      <td>f4621f8ad6f54a2e3c408884068be46d</td>\n",
       "    </tr>\n",
       "    <tr>\n",
       "      <th>2</th>\n",
       "      <td>3442f8959a84dea7ee197c632cb2df15</td>\n",
       "      <td>seller3442</td>\n",
       "      <td>bc8a5de6abf5b14f98a6135a7fb46731</td>\n",
       "      <td>2</td>\n",
       "      <td>325a06bcce0da45b7f4ecf2797dd40e4</td>\n",
       "    </tr>\n",
       "    <tr>\n",
       "      <th>3</th>\n",
       "      <td>d1b65fc7debc3361ea86b5f14c68d2e2</td>\n",
       "      <td>sellerd1b6</td>\n",
       "      <td>035201c3c82a97f8a25dd6bd5244b2d5</td>\n",
       "      <td>1</td>\n",
       "      <td>1c36a5285f7f3b1ed2637d7c528ce5ff</td>\n",
       "    </tr>\n",
       "    <tr>\n",
       "      <th>4</th>\n",
       "      <td>d1b65fc7debc3361ea86b5f14c68d2e2</td>\n",
       "      <td>sellerd1b6</td>\n",
       "      <td>0504447548229e075dea8441b37b1e2a</td>\n",
       "      <td>1</td>\n",
       "      <td>8852eb03b04ec3268a66e9b696e25f6f</td>\n",
       "    </tr>\n",
       "  </tbody>\n",
       "</table>\n",
       "</div>"
      ],
      "text/plain": [
       "                          seller_id seller_name  \\\n",
       "0  3442f8959a84dea7ee197c632cb2df15  seller3442   \n",
       "1  3442f8959a84dea7ee197c632cb2df15  seller3442   \n",
       "2  3442f8959a84dea7ee197c632cb2df15  seller3442   \n",
       "3  d1b65fc7debc3361ea86b5f14c68d2e2  sellerd1b6   \n",
       "4  d1b65fc7debc3361ea86b5f14c68d2e2  sellerd1b6   \n",
       "\n",
       "                           order_id  order_item_id  \\\n",
       "0  4a90af3e85dd563884e2afeab1091394              1   \n",
       "1  6d953888a914b67350d5bc4d48f2acab              1   \n",
       "2  bc8a5de6abf5b14f98a6135a7fb46731              2   \n",
       "3  035201c3c82a97f8a25dd6bd5244b2d5              1   \n",
       "4  0504447548229e075dea8441b37b1e2a              1   \n",
       "\n",
       "                         product_id  \n",
       "0  ffb64e34a37740dafb6c88f1abd1fa61  \n",
       "1  f4621f8ad6f54a2e3c408884068be46d  \n",
       "2  325a06bcce0da45b7f4ecf2797dd40e4  \n",
       "3  1c36a5285f7f3b1ed2637d7c528ce5ff  \n",
       "4  8852eb03b04ec3268a66e9b696e25f6f  "
      ]
     },
     "execution_count": 3011,
     "metadata": {},
     "output_type": "execute_result"
    }
   ],
   "source": [
    "merge_df5 = pd.merge(sellers_df_names, order_items_df_cleaned, on='seller_id', how='inner')\n",
    "merge_df5.head()"
   ]
  },
  {
   "cell_type": "markdown",
   "id": "f9002420-0e1b-42e4-a123-dc5c42aa935d",
   "metadata": {},
   "source": [
    "- Merge com orders"
   ]
  },
  {
   "cell_type": "code",
   "execution_count": 3012,
   "id": "965d9df0-ae77-47f3-bfe8-830fb5219449",
   "metadata": {},
   "outputs": [
    {
     "data": {
      "text/html": [
       "<div>\n",
       "<style scoped>\n",
       "    .dataframe tbody tr th:only-of-type {\n",
       "        vertical-align: middle;\n",
       "    }\n",
       "\n",
       "    .dataframe tbody tr th {\n",
       "        vertical-align: top;\n",
       "    }\n",
       "\n",
       "    .dataframe thead th {\n",
       "        text-align: right;\n",
       "    }\n",
       "</style>\n",
       "<table border=\"1\" class=\"dataframe\">\n",
       "  <thead>\n",
       "    <tr style=\"text-align: right;\">\n",
       "      <th></th>\n",
       "      <th>seller_id</th>\n",
       "      <th>seller_name</th>\n",
       "      <th>order_id</th>\n",
       "      <th>order_item_id</th>\n",
       "      <th>product_id</th>\n",
       "    </tr>\n",
       "  </thead>\n",
       "  <tbody>\n",
       "    <tr>\n",
       "      <th>0</th>\n",
       "      <td>3442f8959a84dea7ee197c632cb2df15</td>\n",
       "      <td>seller3442</td>\n",
       "      <td>bc8a5de6abf5b14f98a6135a7fb46731</td>\n",
       "      <td>2</td>\n",
       "      <td>325a06bcce0da45b7f4ecf2797dd40e4</td>\n",
       "    </tr>\n",
       "    <tr>\n",
       "      <th>1</th>\n",
       "      <td>d1b65fc7debc3361ea86b5f14c68d2e2</td>\n",
       "      <td>sellerd1b6</td>\n",
       "      <td>035201c3c82a97f8a25dd6bd5244b2d5</td>\n",
       "      <td>1</td>\n",
       "      <td>1c36a5285f7f3b1ed2637d7c528ce5ff</td>\n",
       "    </tr>\n",
       "    <tr>\n",
       "      <th>2</th>\n",
       "      <td>d1b65fc7debc3361ea86b5f14c68d2e2</td>\n",
       "      <td>sellerd1b6</td>\n",
       "      <td>0504447548229e075dea8441b37b1e2a</td>\n",
       "      <td>1</td>\n",
       "      <td>8852eb03b04ec3268a66e9b696e25f6f</td>\n",
       "    </tr>\n",
       "    <tr>\n",
       "      <th>3</th>\n",
       "      <td>d1b65fc7debc3361ea86b5f14c68d2e2</td>\n",
       "      <td>sellerd1b6</td>\n",
       "      <td>16fd9b360cbadca08b1026c8532820f5</td>\n",
       "      <td>1</td>\n",
       "      <td>f74ed500ab93d12ce3fbc611474d89af</td>\n",
       "    </tr>\n",
       "    <tr>\n",
       "      <th>4</th>\n",
       "      <td>d1b65fc7debc3361ea86b5f14c68d2e2</td>\n",
       "      <td>sellerd1b6</td>\n",
       "      <td>21fab12baaa93481ad76d02fa22255eb</td>\n",
       "      <td>1</td>\n",
       "      <td>4353af36fe588dc73497fa158ed6cefb</td>\n",
       "    </tr>\n",
       "  </tbody>\n",
       "</table>\n",
       "</div>"
      ],
      "text/plain": [
       "                          seller_id seller_name  \\\n",
       "0  3442f8959a84dea7ee197c632cb2df15  seller3442   \n",
       "1  d1b65fc7debc3361ea86b5f14c68d2e2  sellerd1b6   \n",
       "2  d1b65fc7debc3361ea86b5f14c68d2e2  sellerd1b6   \n",
       "3  d1b65fc7debc3361ea86b5f14c68d2e2  sellerd1b6   \n",
       "4  d1b65fc7debc3361ea86b5f14c68d2e2  sellerd1b6   \n",
       "\n",
       "                           order_id  order_item_id  \\\n",
       "0  bc8a5de6abf5b14f98a6135a7fb46731              2   \n",
       "1  035201c3c82a97f8a25dd6bd5244b2d5              1   \n",
       "2  0504447548229e075dea8441b37b1e2a              1   \n",
       "3  16fd9b360cbadca08b1026c8532820f5              1   \n",
       "4  21fab12baaa93481ad76d02fa22255eb              1   \n",
       "\n",
       "                         product_id  \n",
       "0  325a06bcce0da45b7f4ecf2797dd40e4  \n",
       "1  1c36a5285f7f3b1ed2637d7c528ce5ff  \n",
       "2  8852eb03b04ec3268a66e9b696e25f6f  \n",
       "3  f74ed500ab93d12ce3fbc611474d89af  \n",
       "4  4353af36fe588dc73497fa158ed6cefb  "
      ]
     },
     "execution_count": 3012,
     "metadata": {},
     "output_type": "execute_result"
    }
   ],
   "source": [
    "merge_df5 = pd.merge(merge_df5, orders_df_cleaned, on='order_id', how='inner')\n",
    "merge_df5.head()"
   ]
  },
  {
   "cell_type": "markdown",
   "id": "61f95a54-7a1d-4666-b0a7-a12a4eda3191",
   "metadata": {},
   "source": [
    "- Left merge com reviews para manter todos os produtos vendidos e não só os que possuem reviews"
   ]
  },
  {
   "cell_type": "code",
   "execution_count": 3013,
   "id": "6180d5fb-18f5-4ec1-99ff-9d2b28a93aad",
   "metadata": {},
   "outputs": [
    {
     "data": {
      "text/html": [
       "<div>\n",
       "<style scoped>\n",
       "    .dataframe tbody tr th:only-of-type {\n",
       "        vertical-align: middle;\n",
       "    }\n",
       "\n",
       "    .dataframe tbody tr th {\n",
       "        vertical-align: top;\n",
       "    }\n",
       "\n",
       "    .dataframe thead th {\n",
       "        text-align: right;\n",
       "    }\n",
       "</style>\n",
       "<table border=\"1\" class=\"dataframe\">\n",
       "  <thead>\n",
       "    <tr style=\"text-align: right;\">\n",
       "      <th></th>\n",
       "      <th>seller_id</th>\n",
       "      <th>seller_name</th>\n",
       "      <th>order_id</th>\n",
       "      <th>order_item_id</th>\n",
       "      <th>product_id</th>\n",
       "      <th>review_id</th>\n",
       "      <th>review_score</th>\n",
       "      <th>review_comment_title</th>\n",
       "      <th>review_comment_message</th>\n",
       "    </tr>\n",
       "  </thead>\n",
       "  <tbody>\n",
       "    <tr>\n",
       "      <th>0</th>\n",
       "      <td>3442f8959a84dea7ee197c632cb2df15</td>\n",
       "      <td>seller3442</td>\n",
       "      <td>bc8a5de6abf5b14f98a6135a7fb46731</td>\n",
       "      <td>2</td>\n",
       "      <td>325a06bcce0da45b7f4ecf2797dd40e4</td>\n",
       "      <td>cc77a6d63753c1d7b88b7c64630b97b9</td>\n",
       "      <td>3.0</td>\n",
       "      <td>Nenhum título</td>\n",
       "      <td>coprei tres ítens faltou entregar um</td>\n",
       "    </tr>\n",
       "    <tr>\n",
       "      <th>1</th>\n",
       "      <td>d1b65fc7debc3361ea86b5f14c68d2e2</td>\n",
       "      <td>sellerd1b6</td>\n",
       "      <td>035201c3c82a97f8a25dd6bd5244b2d5</td>\n",
       "      <td>1</td>\n",
       "      <td>1c36a5285f7f3b1ed2637d7c528ce5ff</td>\n",
       "      <td>27a894ac7d70600fd49d2ac3b910e65d</td>\n",
       "      <td>5.0</td>\n",
       "      <td>Nenhum título</td>\n",
       "      <td>A cor é muito diferente da foto.\\r\\nÉ uma ótim...</td>\n",
       "    </tr>\n",
       "    <tr>\n",
       "      <th>2</th>\n",
       "      <td>d1b65fc7debc3361ea86b5f14c68d2e2</td>\n",
       "      <td>sellerd1b6</td>\n",
       "      <td>0504447548229e075dea8441b37b1e2a</td>\n",
       "      <td>1</td>\n",
       "      <td>8852eb03b04ec3268a66e9b696e25f6f</td>\n",
       "      <td>265e6d99461ed7db35a7f48a00df7e6c</td>\n",
       "      <td>5.0</td>\n",
       "      <td>Nenhum título</td>\n",
       "      <td>excelente aquisição</td>\n",
       "    </tr>\n",
       "    <tr>\n",
       "      <th>3</th>\n",
       "      <td>d1b65fc7debc3361ea86b5f14c68d2e2</td>\n",
       "      <td>sellerd1b6</td>\n",
       "      <td>16fd9b360cbadca08b1026c8532820f5</td>\n",
       "      <td>1</td>\n",
       "      <td>f74ed500ab93d12ce3fbc611474d89af</td>\n",
       "      <td>90d1148c6f19ba228dfcfb87bdda1bca</td>\n",
       "      <td>5.0</td>\n",
       "      <td>Nenhum título</td>\n",
       "      <td>Produto idêntico a da foto, e entrega rápida. ...</td>\n",
       "    </tr>\n",
       "    <tr>\n",
       "      <th>4</th>\n",
       "      <td>d1b65fc7debc3361ea86b5f14c68d2e2</td>\n",
       "      <td>sellerd1b6</td>\n",
       "      <td>21fab12baaa93481ad76d02fa22255eb</td>\n",
       "      <td>1</td>\n",
       "      <td>4353af36fe588dc73497fa158ed6cefb</td>\n",
       "      <td>01be0a30ff6e06bfde5e1acc5c5f4a7d</td>\n",
       "      <td>5.0</td>\n",
       "      <td>Nenhum título</td>\n",
       "      <td>O produto é ótimo e a entrega foi antes do pre...</td>\n",
       "    </tr>\n",
       "  </tbody>\n",
       "</table>\n",
       "</div>"
      ],
      "text/plain": [
       "                          seller_id seller_name  \\\n",
       "0  3442f8959a84dea7ee197c632cb2df15  seller3442   \n",
       "1  d1b65fc7debc3361ea86b5f14c68d2e2  sellerd1b6   \n",
       "2  d1b65fc7debc3361ea86b5f14c68d2e2  sellerd1b6   \n",
       "3  d1b65fc7debc3361ea86b5f14c68d2e2  sellerd1b6   \n",
       "4  d1b65fc7debc3361ea86b5f14c68d2e2  sellerd1b6   \n",
       "\n",
       "                           order_id  order_item_id  \\\n",
       "0  bc8a5de6abf5b14f98a6135a7fb46731              2   \n",
       "1  035201c3c82a97f8a25dd6bd5244b2d5              1   \n",
       "2  0504447548229e075dea8441b37b1e2a              1   \n",
       "3  16fd9b360cbadca08b1026c8532820f5              1   \n",
       "4  21fab12baaa93481ad76d02fa22255eb              1   \n",
       "\n",
       "                         product_id                         review_id  \\\n",
       "0  325a06bcce0da45b7f4ecf2797dd40e4  cc77a6d63753c1d7b88b7c64630b97b9   \n",
       "1  1c36a5285f7f3b1ed2637d7c528ce5ff  27a894ac7d70600fd49d2ac3b910e65d   \n",
       "2  8852eb03b04ec3268a66e9b696e25f6f  265e6d99461ed7db35a7f48a00df7e6c   \n",
       "3  f74ed500ab93d12ce3fbc611474d89af  90d1148c6f19ba228dfcfb87bdda1bca   \n",
       "4  4353af36fe588dc73497fa158ed6cefb  01be0a30ff6e06bfde5e1acc5c5f4a7d   \n",
       "\n",
       "   review_score review_comment_title  \\\n",
       "0           3.0        Nenhum título   \n",
       "1           5.0        Nenhum título   \n",
       "2           5.0        Nenhum título   \n",
       "3           5.0        Nenhum título   \n",
       "4           5.0        Nenhum título   \n",
       "\n",
       "                              review_comment_message  \n",
       "0               coprei tres ítens faltou entregar um  \n",
       "1  A cor é muito diferente da foto.\\r\\nÉ uma ótim...  \n",
       "2                                excelente aquisição  \n",
       "3  Produto idêntico a da foto, e entrega rápida. ...  \n",
       "4  O produto é ótimo e a entrega foi antes do pre...  "
      ]
     },
     "execution_count": 3013,
     "metadata": {},
     "output_type": "execute_result"
    }
   ],
   "source": [
    "merge_df5 = pd.merge(merge_df5, order_reviews_df_cleaned, on='order_id', how='left')\n",
    "merge_df5.head()"
   ]
  },
  {
   "cell_type": "code",
   "execution_count": 3014,
   "id": "2d477c2a-eb16-40e2-baa0-35c3488f77c1",
   "metadata": {},
   "outputs": [
    {
     "data": {
      "text/plain": [
       "(85841, 9)"
      ]
     },
     "execution_count": 3014,
     "metadata": {},
     "output_type": "execute_result"
    }
   ],
   "source": [
    "merge_df5.shape"
   ]
  },
  {
   "cell_type": "markdown",
   "id": "60255f13-7395-4fd8-829f-ef2d582d6619",
   "metadata": {},
   "source": [
    "### Valores nulos"
   ]
  },
  {
   "cell_type": "code",
   "execution_count": 3015,
   "id": "7d77bc20-cd5c-4950-9a25-57fa0f47e68c",
   "metadata": {},
   "outputs": [
    {
     "data": {
      "text/plain": [
       "seller_id                   0\n",
       "seller_name                 0\n",
       "order_id                    0\n",
       "order_item_id               0\n",
       "product_id                  0\n",
       "review_id                 618\n",
       "review_score              618\n",
       "review_comment_title      618\n",
       "review_comment_message    618\n",
       "dtype: int64"
      ]
     },
     "execution_count": 3015,
     "metadata": {},
     "output_type": "execute_result"
    }
   ],
   "source": [
    "merge_df5.isnull().sum()"
   ]
  },
  {
   "cell_type": "markdown",
   "id": "c68bb451-9120-4648-8d21-211e8e601bf4",
   "metadata": {},
   "source": [
    "### Duplicatas"
   ]
  },
  {
   "cell_type": "code",
   "execution_count": 3016,
   "id": "7eabac48-0570-46cf-8701-3bd8491a16db",
   "metadata": {},
   "outputs": [
    {
     "data": {
      "text/plain": [
       "np.int64(0)"
      ]
     },
     "execution_count": 3016,
     "metadata": {},
     "output_type": "execute_result"
    }
   ],
   "source": [
    "merge_df5.duplicated().sum()"
   ]
  },
  {
   "cell_type": "markdown",
   "id": "951ab1c3-25e8-44ef-a418-309a94a77f2e",
   "metadata": {},
   "source": [
    "### Agregação para obter a quantidade de produtos vendidos e a quantidade de reviews realizadas"
   ]
  },
  {
   "cell_type": "code",
   "execution_count": 3017,
   "id": "c35ed6bc-0bc6-441e-8460-359c3ea32aba",
   "metadata": {},
   "outputs": [],
   "source": [
    "correlation_sellers_reviews = merge_df5.groupby('seller_name').agg(\n",
    "    qnty_products_sold = ('seller_name', 'count'),\n",
    "    count_reviews = ('review_score', lambda x : x.notna().sum())\n",
    ").reset_index()"
   ]
  },
  {
   "cell_type": "code",
   "execution_count": 3018,
   "id": "a4072e72-1fb8-4881-a472-a87ef29c7fd4",
   "metadata": {},
   "outputs": [
    {
     "data": {
      "text/html": [
       "<div>\n",
       "<style scoped>\n",
       "    .dataframe tbody tr th:only-of-type {\n",
       "        vertical-align: middle;\n",
       "    }\n",
       "\n",
       "    .dataframe tbody tr th {\n",
       "        vertical-align: top;\n",
       "    }\n",
       "\n",
       "    .dataframe thead th {\n",
       "        text-align: right;\n",
       "    }\n",
       "</style>\n",
       "<table border=\"1\" class=\"dataframe\">\n",
       "  <thead>\n",
       "    <tr style=\"text-align: right;\">\n",
       "      <th></th>\n",
       "      <th>seller_name</th>\n",
       "      <th>qnty_products_sold</th>\n",
       "      <th>count_reviews</th>\n",
       "    </tr>\n",
       "  </thead>\n",
       "  <tbody>\n",
       "    <tr>\n",
       "      <th>0</th>\n",
       "      <td>seller0015</td>\n",
       "      <td>3</td>\n",
       "      <td>3</td>\n",
       "    </tr>\n",
       "    <tr>\n",
       "      <th>1</th>\n",
       "      <td>seller001c</td>\n",
       "      <td>107</td>\n",
       "      <td>106</td>\n",
       "    </tr>\n",
       "    <tr>\n",
       "      <th>2</th>\n",
       "      <td>seller0021</td>\n",
       "      <td>55</td>\n",
       "      <td>55</td>\n",
       "    </tr>\n",
       "    <tr>\n",
       "      <th>3</th>\n",
       "      <td>seller0035</td>\n",
       "      <td>1</td>\n",
       "      <td>1</td>\n",
       "    </tr>\n",
       "    <tr>\n",
       "      <th>4</th>\n",
       "      <td>seller004c</td>\n",
       "      <td>79</td>\n",
       "      <td>77</td>\n",
       "    </tr>\n",
       "  </tbody>\n",
       "</table>\n",
       "</div>"
      ],
      "text/plain": [
       "  seller_name  qnty_products_sold  count_reviews\n",
       "0  seller0015                   3              3\n",
       "1  seller001c                 107            106\n",
       "2  seller0021                  55             55\n",
       "3  seller0035                   1              1\n",
       "4  seller004c                  79             77"
      ]
     },
     "execution_count": 3018,
     "metadata": {},
     "output_type": "execute_result"
    }
   ],
   "source": [
    "correlation_sellers_reviews.head()"
   ]
  },
  {
   "cell_type": "markdown",
   "id": "b346bbcc-fdd4-4877-b8a3-c24a53a1801f",
   "metadata": {},
   "source": [
    "Criando uma coluna para evidenciar a difereça entre produtos vendidos e reviews realizadas"
   ]
  },
  {
   "cell_type": "code",
   "execution_count": 3019,
   "id": "31c383c3-54c8-4e89-acdf-4cd312cff8f8",
   "metadata": {},
   "outputs": [],
   "source": [
    "correlation_sellers_reviews['qnty_products_without_reviews'] = (\n",
    "    correlation_sellers_reviews['qnty_products_sold'] - correlation_sellers_reviews['count_reviews']\n",
    ")"
   ]
  },
  {
   "cell_type": "markdown",
   "id": "d55cd76a-0fcb-45d2-ba8b-2f0afd52d281",
   "metadata": {},
   "source": [
    "Abaixo é possível observar que **poucos clientes não deixam reviews sobre o produto**"
   ]
  },
  {
   "cell_type": "code",
   "execution_count": 3020,
   "id": "13fd1769-e4f8-4586-85a9-2b2be39a5bad",
   "metadata": {},
   "outputs": [
    {
     "data": {
      "text/html": [
       "<div>\n",
       "<style scoped>\n",
       "    .dataframe tbody tr th:only-of-type {\n",
       "        vertical-align: middle;\n",
       "    }\n",
       "\n",
       "    .dataframe tbody tr th {\n",
       "        vertical-align: top;\n",
       "    }\n",
       "\n",
       "    .dataframe thead th {\n",
       "        text-align: right;\n",
       "    }\n",
       "</style>\n",
       "<table border=\"1\" class=\"dataframe\">\n",
       "  <thead>\n",
       "    <tr style=\"text-align: right;\">\n",
       "      <th></th>\n",
       "      <th>seller_name</th>\n",
       "      <th>qnty_products_sold</th>\n",
       "      <th>count_reviews</th>\n",
       "      <th>qnty_products_without_reviews</th>\n",
       "    </tr>\n",
       "  </thead>\n",
       "  <tbody>\n",
       "    <tr>\n",
       "      <th>0</th>\n",
       "      <td>seller6560</td>\n",
       "      <td>1617</td>\n",
       "      <td>1604</td>\n",
       "      <td>13</td>\n",
       "    </tr>\n",
       "    <tr>\n",
       "      <th>1</th>\n",
       "      <td>seller1025</td>\n",
       "      <td>1390</td>\n",
       "      <td>1378</td>\n",
       "      <td>12</td>\n",
       "    </tr>\n",
       "    <tr>\n",
       "      <th>2</th>\n",
       "      <td>seller620c</td>\n",
       "      <td>550</td>\n",
       "      <td>539</td>\n",
       "      <td>11</td>\n",
       "    </tr>\n",
       "    <tr>\n",
       "      <th>3</th>\n",
       "      <td>seller955f</td>\n",
       "      <td>1443</td>\n",
       "      <td>1433</td>\n",
       "      <td>10</td>\n",
       "    </tr>\n",
       "    <tr>\n",
       "      <th>4</th>\n",
       "      <td>seller4a3c</td>\n",
       "      <td>1359</td>\n",
       "      <td>1350</td>\n",
       "      <td>9</td>\n",
       "    </tr>\n",
       "    <tr>\n",
       "      <th>...</th>\n",
       "      <td>...</td>\n",
       "      <td>...</td>\n",
       "      <td>...</td>\n",
       "      <td>...</td>\n",
       "    </tr>\n",
       "    <tr>\n",
       "      <th>2547</th>\n",
       "      <td>seller578f</td>\n",
       "      <td>3</td>\n",
       "      <td>3</td>\n",
       "      <td>0</td>\n",
       "    </tr>\n",
       "    <tr>\n",
       "      <th>2548</th>\n",
       "      <td>seller5795</td>\n",
       "      <td>6</td>\n",
       "      <td>6</td>\n",
       "      <td>0</td>\n",
       "    </tr>\n",
       "    <tr>\n",
       "      <th>2549</th>\n",
       "      <td>seller5798</td>\n",
       "      <td>6</td>\n",
       "      <td>6</td>\n",
       "      <td>0</td>\n",
       "    </tr>\n",
       "    <tr>\n",
       "      <th>2550</th>\n",
       "      <td>seller57a8</td>\n",
       "      <td>1</td>\n",
       "      <td>1</td>\n",
       "      <td>0</td>\n",
       "    </tr>\n",
       "    <tr>\n",
       "      <th>2551</th>\n",
       "      <td>seller56e3</td>\n",
       "      <td>10</td>\n",
       "      <td>10</td>\n",
       "      <td>0</td>\n",
       "    </tr>\n",
       "  </tbody>\n",
       "</table>\n",
       "<p>2552 rows × 4 columns</p>\n",
       "</div>"
      ],
      "text/plain": [
       "     seller_name  qnty_products_sold  count_reviews  \\\n",
       "0     seller6560                1617           1604   \n",
       "1     seller1025                1390           1378   \n",
       "2     seller620c                 550            539   \n",
       "3     seller955f                1443           1433   \n",
       "4     seller4a3c                1359           1350   \n",
       "...          ...                 ...            ...   \n",
       "2547  seller578f                   3              3   \n",
       "2548  seller5795                   6              6   \n",
       "2549  seller5798                   6              6   \n",
       "2550  seller57a8                   1              1   \n",
       "2551  seller56e3                  10             10   \n",
       "\n",
       "      qnty_products_without_reviews  \n",
       "0                                13  \n",
       "1                                12  \n",
       "2                                11  \n",
       "3                                10  \n",
       "4                                 9  \n",
       "...                             ...  \n",
       "2547                              0  \n",
       "2548                              0  \n",
       "2549                              0  \n",
       "2550                              0  \n",
       "2551                              0  \n",
       "\n",
       "[2552 rows x 4 columns]"
      ]
     },
     "execution_count": 3020,
     "metadata": {},
     "output_type": "execute_result"
    }
   ],
   "source": [
    "correlation_sellers_reviews = correlation_sellers_reviews.sort_values(by='qnty_products_without_reviews', ascending=False).reset_index(drop=True)\n",
    "correlation_sellers_reviews"
   ]
  },
  {
   "cell_type": "markdown",
   "id": "b49566cc-86cb-43ae-8cec-365e606c04f3",
   "metadata": {},
   "source": [
    "### Analisando a correlação através de um scatter plot\n",
    "\n",
    "A correlação é positiva e muito forte. Isso significa que **quanto mais produtos vendidos, maior tende a ser a quantidade de reviews recebidas.**"
   ]
  },
  {
   "cell_type": "code",
   "execution_count": 3021,
   "id": "3902a4b6-1d62-4733-bc0a-ed5c63f48c5a",
   "metadata": {},
   "outputs": [
    {
     "data": {
      "image/png": "[encoded data removed]",
      "text/plain": [
       "<Figure size 640x480 with 1 Axes>"
      ]
     },
     "metadata": {},
     "output_type": "display_data"
    }
   ],
   "source": [
    "plt.scatter(correlation_sellers_reviews.qnty_products_sold, correlation_sellers_reviews.count_reviews)\n",
    "plt.title('Correlação entre a quantidade de produtos vendidos e a quantidade de reviews')\n",
    "plt.xlabel('Quantidade de produtos vendidos')\n",
    "plt.ylabel('Quantidade de reviews')\n",
    "plt.grid(True)\n",
    "plt.show()"
   ]
  },
  {
   "cell_type": "markdown",
   "id": "0d1c0948-c567-428f-b2c8-4933fc330751",
   "metadata": {},
   "source": [
    "correlation = correlation_sellers_reviews['qnty_products_sold'].corr(correlation_sellers_reviews['count_reviews'], method='pearson')"
   ]
  },
  {
   "cell_type": "code",
   "execution_count": 3022,
   "id": "5f03acbb-d2d8-4085-ab46-a36c6404d540",
   "metadata": {},
   "outputs": [
    {
     "name": "stdout",
     "output_type": "stream",
     "text": [
      "Correlação entre quantidade de produtos vendidos e reviews: 0.999982253445691\n"
     ]
    }
   ],
   "source": [
    "print(f\"Correlação entre quantidade de produtos vendidos e reviews: {correlation}\")"
   ]
  },
  {
   "cell_type": "markdown",
   "id": "26ace56a-7fde-4093-a2a2-dd5220051a26",
   "metadata": {},
   "source": [
    "## É possível identificar aumento ou queda na venda de um seller com base nas avaliações do que já foi vendido no passado?\n",
    "\n",
    "A minha ideia é filtrar o dataset de orders novamente, porém considerando a **data mínima anterior(min_order_date) utilizada para filtrar os últimos 12 meses, como data máxima**. Dessa forma, eu subtraio 12 meses e terei os **dados do passado**."
   ]
  },
  {
   "cell_type": "markdown",
   "id": "9306fb51-bb60-4068-a3a1-35b78b2104e9",
   "metadata": {},
   "source": [
    "### Carregando o dataset novamente para evitar conflitos"
   ]
  },
  {
   "cell_type": "code",
   "execution_count": 3023,
   "id": "f3d78f95-60dc-4675-af2e-b4b2f8588ac1",
   "metadata": {},
   "outputs": [],
   "source": [
    "orders_dataset2 = pd.read_csv('/home/matsa/Documents/project_sprint02/data/olist_orders_dataset.csv')"
   ]
  },
  {
   "cell_type": "code",
   "execution_count": 3024,
   "id": "68bf5604-9ee3-4e9b-97c6-061fbe276fef",
   "metadata": {},
   "outputs": [],
   "source": [
    "orders_dataset2.dropna(axis=0, inplace=True)"
   ]
  },
  {
   "cell_type": "code",
   "execution_count": 3025,
   "id": "448484c5-51d9-46ab-a2ae-691246f19a1f",
   "metadata": {},
   "outputs": [],
   "source": [
    "orders_dataset2['order_approved_at'] = pd.to_datetime(orders_dataset2.order_approved_at)"
   ]
  },
  {
   "cell_type": "code",
   "execution_count": 3026,
   "id": "0f02b83f-085b-4417-8338-103b062da61b",
   "metadata": {},
   "outputs": [
    {
     "data": {
      "text/plain": [
       "Timestamp('2017-08-29 15:10:26')"
      ]
     },
     "execution_count": 3026,
     "metadata": {},
     "output_type": "execute_result"
    }
   ],
   "source": [
    "max_order_date2 = min_order_date\n",
    "max_order_date2"
   ]
  },
  {
   "cell_type": "code",
   "execution_count": 3027,
   "id": "1709d50c-23bd-4ab4-b982-5f1d0119f426",
   "metadata": {},
   "outputs": [
    {
     "data": {
      "text/plain": [
       "Timestamp('2016-08-29 15:10:26')"
      ]
     },
     "execution_count": 3027,
     "metadata": {},
     "output_type": "execute_result"
    }
   ],
   "source": [
    "min_order_date2 = max_order_date2 - pd.DateOffset(months=12)\n",
    "min_order_date2"
   ]
  },
  {
   "cell_type": "markdown",
   "id": "17e313a4-9179-4c53-acb6-d7ca38a94208",
   "metadata": {},
   "source": [
    "### Pegando as datas nos intervalos definidos"
   ]
  },
  {
   "cell_type": "code",
   "execution_count": 3028,
   "id": "56007951-e64e-46f7-80a1-a18ad5fed301",
   "metadata": {},
   "outputs": [],
   "source": [
    "past_orders_df_data = orders_dataset2.loc[(orders_dataset2.order_approved_at >= min_order_date2) &\n",
    "                                    (orders_dataset2.order_approved_at <= max_order_date2)]"
   ]
  },
  {
   "cell_type": "code",
   "execution_count": 3029,
   "id": "e58d5c84-8cd9-41c6-962e-0e93e5b8a714",
   "metadata": {},
   "outputs": [
    {
     "data": {
      "text/html": [
       "<div>\n",
       "<style scoped>\n",
       "    .dataframe tbody tr th:only-of-type {\n",
       "        vertical-align: middle;\n",
       "    }\n",
       "\n",
       "    .dataframe tbody tr th {\n",
       "        vertical-align: top;\n",
       "    }\n",
       "\n",
       "    .dataframe thead th {\n",
       "        text-align: right;\n",
       "    }\n",
       "</style>\n",
       "<table border=\"1\" class=\"dataframe\">\n",
       "  <thead>\n",
       "    <tr style=\"text-align: right;\">\n",
       "      <th></th>\n",
       "      <th>order_id</th>\n",
       "      <th>customer_id</th>\n",
       "      <th>order_status</th>\n",
       "      <th>order_purchase_timestamp</th>\n",
       "      <th>order_approved_at</th>\n",
       "      <th>order_delivered_carrier_date</th>\n",
       "      <th>order_delivered_customer_date</th>\n",
       "      <th>order_estimated_delivery_date</th>\n",
       "    </tr>\n",
       "  </thead>\n",
       "  <tbody>\n",
       "    <tr>\n",
       "      <th>5</th>\n",
       "      <td>a4591c265e18cb1dcee52889e2d8acc3</td>\n",
       "      <td>503740e9ca751ccdda7ba28e9ab8f608</td>\n",
       "      <td>delivered</td>\n",
       "      <td>2017-07-09 21:57:05</td>\n",
       "      <td>2017-07-09 22:10:13</td>\n",
       "      <td>2017-07-11 14:58:04</td>\n",
       "      <td>2017-07-26 10:57:55</td>\n",
       "      <td>2017-08-01 00:00:00</td>\n",
       "    </tr>\n",
       "    <tr>\n",
       "      <th>7</th>\n",
       "      <td>6514b8ad8028c9f2cc2374ded245783f</td>\n",
       "      <td>9bdf08b4b3b52b5526ff42d37d47f222</td>\n",
       "      <td>delivered</td>\n",
       "      <td>2017-05-16 13:10:30</td>\n",
       "      <td>2017-05-16 13:22:11</td>\n",
       "      <td>2017-05-22 10:07:46</td>\n",
       "      <td>2017-05-26 12:55:51</td>\n",
       "      <td>2017-06-07 00:00:00</td>\n",
       "    </tr>\n",
       "    <tr>\n",
       "      <th>8</th>\n",
       "      <td>76c6e866289321a7c93b82b54852dc33</td>\n",
       "      <td>f54a9f0e6b351c431402b8461ea51999</td>\n",
       "      <td>delivered</td>\n",
       "      <td>2017-01-23 18:29:09</td>\n",
       "      <td>2017-01-25 02:50:47</td>\n",
       "      <td>2017-01-26 14:16:31</td>\n",
       "      <td>2017-02-02 14:08:10</td>\n",
       "      <td>2017-03-06 00:00:00</td>\n",
       "    </tr>\n",
       "    <tr>\n",
       "      <th>9</th>\n",
       "      <td>e69bfb5eb88e0ed6a785585b27e16dbf</td>\n",
       "      <td>31ad1d1b63eb9962463f764d4e6e0c9d</td>\n",
       "      <td>delivered</td>\n",
       "      <td>2017-07-29 11:55:02</td>\n",
       "      <td>2017-07-29 12:05:32</td>\n",
       "      <td>2017-08-10 19:45:24</td>\n",
       "      <td>2017-08-16 17:14:30</td>\n",
       "      <td>2017-08-23 00:00:00</td>\n",
       "    </tr>\n",
       "    <tr>\n",
       "      <th>10</th>\n",
       "      <td>e6ce16cb79ec1d90b1da9085a6118aeb</td>\n",
       "      <td>494dded5b201313c64ed7f100595b95c</td>\n",
       "      <td>delivered</td>\n",
       "      <td>2017-05-16 19:41:10</td>\n",
       "      <td>2017-05-16 19:50:18</td>\n",
       "      <td>2017-05-18 11:40:40</td>\n",
       "      <td>2017-05-29 11:18:31</td>\n",
       "      <td>2017-06-07 00:00:00</td>\n",
       "    </tr>\n",
       "    <tr>\n",
       "      <th>...</th>\n",
       "      <td>...</td>\n",
       "      <td>...</td>\n",
       "      <td>...</td>\n",
       "      <td>...</td>\n",
       "      <td>...</td>\n",
       "      <td>...</td>\n",
       "      <td>...</td>\n",
       "      <td>...</td>\n",
       "    </tr>\n",
       "    <tr>\n",
       "      <th>99426</th>\n",
       "      <td>7cc85185736ea7f2d8bc09af7a47cab7</td>\n",
       "      <td>9e870ea67399650e8c3545a25d13e4d0</td>\n",
       "      <td>delivered</td>\n",
       "      <td>2017-05-15 09:46:26</td>\n",
       "      <td>2017-05-15 10:02:45</td>\n",
       "      <td>2017-05-15 14:11:06</td>\n",
       "      <td>2017-05-22 18:05:56</td>\n",
       "      <td>2017-06-07 00:00:00</td>\n",
       "    </tr>\n",
       "    <tr>\n",
       "      <th>99434</th>\n",
       "      <td>aa04ef5214580b06b10e2a378300db44</td>\n",
       "      <td>f01a6bfcc730456317e4081fe0c9940e</td>\n",
       "      <td>delivered</td>\n",
       "      <td>2017-01-27 00:30:03</td>\n",
       "      <td>2017-01-27 01:05:25</td>\n",
       "      <td>2017-01-30 11:40:16</td>\n",
       "      <td>2017-02-07 13:15:25</td>\n",
       "      <td>2017-03-17 00:00:00</td>\n",
       "    </tr>\n",
       "    <tr>\n",
       "      <th>99435</th>\n",
       "      <td>880675dff2150932f1601e1c07eadeeb</td>\n",
       "      <td>47cd45a6ac7b9fb16537df2ccffeb5ac</td>\n",
       "      <td>delivered</td>\n",
       "      <td>2017-02-23 09:05:12</td>\n",
       "      <td>2017-02-23 09:15:11</td>\n",
       "      <td>2017-03-01 10:22:52</td>\n",
       "      <td>2017-03-06 11:08:08</td>\n",
       "      <td>2017-03-22 00:00:00</td>\n",
       "    </tr>\n",
       "    <tr>\n",
       "      <th>99436</th>\n",
       "      <td>9c5dedf39a927c1b2549525ed64a053c</td>\n",
       "      <td>39bd1228ee8140590ac3aca26f2dfe00</td>\n",
       "      <td>delivered</td>\n",
       "      <td>2017-03-09 09:54:05</td>\n",
       "      <td>2017-03-09 09:54:05</td>\n",
       "      <td>2017-03-10 11:18:03</td>\n",
       "      <td>2017-03-17 15:08:01</td>\n",
       "      <td>2017-03-28 00:00:00</td>\n",
       "    </tr>\n",
       "    <tr>\n",
       "      <th>99438</th>\n",
       "      <td>83c1379a015df1e13d02aae0204711ab</td>\n",
       "      <td>1aa71eb042121263aafbe80c1b562c9c</td>\n",
       "      <td>delivered</td>\n",
       "      <td>2017-08-27 14:46:43</td>\n",
       "      <td>2017-08-27 15:04:16</td>\n",
       "      <td>2017-08-28 20:52:26</td>\n",
       "      <td>2017-09-21 11:24:17</td>\n",
       "      <td>2017-09-27 00:00:00</td>\n",
       "    </tr>\n",
       "  </tbody>\n",
       "</table>\n",
       "<p>21820 rows × 8 columns</p>\n",
       "</div>"
      ],
      "text/plain": [
       "                               order_id                       customer_id  \\\n",
       "5      a4591c265e18cb1dcee52889e2d8acc3  503740e9ca751ccdda7ba28e9ab8f608   \n",
       "7      6514b8ad8028c9f2cc2374ded245783f  9bdf08b4b3b52b5526ff42d37d47f222   \n",
       "8      76c6e866289321a7c93b82b54852dc33  f54a9f0e6b351c431402b8461ea51999   \n",
       "9      e69bfb5eb88e0ed6a785585b27e16dbf  31ad1d1b63eb9962463f764d4e6e0c9d   \n",
       "10     e6ce16cb79ec1d90b1da9085a6118aeb  494dded5b201313c64ed7f100595b95c   \n",
       "...                                 ...                               ...   \n",
       "99426  7cc85185736ea7f2d8bc09af7a47cab7  9e870ea67399650e8c3545a25d13e4d0   \n",
       "99434  aa04ef5214580b06b10e2a378300db44  f01a6bfcc730456317e4081fe0c9940e   \n",
       "99435  880675dff2150932f1601e1c07eadeeb  47cd45a6ac7b9fb16537df2ccffeb5ac   \n",
       "99436  9c5dedf39a927c1b2549525ed64a053c  39bd1228ee8140590ac3aca26f2dfe00   \n",
       "99438  83c1379a015df1e13d02aae0204711ab  1aa71eb042121263aafbe80c1b562c9c   \n",
       "\n",
       "      order_status order_purchase_timestamp   order_approved_at  \\\n",
       "5        delivered      2017-07-09 21:57:05 2017-07-09 22:10:13   \n",
       "7        delivered      2017-05-16 13:10:30 2017-05-16 13:22:11   \n",
       "8        delivered      2017-01-23 18:29:09 2017-01-25 02:50:47   \n",
       "9        delivered      2017-07-29 11:55:02 2017-07-29 12:05:32   \n",
       "10       delivered      2017-05-16 19:41:10 2017-05-16 19:50:18   \n",
       "...            ...                      ...                 ...   \n",
       "99426    delivered      2017-05-15 09:46:26 2017-05-15 10:02:45   \n",
       "99434    delivered      2017-01-27 00:30:03 2017-01-27 01:05:25   \n",
       "99435    delivered      2017-02-23 09:05:12 2017-02-23 09:15:11   \n",
       "99436    delivered      2017-03-09 09:54:05 2017-03-09 09:54:05   \n",
       "99438    delivered      2017-08-27 14:46:43 2017-08-27 15:04:16   \n",
       "\n",
       "      order_delivered_carrier_date order_delivered_customer_date  \\\n",
       "5              2017-07-11 14:58:04           2017-07-26 10:57:55   \n",
       "7              2017-05-22 10:07:46           2017-05-26 12:55:51   \n",
       "8              2017-01-26 14:16:31           2017-02-02 14:08:10   \n",
       "9              2017-08-10 19:45:24           2017-08-16 17:14:30   \n",
       "10             2017-05-18 11:40:40           2017-05-29 11:18:31   \n",
       "...                            ...                           ...   \n",
       "99426          2017-05-15 14:11:06           2017-05-22 18:05:56   \n",
       "99434          2017-01-30 11:40:16           2017-02-07 13:15:25   \n",
       "99435          2017-03-01 10:22:52           2017-03-06 11:08:08   \n",
       "99436          2017-03-10 11:18:03           2017-03-17 15:08:01   \n",
       "99438          2017-08-28 20:52:26           2017-09-21 11:24:17   \n",
       "\n",
       "      order_estimated_delivery_date  \n",
       "5               2017-08-01 00:00:00  \n",
       "7               2017-06-07 00:00:00  \n",
       "8               2017-03-06 00:00:00  \n",
       "9               2017-08-23 00:00:00  \n",
       "10              2017-06-07 00:00:00  \n",
       "...                             ...  \n",
       "99426           2017-06-07 00:00:00  \n",
       "99434           2017-03-17 00:00:00  \n",
       "99435           2017-03-22 00:00:00  \n",
       "99436           2017-03-28 00:00:00  \n",
       "99438           2017-09-27 00:00:00  \n",
       "\n",
       "[21820 rows x 8 columns]"
      ]
     },
     "execution_count": 3029,
     "metadata": {},
     "output_type": "execute_result"
    }
   ],
   "source": [
    "past_orders_df_data"
   ]
  },
  {
   "cell_type": "markdown",
   "id": "ce1ede4d-92dd-426f-a7ad-ebd03ceb36be",
   "metadata": {},
   "source": [
    "**Data mínima**"
   ]
  },
  {
   "cell_type": "code",
   "execution_count": 3030,
   "id": "3a6c3502-c07e-433a-a49b-b52c410b2f68",
   "metadata": {},
   "outputs": [
    {
     "data": {
      "text/plain": [
       "Timestamp('2016-09-15 12:16:38')"
      ]
     },
     "execution_count": 3030,
     "metadata": {},
     "output_type": "execute_result"
    }
   ],
   "source": [
    "past_orders_df_data.order_approved_at.min()"
   ]
  },
  {
   "cell_type": "markdown",
   "id": "439e02e8-1eac-4384-ac72-d513600ab3de",
   "metadata": {},
   "source": [
    "**Data máxima**"
   ]
  },
  {
   "cell_type": "code",
   "execution_count": 3031,
   "id": "5826a60c-1a3c-45bb-9f62-b94508c095ef",
   "metadata": {},
   "outputs": [
    {
     "data": {
      "text/plain": [
       "Timestamp('2017-08-29 14:50:16')"
      ]
     },
     "execution_count": 3031,
     "metadata": {},
     "output_type": "execute_result"
    }
   ],
   "source": [
    "past_orders_df_data.order_approved_at.max()"
   ]
  },
  {
   "cell_type": "markdown",
   "id": "c212fac7-963f-42e0-b58f-3d575fed1961",
   "metadata": {},
   "source": [
    "### Excluindo colunas"
   ]
  },
  {
   "cell_type": "code",
   "execution_count": 3032,
   "id": "b5da20e0-61e9-412a-b854-ceb23f8d8d99",
   "metadata": {},
   "outputs": [],
   "source": [
    "columns_drop = orders_dataset.columns[[3,5,6,7]]"
   ]
  },
  {
   "cell_type": "code",
   "execution_count": 3033,
   "id": "7ac19e52-0ba9-4d8d-922d-e17490a8e670",
   "metadata": {},
   "outputs": [],
   "source": [
    "past_orders_df_data = past_orders_df_data.drop(columns=columns_drop, axis=1)"
   ]
  },
  {
   "cell_type": "markdown",
   "id": "9ad1d383-818f-422f-8cc5-1c924e1b9864",
   "metadata": {},
   "source": [
    "### Merges"
   ]
  },
  {
   "cell_type": "markdown",
   "id": "481650c5-50e0-4e2c-bcc4-11bc47301e70",
   "metadata": {},
   "source": [
    "- Seller e Order Items"
   ]
  },
  {
   "cell_type": "code",
   "execution_count": 3034,
   "id": "7cb50902-aa6e-4133-9dc9-bd2159d0ba7f",
   "metadata": {},
   "outputs": [],
   "source": [
    "merge_df6 = pd.merge(sellers_df_cleaned, order_items_df_cleaned, on='seller_id', how='inner')"
   ]
  },
  {
   "cell_type": "markdown",
   "id": "4168f89d-df58-45b4-98f3-843178b64736",
   "metadata": {},
   "source": [
    "- Orders"
   ]
  },
  {
   "cell_type": "code",
   "execution_count": 3035,
   "id": "6b456172-21d5-45c6-be13-3aa87bd01af9",
   "metadata": {},
   "outputs": [],
   "source": [
    "merge_df6 = pd.merge(merge_df6, past_orders_df_data, on='order_id', how='inner')"
   ]
  },
  {
   "cell_type": "markdown",
   "id": "70165dca-795e-432a-8ce0-d4777a4a7bf7",
   "metadata": {},
   "source": [
    "- Reviews"
   ]
  },
  {
   "cell_type": "code",
   "execution_count": 3036,
   "id": "a8c10621-c6fc-4ba3-a9ed-67a85b4faa6b",
   "metadata": {},
   "outputs": [],
   "source": [
    "merge_df6 = pd.merge(merge_df6, order_reviews_df_cleaned, on='order_id', how='left')"
   ]
  },
  {
   "cell_type": "code",
   "execution_count": 3037,
   "id": "f1c64892-682f-4362-8785-90924be5c2be",
   "metadata": {},
   "outputs": [
    {
     "data": {
      "text/html": [
       "<div>\n",
       "<style scoped>\n",
       "    .dataframe tbody tr th:only-of-type {\n",
       "        vertical-align: middle;\n",
       "    }\n",
       "\n",
       "    .dataframe tbody tr th {\n",
       "        vertical-align: top;\n",
       "    }\n",
       "\n",
       "    .dataframe thead th {\n",
       "        text-align: right;\n",
       "    }\n",
       "</style>\n",
       "<table border=\"1\" class=\"dataframe\">\n",
       "  <thead>\n",
       "    <tr style=\"text-align: right;\">\n",
       "      <th></th>\n",
       "      <th>seller_id</th>\n",
       "      <th>seller_name</th>\n",
       "      <th>order_id</th>\n",
       "      <th>order_item_id</th>\n",
       "      <th>product_id</th>\n",
       "      <th>customer_id</th>\n",
       "      <th>order_status</th>\n",
       "      <th>order_approved_at</th>\n",
       "      <th>review_id</th>\n",
       "      <th>review_score</th>\n",
       "      <th>review_comment_title</th>\n",
       "      <th>review_comment_message</th>\n",
       "    </tr>\n",
       "  </thead>\n",
       "  <tbody>\n",
       "    <tr>\n",
       "      <th>0</th>\n",
       "      <td>3442f8959a84dea7ee197c632cb2df15</td>\n",
       "      <td>seller3442</td>\n",
       "      <td>4a90af3e85dd563884e2afeab1091394</td>\n",
       "      <td>1</td>\n",
       "      <td>ffb64e34a37740dafb6c88f1abd1fa61</td>\n",
       "      <td>9d6837f9700a3441e7183bff3bc4eef0</td>\n",
       "      <td>delivered</td>\n",
       "      <td>2017-08-21 20:50:19</td>\n",
       "      <td>88980a9c50a6909fa1fe35ddab8fa1e2</td>\n",
       "      <td>5.0</td>\n",
       "      <td>Nenhum título</td>\n",
       "      <td>Nenhuma mensagem</td>\n",
       "    </tr>\n",
       "    <tr>\n",
       "      <th>1</th>\n",
       "      <td>3442f8959a84dea7ee197c632cb2df15</td>\n",
       "      <td>seller3442</td>\n",
       "      <td>6d953888a914b67350d5bc4d48f2acab</td>\n",
       "      <td>1</td>\n",
       "      <td>f4621f8ad6f54a2e3c408884068be46d</td>\n",
       "      <td>a973c4e3ad82777add3fa188f91dacea</td>\n",
       "      <td>delivered</td>\n",
       "      <td>2017-05-05 16:25:11</td>\n",
       "      <td>b9b791819c5c1a5c6a4ffc7881f97fb5</td>\n",
       "      <td>1.0</td>\n",
       "      <td>Nenhum título</td>\n",
       "      <td>O pedido foi realizado no dia 5/5/2017, e até ...</td>\n",
       "    </tr>\n",
       "    <tr>\n",
       "      <th>2</th>\n",
       "      <td>d1b65fc7debc3361ea86b5f14c68d2e2</td>\n",
       "      <td>sellerd1b6</td>\n",
       "      <td>06e4e324b83309e575442446e34377d7</td>\n",
       "      <td>1</td>\n",
       "      <td>1c36a5285f7f3b1ed2637d7c528ce5ff</td>\n",
       "      <td>28635c64d8f2aee6e47124350f7ffb38</td>\n",
       "      <td>delivered</td>\n",
       "      <td>2017-06-23 02:25:24</td>\n",
       "      <td>b793725422d848517417f2e9ac1d4eb9</td>\n",
       "      <td>5.0</td>\n",
       "      <td>Nenhum título</td>\n",
       "      <td>Nenhuma mensagem</td>\n",
       "    </tr>\n",
       "    <tr>\n",
       "      <th>3</th>\n",
       "      <td>d1b65fc7debc3361ea86b5f14c68d2e2</td>\n",
       "      <td>sellerd1b6</td>\n",
       "      <td>1887b26eba419ce20f6fe34a6f88e80a</td>\n",
       "      <td>1</td>\n",
       "      <td>765c417cdc38443aaa558a0159a98591</td>\n",
       "      <td>23fe51c9d4d1b1cef50c57b3c0babf5e</td>\n",
       "      <td>delivered</td>\n",
       "      <td>2017-04-28 14:35:15</td>\n",
       "      <td>9de1a1b5a62567638d90dcaa1ef7c90f</td>\n",
       "      <td>5.0</td>\n",
       "      <td>Nenhum título</td>\n",
       "      <td>Nenhuma mensagem</td>\n",
       "    </tr>\n",
       "    <tr>\n",
       "      <th>4</th>\n",
       "      <td>d1b65fc7debc3361ea86b5f14c68d2e2</td>\n",
       "      <td>sellerd1b6</td>\n",
       "      <td>42f364e1317053c36378cc534b19ab6e</td>\n",
       "      <td>1</td>\n",
       "      <td>5073cb7b965df5f1fea32e8728782a8f</td>\n",
       "      <td>93a991179d5b741e60819f8adc163df3</td>\n",
       "      <td>delivered</td>\n",
       "      <td>2017-06-29 00:23:32</td>\n",
       "      <td>d53d6d8819cf34d405434432c234a0b4</td>\n",
       "      <td>4.0</td>\n",
       "      <td>Nenhum título</td>\n",
       "      <td>Material de boa qualidade e bonito..Só achei q...</td>\n",
       "    </tr>\n",
       "  </tbody>\n",
       "</table>\n",
       "</div>"
      ],
      "text/plain": [
       "                          seller_id seller_name  \\\n",
       "0  3442f8959a84dea7ee197c632cb2df15  seller3442   \n",
       "1  3442f8959a84dea7ee197c632cb2df15  seller3442   \n",
       "2  d1b65fc7debc3361ea86b5f14c68d2e2  sellerd1b6   \n",
       "3  d1b65fc7debc3361ea86b5f14c68d2e2  sellerd1b6   \n",
       "4  d1b65fc7debc3361ea86b5f14c68d2e2  sellerd1b6   \n",
       "\n",
       "                           order_id  order_item_id  \\\n",
       "0  4a90af3e85dd563884e2afeab1091394              1   \n",
       "1  6d953888a914b67350d5bc4d48f2acab              1   \n",
       "2  06e4e324b83309e575442446e34377d7              1   \n",
       "3  1887b26eba419ce20f6fe34a6f88e80a              1   \n",
       "4  42f364e1317053c36378cc534b19ab6e              1   \n",
       "\n",
       "                         product_id                       customer_id  \\\n",
       "0  ffb64e34a37740dafb6c88f1abd1fa61  9d6837f9700a3441e7183bff3bc4eef0   \n",
       "1  f4621f8ad6f54a2e3c408884068be46d  a973c4e3ad82777add3fa188f91dacea   \n",
       "2  1c36a5285f7f3b1ed2637d7c528ce5ff  28635c64d8f2aee6e47124350f7ffb38   \n",
       "3  765c417cdc38443aaa558a0159a98591  23fe51c9d4d1b1cef50c57b3c0babf5e   \n",
       "4  5073cb7b965df5f1fea32e8728782a8f  93a991179d5b741e60819f8adc163df3   \n",
       "\n",
       "  order_status   order_approved_at                         review_id  \\\n",
       "0    delivered 2017-08-21 20:50:19  88980a9c50a6909fa1fe35ddab8fa1e2   \n",
       "1    delivered 2017-05-05 16:25:11  b9b791819c5c1a5c6a4ffc7881f97fb5   \n",
       "2    delivered 2017-06-23 02:25:24  b793725422d848517417f2e9ac1d4eb9   \n",
       "3    delivered 2017-04-28 14:35:15  9de1a1b5a62567638d90dcaa1ef7c90f   \n",
       "4    delivered 2017-06-29 00:23:32  d53d6d8819cf34d405434432c234a0b4   \n",
       "\n",
       "   review_score review_comment_title  \\\n",
       "0           5.0        Nenhum título   \n",
       "1           1.0        Nenhum título   \n",
       "2           5.0        Nenhum título   \n",
       "3           5.0        Nenhum título   \n",
       "4           4.0        Nenhum título   \n",
       "\n",
       "                              review_comment_message  \n",
       "0                                   Nenhuma mensagem  \n",
       "1  O pedido foi realizado no dia 5/5/2017, e até ...  \n",
       "2                                   Nenhuma mensagem  \n",
       "3                                   Nenhuma mensagem  \n",
       "4  Material de boa qualidade e bonito..Só achei q...  "
      ]
     },
     "execution_count": 3037,
     "metadata": {},
     "output_type": "execute_result"
    }
   ],
   "source": [
    "merge_df6.head()"
   ]
  },
  {
   "cell_type": "markdown",
   "id": "1c05f24d-f752-4bf3-9e9d-9b14b8834e3f",
   "metadata": {},
   "source": [
    "### Agregação para obter a quantidade de produtos vendidos e a quantidade de reviews realizadas"
   ]
  },
  {
   "cell_type": "code",
   "execution_count": 3038,
   "id": "e4aaf4c3-0d47-4760-96e3-1c76d5e1c06c",
   "metadata": {},
   "outputs": [],
   "source": [
    "correlation_sellers_reviews_past = merge_df6.groupby('seller_name').agg(\n",
    "    qnty_products_sold = ('seller_name', 'count'),\n",
    "    count_reviews = ('review_score', lambda x : x.notna().sum())\n",
    ").reset_index()"
   ]
  },
  {
   "cell_type": "markdown",
   "id": "aabdb75f-1716-479f-9a9f-63db46f5c815",
   "metadata": {},
   "source": [
    "Criando a coluna de quantidade de produtos sem reviews"
   ]
  },
  {
   "cell_type": "code",
   "execution_count": 3039,
   "id": "73c5f779-f488-4c25-b7e2-aa5d449fd78c",
   "metadata": {},
   "outputs": [],
   "source": [
    "correlation_sellers_reviews_past['qnty_products_without_reviews'] = (\n",
    "    correlation_sellers_reviews_past['qnty_products_sold'] - correlation_sellers_reviews_past['count_reviews']\n",
    ")"
   ]
  },
  {
   "cell_type": "code",
   "execution_count": 3040,
   "id": "8ca30843-ef3e-46d0-9506-87420a8087e4",
   "metadata": {},
   "outputs": [
    {
     "data": {
      "text/html": [
       "<div>\n",
       "<style scoped>\n",
       "    .dataframe tbody tr th:only-of-type {\n",
       "        vertical-align: middle;\n",
       "    }\n",
       "\n",
       "    .dataframe tbody tr th {\n",
       "        vertical-align: top;\n",
       "    }\n",
       "\n",
       "    .dataframe thead th {\n",
       "        text-align: right;\n",
       "    }\n",
       "</style>\n",
       "<table border=\"1\" class=\"dataframe\">\n",
       "  <thead>\n",
       "    <tr style=\"text-align: right;\">\n",
       "      <th></th>\n",
       "      <th>seller_name</th>\n",
       "      <th>qnty_products_sold</th>\n",
       "      <th>count_reviews</th>\n",
       "      <th>qnty_products_without_reviews</th>\n",
       "    </tr>\n",
       "  </thead>\n",
       "  <tbody>\n",
       "    <tr>\n",
       "      <th>0</th>\n",
       "      <td>sellerce27</td>\n",
       "      <td>108</td>\n",
       "      <td>84</td>\n",
       "      <td>24</td>\n",
       "    </tr>\n",
       "    <tr>\n",
       "      <th>1</th>\n",
       "      <td>seller4a3c</td>\n",
       "      <td>686</td>\n",
       "      <td>673</td>\n",
       "      <td>13</td>\n",
       "    </tr>\n",
       "    <tr>\n",
       "      <th>2</th>\n",
       "      <td>sellercca3</td>\n",
       "      <td>521</td>\n",
       "      <td>512</td>\n",
       "      <td>9</td>\n",
       "    </tr>\n",
       "    <tr>\n",
       "      <th>3</th>\n",
       "      <td>sellerc42f</td>\n",
       "      <td>11</td>\n",
       "      <td>6</td>\n",
       "      <td>5</td>\n",
       "    </tr>\n",
       "    <tr>\n",
       "      <th>4</th>\n",
       "      <td>sellerd237</td>\n",
       "      <td>255</td>\n",
       "      <td>250</td>\n",
       "      <td>5</td>\n",
       "    </tr>\n",
       "    <tr>\n",
       "      <th>...</th>\n",
       "      <td>...</td>\n",
       "      <td>...</td>\n",
       "      <td>...</td>\n",
       "      <td>...</td>\n",
       "    </tr>\n",
       "    <tr>\n",
       "      <th>1150</th>\n",
       "      <td>sellerfe4c</td>\n",
       "      <td>2</td>\n",
       "      <td>2</td>\n",
       "      <td>0</td>\n",
       "    </tr>\n",
       "    <tr>\n",
       "      <th>1151</th>\n",
       "      <td>sellerfe1b</td>\n",
       "      <td>10</td>\n",
       "      <td>10</td>\n",
       "      <td>0</td>\n",
       "    </tr>\n",
       "    <tr>\n",
       "      <th>1152</th>\n",
       "      <td>sellerfe19</td>\n",
       "      <td>1</td>\n",
       "      <td>1</td>\n",
       "      <td>0</td>\n",
       "    </tr>\n",
       "    <tr>\n",
       "      <th>1153</th>\n",
       "      <td>sellerfdb9</td>\n",
       "      <td>31</td>\n",
       "      <td>31</td>\n",
       "      <td>0</td>\n",
       "    </tr>\n",
       "    <tr>\n",
       "      <th>1154</th>\n",
       "      <td>sellerfd31</td>\n",
       "      <td>4</td>\n",
       "      <td>4</td>\n",
       "      <td>0</td>\n",
       "    </tr>\n",
       "  </tbody>\n",
       "</table>\n",
       "<p>1155 rows × 4 columns</p>\n",
       "</div>"
      ],
      "text/plain": [
       "     seller_name  qnty_products_sold  count_reviews  \\\n",
       "0     sellerce27                 108             84   \n",
       "1     seller4a3c                 686            673   \n",
       "2     sellercca3                 521            512   \n",
       "3     sellerc42f                  11              6   \n",
       "4     sellerd237                 255            250   \n",
       "...          ...                 ...            ...   \n",
       "1150  sellerfe4c                   2              2   \n",
       "1151  sellerfe1b                  10             10   \n",
       "1152  sellerfe19                   1              1   \n",
       "1153  sellerfdb9                  31             31   \n",
       "1154  sellerfd31                   4              4   \n",
       "\n",
       "      qnty_products_without_reviews  \n",
       "0                                24  \n",
       "1                                13  \n",
       "2                                 9  \n",
       "3                                 5  \n",
       "4                                 5  \n",
       "...                             ...  \n",
       "1150                              0  \n",
       "1151                              0  \n",
       "1152                              0  \n",
       "1153                              0  \n",
       "1154                              0  \n",
       "\n",
       "[1155 rows x 4 columns]"
      ]
     },
     "execution_count": 3040,
     "metadata": {},
     "output_type": "execute_result"
    }
   ],
   "source": [
    "correlation_sellers_reviews_past = correlation_sellers_reviews_past.sort_values(by='qnty_products_without_reviews', ascending=False).reset_index(drop=True)\n",
    "correlation_sellers_reviews_past"
   ]
  },
  {
   "cell_type": "markdown",
   "id": "96fc06ff-2a03-4737-a844-4f22d357880d",
   "metadata": {},
   "source": [
    "### Merge dos dataframes dos dois intervalos de tempo utilizados"
   ]
  },
  {
   "cell_type": "code",
   "execution_count": 3041,
   "id": "3f8d0a35-eb1a-4e6e-a2d3-30b743afbe2d",
   "metadata": {},
   "outputs": [],
   "source": [
    "dates_interval_comparasion = pd.merge(correlation_sellers_reviews_past, correlation_sellers_reviews, on='seller_name', how='inner', suffixes=('_past', '_current'))"
   ]
  },
  {
   "cell_type": "code",
   "execution_count": 3042,
   "id": "5a3ffd43-cc37-48f2-909b-9afb0a4fc2ee",
   "metadata": {},
   "outputs": [
    {
     "data": {
      "text/html": [
       "<div>\n",
       "<style scoped>\n",
       "    .dataframe tbody tr th:only-of-type {\n",
       "        vertical-align: middle;\n",
       "    }\n",
       "\n",
       "    .dataframe tbody tr th {\n",
       "        vertical-align: top;\n",
       "    }\n",
       "\n",
       "    .dataframe thead th {\n",
       "        text-align: right;\n",
       "    }\n",
       "</style>\n",
       "<table border=\"1\" class=\"dataframe\">\n",
       "  <thead>\n",
       "    <tr style=\"text-align: right;\">\n",
       "      <th></th>\n",
       "      <th>seller_name</th>\n",
       "      <th>qnty_products_sold_past</th>\n",
       "      <th>count_reviews_past</th>\n",
       "      <th>qnty_products_without_reviews_past</th>\n",
       "      <th>qnty_products_sold_current</th>\n",
       "      <th>count_reviews_current</th>\n",
       "      <th>qnty_products_without_reviews_current</th>\n",
       "    </tr>\n",
       "  </thead>\n",
       "  <tbody>\n",
       "    <tr>\n",
       "      <th>0</th>\n",
       "      <td>sellerce27</td>\n",
       "      <td>108</td>\n",
       "      <td>84</td>\n",
       "      <td>24</td>\n",
       "      <td>43</td>\n",
       "      <td>43</td>\n",
       "      <td>0</td>\n",
       "    </tr>\n",
       "    <tr>\n",
       "      <th>1</th>\n",
       "      <td>seller4a3c</td>\n",
       "      <td>686</td>\n",
       "      <td>673</td>\n",
       "      <td>13</td>\n",
       "      <td>1359</td>\n",
       "      <td>1350</td>\n",
       "      <td>9</td>\n",
       "    </tr>\n",
       "    <tr>\n",
       "      <th>2</th>\n",
       "      <td>sellercca3</td>\n",
       "      <td>521</td>\n",
       "      <td>512</td>\n",
       "      <td>9</td>\n",
       "      <td>312</td>\n",
       "      <td>304</td>\n",
       "      <td>8</td>\n",
       "    </tr>\n",
       "    <tr>\n",
       "      <th>3</th>\n",
       "      <td>sellerd237</td>\n",
       "      <td>255</td>\n",
       "      <td>250</td>\n",
       "      <td>5</td>\n",
       "      <td>391</td>\n",
       "      <td>389</td>\n",
       "      <td>2</td>\n",
       "    </tr>\n",
       "    <tr>\n",
       "      <th>4</th>\n",
       "      <td>sellera673</td>\n",
       "      <td>32</td>\n",
       "      <td>28</td>\n",
       "      <td>4</td>\n",
       "      <td>112</td>\n",
       "      <td>110</td>\n",
       "      <td>2</td>\n",
       "    </tr>\n",
       "  </tbody>\n",
       "</table>\n",
       "</div>"
      ],
      "text/plain": [
       "  seller_name  qnty_products_sold_past  count_reviews_past  \\\n",
       "0  sellerce27                      108                  84   \n",
       "1  seller4a3c                      686                 673   \n",
       "2  sellercca3                      521                 512   \n",
       "3  sellerd237                      255                 250   \n",
       "4  sellera673                       32                  28   \n",
       "\n",
       "   qnty_products_without_reviews_past  qnty_products_sold_current  \\\n",
       "0                                  24                          43   \n",
       "1                                  13                        1359   \n",
       "2                                   9                         312   \n",
       "3                                   5                         391   \n",
       "4                                   4                         112   \n",
       "\n",
       "   count_reviews_current  qnty_products_without_reviews_current  \n",
       "0                     43                                      0  \n",
       "1                   1350                                      9  \n",
       "2                    304                                      8  \n",
       "3                    389                                      2  \n",
       "4                    110                                      2  "
      ]
     },
     "execution_count": 3042,
     "metadata": {},
     "output_type": "execute_result"
    }
   ],
   "source": [
    "dates_interval_comparasion.head()"
   ]
  },
  {
   "cell_type": "markdown",
   "id": "6b57a243-d6c8-4aac-91ea-7136790873de",
   "metadata": {},
   "source": [
    "### Ordenação da quantidade de produtos vendidos dos intervalos de tempo para cada seller"
   ]
  },
  {
   "cell_type": "code",
   "execution_count": 3043,
   "id": "0fe512c9-979f-475c-a899-de4abb78ecab",
   "metadata": {},
   "outputs": [],
   "source": [
    "dates_interval_comparasion = dates_interval_comparasion.sort_values(by=['qnty_products_sold_past', 'qnty_products_sold_current'], ascending=False).reset_index(drop=True)"
   ]
  },
  {
   "cell_type": "code",
   "execution_count": 3044,
   "id": "d84d473f-04a0-42ce-b702-52eaec8e2870",
   "metadata": {},
   "outputs": [
    {
     "data": {
      "text/html": [
       "<div>\n",
       "<style scoped>\n",
       "    .dataframe tbody tr th:only-of-type {\n",
       "        vertical-align: middle;\n",
       "    }\n",
       "\n",
       "    .dataframe tbody tr th {\n",
       "        vertical-align: top;\n",
       "    }\n",
       "\n",
       "    .dataframe thead th {\n",
       "        text-align: right;\n",
       "    }\n",
       "</style>\n",
       "<table border=\"1\" class=\"dataframe\">\n",
       "  <thead>\n",
       "    <tr style=\"text-align: right;\">\n",
       "      <th></th>\n",
       "      <th>seller_name</th>\n",
       "      <th>qnty_products_sold_past</th>\n",
       "      <th>count_reviews_past</th>\n",
       "      <th>qnty_products_without_reviews_past</th>\n",
       "      <th>qnty_products_sold_current</th>\n",
       "      <th>count_reviews_current</th>\n",
       "      <th>qnty_products_without_reviews_current</th>\n",
       "    </tr>\n",
       "  </thead>\n",
       "  <tbody>\n",
       "    <tr>\n",
       "      <th>0</th>\n",
       "      <td>seller4a3c</td>\n",
       "      <td>686</td>\n",
       "      <td>673</td>\n",
       "      <td>13</td>\n",
       "      <td>1359</td>\n",
       "      <td>1350</td>\n",
       "      <td>9</td>\n",
       "    </tr>\n",
       "    <tr>\n",
       "      <th>1</th>\n",
       "      <td>sellercc41</td>\n",
       "      <td>547</td>\n",
       "      <td>545</td>\n",
       "      <td>2</td>\n",
       "      <td>1212</td>\n",
       "      <td>1210</td>\n",
       "      <td>2</td>\n",
       "    </tr>\n",
       "    <tr>\n",
       "      <th>2</th>\n",
       "      <td>seller7a67</td>\n",
       "      <td>545</td>\n",
       "      <td>542</td>\n",
       "      <td>3</td>\n",
       "      <td>611</td>\n",
       "      <td>606</td>\n",
       "      <td>5</td>\n",
       "    </tr>\n",
       "    <tr>\n",
       "      <th>3</th>\n",
       "      <td>sellercca3</td>\n",
       "      <td>521</td>\n",
       "      <td>512</td>\n",
       "      <td>9</td>\n",
       "      <td>312</td>\n",
       "      <td>304</td>\n",
       "      <td>8</td>\n",
       "    </tr>\n",
       "    <tr>\n",
       "      <th>4</th>\n",
       "      <td>seller6560</td>\n",
       "      <td>385</td>\n",
       "      <td>381</td>\n",
       "      <td>4</td>\n",
       "      <td>1617</td>\n",
       "      <td>1604</td>\n",
       "      <td>13</td>\n",
       "    </tr>\n",
       "    <tr>\n",
       "      <th>...</th>\n",
       "      <td>...</td>\n",
       "      <td>...</td>\n",
       "      <td>...</td>\n",
       "      <td>...</td>\n",
       "      <td>...</td>\n",
       "      <td>...</td>\n",
       "      <td>...</td>\n",
       "    </tr>\n",
       "    <tr>\n",
       "      <th>820</th>\n",
       "      <td>sellerc161</td>\n",
       "      <td>1</td>\n",
       "      <td>1</td>\n",
       "      <td>0</td>\n",
       "      <td>1</td>\n",
       "      <td>1</td>\n",
       "      <td>0</td>\n",
       "    </tr>\n",
       "    <tr>\n",
       "      <th>821</th>\n",
       "      <td>sellerc76d</td>\n",
       "      <td>1</td>\n",
       "      <td>1</td>\n",
       "      <td>0</td>\n",
       "      <td>1</td>\n",
       "      <td>1</td>\n",
       "      <td>0</td>\n",
       "    </tr>\n",
       "    <tr>\n",
       "      <th>822</th>\n",
       "      <td>sellerdd8a</td>\n",
       "      <td>1</td>\n",
       "      <td>1</td>\n",
       "      <td>0</td>\n",
       "      <td>1</td>\n",
       "      <td>1</td>\n",
       "      <td>0</td>\n",
       "    </tr>\n",
       "    <tr>\n",
       "      <th>823</th>\n",
       "      <td>sellerf119</td>\n",
       "      <td>1</td>\n",
       "      <td>1</td>\n",
       "      <td>0</td>\n",
       "      <td>1</td>\n",
       "      <td>1</td>\n",
       "      <td>0</td>\n",
       "    </tr>\n",
       "    <tr>\n",
       "      <th>824</th>\n",
       "      <td>sellerf664</td>\n",
       "      <td>1</td>\n",
       "      <td>1</td>\n",
       "      <td>0</td>\n",
       "      <td>1</td>\n",
       "      <td>1</td>\n",
       "      <td>0</td>\n",
       "    </tr>\n",
       "  </tbody>\n",
       "</table>\n",
       "<p>825 rows × 7 columns</p>\n",
       "</div>"
      ],
      "text/plain": [
       "    seller_name  qnty_products_sold_past  count_reviews_past  \\\n",
       "0    seller4a3c                      686                 673   \n",
       "1    sellercc41                      547                 545   \n",
       "2    seller7a67                      545                 542   \n",
       "3    sellercca3                      521                 512   \n",
       "4    seller6560                      385                 381   \n",
       "..          ...                      ...                 ...   \n",
       "820  sellerc161                        1                   1   \n",
       "821  sellerc76d                        1                   1   \n",
       "822  sellerdd8a                        1                   1   \n",
       "823  sellerf119                        1                   1   \n",
       "824  sellerf664                        1                   1   \n",
       "\n",
       "     qnty_products_without_reviews_past  qnty_products_sold_current  \\\n",
       "0                                    13                        1359   \n",
       "1                                     2                        1212   \n",
       "2                                     3                         611   \n",
       "3                                     9                         312   \n",
       "4                                     4                        1617   \n",
       "..                                  ...                         ...   \n",
       "820                                   0                           1   \n",
       "821                                   0                           1   \n",
       "822                                   0                           1   \n",
       "823                                   0                           1   \n",
       "824                                   0                           1   \n",
       "\n",
       "     count_reviews_current  qnty_products_without_reviews_current  \n",
       "0                     1350                                      9  \n",
       "1                     1210                                      2  \n",
       "2                      606                                      5  \n",
       "3                      304                                      8  \n",
       "4                     1604                                     13  \n",
       "..                     ...                                    ...  \n",
       "820                      1                                      0  \n",
       "821                      1                                      0  \n",
       "822                      1                                      0  \n",
       "823                      1                                      0  \n",
       "824                      1                                      0  \n",
       "\n",
       "[825 rows x 7 columns]"
      ]
     },
     "execution_count": 3044,
     "metadata": {},
     "output_type": "execute_result"
    }
   ],
   "source": [
    "dates_interval_comparasion"
   ]
  },
  {
   "cell_type": "markdown",
   "id": "5d645a8b-e874-45f7-92b1-5997da0665b1",
   "metadata": {},
   "source": [
    "### Visualização através do gráfico de barras\n",
    "\n",
    "Comparação da quantidade de produtos vendidos nos intervalos de tempos dos **vendedores que mais vendem**"
   ]
  },
  {
   "cell_type": "code",
   "execution_count": 3045,
   "id": "216f1f2b-b496-4bea-ada2-1a72be28d52a",
   "metadata": {},
   "outputs": [],
   "source": [
    "top10_sellers = dates_interval_comparasion.head(10)"
   ]
  },
  {
   "cell_type": "code",
   "execution_count": 3051,
   "id": "c1b14013-9eec-44ad-8062-ca1447be772b",
   "metadata": {},
   "outputs": [
    {
     "data": {
      "image/png": "[encoded data removed]",
      "text/plain": [
       "<Figure size 1000x600 with 1 Axes>"
      ]
     },
     "metadata": {},
     "output_type": "display_data"
    }
   ],
   "source": [
    "top10_sellers_long = pd.melt(top10_sellers, \n",
    "                            id_vars=['seller_name'], \n",
    "                            value_vars=['qnty_products_sold_past', 'qnty_products_sold_current'],\n",
    "                            var_name='period', \n",
    "                            value_name='quantity_sold')\n",
    "\n",
    "plt.figure(figsize=(10, 6))\n",
    "sns.barplot(x='seller_name', y='quantity_sold', hue='period', data=top10_sellers_long)\n",
    "\n",
    "plt.title('Comparação de Vendas Passadas e Atuais dos 10 Maiores Vendedores')\n",
    "plt.xlabel('Vendedores')\n",
    "plt.ylabel('Quantidade de Produtos Vendidos')\n",
    "plt.xticks(rotation=45) \n",
    "\n",
    "plt.tight_layout()\n",
    "plt.show()"
   ]
  },
  {
   "cell_type": "markdown",
   "id": "14b2884c-7fd8-460e-83e2-afd5a988befd",
   "metadata": {},
   "source": [
    "# Houve inflação no preço dos produtos ao passar do tempo? Se houve, de quanto foi a variaçao desta inflação em % e em R$?"
   ]
  },
  {
   "cell_type": "code",
   "execution_count": null,
   "id": "04fbbf1e-182d-43a2-bf57-fe4d0eb02ea8",
   "metadata": {},
   "outputs": [],
   "source": []
  }
 ],
 "metadata": {
  "kernelspec": {
   "display_name": "Python 3 (ipykernel)",
   "language": "python",
   "name": "python3"
  },
  "language_info": {
   "codemirror_mode": {
    "name": "ipython",
    "version": 3
   },
   "file_extension": ".py",
   "mimetype": "text/x-python",
   "name": "python",
   "nbconvert_exporter": "python",
   "pygments_lexer": "ipython3",
   "version": "3.13.0"
  }
 },
 "nbformat": 4,
 "nbformat_minor": 5
}
