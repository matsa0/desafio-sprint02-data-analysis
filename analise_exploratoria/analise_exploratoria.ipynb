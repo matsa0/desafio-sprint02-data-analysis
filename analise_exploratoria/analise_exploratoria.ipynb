{
 "cells": [
  {
   "cell_type": "code",
   "execution_count": 61,
   "id": "25fefc74-8f39-491c-8f98-3eccc1b5396f",
   "metadata": {},
   "outputs": [],
   "source": [
    "import pandas as pd\n",
    "import numpy as np\n",
    "import matplotlib.pyplot as plt\n",
    "import seaborn as sns"
   ]
  },
  {
   "cell_type": "markdown",
   "id": "8dbca435-e52e-43b8-a945-897971a6952a",
   "metadata": {
    "jp-MarkdownHeadingCollapsed": true
   },
   "source": [
    "# Order Items Dataset"
   ]
  },
  {
   "cell_type": "code",
   "execution_count": 62,
   "id": "d6c2f7b4-80f3-4340-b384-7aba477c0cec",
   "metadata": {},
   "outputs": [],
   "source": [
    "order_items_dataset = pd.read_csv('/home/matsa/Documents/project_sprint02/data/olist_order_items_dataset.csv', \n",
    "                            sep=',', encoding='utf-8')"
   ]
  },
  {
   "cell_type": "code",
   "execution_count": 63,
   "id": "9946ccf1-0a57-4b1d-8524-647918bcfb85",
   "metadata": {},
   "outputs": [
    {
     "data": {
      "text/html": [
       "<div>\n",
       "<style scoped>\n",
       "    .dataframe tbody tr th:only-of-type {\n",
       "        vertical-align: middle;\n",
       "    }\n",
       "\n",
       "    .dataframe tbody tr th {\n",
       "        vertical-align: top;\n",
       "    }\n",
       "\n",
       "    .dataframe thead th {\n",
       "        text-align: right;\n",
       "    }\n",
       "</style>\n",
       "<table border=\"1\" class=\"dataframe\">\n",
       "  <thead>\n",
       "    <tr style=\"text-align: right;\">\n",
       "      <th></th>\n",
       "      <th>order_id</th>\n",
       "      <th>order_item_id</th>\n",
       "      <th>product_id</th>\n",
       "      <th>seller_id</th>\n",
       "      <th>shipping_limit_date</th>\n",
       "      <th>price</th>\n",
       "      <th>freight_value</th>\n",
       "    </tr>\n",
       "  </thead>\n",
       "  <tbody>\n",
       "    <tr>\n",
       "      <th>0</th>\n",
       "      <td>00010242fe8c5a6d1ba2dd792cb16214</td>\n",
       "      <td>1</td>\n",
       "      <td>4244733e06e7ecb4970a6e2683c13e61</td>\n",
       "      <td>48436dade18ac8b2bce089ec2a041202</td>\n",
       "      <td>2017-09-19 09:45:35</td>\n",
       "      <td>58.90</td>\n",
       "      <td>13.29</td>\n",
       "    </tr>\n",
       "    <tr>\n",
       "      <th>1</th>\n",
       "      <td>00018f77f2f0320c557190d7a144bdd3</td>\n",
       "      <td>1</td>\n",
       "      <td>e5f2d52b802189ee658865ca93d83a8f</td>\n",
       "      <td>dd7ddc04e1b6c2c614352b383efe2d36</td>\n",
       "      <td>2017-05-03 11:05:13</td>\n",
       "      <td>239.90</td>\n",
       "      <td>19.93</td>\n",
       "    </tr>\n",
       "    <tr>\n",
       "      <th>2</th>\n",
       "      <td>000229ec398224ef6ca0657da4fc703e</td>\n",
       "      <td>1</td>\n",
       "      <td>c777355d18b72b67abbeef9df44fd0fd</td>\n",
       "      <td>5b51032eddd242adc84c38acab88f23d</td>\n",
       "      <td>2018-01-18 14:48:30</td>\n",
       "      <td>199.00</td>\n",
       "      <td>17.87</td>\n",
       "    </tr>\n",
       "    <tr>\n",
       "      <th>3</th>\n",
       "      <td>00024acbcdf0a6daa1e931b038114c75</td>\n",
       "      <td>1</td>\n",
       "      <td>7634da152a4610f1595efa32f14722fc</td>\n",
       "      <td>9d7a1d34a5052409006425275ba1c2b4</td>\n",
       "      <td>2018-08-15 10:10:18</td>\n",
       "      <td>12.99</td>\n",
       "      <td>12.79</td>\n",
       "    </tr>\n",
       "    <tr>\n",
       "      <th>4</th>\n",
       "      <td>00042b26cf59d7ce69dfabb4e55b4fd9</td>\n",
       "      <td>1</td>\n",
       "      <td>ac6c3623068f30de03045865e4e10089</td>\n",
       "      <td>df560393f3a51e74553ab94004ba5c87</td>\n",
       "      <td>2017-02-13 13:57:51</td>\n",
       "      <td>199.90</td>\n",
       "      <td>18.14</td>\n",
       "    </tr>\n",
       "  </tbody>\n",
       "</table>\n",
       "</div>"
      ],
      "text/plain": [
       "                           order_id  order_item_id  \\\n",
       "0  00010242fe8c5a6d1ba2dd792cb16214              1   \n",
       "1  00018f77f2f0320c557190d7a144bdd3              1   \n",
       "2  000229ec398224ef6ca0657da4fc703e              1   \n",
       "3  00024acbcdf0a6daa1e931b038114c75              1   \n",
       "4  00042b26cf59d7ce69dfabb4e55b4fd9              1   \n",
       "\n",
       "                         product_id                         seller_id  \\\n",
       "0  4244733e06e7ecb4970a6e2683c13e61  48436dade18ac8b2bce089ec2a041202   \n",
       "1  e5f2d52b802189ee658865ca93d83a8f  dd7ddc04e1b6c2c614352b383efe2d36   \n",
       "2  c777355d18b72b67abbeef9df44fd0fd  5b51032eddd242adc84c38acab88f23d   \n",
       "3  7634da152a4610f1595efa32f14722fc  9d7a1d34a5052409006425275ba1c2b4   \n",
       "4  ac6c3623068f30de03045865e4e10089  df560393f3a51e74553ab94004ba5c87   \n",
       "\n",
       "   shipping_limit_date   price  freight_value  \n",
       "0  2017-09-19 09:45:35   58.90          13.29  \n",
       "1  2017-05-03 11:05:13  239.90          19.93  \n",
       "2  2018-01-18 14:48:30  199.00          17.87  \n",
       "3  2018-08-15 10:10:18   12.99          12.79  \n",
       "4  2017-02-13 13:57:51  199.90          18.14  "
      ]
     },
     "execution_count": 63,
     "metadata": {},
     "output_type": "execute_result"
    }
   ],
   "source": [
    "order_items_dataset.head()"
   ]
  },
  {
   "cell_type": "code",
   "execution_count": 64,
   "id": "2fa9a431-102d-4966-9481-72ca8cbb2375",
   "metadata": {},
   "outputs": [
    {
     "data": {
      "text/plain": [
       "(112650, 7)"
      ]
     },
     "execution_count": 64,
     "metadata": {},
     "output_type": "execute_result"
    }
   ],
   "source": [
    "order_items_dataset.shape"
   ]
  },
  {
   "cell_type": "code",
   "execution_count": 65,
   "id": "63870c90-a370-4813-81c8-0d346f4f245b",
   "metadata": {},
   "outputs": [
    {
     "data": {
      "text/plain": [
       "order_id                object\n",
       "order_item_id            int64\n",
       "product_id              object\n",
       "seller_id               object\n",
       "shipping_limit_date     object\n",
       "price                  float64\n",
       "freight_value          float64\n",
       "dtype: object"
      ]
     },
     "execution_count": 65,
     "metadata": {},
     "output_type": "execute_result"
    }
   ],
   "source": [
    "order_items_dataset.dtypes"
   ]
  },
  {
   "cell_type": "code",
   "execution_count": 66,
   "id": "d7ff91eb-0b8e-43e4-a75f-76bef0921449",
   "metadata": {},
   "outputs": [
    {
     "data": {
      "text/html": [
       "<div>\n",
       "<style scoped>\n",
       "    .dataframe tbody tr th:only-of-type {\n",
       "        vertical-align: middle;\n",
       "    }\n",
       "\n",
       "    .dataframe tbody tr th {\n",
       "        vertical-align: top;\n",
       "    }\n",
       "\n",
       "    .dataframe thead th {\n",
       "        text-align: right;\n",
       "    }\n",
       "</style>\n",
       "<table border=\"1\" class=\"dataframe\">\n",
       "  <thead>\n",
       "    <tr style=\"text-align: right;\">\n",
       "      <th></th>\n",
       "      <th>order_id</th>\n",
       "      <th>order_item_id</th>\n",
       "      <th>product_id</th>\n",
       "      <th>seller_id</th>\n",
       "      <th>shipping_limit_date</th>\n",
       "      <th>price</th>\n",
       "      <th>freight_value</th>\n",
       "    </tr>\n",
       "  </thead>\n",
       "  <tbody>\n",
       "    <tr>\n",
       "      <th>32</th>\n",
       "      <td>00143d0f86d6fbd9f9b38ab440ac16f5</td>\n",
       "      <td>1</td>\n",
       "      <td>e95ee6822b66ac6058e2e4aff656071a</td>\n",
       "      <td>a17f621c590ea0fab3d5d883e1630ec6</td>\n",
       "      <td>2017-10-20 16:07:52</td>\n",
       "      <td>21.33</td>\n",
       "      <td>15.1</td>\n",
       "    </tr>\n",
       "    <tr>\n",
       "      <th>33</th>\n",
       "      <td>00143d0f86d6fbd9f9b38ab440ac16f5</td>\n",
       "      <td>2</td>\n",
       "      <td>e95ee6822b66ac6058e2e4aff656071a</td>\n",
       "      <td>a17f621c590ea0fab3d5d883e1630ec6</td>\n",
       "      <td>2017-10-20 16:07:52</td>\n",
       "      <td>21.33</td>\n",
       "      <td>15.1</td>\n",
       "    </tr>\n",
       "    <tr>\n",
       "      <th>34</th>\n",
       "      <td>00143d0f86d6fbd9f9b38ab440ac16f5</td>\n",
       "      <td>3</td>\n",
       "      <td>e95ee6822b66ac6058e2e4aff656071a</td>\n",
       "      <td>a17f621c590ea0fab3d5d883e1630ec6</td>\n",
       "      <td>2017-10-20 16:07:52</td>\n",
       "      <td>21.33</td>\n",
       "      <td>15.1</td>\n",
       "    </tr>\n",
       "  </tbody>\n",
       "</table>\n",
       "</div>"
      ],
      "text/plain": [
       "                            order_id  order_item_id  \\\n",
       "32  00143d0f86d6fbd9f9b38ab440ac16f5              1   \n",
       "33  00143d0f86d6fbd9f9b38ab440ac16f5              2   \n",
       "34  00143d0f86d6fbd9f9b38ab440ac16f5              3   \n",
       "\n",
       "                          product_id                         seller_id  \\\n",
       "32  e95ee6822b66ac6058e2e4aff656071a  a17f621c590ea0fab3d5d883e1630ec6   \n",
       "33  e95ee6822b66ac6058e2e4aff656071a  a17f621c590ea0fab3d5d883e1630ec6   \n",
       "34  e95ee6822b66ac6058e2e4aff656071a  a17f621c590ea0fab3d5d883e1630ec6   \n",
       "\n",
       "    shipping_limit_date  price  freight_value  \n",
       "32  2017-10-20 16:07:52  21.33           15.1  \n",
       "33  2017-10-20 16:07:52  21.33           15.1  \n",
       "34  2017-10-20 16:07:52  21.33           15.1  "
      ]
     },
     "execution_count": 66,
     "metadata": {},
     "output_type": "execute_result"
    }
   ],
   "source": [
    "productx = order_items_dataset.loc[order_items_dataset.order_id == '00143d0f86d6fbd9f9b38ab440ac16f5']\n",
    "productx"
   ]
  },
  {
   "cell_type": "markdown",
   "id": "dcd8bdc9-46fe-4505-bba4-9810ec6f2f68",
   "metadata": {},
   "source": [
    "### Valores faltantes"
   ]
  },
  {
   "cell_type": "code",
   "execution_count": 67,
   "id": "2a624f3c-171a-46fd-b6ee-75a48d0d9d63",
   "metadata": {},
   "outputs": [
    {
     "data": {
      "text/plain": [
       "order_id               0\n",
       "order_item_id          0\n",
       "product_id             0\n",
       "seller_id              0\n",
       "shipping_limit_date    0\n",
       "price                  0\n",
       "freight_value          0\n",
       "dtype: int64"
      ]
     },
     "execution_count": 67,
     "metadata": {},
     "output_type": "execute_result"
    }
   ],
   "source": [
    "order_items_dataset.isnull().sum()"
   ]
  },
  {
   "cell_type": "markdown",
   "id": "12351db2-5dec-4d35-9d6c-4387681f0099",
   "metadata": {},
   "source": [
    "### Duplicatas"
   ]
  },
  {
   "cell_type": "code",
   "execution_count": 68,
   "id": "0179cc14-ff37-4a17-9f31-7baff49fe801",
   "metadata": {},
   "outputs": [
    {
     "data": {
      "text/plain": [
       "np.int64(0)"
      ]
     },
     "execution_count": 68,
     "metadata": {},
     "output_type": "execute_result"
    }
   ],
   "source": [
    "order_items_dataset.duplicated().sum()"
   ]
  },
  {
   "cell_type": "markdown",
   "id": "bf556574-23d2-48eb-b2f8-b215f0a59e9a",
   "metadata": {},
   "source": [
    "### Excluindo colunas"
   ]
  },
  {
   "cell_type": "code",
   "execution_count": 69,
   "id": "fb1d11c1-fe79-4055-bc1d-3ebd3b30179f",
   "metadata": {},
   "outputs": [],
   "source": [
    "columns_drop = order_items_dataset.columns[[4,5,6]]"
   ]
  },
  {
   "cell_type": "code",
   "execution_count": 70,
   "id": "fa412ffc-187c-4f10-b966-4e030d59b77a",
   "metadata": {},
   "outputs": [],
   "source": [
    "order_items_df_cleaned = order_items_dataset.drop(columns=columns_drop, axis=1)"
   ]
  },
  {
   "cell_type": "code",
   "execution_count": 71,
   "id": "d76dcc75-32f7-4f41-9f7a-274218d023ed",
   "metadata": {},
   "outputs": [
    {
     "data": {
      "text/plain": [
       "order_id         object\n",
       "order_item_id     int64\n",
       "product_id       object\n",
       "seller_id        object\n",
       "dtype: object"
      ]
     },
     "execution_count": 71,
     "metadata": {},
     "output_type": "execute_result"
    }
   ],
   "source": [
    "order_items_df_cleaned.dtypes"
   ]
  },
  {
   "cell_type": "markdown",
   "id": "23c92973-7f0a-40b6-83c4-714f45c20b13",
   "metadata": {
    "jp-MarkdownHeadingCollapsed": true
   },
   "source": [
    "# Order Payments Dataset"
   ]
  },
  {
   "cell_type": "code",
   "execution_count": 72,
   "id": "792b0c49-30ab-4475-b27c-05c578d1b231",
   "metadata": {},
   "outputs": [],
   "source": [
    "order_payments_dataset = pd.read_csv('/home/matsa/Documents/project_sprint02/data/olist_order_payments_dataset.csv')"
   ]
  },
  {
   "cell_type": "code",
   "execution_count": 73,
   "id": "9b85bfac-2818-44e8-b95d-127f36156de2",
   "metadata": {},
   "outputs": [
    {
     "data": {
      "text/html": [
       "<div>\n",
       "<style scoped>\n",
       "    .dataframe tbody tr th:only-of-type {\n",
       "        vertical-align: middle;\n",
       "    }\n",
       "\n",
       "    .dataframe tbody tr th {\n",
       "        vertical-align: top;\n",
       "    }\n",
       "\n",
       "    .dataframe thead th {\n",
       "        text-align: right;\n",
       "    }\n",
       "</style>\n",
       "<table border=\"1\" class=\"dataframe\">\n",
       "  <thead>\n",
       "    <tr style=\"text-align: right;\">\n",
       "      <th></th>\n",
       "      <th>order_id</th>\n",
       "      <th>payment_sequential</th>\n",
       "      <th>payment_type</th>\n",
       "      <th>payment_installments</th>\n",
       "      <th>payment_value</th>\n",
       "    </tr>\n",
       "  </thead>\n",
       "  <tbody>\n",
       "    <tr>\n",
       "      <th>0</th>\n",
       "      <td>b81ef226f3fe1789b1e8b2acac839d17</td>\n",
       "      <td>1</td>\n",
       "      <td>credit_card</td>\n",
       "      <td>8</td>\n",
       "      <td>99.33</td>\n",
       "    </tr>\n",
       "    <tr>\n",
       "      <th>1</th>\n",
       "      <td>a9810da82917af2d9aefd1278f1dcfa0</td>\n",
       "      <td>1</td>\n",
       "      <td>credit_card</td>\n",
       "      <td>1</td>\n",
       "      <td>24.39</td>\n",
       "    </tr>\n",
       "    <tr>\n",
       "      <th>2</th>\n",
       "      <td>25e8ea4e93396b6fa0d3dd708e76c1bd</td>\n",
       "      <td>1</td>\n",
       "      <td>credit_card</td>\n",
       "      <td>1</td>\n",
       "      <td>65.71</td>\n",
       "    </tr>\n",
       "    <tr>\n",
       "      <th>3</th>\n",
       "      <td>ba78997921bbcdc1373bb41e913ab953</td>\n",
       "      <td>1</td>\n",
       "      <td>credit_card</td>\n",
       "      <td>8</td>\n",
       "      <td>107.78</td>\n",
       "    </tr>\n",
       "    <tr>\n",
       "      <th>4</th>\n",
       "      <td>42fdf880ba16b47b59251dd489d4441a</td>\n",
       "      <td>1</td>\n",
       "      <td>credit_card</td>\n",
       "      <td>2</td>\n",
       "      <td>128.45</td>\n",
       "    </tr>\n",
       "  </tbody>\n",
       "</table>\n",
       "</div>"
      ],
      "text/plain": [
       "                           order_id  payment_sequential payment_type  \\\n",
       "0  b81ef226f3fe1789b1e8b2acac839d17                   1  credit_card   \n",
       "1  a9810da82917af2d9aefd1278f1dcfa0                   1  credit_card   \n",
       "2  25e8ea4e93396b6fa0d3dd708e76c1bd                   1  credit_card   \n",
       "3  ba78997921bbcdc1373bb41e913ab953                   1  credit_card   \n",
       "4  42fdf880ba16b47b59251dd489d4441a                   1  credit_card   \n",
       "\n",
       "   payment_installments  payment_value  \n",
       "0                     8          99.33  \n",
       "1                     1          24.39  \n",
       "2                     1          65.71  \n",
       "3                     8         107.78  \n",
       "4                     2         128.45  "
      ]
     },
     "execution_count": 73,
     "metadata": {},
     "output_type": "execute_result"
    }
   ],
   "source": [
    "order_payments_dataset.head()"
   ]
  },
  {
   "cell_type": "code",
   "execution_count": 74,
   "id": "29c2c5dd-c10e-4e48-ab09-c83c93a5b1c0",
   "metadata": {},
   "outputs": [
    {
     "data": {
      "text/html": [
       "<div>\n",
       "<style scoped>\n",
       "    .dataframe tbody tr th:only-of-type {\n",
       "        vertical-align: middle;\n",
       "    }\n",
       "\n",
       "    .dataframe tbody tr th {\n",
       "        vertical-align: top;\n",
       "    }\n",
       "\n",
       "    .dataframe thead th {\n",
       "        text-align: right;\n",
       "    }\n",
       "</style>\n",
       "<table border=\"1\" class=\"dataframe\">\n",
       "  <thead>\n",
       "    <tr style=\"text-align: right;\">\n",
       "      <th></th>\n",
       "      <th>order_id</th>\n",
       "      <th>payment_sequential</th>\n",
       "      <th>payment_type</th>\n",
       "      <th>payment_installments</th>\n",
       "      <th>payment_value</th>\n",
       "    </tr>\n",
       "  </thead>\n",
       "  <tbody>\n",
       "    <tr>\n",
       "      <th>29413</th>\n",
       "      <td>00143d0f86d6fbd9f9b38ab440ac16f5</td>\n",
       "      <td>1</td>\n",
       "      <td>credit_card</td>\n",
       "      <td>1</td>\n",
       "      <td>109.29</td>\n",
       "    </tr>\n",
       "  </tbody>\n",
       "</table>\n",
       "</div>"
      ],
      "text/plain": [
       "                               order_id  payment_sequential payment_type  \\\n",
       "29413  00143d0f86d6fbd9f9b38ab440ac16f5                   1  credit_card   \n",
       "\n",
       "       payment_installments  payment_value  \n",
       "29413                     1         109.29  "
      ]
     },
     "execution_count": 74,
     "metadata": {},
     "output_type": "execute_result"
    }
   ],
   "source": [
    "# procurando pela order_id deixada como exemplo no documento de informações\n",
    "x = order_payments_dataset.loc[order_payments_dataset.order_id == '00143d0f86d6fbd9f9b38ab440ac16f5']\n",
    "x"
   ]
  },
  {
   "cell_type": "code",
   "execution_count": 75,
   "id": "bcd8bf0e-5e4a-48bd-a9b5-7c31a478a79d",
   "metadata": {},
   "outputs": [
    {
     "data": {
      "text/plain": [
       "(103886, 5)"
      ]
     },
     "execution_count": 75,
     "metadata": {},
     "output_type": "execute_result"
    }
   ],
   "source": [
    "order_payments_dataset.shape"
   ]
  },
  {
   "cell_type": "code",
   "execution_count": 76,
   "id": "e4ea2370-596f-469c-96b4-c091dd22b2c2",
   "metadata": {},
   "outputs": [
    {
     "data": {
      "text/plain": [
       "order_id                 object\n",
       "payment_sequential        int64\n",
       "payment_type             object\n",
       "payment_installments      int64\n",
       "payment_value           float64\n",
       "dtype: object"
      ]
     },
     "execution_count": 76,
     "metadata": {},
     "output_type": "execute_result"
    }
   ],
   "source": [
    "order_payments_dataset.dtypes"
   ]
  },
  {
   "cell_type": "markdown",
   "id": "c5cb2c6b-c7f2-469a-9cd4-be7755b58725",
   "metadata": {},
   "source": [
    "### Valores faltantes"
   ]
  },
  {
   "cell_type": "code",
   "execution_count": 77,
   "id": "44102e31-5e7d-42ab-9332-9de9bb916d36",
   "metadata": {},
   "outputs": [
    {
     "data": {
      "text/plain": [
       "order_id                0\n",
       "payment_sequential      0\n",
       "payment_type            0\n",
       "payment_installments    0\n",
       "payment_value           0\n",
       "dtype: int64"
      ]
     },
     "execution_count": 77,
     "metadata": {},
     "output_type": "execute_result"
    }
   ],
   "source": [
    "order_payments_dataset.isnull().sum()"
   ]
  },
  {
   "cell_type": "markdown",
   "id": "6bf1e4ac-f9d5-46bb-bf27-ded9dcc5ed91",
   "metadata": {},
   "source": [
    "### Duplicatas"
   ]
  },
  {
   "cell_type": "code",
   "execution_count": 78,
   "id": "d7c1cf3a-13af-46bf-82df-194792260c85",
   "metadata": {},
   "outputs": [
    {
     "data": {
      "text/plain": [
       "np.int64(0)"
      ]
     },
     "execution_count": 78,
     "metadata": {},
     "output_type": "execute_result"
    }
   ],
   "source": [
    "order_payments_dataset.duplicated().sum()"
   ]
  },
  {
   "cell_type": "markdown",
   "id": "40284244-a7c4-4b78-b54b-f9d5c5a4339a",
   "metadata": {},
   "source": [
    "### Excluindo colunas"
   ]
  },
  {
   "cell_type": "code",
   "execution_count": 79,
   "id": "8ae51259-b296-4325-81d2-05ac79163d74",
   "metadata": {},
   "outputs": [],
   "source": [
    "columns_drop = order_payments_dataset.columns[[1,2,3]]"
   ]
  },
  {
   "cell_type": "code",
   "execution_count": 80,
   "id": "214b1da5-e2e2-4859-a5ac-c742538ac317",
   "metadata": {},
   "outputs": [],
   "source": [
    "order_payments_df_cleaned = order_payments_dataset.drop(columns=columns_drop, axis=1)"
   ]
  },
  {
   "cell_type": "code",
   "execution_count": 81,
   "id": "335dbe58-edd0-47ae-9ceb-104a0d77e81e",
   "metadata": {},
   "outputs": [
    {
     "data": {
      "text/plain": [
       "order_id          object\n",
       "payment_value    float64\n",
       "dtype: object"
      ]
     },
     "execution_count": 81,
     "metadata": {},
     "output_type": "execute_result"
    }
   ],
   "source": [
    "order_payments_df_cleaned.dtypes"
   ]
  },
  {
   "cell_type": "markdown",
   "id": "129dc284-df4f-49e8-9271-2c63dff9fb8e",
   "metadata": {
    "jp-MarkdownHeadingCollapsed": true
   },
   "source": [
    "# Orders Dataset"
   ]
  },
  {
   "cell_type": "code",
   "execution_count": 82,
   "id": "19ee0072-dc8a-49ed-98fc-124cb7f156d4",
   "metadata": {},
   "outputs": [],
   "source": [
    "orders_dataset = pd.read_csv('/home/matsa/Documents/project_sprint02/data/olist_orders_dataset.csv')"
   ]
  },
  {
   "cell_type": "code",
   "execution_count": 83,
   "id": "d5acb5a6-dd78-44cc-934f-59fe684c17d3",
   "metadata": {},
   "outputs": [
    {
     "data": {
      "text/html": [
       "<div>\n",
       "<style scoped>\n",
       "    .dataframe tbody tr th:only-of-type {\n",
       "        vertical-align: middle;\n",
       "    }\n",
       "\n",
       "    .dataframe tbody tr th {\n",
       "        vertical-align: top;\n",
       "    }\n",
       "\n",
       "    .dataframe thead th {\n",
       "        text-align: right;\n",
       "    }\n",
       "</style>\n",
       "<table border=\"1\" class=\"dataframe\">\n",
       "  <thead>\n",
       "    <tr style=\"text-align: right;\">\n",
       "      <th></th>\n",
       "      <th>order_id</th>\n",
       "      <th>customer_id</th>\n",
       "      <th>order_status</th>\n",
       "      <th>order_purchase_timestamp</th>\n",
       "      <th>order_approved_at</th>\n",
       "      <th>order_delivered_carrier_date</th>\n",
       "      <th>order_delivered_customer_date</th>\n",
       "      <th>order_estimated_delivery_date</th>\n",
       "    </tr>\n",
       "  </thead>\n",
       "  <tbody>\n",
       "    <tr>\n",
       "      <th>0</th>\n",
       "      <td>e481f51cbdc54678b7cc49136f2d6af7</td>\n",
       "      <td>9ef432eb6251297304e76186b10a928d</td>\n",
       "      <td>delivered</td>\n",
       "      <td>2017-10-02 10:56:33</td>\n",
       "      <td>2017-10-02 11:07:15</td>\n",
       "      <td>2017-10-04 19:55:00</td>\n",
       "      <td>2017-10-10 21:25:13</td>\n",
       "      <td>2017-10-18 00:00:00</td>\n",
       "    </tr>\n",
       "    <tr>\n",
       "      <th>1</th>\n",
       "      <td>53cdb2fc8bc7dce0b6741e2150273451</td>\n",
       "      <td>b0830fb4747a6c6d20dea0b8c802d7ef</td>\n",
       "      <td>delivered</td>\n",
       "      <td>2018-07-24 20:41:37</td>\n",
       "      <td>2018-07-26 03:24:27</td>\n",
       "      <td>2018-07-26 14:31:00</td>\n",
       "      <td>2018-08-07 15:27:45</td>\n",
       "      <td>2018-08-13 00:00:00</td>\n",
       "    </tr>\n",
       "    <tr>\n",
       "      <th>2</th>\n",
       "      <td>47770eb9100c2d0c44946d9cf07ec65d</td>\n",
       "      <td>41ce2a54c0b03bf3443c3d931a367089</td>\n",
       "      <td>delivered</td>\n",
       "      <td>2018-08-08 08:38:49</td>\n",
       "      <td>2018-08-08 08:55:23</td>\n",
       "      <td>2018-08-08 13:50:00</td>\n",
       "      <td>2018-08-17 18:06:29</td>\n",
       "      <td>2018-09-04 00:00:00</td>\n",
       "    </tr>\n",
       "    <tr>\n",
       "      <th>3</th>\n",
       "      <td>949d5b44dbf5de918fe9c16f97b45f8a</td>\n",
       "      <td>f88197465ea7920adcdbec7375364d82</td>\n",
       "      <td>delivered</td>\n",
       "      <td>2017-11-18 19:28:06</td>\n",
       "      <td>2017-11-18 19:45:59</td>\n",
       "      <td>2017-11-22 13:39:59</td>\n",
       "      <td>2017-12-02 00:28:42</td>\n",
       "      <td>2017-12-15 00:00:00</td>\n",
       "    </tr>\n",
       "    <tr>\n",
       "      <th>4</th>\n",
       "      <td>ad21c59c0840e6cb83a9ceb5573f8159</td>\n",
       "      <td>8ab97904e6daea8866dbdbc4fb7aad2c</td>\n",
       "      <td>delivered</td>\n",
       "      <td>2018-02-13 21:18:39</td>\n",
       "      <td>2018-02-13 22:20:29</td>\n",
       "      <td>2018-02-14 19:46:34</td>\n",
       "      <td>2018-02-16 18:17:02</td>\n",
       "      <td>2018-02-26 00:00:00</td>\n",
       "    </tr>\n",
       "  </tbody>\n",
       "</table>\n",
       "</div>"
      ],
      "text/plain": [
       "                           order_id                       customer_id  \\\n",
       "0  e481f51cbdc54678b7cc49136f2d6af7  9ef432eb6251297304e76186b10a928d   \n",
       "1  53cdb2fc8bc7dce0b6741e2150273451  b0830fb4747a6c6d20dea0b8c802d7ef   \n",
       "2  47770eb9100c2d0c44946d9cf07ec65d  41ce2a54c0b03bf3443c3d931a367089   \n",
       "3  949d5b44dbf5de918fe9c16f97b45f8a  f88197465ea7920adcdbec7375364d82   \n",
       "4  ad21c59c0840e6cb83a9ceb5573f8159  8ab97904e6daea8866dbdbc4fb7aad2c   \n",
       "\n",
       "  order_status order_purchase_timestamp    order_approved_at  \\\n",
       "0    delivered      2017-10-02 10:56:33  2017-10-02 11:07:15   \n",
       "1    delivered      2018-07-24 20:41:37  2018-07-26 03:24:27   \n",
       "2    delivered      2018-08-08 08:38:49  2018-08-08 08:55:23   \n",
       "3    delivered      2017-11-18 19:28:06  2017-11-18 19:45:59   \n",
       "4    delivered      2018-02-13 21:18:39  2018-02-13 22:20:29   \n",
       "\n",
       "  order_delivered_carrier_date order_delivered_customer_date  \\\n",
       "0          2017-10-04 19:55:00           2017-10-10 21:25:13   \n",
       "1          2018-07-26 14:31:00           2018-08-07 15:27:45   \n",
       "2          2018-08-08 13:50:00           2018-08-17 18:06:29   \n",
       "3          2017-11-22 13:39:59           2017-12-02 00:28:42   \n",
       "4          2018-02-14 19:46:34           2018-02-16 18:17:02   \n",
       "\n",
       "  order_estimated_delivery_date  \n",
       "0           2017-10-18 00:00:00  \n",
       "1           2018-08-13 00:00:00  \n",
       "2           2018-09-04 00:00:00  \n",
       "3           2017-12-15 00:00:00  \n",
       "4           2018-02-26 00:00:00  "
      ]
     },
     "execution_count": 83,
     "metadata": {},
     "output_type": "execute_result"
    }
   ],
   "source": [
    "orders_dataset.head()"
   ]
  },
  {
   "cell_type": "code",
   "execution_count": 84,
   "id": "2be44c81-96d6-4668-94cb-9a1d92eb4ba8",
   "metadata": {},
   "outputs": [
    {
     "data": {
      "text/plain": [
       "(99441, 8)"
      ]
     },
     "execution_count": 84,
     "metadata": {},
     "output_type": "execute_result"
    }
   ],
   "source": [
    "orders_dataset.shape"
   ]
  },
  {
   "cell_type": "code",
   "execution_count": 85,
   "id": "05db7a35-b3be-408b-a208-63986f55a154",
   "metadata": {},
   "outputs": [
    {
     "data": {
      "text/plain": [
       "order_id                         object\n",
       "customer_id                      object\n",
       "order_status                     object\n",
       "order_purchase_timestamp         object\n",
       "order_approved_at                object\n",
       "order_delivered_carrier_date     object\n",
       "order_delivered_customer_date    object\n",
       "order_estimated_delivery_date    object\n",
       "dtype: object"
      ]
     },
     "execution_count": 85,
     "metadata": {},
     "output_type": "execute_result"
    }
   ],
   "source": [
    "orders_dataset.dtypes"
   ]
  },
  {
   "cell_type": "markdown",
   "id": "ebd97366-a478-4f70-89d4-bd50d83459fd",
   "metadata": {},
   "source": [
    "### Valores faltantes"
   ]
  },
  {
   "cell_type": "code",
   "execution_count": 86,
   "id": "9195032d-d62d-4f50-a84f-8848a5258ea9",
   "metadata": {},
   "outputs": [
    {
     "data": {
      "text/plain": [
       "order_id                            0\n",
       "customer_id                         0\n",
       "order_status                        0\n",
       "order_purchase_timestamp            0\n",
       "order_approved_at                 160\n",
       "order_delivered_carrier_date     1783\n",
       "order_delivered_customer_date    2965\n",
       "order_estimated_delivery_date       0\n",
       "dtype: int64"
      ]
     },
     "execution_count": 86,
     "metadata": {},
     "output_type": "execute_result"
    }
   ],
   "source": [
    "orders_dataset.isnull().sum()"
   ]
  },
  {
   "cell_type": "code",
   "execution_count": 87,
   "id": "7b056f74-f5b6-4bd6-bf1f-516b3ed48a4f",
   "metadata": {},
   "outputs": [],
   "source": [
    "#excluindo valores NaN\n",
    "orders_dataset.dropna(axis=0, inplace=True)"
   ]
  },
  {
   "cell_type": "code",
   "execution_count": 88,
   "id": "f0544575-8623-46a0-b869-506a7812a48a",
   "metadata": {},
   "outputs": [
    {
     "data": {
      "text/plain": [
       "order_id                         0\n",
       "customer_id                      0\n",
       "order_status                     0\n",
       "order_purchase_timestamp         0\n",
       "order_approved_at                0\n",
       "order_delivered_carrier_date     0\n",
       "order_delivered_customer_date    0\n",
       "order_estimated_delivery_date    0\n",
       "dtype: int64"
      ]
     },
     "execution_count": 88,
     "metadata": {},
     "output_type": "execute_result"
    }
   ],
   "source": [
    "orders_dataset.isnull().sum()"
   ]
  },
  {
   "cell_type": "code",
   "execution_count": 89,
   "id": "2c3c7b16-9546-4ef9-ab49-57c280bf2a5d",
   "metadata": {},
   "outputs": [
    {
     "ename": "NameError",
     "evalue": "name 'orders_dataset_copy' is not defined",
     "output_type": "error",
     "traceback": [
      "\u001b[0;31m---------------------------------------------------------------------------\u001b[0m",
      "\u001b[0;31mNameError\u001b[0m                                 Traceback (most recent call last)",
      "Cell \u001b[0;32mIn[89], line 1\u001b[0m\n\u001b[0;32m----> 1\u001b[0m \u001b[43morders_dataset_copy\u001b[49m\u001b[38;5;241m.\u001b[39mshape\n",
      "\u001b[0;31mNameError\u001b[0m: name 'orders_dataset_copy' is not defined"
     ]
    }
   ],
   "source": [
    "orders_dataset_copy.shape"
   ]
  },
  {
   "cell_type": "markdown",
   "id": "d3cdc58b-693b-45ed-bf13-b22cf62ed30f",
   "metadata": {},
   "source": [
    "### Duplicatas"
   ]
  },
  {
   "cell_type": "code",
   "execution_count": null,
   "id": "12f75c9f-45bf-4182-bf35-96f0d0c28aea",
   "metadata": {},
   "outputs": [],
   "source": [
    "orders_dataset.duplicated().value_counts()"
   ]
  },
  {
   "cell_type": "markdown",
   "id": "7a07640f-970d-4d44-8413-a2d17ad8120b",
   "metadata": {},
   "source": [
    "### Últimos 12 meses"
   ]
  },
  {
   "cell_type": "markdown",
   "id": "da8a748a-b835-4eff-84ad-88e55889d053",
   "metadata": {},
   "source": [
    "Convertendo a data do tipo object para date_time, assim fica mais simples manipular as datas"
   ]
  },
  {
   "cell_type": "code",
   "execution_count": null,
   "id": "065a07e3-027c-4829-a5e0-e2a4399595c3",
   "metadata": {},
   "outputs": [],
   "source": [
    "orders_dataset['order_approved_at'] = pd.to_datetime(orders_dataset.order_approved_at)"
   ]
  },
  {
   "cell_type": "code",
   "execution_count": null,
   "id": "a1c7cba5-6b33-4b39-9a50-d8378fb31762",
   "metadata": {},
   "outputs": [],
   "source": [
    "orders_dataset.dtypes"
   ]
  },
  {
   "cell_type": "markdown",
   "id": "a2293a4e-b052-4903-be5a-c030a11ace0a",
   "metadata": {},
   "source": [
    "Calculando o intervalo de 12 meses"
   ]
  },
  {
   "cell_type": "code",
   "execution_count": null,
   "id": "5948f23d-11bd-47e0-a06b-5deb6cb554ac",
   "metadata": {},
   "outputs": [],
   "source": [
    "last_order_date = orders_dataset.order_approved_at.max()\n",
    "last_order_date"
   ]
  },
  {
   "cell_type": "code",
   "execution_count": null,
   "id": "ce86438f-077d-4277-9c9a-bbd077e67db2",
   "metadata": {},
   "outputs": [],
   "source": [
    "min_order_date = last_order_date - pd.DateOffset(months=12)\n",
    "min_order_date"
   ]
  },
  {
   "cell_type": "code",
   "execution_count": null,
   "id": "bed4529b-6af9-4cb2-9c89-050ba9456aa9",
   "metadata": {},
   "outputs": [],
   "source": [
    "orders_dataset = orders_dataset.loc[(orders_dataset.order_approved_at >= min_order_date) &\n",
    "                                    (orders_dataset.order_approved_at <= last_order_date)]"
   ]
  },
  {
   "cell_type": "code",
   "execution_count": null,
   "id": "4c8a7dfb-0d41-41dd-9bd3-4baf6b8cafbb",
   "metadata": {},
   "outputs": [],
   "source": [
    "orders_dataset.shape"
   ]
  },
  {
   "cell_type": "code",
   "execution_count": null,
   "id": "830719e5-55a9-41d8-805a-aa0b0f99bb22",
   "metadata": {},
   "outputs": [],
   "source": [
    "orders_dataset.order_approved_at.max()"
   ]
  },
  {
   "cell_type": "code",
   "execution_count": null,
   "id": "bfbb4ef6-232c-40fe-947e-62303cd29b7c",
   "metadata": {},
   "outputs": [],
   "source": [
    "orders_dataset.order_approved_at.min()"
   ]
  },
  {
   "cell_type": "markdown",
   "id": "eafd8009-f509-4104-b9cd-f7429fee74d7",
   "metadata": {},
   "source": [
    "### Excluindo colunas"
   ]
  },
  {
   "cell_type": "code",
   "execution_count": null,
   "id": "e89d39c9-024f-4929-b700-c914e5dc4aef",
   "metadata": {},
   "outputs": [],
   "source": [
    "columns_drop = orders_dataset.columns[[3,5,6,7]]"
   ]
  },
  {
   "cell_type": "code",
   "execution_count": null,
   "id": "cd29710d-2377-4786-97d8-07c50bf95cf0",
   "metadata": {},
   "outputs": [],
   "source": [
    "orders_df_cleaned = orders_dataset.drop(columns=columns_drop, axis=1)"
   ]
  },
  {
   "cell_type": "code",
   "execution_count": null,
   "id": "8c3691bd-7519-4a9c-bccc-ed9bdc0982bd",
   "metadata": {},
   "outputs": [],
   "source": [
    "orders_df_cleaned.dtypes"
   ]
  },
  {
   "cell_type": "markdown",
   "id": "fe4c7797-fdd8-4661-8599-b66ee9c5be45",
   "metadata": {
    "jp-MarkdownHeadingCollapsed": true
   },
   "source": [
    "# Products Dataset"
   ]
  },
  {
   "cell_type": "code",
   "execution_count": null,
   "id": "7692801c-962f-43fb-8197-9ddd4438d2ce",
   "metadata": {},
   "outputs": [],
   "source": [
    "products_dataset = pd.read_csv('/home/matsa/Documents/project_sprint02/data/olist_products_dataset.csv', \n",
    "                            sep=',', encoding='utf-8')\n",
    "\n",
    "products_dataset.head()"
   ]
  },
  {
   "cell_type": "code",
   "execution_count": null,
   "id": "53e7e45a-bda8-488b-9fc7-90db1838a496",
   "metadata": {},
   "outputs": [],
   "source": [
    "products_dataset.shape"
   ]
  },
  {
   "cell_type": "code",
   "execution_count": null,
   "id": "08c3e833-1b9c-4bd7-9e82-12a20bf28ee0",
   "metadata": {},
   "outputs": [],
   "source": [
    "products_dataset.dtypes"
   ]
  },
  {
   "cell_type": "markdown",
   "id": "48b92f1c-47ff-4ad3-a59e-1301d4beb1c9",
   "metadata": {},
   "source": [
    "### Valores faltantes"
   ]
  },
  {
   "cell_type": "code",
   "execution_count": null,
   "id": "e3821e5b-232e-4767-ab3f-c8a480cd1090",
   "metadata": {},
   "outputs": [],
   "source": [
    "products_dataset.isnull().sum()"
   ]
  },
  {
   "cell_type": "code",
   "execution_count": null,
   "id": "0443c058-fc50-48f1-8748-f89772190940",
   "metadata": {},
   "outputs": [],
   "source": [
    "null_values = products_dataset[products_dataset.product_category_name.isnull()]\n",
    "null_values.head()"
   ]
  },
  {
   "cell_type": "code",
   "execution_count": null,
   "id": "4a6f8ecc-3829-4c65-8b28-c96c460fb4bc",
   "metadata": {},
   "outputs": [],
   "source": [
    "null_values = products_dataset[products_dataset.product_weight_g.isnull()]\n",
    "null_values"
   ]
  },
  {
   "cell_type": "markdown",
   "id": "4b746e4b-df5a-4e8c-bc2d-cfebc5bd2cda",
   "metadata": {},
   "source": [
    "A ideia é excluir apenas os registros em que o **'product_category_name' é NaN**, pois registros com esse valor faltante não vão auxiliar na análise"
   ]
  },
  {
   "cell_type": "code",
   "execution_count": null,
   "id": "83d2e449-018a-44f2-bf2e-0f2d111fc0ad",
   "metadata": {},
   "outputs": [],
   "source": [
    "products_dataset = products_dataset.dropna(subset=['product_category_name'], axis=0) "
   ]
  },
  {
   "cell_type": "code",
   "execution_count": null,
   "id": "25aa2064-86d0-45b0-ac90-954fc1b6446a",
   "metadata": {},
   "outputs": [],
   "source": [
    "products_dataset.isnull().sum()"
   ]
  },
  {
   "cell_type": "markdown",
   "id": "bf827737-08b0-4285-bb25-3b9a7164b621",
   "metadata": {},
   "source": [
    "### Removendo colunas\n",
    "\n",
    "Tomei como conclusão que as colunas abaixo não vão auxiliar na análise"
   ]
  },
  {
   "cell_type": "code",
   "execution_count": null,
   "id": "26466dab-a78e-4d40-9efd-78b16cc29e30",
   "metadata": {},
   "outputs": [],
   "source": [
    "columns_drop = products_dataset.columns[[2,3,4,5,6,7,8]]"
   ]
  },
  {
   "cell_type": "code",
   "execution_count": null,
   "id": "6a89f621-33e6-4713-9fd9-7f8258cac381",
   "metadata": {},
   "outputs": [],
   "source": [
    "products_df_cleaned = products_dataset.drop(columns=columns_drop, axis=1)"
   ]
  },
  {
   "cell_type": "code",
   "execution_count": null,
   "id": "1470527c-cfa9-466f-bba7-feb45b41e556",
   "metadata": {},
   "outputs": [],
   "source": [
    "products_df_cleaned.shape"
   ]
  },
  {
   "cell_type": "markdown",
   "id": "ec2f331d-2ef5-4f4c-833c-df4844ba38ab",
   "metadata": {},
   "source": [
    "### Duplicatas"
   ]
  },
  {
   "cell_type": "code",
   "execution_count": null,
   "id": "e92195f2-5877-4020-ae83-06f16454c7e7",
   "metadata": {},
   "outputs": [],
   "source": [
    "products_df_cleaned.duplicated().value_counts()"
   ]
  },
  {
   "cell_type": "markdown",
   "id": "01139db9-e2e4-44cb-9583-27e135e6af79",
   "metadata": {
    "jp-MarkdownHeadingCollapsed": true
   },
   "source": [
    "# Customers Dataset"
   ]
  },
  {
   "cell_type": "code",
   "execution_count": null,
   "id": "582300b7-bcbf-4a5f-b837-06a95f06ac00",
   "metadata": {},
   "outputs": [],
   "source": [
    "customers_dataset = pd.read_csv('/home/matsa/Documents/project_sprint02/data/olist_customers_dataset.csv', \n",
    "                            sep=',', encoding='utf-8')"
   ]
  },
  {
   "cell_type": "code",
   "execution_count": null,
   "id": "6ad525a2-7c0e-4522-a3c0-0f5bd1b8bbdf",
   "metadata": {},
   "outputs": [],
   "source": [
    "customers_dataset.head()"
   ]
  },
  {
   "cell_type": "code",
   "execution_count": null,
   "id": "88f277e6-1a95-4b33-9ad2-da2534506188",
   "metadata": {},
   "outputs": [],
   "source": [
    "customers_dataset.shape"
   ]
  },
  {
   "cell_type": "code",
   "execution_count": null,
   "id": "d7f8d454-2a5d-4c06-94cd-540355ea89c0",
   "metadata": {},
   "outputs": [],
   "source": [
    "customers_dataset.dtypes"
   ]
  },
  {
   "cell_type": "markdown",
   "id": "9f8b5a44-d0c8-4812-83fb-28edb805b059",
   "metadata": {},
   "source": [
    "### Valores faltantes"
   ]
  },
  {
   "cell_type": "code",
   "execution_count": null,
   "id": "af50ddf6-4f74-43e8-acb4-a807d111a783",
   "metadata": {},
   "outputs": [],
   "source": [
    "customers_dataset.isnull().sum()"
   ]
  },
  {
   "cell_type": "markdown",
   "id": "4add951e-14e4-403d-9d11-91aa45170e35",
   "metadata": {},
   "source": [
    "### Duplicatas"
   ]
  },
  {
   "cell_type": "code",
   "execution_count": null,
   "id": "cbda3264-1cb4-4af7-9d1d-da96e72d0e74",
   "metadata": {},
   "outputs": [],
   "source": [
    "customers_dataset.duplicated().value_counts()"
   ]
  },
  {
   "cell_type": "markdown",
   "id": "3a99393d-d5e9-47bc-896e-33d3db37c9b6",
   "metadata": {},
   "source": [
    "As duplicatas são clientes que realizaram compras mais de uma vez"
   ]
  },
  {
   "cell_type": "code",
   "execution_count": null,
   "id": "63952a9b-4926-4bee-8248-54f47de1bb12",
   "metadata": {},
   "outputs": [],
   "source": [
    "customers_dataset.customer_unique_id.duplicated().value_counts()"
   ]
  },
  {
   "cell_type": "markdown",
   "id": "eaa19600-5d5e-4950-8d56-46b96ae14ac7",
   "metadata": {},
   "source": [
    "### Excluindo colunas"
   ]
  },
  {
   "cell_type": "code",
   "execution_count": null,
   "id": "0ff35732-f8e7-4ee8-b95f-9f76dba0d42b",
   "metadata": {},
   "outputs": [],
   "source": [
    "columns_drop = customers_dataset.columns[[2,3,4]]"
   ]
  },
  {
   "cell_type": "code",
   "execution_count": null,
   "id": "ba43d6a2-9b1e-43fa-974a-7e9b266a72df",
   "metadata": {},
   "outputs": [],
   "source": [
    "customers_df_cleaned = customers_dataset.drop(columns=columns_drop, axis=1)"
   ]
  },
  {
   "cell_type": "code",
   "execution_count": null,
   "id": "d25c2671-791e-4aec-9d78-60decf8d275b",
   "metadata": {},
   "outputs": [],
   "source": [
    "customers_df_cleaned.dtypes"
   ]
  },
  {
   "cell_type": "markdown",
   "id": "c6d6c2df-3d64-43ac-a6ed-44d71a5dbfba",
   "metadata": {},
   "source": [
    "# Sellers Dataset"
   ]
  },
  {
   "cell_type": "code",
   "execution_count": null,
   "id": "71d08011-76be-48c4-93d9-b88a56634f2a",
   "metadata": {},
   "outputs": [],
   "source": [
    "sellers_dataset = pd.read_csv('/home/matsa/Documents/project_sprint02/data/olist_sellers_dataset.csv', \n",
    "                            sep=',', encoding='utf-8')"
   ]
  },
  {
   "cell_type": "code",
   "execution_count": null,
   "id": "c25bc84f-8004-49b8-8768-7478efef6c05",
   "metadata": {},
   "outputs": [],
   "source": [
    "sellers_dataset.head()"
   ]
  },
  {
   "cell_type": "code",
   "execution_count": null,
   "id": "6a01523d-7ee3-4874-b577-ad26e3ea5bee",
   "metadata": {},
   "outputs": [],
   "source": [
    "sellers_dataset.dtypes"
   ]
  },
  {
   "cell_type": "code",
   "execution_count": null,
   "id": "88f29edd-7ffc-42a9-86c8-f5d489c18dcf",
   "metadata": {},
   "outputs": [],
   "source": [
    "sellers_dataset.shape"
   ]
  },
  {
   "cell_type": "markdown",
   "id": "ba2da421-d446-40fb-8c78-af05e18850b8",
   "metadata": {},
   "source": [
    "### Valores faltantes"
   ]
  },
  {
   "cell_type": "code",
   "execution_count": null,
   "id": "9b84c645-e753-43ce-a301-4c4eb638f49d",
   "metadata": {},
   "outputs": [],
   "source": [
    "sellers_dataset.isnull().sum()"
   ]
  },
  {
   "cell_type": "markdown",
   "id": "7009bc72-807e-4f44-bb92-8cb2a7411184",
   "metadata": {},
   "source": [
    "### Duplicatas"
   ]
  },
  {
   "cell_type": "code",
   "execution_count": null,
   "id": "24ddb27e-f402-489f-8e35-0574c614cdc2",
   "metadata": {},
   "outputs": [],
   "source": [
    "sellers_dataset.duplicated().sum()"
   ]
  },
  {
   "cell_type": "code",
   "execution_count": null,
   "id": "1b28c53e-5c43-4fab-b158-85f9f7dd2e5c",
   "metadata": {},
   "outputs": [],
   "source": [
    "sellers_dataset.duplicated().value_counts()"
   ]
  },
  {
   "cell_type": "markdown",
   "id": "f33d0c95-529f-4cef-b535-60cbe2a389ec",
   "metadata": {},
   "source": [
    "### Excluindo colunas"
   ]
  },
  {
   "cell_type": "code",
   "execution_count": null,
   "id": "d8a1da8d-b7f0-49e7-a129-eeef473e7a2b",
   "metadata": {},
   "outputs": [],
   "source": [
    "columns_drop = sellers_dataset.columns[[1,2,3]]"
   ]
  },
  {
   "cell_type": "code",
   "execution_count": null,
   "id": "57ccee79-f8e7-4386-a004-e6ce8f623902",
   "metadata": {},
   "outputs": [],
   "source": [
    "sellers_df_cleaned = sellers_dataset.drop(columns=columns_drop, axis=1)"
   ]
  },
  {
   "cell_type": "code",
   "execution_count": null,
   "id": "32eaaf60-a352-42a8-9e82-d456db824457",
   "metadata": {},
   "outputs": [],
   "source": [
    "sellers_df_cleaned.dtypes"
   ]
  },
  {
   "cell_type": "markdown",
   "id": "2f43f7cc-6fba-4426-8162-69afd1256bbc",
   "metadata": {},
   "source": [
    "# ---------------------------------------------------------------------------------------------------------------------"
   ]
  },
  {
   "cell_type": "markdown",
   "id": "adb3986a-8e40-445d-925b-190a065c5909",
   "metadata": {},
   "source": [
    "# Quais são as categorias com maior e menor receita?"
   ]
  },
  {
   "cell_type": "markdown",
   "id": "9c0d6c46-0cfe-4e66-a814-40fe83b8bf05",
   "metadata": {},
   "source": [
    "### Merge dos datasets products, order items, orders e order payments"
   ]
  },
  {
   "cell_type": "code",
   "execution_count": null,
   "id": "6ad33a5a-a32e-4cde-a3c5-d723af736974",
   "metadata": {},
   "outputs": [],
   "source": [
    "merged_df = pd.merge(order_items_df_cleaned, products_df_cleaned, on='product_id', how='inner')\n",
    "merged_df.head()"
   ]
  },
  {
   "cell_type": "code",
   "execution_count": null,
   "id": "688e4295-80ad-49f8-93b0-cef0fee70f71",
   "metadata": {},
   "outputs": [],
   "source": [
    "merged_df = pd.merge(merged_df, orders_df_cleaned, on='order_id', how='inner')\n",
    "merged_df.head()"
   ]
  },
  {
   "cell_type": "code",
   "execution_count": null,
   "id": "c3d3cce9-40f9-4b30-ad3a-8b236500f627",
   "metadata": {},
   "outputs": [],
   "source": [
    "merged_df = pd.merge(merged_df, order_payments_df_cleaned, on='order_id', how='inner')\n",
    "merged_df.head()"
   ]
  },
  {
   "cell_type": "markdown",
   "id": "cdd6d212-2770-4e1e-9d40-d09f46725b32",
   "metadata": {},
   "source": [
    "### Valores faltantes"
   ]
  },
  {
   "cell_type": "code",
   "execution_count": null,
   "id": "f2fe8003-30d0-43b6-a153-f193bf7c1536",
   "metadata": {},
   "outputs": [],
   "source": [
    "merged_df.isnull().sum()"
   ]
  },
  {
   "cell_type": "markdown",
   "id": "f05f3d90-3e8c-4c7b-9da8-33ed2aab6cae",
   "metadata": {},
   "source": [
    "### Duplicatas"
   ]
  },
  {
   "cell_type": "code",
   "execution_count": null,
   "id": "68f91851-2bcd-4975-87c9-f8ef3c6900fe",
   "metadata": {},
   "outputs": [],
   "source": [
    "merged_df.duplicated().sum()"
   ]
  },
  {
   "cell_type": "markdown",
   "id": "1807d53d-626d-4864-b420-852621144227",
   "metadata": {},
   "source": [
    "**Excluindo as duplicatas utilizando como parâmetros as chaves que uniram os dataframes**"
   ]
  },
  {
   "cell_type": "code",
   "execution_count": null,
   "id": "ddbe9a11-55e1-4980-83e2-4b15335ed6cd",
   "metadata": {},
   "outputs": [],
   "source": [
    "final_merged_df = merged_df.drop_duplicates(subset=(['order_id', 'product_id']))"
   ]
  },
  {
   "cell_type": "code",
   "execution_count": null,
   "id": "7f07b2a5-35df-4a40-835b-2d03298058aa",
   "metadata": {},
   "outputs": [],
   "source": [
    "final_merged_df.shape"
   ]
  },
  {
   "cell_type": "code",
   "execution_count": null,
   "id": "edbfea3b-2146-4864-92c4-2442683a26e3",
   "metadata": {},
   "outputs": [],
   "source": [
    "final_merged_df.duplicated().sum()"
   ]
  },
  {
   "cell_type": "markdown",
   "id": "825365c6-82f8-410d-990f-1f070593f0c9",
   "metadata": {},
   "source": [
    "### Agrupando pela categoria e o valor total"
   ]
  },
  {
   "cell_type": "code",
   "execution_count": null,
   "id": "29405d69-fb2f-4e85-80f6-a710a7874f98",
   "metadata": {},
   "outputs": [],
   "source": [
    "group_by_category_payment = final_merged.groupby('product_category_name')['payment_value']"
   ]
  },
  {
   "cell_type": "code",
   "execution_count": null,
   "id": "76b63d04-f053-4482-9f3d-2a8de4579d8f",
   "metadata": {},
   "outputs": [],
   "source": [
    "# somando os payment values das categorias\n",
    "group_by_category_payment = group_by_category_payment.sum()"
   ]
  },
  {
   "cell_type": "code",
   "execution_count": null,
   "id": "77086174-6e1f-4f3e-a973-e310a25c6c86",
   "metadata": {},
   "outputs": [],
   "source": [
    "df_category_payment = group_by_category_payment.reset_index()"
   ]
  },
  {
   "cell_type": "code",
   "execution_count": null,
   "id": "008faf6a-942d-42fc-b101-6aca4c8dd38f",
   "metadata": {},
   "outputs": [],
   "source": [
    "df_category_payment"
   ]
  },
  {
   "cell_type": "code",
   "execution_count": null,
   "id": "1e117791-d6c6-4f99-b091-d9cf2ef8fd94",
   "metadata": {},
   "outputs": [],
   "source": [
    "df_category_payment_sorted = df_category_payment.sort_values(by=['payment_value'], ascending=False)"
   ]
  },
  {
   "cell_type": "markdown",
   "id": "83c2fc82-5eb9-4b1a-b3f2-7b850598d7bf",
   "metadata": {},
   "source": [
    "beleza_saude - 1162367.44\n",
    "\n",
    "seguro_e_servicos - 115.45"
   ]
  },
  {
   "cell_type": "code",
   "execution_count": null,
   "id": "c4fe2005-d4f9-48a8-973d-8ad40b5e6769",
   "metadata": {},
   "outputs": [],
   "source": [
    "df_category_payment_sorted"
   ]
  },
  {
   "cell_type": "markdown",
   "id": "8c83e2d9-1fa8-452e-96af-532389c7292b",
   "metadata": {},
   "source": [
    "### Visualização através do gráfico de barras"
   ]
  },
  {
   "cell_type": "code",
   "execution_count": null,
   "id": "9f119e11-3b96-4395-b610-a21eb8712df0",
   "metadata": {},
   "outputs": [],
   "source": [
    "top_10_categories = df_category_payment_sorted.head(10)"
   ]
  },
  {
   "cell_type": "code",
   "execution_count": null,
   "id": "8704d158-9617-4173-9607-bbb18c172956",
   "metadata": {},
   "outputs": [],
   "source": [
    "bottom_10_categories = df_category_payment_sorted.tail(10)"
   ]
  },
  {
   "cell_type": "code",
   "execution_count": 90,
   "id": "95237a1b-e624-4014-8f3f-d5dca86c6423",
   "metadata": {},
   "outputs": [
    {
     "ename": "NameError",
     "evalue": "name 'top_10_categories' is not defined",
     "output_type": "error",
     "traceback": [
      "\u001b[0;31m---------------------------------------------------------------------------\u001b[0m",
      "\u001b[0;31mNameError\u001b[0m                                 Traceback (most recent call last)",
      "Cell \u001b[0;32mIn[90], line 2\u001b[0m\n\u001b[1;32m      1\u001b[0m plt\u001b[38;5;241m.\u001b[39mfigure(figsize\u001b[38;5;241m=\u001b[39m(\u001b[38;5;241m10\u001b[39m,\u001b[38;5;241m6\u001b[39m))\n\u001b[0;32m----> 2\u001b[0m sns\u001b[38;5;241m.\u001b[39mbarplot(data\u001b[38;5;241m=\u001b[39m\u001b[43mtop_10_categories\u001b[49m, x\u001b[38;5;241m=\u001b[39m\u001b[38;5;124m'\u001b[39m\u001b[38;5;124mpayment_value\u001b[39m\u001b[38;5;124m'\u001b[39m, y\u001b[38;5;241m=\u001b[39m\u001b[38;5;124m'\u001b[39m\u001b[38;5;124mproduct_category_name\u001b[39m\u001b[38;5;124m'\u001b[39m, hue\u001b[38;5;241m=\u001b[39m\u001b[38;5;124m'\u001b[39m\u001b[38;5;124mproduct_category_name\u001b[39m\u001b[38;5;124m'\u001b[39m)\n\u001b[1;32m      4\u001b[0m \u001b[38;5;66;03m# Personalizando o gráfico\u001b[39;00m\n\u001b[1;32m      5\u001b[0m plt\u001b[38;5;241m.\u001b[39mtitle(\u001b[38;5;124m'\u001b[39m\u001b[38;5;124mCategorias com maior receita\u001b[39m\u001b[38;5;124m'\u001b[39m, fontsize\u001b[38;5;241m=\u001b[39m\u001b[38;5;241m16\u001b[39m)\n",
      "\u001b[0;31mNameError\u001b[0m: name 'top_10_categories' is not defined"
     ]
    },
    {
     "data": {
      "text/plain": [
       "<Figure size 1000x600 with 0 Axes>"
      ]
     },
     "metadata": {},
     "output_type": "display_data"
    }
   ],
   "source": [
    "plt.figure(figsize=(10,6))\n",
    "sns.barplot(data=top_10_categories, x='payment_value', y='product_category_name', hue='product_category_name')\n",
    "\n",
    "# Personalizando o gráfico\n",
    "plt.title('Categorias com maior receita', fontsize=16)\n",
    "plt.xlabel('Receita total (R$)', fontsize=12)\n",
    "plt.ylabel('Categoria do Produto', fontsize=12)\n",
    "plt.tight_layout()\n",
    "\n",
    "plt.show()"
   ]
  },
  {
   "cell_type": "code",
   "execution_count": null,
   "id": "742ab891-daf3-4b46-ab26-ff80b46e8662",
   "metadata": {},
   "outputs": [],
   "source": [
    "plt.figure(figsize=(10,6))\n",
    "sns.barplot(data=bottom_10_categories, x='payment_value', y='product_category_name', hue='product_category_name')\n",
    "\n",
    "# Personalizando o gráfico\n",
    "plt.title('Categorias com menor receita', fontsize=16)\n",
    "plt.xlabel('Receita total (R$)', fontsize=12)\n",
    "plt.ylabel('Categoria do produto', fontsize=12)\n",
    "plt.tight_layout()\n",
    "\n",
    "plt.show()"
   ]
  },
  {
   "cell_type": "code",
   "execution_count": null,
   "id": "363e78e0-a2c9-46bf-bb41-f55de525177e",
   "metadata": {},
   "outputs": [],
   "source": []
  }
 ],
 "metadata": {
  "kernelspec": {
   "display_name": "Python 3 (ipykernel)",
   "language": "python",
   "name": "python3"
  },
  "language_info": {
   "codemirror_mode": {
    "name": "ipython",
    "version": 3
   },
   "file_extension": ".py",
   "mimetype": "text/x-python",
   "name": "python",
   "nbconvert_exporter": "python",
   "pygments_lexer": "ipython3",
   "version": "3.13.0"
  }
 },
 "nbformat": 4,
 "nbformat_minor": 5
}
