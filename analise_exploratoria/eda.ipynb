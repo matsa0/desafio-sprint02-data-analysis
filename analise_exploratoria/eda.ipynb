{
 "cells": [
  {
   "cell_type": "markdown",
   "id": "76f2168d-f627-4a8a-b62f-8f57d98f381d",
   "metadata": {},
   "source": [
    "# Imports"
   ]
  },
  {
   "cell_type": "code",
   "execution_count": 259,
   "id": "25fefc74-8f39-491c-8f98-3eccc1b5396f",
   "metadata": {},
   "outputs": [],
   "source": [
    "import pandas as pd\n",
    "import glob \n",
    "import numpy as np\n",
    "import matplotlib.pyplot as plt\n",
    "import seaborn as sns\n",
    "from sklearn.linear_model import LinearRegression\n",
    "\n",
    "pd.set_option('display.max_colwidth', None)"
   ]
  },
  {
   "cell_type": "markdown",
   "id": "879b7866-6e6a-4475-a709-459a11d37dfd",
   "metadata": {},
   "source": [
    "# Loading Datasets"
   ]
  },
  {
   "cell_type": "code",
   "execution_count": 230,
   "id": "b6142e57-c578-4480-801b-c0ed89e83561",
   "metadata": {},
   "outputs": [],
   "source": [
    "DATASETS_PATH = \"../data/\"\n",
    "\n",
    "# customers\n",
    "customers_df = pd.read_csv(DATASETS_PATH + \"olist_customers_dataset.csv\")\n",
    "geolocation_df = pd.read_csv(DATASETS_PATH + \"olist_geolocation_dataset.csv\")\n",
    "\n",
    "# order\n",
    "orders_df = pd.read_csv(DATASETS_PATH + \"olist_orders_dataset.csv\")\n",
    "order_items_df = pd.read_csv(DATASETS_PATH + \"olist_order_items_dataset.csv\")\n",
    "order_payments_df = pd.read_csv(DATASETS_PATH + \"olist_order_payments_dataset.csv\")\n",
    "order_reviews_df = pd.read_csv(DATASETS_PATH + \"olist_order_reviews_dataset.csv\")\n",
    "\n",
    "# products\n",
    "products_df = pd.read_csv(DATASETS_PATH + \"olist_products_dataset.csv\")\n",
    "products_translation_df = pd.read_csv(DATASETS_PATH + \"product_category_name_translation.csv\")\n",
    "\n",
    "# sellers\n",
    "sellers_df = pd.read_csv(DATASETS_PATH + \"olist_sellers_dataset.csv\")"
   ]
  },
  {
   "cell_type": "markdown",
   "id": "f253076d-b944-441c-9681-26d469f752a3",
   "metadata": {},
   "source": [
    "# Descriptive statistics"
   ]
  },
  {
   "cell_type": "code",
   "execution_count": 231,
   "id": "1dfe96b0-c4be-47e3-8ebe-9e30f3a4c60f",
   "metadata": {},
   "outputs": [],
   "source": [
    "dfs = {\n",
    "    \"Customers\": customers_df,\n",
    "    \"Location\": geolocation_df,\n",
    "    \"Orders\": orders_df,\n",
    "    \"Order Payments\": order_payments_df,\n",
    "    \"Order Reviews\": order_reviews_df,\n",
    "    \"Products\": products_df,\n",
    "    \"Products Translation\": products_translation_df,\n",
    "    \"Sellers\": sellers_df\n",
    "}\n",
    "\n",
    "def dfs_basic_infos(dfs: dict):\n",
    "    \"\"\"\n",
    "    Print basic infos of all dataframes (shape, columns, duplicated, NaN)\n",
    "\n",
    "    Args:\n",
    "        dfs (dict): pair key-value (key = \"Name of the dataframe\", value = \"Dataframe variable\")\n",
    "    \"\"\"\n",
    "    for name, df in dfs.items():\n",
    "        df_shape = df.shape\n",
    "        numeric_cols = df.select_dtypes(include=np.number).columns.values\n",
    "        categoric_cols = df.select_dtypes(exclude=np.number).columns.values\n",
    "    \n",
    "        print(20 * '-', f\"Dataset {name}\", 20 * '-')\n",
    "        print(f\"{'Shape:':<35} {df_shape}\")\n",
    "        print(f\"{'Numerical columns:':<35} {numeric_cols}\")\n",
    "        print(f\"{'Categorical columns:':<35} {categoric_cols}\")\n",
    "        print(f\"{'Number of duplicated values:':<35} {df.duplicated().sum()}\")\n",
    "        print(f\"{'Number of duplicated values (%):':<35} {round((df.duplicated().sum() / len(df)) * 100, 2)}\")\n",
    "        print(f\"\\n{'NaN values:':<35}\")\n",
    "        print(df.isna().sum())\n",
    "        print()\n",
    "\n",
    "def numeric_columns_statistics(dfs: dict):\n",
    "    \"\"\"\n",
    "    Print the describe() command for all datasets\n",
    "\n",
    "    Args:\n",
    "        dfs (dict): pair key-value (key = \"Name of the dataframe\", value = \"Dataframe variable\")\n",
    "    \"\"\"\n",
    "    for name, df in dfs.items():\n",
    "        print(20 * '-', f\"Dataset {name}\", 20 * '-')\n",
    "        print(df.describe())\n",
    "        print()\n",
    "\n",
    "def head_of_dfs(dfs: dict):\n",
    "    \"\"\"\n",
    "    Print the describe() command for all datasets\n",
    "\n",
    "    Args:\n",
    "        dfs (dict): pair key-value (key = \"Name of the dataframe\", value = \"Dataframe variable\")\n",
    "    \"\"\"\n",
    "    for name, df in dfs.items():\n",
    "        print(20 * '-', f\"Dataset {name}\", 20 * '-')\n",
    "        display(df.head())\n",
    "        print()"
   ]
  },
  {
   "cell_type": "markdown",
   "id": "d1f836be-2610-4244-844f-0166df8e7084",
   "metadata": {
    "jp-MarkdownHeadingCollapsed": true
   },
   "source": [
    "## Basic Infos"
   ]
  },
  {
   "cell_type": "code",
   "execution_count": 232,
   "id": "2f7d835b-086d-42dd-a733-b00c68bc5ed5",
   "metadata": {},
   "outputs": [
    {
     "name": "stdout",
     "output_type": "stream",
     "text": [
      "-------------------- Dataset Customers --------------------\n",
      "Shape:                              (99441, 5)\n",
      "Numerical columns:                  ['customer_zip_code_prefix']\n",
      "Categorical columns:                ['customer_id' 'customer_unique_id' 'customer_city' 'customer_state']\n",
      "Number of duplicated values:        0\n",
      "Number of duplicated values (%):    0.0\n",
      "\n",
      "NaN values:                        \n",
      "customer_id                 0\n",
      "customer_unique_id          0\n",
      "customer_zip_code_prefix    0\n",
      "customer_city               0\n",
      "customer_state              0\n",
      "dtype: int64\n",
      "\n",
      "-------------------- Dataset Location --------------------\n",
      "Shape:                              (1000163, 5)\n",
      "Numerical columns:                  ['geolocation_zip_code_prefix' 'geolocation_lat' 'geolocation_lng']\n",
      "Categorical columns:                ['geolocation_city' 'geolocation_state']\n",
      "Number of duplicated values:        261831\n",
      "Number of duplicated values (%):    26.18\n",
      "\n",
      "NaN values:                        \n",
      "geolocation_zip_code_prefix    0\n",
      "geolocation_lat                0\n",
      "geolocation_lng                0\n",
      "geolocation_city               0\n",
      "geolocation_state              0\n",
      "dtype: int64\n",
      "\n",
      "-------------------- Dataset Orders --------------------\n",
      "Shape:                              (99441, 8)\n",
      "Numerical columns:                  []\n",
      "Categorical columns:                ['order_id' 'customer_id' 'order_status' 'order_purchase_timestamp'\n",
      " 'order_approved_at' 'order_delivered_carrier_date'\n",
      " 'order_delivered_customer_date' 'order_estimated_delivery_date']\n",
      "Number of duplicated values:        0\n",
      "Number of duplicated values (%):    0.0\n",
      "\n",
      "NaN values:                        \n",
      "order_id                            0\n",
      "customer_id                         0\n",
      "order_status                        0\n",
      "order_purchase_timestamp            0\n",
      "order_approved_at                 160\n",
      "order_delivered_carrier_date     1783\n",
      "order_delivered_customer_date    2965\n",
      "order_estimated_delivery_date       0\n",
      "dtype: int64\n",
      "\n",
      "-------------------- Dataset Order Payments --------------------\n",
      "Shape:                              (103886, 5)\n",
      "Numerical columns:                  ['payment_sequential' 'payment_installments' 'payment_value']\n",
      "Categorical columns:                ['order_id' 'payment_type']\n",
      "Number of duplicated values:        0\n",
      "Number of duplicated values (%):    0.0\n",
      "\n",
      "NaN values:                        \n",
      "order_id                0\n",
      "payment_sequential      0\n",
      "payment_type            0\n",
      "payment_installments    0\n",
      "payment_value           0\n",
      "dtype: int64\n",
      "\n",
      "-------------------- Dataset Order Reviews --------------------\n",
      "Shape:                              (99224, 7)\n",
      "Numerical columns:                  ['review_score']\n",
      "Categorical columns:                ['review_id' 'order_id' 'review_comment_title' 'review_comment_message'\n",
      " 'review_creation_date' 'review_answer_timestamp']\n",
      "Number of duplicated values:        0\n",
      "Number of duplicated values (%):    0.0\n",
      "\n",
      "NaN values:                        \n",
      "review_id                      0\n",
      "order_id                       0\n",
      "review_score                   0\n",
      "review_comment_title       87656\n",
      "review_comment_message     58247\n",
      "review_creation_date           0\n",
      "review_answer_timestamp        0\n",
      "dtype: int64\n",
      "\n",
      "-------------------- Dataset Products --------------------\n",
      "Shape:                              (32951, 9)\n",
      "Numerical columns:                  ['product_name_lenght' 'product_description_lenght' 'product_photos_qty'\n",
      " 'product_weight_g' 'product_length_cm' 'product_height_cm'\n",
      " 'product_width_cm']\n",
      "Categorical columns:                ['product_id' 'product_category_name']\n",
      "Number of duplicated values:        0\n",
      "Number of duplicated values (%):    0.0\n",
      "\n",
      "NaN values:                        \n",
      "product_id                      0\n",
      "product_category_name         610\n",
      "product_name_lenght           610\n",
      "product_description_lenght    610\n",
      "product_photos_qty            610\n",
      "product_weight_g                2\n",
      "product_length_cm               2\n",
      "product_height_cm               2\n",
      "product_width_cm                2\n",
      "dtype: int64\n",
      "\n",
      "-------------------- Dataset Products Translation --------------------\n",
      "Shape:                              (71, 2)\n",
      "Numerical columns:                  []\n",
      "Categorical columns:                ['product_category_name' 'product_category_name_english']\n",
      "Number of duplicated values:        0\n",
      "Number of duplicated values (%):    0.0\n",
      "\n",
      "NaN values:                        \n",
      "product_category_name            0\n",
      "product_category_name_english    0\n",
      "dtype: int64\n",
      "\n",
      "-------------------- Dataset Sellers --------------------\n",
      "Shape:                              (3095, 4)\n",
      "Numerical columns:                  ['seller_zip_code_prefix']\n",
      "Categorical columns:                ['seller_id' 'seller_city' 'seller_state']\n",
      "Number of duplicated values:        0\n",
      "Number of duplicated values (%):    0.0\n",
      "\n",
      "NaN values:                        \n",
      "seller_id                 0\n",
      "seller_zip_code_prefix    0\n",
      "seller_city               0\n",
      "seller_state              0\n",
      "dtype: int64\n",
      "\n"
     ]
    }
   ],
   "source": [
    "dfs_basic_infos(dfs)"
   ]
  },
  {
   "cell_type": "markdown",
   "id": "13fcdd0c-5d6d-4eb6-b2f0-26c70ba2a650",
   "metadata": {},
   "source": [
    "## Numeric Columns Statistics"
   ]
  },
  {
   "cell_type": "code",
   "execution_count": 233,
   "id": "0ee0b48a-adb0-4e2b-af2f-ce3784c6cd3a",
   "metadata": {},
   "outputs": [
    {
     "name": "stdout",
     "output_type": "stream",
     "text": [
      "-------------------- Dataset Customers --------------------\n",
      "       customer_zip_code_prefix\n",
      "count              99441.000000\n",
      "mean               35137.474583\n",
      "std                29797.938996\n",
      "min                 1003.000000\n",
      "25%                11347.000000\n",
      "50%                24416.000000\n",
      "75%                58900.000000\n",
      "max                99990.000000\n",
      "\n",
      "-------------------- Dataset Location --------------------\n",
      "       geolocation_zip_code_prefix  geolocation_lat  geolocation_lng\n",
      "count                 1.000163e+06     1.000163e+06     1.000163e+06\n",
      "mean                  3.657417e+04    -2.117615e+01    -4.639054e+01\n",
      "std                   3.054934e+04     5.715866e+00     4.269748e+00\n",
      "min                   1.001000e+03    -3.660537e+01    -1.014668e+02\n",
      "25%                   1.107500e+04    -2.360355e+01    -4.857317e+01\n",
      "50%                   2.653000e+04    -2.291938e+01    -4.663788e+01\n",
      "75%                   6.350400e+04    -1.997962e+01    -4.376771e+01\n",
      "max                   9.999000e+04     4.506593e+01     1.211054e+02\n",
      "\n",
      "-------------------- Dataset Orders --------------------\n",
      "                                order_id                       customer_id  \\\n",
      "count                              99441                             99441   \n",
      "unique                             99441                             99441   \n",
      "top     e481f51cbdc54678b7cc49136f2d6af7  9ef432eb6251297304e76186b10a928d   \n",
      "freq                                   1                                 1   \n",
      "\n",
      "       order_status order_purchase_timestamp    order_approved_at  \\\n",
      "count         99441                    99441                99281   \n",
      "unique            8                    98875                90733   \n",
      "top       delivered      2018-08-02 12:06:07  2018-02-27 04:31:10   \n",
      "freq          96478                        3                    9   \n",
      "\n",
      "       order_delivered_carrier_date order_delivered_customer_date  \\\n",
      "count                         97658                         96476   \n",
      "unique                        81018                         95664   \n",
      "top             2018-05-09 15:48:00           2018-05-14 20:02:44   \n",
      "freq                             47                             3   \n",
      "\n",
      "       order_estimated_delivery_date  \n",
      "count                          99441  \n",
      "unique                           459  \n",
      "top              2017-12-20 00:00:00  \n",
      "freq                             522  \n",
      "\n",
      "-------------------- Dataset Order Payments --------------------\n",
      "       payment_sequential  payment_installments  payment_value\n",
      "count       103886.000000         103886.000000  103886.000000\n",
      "mean             1.092679              2.853349     154.100380\n",
      "std              0.706584              2.687051     217.494064\n",
      "min              1.000000              0.000000       0.000000\n",
      "25%              1.000000              1.000000      56.790000\n",
      "50%              1.000000              1.000000     100.000000\n",
      "75%              1.000000              4.000000     171.837500\n",
      "max             29.000000             24.000000   13664.080000\n",
      "\n",
      "-------------------- Dataset Order Reviews --------------------\n",
      "       review_score\n",
      "count  99224.000000\n",
      "mean       4.086421\n",
      "std        1.347579\n",
      "min        1.000000\n",
      "25%        4.000000\n",
      "50%        5.000000\n",
      "75%        5.000000\n",
      "max        5.000000\n",
      "\n",
      "-------------------- Dataset Products --------------------\n",
      "       product_name_lenght  product_description_lenght  product_photos_qty  \\\n",
      "count         32341.000000                32341.000000        32341.000000   \n",
      "mean             48.476949                  771.495285            2.188986   \n",
      "std              10.245741                  635.115225            1.736766   \n",
      "min               5.000000                    4.000000            1.000000   \n",
      "25%              42.000000                  339.000000            1.000000   \n",
      "50%              51.000000                  595.000000            1.000000   \n",
      "75%              57.000000                  972.000000            3.000000   \n",
      "max              76.000000                 3992.000000           20.000000   \n",
      "\n",
      "       product_weight_g  product_length_cm  product_height_cm  \\\n",
      "count      32949.000000       32949.000000       32949.000000   \n",
      "mean        2276.472488          30.815078          16.937661   \n",
      "std         4282.038731          16.914458          13.637554   \n",
      "min            0.000000           7.000000           2.000000   \n",
      "25%          300.000000          18.000000           8.000000   \n",
      "50%          700.000000          25.000000          13.000000   \n",
      "75%         1900.000000          38.000000          21.000000   \n",
      "max        40425.000000         105.000000         105.000000   \n",
      "\n",
      "       product_width_cm  \n",
      "count      32949.000000  \n",
      "mean          23.196728  \n",
      "std           12.079047  \n",
      "min            6.000000  \n",
      "25%           15.000000  \n",
      "50%           20.000000  \n",
      "75%           30.000000  \n",
      "max          118.000000  \n",
      "\n",
      "-------------------- Dataset Products Translation --------------------\n",
      "       product_category_name product_category_name_english\n",
      "count                     71                            71\n",
      "unique                    71                            71\n",
      "top             beleza_saude                 health_beauty\n",
      "freq                       1                             1\n",
      "\n",
      "-------------------- Dataset Sellers --------------------\n",
      "       seller_zip_code_prefix\n",
      "count             3095.000000\n",
      "mean             32291.059451\n",
      "std              32713.453830\n",
      "min               1001.000000\n",
      "25%               7093.500000\n",
      "50%              14940.000000\n",
      "75%              64552.500000\n",
      "max              99730.000000\n",
      "\n"
     ]
    }
   ],
   "source": [
    "numeric_columns_statistics(dfs)"
   ]
  },
  {
   "cell_type": "markdown",
   "id": "630ef2c4-d992-4b94-ba73-4ea4b13a9aa4",
   "metadata": {},
   "source": [
    "## Head of dfs (first 5 rows)"
   ]
  },
  {
   "cell_type": "code",
   "execution_count": 234,
   "id": "deb669b7-fb50-4627-92e3-24f76a14694d",
   "metadata": {},
   "outputs": [
    {
     "name": "stdout",
     "output_type": "stream",
     "text": [
      "-------------------- Dataset Customers --------------------\n"
     ]
    },
    {
     "data": {
      "text/html": [
       "<div>\n",
       "<style scoped>\n",
       "    .dataframe tbody tr th:only-of-type {\n",
       "        vertical-align: middle;\n",
       "    }\n",
       "\n",
       "    .dataframe tbody tr th {\n",
       "        vertical-align: top;\n",
       "    }\n",
       "\n",
       "    .dataframe thead th {\n",
       "        text-align: right;\n",
       "    }\n",
       "</style>\n",
       "<table border=\"1\" class=\"dataframe\">\n",
       "  <thead>\n",
       "    <tr style=\"text-align: right;\">\n",
       "      <th></th>\n",
       "      <th>customer_id</th>\n",
       "      <th>customer_unique_id</th>\n",
       "      <th>customer_zip_code_prefix</th>\n",
       "      <th>customer_city</th>\n",
       "      <th>customer_state</th>\n",
       "    </tr>\n",
       "  </thead>\n",
       "  <tbody>\n",
       "    <tr>\n",
       "      <th>0</th>\n",
       "      <td>06b8999e2fba1a1fbc88172c00ba8bc7</td>\n",
       "      <td>861eff4711a542e4b93843c6dd7febb0</td>\n",
       "      <td>14409</td>\n",
       "      <td>franca</td>\n",
       "      <td>SP</td>\n",
       "    </tr>\n",
       "    <tr>\n",
       "      <th>1</th>\n",
       "      <td>18955e83d337fd6b2def6b18a428ac77</td>\n",
       "      <td>290c77bc529b7ac935b93aa66c333dc3</td>\n",
       "      <td>9790</td>\n",
       "      <td>sao bernardo do campo</td>\n",
       "      <td>SP</td>\n",
       "    </tr>\n",
       "    <tr>\n",
       "      <th>2</th>\n",
       "      <td>4e7b3e00288586ebd08712fdd0374a03</td>\n",
       "      <td>060e732b5b29e8181a18229c7b0b2b5e</td>\n",
       "      <td>1151</td>\n",
       "      <td>sao paulo</td>\n",
       "      <td>SP</td>\n",
       "    </tr>\n",
       "    <tr>\n",
       "      <th>3</th>\n",
       "      <td>b2b6027bc5c5109e529d4dc6358b12c3</td>\n",
       "      <td>259dac757896d24d7702b9acbbff3f3c</td>\n",
       "      <td>8775</td>\n",
       "      <td>mogi das cruzes</td>\n",
       "      <td>SP</td>\n",
       "    </tr>\n",
       "    <tr>\n",
       "      <th>4</th>\n",
       "      <td>4f2d8ab171c80ec8364f7c12e35b23ad</td>\n",
       "      <td>345ecd01c38d18a9036ed96c73b8d066</td>\n",
       "      <td>13056</td>\n",
       "      <td>campinas</td>\n",
       "      <td>SP</td>\n",
       "    </tr>\n",
       "  </tbody>\n",
       "</table>\n",
       "</div>"
      ],
      "text/plain": [
       "                        customer_id                customer_unique_id  \\\n",
       "0  06b8999e2fba1a1fbc88172c00ba8bc7  861eff4711a542e4b93843c6dd7febb0   \n",
       "1  18955e83d337fd6b2def6b18a428ac77  290c77bc529b7ac935b93aa66c333dc3   \n",
       "2  4e7b3e00288586ebd08712fdd0374a03  060e732b5b29e8181a18229c7b0b2b5e   \n",
       "3  b2b6027bc5c5109e529d4dc6358b12c3  259dac757896d24d7702b9acbbff3f3c   \n",
       "4  4f2d8ab171c80ec8364f7c12e35b23ad  345ecd01c38d18a9036ed96c73b8d066   \n",
       "\n",
       "   customer_zip_code_prefix          customer_city customer_state  \n",
       "0                     14409                 franca             SP  \n",
       "1                      9790  sao bernardo do campo             SP  \n",
       "2                      1151              sao paulo             SP  \n",
       "3                      8775        mogi das cruzes             SP  \n",
       "4                     13056               campinas             SP  "
      ]
     },
     "metadata": {},
     "output_type": "display_data"
    },
    {
     "name": "stdout",
     "output_type": "stream",
     "text": [
      "\n",
      "-------------------- Dataset Location --------------------\n"
     ]
    },
    {
     "data": {
      "text/html": [
       "<div>\n",
       "<style scoped>\n",
       "    .dataframe tbody tr th:only-of-type {\n",
       "        vertical-align: middle;\n",
       "    }\n",
       "\n",
       "    .dataframe tbody tr th {\n",
       "        vertical-align: top;\n",
       "    }\n",
       "\n",
       "    .dataframe thead th {\n",
       "        text-align: right;\n",
       "    }\n",
       "</style>\n",
       "<table border=\"1\" class=\"dataframe\">\n",
       "  <thead>\n",
       "    <tr style=\"text-align: right;\">\n",
       "      <th></th>\n",
       "      <th>geolocation_zip_code_prefix</th>\n",
       "      <th>geolocation_lat</th>\n",
       "      <th>geolocation_lng</th>\n",
       "      <th>geolocation_city</th>\n",
       "      <th>geolocation_state</th>\n",
       "    </tr>\n",
       "  </thead>\n",
       "  <tbody>\n",
       "    <tr>\n",
       "      <th>0</th>\n",
       "      <td>1037</td>\n",
       "      <td>-23.545621</td>\n",
       "      <td>-46.639292</td>\n",
       "      <td>sao paulo</td>\n",
       "      <td>SP</td>\n",
       "    </tr>\n",
       "    <tr>\n",
       "      <th>1</th>\n",
       "      <td>1046</td>\n",
       "      <td>-23.546081</td>\n",
       "      <td>-46.644820</td>\n",
       "      <td>sao paulo</td>\n",
       "      <td>SP</td>\n",
       "    </tr>\n",
       "    <tr>\n",
       "      <th>2</th>\n",
       "      <td>1046</td>\n",
       "      <td>-23.546129</td>\n",
       "      <td>-46.642951</td>\n",
       "      <td>sao paulo</td>\n",
       "      <td>SP</td>\n",
       "    </tr>\n",
       "    <tr>\n",
       "      <th>3</th>\n",
       "      <td>1041</td>\n",
       "      <td>-23.544392</td>\n",
       "      <td>-46.639499</td>\n",
       "      <td>sao paulo</td>\n",
       "      <td>SP</td>\n",
       "    </tr>\n",
       "    <tr>\n",
       "      <th>4</th>\n",
       "      <td>1035</td>\n",
       "      <td>-23.541578</td>\n",
       "      <td>-46.641607</td>\n",
       "      <td>sao paulo</td>\n",
       "      <td>SP</td>\n",
       "    </tr>\n",
       "  </tbody>\n",
       "</table>\n",
       "</div>"
      ],
      "text/plain": [
       "   geolocation_zip_code_prefix  geolocation_lat  geolocation_lng  \\\n",
       "0                         1037       -23.545621       -46.639292   \n",
       "1                         1046       -23.546081       -46.644820   \n",
       "2                         1046       -23.546129       -46.642951   \n",
       "3                         1041       -23.544392       -46.639499   \n",
       "4                         1035       -23.541578       -46.641607   \n",
       "\n",
       "  geolocation_city geolocation_state  \n",
       "0        sao paulo                SP  \n",
       "1        sao paulo                SP  \n",
       "2        sao paulo                SP  \n",
       "3        sao paulo                SP  \n",
       "4        sao paulo                SP  "
      ]
     },
     "metadata": {},
     "output_type": "display_data"
    },
    {
     "name": "stdout",
     "output_type": "stream",
     "text": [
      "\n",
      "-------------------- Dataset Orders --------------------\n"
     ]
    },
    {
     "data": {
      "text/html": [
       "<div>\n",
       "<style scoped>\n",
       "    .dataframe tbody tr th:only-of-type {\n",
       "        vertical-align: middle;\n",
       "    }\n",
       "\n",
       "    .dataframe tbody tr th {\n",
       "        vertical-align: top;\n",
       "    }\n",
       "\n",
       "    .dataframe thead th {\n",
       "        text-align: right;\n",
       "    }\n",
       "</style>\n",
       "<table border=\"1\" class=\"dataframe\">\n",
       "  <thead>\n",
       "    <tr style=\"text-align: right;\">\n",
       "      <th></th>\n",
       "      <th>order_id</th>\n",
       "      <th>customer_id</th>\n",
       "      <th>order_status</th>\n",
       "      <th>order_purchase_timestamp</th>\n",
       "      <th>order_approved_at</th>\n",
       "      <th>order_delivered_carrier_date</th>\n",
       "      <th>order_delivered_customer_date</th>\n",
       "      <th>order_estimated_delivery_date</th>\n",
       "    </tr>\n",
       "  </thead>\n",
       "  <tbody>\n",
       "    <tr>\n",
       "      <th>0</th>\n",
       "      <td>e481f51cbdc54678b7cc49136f2d6af7</td>\n",
       "      <td>9ef432eb6251297304e76186b10a928d</td>\n",
       "      <td>delivered</td>\n",
       "      <td>2017-10-02 10:56:33</td>\n",
       "      <td>2017-10-02 11:07:15</td>\n",
       "      <td>2017-10-04 19:55:00</td>\n",
       "      <td>2017-10-10 21:25:13</td>\n",
       "      <td>2017-10-18 00:00:00</td>\n",
       "    </tr>\n",
       "    <tr>\n",
       "      <th>1</th>\n",
       "      <td>53cdb2fc8bc7dce0b6741e2150273451</td>\n",
       "      <td>b0830fb4747a6c6d20dea0b8c802d7ef</td>\n",
       "      <td>delivered</td>\n",
       "      <td>2018-07-24 20:41:37</td>\n",
       "      <td>2018-07-26 03:24:27</td>\n",
       "      <td>2018-07-26 14:31:00</td>\n",
       "      <td>2018-08-07 15:27:45</td>\n",
       "      <td>2018-08-13 00:00:00</td>\n",
       "    </tr>\n",
       "    <tr>\n",
       "      <th>2</th>\n",
       "      <td>47770eb9100c2d0c44946d9cf07ec65d</td>\n",
       "      <td>41ce2a54c0b03bf3443c3d931a367089</td>\n",
       "      <td>delivered</td>\n",
       "      <td>2018-08-08 08:38:49</td>\n",
       "      <td>2018-08-08 08:55:23</td>\n",
       "      <td>2018-08-08 13:50:00</td>\n",
       "      <td>2018-08-17 18:06:29</td>\n",
       "      <td>2018-09-04 00:00:00</td>\n",
       "    </tr>\n",
       "    <tr>\n",
       "      <th>3</th>\n",
       "      <td>949d5b44dbf5de918fe9c16f97b45f8a</td>\n",
       "      <td>f88197465ea7920adcdbec7375364d82</td>\n",
       "      <td>delivered</td>\n",
       "      <td>2017-11-18 19:28:06</td>\n",
       "      <td>2017-11-18 19:45:59</td>\n",
       "      <td>2017-11-22 13:39:59</td>\n",
       "      <td>2017-12-02 00:28:42</td>\n",
       "      <td>2017-12-15 00:00:00</td>\n",
       "    </tr>\n",
       "    <tr>\n",
       "      <th>4</th>\n",
       "      <td>ad21c59c0840e6cb83a9ceb5573f8159</td>\n",
       "      <td>8ab97904e6daea8866dbdbc4fb7aad2c</td>\n",
       "      <td>delivered</td>\n",
       "      <td>2018-02-13 21:18:39</td>\n",
       "      <td>2018-02-13 22:20:29</td>\n",
       "      <td>2018-02-14 19:46:34</td>\n",
       "      <td>2018-02-16 18:17:02</td>\n",
       "      <td>2018-02-26 00:00:00</td>\n",
       "    </tr>\n",
       "  </tbody>\n",
       "</table>\n",
       "</div>"
      ],
      "text/plain": [
       "                           order_id                       customer_id  \\\n",
       "0  e481f51cbdc54678b7cc49136f2d6af7  9ef432eb6251297304e76186b10a928d   \n",
       "1  53cdb2fc8bc7dce0b6741e2150273451  b0830fb4747a6c6d20dea0b8c802d7ef   \n",
       "2  47770eb9100c2d0c44946d9cf07ec65d  41ce2a54c0b03bf3443c3d931a367089   \n",
       "3  949d5b44dbf5de918fe9c16f97b45f8a  f88197465ea7920adcdbec7375364d82   \n",
       "4  ad21c59c0840e6cb83a9ceb5573f8159  8ab97904e6daea8866dbdbc4fb7aad2c   \n",
       "\n",
       "  order_status order_purchase_timestamp    order_approved_at  \\\n",
       "0    delivered      2017-10-02 10:56:33  2017-10-02 11:07:15   \n",
       "1    delivered      2018-07-24 20:41:37  2018-07-26 03:24:27   \n",
       "2    delivered      2018-08-08 08:38:49  2018-08-08 08:55:23   \n",
       "3    delivered      2017-11-18 19:28:06  2017-11-18 19:45:59   \n",
       "4    delivered      2018-02-13 21:18:39  2018-02-13 22:20:29   \n",
       "\n",
       "  order_delivered_carrier_date order_delivered_customer_date  \\\n",
       "0          2017-10-04 19:55:00           2017-10-10 21:25:13   \n",
       "1          2018-07-26 14:31:00           2018-08-07 15:27:45   \n",
       "2          2018-08-08 13:50:00           2018-08-17 18:06:29   \n",
       "3          2017-11-22 13:39:59           2017-12-02 00:28:42   \n",
       "4          2018-02-14 19:46:34           2018-02-16 18:17:02   \n",
       "\n",
       "  order_estimated_delivery_date  \n",
       "0           2017-10-18 00:00:00  \n",
       "1           2018-08-13 00:00:00  \n",
       "2           2018-09-04 00:00:00  \n",
       "3           2017-12-15 00:00:00  \n",
       "4           2018-02-26 00:00:00  "
      ]
     },
     "metadata": {},
     "output_type": "display_data"
    },
    {
     "name": "stdout",
     "output_type": "stream",
     "text": [
      "\n",
      "-------------------- Dataset Order Payments --------------------\n"
     ]
    },
    {
     "data": {
      "text/html": [
       "<div>\n",
       "<style scoped>\n",
       "    .dataframe tbody tr th:only-of-type {\n",
       "        vertical-align: middle;\n",
       "    }\n",
       "\n",
       "    .dataframe tbody tr th {\n",
       "        vertical-align: top;\n",
       "    }\n",
       "\n",
       "    .dataframe thead th {\n",
       "        text-align: right;\n",
       "    }\n",
       "</style>\n",
       "<table border=\"1\" class=\"dataframe\">\n",
       "  <thead>\n",
       "    <tr style=\"text-align: right;\">\n",
       "      <th></th>\n",
       "      <th>order_id</th>\n",
       "      <th>payment_sequential</th>\n",
       "      <th>payment_type</th>\n",
       "      <th>payment_installments</th>\n",
       "      <th>payment_value</th>\n",
       "    </tr>\n",
       "  </thead>\n",
       "  <tbody>\n",
       "    <tr>\n",
       "      <th>0</th>\n",
       "      <td>b81ef226f3fe1789b1e8b2acac839d17</td>\n",
       "      <td>1</td>\n",
       "      <td>credit_card</td>\n",
       "      <td>8</td>\n",
       "      <td>99.33</td>\n",
       "    </tr>\n",
       "    <tr>\n",
       "      <th>1</th>\n",
       "      <td>a9810da82917af2d9aefd1278f1dcfa0</td>\n",
       "      <td>1</td>\n",
       "      <td>credit_card</td>\n",
       "      <td>1</td>\n",
       "      <td>24.39</td>\n",
       "    </tr>\n",
       "    <tr>\n",
       "      <th>2</th>\n",
       "      <td>25e8ea4e93396b6fa0d3dd708e76c1bd</td>\n",
       "      <td>1</td>\n",
       "      <td>credit_card</td>\n",
       "      <td>1</td>\n",
       "      <td>65.71</td>\n",
       "    </tr>\n",
       "    <tr>\n",
       "      <th>3</th>\n",
       "      <td>ba78997921bbcdc1373bb41e913ab953</td>\n",
       "      <td>1</td>\n",
       "      <td>credit_card</td>\n",
       "      <td>8</td>\n",
       "      <td>107.78</td>\n",
       "    </tr>\n",
       "    <tr>\n",
       "      <th>4</th>\n",
       "      <td>42fdf880ba16b47b59251dd489d4441a</td>\n",
       "      <td>1</td>\n",
       "      <td>credit_card</td>\n",
       "      <td>2</td>\n",
       "      <td>128.45</td>\n",
       "    </tr>\n",
       "  </tbody>\n",
       "</table>\n",
       "</div>"
      ],
      "text/plain": [
       "                           order_id  payment_sequential payment_type  \\\n",
       "0  b81ef226f3fe1789b1e8b2acac839d17                   1  credit_card   \n",
       "1  a9810da82917af2d9aefd1278f1dcfa0                   1  credit_card   \n",
       "2  25e8ea4e93396b6fa0d3dd708e76c1bd                   1  credit_card   \n",
       "3  ba78997921bbcdc1373bb41e913ab953                   1  credit_card   \n",
       "4  42fdf880ba16b47b59251dd489d4441a                   1  credit_card   \n",
       "\n",
       "   payment_installments  payment_value  \n",
       "0                     8          99.33  \n",
       "1                     1          24.39  \n",
       "2                     1          65.71  \n",
       "3                     8         107.78  \n",
       "4                     2         128.45  "
      ]
     },
     "metadata": {},
     "output_type": "display_data"
    },
    {
     "name": "stdout",
     "output_type": "stream",
     "text": [
      "\n",
      "-------------------- Dataset Order Reviews --------------------\n"
     ]
    },
    {
     "data": {
      "text/html": [
       "<div>\n",
       "<style scoped>\n",
       "    .dataframe tbody tr th:only-of-type {\n",
       "        vertical-align: middle;\n",
       "    }\n",
       "\n",
       "    .dataframe tbody tr th {\n",
       "        vertical-align: top;\n",
       "    }\n",
       "\n",
       "    .dataframe thead th {\n",
       "        text-align: right;\n",
       "    }\n",
       "</style>\n",
       "<table border=\"1\" class=\"dataframe\">\n",
       "  <thead>\n",
       "    <tr style=\"text-align: right;\">\n",
       "      <th></th>\n",
       "      <th>review_id</th>\n",
       "      <th>order_id</th>\n",
       "      <th>review_score</th>\n",
       "      <th>review_comment_title</th>\n",
       "      <th>review_comment_message</th>\n",
       "      <th>review_creation_date</th>\n",
       "      <th>review_answer_timestamp</th>\n",
       "    </tr>\n",
       "  </thead>\n",
       "  <tbody>\n",
       "    <tr>\n",
       "      <th>0</th>\n",
       "      <td>7bc2406110b926393aa56f80a40eba40</td>\n",
       "      <td>73fc7af87114b39712e6da79b0a377eb</td>\n",
       "      <td>4</td>\n",
       "      <td>NaN</td>\n",
       "      <td>NaN</td>\n",
       "      <td>2018-01-18 00:00:00</td>\n",
       "      <td>2018-01-18 21:46:59</td>\n",
       "    </tr>\n",
       "    <tr>\n",
       "      <th>1</th>\n",
       "      <td>80e641a11e56f04c1ad469d5645fdfde</td>\n",
       "      <td>a548910a1c6147796b98fdf73dbeba33</td>\n",
       "      <td>5</td>\n",
       "      <td>NaN</td>\n",
       "      <td>NaN</td>\n",
       "      <td>2018-03-10 00:00:00</td>\n",
       "      <td>2018-03-11 03:05:13</td>\n",
       "    </tr>\n",
       "    <tr>\n",
       "      <th>2</th>\n",
       "      <td>228ce5500dc1d8e020d8d1322874b6f0</td>\n",
       "      <td>f9e4b658b201a9f2ecdecbb34bed034b</td>\n",
       "      <td>5</td>\n",
       "      <td>NaN</td>\n",
       "      <td>NaN</td>\n",
       "      <td>2018-02-17 00:00:00</td>\n",
       "      <td>2018-02-18 14:36:24</td>\n",
       "    </tr>\n",
       "    <tr>\n",
       "      <th>3</th>\n",
       "      <td>e64fb393e7b32834bb789ff8bb30750e</td>\n",
       "      <td>658677c97b385a9be170737859d3511b</td>\n",
       "      <td>5</td>\n",
       "      <td>NaN</td>\n",
       "      <td>Recebi bem antes do prazo estipulado.</td>\n",
       "      <td>2017-04-21 00:00:00</td>\n",
       "      <td>2017-04-21 22:02:06</td>\n",
       "    </tr>\n",
       "    <tr>\n",
       "      <th>4</th>\n",
       "      <td>f7c4243c7fe1938f181bec41a392bdeb</td>\n",
       "      <td>8e6bfb81e283fa7e4f11123a3fb894f1</td>\n",
       "      <td>5</td>\n",
       "      <td>NaN</td>\n",
       "      <td>Parabéns lojas lannister adorei comprar pela I...</td>\n",
       "      <td>2018-03-01 00:00:00</td>\n",
       "      <td>2018-03-02 10:26:53</td>\n",
       "    </tr>\n",
       "  </tbody>\n",
       "</table>\n",
       "</div>"
      ],
      "text/plain": [
       "                          review_id                          order_id  \\\n",
       "0  7bc2406110b926393aa56f80a40eba40  73fc7af87114b39712e6da79b0a377eb   \n",
       "1  80e641a11e56f04c1ad469d5645fdfde  a548910a1c6147796b98fdf73dbeba33   \n",
       "2  228ce5500dc1d8e020d8d1322874b6f0  f9e4b658b201a9f2ecdecbb34bed034b   \n",
       "3  e64fb393e7b32834bb789ff8bb30750e  658677c97b385a9be170737859d3511b   \n",
       "4  f7c4243c7fe1938f181bec41a392bdeb  8e6bfb81e283fa7e4f11123a3fb894f1   \n",
       "\n",
       "   review_score review_comment_title  \\\n",
       "0             4                  NaN   \n",
       "1             5                  NaN   \n",
       "2             5                  NaN   \n",
       "3             5                  NaN   \n",
       "4             5                  NaN   \n",
       "\n",
       "                              review_comment_message review_creation_date  \\\n",
       "0                                                NaN  2018-01-18 00:00:00   \n",
       "1                                                NaN  2018-03-10 00:00:00   \n",
       "2                                                NaN  2018-02-17 00:00:00   \n",
       "3              Recebi bem antes do prazo estipulado.  2017-04-21 00:00:00   \n",
       "4  Parabéns lojas lannister adorei comprar pela I...  2018-03-01 00:00:00   \n",
       "\n",
       "  review_answer_timestamp  \n",
       "0     2018-01-18 21:46:59  \n",
       "1     2018-03-11 03:05:13  \n",
       "2     2018-02-18 14:36:24  \n",
       "3     2017-04-21 22:02:06  \n",
       "4     2018-03-02 10:26:53  "
      ]
     },
     "metadata": {},
     "output_type": "display_data"
    },
    {
     "name": "stdout",
     "output_type": "stream",
     "text": [
      "\n",
      "-------------------- Dataset Products --------------------\n"
     ]
    },
    {
     "data": {
      "text/html": [
       "<div>\n",
       "<style scoped>\n",
       "    .dataframe tbody tr th:only-of-type {\n",
       "        vertical-align: middle;\n",
       "    }\n",
       "\n",
       "    .dataframe tbody tr th {\n",
       "        vertical-align: top;\n",
       "    }\n",
       "\n",
       "    .dataframe thead th {\n",
       "        text-align: right;\n",
       "    }\n",
       "</style>\n",
       "<table border=\"1\" class=\"dataframe\">\n",
       "  <thead>\n",
       "    <tr style=\"text-align: right;\">\n",
       "      <th></th>\n",
       "      <th>product_id</th>\n",
       "      <th>product_category_name</th>\n",
       "      <th>product_name_lenght</th>\n",
       "      <th>product_description_lenght</th>\n",
       "      <th>product_photos_qty</th>\n",
       "      <th>product_weight_g</th>\n",
       "      <th>product_length_cm</th>\n",
       "      <th>product_height_cm</th>\n",
       "      <th>product_width_cm</th>\n",
       "    </tr>\n",
       "  </thead>\n",
       "  <tbody>\n",
       "    <tr>\n",
       "      <th>0</th>\n",
       "      <td>1e9e8ef04dbcff4541ed26657ea517e5</td>\n",
       "      <td>perfumaria</td>\n",
       "      <td>40.0</td>\n",
       "      <td>287.0</td>\n",
       "      <td>1.0</td>\n",
       "      <td>225.0</td>\n",
       "      <td>16.0</td>\n",
       "      <td>10.0</td>\n",
       "      <td>14.0</td>\n",
       "    </tr>\n",
       "    <tr>\n",
       "      <th>1</th>\n",
       "      <td>3aa071139cb16b67ca9e5dea641aaa2f</td>\n",
       "      <td>artes</td>\n",
       "      <td>44.0</td>\n",
       "      <td>276.0</td>\n",
       "      <td>1.0</td>\n",
       "      <td>1000.0</td>\n",
       "      <td>30.0</td>\n",
       "      <td>18.0</td>\n",
       "      <td>20.0</td>\n",
       "    </tr>\n",
       "    <tr>\n",
       "      <th>2</th>\n",
       "      <td>96bd76ec8810374ed1b65e291975717f</td>\n",
       "      <td>esporte_lazer</td>\n",
       "      <td>46.0</td>\n",
       "      <td>250.0</td>\n",
       "      <td>1.0</td>\n",
       "      <td>154.0</td>\n",
       "      <td>18.0</td>\n",
       "      <td>9.0</td>\n",
       "      <td>15.0</td>\n",
       "    </tr>\n",
       "    <tr>\n",
       "      <th>3</th>\n",
       "      <td>cef67bcfe19066a932b7673e239eb23d</td>\n",
       "      <td>bebes</td>\n",
       "      <td>27.0</td>\n",
       "      <td>261.0</td>\n",
       "      <td>1.0</td>\n",
       "      <td>371.0</td>\n",
       "      <td>26.0</td>\n",
       "      <td>4.0</td>\n",
       "      <td>26.0</td>\n",
       "    </tr>\n",
       "    <tr>\n",
       "      <th>4</th>\n",
       "      <td>9dc1a7de274444849c219cff195d0b71</td>\n",
       "      <td>utilidades_domesticas</td>\n",
       "      <td>37.0</td>\n",
       "      <td>402.0</td>\n",
       "      <td>4.0</td>\n",
       "      <td>625.0</td>\n",
       "      <td>20.0</td>\n",
       "      <td>17.0</td>\n",
       "      <td>13.0</td>\n",
       "    </tr>\n",
       "  </tbody>\n",
       "</table>\n",
       "</div>"
      ],
      "text/plain": [
       "                         product_id  product_category_name  \\\n",
       "0  1e9e8ef04dbcff4541ed26657ea517e5             perfumaria   \n",
       "1  3aa071139cb16b67ca9e5dea641aaa2f                  artes   \n",
       "2  96bd76ec8810374ed1b65e291975717f          esporte_lazer   \n",
       "3  cef67bcfe19066a932b7673e239eb23d                  bebes   \n",
       "4  9dc1a7de274444849c219cff195d0b71  utilidades_domesticas   \n",
       "\n",
       "   product_name_lenght  product_description_lenght  product_photos_qty  \\\n",
       "0                 40.0                       287.0                 1.0   \n",
       "1                 44.0                       276.0                 1.0   \n",
       "2                 46.0                       250.0                 1.0   \n",
       "3                 27.0                       261.0                 1.0   \n",
       "4                 37.0                       402.0                 4.0   \n",
       "\n",
       "   product_weight_g  product_length_cm  product_height_cm  product_width_cm  \n",
       "0             225.0               16.0               10.0              14.0  \n",
       "1            1000.0               30.0               18.0              20.0  \n",
       "2             154.0               18.0                9.0              15.0  \n",
       "3             371.0               26.0                4.0              26.0  \n",
       "4             625.0               20.0               17.0              13.0  "
      ]
     },
     "metadata": {},
     "output_type": "display_data"
    },
    {
     "name": "stdout",
     "output_type": "stream",
     "text": [
      "\n",
      "-------------------- Dataset Products Translation --------------------\n"
     ]
    },
    {
     "data": {
      "text/html": [
       "<div>\n",
       "<style scoped>\n",
       "    .dataframe tbody tr th:only-of-type {\n",
       "        vertical-align: middle;\n",
       "    }\n",
       "\n",
       "    .dataframe tbody tr th {\n",
       "        vertical-align: top;\n",
       "    }\n",
       "\n",
       "    .dataframe thead th {\n",
       "        text-align: right;\n",
       "    }\n",
       "</style>\n",
       "<table border=\"1\" class=\"dataframe\">\n",
       "  <thead>\n",
       "    <tr style=\"text-align: right;\">\n",
       "      <th></th>\n",
       "      <th>product_category_name</th>\n",
       "      <th>product_category_name_english</th>\n",
       "    </tr>\n",
       "  </thead>\n",
       "  <tbody>\n",
       "    <tr>\n",
       "      <th>0</th>\n",
       "      <td>beleza_saude</td>\n",
       "      <td>health_beauty</td>\n",
       "    </tr>\n",
       "    <tr>\n",
       "      <th>1</th>\n",
       "      <td>informatica_acessorios</td>\n",
       "      <td>computers_accessories</td>\n",
       "    </tr>\n",
       "    <tr>\n",
       "      <th>2</th>\n",
       "      <td>automotivo</td>\n",
       "      <td>auto</td>\n",
       "    </tr>\n",
       "    <tr>\n",
       "      <th>3</th>\n",
       "      <td>cama_mesa_banho</td>\n",
       "      <td>bed_bath_table</td>\n",
       "    </tr>\n",
       "    <tr>\n",
       "      <th>4</th>\n",
       "      <td>moveis_decoracao</td>\n",
       "      <td>furniture_decor</td>\n",
       "    </tr>\n",
       "  </tbody>\n",
       "</table>\n",
       "</div>"
      ],
      "text/plain": [
       "    product_category_name product_category_name_english\n",
       "0            beleza_saude                 health_beauty\n",
       "1  informatica_acessorios         computers_accessories\n",
       "2              automotivo                          auto\n",
       "3         cama_mesa_banho                bed_bath_table\n",
       "4        moveis_decoracao               furniture_decor"
      ]
     },
     "metadata": {},
     "output_type": "display_data"
    },
    {
     "name": "stdout",
     "output_type": "stream",
     "text": [
      "\n",
      "-------------------- Dataset Sellers --------------------\n"
     ]
    },
    {
     "data": {
      "text/html": [
       "<div>\n",
       "<style scoped>\n",
       "    .dataframe tbody tr th:only-of-type {\n",
       "        vertical-align: middle;\n",
       "    }\n",
       "\n",
       "    .dataframe tbody tr th {\n",
       "        vertical-align: top;\n",
       "    }\n",
       "\n",
       "    .dataframe thead th {\n",
       "        text-align: right;\n",
       "    }\n",
       "</style>\n",
       "<table border=\"1\" class=\"dataframe\">\n",
       "  <thead>\n",
       "    <tr style=\"text-align: right;\">\n",
       "      <th></th>\n",
       "      <th>seller_id</th>\n",
       "      <th>seller_zip_code_prefix</th>\n",
       "      <th>seller_city</th>\n",
       "      <th>seller_state</th>\n",
       "    </tr>\n",
       "  </thead>\n",
       "  <tbody>\n",
       "    <tr>\n",
       "      <th>0</th>\n",
       "      <td>3442f8959a84dea7ee197c632cb2df15</td>\n",
       "      <td>13023</td>\n",
       "      <td>campinas</td>\n",
       "      <td>SP</td>\n",
       "    </tr>\n",
       "    <tr>\n",
       "      <th>1</th>\n",
       "      <td>d1b65fc7debc3361ea86b5f14c68d2e2</td>\n",
       "      <td>13844</td>\n",
       "      <td>mogi guacu</td>\n",
       "      <td>SP</td>\n",
       "    </tr>\n",
       "    <tr>\n",
       "      <th>2</th>\n",
       "      <td>ce3ad9de960102d0677a81f5d0bb7b2d</td>\n",
       "      <td>20031</td>\n",
       "      <td>rio de janeiro</td>\n",
       "      <td>RJ</td>\n",
       "    </tr>\n",
       "    <tr>\n",
       "      <th>3</th>\n",
       "      <td>c0f3eea2e14555b6faeea3dd58c1b1c3</td>\n",
       "      <td>4195</td>\n",
       "      <td>sao paulo</td>\n",
       "      <td>SP</td>\n",
       "    </tr>\n",
       "    <tr>\n",
       "      <th>4</th>\n",
       "      <td>51a04a8a6bdcb23deccc82b0b80742cf</td>\n",
       "      <td>12914</td>\n",
       "      <td>braganca paulista</td>\n",
       "      <td>SP</td>\n",
       "    </tr>\n",
       "  </tbody>\n",
       "</table>\n",
       "</div>"
      ],
      "text/plain": [
       "                          seller_id  seller_zip_code_prefix  \\\n",
       "0  3442f8959a84dea7ee197c632cb2df15                   13023   \n",
       "1  d1b65fc7debc3361ea86b5f14c68d2e2                   13844   \n",
       "2  ce3ad9de960102d0677a81f5d0bb7b2d                   20031   \n",
       "3  c0f3eea2e14555b6faeea3dd58c1b1c3                    4195   \n",
       "4  51a04a8a6bdcb23deccc82b0b80742cf                   12914   \n",
       "\n",
       "         seller_city seller_state  \n",
       "0           campinas           SP  \n",
       "1         mogi guacu           SP  \n",
       "2     rio de janeiro           RJ  \n",
       "3          sao paulo           SP  \n",
       "4  braganca paulista           SP  "
      ]
     },
     "metadata": {},
     "output_type": "display_data"
    },
    {
     "name": "stdout",
     "output_type": "stream",
     "text": [
      "\n"
     ]
    }
   ],
   "source": [
    "head_of_dfs(dfs)"
   ]
  },
  {
   "cell_type": "markdown",
   "id": "05b48d01-6f43-44cb-8aa1-0b4faf1d58c5",
   "metadata": {},
   "source": [
    "## Distribution & Density"
   ]
  },
  {
   "cell_type": "code",
   "execution_count": 235,
   "id": "60fb80fd-b267-4184-960b-f16b3ff40313",
   "metadata": {},
   "outputs": [
    {
     "data": {
      "image/png": "[encoded data removed]",
      "text/plain": [
       "<Figure size 400x300 with 1 Axes>"
      ]
     },
     "metadata": {},
     "output_type": "display_data"
    },
    {
     "data": {
      "image/png": "[encoded data removed]",
      "text/plain": [
       "<Figure size 1200x600 with 3 Axes>"
      ]
     },
     "metadata": {},
     "output_type": "display_data"
    },
    {
     "data": {
      "image/png": "[encoded data removed]",
      "text/plain": [
       "<Figure size 400x300 with 1 Axes>"
      ]
     },
     "metadata": {},
     "output_type": "display_data"
    },
    {
     "data": {
      "image/png": "[encoded data removed]",
      "text/plain": [
       "<Figure size 1200x900 with 7 Axes>"
      ]
     },
     "metadata": {},
     "output_type": "display_data"
    },
    {
     "data": {
      "image/png": "[encoded data removed]",
      "text/plain": [
       "<Figure size 400x300 with 1 Axes>"
      ]
     },
     "metadata": {},
     "output_type": "display_data"
    }
   ],
   "source": [
    "def visualize_violinplot(dfs: dict):\n",
    "    \"\"\"\n",
    "    Plot violin subplots of numeric columns from all dataframes\n",
    "\n",
    "    Args:\n",
    "        dfs (dict): pair key-value (key = \"Name of the dataframe\", value = \"Dataframe variable\")\n",
    "    \"\"\"\n",
    "    for name, df in dfs.items():\n",
    "        if name == 'Location':  \n",
    "            continue\n",
    "\n",
    "        numeric_df = df.select_dtypes(include='number')\n",
    "        if numeric_df.shape[1] == 0:\n",
    "            continue\n",
    "\n",
    "        num_cols = numeric_df.shape[1]\n",
    "        nrows = (num_cols // 3) + 1  # // -> rounded division\n",
    "        ncols = min(3, num_cols)\n",
    "\n",
    "        # subplots for each numeric dataframe\n",
    "        fig, axes = plt.subplots(nrows=nrows, ncols=ncols, figsize=(4*ncols, 3*nrows))\n",
    "        fig.suptitle(f\"Violin plots for {name}\", fontsize=15)\n",
    "        \n",
    "        if isinstance(axes, plt.Axes):  \n",
    "            axes = [axes]\n",
    "        else:\n",
    "            axes = axes.flatten()\n",
    "\n",
    "        for i, col in enumerate(numeric_df.columns):\n",
    "            sns.violinplot(data=numeric_df, \n",
    "                             x=col,\n",
    "                             ax=axes[i])\n",
    "\n",
    "        # remove empty subplots\n",
    "        for j in range(i+1, len(axes)):\n",
    "            fig.delaxes(axes[j])\n",
    "\n",
    "        plt.tight_layout()\n",
    "        plt.show()\n",
    "\n",
    "visualize_violinplot(dfs)"
   ]
  },
  {
   "cell_type": "markdown",
   "id": "6f006f71-7569-442e-8f11-1845aca07db8",
   "metadata": {},
   "source": [
    "# Cleaning & Manipulating Datasets"
   ]
  },
  {
   "cell_type": "code",
   "execution_count": 236,
   "id": "ddfb104e-2754-4f61-896a-527ce99b87e0",
   "metadata": {},
   "outputs": [],
   "source": [
    "def remove_duplicated(dfs: dict):\n",
    "    \"\"\"\n",
    "    Remove duplicated values from all dataframes\n",
    "\n",
    "    Args:\n",
    "        dfs (dict): pair key-value (key = \"Name of the dataframe\", value = \"Dataframe variable\")\n",
    "    \"\"\"\n",
    "    for _, df in dfs.items():\n",
    "        df = df.drop_duplicates(keep='first', inplace=True)\n",
    "\n",
    "remove_duplicated(dfs)"
   ]
  },
  {
   "cell_type": "code",
   "execution_count": 237,
   "id": "326a27f0-d556-4680-b1ef-499e34f2afbc",
   "metadata": {},
   "outputs": [],
   "source": [
    "def drop_columns(df_columns:dict):\n",
    "    \"\"\"\n",
    "    Drop selected columns from multiple dataframes\n",
    "\n",
    "    Args:\n",
    "        df_columns (dict): dict format (key = Dataframe variable, Value = Tuple with the dataframe variable and a list of columns)\n",
    "\n",
    "    Returns:\n",
    "        new_dfs (dict): a new dict with updated dataframes\n",
    "    \"\"\"\n",
    "    new_dfs = {}\n",
    "    for name, (df, columns) in df_columns.items():\n",
    "        new_dfs[name] = df.drop(columns=columns, axis=1)\n",
    "        \n",
    "    return new_dfs \n",
    "\n",
    "def convert_columns_to_datetime(df:pd.DataFrame, datetime_cols:list) -> pd.DataFrame:\n",
    "    \"\"\"\n",
    "    Convert object columns with data and time to pandas datetime\n",
    "\n",
    "    Args:\n",
    "        df (dataframe): dataframe target to convert the variables\n",
    "        datetime_cols (list): list with all datetime cols to convert\n",
    "\n",
    "    Returns:\n",
    "        df (dataframe): new dataframe with columns converted\n",
    "    \"\"\"\n",
    "    for col in datetime_cols:\n",
    "        if col in df.columns:\n",
    "            df[col] = pd.to_datetime(df[col], errors=\"coerce\")\n",
    "    return df\n",
    " \n",
    "def fillna_columns(df:pd.DataFrame, columns:list) -> pd.DataFrame:\n",
    "    \"\"\"\n",
    "    Replace NaN values with 'Vazio'(empty)\n",
    "    \n",
    "    Args:\n",
    "        df (pd.DataFrame): target dataframe\n",
    "        columns (list): Lista de colunas onde aplicar o preenchimento\n",
    "\n",
    "    Returns:\n",
    "        pd.DataFrame: Novo DataFrame com os valores nulos substituídos\n",
    "    \"\"\"\n",
    "    for col in columns:\n",
    "        if col in df.columns:\n",
    "            df[col] = df[col].fillna(\"Vazio\")\n",
    "    return df\n",
    "\n",
    "\n",
    "# i decided to not use the geolocation dataset, so don't need to keep the foreign keys for this dataset\n",
    "cols_to_drop = {\n",
    "    \"Customers\": (customers_df, ['customer_zip_code_prefix']),\n",
    "    \"Order Reviews\": (order_reviews_df, ['review_comment_title']),\n",
    "    \"Sellers\": (sellers_df, ['seller_zip_code_prefix']),\n",
    "    \"Products\": (products_df, ['product_name_lenght', 'product_description_lenght', 'product_photos_qty', 'product_photos_qty', \n",
    "                               'product_weight_g', 'product_length_cm', 'product_height_cm', 'product_width_cm'])\n",
    "}\n",
    "\n",
    "\n",
    "# dataframes after removing columns\n",
    "updated_dfs = drop_columns(cols_to_drop)\n",
    "\n",
    "customers_df = updated_dfs[\"Customers\"]\n",
    "order_reviews_df = updated_dfs[\"Order Reviews\"]\n",
    "sellers_df = updated_dfs[\"Sellers\"]\n",
    "products_df = updated_dfs[\"Products\"]\n",
    "\n",
    "# convert columns to datetime -> order reviews dataset\n",
    "order_reviews_df = convert_columns_to_datetime(order_reviews_df, ['review_creation_date', 'review_answer_timestamp'])\n",
    "\n",
    "# convert columns to datetime -> order reviews dataset\n",
    "orders_df = convert_columns_to_datetime(orders_df, ['order_approved_at', 'order_delivered_carrier_date', 'order_delivered_customer_date', 'order_estimated_delivery_date'])\n",
    "\n",
    "# convert column to datetime -> order items dataset\n",
    "order_items_df = convert_columns_to_datetime(order_items_df, ['shipping_limit_date'])\n",
    "\n",
    "# filling NaN values of review_comment_message columns -> order reviews dataset\n",
    "order_reviews_df = fillna_columns(order_reviews_df, ['review_comment_message'])"
   ]
  },
  {
   "cell_type": "markdown",
   "id": "a40090e2-4d57-43d3-b618-34b1853050a9",
   "metadata": {},
   "source": [
    "#### Mapping the english category name to products dataset"
   ]
  },
  {
   "cell_type": "code",
   "execution_count": 238,
   "id": "72bda107-fe99-4efa-90ff-1d31777f4170",
   "metadata": {},
   "outputs": [],
   "source": [
    "# 'how='left'' ensures all rows from *product_df* are kept, and matching rows from *products_translation_df* are added.\n",
    "products_df = pd.merge(products_df, \n",
    "                       products_translation_df, \n",
    "                       on='product_category_name', \n",
    "                       how='left')"
   ]
  },
  {
   "cell_type": "markdown",
   "id": "6801bbcf-5859-4759-83f1-1cc8987f2a82",
   "metadata": {},
   "source": [
    "#### Creating codenames for sellers and products"
   ]
  },
  {
   "cell_type": "code",
   "execution_count": 239,
   "id": "aa7030ea-3950-4787-bf65-8163c2357b6f",
   "metadata": {},
   "outputs": [],
   "source": [
    "def create_codename(df:pd.DataFrame, id_column:str, new_column:str) -> pd.DataFrame:\n",
    "    \"\"\"\n",
    "    Create codenames based on a 'id' column\n",
    "\n",
    "    Args:\n",
    "        df (pd.DataFrame): target dataframe\n",
    "        id_column (str): id column ('seller_id' or 'product_id')\n",
    "        \n",
    "    Returns:\n",
    "        df (pd.Dataframe): dataframe with the new codename column\n",
    "    \"\"\"\n",
    "    if id_column not in df.columns:\n",
    "        raise ValueError(f\"Column {id_column} not found in dataframe\")\n",
    "\n",
    "    prefix = \"S_\" if id_column == \"seller_id\" else \"P_\"\n",
    "    \n",
    "    df[new_column] = df[id_column].astype(str).apply(\n",
    "        lambda x: prefix + x[:8]\n",
    "    )\n",
    "    \n",
    "    return df\n",
    "    \n",
    "sellers_df = create_codename(sellers_df, \"seller_id\", \"seller_codename\")\n",
    "products_df = create_codename(products_df, \"product_id\", \"product_codename\")"
   ]
  },
  {
   "cell_type": "markdown",
   "id": "441675da-d0df-4a26-a28f-2b7fa5335c86",
   "metadata": {},
   "source": [
    "# Exploratory Data Analysis"
   ]
  },
  {
   "cell_type": "markdown",
   "id": "dfabbda5-783e-4c76-a814-963b8b2d51b9",
   "metadata": {},
   "source": [
    "## Which categories have the highest and lowest revenue? "
   ]
  },
  {
   "cell_type": "markdown",
   "id": "1ea772b6-f633-4df5-860c-8a34c8bbb155",
   "metadata": {},
   "source": [
    "#### Merge Orders, Order Items and Products"
   ]
  },
  {
   "cell_type": "code",
   "execution_count": 240,
   "id": "70d0a8c0-6755-466b-9065-614a813e374b",
   "metadata": {},
   "outputs": [],
   "source": [
    "# selecting only delivered orders -> valid sells\n",
    "delivered_orders_df = orders_df[orders_df['order_status'] == 'delivered']\n",
    "\n",
    "# calc of the total of each item\n",
    "order_items_df['item_total'] = order_items_df['price'] + order_items_df['freight_value']\n",
    "\n",
    "# merge Delivered Orders with Order Items\n",
    "deliverdOrders_orderItems_merged = pd.merge(delivered_orders_df, \n",
    "                                   order_items_df, \n",
    "                                   on='order_id', \n",
    "                                   how='inner')\n",
    "# merge with Products\n",
    "deliverdOrders_orderItems_products_merged = pd.merge(deliverdOrders_orderItems_merged, \n",
    "                                       products_df, \n",
    "                                       on='product_id', \n",
    "                                       how='left')\n",
    "\n",
    "# aggregation \n",
    "categories_revenue = deliverdOrders_orderItems_products_merged.groupby('product_category_name_english').agg(\n",
    "    english_category=(\"product_category_name_english\", \"first\"),\n",
    "    portuguese_category=(\"product_category_name\", \"first\"),\n",
    "    total_revenue=(\"item_total\", \"sum\")\n",
    ").sort_values(by=\"total_revenue\", ascending=False).reset_index(drop=True)"
   ]
  },
  {
   "cell_type": "code",
   "execution_count": 241,
   "id": "4590a878-328a-4c2a-9083-fd8a39340092",
   "metadata": {},
   "outputs": [],
   "source": [
    "def top_categories_revenue_barplot(df: pd.DataFrame, x:str, y:str, figname:str):\n",
    "    \"\"\"\n",
    "    Plots a barplot of categories by revenue\n",
    "\n",
    "    Args:\n",
    "        df (pd.DataFrame): target dataframe for data parameter\n",
    "        x (str): corresponding column to the x axis\n",
    "        y (str): corresponding column to the y axis\n",
    "        figname (str): name of the figure to be saved\n",
    "    \"\"\"\n",
    "    fig, ax = plt.subplots(figsize=(6,4))\n",
    "    ax.set_axisbelow(True)\n",
    "    sns.barplot(data=df, \n",
    "                x=x, \n",
    "                y=y, \n",
    "                palette='crest', \n",
    "                hue=f\"{x}\",\n",
    "                ax=ax)\n",
    "    \n",
    "    ax.grid(True, axis='x', linestyle=\"dashed\")\n",
    "    ax.ticklabel_format(style=\"plain\", axis=\"x\") \n",
    "    plt.xticks(rotation=30, ha='right')\n",
    "    ax.legend().set_visible(False)\n",
    "    plt.xlabel('Total Revenue')\n",
    "    plt.ylabel('Category')\n",
    "    plt.tight_layout()\n",
    "    plt.savefig(f\"../plots/{figname}.png\")\n",
    "    plt.show()"
   ]
  },
  {
   "cell_type": "markdown",
   "id": "95ec14a1-9a10-4336-bd10-231a1be44d1c",
   "metadata": {},
   "source": [
    "#### Top 10 categories with highest revenue"
   ]
  },
  {
   "cell_type": "code",
   "execution_count": 242,
   "id": "90b5df21-4746-46d7-bf96-02596560580b",
   "metadata": {},
   "outputs": [
    {
     "data": {
      "image/png": "[encoded data removed]",
      "text/plain": [
       "<Figure size 600x400 with 1 Axes>"
      ]
     },
     "metadata": {},
     "output_type": "display_data"
    }
   ],
   "source": [
    "top_categories_revenue_barplot(categories_revenue.head(10), \"total_revenue\", \"english_category\", \"top10_categories_highest_revenue\")"
   ]
  },
  {
   "cell_type": "markdown",
   "id": "34d9d185-6b6e-4e3b-9194-7c3c88445428",
   "metadata": {},
   "source": [
    "#### Top 10 categories with lowest revenue"
   ]
  },
  {
   "cell_type": "code",
   "execution_count": 243,
   "id": "31a48f6c-414b-4eeb-aabf-4840b1e8457f",
   "metadata": {},
   "outputs": [
    {
     "data": {
      "image/png": "[encoded data removed]",
      "text/plain": [
       "<Figure size 600x400 with 1 Axes>"
      ]
     },
     "metadata": {},
     "output_type": "display_data"
    }
   ],
   "source": [
    "top_categories_revenue_barplot(categories_revenue.tail(10), \"total_revenue\", \"english_category\", \"top10_categories_lowest_revenue\")"
   ]
  },
  {
   "cell_type": "markdown",
   "id": "021d20e1-5d03-4741-afd2-2ec73ddd1386",
   "metadata": {},
   "source": [
    "## Which sellers have the highest revenue? "
   ]
  },
  {
   "cell_type": "markdown",
   "id": "acf0e3ef-0ea3-473b-a4b9-c56d5a890e21",
   "metadata": {},
   "source": [
    "#### Merge Orders, Order Items and Sellers"
   ]
  },
  {
   "cell_type": "code",
   "execution_count": 244,
   "id": "4536bcc0-483d-40ab-b0d0-79c659d5c704",
   "metadata": {},
   "outputs": [],
   "source": [
    "# deliverdOrders_orderItems_merged === Merge Orders with Order Items\n",
    "# merge with Sellers\n",
    "deliverdOrders_orderItems_sellers_merged = pd.merge(deliverdOrders_orderItems_merged, \n",
    "                                                    sellers_df, \n",
    "                                                    on=\"seller_id\", \n",
    "                                                    how=\"inner\")\n",
    "\n",
    "# aggregation\n",
    "sellers_revenue = deliverdOrders_orderItems_sellers_merged.groupby(\"seller_codename\").agg(\n",
    "    seller=(\"seller_codename\", \"first\"),\n",
    "    seller_city=(\"seller_city\", \"first\"),\n",
    "    seller_state=(\"seller_state\", \"first\"),\n",
    "    total_sales=(\"item_total\", \"sum\")\n",
    ").sort_values(by=\"total_sales\", ascending=False).reset_index(drop=True)"
   ]
  },
  {
   "cell_type": "code",
   "execution_count": 245,
   "id": "9549d475-144d-475a-982e-a1fb7e8d3073",
   "metadata": {},
   "outputs": [],
   "source": [
    "def top_sellers_sales_barplot(df: pd.DataFrame, x:str, y:str, figname:str):\n",
    "    \"\"\"\n",
    "    Plots a barplot of sellers by total of sales\n",
    "\n",
    "    Args:\n",
    "        df (pd.DataFrame): target dataframe for data parameter\n",
    "        x (str): corresponding column to the x axis\n",
    "        y (str): corresponding column to the y axis\n",
    "        figname (str): name of the figure to be saved\n",
    "    \"\"\"\n",
    "    fig, ax = plt.subplots(figsize=(6,4))\n",
    "    ax.set_axisbelow(True)\n",
    "    sns.barplot(data=df, \n",
    "                x=x, \n",
    "                y=y, \n",
    "                palette='flare', \n",
    "                hue=f\"{y}\",\n",
    "                ax=ax)\n",
    "    \n",
    "    ax.grid(True, axis='y', linestyle=\"dashed\")\n",
    "    plt.xticks(rotation=30, ha='right')\n",
    "    ax.legend().set_visible(False)\n",
    "    plt.xlabel('Sellers')\n",
    "    plt.ylabel('Total Sales')\n",
    "    plt.tight_layout()\n",
    "    plt.savefig(f\"../plots/{figname}.png\")\n",
    "    plt.show()"
   ]
  },
  {
   "cell_type": "markdown",
   "id": "c2a000b1-50c1-4a58-8a93-d46a45b67ce8",
   "metadata": {},
   "source": [
    "#### Top 10 sellers with highest sales"
   ]
  },
  {
   "cell_type": "code",
   "execution_count": 246,
   "id": "9395df73-838b-4891-948a-89a2df2f7b8d",
   "metadata": {},
   "outputs": [
    {
     "data": {
      "image/png": "[encoded data removed]",
      "text/plain": [
       "<Figure size 600x400 with 1 Axes>"
      ]
     },
     "metadata": {},
     "output_type": "display_data"
    }
   ],
   "source": [
    "top_sellers_sales_barplot(sellers_revenue.head(10), \"seller\", \"total_sales\", \"top_10_highest_sellers\")"
   ]
  },
  {
   "cell_type": "markdown",
   "id": "5e21de3b-f061-4faf-8296-5ea9d1d5bd02",
   "metadata": {},
   "source": [
    "#### Top 10 sellers with lowest sales"
   ]
  },
  {
   "cell_type": "code",
   "execution_count": 247,
   "id": "a6c73484-662e-4101-83ff-cdb349a6ac78",
   "metadata": {},
   "outputs": [
    {
     "data": {
      "image/png": "[encoded data removed]",
      "text/plain": [
       "<Figure size 600x400 with 1 Axes>"
      ]
     },
     "metadata": {},
     "output_type": "display_data"
    }
   ],
   "source": [
    "top_sellers_sales_barplot(sellers_revenue.tail(10), \"seller\", \"total_sales\", \"top_10_lowest_sellers\")"
   ]
  },
  {
   "cell_type": "markdown",
   "id": "b1b39be6-6c93-48d6-8ba3-de4e0f5079db",
   "metadata": {},
   "source": [
    "## Which cities and states have the highest revenue? "
   ]
  },
  {
   "cell_type": "code",
   "execution_count": 248,
   "id": "e8444fce-2a04-4676-a4e8-9aec790f188c",
   "metadata": {},
   "outputs": [],
   "source": [
    "# city aggregation\n",
    "cities_revenue = sellers_revenue.groupby(\"seller_city\").agg(\n",
    "    seller_city=(\"seller_city\", \"first\"),\n",
    "    seller_state=(\"seller_state\", \"first\"),\n",
    "    total_revenue=(\"total_sales\", \"sum\")\n",
    ").sort_values(by=\"total_revenue\", ascending=False).reset_index(drop=True)\n",
    "\n",
    "cities_revenue[\"city+state\"] = cities_revenue[\"seller_city\"].str.capitalize() + ' (' + cities_revenue[\"seller_state\"] + ')'\n",
    "\n",
    "# state aggregation\n",
    "states_revenue = sellers_revenue.groupby(\"seller_state\").agg(\n",
    "    seller_state=(\"seller_state\", \"first\"),\n",
    "    total_revenue=(\"total_sales\", \"sum\")\n",
    ").sort_values(by=\"total_revenue\", ascending=False).reset_index(drop=True)"
   ]
  },
  {
   "cell_type": "code",
   "execution_count": 249,
   "id": "10607d9b-0f0d-4f80-bdb8-ccdd4e86c421",
   "metadata": {},
   "outputs": [
    {
     "data": {
      "text/html": [
       "<div>\n",
       "<style scoped>\n",
       "    .dataframe tbody tr th:only-of-type {\n",
       "        vertical-align: middle;\n",
       "    }\n",
       "\n",
       "    .dataframe tbody tr th {\n",
       "        vertical-align: top;\n",
       "    }\n",
       "\n",
       "    .dataframe thead th {\n",
       "        text-align: right;\n",
       "    }\n",
       "</style>\n",
       "<table border=\"1\" class=\"dataframe\">\n",
       "  <thead>\n",
       "    <tr style=\"text-align: right;\">\n",
       "      <th></th>\n",
       "      <th>seller_city</th>\n",
       "      <th>seller_state</th>\n",
       "      <th>total_revenue</th>\n",
       "      <th>city+state</th>\n",
       "    </tr>\n",
       "  </thead>\n",
       "  <tbody>\n",
       "    <tr>\n",
       "      <th>0</th>\n",
       "      <td>sao paulo</td>\n",
       "      <td>SP</td>\n",
       "      <td>3096089.36</td>\n",
       "      <td>Sao paulo (SP)</td>\n",
       "    </tr>\n",
       "    <tr>\n",
       "      <th>1</th>\n",
       "      <td>ibitinga</td>\n",
       "      <td>SP</td>\n",
       "      <td>750317.01</td>\n",
       "      <td>Ibitinga (SP)</td>\n",
       "    </tr>\n",
       "    <tr>\n",
       "      <th>2</th>\n",
       "      <td>curitiba</td>\n",
       "      <td>PR</td>\n",
       "      <td>528111.48</td>\n",
       "      <td>Curitiba (PR)</td>\n",
       "    </tr>\n",
       "    <tr>\n",
       "      <th>3</th>\n",
       "      <td>rio de janeiro</td>\n",
       "      <td>RJ</td>\n",
       "      <td>386851.87</td>\n",
       "      <td>Rio de janeiro (RJ)</td>\n",
       "    </tr>\n",
       "    <tr>\n",
       "      <th>4</th>\n",
       "      <td>guarulhos</td>\n",
       "      <td>SP</td>\n",
       "      <td>364354.59</td>\n",
       "      <td>Guarulhos (SP)</td>\n",
       "    </tr>\n",
       "  </tbody>\n",
       "</table>\n",
       "</div>"
      ],
      "text/plain": [
       "      seller_city seller_state  total_revenue           city+state\n",
       "0       sao paulo           SP     3096089.36       Sao paulo (SP)\n",
       "1        ibitinga           SP      750317.01        Ibitinga (SP)\n",
       "2        curitiba           PR      528111.48        Curitiba (PR)\n",
       "3  rio de janeiro           RJ      386851.87  Rio de janeiro (RJ)\n",
       "4       guarulhos           SP      364354.59       Guarulhos (SP)"
      ]
     },
     "execution_count": 249,
     "metadata": {},
     "output_type": "execute_result"
    }
   ],
   "source": [
    "cities_revenue.head()"
   ]
  },
  {
   "cell_type": "markdown",
   "id": "1fe334e4-742f-4062-b462-e49744fa2b67",
   "metadata": {},
   "source": [
    "#### Top 10 cities with highest sales"
   ]
  },
  {
   "cell_type": "code",
   "execution_count": 250,
   "id": "0498644d-728d-4aa6-acbb-7b68a94d67b6",
   "metadata": {},
   "outputs": [
    {
     "data": {
      "image/png": "[encoded data removed]",
      "text/plain": [
       "<Figure size 600x400 with 1 Axes>"
      ]
     },
     "metadata": {},
     "output_type": "display_data"
    }
   ],
   "source": [
    "fig, ax = plt.subplots(figsize=(6,4))\n",
    "ax.set_axisbelow(True)\n",
    "sns.barplot(data=cities_revenue.head(10), \n",
    "            x=\"city+state\", \n",
    "            y=\"total_revenue\", \n",
    "            palette='cividis', \n",
    "            hue=\"city+state\",\n",
    "            ax=ax)\n",
    "\n",
    "ax.grid(True, axis='y', linestyle=\"dashed\")\n",
    "plt.xticks(rotation=35, ha='right')\n",
    "ax.ticklabel_format(style=\"plain\", axis=\"y\") \n",
    "plt.xlabel('Cities')\n",
    "plt.ylabel('Total Revenue')\n",
    "plt.tight_layout()\n",
    "plt.savefig(\"../plots/top10_highest_sales_cities.png\")\n",
    "plt.show()"
   ]
  },
  {
   "cell_type": "code",
   "execution_count": 251,
   "id": "db5cfa9c-04dd-40fb-9d2b-9b3d6f90d986",
   "metadata": {},
   "outputs": [],
   "source": [
    "def top_states_sales(df: pd.DataFrame, x:str, y:str, figname:str):\n",
    "    fig, ax = plt.subplots(figsize=(5,4))\n",
    "    ax.set_axisbelow(True)\n",
    "    sns.barplot(data=df, \n",
    "                x=x,\n",
    "                y=y, \n",
    "                palette='cividis', \n",
    "                hue=f\"{y}\",\n",
    "                ax=ax)\n",
    "    \n",
    "    ax.grid(True, axis='x', linestyle=\"dashed\")\n",
    "    #plt.xticks(rotation=30, ha='right')\n",
    "    ax.ticklabel_format(style=\"plain\", axis=\"x\") \n",
    "    plt.xlabel('Total Revenue')\n",
    "    plt.ylabel('State')\n",
    "    plt.tight_layout()\n",
    "    plt.savefig(f\"../plots/{figname}.png\")\n",
    "    plt.show()"
   ]
  },
  {
   "cell_type": "markdown",
   "id": "097b8d7e-1f69-4ac7-a495-76be4beb1b73",
   "metadata": {},
   "source": [
    "#### Top 12 states with highest sales"
   ]
  },
  {
   "cell_type": "code",
   "execution_count": 252,
   "id": "84cf5f72-7b25-4c85-8176-68ecb53df708",
   "metadata": {},
   "outputs": [
    {
     "data": {
      "image/png": "[encoded data removed]",
      "text/plain": [
       "<Figure size 500x400 with 1 Axes>"
      ]
     },
     "metadata": {},
     "output_type": "display_data"
    }
   ],
   "source": [
    "top_states_sales(states_revenue.head(12), \"total_revenue\", \"seller_state\", \"top12_states_highest_sales\")"
   ]
  },
  {
   "cell_type": "markdown",
   "id": "029ad7e2-d0f9-45cc-9f26-cf38d6f0affd",
   "metadata": {},
   "source": [
    "#### Top 10 states with lowest sales"
   ]
  },
  {
   "cell_type": "code",
   "execution_count": 253,
   "id": "8efd5de6-4a5e-405a-89b8-0ad6b0ac038f",
   "metadata": {},
   "outputs": [
    {
     "data": {
      "image/png": "[encoded data removed]",
      "text/plain": [
       "<Figure size 500x400 with 1 Axes>"
      ]
     },
     "metadata": {},
     "output_type": "display_data"
    }
   ],
   "source": [
    "top_states_sales(states_revenue.tail(10), \"total_revenue\", \"seller_state\", \"top12_states_highest_sales\")"
   ]
  },
  {
   "cell_type": "markdown",
   "id": "9a2e602f-6841-4516-98ce-e9da6ef251e9",
   "metadata": {},
   "source": [
    "## Which sellers sell the same product? What are the price variations?"
   ]
  },
  {
   "cell_type": "code",
   "execution_count": 254,
   "id": "9d0b8d0d-f59a-4034-b617-b908946dafd0",
   "metadata": {},
   "outputs": [],
   "source": [
    "#isso pode ser um gráfico de um produto x, no eixo x, os sellers que vendem e no eixo y, o preço cobrado pelo produto"
   ]
  },
  {
   "cell_type": "markdown",
   "id": "18be9efe-94ec-4f9d-ad46-b3f68d2c692e",
   "metadata": {},
   "source": [
    "#### Merge Sellers, Order Items and Products"
   ]
  },
  {
   "cell_type": "code",
   "execution_count": 336,
   "id": "6e8928eb-b489-4648-b0a1-ddd78a8c6a29",
   "metadata": {
    "scrolled": true
   },
   "outputs": [
    {
     "data": {
      "text/html": [
       "<div>\n",
       "<style scoped>\n",
       "    .dataframe tbody tr th:only-of-type {\n",
       "        vertical-align: middle;\n",
       "    }\n",
       "\n",
       "    .dataframe tbody tr th {\n",
       "        vertical-align: top;\n",
       "    }\n",
       "\n",
       "    .dataframe thead th {\n",
       "        text-align: right;\n",
       "    }\n",
       "</style>\n",
       "<table border=\"1\" class=\"dataframe\">\n",
       "  <thead>\n",
       "    <tr style=\"text-align: right;\">\n",
       "      <th></th>\n",
       "      <th>product_codename</th>\n",
       "      <th>product_category</th>\n",
       "      <th>product_sellers</th>\n",
       "      <th>num_sellers</th>\n",
       "      <th>product_prices</th>\n",
       "      <th>min_price</th>\n",
       "      <th>max_price</th>\n",
       "      <th>price_range</th>\n",
       "    </tr>\n",
       "  </thead>\n",
       "  <tbody>\n",
       "    <tr>\n",
       "      <th>0</th>\n",
       "      <td>[P_d285360f]</td>\n",
       "      <td>watches_gifts</td>\n",
       "      <td>[S_4869f7a5, S_2eb70248, S_fa1c13f2, S_7d13fca1, S_7e93a43e, S_01ed254b, S_b33e7c55, S_d650b663]</td>\n",
       "      <td>8</td>\n",
       "      <td>[154.91, 154.91, 155.97, 155.97, 329.0, 329.0, 279.0, 348.79, 155.97, 348.8, 348.8, 227.9, 348.8, 279.0, 259.0, 155.97, 348.8, 348.8, 260.0, 334.89, 154.91, 278.0, 348.8, 279.0, 227.9, 349.0, 348.8, 227.9, 259.0, 348.8, 339.9, 349.0, 276.0, 349.0, 155.97, 348.8, 348.8, 334.89, 275.0, 155.97, 349.99, 339.0, 155.97, 349.0, 155.97, 155.97, 254.9, 155.97, 199.9, 269.0, 349.0, 334.9, 348.8, 249.9, 194.9, 154.91, 155.97, 276.0, 194.91, 227.9, 155.97, 227.9, 199.9, 348.8, 339.0, 199.9, 298.0, 278.0, 155.97, 348.8, 348.8, 254.9, 248.0, 260.0, 348.8, 155.97, 269.0, 154.91, 299.9, 199.9, 248.0, 298.0, 348.79, 154.91, 348.8, 249.9, 348.8, 155.97, 339.0, 155.97, 154.91, 227.9, 199.9, 199.9, 295.0, 278.0, 155.97, 348.8, 155.97, 155.97, ...]</td>\n",
       "      <td>154.91</td>\n",
       "      <td>349.99</td>\n",
       "      <td>195.08</td>\n",
       "    </tr>\n",
       "    <tr>\n",
       "      <th>1</th>\n",
       "      <td>[P_69455f41]</td>\n",
       "      <td>watches_gifts</td>\n",
       "      <td>[S_58f1a619, S_4869f7a5, S_2eb70248, S_7d13fca1, S_7e93a43e, S_b33e7c55, S_c60b801f, S_bce6a5ec]</td>\n",
       "      <td>8</td>\n",
       "      <td>[130.0, 136.0, 183.0, 124.0, 230.0, 180.0, 130.0, 149.0, 118.0, 139.0, 125.0, 125.0, 139.0, 255.0, 125.0, 180.0, 337.69, 139.0, 128.0, 185.0, 125.0, 110.0, 180.0, 180.0, 178.9, 110.0, 208.0, 150.0, 125.0, 124.0, 110.0, 179.0, 299.99, 110.0, 149.0, 129.0, 128.0, 180.0, 255.0, 178.9, 185.0]</td>\n",
       "      <td>110.00</td>\n",
       "      <td>337.69</td>\n",
       "      <td>227.69</td>\n",
       "    </tr>\n",
       "    <tr>\n",
       "      <th>2</th>\n",
       "      <td>[P_656e0eca]</td>\n",
       "      <td>computers_accessories</td>\n",
       "      <td>[S_00fc707a, S_0b90b6df, S_5f67c608, S_e9bc59e7, S_9c0e69c7, S_8e6d7754, S_6973a06f]</td>\n",
       "      <td>7</td>\n",
       "      <td>[85.0, 85.0, 79.9, 98.9, 86.6, 65.9, 82.8, 82.8, 97.9, 97.9, 89.8, 109.9, 98.9, 93.9, 98.9, 109.9, 109.9, 89.8, 94.22, 109.9, 98.9, 98.9, 98.9, 97.79, 82.8, 98.9, 97.9, 84.0, 84.0, 87.0, 65.9, 109.9, 89.8, 89.8, 89.8, 73.0, 89.8, 89.8, 65.9, 82.8, 87.8, 93.9, 109.9, 72.99, 72.99, 81.0, 65.9, 65.9, 89.79, 89.79, 65.9, 87.8, 87.8, 109.9, 89.8, 97.79, 65.9, 65.9, 89.8, 109.9, 84.0, 86.8, 87.8, 89.8, 82.8, 94.0, 94.0, 94.0, 86.79, 109.9, 89.8, 89.8, 86.6, 89.79, 65.9, 98.9, 82.8, 87.8, 87.0, 97.79, 65.0, 84.0, 84.0, 81.0, 65.9, 109.9, 89.8, 84.0, 82.8, 89.8, 89.8, 87.8, 93.9, 97.9, 89.8, 87.0, 89.79, 82.8, 87.0, 87.0, ...]</td>\n",
       "      <td>65.00</td>\n",
       "      <td>109.90</td>\n",
       "      <td>44.90</td>\n",
       "    </tr>\n",
       "    <tr>\n",
       "      <th>3</th>\n",
       "      <td>[P_36f60d45]</td>\n",
       "      <td>computers_accessories</td>\n",
       "      <td>[S_f457c460, S_00fc707a, S_0b90b6df, S_229c3efb, S_88460e8e, S_8e6d7754, S_6973a06f]</td>\n",
       "      <td>7</td>\n",
       "      <td>[88.0, 67.9, 109.89, 67.9, 88.0, 89.5, 89.15, 67.9, 89.9, 86.0, 86.0, 167.0, 67.9, 89.9, 89.49, 109.89, 89.9, 89.9, 89.5, 109.89, 88.0, 89.49, 67.9, 89.5, 89.49, 89.49, 89.9, 89.49, 89.9, 67.9, 67.9, 89.5, 67.9, 89.49, 88.0, 109.89, 89.9, 89.5, 86.0, 88.0, 67.9, 89.9, 67.9, 89.9, 89.49, 89.9, 89.49, 67.9, 89.49, 89.49, 67.9, 89.49, 89.5, 88.0, 88.0, 88.0, 67.9, 89.15, 67.9, 88.0, 89.9, 89.49, 67.9, 109.89, 67.9, 89.15, 89.5, 87.0, 89.9, 88.0, 89.49, 109.9, 89.9, 89.9, 67.9, 87.0, 78.9, 109.89, 109.89, 109.89, 109.89, 109.89, 109.89, 109.89, 109.89, 109.89, 109.89, 88.0, 89.9, 89.9, 89.15, 88.0, 88.0, 109.89, 67.9, 89.9, 89.9, 67.9, 88.0, 67.9, ...]</td>\n",
       "      <td>67.90</td>\n",
       "      <td>167.00</td>\n",
       "      <td>99.10</td>\n",
       "    </tr>\n",
       "    <tr>\n",
       "      <th>4</th>\n",
       "      <td>[P_4298b7e6]</td>\n",
       "      <td>computers_accessories</td>\n",
       "      <td>[S_4b5f66b7, S_3bb548e3, S_88460e8e, S_e9bc59e7, S_9c0e69c7, S_8e6d7754, S_6973a06f]</td>\n",
       "      <td>7</td>\n",
       "      <td>[149.9, 179.9, 149.9, 149.99, 169.99, 119.5, 138.9, 138.9, 172.99, 172.99, 172.99, 172.99, 124.9, 179.9, 124.88, 147.9, 119.5, 119.5, 139.8, 124.88, 119.5, 179.9, 167.5, 149.9, 124.9, 124.9, 147.9, 120.0, 124.88, 123.9, 149.9, 149.9, 149.9, 170.9, 124.88, 149.9, 147.9, 149.9, 124.9, 134.9, 147.9, 119.0, 124.9, 124.9, 139.8, 123.0, 170.9, 149.9, 139.8, 149.9, 119.5, 119.5, 149.9, 119.5, 123.9, 139.8, 124.9, 124.88, 124.9, 149.9, 149.9, 119.5, 124.9, 124.9, 119.5, 139.9, 124.9, 170.9, 149.9, 149.9, 124.9, 149.9, 169.99, 149.99, 170.9, 124.9, 149.9, 124.88, 149.9, 149.9, 149.9, 147.9, 149.9, 149.9, 170.9, 129.9, 124.9, 123.9]</td>\n",
       "      <td>119.00</td>\n",
       "      <td>179.90</td>\n",
       "      <td>60.90</td>\n",
       "    </tr>\n",
       "    <tr>\n",
       "      <th>5</th>\n",
       "      <td>[P_dbb67791]</td>\n",
       "      <td>computers_accessories</td>\n",
       "      <td>[S_f457c460, S_00fc707a, S_0b90b6df, S_e9bc59e7, S_9c0e69c7, S_6973a06f]</td>\n",
       "      <td>6</td>\n",
       "      <td>[81.99, 81.99, 81.99, 80.9, 82.0, 81.99, 82.0, 79.0, 79.0, 81.99, 81.99, 80.9, 79.0, 81.99, 81.99, 81.99, 81.99, 81.99, 79.0, 81.99, 81.99, 61.4, 80.9, 61.4, 81.99, 61.4, 88.0, 79.0, 88.0, 88.0, 81.5, 88.0, 79.0, 79.0, 82.0, 79.0, 79.0, 81.99, 61.4, 81.99, 81.99, 81.99, 81.99, 80.9, 80.9, 81.99, 61.4, 61.4, 81.99, 80.0, 80.0, 81.99, 81.99, 81.99, 80.9, 81.99, 81.99, 81.99, 81.99, 81.99, 81.99, 81.99, 82.0, 82.0, 61.4, 81.99, 81.99, 61.4, 81.99, 81.99, 88.0, 81.99, 81.5, 81.5, 81.5, 81.5, 81.5, 81.99, 81.99, 81.99, 61.4, 81.99, 81.99, 61.4, 81.99, 81.99, 61.4, 79.0]</td>\n",
       "      <td>61.40</td>\n",
       "      <td>88.00</td>\n",
       "      <td>26.60</td>\n",
       "    </tr>\n",
       "    <tr>\n",
       "      <th>6</th>\n",
       "      <td>[P_e5ae72c6]</td>\n",
       "      <td>computers_accessories</td>\n",
       "      <td>[S_f457c460, S_88460e8e, S_e9bc59e7, S_9c0e69c7, S_8e6d7754]</td>\n",
       "      <td>5</td>\n",
       "      <td>[64.89, 64.89, 59.9, 61.9, 61.9, 57.9, 64.89, 64.9, 61.9, 61.9, 59.9, 61.9, 61.9, 61.9, 68.0, 63.9, 61.9, 61.9, 61.9, 61.9, 68.0, 61.9, 61.9, 61.9, 61.9, 59.9, 61.9, 61.9, 63.9, 61.9, 61.9, 61.9, 61.9, 61.9, 61.9, 61.9, 61.9, 61.9]</td>\n",
       "      <td>57.90</td>\n",
       "      <td>68.00</td>\n",
       "      <td>10.10</td>\n",
       "    </tr>\n",
       "    <tr>\n",
       "      <th>7</th>\n",
       "      <td>[P_be0dbdc3]</td>\n",
       "      <td>computers_accessories</td>\n",
       "      <td>[S_165fc07b, S_3340ef19, S_e9bc59e7, S_9c0e69c7, S_8e6d7754]</td>\n",
       "      <td>5</td>\n",
       "      <td>[79.8, 79.8, 65.0, 65.0, 65.0, 65.0, 65.0, 65.0, 65.0, 79.79, 79.79, 79.79, 64.99, 65.0, 65.0, 65.0, 64.99, 79.79, 79.8, 79.9, 79.9, 79.9, 79.9, 64.99, 79.9, 79.9]</td>\n",
       "      <td>64.99</td>\n",
       "      <td>79.90</td>\n",
       "      <td>14.91</td>\n",
       "    </tr>\n",
       "    <tr>\n",
       "      <th>8</th>\n",
       "      <td>[P_d04e4898]</td>\n",
       "      <td>watches_gifts</td>\n",
       "      <td>[S_4869f7a5, S_fa1c13f2, S_7d13fca1, S_d921b68b, S_7e93a43e]</td>\n",
       "      <td>5</td>\n",
       "      <td>[289.9, 237.0, 240.0, 219.0, 289.9, 239.0, 239.0, 245.0, 255.0, 246.0, 249.0, 219.0, 289.9, 255.0, 219.0, 246.0, 255.0, 237.0, 239.0, 255.0, 284.9, 219.0, 245.0, 249.0, 249.0, 219.0, 237.0, 245.0, 289.9]</td>\n",
       "      <td>219.00</td>\n",
       "      <td>289.90</td>\n",
       "      <td>70.90</td>\n",
       "    </tr>\n",
       "    <tr>\n",
       "      <th>9</th>\n",
       "      <td>[P_c0abb570]</td>\n",
       "      <td>health_beauty</td>\n",
       "      <td>[S_2e1c9f22, S_48985c61, S_709e16e2, S_b05b432b, S_bc07d855]</td>\n",
       "      <td>5</td>\n",
       "      <td>[74.9, 80.49, 80.49, 74.9, 74.9, 74.9, 80.49, 99.9, 74.9]</td>\n",
       "      <td>74.90</td>\n",
       "      <td>99.90</td>\n",
       "      <td>25.00</td>\n",
       "    </tr>\n",
       "  </tbody>\n",
       "</table>\n",
       "</div>"
      ],
      "text/plain": [
       "  product_codename       product_category  \\\n",
       "0     [P_d285360f]          watches_gifts   \n",
       "1     [P_69455f41]          watches_gifts   \n",
       "2     [P_656e0eca]  computers_accessories   \n",
       "3     [P_36f60d45]  computers_accessories   \n",
       "4     [P_4298b7e6]  computers_accessories   \n",
       "5     [P_dbb67791]  computers_accessories   \n",
       "6     [P_e5ae72c6]  computers_accessories   \n",
       "7     [P_be0dbdc3]  computers_accessories   \n",
       "8     [P_d04e4898]          watches_gifts   \n",
       "9     [P_c0abb570]          health_beauty   \n",
       "\n",
       "                                                                                    product_sellers  \\\n",
       "0  [S_4869f7a5, S_2eb70248, S_fa1c13f2, S_7d13fca1, S_7e93a43e, S_01ed254b, S_b33e7c55, S_d650b663]   \n",
       "1  [S_58f1a619, S_4869f7a5, S_2eb70248, S_7d13fca1, S_7e93a43e, S_b33e7c55, S_c60b801f, S_bce6a5ec]   \n",
       "2              [S_00fc707a, S_0b90b6df, S_5f67c608, S_e9bc59e7, S_9c0e69c7, S_8e6d7754, S_6973a06f]   \n",
       "3              [S_f457c460, S_00fc707a, S_0b90b6df, S_229c3efb, S_88460e8e, S_8e6d7754, S_6973a06f]   \n",
       "4              [S_4b5f66b7, S_3bb548e3, S_88460e8e, S_e9bc59e7, S_9c0e69c7, S_8e6d7754, S_6973a06f]   \n",
       "5                          [S_f457c460, S_00fc707a, S_0b90b6df, S_e9bc59e7, S_9c0e69c7, S_6973a06f]   \n",
       "6                                      [S_f457c460, S_88460e8e, S_e9bc59e7, S_9c0e69c7, S_8e6d7754]   \n",
       "7                                      [S_165fc07b, S_3340ef19, S_e9bc59e7, S_9c0e69c7, S_8e6d7754]   \n",
       "8                                      [S_4869f7a5, S_fa1c13f2, S_7d13fca1, S_d921b68b, S_7e93a43e]   \n",
       "9                                      [S_2e1c9f22, S_48985c61, S_709e16e2, S_b05b432b, S_bc07d855]   \n",
       "\n",
       "   num_sellers  \\\n",
       "0            8   \n",
       "1            8   \n",
       "2            7   \n",
       "3            7   \n",
       "4            7   \n",
       "5            6   \n",
       "6            5   \n",
       "7            5   \n",
       "8            5   \n",
       "9            5   \n",
       "\n",
       "                                                                                                                                                                                                                                                                                                                                                                                                                                                                                                                                                                                                                                                                                                                                                      product_prices  \\\n",
       "0  [154.91, 154.91, 155.97, 155.97, 329.0, 329.0, 279.0, 348.79, 155.97, 348.8, 348.8, 227.9, 348.8, 279.0, 259.0, 155.97, 348.8, 348.8, 260.0, 334.89, 154.91, 278.0, 348.8, 279.0, 227.9, 349.0, 348.8, 227.9, 259.0, 348.8, 339.9, 349.0, 276.0, 349.0, 155.97, 348.8, 348.8, 334.89, 275.0, 155.97, 349.99, 339.0, 155.97, 349.0, 155.97, 155.97, 254.9, 155.97, 199.9, 269.0, 349.0, 334.9, 348.8, 249.9, 194.9, 154.91, 155.97, 276.0, 194.91, 227.9, 155.97, 227.9, 199.9, 348.8, 339.0, 199.9, 298.0, 278.0, 155.97, 348.8, 348.8, 254.9, 248.0, 260.0, 348.8, 155.97, 269.0, 154.91, 299.9, 199.9, 248.0, 298.0, 348.79, 154.91, 348.8, 249.9, 348.8, 155.97, 339.0, 155.97, 154.91, 227.9, 199.9, 199.9, 295.0, 278.0, 155.97, 348.8, 155.97, 155.97, ...]   \n",
       "1                                                                                                                                                                                                                                                                                                                                                                                                                                                                  [130.0, 136.0, 183.0, 124.0, 230.0, 180.0, 130.0, 149.0, 118.0, 139.0, 125.0, 125.0, 139.0, 255.0, 125.0, 180.0, 337.69, 139.0, 128.0, 185.0, 125.0, 110.0, 180.0, 180.0, 178.9, 110.0, 208.0, 150.0, 125.0, 124.0, 110.0, 179.0, 299.99, 110.0, 149.0, 129.0, 128.0, 180.0, 255.0, 178.9, 185.0]   \n",
       "2                                                                                                                 [85.0, 85.0, 79.9, 98.9, 86.6, 65.9, 82.8, 82.8, 97.9, 97.9, 89.8, 109.9, 98.9, 93.9, 98.9, 109.9, 109.9, 89.8, 94.22, 109.9, 98.9, 98.9, 98.9, 97.79, 82.8, 98.9, 97.9, 84.0, 84.0, 87.0, 65.9, 109.9, 89.8, 89.8, 89.8, 73.0, 89.8, 89.8, 65.9, 82.8, 87.8, 93.9, 109.9, 72.99, 72.99, 81.0, 65.9, 65.9, 89.79, 89.79, 65.9, 87.8, 87.8, 109.9, 89.8, 97.79, 65.9, 65.9, 89.8, 109.9, 84.0, 86.8, 87.8, 89.8, 82.8, 94.0, 94.0, 94.0, 86.79, 109.9, 89.8, 89.8, 86.6, 89.79, 65.9, 98.9, 82.8, 87.8, 87.0, 97.79, 65.0, 84.0, 84.0, 81.0, 65.9, 109.9, 89.8, 84.0, 82.8, 89.8, 89.8, 87.8, 93.9, 97.9, 89.8, 87.0, 89.79, 82.8, 87.0, 87.0, ...]   \n",
       "3                                                                                   [88.0, 67.9, 109.89, 67.9, 88.0, 89.5, 89.15, 67.9, 89.9, 86.0, 86.0, 167.0, 67.9, 89.9, 89.49, 109.89, 89.9, 89.9, 89.5, 109.89, 88.0, 89.49, 67.9, 89.5, 89.49, 89.49, 89.9, 89.49, 89.9, 67.9, 67.9, 89.5, 67.9, 89.49, 88.0, 109.89, 89.9, 89.5, 86.0, 88.0, 67.9, 89.9, 67.9, 89.9, 89.49, 89.9, 89.49, 67.9, 89.49, 89.49, 67.9, 89.49, 89.5, 88.0, 88.0, 88.0, 67.9, 89.15, 67.9, 88.0, 89.9, 89.49, 67.9, 109.89, 67.9, 89.15, 89.5, 87.0, 89.9, 88.0, 89.49, 109.9, 89.9, 89.9, 67.9, 87.0, 78.9, 109.89, 109.89, 109.89, 109.89, 109.89, 109.89, 109.89, 109.89, 109.89, 109.89, 88.0, 89.9, 89.9, 89.15, 88.0, 88.0, 109.89, 67.9, 89.9, 89.9, 67.9, 88.0, 67.9, ...]   \n",
       "4                                                                                                             [149.9, 179.9, 149.9, 149.99, 169.99, 119.5, 138.9, 138.9, 172.99, 172.99, 172.99, 172.99, 124.9, 179.9, 124.88, 147.9, 119.5, 119.5, 139.8, 124.88, 119.5, 179.9, 167.5, 149.9, 124.9, 124.9, 147.9, 120.0, 124.88, 123.9, 149.9, 149.9, 149.9, 170.9, 124.88, 149.9, 147.9, 149.9, 124.9, 134.9, 147.9, 119.0, 124.9, 124.9, 139.8, 123.0, 170.9, 149.9, 139.8, 149.9, 119.5, 119.5, 149.9, 119.5, 123.9, 139.8, 124.9, 124.88, 124.9, 149.9, 149.9, 119.5, 124.9, 124.9, 119.5, 139.9, 124.9, 170.9, 149.9, 149.9, 124.9, 149.9, 169.99, 149.99, 170.9, 124.9, 149.9, 124.88, 149.9, 149.9, 149.9, 147.9, 149.9, 149.9, 170.9, 129.9, 124.9, 123.9]   \n",
       "5                                                                                                                                                                        [81.99, 81.99, 81.99, 80.9, 82.0, 81.99, 82.0, 79.0, 79.0, 81.99, 81.99, 80.9, 79.0, 81.99, 81.99, 81.99, 81.99, 81.99, 79.0, 81.99, 81.99, 61.4, 80.9, 61.4, 81.99, 61.4, 88.0, 79.0, 88.0, 88.0, 81.5, 88.0, 79.0, 79.0, 82.0, 79.0, 79.0, 81.99, 61.4, 81.99, 81.99, 81.99, 81.99, 80.9, 80.9, 81.99, 61.4, 61.4, 81.99, 80.0, 80.0, 81.99, 81.99, 81.99, 80.9, 81.99, 81.99, 81.99, 81.99, 81.99, 81.99, 81.99, 82.0, 82.0, 61.4, 81.99, 81.99, 61.4, 81.99, 81.99, 88.0, 81.99, 81.5, 81.5, 81.5, 81.5, 81.5, 81.99, 81.99, 81.99, 61.4, 81.99, 81.99, 61.4, 81.99, 81.99, 61.4, 79.0]   \n",
       "6                                                                                                                                                                                                                                                                                                                                                                                                                                                                                                                            [64.89, 64.89, 59.9, 61.9, 61.9, 57.9, 64.89, 64.9, 61.9, 61.9, 59.9, 61.9, 61.9, 61.9, 68.0, 63.9, 61.9, 61.9, 61.9, 61.9, 68.0, 61.9, 61.9, 61.9, 61.9, 59.9, 61.9, 61.9, 63.9, 61.9, 61.9, 61.9, 61.9, 61.9, 61.9, 61.9, 61.9, 61.9]   \n",
       "7                                                                                                                                                                                                                                                                                                                                                                                                                                                                                                                                                                                                [79.8, 79.8, 65.0, 65.0, 65.0, 65.0, 65.0, 65.0, 65.0, 79.79, 79.79, 79.79, 64.99, 65.0, 65.0, 65.0, 64.99, 79.79, 79.8, 79.9, 79.9, 79.9, 79.9, 64.99, 79.9, 79.9]   \n",
       "8                                                                                                                                                                                                                                                                                                                                                                                                                                                                                                                                                        [289.9, 237.0, 240.0, 219.0, 289.9, 239.0, 239.0, 245.0, 255.0, 246.0, 249.0, 219.0, 289.9, 255.0, 219.0, 246.0, 255.0, 237.0, 239.0, 255.0, 284.9, 219.0, 245.0, 249.0, 249.0, 219.0, 237.0, 245.0, 289.9]   \n",
       "9                                                                                                                                                                                                                                                                                                                                                                                                                                                                                                                                                                                                                                                                                                          [74.9, 80.49, 80.49, 74.9, 74.9, 74.9, 80.49, 99.9, 74.9]   \n",
       "\n",
       "   min_price  max_price  price_range  \n",
       "0     154.91     349.99       195.08  \n",
       "1     110.00     337.69       227.69  \n",
       "2      65.00     109.90        44.90  \n",
       "3      67.90     167.00        99.10  \n",
       "4     119.00     179.90        60.90  \n",
       "5      61.40      88.00        26.60  \n",
       "6      57.90      68.00        10.10  \n",
       "7      64.99      79.90        14.91  \n",
       "8     219.00     289.90        70.90  \n",
       "9      74.90      99.90        25.00  "
      ]
     },
     "execution_count": 336,
     "metadata": {},
     "output_type": "execute_result"
    }
   ],
   "source": [
    "# merge sellers with order items\n",
    "sellers_orderItems_merge = pd.merge(order_items_df, \n",
    "                                    sellers_df, \n",
    "                                    on=\"seller_id\", \n",
    "                                    how=\"left\")\n",
    "\n",
    "# merge with products\n",
    "sellers_orderItems_products_merge = pd.merge(sellers_orderItems_merge, \n",
    "                                             products_df, \n",
    "                                             on=\"product_id\", \n",
    "                                             how=\"inner\")\n",
    "\n",
    "# aggregation (used to visualization)\n",
    "products_sellers = sellers_orderItems_products_merge.groupby(\"product_codename\").agg(\n",
    "    product_codename=(\"product_codename\", \"unique\"),\n",
    "    product_category=(\"product_category_name_english\", \"first\"),\n",
    "    product_sellers=(\"seller_codename\", lambda x: list(set(x))), # list of unique sellers\n",
    "    num_sellers=(\"seller_codename\", \"nunique\"), # count every unique seller \n",
    "    product_prices=(\"price\", lambda x: list(x)),\n",
    "    min_price=(\"price\", \"min\"),\n",
    "    max_price=(\"price\", \"max\")\n",
    ").reset_index(drop=True)\n",
    "\n",
    "# price variation\n",
    "products_sellers[\"price_range\"] = products_sellers[\"max_price\"] - products_sellers[\"min_price\"]\n",
    "\n",
    "# selecting only product that have more than one seller\n",
    "products_sellers = products_sellers[products_sellers['num_sellers'] > 1].sort_values(by=\"num_sellers\", \n",
    "                                                                                     ascending=False).reset_index(drop=True)\n",
    "products_sellers.head(10)"
   ]
  },
  {
   "cell_type": "code",
   "execution_count": 261,
   "id": "128e3e78-0e07-4a28-9073-1e1d83a5fbc0",
   "metadata": {},
   "outputs": [
    {
     "data": {
      "text/plain": [
       "(1225, 9)"
      ]
     },
     "execution_count": 261,
     "metadata": {},
     "output_type": "execute_result"
    }
   ],
   "source": [
    "products_sellers.shape"
   ]
  },
  {
   "cell_type": "code",
   "execution_count": 362,
   "id": "c19ec98c-664e-4e0d-a7eb-cd9441e3b384",
   "metadata": {},
   "outputs": [],
   "source": [
    "def plot_sellers_by_product(df:pd.DataFrame, products_list:list, n_cols:int, figname:str):\n",
    "    \"\"\"\n",
    "    \n",
    "    \"\"\"\n",
    "    # list of unique products\n",
    "    all_products_list = products_sellers['product_codename'].explode().unique()\n",
    "\n",
    "    for product in products_list:\n",
    "        if product not in all_products_list:\n",
    "            raise ValueError(f\"ERROR! Product {product} is not a valid product.\")\n",
    "\n",
    "    n_rows = (len(products_list) + n_cols - 1) // n_cols\n",
    "    fig, axes = plt.subplots(n_rows, n_cols, figsize=(5*n_cols, 4*n_rows))\n",
    "    axes = axes.flatten()\n",
    "\n",
    "    for ax, product in zip(axes, products_list):\n",
    "        df_product_subset = df[df['product_codename'] == product]\n",
    "\n",
    "        sns.swarmplot(data=df_product_subset, \n",
    "                      x=\"seller_codename\", \n",
    "                      y=\"price\", \n",
    "                      palette=\"Set1\", \n",
    "                      hue=\"seller_codename\", \n",
    "                      size=6, \n",
    "                      ax=ax)\n",
    "        ax.grid(True, axis=\"y\")\n",
    "        ax.set_title(f\"Product {product}\")\n",
    "        ax.set_xticklabels(ax.get_xticklabels(), rotation=30, ha=\"right\")\n",
    "        ax.set_xlabel(\"Seller\")\n",
    "        ax.set_ylabel(\"Price\")\n",
    "\n",
    "    # remove eixos vazios, se sobrarem\n",
    "    for ax in axes[len(products_list):]:\n",
    "        ax.remove()\n",
    "        \n",
    "    plt.tight_layout()\n",
    "    plt.savefig(f\"../plots/{figname}.png\")\n",
    "    plt.show()"
   ]
  },
  {
   "cell_type": "code",
   "execution_count": 363,
   "id": "47a1f8b9-6aa4-45bb-81f1-4f0e016a5b0f",
   "metadata": {},
   "outputs": [
    {
     "name": "stderr",
     "output_type": "stream",
     "text": [
      "/home/matsa/miniconda3/envs/sprint02/lib/python3.11/site-packages/seaborn/categorical.py:3399: UserWarning: 57.9% of the points cannot be placed; you may want to decrease the size of the markers or use stripplot.\n",
      "  warnings.warn(msg, UserWarning)\n",
      "/home/matsa/miniconda3/envs/sprint02/lib/python3.11/site-packages/seaborn/categorical.py:3399: UserWarning: 77.3% of the points cannot be placed; you may want to decrease the size of the markers or use stripplot.\n",
      "  warnings.warn(msg, UserWarning)\n",
      "/home/matsa/miniconda3/envs/sprint02/lib/python3.11/site-packages/seaborn/categorical.py:3399: UserWarning: 12.5% of the points cannot be placed; you may want to decrease the size of the markers or use stripplot.\n",
      "  warnings.warn(msg, UserWarning)\n",
      "/tmp/ipykernel_16375/2489292316.py:28: UserWarning: set_ticklabels() should only be used with a fixed number of ticks, i.e. after set_ticks() or using a FixedLocator.\n",
      "  ax.set_xticklabels(ax.get_xticklabels(), rotation=30, ha=\"right\")\n",
      "/home/matsa/miniconda3/envs/sprint02/lib/python3.11/site-packages/seaborn/categorical.py:3399: UserWarning: 64.9% of the points cannot be placed; you may want to decrease the size of the markers or use stripplot.\n",
      "  warnings.warn(msg, UserWarning)\n",
      "/home/matsa/miniconda3/envs/sprint02/lib/python3.11/site-packages/seaborn/categorical.py:3399: UserWarning: 10.0% of the points cannot be placed; you may want to decrease the size of the markers or use stripplot.\n",
      "  warnings.warn(msg, UserWarning)\n",
      "/home/matsa/miniconda3/envs/sprint02/lib/python3.11/site-packages/seaborn/categorical.py:3399: UserWarning: 86.4% of the points cannot be placed; you may want to decrease the size of the markers or use stripplot.\n",
      "  warnings.warn(msg, UserWarning)\n",
      "/home/matsa/miniconda3/envs/sprint02/lib/python3.11/site-packages/seaborn/categorical.py:3399: UserWarning: 37.5% of the points cannot be placed; you may want to decrease the size of the markers or use stripplot.\n",
      "  warnings.warn(msg, UserWarning)\n",
      "/home/matsa/miniconda3/envs/sprint02/lib/python3.11/site-packages/seaborn/categorical.py:3399: UserWarning: 36.4% of the points cannot be placed; you may want to decrease the size of the markers or use stripplot.\n",
      "  warnings.warn(msg, UserWarning)\n",
      "/home/matsa/miniconda3/envs/sprint02/lib/python3.11/site-packages/seaborn/categorical.py:3399: UserWarning: 50.0% of the points cannot be placed; you may want to decrease the size of the markers or use stripplot.\n",
      "  warnings.warn(msg, UserWarning)\n",
      "/home/matsa/miniconda3/envs/sprint02/lib/python3.11/site-packages/seaborn/categorical.py:3399: UserWarning: 55.1% of the points cannot be placed; you may want to decrease the size of the markers or use stripplot.\n",
      "  warnings.warn(msg, UserWarning)\n",
      "/home/matsa/miniconda3/envs/sprint02/lib/python3.11/site-packages/seaborn/categorical.py:3399: UserWarning: 58.3% of the points cannot be placed; you may want to decrease the size of the markers or use stripplot.\n",
      "  warnings.warn(msg, UserWarning)\n",
      "/home/matsa/miniconda3/envs/sprint02/lib/python3.11/site-packages/seaborn/categorical.py:3399: UserWarning: 40.0% of the points cannot be placed; you may want to decrease the size of the markers or use stripplot.\n",
      "  warnings.warn(msg, UserWarning)\n",
      "/tmp/ipykernel_16375/2489292316.py:28: UserWarning: set_ticklabels() should only be used with a fixed number of ticks, i.e. after set_ticks() or using a FixedLocator.\n",
      "  ax.set_xticklabels(ax.get_xticklabels(), rotation=30, ha=\"right\")\n",
      "/home/matsa/miniconda3/envs/sprint02/lib/python3.11/site-packages/seaborn/categorical.py:3399: UserWarning: 64.9% of the points cannot be placed; you may want to decrease the size of the markers or use stripplot.\n",
      "  warnings.warn(msg, UserWarning)\n",
      "/home/matsa/miniconda3/envs/sprint02/lib/python3.11/site-packages/seaborn/categorical.py:3399: UserWarning: 10.0% of the points cannot be placed; you may want to decrease the size of the markers or use stripplot.\n",
      "  warnings.warn(msg, UserWarning)\n",
      "/home/matsa/miniconda3/envs/sprint02/lib/python3.11/site-packages/seaborn/categorical.py:3399: UserWarning: 86.4% of the points cannot be placed; you may want to decrease the size of the markers or use stripplot.\n",
      "  warnings.warn(msg, UserWarning)\n",
      "/home/matsa/miniconda3/envs/sprint02/lib/python3.11/site-packages/seaborn/categorical.py:3399: UserWarning: 37.5% of the points cannot be placed; you may want to decrease the size of the markers or use stripplot.\n",
      "  warnings.warn(msg, UserWarning)\n",
      "/home/matsa/miniconda3/envs/sprint02/lib/python3.11/site-packages/seaborn/categorical.py:3399: UserWarning: 36.4% of the points cannot be placed; you may want to decrease the size of the markers or use stripplot.\n",
      "  warnings.warn(msg, UserWarning)\n",
      "/home/matsa/miniconda3/envs/sprint02/lib/python3.11/site-packages/seaborn/categorical.py:3399: UserWarning: 50.0% of the points cannot be placed; you may want to decrease the size of the markers or use stripplot.\n",
      "  warnings.warn(msg, UserWarning)\n",
      "/home/matsa/miniconda3/envs/sprint02/lib/python3.11/site-packages/seaborn/categorical.py:3399: UserWarning: 55.1% of the points cannot be placed; you may want to decrease the size of the markers or use stripplot.\n",
      "  warnings.warn(msg, UserWarning)\n",
      "/home/matsa/miniconda3/envs/sprint02/lib/python3.11/site-packages/seaborn/categorical.py:3399: UserWarning: 58.3% of the points cannot be placed; you may want to decrease the size of the markers or use stripplot.\n",
      "  warnings.warn(msg, UserWarning)\n",
      "/home/matsa/miniconda3/envs/sprint02/lib/python3.11/site-packages/seaborn/categorical.py:3399: UserWarning: 40.0% of the points cannot be placed; you may want to decrease the size of the markers or use stripplot.\n",
      "  warnings.warn(msg, UserWarning)\n",
      "/home/matsa/miniconda3/envs/sprint02/lib/python3.11/site-packages/seaborn/categorical.py:3399: UserWarning: 86.0% of the points cannot be placed; you may want to decrease the size of the markers or use stripplot.\n",
      "  warnings.warn(msg, UserWarning)\n",
      "/home/matsa/miniconda3/envs/sprint02/lib/python3.11/site-packages/seaborn/categorical.py:3399: UserWarning: 69.0% of the points cannot be placed; you may want to decrease the size of the markers or use stripplot.\n",
      "  warnings.warn(msg, UserWarning)\n",
      "/home/matsa/miniconda3/envs/sprint02/lib/python3.11/site-packages/seaborn/categorical.py:3399: UserWarning: 56.5% of the points cannot be placed; you may want to decrease the size of the markers or use stripplot.\n",
      "  warnings.warn(msg, UserWarning)\n",
      "/home/matsa/miniconda3/envs/sprint02/lib/python3.11/site-packages/seaborn/categorical.py:3399: UserWarning: 25.0% of the points cannot be placed; you may want to decrease the size of the markers or use stripplot.\n",
      "  warnings.warn(msg, UserWarning)\n",
      "/home/matsa/miniconda3/envs/sprint02/lib/python3.11/site-packages/seaborn/categorical.py:3399: UserWarning: 70.6% of the points cannot be placed; you may want to decrease the size of the markers or use stripplot.\n",
      "  warnings.warn(msg, UserWarning)\n",
      "/tmp/ipykernel_16375/2489292316.py:28: UserWarning: set_ticklabels() should only be used with a fixed number of ticks, i.e. after set_ticks() or using a FixedLocator.\n",
      "  ax.set_xticklabels(ax.get_xticklabels(), rotation=30, ha=\"right\")\n",
      "/home/matsa/miniconda3/envs/sprint02/lib/python3.11/site-packages/seaborn/categorical.py:3399: UserWarning: 61.4% of the points cannot be placed; you may want to decrease the size of the markers or use stripplot.\n",
      "  warnings.warn(msg, UserWarning)\n",
      "/home/matsa/miniconda3/envs/sprint02/lib/python3.11/site-packages/seaborn/categorical.py:3399: UserWarning: 77.3% of the points cannot be placed; you may want to decrease the size of the markers or use stripplot.\n",
      "  warnings.warn(msg, UserWarning)\n",
      "/home/matsa/miniconda3/envs/sprint02/lib/python3.11/site-packages/seaborn/categorical.py:3399: UserWarning: 12.5% of the points cannot be placed; you may want to decrease the size of the markers or use stripplot.\n",
      "  warnings.warn(msg, UserWarning)\n",
      "/home/matsa/miniconda3/envs/sprint02/lib/python3.11/site-packages/seaborn/categorical.py:3399: UserWarning: 31.8% of the points cannot be placed; you may want to decrease the size of the markers or use stripplot.\n",
      "  warnings.warn(msg, UserWarning)\n",
      "/home/matsa/miniconda3/envs/sprint02/lib/python3.11/site-packages/seaborn/categorical.py:3399: UserWarning: 50.0% of the points cannot be placed; you may want to decrease the size of the markers or use stripplot.\n",
      "  warnings.warn(msg, UserWarning)\n",
      "/home/matsa/miniconda3/envs/sprint02/lib/python3.11/site-packages/seaborn/categorical.py:3399: UserWarning: 55.1% of the points cannot be placed; you may want to decrease the size of the markers or use stripplot.\n",
      "  warnings.warn(msg, UserWarning)\n",
      "/home/matsa/miniconda3/envs/sprint02/lib/python3.11/site-packages/seaborn/categorical.py:3399: UserWarning: 58.3% of the points cannot be placed; you may want to decrease the size of the markers or use stripplot.\n",
      "  warnings.warn(msg, UserWarning)\n",
      "/home/matsa/miniconda3/envs/sprint02/lib/python3.11/site-packages/seaborn/categorical.py:3399: UserWarning: 40.0% of the points cannot be placed; you may want to decrease the size of the markers or use stripplot.\n",
      "  warnings.warn(msg, UserWarning)\n",
      "/home/matsa/miniconda3/envs/sprint02/lib/python3.11/site-packages/seaborn/categorical.py:3399: UserWarning: 86.0% of the points cannot be placed; you may want to decrease the size of the markers or use stripplot.\n",
      "  warnings.warn(msg, UserWarning)\n",
      "/home/matsa/miniconda3/envs/sprint02/lib/python3.11/site-packages/seaborn/categorical.py:3399: UserWarning: 69.0% of the points cannot be placed; you may want to decrease the size of the markers or use stripplot.\n",
      "  warnings.warn(msg, UserWarning)\n",
      "/home/matsa/miniconda3/envs/sprint02/lib/python3.11/site-packages/seaborn/categorical.py:3399: UserWarning: 56.5% of the points cannot be placed; you may want to decrease the size of the markers or use stripplot.\n",
      "  warnings.warn(msg, UserWarning)\n",
      "/home/matsa/miniconda3/envs/sprint02/lib/python3.11/site-packages/seaborn/categorical.py:3399: UserWarning: 25.0% of the points cannot be placed; you may want to decrease the size of the markers or use stripplot.\n",
      "  warnings.warn(msg, UserWarning)\n",
      "/home/matsa/miniconda3/envs/sprint02/lib/python3.11/site-packages/seaborn/categorical.py:3399: UserWarning: 70.6% of the points cannot be placed; you may want to decrease the size of the markers or use stripplot.\n",
      "  warnings.warn(msg, UserWarning)\n"
     ]
    },
    {
     "data": {
      "image/png": "[encoded data removed]",
      "text/plain": [
       "<Figure size 1500x400 with 3 Axes>"
      ]
     },
     "metadata": {},
     "output_type": "display_data"
    }
   ],
   "source": [
    "products_list = [\"P_d285360f\", \"P_656e0eca\", \"P_36f60d45\"]\n",
    "plot_sellers_by_product(sellers_orderItems_products_merge, products_list, 3, \"product_with_most_sellers_1\")"
   ]
  },
  {
   "cell_type": "markdown",
   "id": "3a43fc85-4a43-4398-be2e-941a22e8fa90",
   "metadata": {
    "jp-MarkdownHeadingCollapsed": true
   },
   "source": [
    "# Top 10 melhores sellers (com mais reviews positivas)"
   ]
  },
  {
   "cell_type": "code",
   "execution_count": null,
   "id": "d6c0e4a8-41d4-417b-a954-cbb58b6284cf",
   "metadata": {},
   "outputs": [],
   "source": [
    "sellers_df_names = sellers_df_cleaned\n",
    "sellers_df_names['seller_name'] = 'seller' + sellers_df_names['seller_id'].str[:4]"
   ]
  },
  {
   "cell_type": "code",
   "execution_count": null,
   "id": "4e0be254-043e-40d7-80db-eae3830e8917",
   "metadata": {},
   "outputs": [],
   "source": [
    "sellers_df_names.head()"
   ]
  },
  {
   "cell_type": "code",
   "execution_count": null,
   "id": "eb633a87-8d84-4676-a604-f76d45a61bc6",
   "metadata": {},
   "outputs": [],
   "source": [
    "order_items_df_cleaned.head()"
   ]
  },
  {
   "cell_type": "markdown",
   "id": "304adccf-cc72-47fa-812b-37ec28789183",
   "metadata": {},
   "source": [
    "- Merge de sellers e order_items"
   ]
  },
  {
   "cell_type": "code",
   "execution_count": null,
   "id": "dc0f6a17-97f6-483a-87d0-7bd874577883",
   "metadata": {},
   "outputs": [],
   "source": [
    "merge_df4 = pd.merge(sellers_df_names, order_items_df_cleaned, on='seller_id', how='inner')\n",
    "merge_df4.head()"
   ]
  },
  {
   "cell_type": "markdown",
   "id": "9c71469e-0dd3-4740-b75f-12c4c742c759",
   "metadata": {},
   "source": [
    "- Merge com orders"
   ]
  },
  {
   "cell_type": "code",
   "execution_count": null,
   "id": "e643b5bd-793d-430f-9fb1-9813709012ce",
   "metadata": {},
   "outputs": [],
   "source": [
    "merge_df4 = pd.merge(merge_df4, orders_df_cleaned2, on='order_id', how='inner')\n",
    "merge_df4.head()"
   ]
  },
  {
   "cell_type": "markdown",
   "id": "d2c326a6-a7f6-41af-b2fd-cd07d3f33cb6",
   "metadata": {},
   "source": [
    "- Merge com reviews (obterei apenas os produtos que possuem reviews, pois se um produto não tem review, ele não vai contribuir para a análise)"
   ]
  },
  {
   "cell_type": "code",
   "execution_count": null,
   "id": "c9048d74-3d64-4ea9-9e34-405286aa3e53",
   "metadata": {},
   "outputs": [],
   "source": [
    "merge_df4 = pd.merge(merge_df4, order_reviews_df_cleaned, on='order_id', how='inner')\n",
    "merge_df4.head()"
   ]
  },
  {
   "cell_type": "markdown",
   "id": "7e0a3fa7-21fe-44c8-b462-50b144937b4a",
   "metadata": {},
   "source": [
    "### Valores Faltantes"
   ]
  },
  {
   "cell_type": "code",
   "execution_count": null,
   "id": "c540f52e-abb8-4ef8-920e-01747021edc0",
   "metadata": {},
   "outputs": [],
   "source": [
    "merge_df4.isnull().sum()"
   ]
  },
  {
   "cell_type": "markdown",
   "id": "84461d08-bdcc-471c-900d-0e12069f2624",
   "metadata": {},
   "source": [
    "### Duplicatas"
   ]
  },
  {
   "cell_type": "code",
   "execution_count": null,
   "id": "39e8213f-36c4-4c41-acbe-d2f8452a92dd",
   "metadata": {},
   "outputs": [],
   "source": [
    "merge_df4.duplicated().sum()"
   ]
  },
  {
   "cell_type": "code",
   "execution_count": null,
   "id": "9ad2b15e-427b-40e0-b2fd-f22652dbed13",
   "metadata": {},
   "outputs": [],
   "source": [
    "merge_df4.shape"
   ]
  },
  {
   "cell_type": "code",
   "execution_count": null,
   "id": "e50ff94c-7aa0-4434-8449-7e234e02f9c0",
   "metadata": {},
   "outputs": [],
   "source": [
    "merge_df4.head(15)"
   ]
  },
  {
   "cell_type": "code",
   "execution_count": null,
   "id": "ea704a12-cb95-4f2c-9725-a92574ab1cc6",
   "metadata": {},
   "outputs": [],
   "source": [
    "merge_df4.seller_name.value_counts()"
   ]
  },
  {
   "cell_type": "markdown",
   "id": "9262ed76-3749-44d1-9a5d-61bad39b63df",
   "metadata": {},
   "source": [
    "**Para a minha análise, eu resolvi filtrar os sellers com um número mínimo de Reviews**\n",
    "\n",
    "Isso para que sellers com poucos reviews não enviesem a base. Portanto, a **média bayesiana** vai ser utilizada, pois ela garante que à medida que o número de avaliações aumente, o peso das avaliações individuais cresce.\n",
    "\n",
    "media_bayesiana = (valor_minimo_reviews * nota_media_geral) + soma_notas_seller / valor_minimo_reviews + numero_avaliacoes_sellers\n",
    "                    \n",
    "Eu estabeleci que valor mínimo de reviews para a análise será de **25**"
   ]
  },
  {
   "cell_type": "code",
   "execution_count": null,
   "id": "1cce1884-1e04-42db-8e86-a988290420aa",
   "metadata": {},
   "outputs": [],
   "source": [
    "merge_df4.head()"
   ]
  },
  {
   "cell_type": "code",
   "execution_count": null,
   "id": "f30b6354-0899-4efe-9058-ad1415a4b6a3",
   "metadata": {},
   "outputs": [],
   "source": [
    "merge_df4.shape"
   ]
  },
  {
   "cell_type": "markdown",
   "id": "c65b8d1e-32a7-4b6d-a0bc-ad86caa6ad2c",
   "metadata": {},
   "source": [
    "**Calculando a média geral de todas as reviews**"
   ]
  },
  {
   "cell_type": "code",
   "execution_count": null,
   "id": "b818541d-2d69-4f5b-a9c1-67fc59c5d139",
   "metadata": {},
   "outputs": [],
   "source": [
    "general_mean = merge_df4['review_score'].mean()\n",
    "general_mean"
   ]
  },
  {
   "cell_type": "markdown",
   "id": "7f6680de-0e6f-42cf-ae44-57f60f2e8580",
   "metadata": {},
   "source": [
    "**Valor mínimo de reviews**"
   ]
  },
  {
   "cell_type": "code",
   "execution_count": null,
   "id": "69ea690c-a0ed-4378-b664-f573f5cd6d5b",
   "metadata": {},
   "outputs": [],
   "source": [
    "min_review_value = 25"
   ]
  },
  {
   "cell_type": "markdown",
   "id": "e0093eba-130f-4a11-a099-d3e58243b3ba",
   "metadata": {},
   "source": [
    "**Obtendo o total dos reviews score por seller e a contagem de reviews com agrupamento**"
   ]
  },
  {
   "cell_type": "code",
   "execution_count": null,
   "id": "af4b172d-6b4d-40be-8841-49c3205c85bc",
   "metadata": {},
   "outputs": [],
   "source": [
    "reviews_score_per_seller = merge_df4.groupby('seller_name').agg(\n",
    "    review_count = ('review_score', 'count'),\n",
    "    review_score_total = ('review_score', 'sum')\n",
    ").reset_index()"
   ]
  },
  {
   "cell_type": "code",
   "execution_count": null,
   "id": "e5d8e7ec-6f7f-46f1-b87c-184e18fb2af0",
   "metadata": {
    "scrolled": true
   },
   "outputs": [],
   "source": [
    "reviews_score_per_seller.head()"
   ]
  },
  {
   "cell_type": "markdown",
   "id": "37b2013c-9218-4cec-8ded-6cc4ca36ba29",
   "metadata": {},
   "source": [
    "**Calculando a média bayesiana**\n",
    "\n",
    "media_bayesiana = (valor_minimo_reviews * nota_media_geral) + soma_notas_seller / (valor_minimo_reviews + numero_avaliacoes_sellers)"
   ]
  },
  {
   "cell_type": "code",
   "execution_count": null,
   "id": "97440814-e139-4879-a5f3-0b0b6fca985c",
   "metadata": {},
   "outputs": [],
   "source": [
    "reviews_score_per_seller['bayesian_avg'] = (((min_review_value*general_mean) + reviews_score_per_seller['review_score_total']) / (min_review_value + reviews_score_per_seller['review_count'])).round(2)"
   ]
  },
  {
   "cell_type": "code",
   "execution_count": null,
   "id": "8ca2d565-6f3c-4a6c-9607-6ce09aaf44a2",
   "metadata": {},
   "outputs": [],
   "source": [
    "reviews_score_per_seller"
   ]
  },
  {
   "cell_type": "markdown",
   "id": "630ad1a7-e7ac-4f95-a080-acab14ff4ac2",
   "metadata": {},
   "source": [
    "**Ordenando pela média bayesiana**"
   ]
  },
  {
   "cell_type": "code",
   "execution_count": null,
   "id": "a2d203ed-1003-4b71-9c40-f701ea6b954d",
   "metadata": {},
   "outputs": [],
   "source": [
    "reviews_score_per_seller = reviews_score_per_seller.sort_values(by='bayesian_avg', ascending = False)"
   ]
  },
  {
   "cell_type": "code",
   "execution_count": null,
   "id": "31de45d7-2fd2-46cc-bc75-40c8a3447f1e",
   "metadata": {},
   "outputs": [],
   "source": [
    "reviews_score_per_seller.reset_index(drop=True)"
   ]
  },
  {
   "cell_type": "markdown",
   "id": "da56ed11-3f5a-4a73-affb-5319a50b3a1c",
   "metadata": {},
   "source": [
    "### Exibindo em gráficos"
   ]
  },
  {
   "cell_type": "code",
   "execution_count": null,
   "id": "2b65d923-7ac4-4aea-90e9-19b8a9a244ff",
   "metadata": {},
   "outputs": [],
   "source": [
    "top10_best_sellers = reviews_score_per_seller.head(10)"
   ]
  },
  {
   "cell_type": "code",
   "execution_count": null,
   "id": "6b6d98b1-7cef-4453-8d11-fdea163b46b7",
   "metadata": {},
   "outputs": [],
   "source": [
    "top10_worst_sellers = reviews_score_per_seller.tail(10)"
   ]
  },
  {
   "cell_type": "markdown",
   "id": "8898f4d3-c7d9-4b40-b977-0b1b3585e42c",
   "metadata": {},
   "source": [
    "**Teste de normalidade Shapiro Wilk**\n",
    "\n",
    "Se p-value > 0,05\n",
    "\n",
    "Ho = segue uma distribuição normal\n",
    "\n",
    "Se p-value < 0,05\n",
    "\n",
    "Ha = não segue uma distribuição normal"
   ]
  },
  {
   "cell_type": "code",
   "execution_count": null,
   "id": "ed1aede9-24a9-4f0b-8656-d117f9f21a52",
   "metadata": {},
   "outputs": [],
   "source": [
    "import scipy.stats as stats"
   ]
  },
  {
   "cell_type": "code",
   "execution_count": null,
   "id": "1c00f36d-d0cd-4748-92af-8717493ff5f5",
   "metadata": {},
   "outputs": [],
   "source": [
    "stat, p_value = stats.shapiro(top10_best_sellers['bayesian_avg'])\n",
    "print(f'stat: {stat}')\n",
    "print(f'p-value: {p_value}')"
   ]
  },
  {
   "cell_type": "markdown",
   "id": "0467826c-7c45-4547-b375-3dc94ca8a30d",
   "metadata": {},
   "source": [
    "**Top 10 maiores sellers não segue distribuição normal**"
   ]
  },
  {
   "cell_type": "code",
   "execution_count": null,
   "id": "5dce348f-0571-453b-aca0-2964aef709d9",
   "metadata": {},
   "outputs": [],
   "source": [
    "stat, p_value = stats.shapiro(top10_worst_sellers['bayesian_avg'])\n",
    "print(f'stat: {stat}')\n",
    "print(f'p-value: {p_value}')"
   ]
  },
  {
   "cell_type": "markdown",
   "id": "6d1368c7-4b66-444d-9410-a6a316379477",
   "metadata": {},
   "source": [
    "**Top 10 piores sellers não segue distribuição normal**"
   ]
  },
  {
   "cell_type": "markdown",
   "id": "0c7c624c-e67e-4239-b443-b7d2b5347056",
   "metadata": {},
   "source": [
    "### Visualização através do gráfico de linhas"
   ]
  },
  {
   "cell_type": "code",
   "execution_count": null,
   "id": "42a3f897-8017-48ef-9cf8-e3b34e95d725",
   "metadata": {},
   "outputs": [],
   "source": [
    "plt.figure(figsize=(8,6))\n",
    "sns.lineplot(x='seller_name', y='bayesian_avg', data=top10_best_sellers)\n",
    "plt.title('Top 10 melhores sellers', fontsize=16)\n",
    "plt.ylabel('Média bayesiana', fontsize=12)\n",
    "plt.xlabel('Vendedores', fontsize=12)\n",
    "plt.grid(True)\n",
    "plt.xticks(rotation=45)\n",
    "plt.tight_layout()\n",
    "\n",
    "plt.show()"
   ]
  },
  {
   "cell_type": "markdown",
   "id": "242f8608-ec27-4912-892f-66ab0786eebf",
   "metadata": {
    "jp-MarkdownHeadingCollapsed": true
   },
   "source": [
    "# Top 10 piores sellers(com mais reviews negativas)"
   ]
  },
  {
   "cell_type": "code",
   "execution_count": null,
   "id": "d3dace56-bf95-4805-8b71-62070b01aad2",
   "metadata": {},
   "outputs": [],
   "source": [
    "plt.figure(figsize=(8,6))\n",
    "sns.lineplot(x='seller_name', y='bayesian_avg', data=top10_worst_sellers)\n",
    "plt.title('Top 10 melhores sellers', fontsize=16)\n",
    "plt.ylabel('Média bayesiana', fontsize=12)\n",
    "plt.xlabel('Vendedores', fontsize=12)\n",
    "plt.grid(True)\n",
    "plt.xticks(rotation=45)\n",
    "plt.tight_layout()\n",
    "\n",
    "plt.show()"
   ]
  },
  {
   "cell_type": "markdown",
   "id": "f2ba2716-8e74-45a4-862c-29b23595e3a0",
   "metadata": {
    "jp-MarkdownHeadingCollapsed": true
   },
   "source": [
    "# Existe relação entre a quantidade de vendas e a quantidade de reviews para os sellers? É possível identificar aumento ou queda na venda de um seller com base nas avaliações do que já foi vendido no passado?"
   ]
  },
  {
   "cell_type": "markdown",
   "id": "ee2485bb-ab9e-47c3-bf65-82643ca3c8b3",
   "metadata": {},
   "source": [
    "## Existe relação entre a quantidade de vendas e a quantidade de reviews para os sellers?"
   ]
  },
  {
   "cell_type": "markdown",
   "id": "f0d53fe0-3707-4e23-988a-e66c41df9bea",
   "metadata": {},
   "source": [
    "Para verificar a relação entre a quantidade de vendas e a quantidade de reviews, resolvi utilizar a **correlação linear** que é representada pelo **Coeficiente de correlação de Pearson(r)**.\n",
    "\n",
    "Este coeficiente varia de -1 e +1.\n",
    "\n",
    "Se **r > 0**, à medida que a quantidade de vendas aumenta, a quantidade de reviews também aumenta.<br>\n",
    "Se **r < 0**, à medida que a quantidade de vendas aumenta, a quantidade de reviews tende a diminuir. <br>\n",
    "Se **r = 0**, não há relação linear entre as variáveis."
   ]
  },
  {
   "cell_type": "markdown",
   "id": "3fea34d4-fc62-4248-86a2-d379f39805ae",
   "metadata": {},
   "source": [
    "### Merges"
   ]
  },
  {
   "cell_type": "markdown",
   "id": "cfea9e7f-6d29-4078-b166-1d4a368aa6ea",
   "metadata": {},
   "source": [
    "- Sellers e Order Items"
   ]
  },
  {
   "cell_type": "code",
   "execution_count": null,
   "id": "f9d8ca40-3f6f-459a-a57a-1dcfff912d06",
   "metadata": {},
   "outputs": [],
   "source": [
    "merge_df5 = pd.merge(sellers_df_names, order_items_df_cleaned, on='seller_id', how='inner')\n",
    "merge_df5.head()"
   ]
  },
  {
   "cell_type": "markdown",
   "id": "f9002420-0e1b-42e4-a123-dc5c42aa935d",
   "metadata": {},
   "source": [
    "- Merge com orders"
   ]
  },
  {
   "cell_type": "code",
   "execution_count": null,
   "id": "965d9df0-ae77-47f3-bfe8-830fb5219449",
   "metadata": {},
   "outputs": [],
   "source": [
    "merge_df5 = pd.merge(merge_df5, orders_df_cleaned2, on='order_id', how='inner')\n",
    "merge_df5.head()"
   ]
  },
  {
   "cell_type": "markdown",
   "id": "61f95a54-7a1d-4666-b0a7-a12a4eda3191",
   "metadata": {},
   "source": [
    "- Left merge com reviews para manter todos os produtos vendidos e não só os que possuem reviews"
   ]
  },
  {
   "cell_type": "code",
   "execution_count": null,
   "id": "6180d5fb-18f5-4ec1-99ff-9d2b28a93aad",
   "metadata": {},
   "outputs": [],
   "source": [
    "merge_df5 = pd.merge(merge_df5, order_reviews_df_cleaned, on='order_id', how='left')\n",
    "merge_df5.head()"
   ]
  },
  {
   "cell_type": "code",
   "execution_count": null,
   "id": "2d477c2a-eb16-40e2-baa0-35c3488f77c1",
   "metadata": {},
   "outputs": [],
   "source": [
    "merge_df5.shape"
   ]
  },
  {
   "cell_type": "markdown",
   "id": "60255f13-7395-4fd8-829f-ef2d582d6619",
   "metadata": {},
   "source": [
    "### Valores nulos"
   ]
  },
  {
   "cell_type": "code",
   "execution_count": null,
   "id": "7d77bc20-cd5c-4950-9a25-57fa0f47e68c",
   "metadata": {},
   "outputs": [],
   "source": [
    "merge_df5.isnull().sum()"
   ]
  },
  {
   "cell_type": "markdown",
   "id": "c68bb451-9120-4648-8d21-211e8e601bf4",
   "metadata": {},
   "source": [
    "### Duplicatas"
   ]
  },
  {
   "cell_type": "code",
   "execution_count": null,
   "id": "7eabac48-0570-46cf-8701-3bd8491a16db",
   "metadata": {},
   "outputs": [],
   "source": [
    "merge_df5.duplicated().sum()"
   ]
  },
  {
   "cell_type": "markdown",
   "id": "951ab1c3-25e8-44ef-a418-309a94a77f2e",
   "metadata": {},
   "source": [
    "### Agregação para obter a quantidade de produtos vendidos e a quantidade de reviews realizadas"
   ]
  },
  {
   "cell_type": "code",
   "execution_count": null,
   "id": "c35ed6bc-0bc6-441e-8460-359c3ea32aba",
   "metadata": {},
   "outputs": [],
   "source": [
    "correlation_sellers_reviews = merge_df5.groupby('seller_name').agg(\n",
    "    qnty_products_sold = ('seller_name', 'count'),\n",
    "    count_reviews = ('review_score', lambda x : x.notna().sum())\n",
    ").reset_index()"
   ]
  },
  {
   "cell_type": "code",
   "execution_count": null,
   "id": "a4072e72-1fb8-4881-a472-a87ef29c7fd4",
   "metadata": {},
   "outputs": [],
   "source": [
    "correlation_sellers_reviews.head()"
   ]
  },
  {
   "cell_type": "markdown",
   "id": "b346bbcc-fdd4-4877-b8a3-c24a53a1801f",
   "metadata": {},
   "source": [
    "Criando uma coluna para evidenciar a difereça entre produtos vendidos e reviews realizadas"
   ]
  },
  {
   "cell_type": "code",
   "execution_count": null,
   "id": "31c383c3-54c8-4e89-acdf-4cd312cff8f8",
   "metadata": {},
   "outputs": [],
   "source": [
    "correlation_sellers_reviews['qnty_products_without_reviews'] = (\n",
    "    correlation_sellers_reviews['qnty_products_sold'] - correlation_sellers_reviews['count_reviews']\n",
    ")"
   ]
  },
  {
   "cell_type": "markdown",
   "id": "d55cd76a-0fcb-45d2-ba8b-2f0afd52d281",
   "metadata": {},
   "source": [
    "Abaixo é possível observar que **poucos clientes não deixam reviews sobre o produto**"
   ]
  },
  {
   "cell_type": "code",
   "execution_count": null,
   "id": "13fd1769-e4f8-4586-85a9-2b2be39a5bad",
   "metadata": {},
   "outputs": [],
   "source": [
    "correlation_sellers_reviews = correlation_sellers_reviews.sort_values(by='qnty_products_without_reviews', ascending=False).reset_index(drop=True)\n",
    "correlation_sellers_reviews"
   ]
  },
  {
   "cell_type": "markdown",
   "id": "b49566cc-86cb-43ae-8cec-365e606c04f3",
   "metadata": {},
   "source": [
    "### Analisando a correlação através de um scatter plot\n",
    "\n",
    "A correlação é positiva e muito forte. Isso significa que **quanto mais produtos vendidos, maior tende a ser a quantidade de reviews recebidas.**"
   ]
  },
  {
   "cell_type": "code",
   "execution_count": null,
   "id": "3902a4b6-1d62-4733-bc0a-ed5c63f48c5a",
   "metadata": {},
   "outputs": [],
   "source": [
    "plt.scatter(correlation_sellers_reviews.qnty_products_sold, correlation_sellers_reviews.count_reviews)\n",
    "plt.title('Correlação entre a quantidade de produtos vendidos e a quantidade de reviews')\n",
    "plt.xlabel('Quantidade de produtos vendidos')\n",
    "plt.ylabel('Quantidade de reviews')\n",
    "plt.grid(True)\n",
    "plt.show()"
   ]
  },
  {
   "cell_type": "code",
   "execution_count": null,
   "id": "9a8ceab6-fa6f-4034-9c0e-6f1fbac2ba2b",
   "metadata": {},
   "outputs": [],
   "source": [
    "correlation = correlation_sellers_reviews['qnty_products_sold'].corr(correlation_sellers_reviews['count_reviews'], method='pearson')"
   ]
  },
  {
   "cell_type": "code",
   "execution_count": null,
   "id": "5f03acbb-d2d8-4085-ab46-a36c6404d540",
   "metadata": {},
   "outputs": [],
   "source": [
    "print(f\"Correlação entre quantidade de produtos vendidos e reviews: {correlation}\")"
   ]
  },
  {
   "cell_type": "markdown",
   "id": "26ace56a-7fde-4093-a2a2-dd5220051a26",
   "metadata": {},
   "source": [
    "## É possível identificar aumento ou queda na venda de um seller com base nas avaliações do que já foi vendido no passado?\n",
    "\n",
    "A minha ideia é filtrar o dataset de orders novamente, porém considerando a **data mínima anterior(min_order_date) utilizada para filtrar os últimos 12 meses, como data máxima**. Dessa forma, eu subtraio 12 meses e terei os **dados do passado**."
   ]
  },
  {
   "cell_type": "markdown",
   "id": "9306fb51-bb60-4068-a3a1-35b78b2104e9",
   "metadata": {},
   "source": [
    "### Carregando o dataset novamente para evitar conflitos"
   ]
  },
  {
   "cell_type": "code",
   "execution_count": null,
   "id": "f3d78f95-60dc-4675-af2e-b4b2f8588ac1",
   "metadata": {},
   "outputs": [],
   "source": [
    "orders_dataset2 = pd.read_csv('/home/matsa/Documents/project_sprint02/data/olist_orders_dataset.csv')"
   ]
  },
  {
   "cell_type": "code",
   "execution_count": null,
   "id": "68bf5604-9ee3-4e9b-97c6-061fbe276fef",
   "metadata": {},
   "outputs": [],
   "source": [
    "orders_dataset2.dropna(axis=0, inplace=True)"
   ]
  },
  {
   "cell_type": "code",
   "execution_count": null,
   "id": "448484c5-51d9-46ab-a2ae-691246f19a1f",
   "metadata": {},
   "outputs": [],
   "source": [
    "orders_dataset2['order_approved_at'] = pd.to_datetime(orders_dataset2.order_approved_at)"
   ]
  },
  {
   "cell_type": "code",
   "execution_count": null,
   "id": "0f02b83f-085b-4417-8338-103b062da61b",
   "metadata": {},
   "outputs": [],
   "source": [
    "max_order_date2 = min_order_date\n",
    "max_order_date2"
   ]
  },
  {
   "cell_type": "code",
   "execution_count": null,
   "id": "1709d50c-23bd-4ab4-b982-5f1d0119f426",
   "metadata": {},
   "outputs": [],
   "source": [
    "min_order_date2 = max_order_date2 - pd.DateOffset(months=12)\n",
    "min_order_date2"
   ]
  },
  {
   "cell_type": "markdown",
   "id": "17e313a4-9179-4c53-acb6-d7ca38a94208",
   "metadata": {},
   "source": [
    "### Pegando as datas nos intervalos definidos"
   ]
  },
  {
   "cell_type": "code",
   "execution_count": null,
   "id": "56007951-e64e-46f7-80a1-a18ad5fed301",
   "metadata": {},
   "outputs": [],
   "source": [
    "past_orders_df_data = orders_dataset2.loc[(orders_dataset2.order_approved_at >= min_order_date2) &\n",
    "                                    (orders_dataset2.order_approved_at <= max_order_date2)]"
   ]
  },
  {
   "cell_type": "code",
   "execution_count": null,
   "id": "e58d5c84-8cd9-41c6-962e-0e93e5b8a714",
   "metadata": {},
   "outputs": [],
   "source": [
    "past_orders_df_data"
   ]
  },
  {
   "cell_type": "markdown",
   "id": "ce1ede4d-92dd-426f-a7ad-ebd03ceb36be",
   "metadata": {},
   "source": [
    "**Data mínima**"
   ]
  },
  {
   "cell_type": "code",
   "execution_count": null,
   "id": "3a6c3502-c07e-433a-a49b-b52c410b2f68",
   "metadata": {},
   "outputs": [],
   "source": [
    "past_orders_df_data.order_approved_at.min()"
   ]
  },
  {
   "cell_type": "markdown",
   "id": "439e02e8-1eac-4384-ac72-d513600ab3de",
   "metadata": {},
   "source": [
    "**Data máxima**"
   ]
  },
  {
   "cell_type": "code",
   "execution_count": null,
   "id": "5826a60c-1a3c-45bb-9f62-b94508c095ef",
   "metadata": {},
   "outputs": [],
   "source": [
    "past_orders_df_data.order_approved_at.max()"
   ]
  },
  {
   "cell_type": "markdown",
   "id": "c212fac7-963f-42e0-b58f-3d575fed1961",
   "metadata": {},
   "source": [
    "### Excluindo colunas"
   ]
  },
  {
   "cell_type": "code",
   "execution_count": null,
   "id": "b5da20e0-61e9-412a-b854-ceb23f8d8d99",
   "metadata": {},
   "outputs": [],
   "source": [
    "columns_drop = orders_dataset.columns[[3,5,6,7]]"
   ]
  },
  {
   "cell_type": "code",
   "execution_count": null,
   "id": "7ac19e52-0ba9-4d8d-922d-e17490a8e670",
   "metadata": {},
   "outputs": [],
   "source": [
    "past_orders_df_data = past_orders_df_data.drop(columns=columns_drop, axis=1)"
   ]
  },
  {
   "cell_type": "markdown",
   "id": "9ad1d383-818f-422f-8cc5-1c924e1b9864",
   "metadata": {},
   "source": [
    "### Merges"
   ]
  },
  {
   "cell_type": "markdown",
   "id": "481650c5-50e0-4e2c-bcc4-11bc47301e70",
   "metadata": {},
   "source": [
    "- Seller e Order Items"
   ]
  },
  {
   "cell_type": "code",
   "execution_count": null,
   "id": "7cb50902-aa6e-4133-9dc9-bd2159d0ba7f",
   "metadata": {},
   "outputs": [],
   "source": [
    "merge_df6 = pd.merge(sellers_df_cleaned, order_items_df_cleaned, on='seller_id', how='inner')"
   ]
  },
  {
   "cell_type": "markdown",
   "id": "4168f89d-df58-45b4-98f3-843178b64736",
   "metadata": {},
   "source": [
    "- Orders"
   ]
  },
  {
   "cell_type": "code",
   "execution_count": null,
   "id": "6b456172-21d5-45c6-be13-3aa87bd01af9",
   "metadata": {},
   "outputs": [],
   "source": [
    "merge_df6 = pd.merge(merge_df6, past_orders_df_data, on='order_id', how='inner')"
   ]
  },
  {
   "cell_type": "markdown",
   "id": "70165dca-795e-432a-8ce0-d4777a4a7bf7",
   "metadata": {},
   "source": [
    "- Reviews"
   ]
  },
  {
   "cell_type": "code",
   "execution_count": null,
   "id": "a8c10621-c6fc-4ba3-a9ed-67a85b4faa6b",
   "metadata": {},
   "outputs": [],
   "source": [
    "merge_df6 = pd.merge(merge_df6, order_reviews_df_cleaned, on='order_id', how='left')"
   ]
  },
  {
   "cell_type": "code",
   "execution_count": null,
   "id": "f1c64892-682f-4362-8785-90924be5c2be",
   "metadata": {},
   "outputs": [],
   "source": [
    "merge_df6.head()"
   ]
  },
  {
   "cell_type": "markdown",
   "id": "1c05f24d-f752-4bf3-9e9d-9b14b8834e3f",
   "metadata": {},
   "source": [
    "### Agregação para obter a quantidade de produtos vendidos e a quantidade de reviews realizadas"
   ]
  },
  {
   "cell_type": "code",
   "execution_count": null,
   "id": "e4aaf4c3-0d47-4760-96e3-1c76d5e1c06c",
   "metadata": {},
   "outputs": [],
   "source": [
    "correlation_sellers_reviews_past = merge_df6.groupby('seller_name').agg(\n",
    "    qnty_products_sold = ('seller_name', 'count'),\n",
    "    count_reviews = ('review_score', lambda x : x.notna().sum())\n",
    ").reset_index()"
   ]
  },
  {
   "cell_type": "markdown",
   "id": "aabdb75f-1716-479f-9a9f-63db46f5c815",
   "metadata": {},
   "source": [
    "Criando a coluna de quantidade de produtos sem reviews"
   ]
  },
  {
   "cell_type": "code",
   "execution_count": null,
   "id": "73c5f779-f488-4c25-b7e2-aa5d449fd78c",
   "metadata": {},
   "outputs": [],
   "source": [
    "correlation_sellers_reviews_past['qnty_products_without_reviews'] = (\n",
    "    correlation_sellers_reviews_past['qnty_products_sold'] - correlation_sellers_reviews_past['count_reviews']\n",
    ")"
   ]
  },
  {
   "cell_type": "code",
   "execution_count": null,
   "id": "8ca30843-ef3e-46d0-9506-87420a8087e4",
   "metadata": {},
   "outputs": [],
   "source": [
    "correlation_sellers_reviews_past = correlation_sellers_reviews_past.sort_values(by='qnty_products_without_reviews', ascending=False).reset_index(drop=True)\n",
    "correlation_sellers_reviews_past"
   ]
  },
  {
   "cell_type": "markdown",
   "id": "96fc06ff-2a03-4737-a844-4f22d357880d",
   "metadata": {},
   "source": [
    "### Merge dos dataframes dos dois intervalos de tempo utilizados"
   ]
  },
  {
   "cell_type": "code",
   "execution_count": null,
   "id": "3f8d0a35-eb1a-4e6e-a2d3-30b743afbe2d",
   "metadata": {},
   "outputs": [],
   "source": [
    "dates_interval_comparasion = pd.merge(correlation_sellers_reviews_past, correlation_sellers_reviews, on='seller_name', how='inner', suffixes=('_past', '_current'))"
   ]
  },
  {
   "cell_type": "code",
   "execution_count": null,
   "id": "5a3ffd43-cc37-48f2-909b-9afb0a4fc2ee",
   "metadata": {},
   "outputs": [],
   "source": [
    "dates_interval_comparasion.head()"
   ]
  },
  {
   "cell_type": "markdown",
   "id": "6b57a243-d6c8-4aac-91ea-7136790873de",
   "metadata": {},
   "source": [
    "### Ordenação da quantidade de produtos vendidos dos intervalos de tempo para cada seller"
   ]
  },
  {
   "cell_type": "code",
   "execution_count": null,
   "id": "0fe512c9-979f-475c-a899-de4abb78ecab",
   "metadata": {},
   "outputs": [],
   "source": [
    "dates_interval_comparasion = dates_interval_comparasion.sort_values(by=['qnty_products_sold_past', 'qnty_products_sold_current'], ascending=False).reset_index(drop=True)"
   ]
  },
  {
   "cell_type": "code",
   "execution_count": null,
   "id": "d84d473f-04a0-42ce-b702-52eaec8e2870",
   "metadata": {},
   "outputs": [],
   "source": [
    "dates_interval_comparasion"
   ]
  },
  {
   "cell_type": "markdown",
   "id": "5d645a8b-e874-45f7-92b1-5997da0665b1",
   "metadata": {},
   "source": [
    "### Visualização através do gráfico de barras\n",
    "\n",
    "Comparação da quantidade de produtos vendidos nos intervalos de tempos dos **vendedores que mais vendem**"
   ]
  },
  {
   "cell_type": "code",
   "execution_count": null,
   "id": "216f1f2b-b496-4bea-ada2-1a72be28d52a",
   "metadata": {},
   "outputs": [],
   "source": [
    "top10_sellers = dates_interval_comparasion.head(10)"
   ]
  },
  {
   "cell_type": "code",
   "execution_count": null,
   "id": "c1b14013-9eec-44ad-8062-ca1447be772b",
   "metadata": {},
   "outputs": [],
   "source": [
    "top10_sellers_long = pd.melt(top10_sellers, \n",
    "                            id_vars=['seller_name'], \n",
    "                            value_vars=['qnty_products_sold_past', 'qnty_products_sold_current'],\n",
    "                            var_name='period', \n",
    "                            value_name='quantity_sold')\n",
    "\n",
    "plt.figure(figsize=(10, 6))\n",
    "sns.barplot(x='seller_name', y='quantity_sold', hue='period', data=top10_sellers_long)\n",
    "\n",
    "plt.title('Comparação de Vendas Passadas e Atuais dos 10 Maiores Vendedores')\n",
    "plt.xlabel('Vendedores')\n",
    "plt.ylabel('Quantidade de Produtos Vendidos')\n",
    "plt.xticks(rotation=45) \n",
    "plt.grid(axis='y', linestyle='--', alpha=0.7)\n",
    "\n",
    "\n",
    "plt.tight_layout()\n",
    "plt.show()"
   ]
  },
  {
   "cell_type": "markdown",
   "id": "14b2884c-7fd8-460e-83e2-afd5a988befd",
   "metadata": {
    "jp-MarkdownHeadingCollapsed": true
   },
   "source": [
    "# Houve inflação no preço dos produtos ao passar do tempo? Se houve, de quanto foi a variação desta inflação em % e em R$?"
   ]
  },
  {
   "cell_type": "code",
   "execution_count": null,
   "id": "b82d69a6-2d4b-4517-b987-866f632f0730",
   "metadata": {},
   "outputs": [],
   "source": [
    "order_items_dataset.head()"
   ]
  },
  {
   "cell_type": "code",
   "execution_count": null,
   "id": "6ad00955-05ed-4edd-b89d-d2ae680f81b4",
   "metadata": {},
   "outputs": [],
   "source": [
    "# Excluindo colunas do Order Items não necessárias para a análise\n",
    "columns_drop = order_items_dataset.columns[[3,4]]\n",
    "order_items_df_cleaned2 = order_items_dataset.drop(columns=columns_drop, axis=1)\n",
    "order_items_df_cleaned2.head()"
   ]
  },
  {
   "cell_type": "code",
   "execution_count": null,
   "id": "f44c7844-79a6-4957-8ded-df3a9c62ad48",
   "metadata": {},
   "outputs": [],
   "source": [
    "products_df_cleaned.head()"
   ]
  },
  {
   "cell_type": "markdown",
   "id": "7742cf9e-db0d-40f4-960d-b4ac0f45b621",
   "metadata": {},
   "source": [
    "### Tratamento dos dataframes orders que serão utilizados"
   ]
  },
  {
   "cell_type": "markdown",
   "id": "40db4f2e-7e8d-482d-9834-0e81366b1447",
   "metadata": {},
   "source": [
    "Primeiro intervalo de tempo de orders 2017-2018"
   ]
  },
  {
   "cell_type": "code",
   "execution_count": null,
   "id": "0863b478-b632-47ab-b664-ecd1d9cc4772",
   "metadata": {},
   "outputs": [],
   "source": [
    "orders_df_cleaned.columns "
   ]
  },
  {
   "cell_type": "code",
   "execution_count": null,
   "id": "4586e140-afe1-41fe-8234-2c62fd4cfcc7",
   "metadata": {},
   "outputs": [],
   "source": [
    "# Excluindo colunas não necessárias para análise\n",
    "columns_drop = orders_df_cleaned.columns[[1,2]]\n",
    "current_orders_df_cleaned = orders_df_cleaned.drop(columns=columns_drop, axis=1)"
   ]
  },
  {
   "cell_type": "code",
   "execution_count": null,
   "id": "fb169e92-0bf9-4bef-bfbe-e34d6f12cf04",
   "metadata": {},
   "outputs": [],
   "source": [
    "current_orders_df_cleaned.head()"
   ]
  },
  {
   "cell_type": "markdown",
   "id": "2a1a0efe-384b-47de-b609-4fe12d2be117",
   "metadata": {},
   "source": [
    "Primeiro intervalo de tempo de orders 2016-2017"
   ]
  },
  {
   "cell_type": "code",
   "execution_count": null,
   "id": "2115e80d-d8ab-408c-bbff-ce88545c23c2",
   "metadata": {},
   "outputs": [],
   "source": [
    "past_orders_df_data.columns"
   ]
  },
  {
   "cell_type": "code",
   "execution_count": null,
   "id": "29add174-d09b-43c2-b64e-8f957b667073",
   "metadata": {},
   "outputs": [],
   "source": [
    "# Excluindo colunas não necessárias para análise\n",
    "columns_drop = past_orders_df_data.columns[[1,2]]\n",
    "past_orders_df_cleaned = past_orders_df_data.drop(columns=columns_drop, axis=1)"
   ]
  },
  {
   "cell_type": "code",
   "execution_count": null,
   "id": "73d04c2e-7907-4aed-88df-bf36ad943d53",
   "metadata": {},
   "outputs": [],
   "source": [
    "past_orders_df_cleaned.head()"
   ]
  },
  {
   "cell_type": "markdown",
   "id": "e2259ad1-6b15-4927-ab11-a5eef69dcb01",
   "metadata": {},
   "source": [
    "### Merges\n",
    "\n"
   ]
  },
  {
   "cell_type": "markdown",
   "id": "cc4f9552-9928-4763-8624-46149fa84615",
   "metadata": {},
   "source": [
    "#### Dataframe intervalo 2017-2018"
   ]
  },
  {
   "cell_type": "markdown",
   "id": "2cfabd4b-e679-4257-9556-550803bc076a",
   "metadata": {},
   "source": [
    "- Products com Order Items"
   ]
  },
  {
   "cell_type": "code",
   "execution_count": null,
   "id": "0dab4b7f-8f96-439c-bddc-1d438ca78024",
   "metadata": {},
   "outputs": [],
   "source": [
    "merge_df7 = pd.merge(products_df_cleaned, order_items_df_cleaned2, on='product_id', how='inner')"
   ]
  },
  {
   "cell_type": "markdown",
   "id": "ca576f08-b818-48a8-8865-04fb58ef8e69",
   "metadata": {},
   "source": [
    "- Orders"
   ]
  },
  {
   "cell_type": "code",
   "execution_count": null,
   "id": "536e641a-8822-474d-9129-6751e99e8397",
   "metadata": {},
   "outputs": [],
   "source": [
    "merge_df7 = pd.merge(merge_df7, current_orders_df_cleaned, on='order_id', how='inner')"
   ]
  },
  {
   "cell_type": "code",
   "execution_count": null,
   "id": "98e03b62-e377-44b4-be7c-407aa9276906",
   "metadata": {},
   "outputs": [],
   "source": [
    "merge_df7.head()"
   ]
  },
  {
   "cell_type": "code",
   "execution_count": null,
   "id": "db3c0501-82f3-466e-9598-0ddebdc4cf95",
   "metadata": {},
   "outputs": [],
   "source": [
    "merge_df7.shape"
   ]
  },
  {
   "cell_type": "code",
   "execution_count": null,
   "id": "427c58bd-669e-4db1-8ca0-cf10a9715c0d",
   "metadata": {},
   "outputs": [],
   "source": [
    "merge_df7.duplicated().sum()"
   ]
  },
  {
   "cell_type": "markdown",
   "id": "b1ad8761-a398-4f9d-8cd1-272f6c5daf8a",
   "metadata": {},
   "source": [
    "### Dataframe intervalo 2016-2017"
   ]
  },
  {
   "cell_type": "markdown",
   "id": "da42a40a-f1bf-4c91-abd6-a37d1d93ed14",
   "metadata": {},
   "source": [
    "- Products Order Items"
   ]
  },
  {
   "cell_type": "code",
   "execution_count": null,
   "id": "82257542-bb20-4ccc-aefd-3dd0c668f31a",
   "metadata": {},
   "outputs": [],
   "source": [
    "merge_df8 = pd.merge(products_df_cleaned, order_items_df_cleaned2, on='product_id', how='inner')"
   ]
  },
  {
   "cell_type": "markdown",
   "id": "8f07a794-a3e5-4690-832f-6b66bd35352b",
   "metadata": {},
   "source": [
    "- Orders"
   ]
  },
  {
   "cell_type": "code",
   "execution_count": null,
   "id": "2343e2f9-d855-4cdb-96a5-d3d83b689adf",
   "metadata": {},
   "outputs": [],
   "source": [
    "merge_df8 = pd.merge(merge_df8, past_orders_df_cleaned, on='order_id', how='inner')"
   ]
  },
  {
   "cell_type": "code",
   "execution_count": null,
   "id": "eeed513b-a850-48df-bb5e-69b99f67b84c",
   "metadata": {},
   "outputs": [],
   "source": [
    "merge_df8.head()"
   ]
  },
  {
   "cell_type": "code",
   "execution_count": null,
   "id": "4f4fca70-5f3f-43eb-b0b5-7495ab29a5d4",
   "metadata": {},
   "outputs": [],
   "source": [
    "merge_df8.shape"
   ]
  },
  {
   "cell_type": "code",
   "execution_count": null,
   "id": "193304a8-2c95-4422-863d-4256fcc99da4",
   "metadata": {},
   "outputs": [],
   "source": [
    "merge_df8.product_id.duplicated().sum()"
   ]
  },
  {
   "cell_type": "code",
   "execution_count": null,
   "id": "11643508-d96b-465b-85b3-db08c6b0cb9c",
   "metadata": {},
   "outputs": [],
   "source": [
    "merge_df8.duplicated().sum()"
   ]
  },
  {
   "cell_type": "code",
   "execution_count": null,
   "id": "20de5b07-3bc1-43b6-8482-306480dabad2",
   "metadata": {},
   "outputs": [],
   "source": [
    "merge_df8.columns"
   ]
  },
  {
   "cell_type": "markdown",
   "id": "17455b7b-0a84-4914-a27f-5e624ff0b7bd",
   "metadata": {},
   "source": [
    "### Agrupamentos"
   ]
  },
  {
   "cell_type": "markdown",
   "id": "76b0cdd0-1960-47ba-876a-7669293c7172",
   "metadata": {},
   "source": [
    "#### Estrutura de raciocínio\n",
    "\n",
    "Como eu possuo 2 dataframes com intervalos de tempos diferentes, a ideia é unir eles pelo **product_id** para que os mesmos produtos possam ser comparados, em épocas diferentes.\n",
    "\n",
    "Resolvi utilizar a **média de preços de um mesmo produto** para visualizar a variação da inflação."
   ]
  },
  {
   "cell_type": "markdown",
   "id": "f71c1fd3-acb7-4d3b-928a-a3e4731f4643",
   "metadata": {},
   "source": [
    "Calculando a média de preços por produto no intervalo 2017-2018"
   ]
  },
  {
   "cell_type": "code",
   "execution_count": null,
   "id": "9d576297-fbaa-442e-b121-127d07587187",
   "metadata": {},
   "outputs": [],
   "source": [
    "mean_price_2017_2018 = merge_df7.groupby(['product_id', 'product_category_name']).agg(\n",
    "    mean_product_value_current = ('price', 'mean')\n",
    ").reset_index()"
   ]
  },
  {
   "cell_type": "code",
   "execution_count": null,
   "id": "65fd0d91-c643-4903-81fb-45722ea949a4",
   "metadata": {},
   "outputs": [],
   "source": [
    "mean_price_2017_2018.head()"
   ]
  },
  {
   "cell_type": "markdown",
   "id": "823d6de0-694a-464c-ad1b-cf9027987796",
   "metadata": {},
   "source": [
    "Calculando a média de preços por produto no intervalo 2016-2017"
   ]
  },
  {
   "cell_type": "code",
   "execution_count": null,
   "id": "7dd1833f-944e-47bb-ab02-35d6dfea720b",
   "metadata": {},
   "outputs": [],
   "source": [
    "mean_price_2016_2017 = merge_df8.groupby(['product_id', 'product_category_name']).agg(\n",
    "    mean_product_value_past = ('price', 'mean')\n",
    ").reset_index()"
   ]
  },
  {
   "cell_type": "code",
   "execution_count": null,
   "id": "0ab8457d-c819-426f-b6cc-319f11e6705b",
   "metadata": {},
   "outputs": [],
   "source": [
    "mean_price_2016_2017.head()"
   ]
  },
  {
   "cell_type": "markdown",
   "id": "1af3f6e9-647a-4d02-b9de-517c2b843294",
   "metadata": {},
   "source": [
    "### Merge"
   ]
  },
  {
   "cell_type": "markdown",
   "id": "0f4e5aed-9778-4068-8d27-f282ef9b9c4b",
   "metadata": {},
   "source": [
    "- Merge que une os dois períodos"
   ]
  },
  {
   "cell_type": "code",
   "execution_count": null,
   "id": "448a676a-1dc6-4865-ba3f-3e555ea5532c",
   "metadata": {},
   "outputs": [],
   "source": [
    "price_comparison = pd.merge(mean_price_2017_2018, mean_price_2016_2017, on='product_id', how='inner')"
   ]
  },
  {
   "cell_type": "code",
   "execution_count": null,
   "id": "6ec9cbb8-95e4-44fe-a936-7f5dd16ee11a",
   "metadata": {},
   "outputs": [],
   "source": [
    "price_comparison.head()"
   ]
  },
  {
   "cell_type": "code",
   "execution_count": null,
   "id": "7370d2a8-d00a-427d-9a54-7fb4e4488c50",
   "metadata": {},
   "outputs": [],
   "source": [
    "price_comparison.shape"
   ]
  },
  {
   "cell_type": "code",
   "execution_count": null,
   "id": "fd25a21b-045b-4845-90ea-ed12a23dcd01",
   "metadata": {},
   "outputs": [],
   "source": [
    "price_comparison.duplicated().sum()"
   ]
  },
  {
   "cell_type": "markdown",
   "id": "47b68799-1655-4d9e-b32b-ef702dd804e7",
   "metadata": {},
   "source": [
    "### Calculo das variações\n",
    "\n",
    "A variação calculada em **Reais(R$)** é feita através da **diferença entre a média do intervalo mais recente e a média do intevalo menos recente**.\n",
    "\n",
    "A variação calculada em **Porcentagem(%)** é uma formula padrão que utiliza a **variação de preços em Reais**, **divide pela média do intevalo menos recente** e **multiplica por 100**."
   ]
  },
  {
   "cell_type": "code",
   "execution_count": null,
   "id": "bd9d1b0d-7bab-4a31-995a-d1d47ca907b9",
   "metadata": {},
   "outputs": [],
   "source": [
    "price_comparison['price_variation_R$'] = price_comparison['mean_product_value_current'] - price_comparison['mean_product_value_past']\n",
    "price_comparison['price_variation_%'] = (price_comparison['price_variation_R$'] / price_comparison['mean_product_value_past']) * 100"
   ]
  },
  {
   "cell_type": "markdown",
   "id": "5c629351-bd6a-4cb8-9c2b-17ddf2e74541",
   "metadata": {},
   "source": [
    "Produtos que ficaram mais caros possuem **variação de preço positiva**. Já os que ficaram mais baratos, posssuem **variação de preços negativa**."
   ]
  },
  {
   "cell_type": "code",
   "execution_count": null,
   "id": "e6681ed9-77d1-4c90-a5cb-06a867d7b861",
   "metadata": {},
   "outputs": [],
   "source": [
    "price_comparison"
   ]
  },
  {
   "cell_type": "markdown",
   "id": "568f243b-eb83-4462-87b5-80d04a019846",
   "metadata": {},
   "source": [
    "### Ordenação pela variação de preços"
   ]
  },
  {
   "cell_type": "markdown",
   "id": "41dbb957-615e-4884-afc1-529c9e5df5fc",
   "metadata": {},
   "source": [
    "Produtos que mais inflacionaram"
   ]
  },
  {
   "cell_type": "code",
   "execution_count": null,
   "id": "333f0f40-85f9-46de-a42a-5049b3337325",
   "metadata": {},
   "outputs": [],
   "source": [
    "top_increase = price_comparison.sort_values(by='price_variation_%', ascending=False).reset_index(drop=True).head(10)\n",
    "top_increase['product_name'] = 'product' + top_increase['product_id'].str[:4]"
   ]
  },
  {
   "cell_type": "code",
   "execution_count": null,
   "id": "14df0fe7-6ad8-4eff-8e0b-7acf592e4753",
   "metadata": {},
   "outputs": [],
   "source": [
    "top_increase_sorted = top_increase.sort_values(by='price_variation_%', ascending=True)\n",
    "top_increase_sorted"
   ]
  },
  {
   "cell_type": "code",
   "execution_count": null,
   "id": "29ff46ad-f259-42fe-ac3f-9ba3928cf72e",
   "metadata": {},
   "outputs": [],
   "source": [
    "top_decrease = price_comparison.sort_values(by='price_variation_%', ascending=True).reset_index(drop=True).head(10)\n",
    "top_decrease['product_name'] = 'product' + top_increase['product_id'].str[:4]"
   ]
  },
  {
   "cell_type": "code",
   "execution_count": null,
   "id": "57e459a8-05ac-471e-af78-0026a1e0d044",
   "metadata": {},
   "outputs": [],
   "source": [
    "top_decrease"
   ]
  },
  {
   "cell_type": "markdown",
   "id": "63cd4fed-c491-4564-9afa-9e562d1910ba",
   "metadata": {},
   "source": [
    "### Visualização gráfica de produtos com maior aumento de preço"
   ]
  },
  {
   "cell_type": "code",
   "execution_count": null,
   "id": "8051556f-5010-40fe-88e8-d9ae358aeaea",
   "metadata": {},
   "outputs": [],
   "source": [
    "plt.figure(figsize=(10, 6))\n",
    "sns.barplot(x='product_name', y='price_variation_%', data=top_increase_sorted, hue='product_name', palette='Oranges')\n",
    "plt.title('Top 10 Produtos com Maior Aumento de Preço (%)', fontsize=16)\n",
    "plt.xlabel('Nome do produto', fontsize=12)\n",
    "plt.ylabel('Variação de Preço (%)', fontsize=12)\n",
    "plt.xticks(rotation=45, fontsize=10)\n",
    "plt.grid(axis='y', linestyle='--', alpha=0.8)\n",
    "plt.tight_layout()\n",
    "plt.show()"
   ]
  },
  {
   "cell_type": "code",
   "execution_count": null,
   "id": "b6b1314e-f35f-410e-93ab-2e28833d9a68",
   "metadata": {},
   "outputs": [],
   "source": [
    "mean_products_values_comparision = pd.melt(\n",
    "    top_increase, \n",
    "    id_vars=['product_name'], \n",
    "    value_vars=['mean_product_value_past', 'mean_product_value_current'],\n",
    "    var_name='period', \n",
    "    value_name='mean_price'\n",
    ")\n",
    "\n",
    "plt.figure(figsize=(12, 8))\n",
    "sns.barplot(x='product_name', y='mean_price', hue='period', data=mean_products_values_comparision,palette='Set2')\n",
    "\n",
    "plt.title('Comparação da Média de Valores dos Produtos por Período', fontsize=16, pad=20)\n",
    "plt.xlabel('Produtos', fontsize=12)\n",
    "plt.ylabel('Preço Médio (R$)', fontsize=12)\n",
    "plt.xticks(rotation=45, ha='right', fontsize=10)  \n",
    "plt.legend(title='Período', title_fontsize=12, fontsize=10, loc='upper left')\n",
    "plt.grid(axis='y', linestyle='--', alpha=0.7)\n",
    "\n",
    "plt.tight_layout()\n",
    "\n",
    "plt.show()"
   ]
  },
  {
   "cell_type": "code",
   "execution_count": null,
   "id": "b8062237-d102-40ab-9e4f-fb6c0aafb8ae",
   "metadata": {},
   "outputs": [],
   "source": [
    "plt.figure(figsize=(8, 5))\n",
    "plt.plot(X, y, 'o-', label='Preços Observados')  # Dados reais\n",
    "plt.plot(future_months, future_predictions, 'x--', label='Previsão de Preços')  # Previsões\n",
    "plt.xlabel('Tempo (Meses)')\n",
    "plt.ylabel('Mediana dos Preços')\n",
    "plt.title(f'Previsão de Preços para: {product_name}')\n",
    "plt.legend()\n",
    "plt.show()"
   ]
  },
  {
   "cell_type": "markdown",
   "id": "1234fafb-8516-4f67-82cc-326212cfed2b",
   "metadata": {
    "jp-MarkdownHeadingCollapsed": true
   },
   "source": [
    "# Análise de Produtos com Maior Diferença de Preço entre Vendas"
   ]
  },
  {
   "cell_type": "markdown",
   "id": "c622bcd6-d53e-4ff2-9d2c-b63b73e4dd3c",
   "metadata": {},
   "source": [
    "Verificar quais produtos apresentam uma grande variação de preço nas vendas."
   ]
  },
  {
   "cell_type": "code",
   "execution_count": null,
   "id": "8b1b32b8-350a-4ac7-9624-9b7fc1d82464",
   "metadata": {},
   "outputs": [],
   "source": [
    "merge_df8.head()"
   ]
  },
  {
   "cell_type": "code",
   "execution_count": null,
   "id": "161adfff-bf1a-4173-909e-c981601d6f61",
   "metadata": {},
   "outputs": [],
   "source": [
    "merge_df8.shape"
   ]
  },
  {
   "cell_type": "code",
   "execution_count": null,
   "id": "689ee1a1-2651-4d56-b348-66c1910b1e1e",
   "metadata": {},
   "outputs": [],
   "source": [
    "merge_df8.dtypes"
   ]
  },
  {
   "cell_type": "markdown",
   "id": "ca6a8987-0653-44cc-b548-06ffb64135f4",
   "metadata": {},
   "source": [
    "### Agrupamento "
   ]
  },
  {
   "cell_type": "markdown",
   "id": "34ad852b-585d-444b-b0c0-5894ffd1b62a",
   "metadata": {},
   "source": [
    "Agrupamento de product_id com com preço, obtendo o mínimo e máximo"
   ]
  },
  {
   "cell_type": "code",
   "execution_count": null,
   "id": "c29da6c1-f71f-4d30-a325-9213b2a46b58",
   "metadata": {},
   "outputs": [],
   "source": [
    "price_range = merge_df8"
   ]
  },
  {
   "cell_type": "code",
   "execution_count": null,
   "id": "37b101bf-9577-47ac-bd65-9ca8fb5525da",
   "metadata": {},
   "outputs": [],
   "source": [
    "price_range = price_range.groupby('product_id')['price'].agg(['max', 'min']).reset_index()"
   ]
  },
  {
   "cell_type": "code",
   "execution_count": null,
   "id": "d0100b33-b769-493b-bcc7-716e4fbdd560",
   "metadata": {},
   "outputs": [],
   "source": [
    "price_range.head()"
   ]
  },
  {
   "cell_type": "code",
   "execution_count": null,
   "id": "11c74a7d-af8a-4718-a510-db2a23b60d11",
   "metadata": {},
   "outputs": [],
   "source": [
    "price_range['product_name'] = 'product' + price_range['product_id'].str[:4]"
   ]
  },
  {
   "cell_type": "code",
   "execution_count": null,
   "id": "519de602-12be-4930-b2b5-c2a6da0844f2",
   "metadata": {},
   "outputs": [],
   "source": [
    "price_range['price_diff'] = price_range['max'] - price_range['min']\n",
    "price_range = price_range.sort_values(by='price_diff', ascending=False)"
   ]
  },
  {
   "cell_type": "code",
   "execution_count": null,
   "id": "ea9209cf-ebcb-4261-b7e3-f9c408fbfd02",
   "metadata": {},
   "outputs": [],
   "source": [
    "top_price_range_products = price_range.head(10)"
   ]
  },
  {
   "cell_type": "code",
   "execution_count": null,
   "id": "96ae3acb-37d7-4a9b-adc6-02cce129e837",
   "metadata": {},
   "outputs": [],
   "source": [
    "top_price_range_products.head()"
   ]
  },
  {
   "cell_type": "code",
   "execution_count": null,
   "id": "f96401e3-9acd-41e1-8639-de9d68dc88a3",
   "metadata": {},
   "outputs": [],
   "source": [
    "sns.barplot(x='price_diff', y='product_name', data=top_price_range_products, palette='coolwarm', hue='product_name')\n",
    "plt.title('Top 10 Produtos com Maior Diferença de Preço')\n",
    "plt.xlabel('Diferença de Preço(R$)', fontsize=12)\n",
    "plt.ylabel('Nome do produto', fontsize=12)\n",
    "plt.grid(axis='x', linestyle='--', alpha=0.7)\n",
    "\n",
    "plt.tight_layout()\n",
    "\n",
    "plt.show()"
   ]
  },
  {
   "cell_type": "code",
   "execution_count": null,
   "id": "963f3852-472e-4617-94e6-ef4d103a4323",
   "metadata": {},
   "outputs": [],
   "source": []
  }
 ],
 "metadata": {
  "kernelspec": {
   "display_name": "Python 3 (ipykernel)",
   "language": "python",
   "name": "python3"
  },
  "language_info": {
   "codemirror_mode": {
    "name": "ipython",
    "version": 3
   },
   "file_extension": ".py",
   "mimetype": "text/x-python",
   "name": "python",
   "nbconvert_exporter": "python",
   "pygments_lexer": "ipython3",
   "version": "3.11.13"
  }
 },
 "nbformat": 4,
 "nbformat_minor": 5
}
