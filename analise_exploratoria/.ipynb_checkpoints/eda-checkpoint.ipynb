{
 "cells": [
  {
   "cell_type": "markdown",
   "id": "76f2168d-f627-4a8a-b62f-8f57d98f381d",
   "metadata": {},
   "source": [
    "# Imports"
   ]
  },
  {
   "cell_type": "code",
   "execution_count": 30,
   "id": "25fefc74-8f39-491c-8f98-3eccc1b5396f",
   "metadata": {},
   "outputs": [],
   "source": [
    "import pandas as pd\n",
    "import glob \n",
    "import numpy as np\n",
    "import matplotlib.pyplot as plt\n",
    "import seaborn as sns\n",
    "from sklearn.linear_model import LinearRegression"
   ]
  },
  {
   "cell_type": "markdown",
   "id": "879b7866-6e6a-4475-a709-459a11d37dfd",
   "metadata": {},
   "source": [
    "# Loading Datasets"
   ]
  },
  {
   "cell_type": "code",
   "execution_count": 31,
   "id": "b6142e57-c578-4480-801b-c0ed89e83561",
   "metadata": {},
   "outputs": [],
   "source": [
    "DATASETS_PATH = \"../data/\"\n",
    "\n",
    "# customers\n",
    "customers_df = pd.read_csv(DATASETS_PATH + \"olist_customers_dataset.csv\")\n",
    "geolocation_df = pd.read_csv(DATASETS_PATH + \"olist_geolocation_dataset.csv\")\n",
    "\n",
    "# order\n",
    "orders_df = pd.read_csv(DATASETS_PATH + \"olist_orders_dataset.csv\")\n",
    "order_items_df = pd.read_csv(DATASETS_PATH + \"olist_order_items_dataset.csv\")\n",
    "order_payments_df = pd.read_csv(DATASETS_PATH + \"olist_order_payments_dataset.csv\")\n",
    "order_reviews_df = pd.read_csv(DATASETS_PATH + \"olist_order_reviews_dataset.csv\")\n",
    "\n",
    "# products\n",
    "products_df = pd.read_csv(DATASETS_PATH + \"olist_products_dataset.csv\")\n",
    "products_translation_df = pd.read_csv(DATASETS_PATH + \"product_category_name_translation.csv\")\n",
    "\n",
    "# sellers\n",
    "sellers_df = pd.read_csv(DATASETS_PATH + \"olist_sellers_dataset.csv\")"
   ]
  },
  {
   "cell_type": "markdown",
   "id": "f253076d-b944-441c-9681-26d469f752a3",
   "metadata": {},
   "source": [
    "# Descriptive statistics"
   ]
  },
  {
   "cell_type": "code",
   "execution_count": 32,
   "id": "1dfe96b0-c4be-47e3-8ebe-9e30f3a4c60f",
   "metadata": {},
   "outputs": [],
   "source": [
    "dfs = {\n",
    "    \"Customers\": customers_df,\n",
    "    \"Location\": geolocation_df,\n",
    "    \"Orders\": orders_df,\n",
    "    \"Order Payments\": order_payments_df,\n",
    "    \"Order Reviews\": order_reviews_df,\n",
    "    \"Products\": products_df,\n",
    "    \"Products Translation\": products_translation_df,\n",
    "    \"Sellers\": sellers_df\n",
    "}\n",
    "\n",
    "def dfs_basic_infos(dfs: dict):\n",
    "    \"\"\"\n",
    "    Print basic infos of all dataframes (shape, columns, duplicated, NaN)\n",
    "\n",
    "    Args:\n",
    "        dfs (dict): pair key-value (key = \"Name of the dataframe\", value = \"Dataframe variable\")\n",
    "    \"\"\"\n",
    "    for name, df in dfs.items():\n",
    "        df_shape = df.shape\n",
    "        numeric_cols = df.select_dtypes(include=np.number).columns.values\n",
    "        categoric_cols = df.select_dtypes(exclude=np.number).columns.values\n",
    "    \n",
    "        print(20 * '-', f\"Dataset {name}\", 20 * '-')\n",
    "        print(f\"{'Shape:':<35} {df_shape}\")\n",
    "        print(f\"{'Numerical columns:':<35} {numeric_cols}\")\n",
    "        print(f\"{'Categorical columns:':<35} {categoric_cols}\")\n",
    "        print(f\"{'Number of duplicated values:':<35} {df.duplicated().sum()}\")\n",
    "        print(f\"{'Number of duplicated values (%):':<35} {round((df.duplicated().sum() / len(df)) * 100, 2)}\")\n",
    "        print(f\"\\n{'NaN values:':<35}\")\n",
    "        print(df.isna().sum())\n",
    "        print()\n",
    "\n",
    "def numeric_columns_statistics(dfs: dict):\n",
    "    \"\"\"\n",
    "    Print the describe() command for all datasets\n",
    "\n",
    "    Args:\n",
    "        dfs (dict): pair key-value (key = \"Name of the dataframe\", value = \"Dataframe variable\")\n",
    "    \"\"\"\n",
    "    for name, df in dfs.items():\n",
    "        print(20 * '-', f\"Dataset {name}\", 20 * '-')\n",
    "        print(df.describe())\n",
    "        print()\n",
    "\n",
    "def head_of_dfs(dfs: dict):\n",
    "    \"\"\"\n",
    "    Print the describe() command for all datasets\n",
    "\n",
    "    Args:\n",
    "        dfs (dict): pair key-value (key = \"Name of the dataframe\", value = \"Dataframe variable\")\n",
    "    \"\"\"\n",
    "    for name, df in dfs.items():\n",
    "        print(20 * '-', f\"Dataset {name}\", 20 * '-')\n",
    "        display(df.head())\n",
    "        print()"
   ]
  },
  {
   "cell_type": "markdown",
   "id": "d1f836be-2610-4244-844f-0166df8e7084",
   "metadata": {},
   "source": [
    "## Basic Infos"
   ]
  },
  {
   "cell_type": "code",
   "execution_count": 33,
   "id": "2f7d835b-086d-42dd-a733-b00c68bc5ed5",
   "metadata": {},
   "outputs": [
    {
     "name": "stdout",
     "output_type": "stream",
     "text": [
      "-------------------- Dataset Customers --------------------\n",
      "Shape:                              (99441, 5)\n",
      "Numerical columns:                  ['customer_zip_code_prefix']\n",
      "Categorical columns:                ['customer_id' 'customer_unique_id' 'customer_city' 'customer_state']\n",
      "Number of duplicated values:        0\n",
      "Number of duplicated values (%):    0.0\n",
      "\n",
      "NaN values:                        \n",
      "customer_id                 0\n",
      "customer_unique_id          0\n",
      "customer_zip_code_prefix    0\n",
      "customer_city               0\n",
      "customer_state              0\n",
      "dtype: int64\n",
      "\n",
      "-------------------- Dataset Location --------------------\n",
      "Shape:                              (1000163, 5)\n",
      "Numerical columns:                  ['geolocation_zip_code_prefix' 'geolocation_lat' 'geolocation_lng']\n",
      "Categorical columns:                ['geolocation_city' 'geolocation_state']\n",
      "Number of duplicated values:        261831\n",
      "Number of duplicated values (%):    26.18\n",
      "\n",
      "NaN values:                        \n",
      "geolocation_zip_code_prefix    0\n",
      "geolocation_lat                0\n",
      "geolocation_lng                0\n",
      "geolocation_city               0\n",
      "geolocation_state              0\n",
      "dtype: int64\n",
      "\n",
      "-------------------- Dataset Orders --------------------\n",
      "Shape:                              (99441, 8)\n",
      "Numerical columns:                  []\n",
      "Categorical columns:                ['order_id' 'customer_id' 'order_status' 'order_purchase_timestamp'\n",
      " 'order_approved_at' 'order_delivered_carrier_date'\n",
      " 'order_delivered_customer_date' 'order_estimated_delivery_date']\n",
      "Number of duplicated values:        0\n",
      "Number of duplicated values (%):    0.0\n",
      "\n",
      "NaN values:                        \n",
      "order_id                            0\n",
      "customer_id                         0\n",
      "order_status                        0\n",
      "order_purchase_timestamp            0\n",
      "order_approved_at                 160\n",
      "order_delivered_carrier_date     1783\n",
      "order_delivered_customer_date    2965\n",
      "order_estimated_delivery_date       0\n",
      "dtype: int64\n",
      "\n",
      "-------------------- Dataset Order Payments --------------------\n",
      "Shape:                              (103886, 5)\n",
      "Numerical columns:                  ['payment_sequential' 'payment_installments' 'payment_value']\n",
      "Categorical columns:                ['order_id' 'payment_type']\n",
      "Number of duplicated values:        0\n",
      "Number of duplicated values (%):    0.0\n",
      "\n",
      "NaN values:                        \n",
      "order_id                0\n",
      "payment_sequential      0\n",
      "payment_type            0\n",
      "payment_installments    0\n",
      "payment_value           0\n",
      "dtype: int64\n",
      "\n",
      "-------------------- Dataset Order Reviews --------------------\n",
      "Shape:                              (99224, 7)\n",
      "Numerical columns:                  ['review_score']\n",
      "Categorical columns:                ['review_id' 'order_id' 'review_comment_title' 'review_comment_message'\n",
      " 'review_creation_date' 'review_answer_timestamp']\n",
      "Number of duplicated values:        0\n",
      "Number of duplicated values (%):    0.0\n",
      "\n",
      "NaN values:                        \n",
      "review_id                      0\n",
      "order_id                       0\n",
      "review_score                   0\n",
      "review_comment_title       87656\n",
      "review_comment_message     58247\n",
      "review_creation_date           0\n",
      "review_answer_timestamp        0\n",
      "dtype: int64\n",
      "\n",
      "-------------------- Dataset Products --------------------\n",
      "Shape:                              (32951, 9)\n",
      "Numerical columns:                  ['product_name_lenght' 'product_description_lenght' 'product_photos_qty'\n",
      " 'product_weight_g' 'product_length_cm' 'product_height_cm'\n",
      " 'product_width_cm']\n",
      "Categorical columns:                ['product_id' 'product_category_name']\n",
      "Number of duplicated values:        0\n",
      "Number of duplicated values (%):    0.0\n",
      "\n",
      "NaN values:                        \n",
      "product_id                      0\n",
      "product_category_name         610\n",
      "product_name_lenght           610\n",
      "product_description_lenght    610\n",
      "product_photos_qty            610\n",
      "product_weight_g                2\n",
      "product_length_cm               2\n",
      "product_height_cm               2\n",
      "product_width_cm                2\n",
      "dtype: int64\n",
      "\n",
      "-------------------- Dataset Products Translation --------------------\n",
      "Shape:                              (71, 2)\n",
      "Numerical columns:                  []\n",
      "Categorical columns:                ['product_category_name' 'product_category_name_english']\n",
      "Number of duplicated values:        0\n",
      "Number of duplicated values (%):    0.0\n",
      "\n",
      "NaN values:                        \n",
      "product_category_name            0\n",
      "product_category_name_english    0\n",
      "dtype: int64\n",
      "\n",
      "-------------------- Dataset Sellers --------------------\n",
      "Shape:                              (3095, 4)\n",
      "Numerical columns:                  ['seller_zip_code_prefix']\n",
      "Categorical columns:                ['seller_id' 'seller_city' 'seller_state']\n",
      "Number of duplicated values:        0\n",
      "Number of duplicated values (%):    0.0\n",
      "\n",
      "NaN values:                        \n",
      "seller_id                 0\n",
      "seller_zip_code_prefix    0\n",
      "seller_city               0\n",
      "seller_state              0\n",
      "dtype: int64\n",
      "\n"
     ]
    }
   ],
   "source": [
    "dfs_basic_infos(dfs)"
   ]
  },
  {
   "cell_type": "markdown",
   "id": "13fcdd0c-5d6d-4eb6-b2f0-26c70ba2a650",
   "metadata": {},
   "source": [
    "## Numeric Columns Statistics"
   ]
  },
  {
   "cell_type": "code",
   "execution_count": 34,
   "id": "0ee0b48a-adb0-4e2b-af2f-ce3784c6cd3a",
   "metadata": {},
   "outputs": [
    {
     "name": "stdout",
     "output_type": "stream",
     "text": [
      "-------------------- Dataset Customers --------------------\n",
      "       customer_zip_code_prefix\n",
      "count              99441.000000\n",
      "mean               35137.474583\n",
      "std                29797.938996\n",
      "min                 1003.000000\n",
      "25%                11347.000000\n",
      "50%                24416.000000\n",
      "75%                58900.000000\n",
      "max                99990.000000\n",
      "\n",
      "-------------------- Dataset Location --------------------\n",
      "       geolocation_zip_code_prefix  geolocation_lat  geolocation_lng\n",
      "count                 1.000163e+06     1.000163e+06     1.000163e+06\n",
      "mean                  3.657417e+04    -2.117615e+01    -4.639054e+01\n",
      "std                   3.054934e+04     5.715866e+00     4.269748e+00\n",
      "min                   1.001000e+03    -3.660537e+01    -1.014668e+02\n",
      "25%                   1.107500e+04    -2.360355e+01    -4.857317e+01\n",
      "50%                   2.653000e+04    -2.291938e+01    -4.663788e+01\n",
      "75%                   6.350400e+04    -1.997962e+01    -4.376771e+01\n",
      "max                   9.999000e+04     4.506593e+01     1.211054e+02\n",
      "\n",
      "-------------------- Dataset Orders --------------------\n",
      "                                order_id                       customer_id  \\\n",
      "count                              99441                             99441   \n",
      "unique                             99441                             99441   \n",
      "top     e481f51cbdc54678b7cc49136f2d6af7  9ef432eb6251297304e76186b10a928d   \n",
      "freq                                   1                                 1   \n",
      "\n",
      "       order_status order_purchase_timestamp    order_approved_at  \\\n",
      "count         99441                    99441                99281   \n",
      "unique            8                    98875                90733   \n",
      "top       delivered      2018-08-02 12:06:07  2018-02-27 04:31:10   \n",
      "freq          96478                        3                    9   \n",
      "\n",
      "       order_delivered_carrier_date order_delivered_customer_date  \\\n",
      "count                         97658                         96476   \n",
      "unique                        81018                         95664   \n",
      "top             2018-05-09 15:48:00           2018-05-14 20:02:44   \n",
      "freq                             47                             3   \n",
      "\n",
      "       order_estimated_delivery_date  \n",
      "count                          99441  \n",
      "unique                           459  \n",
      "top              2017-12-20 00:00:00  \n",
      "freq                             522  \n",
      "\n",
      "-------------------- Dataset Order Payments --------------------\n",
      "       payment_sequential  payment_installments  payment_value\n",
      "count       103886.000000         103886.000000  103886.000000\n",
      "mean             1.092679              2.853349     154.100380\n",
      "std              0.706584              2.687051     217.494064\n",
      "min              1.000000              0.000000       0.000000\n",
      "25%              1.000000              1.000000      56.790000\n",
      "50%              1.000000              1.000000     100.000000\n",
      "75%              1.000000              4.000000     171.837500\n",
      "max             29.000000             24.000000   13664.080000\n",
      "\n",
      "-------------------- Dataset Order Reviews --------------------\n",
      "       review_score\n",
      "count  99224.000000\n",
      "mean       4.086421\n",
      "std        1.347579\n",
      "min        1.000000\n",
      "25%        4.000000\n",
      "50%        5.000000\n",
      "75%        5.000000\n",
      "max        5.000000\n",
      "\n",
      "-------------------- Dataset Products --------------------\n",
      "       product_name_lenght  product_description_lenght  product_photos_qty  \\\n",
      "count         32341.000000                32341.000000        32341.000000   \n",
      "mean             48.476949                  771.495285            2.188986   \n",
      "std              10.245741                  635.115225            1.736766   \n",
      "min               5.000000                    4.000000            1.000000   \n",
      "25%              42.000000                  339.000000            1.000000   \n",
      "50%              51.000000                  595.000000            1.000000   \n",
      "75%              57.000000                  972.000000            3.000000   \n",
      "max              76.000000                 3992.000000           20.000000   \n",
      "\n",
      "       product_weight_g  product_length_cm  product_height_cm  \\\n",
      "count      32949.000000       32949.000000       32949.000000   \n",
      "mean        2276.472488          30.815078          16.937661   \n",
      "std         4282.038731          16.914458          13.637554   \n",
      "min            0.000000           7.000000           2.000000   \n",
      "25%          300.000000          18.000000           8.000000   \n",
      "50%          700.000000          25.000000          13.000000   \n",
      "75%         1900.000000          38.000000          21.000000   \n",
      "max        40425.000000         105.000000         105.000000   \n",
      "\n",
      "       product_width_cm  \n",
      "count      32949.000000  \n",
      "mean          23.196728  \n",
      "std           12.079047  \n",
      "min            6.000000  \n",
      "25%           15.000000  \n",
      "50%           20.000000  \n",
      "75%           30.000000  \n",
      "max          118.000000  \n",
      "\n",
      "-------------------- Dataset Products Translation --------------------\n",
      "       product_category_name product_category_name_english\n",
      "count                     71                            71\n",
      "unique                    71                            71\n",
      "top             beleza_saude                 health_beauty\n",
      "freq                       1                             1\n",
      "\n",
      "-------------------- Dataset Sellers --------------------\n",
      "       seller_zip_code_prefix\n",
      "count             3095.000000\n",
      "mean             32291.059451\n",
      "std              32713.453830\n",
      "min               1001.000000\n",
      "25%               7093.500000\n",
      "50%              14940.000000\n",
      "75%              64552.500000\n",
      "max              99730.000000\n",
      "\n"
     ]
    }
   ],
   "source": [
    "numeric_columns_statistics(dfs)"
   ]
  },
  {
   "cell_type": "code",
   "execution_count": 35,
   "id": "5d1d8e9f-0dea-48ac-aae4-a2392e5f2651",
   "metadata": {},
   "outputs": [
    {
     "name": "stdout",
     "output_type": "stream",
     "text": [
      "-------------------- Dataset Customers --------------------\n"
     ]
    },
    {
     "data": {
      "text/html": [
       "<div>\n",
       "<style scoped>\n",
       "    .dataframe tbody tr th:only-of-type {\n",
       "        vertical-align: middle;\n",
       "    }\n",
       "\n",
       "    .dataframe tbody tr th {\n",
       "        vertical-align: top;\n",
       "    }\n",
       "\n",
       "    .dataframe thead th {\n",
       "        text-align: right;\n",
       "    }\n",
       "</style>\n",
       "<table border=\"1\" class=\"dataframe\">\n",
       "  <thead>\n",
       "    <tr style=\"text-align: right;\">\n",
       "      <th></th>\n",
       "      <th>customer_id</th>\n",
       "      <th>customer_unique_id</th>\n",
       "      <th>customer_zip_code_prefix</th>\n",
       "      <th>customer_city</th>\n",
       "      <th>customer_state</th>\n",
       "    </tr>\n",
       "  </thead>\n",
       "  <tbody>\n",
       "    <tr>\n",
       "      <th>0</th>\n",
       "      <td>06b8999e2fba1a1fbc88172c00ba8bc7</td>\n",
       "      <td>861eff4711a542e4b93843c6dd7febb0</td>\n",
       "      <td>14409</td>\n",
       "      <td>franca</td>\n",
       "      <td>SP</td>\n",
       "    </tr>\n",
       "    <tr>\n",
       "      <th>1</th>\n",
       "      <td>18955e83d337fd6b2def6b18a428ac77</td>\n",
       "      <td>290c77bc529b7ac935b93aa66c333dc3</td>\n",
       "      <td>9790</td>\n",
       "      <td>sao bernardo do campo</td>\n",
       "      <td>SP</td>\n",
       "    </tr>\n",
       "    <tr>\n",
       "      <th>2</th>\n",
       "      <td>4e7b3e00288586ebd08712fdd0374a03</td>\n",
       "      <td>060e732b5b29e8181a18229c7b0b2b5e</td>\n",
       "      <td>1151</td>\n",
       "      <td>sao paulo</td>\n",
       "      <td>SP</td>\n",
       "    </tr>\n",
       "    <tr>\n",
       "      <th>3</th>\n",
       "      <td>b2b6027bc5c5109e529d4dc6358b12c3</td>\n",
       "      <td>259dac757896d24d7702b9acbbff3f3c</td>\n",
       "      <td>8775</td>\n",
       "      <td>mogi das cruzes</td>\n",
       "      <td>SP</td>\n",
       "    </tr>\n",
       "    <tr>\n",
       "      <th>4</th>\n",
       "      <td>4f2d8ab171c80ec8364f7c12e35b23ad</td>\n",
       "      <td>345ecd01c38d18a9036ed96c73b8d066</td>\n",
       "      <td>13056</td>\n",
       "      <td>campinas</td>\n",
       "      <td>SP</td>\n",
       "    </tr>\n",
       "  </tbody>\n",
       "</table>\n",
       "</div>"
      ],
      "text/plain": [
       "                        customer_id                customer_unique_id  \\\n",
       "0  06b8999e2fba1a1fbc88172c00ba8bc7  861eff4711a542e4b93843c6dd7febb0   \n",
       "1  18955e83d337fd6b2def6b18a428ac77  290c77bc529b7ac935b93aa66c333dc3   \n",
       "2  4e7b3e00288586ebd08712fdd0374a03  060e732b5b29e8181a18229c7b0b2b5e   \n",
       "3  b2b6027bc5c5109e529d4dc6358b12c3  259dac757896d24d7702b9acbbff3f3c   \n",
       "4  4f2d8ab171c80ec8364f7c12e35b23ad  345ecd01c38d18a9036ed96c73b8d066   \n",
       "\n",
       "   customer_zip_code_prefix          customer_city customer_state  \n",
       "0                     14409                 franca             SP  \n",
       "1                      9790  sao bernardo do campo             SP  \n",
       "2                      1151              sao paulo             SP  \n",
       "3                      8775        mogi das cruzes             SP  \n",
       "4                     13056               campinas             SP  "
      ]
     },
     "metadata": {},
     "output_type": "display_data"
    },
    {
     "name": "stdout",
     "output_type": "stream",
     "text": [
      "\n",
      "-------------------- Dataset Location --------------------\n"
     ]
    },
    {
     "data": {
      "text/html": [
       "<div>\n",
       "<style scoped>\n",
       "    .dataframe tbody tr th:only-of-type {\n",
       "        vertical-align: middle;\n",
       "    }\n",
       "\n",
       "    .dataframe tbody tr th {\n",
       "        vertical-align: top;\n",
       "    }\n",
       "\n",
       "    .dataframe thead th {\n",
       "        text-align: right;\n",
       "    }\n",
       "</style>\n",
       "<table border=\"1\" class=\"dataframe\">\n",
       "  <thead>\n",
       "    <tr style=\"text-align: right;\">\n",
       "      <th></th>\n",
       "      <th>geolocation_zip_code_prefix</th>\n",
       "      <th>geolocation_lat</th>\n",
       "      <th>geolocation_lng</th>\n",
       "      <th>geolocation_city</th>\n",
       "      <th>geolocation_state</th>\n",
       "    </tr>\n",
       "  </thead>\n",
       "  <tbody>\n",
       "    <tr>\n",
       "      <th>0</th>\n",
       "      <td>1037</td>\n",
       "      <td>-23.545621</td>\n",
       "      <td>-46.639292</td>\n",
       "      <td>sao paulo</td>\n",
       "      <td>SP</td>\n",
       "    </tr>\n",
       "    <tr>\n",
       "      <th>1</th>\n",
       "      <td>1046</td>\n",
       "      <td>-23.546081</td>\n",
       "      <td>-46.644820</td>\n",
       "      <td>sao paulo</td>\n",
       "      <td>SP</td>\n",
       "    </tr>\n",
       "    <tr>\n",
       "      <th>2</th>\n",
       "      <td>1046</td>\n",
       "      <td>-23.546129</td>\n",
       "      <td>-46.642951</td>\n",
       "      <td>sao paulo</td>\n",
       "      <td>SP</td>\n",
       "    </tr>\n",
       "    <tr>\n",
       "      <th>3</th>\n",
       "      <td>1041</td>\n",
       "      <td>-23.544392</td>\n",
       "      <td>-46.639499</td>\n",
       "      <td>sao paulo</td>\n",
       "      <td>SP</td>\n",
       "    </tr>\n",
       "    <tr>\n",
       "      <th>4</th>\n",
       "      <td>1035</td>\n",
       "      <td>-23.541578</td>\n",
       "      <td>-46.641607</td>\n",
       "      <td>sao paulo</td>\n",
       "      <td>SP</td>\n",
       "    </tr>\n",
       "  </tbody>\n",
       "</table>\n",
       "</div>"
      ],
      "text/plain": [
       "   geolocation_zip_code_prefix  geolocation_lat  geolocation_lng  \\\n",
       "0                         1037       -23.545621       -46.639292   \n",
       "1                         1046       -23.546081       -46.644820   \n",
       "2                         1046       -23.546129       -46.642951   \n",
       "3                         1041       -23.544392       -46.639499   \n",
       "4                         1035       -23.541578       -46.641607   \n",
       "\n",
       "  geolocation_city geolocation_state  \n",
       "0        sao paulo                SP  \n",
       "1        sao paulo                SP  \n",
       "2        sao paulo                SP  \n",
       "3        sao paulo                SP  \n",
       "4        sao paulo                SP  "
      ]
     },
     "metadata": {},
     "output_type": "display_data"
    },
    {
     "name": "stdout",
     "output_type": "stream",
     "text": [
      "\n",
      "-------------------- Dataset Orders --------------------\n"
     ]
    },
    {
     "data": {
      "text/html": [
       "<div>\n",
       "<style scoped>\n",
       "    .dataframe tbody tr th:only-of-type {\n",
       "        vertical-align: middle;\n",
       "    }\n",
       "\n",
       "    .dataframe tbody tr th {\n",
       "        vertical-align: top;\n",
       "    }\n",
       "\n",
       "    .dataframe thead th {\n",
       "        text-align: right;\n",
       "    }\n",
       "</style>\n",
       "<table border=\"1\" class=\"dataframe\">\n",
       "  <thead>\n",
       "    <tr style=\"text-align: right;\">\n",
       "      <th></th>\n",
       "      <th>order_id</th>\n",
       "      <th>customer_id</th>\n",
       "      <th>order_status</th>\n",
       "      <th>order_purchase_timestamp</th>\n",
       "      <th>order_approved_at</th>\n",
       "      <th>order_delivered_carrier_date</th>\n",
       "      <th>order_delivered_customer_date</th>\n",
       "      <th>order_estimated_delivery_date</th>\n",
       "    </tr>\n",
       "  </thead>\n",
       "  <tbody>\n",
       "    <tr>\n",
       "      <th>0</th>\n",
       "      <td>e481f51cbdc54678b7cc49136f2d6af7</td>\n",
       "      <td>9ef432eb6251297304e76186b10a928d</td>\n",
       "      <td>delivered</td>\n",
       "      <td>2017-10-02 10:56:33</td>\n",
       "      <td>2017-10-02 11:07:15</td>\n",
       "      <td>2017-10-04 19:55:00</td>\n",
       "      <td>2017-10-10 21:25:13</td>\n",
       "      <td>2017-10-18 00:00:00</td>\n",
       "    </tr>\n",
       "    <tr>\n",
       "      <th>1</th>\n",
       "      <td>53cdb2fc8bc7dce0b6741e2150273451</td>\n",
       "      <td>b0830fb4747a6c6d20dea0b8c802d7ef</td>\n",
       "      <td>delivered</td>\n",
       "      <td>2018-07-24 20:41:37</td>\n",
       "      <td>2018-07-26 03:24:27</td>\n",
       "      <td>2018-07-26 14:31:00</td>\n",
       "      <td>2018-08-07 15:27:45</td>\n",
       "      <td>2018-08-13 00:00:00</td>\n",
       "    </tr>\n",
       "    <tr>\n",
       "      <th>2</th>\n",
       "      <td>47770eb9100c2d0c44946d9cf07ec65d</td>\n",
       "      <td>41ce2a54c0b03bf3443c3d931a367089</td>\n",
       "      <td>delivered</td>\n",
       "      <td>2018-08-08 08:38:49</td>\n",
       "      <td>2018-08-08 08:55:23</td>\n",
       "      <td>2018-08-08 13:50:00</td>\n",
       "      <td>2018-08-17 18:06:29</td>\n",
       "      <td>2018-09-04 00:00:00</td>\n",
       "    </tr>\n",
       "    <tr>\n",
       "      <th>3</th>\n",
       "      <td>949d5b44dbf5de918fe9c16f97b45f8a</td>\n",
       "      <td>f88197465ea7920adcdbec7375364d82</td>\n",
       "      <td>delivered</td>\n",
       "      <td>2017-11-18 19:28:06</td>\n",
       "      <td>2017-11-18 19:45:59</td>\n",
       "      <td>2017-11-22 13:39:59</td>\n",
       "      <td>2017-12-02 00:28:42</td>\n",
       "      <td>2017-12-15 00:00:00</td>\n",
       "    </tr>\n",
       "    <tr>\n",
       "      <th>4</th>\n",
       "      <td>ad21c59c0840e6cb83a9ceb5573f8159</td>\n",
       "      <td>8ab97904e6daea8866dbdbc4fb7aad2c</td>\n",
       "      <td>delivered</td>\n",
       "      <td>2018-02-13 21:18:39</td>\n",
       "      <td>2018-02-13 22:20:29</td>\n",
       "      <td>2018-02-14 19:46:34</td>\n",
       "      <td>2018-02-16 18:17:02</td>\n",
       "      <td>2018-02-26 00:00:00</td>\n",
       "    </tr>\n",
       "  </tbody>\n",
       "</table>\n",
       "</div>"
      ],
      "text/plain": [
       "                           order_id                       customer_id  \\\n",
       "0  e481f51cbdc54678b7cc49136f2d6af7  9ef432eb6251297304e76186b10a928d   \n",
       "1  53cdb2fc8bc7dce0b6741e2150273451  b0830fb4747a6c6d20dea0b8c802d7ef   \n",
       "2  47770eb9100c2d0c44946d9cf07ec65d  41ce2a54c0b03bf3443c3d931a367089   \n",
       "3  949d5b44dbf5de918fe9c16f97b45f8a  f88197465ea7920adcdbec7375364d82   \n",
       "4  ad21c59c0840e6cb83a9ceb5573f8159  8ab97904e6daea8866dbdbc4fb7aad2c   \n",
       "\n",
       "  order_status order_purchase_timestamp    order_approved_at  \\\n",
       "0    delivered      2017-10-02 10:56:33  2017-10-02 11:07:15   \n",
       "1    delivered      2018-07-24 20:41:37  2018-07-26 03:24:27   \n",
       "2    delivered      2018-08-08 08:38:49  2018-08-08 08:55:23   \n",
       "3    delivered      2017-11-18 19:28:06  2017-11-18 19:45:59   \n",
       "4    delivered      2018-02-13 21:18:39  2018-02-13 22:20:29   \n",
       "\n",
       "  order_delivered_carrier_date order_delivered_customer_date  \\\n",
       "0          2017-10-04 19:55:00           2017-10-10 21:25:13   \n",
       "1          2018-07-26 14:31:00           2018-08-07 15:27:45   \n",
       "2          2018-08-08 13:50:00           2018-08-17 18:06:29   \n",
       "3          2017-11-22 13:39:59           2017-12-02 00:28:42   \n",
       "4          2018-02-14 19:46:34           2018-02-16 18:17:02   \n",
       "\n",
       "  order_estimated_delivery_date  \n",
       "0           2017-10-18 00:00:00  \n",
       "1           2018-08-13 00:00:00  \n",
       "2           2018-09-04 00:00:00  \n",
       "3           2017-12-15 00:00:00  \n",
       "4           2018-02-26 00:00:00  "
      ]
     },
     "metadata": {},
     "output_type": "display_data"
    },
    {
     "name": "stdout",
     "output_type": "stream",
     "text": [
      "\n",
      "-------------------- Dataset Order Payments --------------------\n"
     ]
    },
    {
     "data": {
      "text/html": [
       "<div>\n",
       "<style scoped>\n",
       "    .dataframe tbody tr th:only-of-type {\n",
       "        vertical-align: middle;\n",
       "    }\n",
       "\n",
       "    .dataframe tbody tr th {\n",
       "        vertical-align: top;\n",
       "    }\n",
       "\n",
       "    .dataframe thead th {\n",
       "        text-align: right;\n",
       "    }\n",
       "</style>\n",
       "<table border=\"1\" class=\"dataframe\">\n",
       "  <thead>\n",
       "    <tr style=\"text-align: right;\">\n",
       "      <th></th>\n",
       "      <th>order_id</th>\n",
       "      <th>payment_sequential</th>\n",
       "      <th>payment_type</th>\n",
       "      <th>payment_installments</th>\n",
       "      <th>payment_value</th>\n",
       "    </tr>\n",
       "  </thead>\n",
       "  <tbody>\n",
       "    <tr>\n",
       "      <th>0</th>\n",
       "      <td>b81ef226f3fe1789b1e8b2acac839d17</td>\n",
       "      <td>1</td>\n",
       "      <td>credit_card</td>\n",
       "      <td>8</td>\n",
       "      <td>99.33</td>\n",
       "    </tr>\n",
       "    <tr>\n",
       "      <th>1</th>\n",
       "      <td>a9810da82917af2d9aefd1278f1dcfa0</td>\n",
       "      <td>1</td>\n",
       "      <td>credit_card</td>\n",
       "      <td>1</td>\n",
       "      <td>24.39</td>\n",
       "    </tr>\n",
       "    <tr>\n",
       "      <th>2</th>\n",
       "      <td>25e8ea4e93396b6fa0d3dd708e76c1bd</td>\n",
       "      <td>1</td>\n",
       "      <td>credit_card</td>\n",
       "      <td>1</td>\n",
       "      <td>65.71</td>\n",
       "    </tr>\n",
       "    <tr>\n",
       "      <th>3</th>\n",
       "      <td>ba78997921bbcdc1373bb41e913ab953</td>\n",
       "      <td>1</td>\n",
       "      <td>credit_card</td>\n",
       "      <td>8</td>\n",
       "      <td>107.78</td>\n",
       "    </tr>\n",
       "    <tr>\n",
       "      <th>4</th>\n",
       "      <td>42fdf880ba16b47b59251dd489d4441a</td>\n",
       "      <td>1</td>\n",
       "      <td>credit_card</td>\n",
       "      <td>2</td>\n",
       "      <td>128.45</td>\n",
       "    </tr>\n",
       "  </tbody>\n",
       "</table>\n",
       "</div>"
      ],
      "text/plain": [
       "                           order_id  payment_sequential payment_type  \\\n",
       "0  b81ef226f3fe1789b1e8b2acac839d17                   1  credit_card   \n",
       "1  a9810da82917af2d9aefd1278f1dcfa0                   1  credit_card   \n",
       "2  25e8ea4e93396b6fa0d3dd708e76c1bd                   1  credit_card   \n",
       "3  ba78997921bbcdc1373bb41e913ab953                   1  credit_card   \n",
       "4  42fdf880ba16b47b59251dd489d4441a                   1  credit_card   \n",
       "\n",
       "   payment_installments  payment_value  \n",
       "0                     8          99.33  \n",
       "1                     1          24.39  \n",
       "2                     1          65.71  \n",
       "3                     8         107.78  \n",
       "4                     2         128.45  "
      ]
     },
     "metadata": {},
     "output_type": "display_data"
    },
    {
     "name": "stdout",
     "output_type": "stream",
     "text": [
      "\n",
      "-------------------- Dataset Order Reviews --------------------\n"
     ]
    },
    {
     "data": {
      "text/html": [
       "<div>\n",
       "<style scoped>\n",
       "    .dataframe tbody tr th:only-of-type {\n",
       "        vertical-align: middle;\n",
       "    }\n",
       "\n",
       "    .dataframe tbody tr th {\n",
       "        vertical-align: top;\n",
       "    }\n",
       "\n",
       "    .dataframe thead th {\n",
       "        text-align: right;\n",
       "    }\n",
       "</style>\n",
       "<table border=\"1\" class=\"dataframe\">\n",
       "  <thead>\n",
       "    <tr style=\"text-align: right;\">\n",
       "      <th></th>\n",
       "      <th>review_id</th>\n",
       "      <th>order_id</th>\n",
       "      <th>review_score</th>\n",
       "      <th>review_comment_title</th>\n",
       "      <th>review_comment_message</th>\n",
       "      <th>review_creation_date</th>\n",
       "      <th>review_answer_timestamp</th>\n",
       "    </tr>\n",
       "  </thead>\n",
       "  <tbody>\n",
       "    <tr>\n",
       "      <th>0</th>\n",
       "      <td>7bc2406110b926393aa56f80a40eba40</td>\n",
       "      <td>73fc7af87114b39712e6da79b0a377eb</td>\n",
       "      <td>4</td>\n",
       "      <td>NaN</td>\n",
       "      <td>NaN</td>\n",
       "      <td>2018-01-18 00:00:00</td>\n",
       "      <td>2018-01-18 21:46:59</td>\n",
       "    </tr>\n",
       "    <tr>\n",
       "      <th>1</th>\n",
       "      <td>80e641a11e56f04c1ad469d5645fdfde</td>\n",
       "      <td>a548910a1c6147796b98fdf73dbeba33</td>\n",
       "      <td>5</td>\n",
       "      <td>NaN</td>\n",
       "      <td>NaN</td>\n",
       "      <td>2018-03-10 00:00:00</td>\n",
       "      <td>2018-03-11 03:05:13</td>\n",
       "    </tr>\n",
       "    <tr>\n",
       "      <th>2</th>\n",
       "      <td>228ce5500dc1d8e020d8d1322874b6f0</td>\n",
       "      <td>f9e4b658b201a9f2ecdecbb34bed034b</td>\n",
       "      <td>5</td>\n",
       "      <td>NaN</td>\n",
       "      <td>NaN</td>\n",
       "      <td>2018-02-17 00:00:00</td>\n",
       "      <td>2018-02-18 14:36:24</td>\n",
       "    </tr>\n",
       "    <tr>\n",
       "      <th>3</th>\n",
       "      <td>e64fb393e7b32834bb789ff8bb30750e</td>\n",
       "      <td>658677c97b385a9be170737859d3511b</td>\n",
       "      <td>5</td>\n",
       "      <td>NaN</td>\n",
       "      <td>Recebi bem antes do prazo estipulado.</td>\n",
       "      <td>2017-04-21 00:00:00</td>\n",
       "      <td>2017-04-21 22:02:06</td>\n",
       "    </tr>\n",
       "    <tr>\n",
       "      <th>4</th>\n",
       "      <td>f7c4243c7fe1938f181bec41a392bdeb</td>\n",
       "      <td>8e6bfb81e283fa7e4f11123a3fb894f1</td>\n",
       "      <td>5</td>\n",
       "      <td>NaN</td>\n",
       "      <td>Parabéns lojas lannister adorei comprar pela I...</td>\n",
       "      <td>2018-03-01 00:00:00</td>\n",
       "      <td>2018-03-02 10:26:53</td>\n",
       "    </tr>\n",
       "  </tbody>\n",
       "</table>\n",
       "</div>"
      ],
      "text/plain": [
       "                          review_id                          order_id  \\\n",
       "0  7bc2406110b926393aa56f80a40eba40  73fc7af87114b39712e6da79b0a377eb   \n",
       "1  80e641a11e56f04c1ad469d5645fdfde  a548910a1c6147796b98fdf73dbeba33   \n",
       "2  228ce5500dc1d8e020d8d1322874b6f0  f9e4b658b201a9f2ecdecbb34bed034b   \n",
       "3  e64fb393e7b32834bb789ff8bb30750e  658677c97b385a9be170737859d3511b   \n",
       "4  f7c4243c7fe1938f181bec41a392bdeb  8e6bfb81e283fa7e4f11123a3fb894f1   \n",
       "\n",
       "   review_score review_comment_title  \\\n",
       "0             4                  NaN   \n",
       "1             5                  NaN   \n",
       "2             5                  NaN   \n",
       "3             5                  NaN   \n",
       "4             5                  NaN   \n",
       "\n",
       "                              review_comment_message review_creation_date  \\\n",
       "0                                                NaN  2018-01-18 00:00:00   \n",
       "1                                                NaN  2018-03-10 00:00:00   \n",
       "2                                                NaN  2018-02-17 00:00:00   \n",
       "3              Recebi bem antes do prazo estipulado.  2017-04-21 00:00:00   \n",
       "4  Parabéns lojas lannister adorei comprar pela I...  2018-03-01 00:00:00   \n",
       "\n",
       "  review_answer_timestamp  \n",
       "0     2018-01-18 21:46:59  \n",
       "1     2018-03-11 03:05:13  \n",
       "2     2018-02-18 14:36:24  \n",
       "3     2017-04-21 22:02:06  \n",
       "4     2018-03-02 10:26:53  "
      ]
     },
     "metadata": {},
     "output_type": "display_data"
    },
    {
     "name": "stdout",
     "output_type": "stream",
     "text": [
      "\n",
      "-------------------- Dataset Products --------------------\n"
     ]
    },
    {
     "data": {
      "text/html": [
       "<div>\n",
       "<style scoped>\n",
       "    .dataframe tbody tr th:only-of-type {\n",
       "        vertical-align: middle;\n",
       "    }\n",
       "\n",
       "    .dataframe tbody tr th {\n",
       "        vertical-align: top;\n",
       "    }\n",
       "\n",
       "    .dataframe thead th {\n",
       "        text-align: right;\n",
       "    }\n",
       "</style>\n",
       "<table border=\"1\" class=\"dataframe\">\n",
       "  <thead>\n",
       "    <tr style=\"text-align: right;\">\n",
       "      <th></th>\n",
       "      <th>product_id</th>\n",
       "      <th>product_category_name</th>\n",
       "      <th>product_name_lenght</th>\n",
       "      <th>product_description_lenght</th>\n",
       "      <th>product_photos_qty</th>\n",
       "      <th>product_weight_g</th>\n",
       "      <th>product_length_cm</th>\n",
       "      <th>product_height_cm</th>\n",
       "      <th>product_width_cm</th>\n",
       "    </tr>\n",
       "  </thead>\n",
       "  <tbody>\n",
       "    <tr>\n",
       "      <th>0</th>\n",
       "      <td>1e9e8ef04dbcff4541ed26657ea517e5</td>\n",
       "      <td>perfumaria</td>\n",
       "      <td>40.0</td>\n",
       "      <td>287.0</td>\n",
       "      <td>1.0</td>\n",
       "      <td>225.0</td>\n",
       "      <td>16.0</td>\n",
       "      <td>10.0</td>\n",
       "      <td>14.0</td>\n",
       "    </tr>\n",
       "    <tr>\n",
       "      <th>1</th>\n",
       "      <td>3aa071139cb16b67ca9e5dea641aaa2f</td>\n",
       "      <td>artes</td>\n",
       "      <td>44.0</td>\n",
       "      <td>276.0</td>\n",
       "      <td>1.0</td>\n",
       "      <td>1000.0</td>\n",
       "      <td>30.0</td>\n",
       "      <td>18.0</td>\n",
       "      <td>20.0</td>\n",
       "    </tr>\n",
       "    <tr>\n",
       "      <th>2</th>\n",
       "      <td>96bd76ec8810374ed1b65e291975717f</td>\n",
       "      <td>esporte_lazer</td>\n",
       "      <td>46.0</td>\n",
       "      <td>250.0</td>\n",
       "      <td>1.0</td>\n",
       "      <td>154.0</td>\n",
       "      <td>18.0</td>\n",
       "      <td>9.0</td>\n",
       "      <td>15.0</td>\n",
       "    </tr>\n",
       "    <tr>\n",
       "      <th>3</th>\n",
       "      <td>cef67bcfe19066a932b7673e239eb23d</td>\n",
       "      <td>bebes</td>\n",
       "      <td>27.0</td>\n",
       "      <td>261.0</td>\n",
       "      <td>1.0</td>\n",
       "      <td>371.0</td>\n",
       "      <td>26.0</td>\n",
       "      <td>4.0</td>\n",
       "      <td>26.0</td>\n",
       "    </tr>\n",
       "    <tr>\n",
       "      <th>4</th>\n",
       "      <td>9dc1a7de274444849c219cff195d0b71</td>\n",
       "      <td>utilidades_domesticas</td>\n",
       "      <td>37.0</td>\n",
       "      <td>402.0</td>\n",
       "      <td>4.0</td>\n",
       "      <td>625.0</td>\n",
       "      <td>20.0</td>\n",
       "      <td>17.0</td>\n",
       "      <td>13.0</td>\n",
       "    </tr>\n",
       "  </tbody>\n",
       "</table>\n",
       "</div>"
      ],
      "text/plain": [
       "                         product_id  product_category_name  \\\n",
       "0  1e9e8ef04dbcff4541ed26657ea517e5             perfumaria   \n",
       "1  3aa071139cb16b67ca9e5dea641aaa2f                  artes   \n",
       "2  96bd76ec8810374ed1b65e291975717f          esporte_lazer   \n",
       "3  cef67bcfe19066a932b7673e239eb23d                  bebes   \n",
       "4  9dc1a7de274444849c219cff195d0b71  utilidades_domesticas   \n",
       "\n",
       "   product_name_lenght  product_description_lenght  product_photos_qty  \\\n",
       "0                 40.0                       287.0                 1.0   \n",
       "1                 44.0                       276.0                 1.0   \n",
       "2                 46.0                       250.0                 1.0   \n",
       "3                 27.0                       261.0                 1.0   \n",
       "4                 37.0                       402.0                 4.0   \n",
       "\n",
       "   product_weight_g  product_length_cm  product_height_cm  product_width_cm  \n",
       "0             225.0               16.0               10.0              14.0  \n",
       "1            1000.0               30.0               18.0              20.0  \n",
       "2             154.0               18.0                9.0              15.0  \n",
       "3             371.0               26.0                4.0              26.0  \n",
       "4             625.0               20.0               17.0              13.0  "
      ]
     },
     "metadata": {},
     "output_type": "display_data"
    },
    {
     "name": "stdout",
     "output_type": "stream",
     "text": [
      "\n",
      "-------------------- Dataset Products Translation --------------------\n"
     ]
    },
    {
     "data": {
      "text/html": [
       "<div>\n",
       "<style scoped>\n",
       "    .dataframe tbody tr th:only-of-type {\n",
       "        vertical-align: middle;\n",
       "    }\n",
       "\n",
       "    .dataframe tbody tr th {\n",
       "        vertical-align: top;\n",
       "    }\n",
       "\n",
       "    .dataframe thead th {\n",
       "        text-align: right;\n",
       "    }\n",
       "</style>\n",
       "<table border=\"1\" class=\"dataframe\">\n",
       "  <thead>\n",
       "    <tr style=\"text-align: right;\">\n",
       "      <th></th>\n",
       "      <th>product_category_name</th>\n",
       "      <th>product_category_name_english</th>\n",
       "    </tr>\n",
       "  </thead>\n",
       "  <tbody>\n",
       "    <tr>\n",
       "      <th>0</th>\n",
       "      <td>beleza_saude</td>\n",
       "      <td>health_beauty</td>\n",
       "    </tr>\n",
       "    <tr>\n",
       "      <th>1</th>\n",
       "      <td>informatica_acessorios</td>\n",
       "      <td>computers_accessories</td>\n",
       "    </tr>\n",
       "    <tr>\n",
       "      <th>2</th>\n",
       "      <td>automotivo</td>\n",
       "      <td>auto</td>\n",
       "    </tr>\n",
       "    <tr>\n",
       "      <th>3</th>\n",
       "      <td>cama_mesa_banho</td>\n",
       "      <td>bed_bath_table</td>\n",
       "    </tr>\n",
       "    <tr>\n",
       "      <th>4</th>\n",
       "      <td>moveis_decoracao</td>\n",
       "      <td>furniture_decor</td>\n",
       "    </tr>\n",
       "  </tbody>\n",
       "</table>\n",
       "</div>"
      ],
      "text/plain": [
       "    product_category_name product_category_name_english\n",
       "0            beleza_saude                 health_beauty\n",
       "1  informatica_acessorios         computers_accessories\n",
       "2              automotivo                          auto\n",
       "3         cama_mesa_banho                bed_bath_table\n",
       "4        moveis_decoracao               furniture_decor"
      ]
     },
     "metadata": {},
     "output_type": "display_data"
    },
    {
     "name": "stdout",
     "output_type": "stream",
     "text": [
      "\n",
      "-------------------- Dataset Sellers --------------------\n"
     ]
    },
    {
     "data": {
      "text/html": [
       "<div>\n",
       "<style scoped>\n",
       "    .dataframe tbody tr th:only-of-type {\n",
       "        vertical-align: middle;\n",
       "    }\n",
       "\n",
       "    .dataframe tbody tr th {\n",
       "        vertical-align: top;\n",
       "    }\n",
       "\n",
       "    .dataframe thead th {\n",
       "        text-align: right;\n",
       "    }\n",
       "</style>\n",
       "<table border=\"1\" class=\"dataframe\">\n",
       "  <thead>\n",
       "    <tr style=\"text-align: right;\">\n",
       "      <th></th>\n",
       "      <th>seller_id</th>\n",
       "      <th>seller_zip_code_prefix</th>\n",
       "      <th>seller_city</th>\n",
       "      <th>seller_state</th>\n",
       "    </tr>\n",
       "  </thead>\n",
       "  <tbody>\n",
       "    <tr>\n",
       "      <th>0</th>\n",
       "      <td>3442f8959a84dea7ee197c632cb2df15</td>\n",
       "      <td>13023</td>\n",
       "      <td>campinas</td>\n",
       "      <td>SP</td>\n",
       "    </tr>\n",
       "    <tr>\n",
       "      <th>1</th>\n",
       "      <td>d1b65fc7debc3361ea86b5f14c68d2e2</td>\n",
       "      <td>13844</td>\n",
       "      <td>mogi guacu</td>\n",
       "      <td>SP</td>\n",
       "    </tr>\n",
       "    <tr>\n",
       "      <th>2</th>\n",
       "      <td>ce3ad9de960102d0677a81f5d0bb7b2d</td>\n",
       "      <td>20031</td>\n",
       "      <td>rio de janeiro</td>\n",
       "      <td>RJ</td>\n",
       "    </tr>\n",
       "    <tr>\n",
       "      <th>3</th>\n",
       "      <td>c0f3eea2e14555b6faeea3dd58c1b1c3</td>\n",
       "      <td>4195</td>\n",
       "      <td>sao paulo</td>\n",
       "      <td>SP</td>\n",
       "    </tr>\n",
       "    <tr>\n",
       "      <th>4</th>\n",
       "      <td>51a04a8a6bdcb23deccc82b0b80742cf</td>\n",
       "      <td>12914</td>\n",
       "      <td>braganca paulista</td>\n",
       "      <td>SP</td>\n",
       "    </tr>\n",
       "  </tbody>\n",
       "</table>\n",
       "</div>"
      ],
      "text/plain": [
       "                          seller_id  seller_zip_code_prefix  \\\n",
       "0  3442f8959a84dea7ee197c632cb2df15                   13023   \n",
       "1  d1b65fc7debc3361ea86b5f14c68d2e2                   13844   \n",
       "2  ce3ad9de960102d0677a81f5d0bb7b2d                   20031   \n",
       "3  c0f3eea2e14555b6faeea3dd58c1b1c3                    4195   \n",
       "4  51a04a8a6bdcb23deccc82b0b80742cf                   12914   \n",
       "\n",
       "         seller_city seller_state  \n",
       "0           campinas           SP  \n",
       "1         mogi guacu           SP  \n",
       "2     rio de janeiro           RJ  \n",
       "3          sao paulo           SP  \n",
       "4  braganca paulista           SP  "
      ]
     },
     "metadata": {},
     "output_type": "display_data"
    },
    {
     "name": "stdout",
     "output_type": "stream",
     "text": [
      "\n"
     ]
    }
   ],
   "source": [
    "head_of_dfs(dfs)"
   ]
  },
  {
   "cell_type": "markdown",
   "id": "1c7e6ca4-13ce-4b49-b184-f1909cf8155d",
   "metadata": {},
   "source": [
    "# Cleaning datasets"
   ]
  },
  {
   "cell_type": "markdown",
   "id": "630ef2c4-d992-4b94-ba73-4ea4b13a9aa4",
   "metadata": {},
   "source": [
    "## Head of dfs (first 5 rows)"
   ]
  },
  {
   "cell_type": "code",
   "execution_count": 36,
   "id": "deb669b7-fb50-4627-92e3-24f76a14694d",
   "metadata": {},
   "outputs": [
    {
     "name": "stdout",
     "output_type": "stream",
     "text": [
      "-------------------- Dataset Customers --------------------\n"
     ]
    },
    {
     "data": {
      "text/html": [
       "<div>\n",
       "<style scoped>\n",
       "    .dataframe tbody tr th:only-of-type {\n",
       "        vertical-align: middle;\n",
       "    }\n",
       "\n",
       "    .dataframe tbody tr th {\n",
       "        vertical-align: top;\n",
       "    }\n",
       "\n",
       "    .dataframe thead th {\n",
       "        text-align: right;\n",
       "    }\n",
       "</style>\n",
       "<table border=\"1\" class=\"dataframe\">\n",
       "  <thead>\n",
       "    <tr style=\"text-align: right;\">\n",
       "      <th></th>\n",
       "      <th>customer_id</th>\n",
       "      <th>customer_unique_id</th>\n",
       "      <th>customer_zip_code_prefix</th>\n",
       "      <th>customer_city</th>\n",
       "      <th>customer_state</th>\n",
       "    </tr>\n",
       "  </thead>\n",
       "  <tbody>\n",
       "    <tr>\n",
       "      <th>0</th>\n",
       "      <td>06b8999e2fba1a1fbc88172c00ba8bc7</td>\n",
       "      <td>861eff4711a542e4b93843c6dd7febb0</td>\n",
       "      <td>14409</td>\n",
       "      <td>franca</td>\n",
       "      <td>SP</td>\n",
       "    </tr>\n",
       "    <tr>\n",
       "      <th>1</th>\n",
       "      <td>18955e83d337fd6b2def6b18a428ac77</td>\n",
       "      <td>290c77bc529b7ac935b93aa66c333dc3</td>\n",
       "      <td>9790</td>\n",
       "      <td>sao bernardo do campo</td>\n",
       "      <td>SP</td>\n",
       "    </tr>\n",
       "    <tr>\n",
       "      <th>2</th>\n",
       "      <td>4e7b3e00288586ebd08712fdd0374a03</td>\n",
       "      <td>060e732b5b29e8181a18229c7b0b2b5e</td>\n",
       "      <td>1151</td>\n",
       "      <td>sao paulo</td>\n",
       "      <td>SP</td>\n",
       "    </tr>\n",
       "    <tr>\n",
       "      <th>3</th>\n",
       "      <td>b2b6027bc5c5109e529d4dc6358b12c3</td>\n",
       "      <td>259dac757896d24d7702b9acbbff3f3c</td>\n",
       "      <td>8775</td>\n",
       "      <td>mogi das cruzes</td>\n",
       "      <td>SP</td>\n",
       "    </tr>\n",
       "    <tr>\n",
       "      <th>4</th>\n",
       "      <td>4f2d8ab171c80ec8364f7c12e35b23ad</td>\n",
       "      <td>345ecd01c38d18a9036ed96c73b8d066</td>\n",
       "      <td>13056</td>\n",
       "      <td>campinas</td>\n",
       "      <td>SP</td>\n",
       "    </tr>\n",
       "  </tbody>\n",
       "</table>\n",
       "</div>"
      ],
      "text/plain": [
       "                        customer_id                customer_unique_id  \\\n",
       "0  06b8999e2fba1a1fbc88172c00ba8bc7  861eff4711a542e4b93843c6dd7febb0   \n",
       "1  18955e83d337fd6b2def6b18a428ac77  290c77bc529b7ac935b93aa66c333dc3   \n",
       "2  4e7b3e00288586ebd08712fdd0374a03  060e732b5b29e8181a18229c7b0b2b5e   \n",
       "3  b2b6027bc5c5109e529d4dc6358b12c3  259dac757896d24d7702b9acbbff3f3c   \n",
       "4  4f2d8ab171c80ec8364f7c12e35b23ad  345ecd01c38d18a9036ed96c73b8d066   \n",
       "\n",
       "   customer_zip_code_prefix          customer_city customer_state  \n",
       "0                     14409                 franca             SP  \n",
       "1                      9790  sao bernardo do campo             SP  \n",
       "2                      1151              sao paulo             SP  \n",
       "3                      8775        mogi das cruzes             SP  \n",
       "4                     13056               campinas             SP  "
      ]
     },
     "metadata": {},
     "output_type": "display_data"
    },
    {
     "name": "stdout",
     "output_type": "stream",
     "text": [
      "\n",
      "-------------------- Dataset Location --------------------\n"
     ]
    },
    {
     "data": {
      "text/html": [
       "<div>\n",
       "<style scoped>\n",
       "    .dataframe tbody tr th:only-of-type {\n",
       "        vertical-align: middle;\n",
       "    }\n",
       "\n",
       "    .dataframe tbody tr th {\n",
       "        vertical-align: top;\n",
       "    }\n",
       "\n",
       "    .dataframe thead th {\n",
       "        text-align: right;\n",
       "    }\n",
       "</style>\n",
       "<table border=\"1\" class=\"dataframe\">\n",
       "  <thead>\n",
       "    <tr style=\"text-align: right;\">\n",
       "      <th></th>\n",
       "      <th>geolocation_zip_code_prefix</th>\n",
       "      <th>geolocation_lat</th>\n",
       "      <th>geolocation_lng</th>\n",
       "      <th>geolocation_city</th>\n",
       "      <th>geolocation_state</th>\n",
       "    </tr>\n",
       "  </thead>\n",
       "  <tbody>\n",
       "    <tr>\n",
       "      <th>0</th>\n",
       "      <td>1037</td>\n",
       "      <td>-23.545621</td>\n",
       "      <td>-46.639292</td>\n",
       "      <td>sao paulo</td>\n",
       "      <td>SP</td>\n",
       "    </tr>\n",
       "    <tr>\n",
       "      <th>1</th>\n",
       "      <td>1046</td>\n",
       "      <td>-23.546081</td>\n",
       "      <td>-46.644820</td>\n",
       "      <td>sao paulo</td>\n",
       "      <td>SP</td>\n",
       "    </tr>\n",
       "    <tr>\n",
       "      <th>2</th>\n",
       "      <td>1046</td>\n",
       "      <td>-23.546129</td>\n",
       "      <td>-46.642951</td>\n",
       "      <td>sao paulo</td>\n",
       "      <td>SP</td>\n",
       "    </tr>\n",
       "    <tr>\n",
       "      <th>3</th>\n",
       "      <td>1041</td>\n",
       "      <td>-23.544392</td>\n",
       "      <td>-46.639499</td>\n",
       "      <td>sao paulo</td>\n",
       "      <td>SP</td>\n",
       "    </tr>\n",
       "    <tr>\n",
       "      <th>4</th>\n",
       "      <td>1035</td>\n",
       "      <td>-23.541578</td>\n",
       "      <td>-46.641607</td>\n",
       "      <td>sao paulo</td>\n",
       "      <td>SP</td>\n",
       "    </tr>\n",
       "  </tbody>\n",
       "</table>\n",
       "</div>"
      ],
      "text/plain": [
       "   geolocation_zip_code_prefix  geolocation_lat  geolocation_lng  \\\n",
       "0                         1037       -23.545621       -46.639292   \n",
       "1                         1046       -23.546081       -46.644820   \n",
       "2                         1046       -23.546129       -46.642951   \n",
       "3                         1041       -23.544392       -46.639499   \n",
       "4                         1035       -23.541578       -46.641607   \n",
       "\n",
       "  geolocation_city geolocation_state  \n",
       "0        sao paulo                SP  \n",
       "1        sao paulo                SP  \n",
       "2        sao paulo                SP  \n",
       "3        sao paulo                SP  \n",
       "4        sao paulo                SP  "
      ]
     },
     "metadata": {},
     "output_type": "display_data"
    },
    {
     "name": "stdout",
     "output_type": "stream",
     "text": [
      "\n",
      "-------------------- Dataset Orders --------------------\n"
     ]
    },
    {
     "data": {
      "text/html": [
       "<div>\n",
       "<style scoped>\n",
       "    .dataframe tbody tr th:only-of-type {\n",
       "        vertical-align: middle;\n",
       "    }\n",
       "\n",
       "    .dataframe tbody tr th {\n",
       "        vertical-align: top;\n",
       "    }\n",
       "\n",
       "    .dataframe thead th {\n",
       "        text-align: right;\n",
       "    }\n",
       "</style>\n",
       "<table border=\"1\" class=\"dataframe\">\n",
       "  <thead>\n",
       "    <tr style=\"text-align: right;\">\n",
       "      <th></th>\n",
       "      <th>order_id</th>\n",
       "      <th>customer_id</th>\n",
       "      <th>order_status</th>\n",
       "      <th>order_purchase_timestamp</th>\n",
       "      <th>order_approved_at</th>\n",
       "      <th>order_delivered_carrier_date</th>\n",
       "      <th>order_delivered_customer_date</th>\n",
       "      <th>order_estimated_delivery_date</th>\n",
       "    </tr>\n",
       "  </thead>\n",
       "  <tbody>\n",
       "    <tr>\n",
       "      <th>0</th>\n",
       "      <td>e481f51cbdc54678b7cc49136f2d6af7</td>\n",
       "      <td>9ef432eb6251297304e76186b10a928d</td>\n",
       "      <td>delivered</td>\n",
       "      <td>2017-10-02 10:56:33</td>\n",
       "      <td>2017-10-02 11:07:15</td>\n",
       "      <td>2017-10-04 19:55:00</td>\n",
       "      <td>2017-10-10 21:25:13</td>\n",
       "      <td>2017-10-18 00:00:00</td>\n",
       "    </tr>\n",
       "    <tr>\n",
       "      <th>1</th>\n",
       "      <td>53cdb2fc8bc7dce0b6741e2150273451</td>\n",
       "      <td>b0830fb4747a6c6d20dea0b8c802d7ef</td>\n",
       "      <td>delivered</td>\n",
       "      <td>2018-07-24 20:41:37</td>\n",
       "      <td>2018-07-26 03:24:27</td>\n",
       "      <td>2018-07-26 14:31:00</td>\n",
       "      <td>2018-08-07 15:27:45</td>\n",
       "      <td>2018-08-13 00:00:00</td>\n",
       "    </tr>\n",
       "    <tr>\n",
       "      <th>2</th>\n",
       "      <td>47770eb9100c2d0c44946d9cf07ec65d</td>\n",
       "      <td>41ce2a54c0b03bf3443c3d931a367089</td>\n",
       "      <td>delivered</td>\n",
       "      <td>2018-08-08 08:38:49</td>\n",
       "      <td>2018-08-08 08:55:23</td>\n",
       "      <td>2018-08-08 13:50:00</td>\n",
       "      <td>2018-08-17 18:06:29</td>\n",
       "      <td>2018-09-04 00:00:00</td>\n",
       "    </tr>\n",
       "    <tr>\n",
       "      <th>3</th>\n",
       "      <td>949d5b44dbf5de918fe9c16f97b45f8a</td>\n",
       "      <td>f88197465ea7920adcdbec7375364d82</td>\n",
       "      <td>delivered</td>\n",
       "      <td>2017-11-18 19:28:06</td>\n",
       "      <td>2017-11-18 19:45:59</td>\n",
       "      <td>2017-11-22 13:39:59</td>\n",
       "      <td>2017-12-02 00:28:42</td>\n",
       "      <td>2017-12-15 00:00:00</td>\n",
       "    </tr>\n",
       "    <tr>\n",
       "      <th>4</th>\n",
       "      <td>ad21c59c0840e6cb83a9ceb5573f8159</td>\n",
       "      <td>8ab97904e6daea8866dbdbc4fb7aad2c</td>\n",
       "      <td>delivered</td>\n",
       "      <td>2018-02-13 21:18:39</td>\n",
       "      <td>2018-02-13 22:20:29</td>\n",
       "      <td>2018-02-14 19:46:34</td>\n",
       "      <td>2018-02-16 18:17:02</td>\n",
       "      <td>2018-02-26 00:00:00</td>\n",
       "    </tr>\n",
       "  </tbody>\n",
       "</table>\n",
       "</div>"
      ],
      "text/plain": [
       "                           order_id                       customer_id  \\\n",
       "0  e481f51cbdc54678b7cc49136f2d6af7  9ef432eb6251297304e76186b10a928d   \n",
       "1  53cdb2fc8bc7dce0b6741e2150273451  b0830fb4747a6c6d20dea0b8c802d7ef   \n",
       "2  47770eb9100c2d0c44946d9cf07ec65d  41ce2a54c0b03bf3443c3d931a367089   \n",
       "3  949d5b44dbf5de918fe9c16f97b45f8a  f88197465ea7920adcdbec7375364d82   \n",
       "4  ad21c59c0840e6cb83a9ceb5573f8159  8ab97904e6daea8866dbdbc4fb7aad2c   \n",
       "\n",
       "  order_status order_purchase_timestamp    order_approved_at  \\\n",
       "0    delivered      2017-10-02 10:56:33  2017-10-02 11:07:15   \n",
       "1    delivered      2018-07-24 20:41:37  2018-07-26 03:24:27   \n",
       "2    delivered      2018-08-08 08:38:49  2018-08-08 08:55:23   \n",
       "3    delivered      2017-11-18 19:28:06  2017-11-18 19:45:59   \n",
       "4    delivered      2018-02-13 21:18:39  2018-02-13 22:20:29   \n",
       "\n",
       "  order_delivered_carrier_date order_delivered_customer_date  \\\n",
       "0          2017-10-04 19:55:00           2017-10-10 21:25:13   \n",
       "1          2018-07-26 14:31:00           2018-08-07 15:27:45   \n",
       "2          2018-08-08 13:50:00           2018-08-17 18:06:29   \n",
       "3          2017-11-22 13:39:59           2017-12-02 00:28:42   \n",
       "4          2018-02-14 19:46:34           2018-02-16 18:17:02   \n",
       "\n",
       "  order_estimated_delivery_date  \n",
       "0           2017-10-18 00:00:00  \n",
       "1           2018-08-13 00:00:00  \n",
       "2           2018-09-04 00:00:00  \n",
       "3           2017-12-15 00:00:00  \n",
       "4           2018-02-26 00:00:00  "
      ]
     },
     "metadata": {},
     "output_type": "display_data"
    },
    {
     "name": "stdout",
     "output_type": "stream",
     "text": [
      "\n",
      "-------------------- Dataset Order Payments --------------------\n"
     ]
    },
    {
     "data": {
      "text/html": [
       "<div>\n",
       "<style scoped>\n",
       "    .dataframe tbody tr th:only-of-type {\n",
       "        vertical-align: middle;\n",
       "    }\n",
       "\n",
       "    .dataframe tbody tr th {\n",
       "        vertical-align: top;\n",
       "    }\n",
       "\n",
       "    .dataframe thead th {\n",
       "        text-align: right;\n",
       "    }\n",
       "</style>\n",
       "<table border=\"1\" class=\"dataframe\">\n",
       "  <thead>\n",
       "    <tr style=\"text-align: right;\">\n",
       "      <th></th>\n",
       "      <th>order_id</th>\n",
       "      <th>payment_sequential</th>\n",
       "      <th>payment_type</th>\n",
       "      <th>payment_installments</th>\n",
       "      <th>payment_value</th>\n",
       "    </tr>\n",
       "  </thead>\n",
       "  <tbody>\n",
       "    <tr>\n",
       "      <th>0</th>\n",
       "      <td>b81ef226f3fe1789b1e8b2acac839d17</td>\n",
       "      <td>1</td>\n",
       "      <td>credit_card</td>\n",
       "      <td>8</td>\n",
       "      <td>99.33</td>\n",
       "    </tr>\n",
       "    <tr>\n",
       "      <th>1</th>\n",
       "      <td>a9810da82917af2d9aefd1278f1dcfa0</td>\n",
       "      <td>1</td>\n",
       "      <td>credit_card</td>\n",
       "      <td>1</td>\n",
       "      <td>24.39</td>\n",
       "    </tr>\n",
       "    <tr>\n",
       "      <th>2</th>\n",
       "      <td>25e8ea4e93396b6fa0d3dd708e76c1bd</td>\n",
       "      <td>1</td>\n",
       "      <td>credit_card</td>\n",
       "      <td>1</td>\n",
       "      <td>65.71</td>\n",
       "    </tr>\n",
       "    <tr>\n",
       "      <th>3</th>\n",
       "      <td>ba78997921bbcdc1373bb41e913ab953</td>\n",
       "      <td>1</td>\n",
       "      <td>credit_card</td>\n",
       "      <td>8</td>\n",
       "      <td>107.78</td>\n",
       "    </tr>\n",
       "    <tr>\n",
       "      <th>4</th>\n",
       "      <td>42fdf880ba16b47b59251dd489d4441a</td>\n",
       "      <td>1</td>\n",
       "      <td>credit_card</td>\n",
       "      <td>2</td>\n",
       "      <td>128.45</td>\n",
       "    </tr>\n",
       "  </tbody>\n",
       "</table>\n",
       "</div>"
      ],
      "text/plain": [
       "                           order_id  payment_sequential payment_type  \\\n",
       "0  b81ef226f3fe1789b1e8b2acac839d17                   1  credit_card   \n",
       "1  a9810da82917af2d9aefd1278f1dcfa0                   1  credit_card   \n",
       "2  25e8ea4e93396b6fa0d3dd708e76c1bd                   1  credit_card   \n",
       "3  ba78997921bbcdc1373bb41e913ab953                   1  credit_card   \n",
       "4  42fdf880ba16b47b59251dd489d4441a                   1  credit_card   \n",
       "\n",
       "   payment_installments  payment_value  \n",
       "0                     8          99.33  \n",
       "1                     1          24.39  \n",
       "2                     1          65.71  \n",
       "3                     8         107.78  \n",
       "4                     2         128.45  "
      ]
     },
     "metadata": {},
     "output_type": "display_data"
    },
    {
     "name": "stdout",
     "output_type": "stream",
     "text": [
      "\n",
      "-------------------- Dataset Order Reviews --------------------\n"
     ]
    },
    {
     "data": {
      "text/html": [
       "<div>\n",
       "<style scoped>\n",
       "    .dataframe tbody tr th:only-of-type {\n",
       "        vertical-align: middle;\n",
       "    }\n",
       "\n",
       "    .dataframe tbody tr th {\n",
       "        vertical-align: top;\n",
       "    }\n",
       "\n",
       "    .dataframe thead th {\n",
       "        text-align: right;\n",
       "    }\n",
       "</style>\n",
       "<table border=\"1\" class=\"dataframe\">\n",
       "  <thead>\n",
       "    <tr style=\"text-align: right;\">\n",
       "      <th></th>\n",
       "      <th>review_id</th>\n",
       "      <th>order_id</th>\n",
       "      <th>review_score</th>\n",
       "      <th>review_comment_title</th>\n",
       "      <th>review_comment_message</th>\n",
       "      <th>review_creation_date</th>\n",
       "      <th>review_answer_timestamp</th>\n",
       "    </tr>\n",
       "  </thead>\n",
       "  <tbody>\n",
       "    <tr>\n",
       "      <th>0</th>\n",
       "      <td>7bc2406110b926393aa56f80a40eba40</td>\n",
       "      <td>73fc7af87114b39712e6da79b0a377eb</td>\n",
       "      <td>4</td>\n",
       "      <td>NaN</td>\n",
       "      <td>NaN</td>\n",
       "      <td>2018-01-18 00:00:00</td>\n",
       "      <td>2018-01-18 21:46:59</td>\n",
       "    </tr>\n",
       "    <tr>\n",
       "      <th>1</th>\n",
       "      <td>80e641a11e56f04c1ad469d5645fdfde</td>\n",
       "      <td>a548910a1c6147796b98fdf73dbeba33</td>\n",
       "      <td>5</td>\n",
       "      <td>NaN</td>\n",
       "      <td>NaN</td>\n",
       "      <td>2018-03-10 00:00:00</td>\n",
       "      <td>2018-03-11 03:05:13</td>\n",
       "    </tr>\n",
       "    <tr>\n",
       "      <th>2</th>\n",
       "      <td>228ce5500dc1d8e020d8d1322874b6f0</td>\n",
       "      <td>f9e4b658b201a9f2ecdecbb34bed034b</td>\n",
       "      <td>5</td>\n",
       "      <td>NaN</td>\n",
       "      <td>NaN</td>\n",
       "      <td>2018-02-17 00:00:00</td>\n",
       "      <td>2018-02-18 14:36:24</td>\n",
       "    </tr>\n",
       "    <tr>\n",
       "      <th>3</th>\n",
       "      <td>e64fb393e7b32834bb789ff8bb30750e</td>\n",
       "      <td>658677c97b385a9be170737859d3511b</td>\n",
       "      <td>5</td>\n",
       "      <td>NaN</td>\n",
       "      <td>Recebi bem antes do prazo estipulado.</td>\n",
       "      <td>2017-04-21 00:00:00</td>\n",
       "      <td>2017-04-21 22:02:06</td>\n",
       "    </tr>\n",
       "    <tr>\n",
       "      <th>4</th>\n",
       "      <td>f7c4243c7fe1938f181bec41a392bdeb</td>\n",
       "      <td>8e6bfb81e283fa7e4f11123a3fb894f1</td>\n",
       "      <td>5</td>\n",
       "      <td>NaN</td>\n",
       "      <td>Parabéns lojas lannister adorei comprar pela I...</td>\n",
       "      <td>2018-03-01 00:00:00</td>\n",
       "      <td>2018-03-02 10:26:53</td>\n",
       "    </tr>\n",
       "  </tbody>\n",
       "</table>\n",
       "</div>"
      ],
      "text/plain": [
       "                          review_id                          order_id  \\\n",
       "0  7bc2406110b926393aa56f80a40eba40  73fc7af87114b39712e6da79b0a377eb   \n",
       "1  80e641a11e56f04c1ad469d5645fdfde  a548910a1c6147796b98fdf73dbeba33   \n",
       "2  228ce5500dc1d8e020d8d1322874b6f0  f9e4b658b201a9f2ecdecbb34bed034b   \n",
       "3  e64fb393e7b32834bb789ff8bb30750e  658677c97b385a9be170737859d3511b   \n",
       "4  f7c4243c7fe1938f181bec41a392bdeb  8e6bfb81e283fa7e4f11123a3fb894f1   \n",
       "\n",
       "   review_score review_comment_title  \\\n",
       "0             4                  NaN   \n",
       "1             5                  NaN   \n",
       "2             5                  NaN   \n",
       "3             5                  NaN   \n",
       "4             5                  NaN   \n",
       "\n",
       "                              review_comment_message review_creation_date  \\\n",
       "0                                                NaN  2018-01-18 00:00:00   \n",
       "1                                                NaN  2018-03-10 00:00:00   \n",
       "2                                                NaN  2018-02-17 00:00:00   \n",
       "3              Recebi bem antes do prazo estipulado.  2017-04-21 00:00:00   \n",
       "4  Parabéns lojas lannister adorei comprar pela I...  2018-03-01 00:00:00   \n",
       "\n",
       "  review_answer_timestamp  \n",
       "0     2018-01-18 21:46:59  \n",
       "1     2018-03-11 03:05:13  \n",
       "2     2018-02-18 14:36:24  \n",
       "3     2017-04-21 22:02:06  \n",
       "4     2018-03-02 10:26:53  "
      ]
     },
     "metadata": {},
     "output_type": "display_data"
    },
    {
     "name": "stdout",
     "output_type": "stream",
     "text": [
      "\n",
      "-------------------- Dataset Products --------------------\n"
     ]
    },
    {
     "data": {
      "text/html": [
       "<div>\n",
       "<style scoped>\n",
       "    .dataframe tbody tr th:only-of-type {\n",
       "        vertical-align: middle;\n",
       "    }\n",
       "\n",
       "    .dataframe tbody tr th {\n",
       "        vertical-align: top;\n",
       "    }\n",
       "\n",
       "    .dataframe thead th {\n",
       "        text-align: right;\n",
       "    }\n",
       "</style>\n",
       "<table border=\"1\" class=\"dataframe\">\n",
       "  <thead>\n",
       "    <tr style=\"text-align: right;\">\n",
       "      <th></th>\n",
       "      <th>product_id</th>\n",
       "      <th>product_category_name</th>\n",
       "      <th>product_name_lenght</th>\n",
       "      <th>product_description_lenght</th>\n",
       "      <th>product_photos_qty</th>\n",
       "      <th>product_weight_g</th>\n",
       "      <th>product_length_cm</th>\n",
       "      <th>product_height_cm</th>\n",
       "      <th>product_width_cm</th>\n",
       "    </tr>\n",
       "  </thead>\n",
       "  <tbody>\n",
       "    <tr>\n",
       "      <th>0</th>\n",
       "      <td>1e9e8ef04dbcff4541ed26657ea517e5</td>\n",
       "      <td>perfumaria</td>\n",
       "      <td>40.0</td>\n",
       "      <td>287.0</td>\n",
       "      <td>1.0</td>\n",
       "      <td>225.0</td>\n",
       "      <td>16.0</td>\n",
       "      <td>10.0</td>\n",
       "      <td>14.0</td>\n",
       "    </tr>\n",
       "    <tr>\n",
       "      <th>1</th>\n",
       "      <td>3aa071139cb16b67ca9e5dea641aaa2f</td>\n",
       "      <td>artes</td>\n",
       "      <td>44.0</td>\n",
       "      <td>276.0</td>\n",
       "      <td>1.0</td>\n",
       "      <td>1000.0</td>\n",
       "      <td>30.0</td>\n",
       "      <td>18.0</td>\n",
       "      <td>20.0</td>\n",
       "    </tr>\n",
       "    <tr>\n",
       "      <th>2</th>\n",
       "      <td>96bd76ec8810374ed1b65e291975717f</td>\n",
       "      <td>esporte_lazer</td>\n",
       "      <td>46.0</td>\n",
       "      <td>250.0</td>\n",
       "      <td>1.0</td>\n",
       "      <td>154.0</td>\n",
       "      <td>18.0</td>\n",
       "      <td>9.0</td>\n",
       "      <td>15.0</td>\n",
       "    </tr>\n",
       "    <tr>\n",
       "      <th>3</th>\n",
       "      <td>cef67bcfe19066a932b7673e239eb23d</td>\n",
       "      <td>bebes</td>\n",
       "      <td>27.0</td>\n",
       "      <td>261.0</td>\n",
       "      <td>1.0</td>\n",
       "      <td>371.0</td>\n",
       "      <td>26.0</td>\n",
       "      <td>4.0</td>\n",
       "      <td>26.0</td>\n",
       "    </tr>\n",
       "    <tr>\n",
       "      <th>4</th>\n",
       "      <td>9dc1a7de274444849c219cff195d0b71</td>\n",
       "      <td>utilidades_domesticas</td>\n",
       "      <td>37.0</td>\n",
       "      <td>402.0</td>\n",
       "      <td>4.0</td>\n",
       "      <td>625.0</td>\n",
       "      <td>20.0</td>\n",
       "      <td>17.0</td>\n",
       "      <td>13.0</td>\n",
       "    </tr>\n",
       "  </tbody>\n",
       "</table>\n",
       "</div>"
      ],
      "text/plain": [
       "                         product_id  product_category_name  \\\n",
       "0  1e9e8ef04dbcff4541ed26657ea517e5             perfumaria   \n",
       "1  3aa071139cb16b67ca9e5dea641aaa2f                  artes   \n",
       "2  96bd76ec8810374ed1b65e291975717f          esporte_lazer   \n",
       "3  cef67bcfe19066a932b7673e239eb23d                  bebes   \n",
       "4  9dc1a7de274444849c219cff195d0b71  utilidades_domesticas   \n",
       "\n",
       "   product_name_lenght  product_description_lenght  product_photos_qty  \\\n",
       "0                 40.0                       287.0                 1.0   \n",
       "1                 44.0                       276.0                 1.0   \n",
       "2                 46.0                       250.0                 1.0   \n",
       "3                 27.0                       261.0                 1.0   \n",
       "4                 37.0                       402.0                 4.0   \n",
       "\n",
       "   product_weight_g  product_length_cm  product_height_cm  product_width_cm  \n",
       "0             225.0               16.0               10.0              14.0  \n",
       "1            1000.0               30.0               18.0              20.0  \n",
       "2             154.0               18.0                9.0              15.0  \n",
       "3             371.0               26.0                4.0              26.0  \n",
       "4             625.0               20.0               17.0              13.0  "
      ]
     },
     "metadata": {},
     "output_type": "display_data"
    },
    {
     "name": "stdout",
     "output_type": "stream",
     "text": [
      "\n",
      "-------------------- Dataset Products Translation --------------------\n"
     ]
    },
    {
     "data": {
      "text/html": [
       "<div>\n",
       "<style scoped>\n",
       "    .dataframe tbody tr th:only-of-type {\n",
       "        vertical-align: middle;\n",
       "    }\n",
       "\n",
       "    .dataframe tbody tr th {\n",
       "        vertical-align: top;\n",
       "    }\n",
       "\n",
       "    .dataframe thead th {\n",
       "        text-align: right;\n",
       "    }\n",
       "</style>\n",
       "<table border=\"1\" class=\"dataframe\">\n",
       "  <thead>\n",
       "    <tr style=\"text-align: right;\">\n",
       "      <th></th>\n",
       "      <th>product_category_name</th>\n",
       "      <th>product_category_name_english</th>\n",
       "    </tr>\n",
       "  </thead>\n",
       "  <tbody>\n",
       "    <tr>\n",
       "      <th>0</th>\n",
       "      <td>beleza_saude</td>\n",
       "      <td>health_beauty</td>\n",
       "    </tr>\n",
       "    <tr>\n",
       "      <th>1</th>\n",
       "      <td>informatica_acessorios</td>\n",
       "      <td>computers_accessories</td>\n",
       "    </tr>\n",
       "    <tr>\n",
       "      <th>2</th>\n",
       "      <td>automotivo</td>\n",
       "      <td>auto</td>\n",
       "    </tr>\n",
       "    <tr>\n",
       "      <th>3</th>\n",
       "      <td>cama_mesa_banho</td>\n",
       "      <td>bed_bath_table</td>\n",
       "    </tr>\n",
       "    <tr>\n",
       "      <th>4</th>\n",
       "      <td>moveis_decoracao</td>\n",
       "      <td>furniture_decor</td>\n",
       "    </tr>\n",
       "  </tbody>\n",
       "</table>\n",
       "</div>"
      ],
      "text/plain": [
       "    product_category_name product_category_name_english\n",
       "0            beleza_saude                 health_beauty\n",
       "1  informatica_acessorios         computers_accessories\n",
       "2              automotivo                          auto\n",
       "3         cama_mesa_banho                bed_bath_table\n",
       "4        moveis_decoracao               furniture_decor"
      ]
     },
     "metadata": {},
     "output_type": "display_data"
    },
    {
     "name": "stdout",
     "output_type": "stream",
     "text": [
      "\n",
      "-------------------- Dataset Sellers --------------------\n"
     ]
    },
    {
     "data": {
      "text/html": [
       "<div>\n",
       "<style scoped>\n",
       "    .dataframe tbody tr th:only-of-type {\n",
       "        vertical-align: middle;\n",
       "    }\n",
       "\n",
       "    .dataframe tbody tr th {\n",
       "        vertical-align: top;\n",
       "    }\n",
       "\n",
       "    .dataframe thead th {\n",
       "        text-align: right;\n",
       "    }\n",
       "</style>\n",
       "<table border=\"1\" class=\"dataframe\">\n",
       "  <thead>\n",
       "    <tr style=\"text-align: right;\">\n",
       "      <th></th>\n",
       "      <th>seller_id</th>\n",
       "      <th>seller_zip_code_prefix</th>\n",
       "      <th>seller_city</th>\n",
       "      <th>seller_state</th>\n",
       "    </tr>\n",
       "  </thead>\n",
       "  <tbody>\n",
       "    <tr>\n",
       "      <th>0</th>\n",
       "      <td>3442f8959a84dea7ee197c632cb2df15</td>\n",
       "      <td>13023</td>\n",
       "      <td>campinas</td>\n",
       "      <td>SP</td>\n",
       "    </tr>\n",
       "    <tr>\n",
       "      <th>1</th>\n",
       "      <td>d1b65fc7debc3361ea86b5f14c68d2e2</td>\n",
       "      <td>13844</td>\n",
       "      <td>mogi guacu</td>\n",
       "      <td>SP</td>\n",
       "    </tr>\n",
       "    <tr>\n",
       "      <th>2</th>\n",
       "      <td>ce3ad9de960102d0677a81f5d0bb7b2d</td>\n",
       "      <td>20031</td>\n",
       "      <td>rio de janeiro</td>\n",
       "      <td>RJ</td>\n",
       "    </tr>\n",
       "    <tr>\n",
       "      <th>3</th>\n",
       "      <td>c0f3eea2e14555b6faeea3dd58c1b1c3</td>\n",
       "      <td>4195</td>\n",
       "      <td>sao paulo</td>\n",
       "      <td>SP</td>\n",
       "    </tr>\n",
       "    <tr>\n",
       "      <th>4</th>\n",
       "      <td>51a04a8a6bdcb23deccc82b0b80742cf</td>\n",
       "      <td>12914</td>\n",
       "      <td>braganca paulista</td>\n",
       "      <td>SP</td>\n",
       "    </tr>\n",
       "  </tbody>\n",
       "</table>\n",
       "</div>"
      ],
      "text/plain": [
       "                          seller_id  seller_zip_code_prefix  \\\n",
       "0  3442f8959a84dea7ee197c632cb2df15                   13023   \n",
       "1  d1b65fc7debc3361ea86b5f14c68d2e2                   13844   \n",
       "2  ce3ad9de960102d0677a81f5d0bb7b2d                   20031   \n",
       "3  c0f3eea2e14555b6faeea3dd58c1b1c3                    4195   \n",
       "4  51a04a8a6bdcb23deccc82b0b80742cf                   12914   \n",
       "\n",
       "         seller_city seller_state  \n",
       "0           campinas           SP  \n",
       "1         mogi guacu           SP  \n",
       "2     rio de janeiro           RJ  \n",
       "3          sao paulo           SP  \n",
       "4  braganca paulista           SP  "
      ]
     },
     "metadata": {},
     "output_type": "display_data"
    },
    {
     "name": "stdout",
     "output_type": "stream",
     "text": [
      "\n"
     ]
    }
   ],
   "source": [
    "head_of_dfs(dfs)"
   ]
  },
  {
   "cell_type": "markdown",
   "id": "05b48d01-6f43-44cb-8aa1-0b4faf1d58c5",
   "metadata": {},
   "source": [
    "## Distribution & Density"
   ]
  },
  {
   "cell_type": "code",
   "execution_count": 37,
   "id": "60fb80fd-b267-4184-960b-f16b3ff40313",
   "metadata": {},
   "outputs": [
    {
     "data": {
      "image/png": "[encoded data removed]",
      "text/plain": [
       "<Figure size 400x300 with 1 Axes>"
      ]
     },
     "metadata": {},
     "output_type": "display_data"
    },
    {
     "data": {
      "image/png": "[encoded data removed]",
      "text/plain": [
       "<Figure size 1200x600 with 3 Axes>"
      ]
     },
     "metadata": {},
     "output_type": "display_data"
    },
    {
     "data": {
      "image/png": "[encoded data removed]",
      "text/plain": [
       "<Figure size 400x300 with 1 Axes>"
      ]
     },
     "metadata": {},
     "output_type": "display_data"
    },
    {
     "data": {
      "image/png": "[encoded data removed]",
      "text/plain": [
       "<Figure size 1200x900 with 7 Axes>"
      ]
     },
     "metadata": {},
     "output_type": "display_data"
    },
    {
     "data": {
      "image/png": "[encoded data removed]",
      "text/plain": [
       "<Figure size 400x300 with 1 Axes>"
      ]
     },
     "metadata": {},
     "output_type": "display_data"
    }
   ],
   "source": [
    "def visualize_violinplot(dfs: dict):\n",
    "    \"\"\"\n",
    "    Plot violin subplots of numeric columns from all dataframes\n",
    "\n",
    "    Args:\n",
    "        dfs (dict): pair key-value (key = \"Name of the dataframe\", value = \"Dataframe variable\")\n",
    "    \"\"\"\n",
    "    for name, df in dfs.items():\n",
    "        if name == 'Location':  \n",
    "            continue\n",
    "\n",
    "        numeric_df = df.select_dtypes(include='number')\n",
    "        if numeric_df.shape[1] == 0:\n",
    "            continue\n",
    "\n",
    "        num_cols = numeric_df.shape[1]\n",
    "        nrows = (num_cols // 3) + 1  # // -> rounded division\n",
    "        ncols = min(3, num_cols)\n",
    "\n",
    "        # subplots for each numeric dataframe\n",
    "        fig, axes = plt.subplots(nrows=nrows, ncols=ncols, figsize=(4*ncols, 3*nrows))\n",
    "        fig.suptitle(f\"Violin plots for {name}\", fontsize=15)\n",
    "        \n",
    "        if isinstance(axes, plt.Axes):  \n",
    "            axes = [axes]\n",
    "        else:\n",
    "            axes = axes.flatten()\n",
    "\n",
    "        for i, col in enumerate(numeric_df.columns):\n",
    "            sns.violinplot(data=numeric_df, \n",
    "                             x=col,\n",
    "                             ax=axes[i])\n",
    "\n",
    "        # remove empty subplots\n",
    "        for j in range(i+1, len(axes)):\n",
    "            fig.delaxes(axes[j])\n",
    "\n",
    "        plt.tight_layout()\n",
    "        plt.show()\n",
    "\n",
    "visualize_violinplot(dfs)"
   ]
  },
  {
   "cell_type": "markdown",
   "id": "6f006f71-7569-442e-8f11-1845aca07db8",
   "metadata": {},
   "source": [
    "# Cleaning & Transforming Datasets"
   ]
  },
  {
   "cell_type": "code",
   "execution_count": 38,
   "id": "ddfb104e-2754-4f61-896a-527ce99b87e0",
   "metadata": {},
   "outputs": [],
   "source": [
    "def remove_duplicated(dfs: dict):\n",
    "    \"\"\"\n",
    "    Remove duplicated values from all dataframes\n",
    "\n",
    "    Args:\n",
    "        dfs (dict): pair key-value (key = \"Name of the dataframe\", value = \"Dataframe variable\")\n",
    "    \"\"\"\n",
    "    for _, df in dfs.items():\n",
    "        df = df.drop_duplicates(keep='first', inplace=True)\n",
    "\n",
    "remove_duplicated(dfs)"
   ]
  },
  {
   "cell_type": "code",
   "execution_count": 39,
   "id": "326a27f0-d556-4680-b1ef-499e34f2afbc",
   "metadata": {},
   "outputs": [],
   "source": [
    "def drop_columns(df_columns:dict):\n",
    "    \"\"\"\n",
    "    Drop selected columns from multiple dataframes\n",
    "\n",
    "    Args:\n",
    "        df_columns (dict): dict format (key = Dataframe variable, Value = Tuple with the dataframe variable and a list of columns)\n",
    "\n",
    "    Returns:\n",
    "        new_dfs (dict): a new dict with updated dataframes\n",
    "    \"\"\"\n",
    "    new_dfs = {}\n",
    "    for name, (df, columns) in df_columns.items():\n",
    "        new_dfs[name] = df.drop(columns=columns, axis=1)\n",
    "        \n",
    "    return new_dfs \n",
    "\n",
    "def convert_columns_to_datetime(df:pd.DataFrame, datetime_cols:list) -> pd.DataFrame:\n",
    "    \"\"\"\n",
    "    Convert object columns with data and time to pandas datetime\n",
    "\n",
    "    Args:\n",
    "        df (dataframe): dataframe target to convert the variables\n",
    "        datetime_cols (list): list with all datetime cols to convert\n",
    "\n",
    "    Returns:\n",
    "        df (dataframe): new dataframe with columns converted\n",
    "    \"\"\"\n",
    "    for col in datetime_cols:\n",
    "        if col in df.columns:\n",
    "            df[col] = pd.to_datetime(df[col], errors=\"coerce\")\n",
    "    return df\n",
    " \n",
    "def fillna_columns(df:pd.DataFrame, columns:list) -> pd.DataFrame:\n",
    "    \"\"\"\n",
    "    Replace NaN values with 'Vazio'(empty)\n",
    "    \n",
    "    Args:\n",
    "        df (pd.DataFrame): target dataframe\n",
    "        columns (list): Lista de colunas onde aplicar o preenchimento\n",
    "\n",
    "    Returns:\n",
    "        pd.DataFrame: Novo DataFrame com os valores nulos substituídos\n",
    "    \"\"\"\n",
    "    for col in columns:\n",
    "        if col in df.columns:\n",
    "            df[col] = df[col].fillna(\"Vazio\")\n",
    "    return df\n",
    "\n",
    "\n",
    "# i decided to not use the geolocation dataset, so don't need to keep the foreign keys to this dataset\n",
    "cols_to_drop = {\n",
    "    \"Customers\": (customers_df, ['customer_zip_code_prefix']),\n",
    "    \"Order Reviews\": (order_reviews_df, ['review_comment_title']),\n",
    "    \"Sellers\": (sellers_df, ['seller_zip_code_prefix'])\n",
    "}\n",
    "\n",
    "\n",
    "# dataframes after removing columns\n",
    "updated_dfs = drop_columns(cols_to_drop)\n",
    "\n",
    "customers_df = updated_dfs[\"Customers\"]\n",
    "order_reviews_df = updated_dfs[\"Order Reviews\"]\n",
    "sellers_df = updated_dfs[\"Sellers\"]\n",
    "\n",
    "# convert columns to datetime -> order reviews dataset\n",
    "order_reviews_df = convert_columns_to_datetime(order_reviews_df, ['review_creation_date', 'review_answer_timestamp'])\n",
    "\n",
    "# convert columns to datetime -> order reviews dataset\n",
    "orders_df = convert_columns_to_datetime(orders_df, ['order_approved_at', 'order_delivered_carrier_date', 'order_delivered_customer_date', 'order_estimated_delivery_date'])\n",
    "\n",
    "# filling NaN values of review_comment_message columns -> order reviews dataset\n",
    "order_reviews_df = fillna_columns(order_reviews_df, ['review_comment_message'])"
   ]
  },
  {
   "cell_type": "code",
   "execution_count": 42,
   "id": "400533cf-a127-4df8-9de1-69ec4a784b34",
   "metadata": {},
   "outputs": [
    {
     "data": {
      "text/plain": [
       "order_id                                 object\n",
       "customer_id                              object\n",
       "order_status                             object\n",
       "order_purchase_timestamp                 object\n",
       "order_approved_at                datetime64[ns]\n",
       "order_delivered_carrier_date     datetime64[ns]\n",
       "order_delivered_customer_date    datetime64[ns]\n",
       "order_estimated_delivery_date    datetime64[ns]\n",
       "dtype: object"
      ]
     },
     "execution_count": 42,
     "metadata": {},
     "output_type": "execute_result"
    }
   ],
   "source": [
    "orders_df.dtypes"
   ]
  },
  {
   "cell_type": "markdown",
   "id": "adb3986a-8e40-445d-925b-190a065c5909",
   "metadata": {
    "jp-MarkdownHeadingCollapsed": true
   },
   "source": [
    "# Quais são as categorias com maior e menor receita?"
   ]
  },
  {
   "cell_type": "markdown",
   "id": "9c0d6c46-0cfe-4e66-a814-40fe83b8bf05",
   "metadata": {},
   "source": [
    "### Merge "
   ]
  },
  {
   "cell_type": "markdown",
   "id": "7bd67f6b-6e15-4b24-a44d-0878ed39c491",
   "metadata": {},
   "source": [
    "- Order Items com Products"
   ]
  },
  {
   "cell_type": "code",
   "execution_count": null,
   "id": "6ad33a5a-a32e-4cde-a3c5-d723af736974",
   "metadata": {},
   "outputs": [],
   "source": [
    "merged_df = pd.merge(order_items_df_cleaned, products_df_cleaned, on='product_id', how='inner')\n",
    "merged_df.head()"
   ]
  },
  {
   "cell_type": "markdown",
   "id": "4a50dfff-5015-486b-b9cc-ecaaf4a8affc",
   "metadata": {},
   "source": [
    "- Orders"
   ]
  },
  {
   "cell_type": "code",
   "execution_count": null,
   "id": "688e4295-80ad-49f8-93b0-cef0fee70f71",
   "metadata": {},
   "outputs": [],
   "source": [
    "merged_df = pd.merge(merged_df, orders_df_cleaned, on='order_id', how='inner')\n",
    "merged_df.head()"
   ]
  },
  {
   "cell_type": "markdown",
   "id": "807260ac-1e7d-4725-87f9-5b19a902a4da",
   "metadata": {},
   "source": [
    "- Order Payments"
   ]
  },
  {
   "cell_type": "code",
   "execution_count": null,
   "id": "c3d3cce9-40f9-4b30-ad3a-8b236500f627",
   "metadata": {},
   "outputs": [],
   "source": [
    "merged_df = pd.merge(merged_df, order_payments_df_cleaned, on='order_id', how='inner')\n",
    "merged_df.head()"
   ]
  },
  {
   "cell_type": "markdown",
   "id": "cdd6d212-2770-4e1e-9d40-d09f46725b32",
   "metadata": {},
   "source": [
    "### Valores faltantes"
   ]
  },
  {
   "cell_type": "code",
   "execution_count": null,
   "id": "f2fe8003-30d0-43b6-a153-f193bf7c1536",
   "metadata": {},
   "outputs": [],
   "source": [
    "merged_df.isnull().sum()"
   ]
  },
  {
   "cell_type": "markdown",
   "id": "f05f3d90-3e8c-4c7b-9da8-33ed2aab6cae",
   "metadata": {},
   "source": [
    "### Duplicatas"
   ]
  },
  {
   "cell_type": "code",
   "execution_count": null,
   "id": "68f91851-2bcd-4975-87c9-f8ef3c6900fe",
   "metadata": {},
   "outputs": [],
   "source": [
    "merged_df.duplicated().sum()"
   ]
  },
  {
   "cell_type": "markdown",
   "id": "1807d53d-626d-4864-b420-852621144227",
   "metadata": {},
   "source": [
    "**Excluindo as duplicatas utilizando como parâmetros as chaves que uniram os dataframes**"
   ]
  },
  {
   "cell_type": "code",
   "execution_count": null,
   "id": "ddbe9a11-55e1-4980-83e2-4b15335ed6cd",
   "metadata": {},
   "outputs": [],
   "source": [
    "final_merged_df = merged_df.drop_duplicates(subset=(['order_id', 'product_id']))"
   ]
  },
  {
   "cell_type": "code",
   "execution_count": null,
   "id": "7f07b2a5-35df-4a40-835b-2d03298058aa",
   "metadata": {},
   "outputs": [],
   "source": [
    "final_merged_df.shape"
   ]
  },
  {
   "cell_type": "code",
   "execution_count": null,
   "id": "edbfea3b-2146-4864-92c4-2442683a26e3",
   "metadata": {},
   "outputs": [],
   "source": [
    "final_merged_df.duplicated().sum()"
   ]
  },
  {
   "cell_type": "markdown",
   "id": "825365c6-82f8-410d-990f-1f070593f0c9",
   "metadata": {},
   "source": [
    "### Agrupando pela categoria e o valor de pagamento"
   ]
  },
  {
   "cell_type": "code",
   "execution_count": null,
   "id": "29405d69-fb2f-4e85-80f6-a710a7874f98",
   "metadata": {},
   "outputs": [],
   "source": [
    "group_by_category_payment = final_merged_df.groupby('product_category_name')['payment_value']"
   ]
  },
  {
   "cell_type": "code",
   "execution_count": null,
   "id": "76b63d04-f053-4482-9f3d-2a8de4579d8f",
   "metadata": {},
   "outputs": [],
   "source": [
    "# somando os payment values correspondentes as suas categorias\n",
    "group_by_category_payment = group_by_category_payment.sum()"
   ]
  },
  {
   "cell_type": "code",
   "execution_count": null,
   "id": "77086174-6e1f-4f3e-a973-e310a25c6c86",
   "metadata": {},
   "outputs": [],
   "source": [
    "df_category_payment = group_by_category_payment.reset_index()"
   ]
  },
  {
   "cell_type": "code",
   "execution_count": null,
   "id": "008faf6a-942d-42fc-b101-6aca4c8dd38f",
   "metadata": {},
   "outputs": [],
   "source": [
    "df_category_payment"
   ]
  },
  {
   "cell_type": "markdown",
   "id": "d3a7a25c-1c25-4a9f-b4a6-0104cd67a150",
   "metadata": {},
   "source": [
    "Ordenando pelo valor de pagamento"
   ]
  },
  {
   "cell_type": "code",
   "execution_count": null,
   "id": "329e0679-32ee-4dd8-9c65-b93157a9133e",
   "metadata": {},
   "outputs": [],
   "source": [
    "df_category_payment_sorted = df_category_payment.sort_values(by=['payment_value'], ascending=False)"
   ]
  },
  {
   "cell_type": "markdown",
   "id": "1006513f-0f91-45d8-a9f5-49011ff34e90",
   "metadata": {},
   "source": [
    "**Categorias com maior e menor receita**"
   ]
  },
  {
   "cell_type": "markdown",
   "id": "83c2fc82-5eb9-4b1a-b3f2-7b850598d7bf",
   "metadata": {},
   "source": [
    "beleza_saude - 1162367.44\n",
    "\n",
    "seguro_e_servicos - 115.45"
   ]
  },
  {
   "cell_type": "code",
   "execution_count": null,
   "id": "c4fe2005-d4f9-48a8-973d-8ad40b5e6769",
   "metadata": {},
   "outputs": [],
   "source": [
    "df_category_payment_sorted"
   ]
  },
  {
   "cell_type": "markdown",
   "id": "8c83e2d9-1fa8-452e-96af-532389c7292b",
   "metadata": {},
   "source": [
    "### Visualização através do gráfico de barras"
   ]
  },
  {
   "cell_type": "code",
   "execution_count": null,
   "id": "9f119e11-3b96-4395-b610-a21eb8712df0",
   "metadata": {},
   "outputs": [],
   "source": [
    "top_10_categories = df_category_payment_sorted.head(10)"
   ]
  },
  {
   "cell_type": "code",
   "execution_count": null,
   "id": "8704d158-9617-4173-9607-bbb18c172956",
   "metadata": {},
   "outputs": [],
   "source": [
    "bottom_10_categories = df_category_payment_sorted.tail(10)"
   ]
  },
  {
   "cell_type": "code",
   "execution_count": null,
   "id": "95237a1b-e624-4014-8f3f-d5dca86c6423",
   "metadata": {},
   "outputs": [],
   "source": [
    "plt.figure(figsize=(10,6))\n",
    "sns.barplot(data=top_10_categories, x='payment_value', y='product_category_name', palette='flare', hue='payment_value')\n",
    "\n",
    "plt.title('Categorias com maior receita', fontsize=16)\n",
    "plt.xlabel('Receita total (R$)', fontsize=12)\n",
    "plt.ylabel('Categoria do Produto', fontsize=12)\n",
    "plt.grid(axis='x', linestyle='--', alpha=0.7)\n",
    "plt.tight_layout()\n",
    "\n",
    "plt.show()"
   ]
  },
  {
   "cell_type": "code",
   "execution_count": null,
   "id": "742ab891-daf3-4b46-ab26-ff80b46e8662",
   "metadata": {},
   "outputs": [],
   "source": [
    "plt.figure(figsize=(10,6))\n",
    "sns.barplot(data=bottom_10_categories, x='payment_value', y='product_category_name', hue='payment_value', palette='flare')\n",
    "\n",
    "plt.title('Categorias com menor receita', fontsize=16)\n",
    "plt.xlabel('Receita total (R$)', fontsize=12)\n",
    "plt.ylabel('Categoria do produto', fontsize=12)\n",
    "plt.grid(axis='x', linestyle='--', alpha=0.7)\n",
    "plt.tight_layout()\n",
    "\n",
    "plt.show()"
   ]
  },
  {
   "cell_type": "markdown",
   "id": "6dcd133d-589f-4cb1-84a8-1a41312289c0",
   "metadata": {
    "jp-MarkdownHeadingCollapsed": true
   },
   "source": [
    "# Top 10 maiores sellers(com maior receita)"
   ]
  },
  {
   "cell_type": "code",
   "execution_count": null,
   "id": "4905c84a-96d8-44b6-b6cc-025440b895ee",
   "metadata": {},
   "outputs": [],
   "source": [
    "sellers_df_cleaned.head()"
   ]
  },
  {
   "cell_type": "code",
   "execution_count": null,
   "id": "a7a7f75f-295c-47ad-9290-993faf31d1af",
   "metadata": {},
   "outputs": [],
   "source": [
    "order_items_df_cleaned.head()"
   ]
  },
  {
   "cell_type": "code",
   "execution_count": null,
   "id": "19207453-6d94-4adc-95d5-dce96c8e5937",
   "metadata": {},
   "outputs": [],
   "source": [
    "orders_df_cleaned.head()"
   ]
  },
  {
   "cell_type": "markdown",
   "id": "3c75a5fb-a61e-43f4-9b85-068820bae124",
   "metadata": {},
   "source": [
    "**Excluindo colunas que não fazem sentido para análise do dataframe orders**"
   ]
  },
  {
   "cell_type": "code",
   "execution_count": null,
   "id": "6d6fd92a-ac50-4349-b364-6122984e9e7a",
   "metadata": {},
   "outputs": [],
   "source": [
    "columns_drop = orders_df_cleaned.columns[[1,2,3]]"
   ]
  },
  {
   "cell_type": "code",
   "execution_count": null,
   "id": "bc3db0dd-353e-4e21-aa6f-c7e460563bef",
   "metadata": {},
   "outputs": [],
   "source": [
    "orders_df_cleaned2 = orders_df_cleaned.drop(columns=columns_drop, axis=1)"
   ]
  },
  {
   "cell_type": "code",
   "execution_count": null,
   "id": "bd71b757-b701-49c9-81e8-ce3df6ac5370",
   "metadata": {},
   "outputs": [],
   "source": [
    "orders_df_cleaned2.head()"
   ]
  },
  {
   "cell_type": "markdown",
   "id": "eec1fa6d-b63c-4eeb-ab01-9601bcc416c4",
   "metadata": {},
   "source": [
    "### Merges"
   ]
  },
  {
   "cell_type": "markdown",
   "id": "eb53728a-995d-48fe-9d0c-1a9cf55675bb",
   "metadata": {},
   "source": [
    "Merge de sellers com order_items"
   ]
  },
  {
   "cell_type": "code",
   "execution_count": null,
   "id": "fb923304-c8aa-4840-afaf-176ecc28f905",
   "metadata": {},
   "outputs": [],
   "source": [
    "merged_df2 = pd.merge(sellers_df_cleaned, order_items_df_cleaned, on='seller_id', how='inner')\n",
    "merged_df2.head()"
   ]
  },
  {
   "cell_type": "markdown",
   "id": "73476906-6a82-4d06-b864-aab4c1d15bc8",
   "metadata": {},
   "source": [
    "Merge com orders"
   ]
  },
  {
   "cell_type": "code",
   "execution_count": null,
   "id": "de38a5e7-a04f-48c2-b44d-fd246be650d3",
   "metadata": {},
   "outputs": [],
   "source": [
    "merged_df2 = pd.merge(merged_df2, orders_df_cleaned2, on='order_id', how='inner')\n",
    "merged_df2.head()"
   ]
  },
  {
   "cell_type": "markdown",
   "id": "da977c8c-e9d2-407c-b2c2-649f52e31155",
   "metadata": {},
   "source": [
    "Merge com Order Payments"
   ]
  },
  {
   "cell_type": "code",
   "execution_count": null,
   "id": "f71ec061-9eff-4eae-91c7-f8f198d0f895",
   "metadata": {},
   "outputs": [],
   "source": [
    "merged_df2 = pd.merge(merged_df2, order_payments_df_cleaned, on='order_id', how='inner')\n",
    "merged_df2.head()"
   ]
  },
  {
   "cell_type": "markdown",
   "id": "5d0a1480-57f1-4c0b-a239-d2a196458b38",
   "metadata": {},
   "source": [
    "### Valores faltantes"
   ]
  },
  {
   "cell_type": "code",
   "execution_count": null,
   "id": "3471d002-666e-489e-a11e-9a240754e5bf",
   "metadata": {},
   "outputs": [],
   "source": [
    "merged_df2.isnull().sum()"
   ]
  },
  {
   "cell_type": "markdown",
   "id": "ebe2d73c-44c4-4888-a077-d3865545c8c5",
   "metadata": {},
   "source": [
    "### Duplicatas"
   ]
  },
  {
   "cell_type": "code",
   "execution_count": null,
   "id": "1e3d10cc-974a-4951-a56e-12be50d13ae0",
   "metadata": {},
   "outputs": [],
   "source": [
    "merged_df2.duplicated().sum()"
   ]
  },
  {
   "cell_type": "markdown",
   "id": "57727895-067d-4639-892a-275c5e98dd8a",
   "metadata": {},
   "source": [
    "**Excluindo as duplicatas utilizando como parâmetros as chaves que uniram os dataframes**"
   ]
  },
  {
   "cell_type": "code",
   "execution_count": null,
   "id": "6a44254b-6af3-4ca2-af1a-5e26bec6232f",
   "metadata": {},
   "outputs": [],
   "source": [
    "final_merged_df2 = merged_df2.drop_duplicates(subset=(['seller_id', 'order_id']))"
   ]
  },
  {
   "cell_type": "code",
   "execution_count": null,
   "id": "b468e6ca-6ba3-4c76-91b4-c92eb0b00ecf",
   "metadata": {},
   "outputs": [],
   "source": [
    "final_merged_df2.duplicated().sum()"
   ]
  },
  {
   "cell_type": "markdown",
   "id": "fde24fea-6890-4511-a577-c8cc78319b39",
   "metadata": {},
   "source": [
    "### Agrupando por seller e payment value"
   ]
  },
  {
   "cell_type": "code",
   "execution_count": null,
   "id": "1c00b32e-ebb3-4f70-b5fa-5cc8e624387e",
   "metadata": {},
   "outputs": [],
   "source": [
    "group_by_seller_payment = final_merged_df2.groupby('seller_id')['payment_value']"
   ]
  },
  {
   "cell_type": "code",
   "execution_count": null,
   "id": "3e6c5920-854b-4f40-bfdc-3ac3454db569",
   "metadata": {},
   "outputs": [],
   "source": [
    "group_by_seller_payment = group_by_seller_payment.sum().reset_index()"
   ]
  },
  {
   "cell_type": "code",
   "execution_count": null,
   "id": "dad1a37d-2957-44d8-aab7-1bd6d43e6377",
   "metadata": {},
   "outputs": [],
   "source": [
    "group_by_seller_payment"
   ]
  },
  {
   "cell_type": "code",
   "execution_count": null,
   "id": "83b993a6-b753-4b66-a801-edd3aef83afc",
   "metadata": {},
   "outputs": [],
   "source": [
    "df_category_seller_payment = group_by_seller_payment.sort_values(by=['payment_value'], ascending=False)"
   ]
  },
  {
   "cell_type": "code",
   "execution_count": null,
   "id": "9165c201-a4bb-4772-b1c6-8330ac410fc2",
   "metadata": {},
   "outputs": [],
   "source": [
    "df_category_seller_payment"
   ]
  },
  {
   "cell_type": "markdown",
   "id": "b804191f-4b3b-4b2d-b5a6-e4cfdecb5c53",
   "metadata": {},
   "source": [
    "**Criando uma coluna para o nome do vendedor**"
   ]
  },
  {
   "cell_type": "code",
   "execution_count": null,
   "id": "8b7edd6c-8d9c-4c23-b4a8-ba715f5c2125",
   "metadata": {},
   "outputs": [],
   "source": [
    "df_category_seller_payment['seller_name'] = 'seller' + df_category_seller_payment['seller_id'].str[:4]"
   ]
  },
  {
   "cell_type": "code",
   "execution_count": null,
   "id": "ad184dc4-db2f-406c-8135-8c759be4eb6b",
   "metadata": {},
   "outputs": [],
   "source": [
    "df_category_seller_payment"
   ]
  },
  {
   "cell_type": "code",
   "execution_count": null,
   "id": "eefe49c1-f437-4728-a002-a6773b62eb1c",
   "metadata": {},
   "outputs": [],
   "source": [
    "# Pegando os 10 primeiros sellers\n",
    "top_10_sellers = df_category_seller_payment.head(10)"
   ]
  },
  {
   "cell_type": "code",
   "execution_count": null,
   "id": "744fe729-4ab5-448c-85c8-5a90e5132e47",
   "metadata": {},
   "outputs": [],
   "source": [
    "# Pegando os 10 últimos sellers\n",
    "bottom_10_sellers = df_category_seller_payment.tail(10)"
   ]
  },
  {
   "cell_type": "markdown",
   "id": "08646255-efe9-41af-9c01-d0e3c7aad768",
   "metadata": {},
   "source": [
    "### Visualização através do gráfico de barras"
   ]
  },
  {
   "cell_type": "code",
   "execution_count": null,
   "id": "80f12073-b994-4f98-b665-67f0b93dc986",
   "metadata": {},
   "outputs": [],
   "source": [
    "plt.figure(figsize=(10,6))\n",
    "sns.barplot(data=top_10_sellers, y='payment_value', x='seller_name', hue='payment_value', palette='flare')\n",
    "\n",
    "plt.title('Vendedores que mais vendem', fontsize=16)\n",
    "plt.ylabel('Receita total (R$)', fontsize=12)\n",
    "plt.xlabel('Vendedores', fontsize=12)\n",
    "plt.grid(axis='y', linestyle='--', alpha=0.7)\n",
    "\n",
    "plt.tight_layout()\n",
    "\n",
    "plt.show()"
   ]
  },
  {
   "cell_type": "markdown",
   "id": "afa278c7-cd41-42c1-8313-c94a693ae330",
   "metadata": {
    "jp-MarkdownHeadingCollapsed": true
   },
   "source": [
    "# Top 10 piores sellers(com menor receita)"
   ]
  },
  {
   "cell_type": "markdown",
   "id": "ae5aba36-988b-484c-b0b1-22511dcb6dfb",
   "metadata": {},
   "source": [
    "### Visualização através do gráfico de barras"
   ]
  },
  {
   "cell_type": "code",
   "execution_count": null,
   "id": "bd80f295-ff9d-4435-841d-9181bb69de6b",
   "metadata": {},
   "outputs": [],
   "source": [
    "plt.figure(figsize=(10,6))\n",
    "sns.barplot(data=bottom_10_sellers, y='payment_value', x='seller_name', hue='payment_value', palette='flare')\n",
    "\n",
    "# Personalizando o gráfico\n",
    "plt.title('Vendedores que menos vendem', fontsize=16)\n",
    "plt.ylabel('Receita total (R$)', fontsize=12)\n",
    "plt.xlabel('Vendedores', fontsize=12)\n",
    "plt.grid(axis='y', linestyle='--', alpha=0.7)\n",
    "\n",
    "plt.tight_layout()\n",
    "\n",
    "plt.show()"
   ]
  },
  {
   "cell_type": "markdown",
   "id": "fc583d81-3098-4398-a9dd-764368d0d6a2",
   "metadata": {
    "jp-MarkdownHeadingCollapsed": true
   },
   "source": [
    "# Existem sellers que vendem o mesmo produto? Se sim, quais são? Qual é a variação de preço praticado entre os Sellers?"
   ]
  },
  {
   "cell_type": "markdown",
   "id": "9b03365e-9368-4575-b112-d0088be568ae",
   "metadata": {},
   "source": [
    "**Limpando o dataset order_items**"
   ]
  },
  {
   "cell_type": "code",
   "execution_count": null,
   "id": "d78148c8-14ca-4754-8ecc-55c96c34358f",
   "metadata": {},
   "outputs": [],
   "source": [
    "columns_drop = order_items_dataset.columns[4]\n",
    "columns_drop"
   ]
  },
  {
   "cell_type": "code",
   "execution_count": null,
   "id": "cdb2f044-7114-4693-adf3-3bcfaea9da48",
   "metadata": {},
   "outputs": [],
   "source": [
    "order_items_df_cleaned2 = order_items_dataset.drop(columns=columns_drop, axis=1)\n",
    "order_items_df_cleaned2.dtypes"
   ]
  },
  {
   "cell_type": "markdown",
   "id": "2c0b34d4-8bfc-460a-8883-85c367828322",
   "metadata": {},
   "source": [
    "### Merge"
   ]
  },
  {
   "cell_type": "markdown",
   "id": "259a9253-cb0e-4942-86f8-62dcc49a2c69",
   "metadata": {},
   "source": [
    "- Sellers e Order Items"
   ]
  },
  {
   "cell_type": "code",
   "execution_count": null,
   "id": "bf34c17b-4cd1-426f-9a0d-a824f3df972e",
   "metadata": {},
   "outputs": [],
   "source": [
    "merged_df3 = pd.merge(sellers_df_cleaned, order_items_df_cleaned2, on='seller_id', how='inner')"
   ]
  },
  {
   "cell_type": "code",
   "execution_count": null,
   "id": "4b6981b0-071e-4b20-8a8e-14c918a27cbc",
   "metadata": {},
   "outputs": [],
   "source": [
    "merged_df3.head()"
   ]
  },
  {
   "cell_type": "markdown",
   "id": "f3fc36da-1689-4a8a-a6e1-d96c4687303f",
   "metadata": {},
   "source": [
    "- Products"
   ]
  },
  {
   "cell_type": "code",
   "execution_count": null,
   "id": "ac11b0c0-06f7-46be-b2be-27050f51df18",
   "metadata": {},
   "outputs": [],
   "source": [
    "merged_df3 = pd.merge(merged_df3, products_df_cleaned, on='product_id', how='inner')\n",
    "merged_df3.head()"
   ]
  },
  {
   "cell_type": "markdown",
   "id": "8311cd52-be84-4af4-b4cd-4b28bddc0fab",
   "metadata": {},
   "source": [
    "### Duplicatas"
   ]
  },
  {
   "cell_type": "code",
   "execution_count": null,
   "id": "1f5ab7dc-3fe9-4f78-9b16-e563fc048597",
   "metadata": {},
   "outputs": [],
   "source": [
    "merged_df3.duplicated().sum()"
   ]
  },
  {
   "cell_type": "code",
   "execution_count": null,
   "id": "149f62f7-0764-47d5-9c0a-08d35db21789",
   "metadata": {},
   "outputs": [],
   "source": [
    "merged_df3.dtypes"
   ]
  },
  {
   "cell_type": "markdown",
   "id": "7c1bac2c-6ef5-4a12-abe0-cbc2986a326b",
   "metadata": {},
   "source": [
    "### Criando colunas seller_name e product_name"
   ]
  },
  {
   "cell_type": "code",
   "execution_count": null,
   "id": "6dcfa73e-77bf-4e7b-9c68-d510c0a07e69",
   "metadata": {},
   "outputs": [],
   "source": [
    "merged_df3['seller_name'] = 'seller' + merged_df3['seller_id'].str[:4]"
   ]
  },
  {
   "cell_type": "code",
   "execution_count": null,
   "id": "176e1fe9-f2f9-4035-b532-e2d3459b3bc2",
   "metadata": {},
   "outputs": [],
   "source": [
    "merged_df3['product_name'] = 'product' + merged_df3['product_id'].str[:4]"
   ]
  },
  {
   "cell_type": "code",
   "execution_count": null,
   "id": "9fb3b036-f7bc-40d9-a0f6-048cc592bde5",
   "metadata": {},
   "outputs": [],
   "source": [
    "merged_df3.product_name.value_counts()"
   ]
  },
  {
   "cell_type": "markdown",
   "id": "d2f8a2c1-8883-423c-b2e1-dccc6176150d",
   "metadata": {},
   "source": [
    "### Agrupamento \n",
    "\n",
    "Agrupamento de product_id com a agregação de uma lista de sellers e o menor e maior preço"
   ]
  },
  {
   "cell_type": "code",
   "execution_count": null,
   "id": "bb70c76c-3a19-4afa-96d9-b0781ffc29da",
   "metadata": {},
   "outputs": [],
   "source": [
    "group_by_sellers_products = merged_df3.groupby('product_name').agg({\n",
    "    'seller_name': lambda x: list(set(x)), #remove duplicatas da lista de sellers que vendem o mesmo produto mais de uma vez\n",
    "    'price': [\n",
    "        lambda x: list(set(x)), #remove duplicatas dos preços\n",
    "        'min', \n",
    "        'max'\n",
    "    ]\n",
    "}).reset_index()"
   ]
  },
  {
   "cell_type": "code",
   "execution_count": null,
   "id": "13e1009d-8190-4d74-8981-1a25e7587bc2",
   "metadata": {},
   "outputs": [],
   "source": [
    "group_by_sellers_products.head(10)"
   ]
  },
  {
   "cell_type": "markdown",
   "id": "7c1fdfc1-f3ce-4281-a654-46b8d7fb859a",
   "metadata": {},
   "source": [
    "**Renomeando as colunas**"
   ]
  },
  {
   "cell_type": "code",
   "execution_count": null,
   "id": "39793d97-57a1-4d85-8ef9-31a896c9c54d",
   "metadata": {},
   "outputs": [],
   "source": [
    "group_by_sellers_products.dtypes"
   ]
  },
  {
   "cell_type": "code",
   "execution_count": null,
   "id": "6f21c730-2d12-43e7-b589-f3e77bb2574a",
   "metadata": {},
   "outputs": [],
   "source": [
    "group_by_sellers_products.columns = ['product_name', 'seller_name', 'prices', 'min_price', 'max_price']\n",
    "group_by_sellers_products.dtypes"
   ]
  },
  {
   "cell_type": "markdown",
   "id": "44b69b9c-b1ef-444b-87f3-a3a4aa57a62f",
   "metadata": {},
   "source": [
    "**Calculando a variação dos preços**"
   ]
  },
  {
   "cell_type": "code",
   "execution_count": null,
   "id": "a07728d8-4f25-485f-b4fb-11c35e210bb3",
   "metadata": {},
   "outputs": [],
   "source": [
    "group_by_sellers_products['price_variation'] = group_by_sellers_products['max_price'] - group_by_sellers_products['min_price']\n",
    "group_by_sellers_products"
   ]
  },
  {
   "cell_type": "markdown",
   "id": "584f3307-63b1-4ec0-a2a2-81a75f2473c2",
   "metadata": {},
   "source": [
    "**Limpando o dataset para exibir apenas os produtos com mais de um seller**\n",
    "\n",
    "Isso pois, para um produto com um úncio seller, ainda pode haver variação de preço"
   ]
  },
  {
   "cell_type": "code",
   "execution_count": null,
   "id": "285962dc-845b-4b95-b77f-d534c4fc267b",
   "metadata": {},
   "outputs": [],
   "source": [
    "sellers_same_products = group_by_sellers_products.loc[group_by_sellers_products['seller_name'].apply(len) > 1]"
   ]
  },
  {
   "cell_type": "code",
   "execution_count": null,
   "id": "a2cd1bdb-d1aa-4c0c-b152-b1efc7323f8c",
   "metadata": {},
   "outputs": [],
   "source": [
    "sellers_same_products.reset_index(drop=True)"
   ]
  },
  {
   "cell_type": "markdown",
   "id": "63d0f576-c1c2-4d29-aff7-3ef379afd1db",
   "metadata": {},
   "source": [
    "**Na minha análise, fez mais sentido saber os produtos que mais possuem sellers que o vendem, por isso criei uma coluna com a contagem dos sellers que vendem cada produto**"
   ]
  },
  {
   "cell_type": "code",
   "execution_count": null,
   "id": "6ca6b14d-7ec6-4006-8370-ff8ae4fdec02",
   "metadata": {},
   "outputs": [],
   "source": [
    "sellers_same_products = sellers_same_products.copy()\n",
    "sellers_same_products['sellers_count'] = sellers_same_products['seller_name'].apply(len)"
   ]
  },
  {
   "cell_type": "code",
   "execution_count": null,
   "id": "d40e614f-e731-4185-9c4c-8b22f80aa180",
   "metadata": {},
   "outputs": [],
   "source": [
    "sellers_same_products.reset_index(drop=True)"
   ]
  },
  {
   "cell_type": "markdown",
   "id": "c293fcc9-5f18-4008-95cb-67eaf8c6a54b",
   "metadata": {},
   "source": [
    "Ordenando pela contagem dos selleres"
   ]
  },
  {
   "cell_type": "code",
   "execution_count": null,
   "id": "ef8c55be-4f2c-44e8-b25b-ce2d5665bdcd",
   "metadata": {},
   "outputs": [],
   "source": [
    "top_10_sellers_sharing_products = sellers_same_products.sort_values(by='sellers_count', ascending=False).head(10)"
   ]
  },
  {
   "cell_type": "code",
   "execution_count": null,
   "id": "3ea34115-67f9-4824-8ea8-b8c4a9c55f9a",
   "metadata": {},
   "outputs": [],
   "source": [
    "top_10_sellers_sharing_products = top_10_sellers_sharing_products.sort_values(by='price_variation', ascending=True)\n",
    "top_10_sellers_sharing_products.head()"
   ]
  },
  {
   "cell_type": "markdown",
   "id": "7922ea30-312e-40ae-8162-47552c138a0e",
   "metadata": {},
   "source": [
    "### Visualização através do barplot"
   ]
  },
  {
   "cell_type": "code",
   "execution_count": null,
   "id": "d3bb476f-0153-4f1b-9438-bc841e4400eb",
   "metadata": {},
   "outputs": [],
   "source": [
    "plt.figure(figsize=(10,6))\n",
    "sns.barplot(data=top_10_sellers_sharing_products, x='product_name', y='price_variation', hue='price_variation', palette=\"ch:s=.25,rot=-.25\")\n",
    "\n",
    "plt.title('Produtos com maior quantidade de sellers e sua variação de preços', fontsize=16)\n",
    "plt.xlabel('Nome do produto', fontsize=12)\n",
    "plt.xticks(rotation=45)\n",
    "plt.ylabel('Variação de preço', fontsize=12)\n",
    "plt.grid(axis='y', linestyle='--', alpha=0.7)\n",
    "\n",
    "plt.tight_layout()\n",
    "\n",
    "plt.show()"
   ]
  },
  {
   "cell_type": "code",
   "execution_count": null,
   "id": "a8db4e6d-bc34-4af0-8fb4-20a7197e85a1",
   "metadata": {},
   "outputs": [],
   "source": [
    "top_5_sellers_sharing_products = sellers_same_products.sort_values(by='sellers_count', ascending=False).head(5)"
   ]
  },
  {
   "cell_type": "markdown",
   "id": "2d7ed307-f75d-4a75-a4cc-e9da13bcf079",
   "metadata": {},
   "source": [
    "**Desempacotando a coluna de preços, para que cada valor tenha sua prórpia linha**"
   ]
  },
  {
   "cell_type": "code",
   "execution_count": null,
   "id": "d79b37c7-703f-4faa-956d-d33688a13781",
   "metadata": {},
   "outputs": [],
   "source": [
    "top_5_sellers_sharing_products_expanded = top_5_sellers_sharing_products.explode('prices')\n",
    "top_5_sellers_sharing_products_expanded"
   ]
  },
  {
   "cell_type": "markdown",
   "id": "80f49e05-6b1c-4be7-9d06-5f04c005fb86",
   "metadata": {},
   "source": [
    "### Visualização através do Boxplot"
   ]
  },
  {
   "cell_type": "code",
   "execution_count": null,
   "id": "0b6d10b7-7517-43f2-be02-e6da3f65a29d",
   "metadata": {},
   "outputs": [],
   "source": [
    "plt.figure(figsize=(9, 6))\n",
    "sns.boxplot(data=top_5_sellers_sharing_products_expanded, x='product_name', y='prices')\n",
    "plt.title('Distribuição dos preços dos 5 produtos mais compartilhados por sellers', fontsize=16)\n",
    "plt.xlabel('Produto', fontsize=12)\n",
    "plt.ylabel('Preço (R$)', fontsize=12)\n",
    "plt.xticks(rotation=45)\n",
    "plt.tight_layout()\n",
    "plt.show()"
   ]
  },
  {
   "cell_type": "markdown",
   "id": "3a43fc85-4a43-4398-be2e-941a22e8fa90",
   "metadata": {
    "jp-MarkdownHeadingCollapsed": true
   },
   "source": [
    "# Top 10 melhores sellers (com mais reviews positivas)"
   ]
  },
  {
   "cell_type": "code",
   "execution_count": null,
   "id": "d6c0e4a8-41d4-417b-a954-cbb58b6284cf",
   "metadata": {},
   "outputs": [],
   "source": [
    "sellers_df_names = sellers_df_cleaned\n",
    "sellers_df_names['seller_name'] = 'seller' + sellers_df_names['seller_id'].str[:4]"
   ]
  },
  {
   "cell_type": "code",
   "execution_count": null,
   "id": "4e0be254-043e-40d7-80db-eae3830e8917",
   "metadata": {},
   "outputs": [],
   "source": [
    "sellers_df_names.head()"
   ]
  },
  {
   "cell_type": "code",
   "execution_count": null,
   "id": "eb633a87-8d84-4676-a604-f76d45a61bc6",
   "metadata": {},
   "outputs": [],
   "source": [
    "order_items_df_cleaned.head()"
   ]
  },
  {
   "cell_type": "markdown",
   "id": "304adccf-cc72-47fa-812b-37ec28789183",
   "metadata": {},
   "source": [
    "- Merge de sellers e order_items"
   ]
  },
  {
   "cell_type": "code",
   "execution_count": null,
   "id": "dc0f6a17-97f6-483a-87d0-7bd874577883",
   "metadata": {},
   "outputs": [],
   "source": [
    "merge_df4 = pd.merge(sellers_df_names, order_items_df_cleaned, on='seller_id', how='inner')\n",
    "merge_df4.head()"
   ]
  },
  {
   "cell_type": "markdown",
   "id": "9c71469e-0dd3-4740-b75f-12c4c742c759",
   "metadata": {},
   "source": [
    "- Merge com orders"
   ]
  },
  {
   "cell_type": "code",
   "execution_count": null,
   "id": "e643b5bd-793d-430f-9fb1-9813709012ce",
   "metadata": {},
   "outputs": [],
   "source": [
    "merge_df4 = pd.merge(merge_df4, orders_df_cleaned2, on='order_id', how='inner')\n",
    "merge_df4.head()"
   ]
  },
  {
   "cell_type": "markdown",
   "id": "d2c326a6-a7f6-41af-b2fd-cd07d3f33cb6",
   "metadata": {},
   "source": [
    "- Merge com reviews (obterei apenas os produtos que possuem reviews, pois se um produto não tem review, ele não vai contribuir para a análise)"
   ]
  },
  {
   "cell_type": "code",
   "execution_count": null,
   "id": "c9048d74-3d64-4ea9-9e34-405286aa3e53",
   "metadata": {},
   "outputs": [],
   "source": [
    "merge_df4 = pd.merge(merge_df4, order_reviews_df_cleaned, on='order_id', how='inner')\n",
    "merge_df4.head()"
   ]
  },
  {
   "cell_type": "markdown",
   "id": "7e0a3fa7-21fe-44c8-b462-50b144937b4a",
   "metadata": {},
   "source": [
    "### Valores Faltantes"
   ]
  },
  {
   "cell_type": "code",
   "execution_count": null,
   "id": "c540f52e-abb8-4ef8-920e-01747021edc0",
   "metadata": {},
   "outputs": [],
   "source": [
    "merge_df4.isnull().sum()"
   ]
  },
  {
   "cell_type": "markdown",
   "id": "84461d08-bdcc-471c-900d-0e12069f2624",
   "metadata": {},
   "source": [
    "### Duplicatas"
   ]
  },
  {
   "cell_type": "code",
   "execution_count": null,
   "id": "39e8213f-36c4-4c41-acbe-d2f8452a92dd",
   "metadata": {},
   "outputs": [],
   "source": [
    "merge_df4.duplicated().sum()"
   ]
  },
  {
   "cell_type": "code",
   "execution_count": null,
   "id": "9ad2b15e-427b-40e0-b2fd-f22652dbed13",
   "metadata": {},
   "outputs": [],
   "source": [
    "merge_df4.shape"
   ]
  },
  {
   "cell_type": "code",
   "execution_count": null,
   "id": "e50ff94c-7aa0-4434-8449-7e234e02f9c0",
   "metadata": {},
   "outputs": [],
   "source": [
    "merge_df4.head(15)"
   ]
  },
  {
   "cell_type": "code",
   "execution_count": null,
   "id": "ea704a12-cb95-4f2c-9725-a92574ab1cc6",
   "metadata": {},
   "outputs": [],
   "source": [
    "merge_df4.seller_name.value_counts()"
   ]
  },
  {
   "cell_type": "markdown",
   "id": "9262ed76-3749-44d1-9a5d-61bad39b63df",
   "metadata": {},
   "source": [
    "**Para a minha análise, eu resolvi filtrar os sellers com um número mínimo de Reviews**\n",
    "\n",
    "Isso para que sellers com poucos reviews não enviesem a base. Portanto, a **média bayesiana** vai ser utilizada, pois ela garante que à medida que o número de avaliações aumente, o peso das avaliações individuais cresce.\n",
    "\n",
    "media_bayesiana = (valor_minimo_reviews * nota_media_geral) + soma_notas_seller / valor_minimo_reviews + numero_avaliacoes_sellers\n",
    "                    \n",
    "Eu estabeleci que valor mínimo de reviews para a análise será de **25**"
   ]
  },
  {
   "cell_type": "code",
   "execution_count": null,
   "id": "1cce1884-1e04-42db-8e86-a988290420aa",
   "metadata": {},
   "outputs": [],
   "source": [
    "merge_df4.head()"
   ]
  },
  {
   "cell_type": "code",
   "execution_count": null,
   "id": "f30b6354-0899-4efe-9058-ad1415a4b6a3",
   "metadata": {},
   "outputs": [],
   "source": [
    "merge_df4.shape"
   ]
  },
  {
   "cell_type": "markdown",
   "id": "c65b8d1e-32a7-4b6d-a0bc-ad86caa6ad2c",
   "metadata": {},
   "source": [
    "**Calculando a média geral de todas as reviews**"
   ]
  },
  {
   "cell_type": "code",
   "execution_count": null,
   "id": "b818541d-2d69-4f5b-a9c1-67fc59c5d139",
   "metadata": {},
   "outputs": [],
   "source": [
    "general_mean = merge_df4['review_score'].mean()\n",
    "general_mean"
   ]
  },
  {
   "cell_type": "markdown",
   "id": "7f6680de-0e6f-42cf-ae44-57f60f2e8580",
   "metadata": {},
   "source": [
    "**Valor mínimo de reviews**"
   ]
  },
  {
   "cell_type": "code",
   "execution_count": null,
   "id": "69ea690c-a0ed-4378-b664-f573f5cd6d5b",
   "metadata": {},
   "outputs": [],
   "source": [
    "min_review_value = 25"
   ]
  },
  {
   "cell_type": "markdown",
   "id": "e0093eba-130f-4a11-a099-d3e58243b3ba",
   "metadata": {},
   "source": [
    "**Obtendo o total dos reviews score por seller e a contagem de reviews com agrupamento**"
   ]
  },
  {
   "cell_type": "code",
   "execution_count": null,
   "id": "af4b172d-6b4d-40be-8841-49c3205c85bc",
   "metadata": {},
   "outputs": [],
   "source": [
    "reviews_score_per_seller = merge_df4.groupby('seller_name').agg(\n",
    "    review_count = ('review_score', 'count'),\n",
    "    review_score_total = ('review_score', 'sum')\n",
    ").reset_index()"
   ]
  },
  {
   "cell_type": "code",
   "execution_count": null,
   "id": "e5d8e7ec-6f7f-46f1-b87c-184e18fb2af0",
   "metadata": {
    "scrolled": true
   },
   "outputs": [],
   "source": [
    "reviews_score_per_seller.head()"
   ]
  },
  {
   "cell_type": "markdown",
   "id": "37b2013c-9218-4cec-8ded-6cc4ca36ba29",
   "metadata": {},
   "source": [
    "**Calculando a média bayesiana**\n",
    "\n",
    "media_bayesiana = (valor_minimo_reviews * nota_media_geral) + soma_notas_seller / (valor_minimo_reviews + numero_avaliacoes_sellers)"
   ]
  },
  {
   "cell_type": "code",
   "execution_count": null,
   "id": "97440814-e139-4879-a5f3-0b0b6fca985c",
   "metadata": {},
   "outputs": [],
   "source": [
    "reviews_score_per_seller['bayesian_avg'] = (((min_review_value*general_mean) + reviews_score_per_seller['review_score_total']) / (min_review_value + reviews_score_per_seller['review_count'])).round(2)"
   ]
  },
  {
   "cell_type": "code",
   "execution_count": null,
   "id": "8ca2d565-6f3c-4a6c-9607-6ce09aaf44a2",
   "metadata": {},
   "outputs": [],
   "source": [
    "reviews_score_per_seller"
   ]
  },
  {
   "cell_type": "markdown",
   "id": "630ad1a7-e7ac-4f95-a080-acab14ff4ac2",
   "metadata": {},
   "source": [
    "**Ordenando pela média bayesiana**"
   ]
  },
  {
   "cell_type": "code",
   "execution_count": null,
   "id": "a2d203ed-1003-4b71-9c40-f701ea6b954d",
   "metadata": {},
   "outputs": [],
   "source": [
    "reviews_score_per_seller = reviews_score_per_seller.sort_values(by='bayesian_avg', ascending = False)"
   ]
  },
  {
   "cell_type": "code",
   "execution_count": null,
   "id": "31de45d7-2fd2-46cc-bc75-40c8a3447f1e",
   "metadata": {},
   "outputs": [],
   "source": [
    "reviews_score_per_seller.reset_index(drop=True)"
   ]
  },
  {
   "cell_type": "markdown",
   "id": "da56ed11-3f5a-4a73-affb-5319a50b3a1c",
   "metadata": {},
   "source": [
    "### Exibindo em gráficos"
   ]
  },
  {
   "cell_type": "code",
   "execution_count": null,
   "id": "2b65d923-7ac4-4aea-90e9-19b8a9a244ff",
   "metadata": {},
   "outputs": [],
   "source": [
    "top10_best_sellers = reviews_score_per_seller.head(10)"
   ]
  },
  {
   "cell_type": "code",
   "execution_count": null,
   "id": "6b6d98b1-7cef-4453-8d11-fdea163b46b7",
   "metadata": {},
   "outputs": [],
   "source": [
    "top10_worst_sellers = reviews_score_per_seller.tail(10)"
   ]
  },
  {
   "cell_type": "markdown",
   "id": "8898f4d3-c7d9-4b40-b977-0b1b3585e42c",
   "metadata": {},
   "source": [
    "**Teste de normalidade Shapiro Wilk**\n",
    "\n",
    "Se p-value > 0,05\n",
    "\n",
    "Ho = segue uma distribuição normal\n",
    "\n",
    "Se p-value < 0,05\n",
    "\n",
    "Ha = não segue uma distribuição normal"
   ]
  },
  {
   "cell_type": "code",
   "execution_count": null,
   "id": "ed1aede9-24a9-4f0b-8656-d117f9f21a52",
   "metadata": {},
   "outputs": [],
   "source": [
    "import scipy.stats as stats"
   ]
  },
  {
   "cell_type": "code",
   "execution_count": null,
   "id": "1c00f36d-d0cd-4748-92af-8717493ff5f5",
   "metadata": {},
   "outputs": [],
   "source": [
    "stat, p_value = stats.shapiro(top10_best_sellers['bayesian_avg'])\n",
    "print(f'stat: {stat}')\n",
    "print(f'p-value: {p_value}')"
   ]
  },
  {
   "cell_type": "markdown",
   "id": "0467826c-7c45-4547-b375-3dc94ca8a30d",
   "metadata": {},
   "source": [
    "**Top 10 maiores sellers não segue distribuição normal**"
   ]
  },
  {
   "cell_type": "code",
   "execution_count": null,
   "id": "5dce348f-0571-453b-aca0-2964aef709d9",
   "metadata": {},
   "outputs": [],
   "source": [
    "stat, p_value = stats.shapiro(top10_worst_sellers['bayesian_avg'])\n",
    "print(f'stat: {stat}')\n",
    "print(f'p-value: {p_value}')"
   ]
  },
  {
   "cell_type": "markdown",
   "id": "6d1368c7-4b66-444d-9410-a6a316379477",
   "metadata": {},
   "source": [
    "**Top 10 piores sellers não segue distribuição normal**"
   ]
  },
  {
   "cell_type": "markdown",
   "id": "0c7c624c-e67e-4239-b443-b7d2b5347056",
   "metadata": {},
   "source": [
    "### Visualização através do gráfico de linhas"
   ]
  },
  {
   "cell_type": "code",
   "execution_count": null,
   "id": "42a3f897-8017-48ef-9cf8-e3b34e95d725",
   "metadata": {},
   "outputs": [],
   "source": [
    "plt.figure(figsize=(8,6))\n",
    "sns.lineplot(x='seller_name', y='bayesian_avg', data=top10_best_sellers)\n",
    "plt.title('Top 10 melhores sellers', fontsize=16)\n",
    "plt.ylabel('Média bayesiana', fontsize=12)\n",
    "plt.xlabel('Vendedores', fontsize=12)\n",
    "plt.grid(True)\n",
    "plt.xticks(rotation=45)\n",
    "plt.tight_layout()\n",
    "\n",
    "plt.show()"
   ]
  },
  {
   "cell_type": "markdown",
   "id": "242f8608-ec27-4912-892f-66ab0786eebf",
   "metadata": {
    "jp-MarkdownHeadingCollapsed": true
   },
   "source": [
    "# Top 10 piores sellers(com mais reviews negativas)"
   ]
  },
  {
   "cell_type": "code",
   "execution_count": null,
   "id": "d3dace56-bf95-4805-8b71-62070b01aad2",
   "metadata": {},
   "outputs": [],
   "source": [
    "plt.figure(figsize=(8,6))\n",
    "sns.lineplot(x='seller_name', y='bayesian_avg', data=top10_worst_sellers)\n",
    "plt.title('Top 10 melhores sellers', fontsize=16)\n",
    "plt.ylabel('Média bayesiana', fontsize=12)\n",
    "plt.xlabel('Vendedores', fontsize=12)\n",
    "plt.grid(True)\n",
    "plt.xticks(rotation=45)\n",
    "plt.tight_layout()\n",
    "\n",
    "plt.show()"
   ]
  },
  {
   "cell_type": "markdown",
   "id": "f2ba2716-8e74-45a4-862c-29b23595e3a0",
   "metadata": {
    "jp-MarkdownHeadingCollapsed": true
   },
   "source": [
    "# Existe relação entre a quantidade de vendas e a quantidade de reviews para os sellers? É possível identificar aumento ou queda na venda de um seller com base nas avaliações do que já foi vendido no passado?"
   ]
  },
  {
   "cell_type": "markdown",
   "id": "ee2485bb-ab9e-47c3-bf65-82643ca3c8b3",
   "metadata": {},
   "source": [
    "## Existe relação entre a quantidade de vendas e a quantidade de reviews para os sellers?"
   ]
  },
  {
   "cell_type": "markdown",
   "id": "f0d53fe0-3707-4e23-988a-e66c41df9bea",
   "metadata": {},
   "source": [
    "Para verificar a relação entre a quantidade de vendas e a quantidade de reviews, resolvi utilizar a **correlação linear** que é representada pelo **Coeficiente de correlação de Pearson(r)**.\n",
    "\n",
    "Este coeficiente varia de -1 e +1.\n",
    "\n",
    "Se **r > 0**, à medida que a quantidade de vendas aumenta, a quantidade de reviews também aumenta.<br>\n",
    "Se **r < 0**, à medida que a quantidade de vendas aumenta, a quantidade de reviews tende a diminuir. <br>\n",
    "Se **r = 0**, não há relação linear entre as variáveis."
   ]
  },
  {
   "cell_type": "markdown",
   "id": "3fea34d4-fc62-4248-86a2-d379f39805ae",
   "metadata": {},
   "source": [
    "### Merges"
   ]
  },
  {
   "cell_type": "markdown",
   "id": "cfea9e7f-6d29-4078-b166-1d4a368aa6ea",
   "metadata": {},
   "source": [
    "- Sellers e Order Items"
   ]
  },
  {
   "cell_type": "code",
   "execution_count": null,
   "id": "f9d8ca40-3f6f-459a-a57a-1dcfff912d06",
   "metadata": {},
   "outputs": [],
   "source": [
    "merge_df5 = pd.merge(sellers_df_names, order_items_df_cleaned, on='seller_id', how='inner')\n",
    "merge_df5.head()"
   ]
  },
  {
   "cell_type": "markdown",
   "id": "f9002420-0e1b-42e4-a123-dc5c42aa935d",
   "metadata": {},
   "source": [
    "- Merge com orders"
   ]
  },
  {
   "cell_type": "code",
   "execution_count": null,
   "id": "965d9df0-ae77-47f3-bfe8-830fb5219449",
   "metadata": {},
   "outputs": [],
   "source": [
    "merge_df5 = pd.merge(merge_df5, orders_df_cleaned2, on='order_id', how='inner')\n",
    "merge_df5.head()"
   ]
  },
  {
   "cell_type": "markdown",
   "id": "61f95a54-7a1d-4666-b0a7-a12a4eda3191",
   "metadata": {},
   "source": [
    "- Left merge com reviews para manter todos os produtos vendidos e não só os que possuem reviews"
   ]
  },
  {
   "cell_type": "code",
   "execution_count": null,
   "id": "6180d5fb-18f5-4ec1-99ff-9d2b28a93aad",
   "metadata": {},
   "outputs": [],
   "source": [
    "merge_df5 = pd.merge(merge_df5, order_reviews_df_cleaned, on='order_id', how='left')\n",
    "merge_df5.head()"
   ]
  },
  {
   "cell_type": "code",
   "execution_count": null,
   "id": "2d477c2a-eb16-40e2-baa0-35c3488f77c1",
   "metadata": {},
   "outputs": [],
   "source": [
    "merge_df5.shape"
   ]
  },
  {
   "cell_type": "markdown",
   "id": "60255f13-7395-4fd8-829f-ef2d582d6619",
   "metadata": {},
   "source": [
    "### Valores nulos"
   ]
  },
  {
   "cell_type": "code",
   "execution_count": null,
   "id": "7d77bc20-cd5c-4950-9a25-57fa0f47e68c",
   "metadata": {},
   "outputs": [],
   "source": [
    "merge_df5.isnull().sum()"
   ]
  },
  {
   "cell_type": "markdown",
   "id": "c68bb451-9120-4648-8d21-211e8e601bf4",
   "metadata": {},
   "source": [
    "### Duplicatas"
   ]
  },
  {
   "cell_type": "code",
   "execution_count": null,
   "id": "7eabac48-0570-46cf-8701-3bd8491a16db",
   "metadata": {},
   "outputs": [],
   "source": [
    "merge_df5.duplicated().sum()"
   ]
  },
  {
   "cell_type": "markdown",
   "id": "951ab1c3-25e8-44ef-a418-309a94a77f2e",
   "metadata": {},
   "source": [
    "### Agregação para obter a quantidade de produtos vendidos e a quantidade de reviews realizadas"
   ]
  },
  {
   "cell_type": "code",
   "execution_count": null,
   "id": "c35ed6bc-0bc6-441e-8460-359c3ea32aba",
   "metadata": {},
   "outputs": [],
   "source": [
    "correlation_sellers_reviews = merge_df5.groupby('seller_name').agg(\n",
    "    qnty_products_sold = ('seller_name', 'count'),\n",
    "    count_reviews = ('review_score', lambda x : x.notna().sum())\n",
    ").reset_index()"
   ]
  },
  {
   "cell_type": "code",
   "execution_count": null,
   "id": "a4072e72-1fb8-4881-a472-a87ef29c7fd4",
   "metadata": {},
   "outputs": [],
   "source": [
    "correlation_sellers_reviews.head()"
   ]
  },
  {
   "cell_type": "markdown",
   "id": "b346bbcc-fdd4-4877-b8a3-c24a53a1801f",
   "metadata": {},
   "source": [
    "Criando uma coluna para evidenciar a difereça entre produtos vendidos e reviews realizadas"
   ]
  },
  {
   "cell_type": "code",
   "execution_count": null,
   "id": "31c383c3-54c8-4e89-acdf-4cd312cff8f8",
   "metadata": {},
   "outputs": [],
   "source": [
    "correlation_sellers_reviews['qnty_products_without_reviews'] = (\n",
    "    correlation_sellers_reviews['qnty_products_sold'] - correlation_sellers_reviews['count_reviews']\n",
    ")"
   ]
  },
  {
   "cell_type": "markdown",
   "id": "d55cd76a-0fcb-45d2-ba8b-2f0afd52d281",
   "metadata": {},
   "source": [
    "Abaixo é possível observar que **poucos clientes não deixam reviews sobre o produto**"
   ]
  },
  {
   "cell_type": "code",
   "execution_count": null,
   "id": "13fd1769-e4f8-4586-85a9-2b2be39a5bad",
   "metadata": {},
   "outputs": [],
   "source": [
    "correlation_sellers_reviews = correlation_sellers_reviews.sort_values(by='qnty_products_without_reviews', ascending=False).reset_index(drop=True)\n",
    "correlation_sellers_reviews"
   ]
  },
  {
   "cell_type": "markdown",
   "id": "b49566cc-86cb-43ae-8cec-365e606c04f3",
   "metadata": {},
   "source": [
    "### Analisando a correlação através de um scatter plot\n",
    "\n",
    "A correlação é positiva e muito forte. Isso significa que **quanto mais produtos vendidos, maior tende a ser a quantidade de reviews recebidas.**"
   ]
  },
  {
   "cell_type": "code",
   "execution_count": null,
   "id": "3902a4b6-1d62-4733-bc0a-ed5c63f48c5a",
   "metadata": {},
   "outputs": [],
   "source": [
    "plt.scatter(correlation_sellers_reviews.qnty_products_sold, correlation_sellers_reviews.count_reviews)\n",
    "plt.title('Correlação entre a quantidade de produtos vendidos e a quantidade de reviews')\n",
    "plt.xlabel('Quantidade de produtos vendidos')\n",
    "plt.ylabel('Quantidade de reviews')\n",
    "plt.grid(True)\n",
    "plt.show()"
   ]
  },
  {
   "cell_type": "code",
   "execution_count": null,
   "id": "9a8ceab6-fa6f-4034-9c0e-6f1fbac2ba2b",
   "metadata": {},
   "outputs": [],
   "source": [
    "correlation = correlation_sellers_reviews['qnty_products_sold'].corr(correlation_sellers_reviews['count_reviews'], method='pearson')"
   ]
  },
  {
   "cell_type": "code",
   "execution_count": null,
   "id": "5f03acbb-d2d8-4085-ab46-a36c6404d540",
   "metadata": {},
   "outputs": [],
   "source": [
    "print(f\"Correlação entre quantidade de produtos vendidos e reviews: {correlation}\")"
   ]
  },
  {
   "cell_type": "markdown",
   "id": "26ace56a-7fde-4093-a2a2-dd5220051a26",
   "metadata": {},
   "source": [
    "## É possível identificar aumento ou queda na venda de um seller com base nas avaliações do que já foi vendido no passado?\n",
    "\n",
    "A minha ideia é filtrar o dataset de orders novamente, porém considerando a **data mínima anterior(min_order_date) utilizada para filtrar os últimos 12 meses, como data máxima**. Dessa forma, eu subtraio 12 meses e terei os **dados do passado**."
   ]
  },
  {
   "cell_type": "markdown",
   "id": "9306fb51-bb60-4068-a3a1-35b78b2104e9",
   "metadata": {},
   "source": [
    "### Carregando o dataset novamente para evitar conflitos"
   ]
  },
  {
   "cell_type": "code",
   "execution_count": null,
   "id": "f3d78f95-60dc-4675-af2e-b4b2f8588ac1",
   "metadata": {},
   "outputs": [],
   "source": [
    "orders_dataset2 = pd.read_csv('/home/matsa/Documents/project_sprint02/data/olist_orders_dataset.csv')"
   ]
  },
  {
   "cell_type": "code",
   "execution_count": null,
   "id": "68bf5604-9ee3-4e9b-97c6-061fbe276fef",
   "metadata": {},
   "outputs": [],
   "source": [
    "orders_dataset2.dropna(axis=0, inplace=True)"
   ]
  },
  {
   "cell_type": "code",
   "execution_count": null,
   "id": "448484c5-51d9-46ab-a2ae-691246f19a1f",
   "metadata": {},
   "outputs": [],
   "source": [
    "orders_dataset2['order_approved_at'] = pd.to_datetime(orders_dataset2.order_approved_at)"
   ]
  },
  {
   "cell_type": "code",
   "execution_count": null,
   "id": "0f02b83f-085b-4417-8338-103b062da61b",
   "metadata": {},
   "outputs": [],
   "source": [
    "max_order_date2 = min_order_date\n",
    "max_order_date2"
   ]
  },
  {
   "cell_type": "code",
   "execution_count": null,
   "id": "1709d50c-23bd-4ab4-b982-5f1d0119f426",
   "metadata": {},
   "outputs": [],
   "source": [
    "min_order_date2 = max_order_date2 - pd.DateOffset(months=12)\n",
    "min_order_date2"
   ]
  },
  {
   "cell_type": "markdown",
   "id": "17e313a4-9179-4c53-acb6-d7ca38a94208",
   "metadata": {},
   "source": [
    "### Pegando as datas nos intervalos definidos"
   ]
  },
  {
   "cell_type": "code",
   "execution_count": null,
   "id": "56007951-e64e-46f7-80a1-a18ad5fed301",
   "metadata": {},
   "outputs": [],
   "source": [
    "past_orders_df_data = orders_dataset2.loc[(orders_dataset2.order_approved_at >= min_order_date2) &\n",
    "                                    (orders_dataset2.order_approved_at <= max_order_date2)]"
   ]
  },
  {
   "cell_type": "code",
   "execution_count": null,
   "id": "e58d5c84-8cd9-41c6-962e-0e93e5b8a714",
   "metadata": {},
   "outputs": [],
   "source": [
    "past_orders_df_data"
   ]
  },
  {
   "cell_type": "markdown",
   "id": "ce1ede4d-92dd-426f-a7ad-ebd03ceb36be",
   "metadata": {},
   "source": [
    "**Data mínima**"
   ]
  },
  {
   "cell_type": "code",
   "execution_count": null,
   "id": "3a6c3502-c07e-433a-a49b-b52c410b2f68",
   "metadata": {},
   "outputs": [],
   "source": [
    "past_orders_df_data.order_approved_at.min()"
   ]
  },
  {
   "cell_type": "markdown",
   "id": "439e02e8-1eac-4384-ac72-d513600ab3de",
   "metadata": {},
   "source": [
    "**Data máxima**"
   ]
  },
  {
   "cell_type": "code",
   "execution_count": null,
   "id": "5826a60c-1a3c-45bb-9f62-b94508c095ef",
   "metadata": {},
   "outputs": [],
   "source": [
    "past_orders_df_data.order_approved_at.max()"
   ]
  },
  {
   "cell_type": "markdown",
   "id": "c212fac7-963f-42e0-b58f-3d575fed1961",
   "metadata": {},
   "source": [
    "### Excluindo colunas"
   ]
  },
  {
   "cell_type": "code",
   "execution_count": null,
   "id": "b5da20e0-61e9-412a-b854-ceb23f8d8d99",
   "metadata": {},
   "outputs": [],
   "source": [
    "columns_drop = orders_dataset.columns[[3,5,6,7]]"
   ]
  },
  {
   "cell_type": "code",
   "execution_count": null,
   "id": "7ac19e52-0ba9-4d8d-922d-e17490a8e670",
   "metadata": {},
   "outputs": [],
   "source": [
    "past_orders_df_data = past_orders_df_data.drop(columns=columns_drop, axis=1)"
   ]
  },
  {
   "cell_type": "markdown",
   "id": "9ad1d383-818f-422f-8cc5-1c924e1b9864",
   "metadata": {},
   "source": [
    "### Merges"
   ]
  },
  {
   "cell_type": "markdown",
   "id": "481650c5-50e0-4e2c-bcc4-11bc47301e70",
   "metadata": {},
   "source": [
    "- Seller e Order Items"
   ]
  },
  {
   "cell_type": "code",
   "execution_count": null,
   "id": "7cb50902-aa6e-4133-9dc9-bd2159d0ba7f",
   "metadata": {},
   "outputs": [],
   "source": [
    "merge_df6 = pd.merge(sellers_df_cleaned, order_items_df_cleaned, on='seller_id', how='inner')"
   ]
  },
  {
   "cell_type": "markdown",
   "id": "4168f89d-df58-45b4-98f3-843178b64736",
   "metadata": {},
   "source": [
    "- Orders"
   ]
  },
  {
   "cell_type": "code",
   "execution_count": null,
   "id": "6b456172-21d5-45c6-be13-3aa87bd01af9",
   "metadata": {},
   "outputs": [],
   "source": [
    "merge_df6 = pd.merge(merge_df6, past_orders_df_data, on='order_id', how='inner')"
   ]
  },
  {
   "cell_type": "markdown",
   "id": "70165dca-795e-432a-8ce0-d4777a4a7bf7",
   "metadata": {},
   "source": [
    "- Reviews"
   ]
  },
  {
   "cell_type": "code",
   "execution_count": null,
   "id": "a8c10621-c6fc-4ba3-a9ed-67a85b4faa6b",
   "metadata": {},
   "outputs": [],
   "source": [
    "merge_df6 = pd.merge(merge_df6, order_reviews_df_cleaned, on='order_id', how='left')"
   ]
  },
  {
   "cell_type": "code",
   "execution_count": null,
   "id": "f1c64892-682f-4362-8785-90924be5c2be",
   "metadata": {},
   "outputs": [],
   "source": [
    "merge_df6.head()"
   ]
  },
  {
   "cell_type": "markdown",
   "id": "1c05f24d-f752-4bf3-9e9d-9b14b8834e3f",
   "metadata": {},
   "source": [
    "### Agregação para obter a quantidade de produtos vendidos e a quantidade de reviews realizadas"
   ]
  },
  {
   "cell_type": "code",
   "execution_count": null,
   "id": "e4aaf4c3-0d47-4760-96e3-1c76d5e1c06c",
   "metadata": {},
   "outputs": [],
   "source": [
    "correlation_sellers_reviews_past = merge_df6.groupby('seller_name').agg(\n",
    "    qnty_products_sold = ('seller_name', 'count'),\n",
    "    count_reviews = ('review_score', lambda x : x.notna().sum())\n",
    ").reset_index()"
   ]
  },
  {
   "cell_type": "markdown",
   "id": "aabdb75f-1716-479f-9a9f-63db46f5c815",
   "metadata": {},
   "source": [
    "Criando a coluna de quantidade de produtos sem reviews"
   ]
  },
  {
   "cell_type": "code",
   "execution_count": null,
   "id": "73c5f779-f488-4c25-b7e2-aa5d449fd78c",
   "metadata": {},
   "outputs": [],
   "source": [
    "correlation_sellers_reviews_past['qnty_products_without_reviews'] = (\n",
    "    correlation_sellers_reviews_past['qnty_products_sold'] - correlation_sellers_reviews_past['count_reviews']\n",
    ")"
   ]
  },
  {
   "cell_type": "code",
   "execution_count": null,
   "id": "8ca30843-ef3e-46d0-9506-87420a8087e4",
   "metadata": {},
   "outputs": [],
   "source": [
    "correlation_sellers_reviews_past = correlation_sellers_reviews_past.sort_values(by='qnty_products_without_reviews', ascending=False).reset_index(drop=True)\n",
    "correlation_sellers_reviews_past"
   ]
  },
  {
   "cell_type": "markdown",
   "id": "96fc06ff-2a03-4737-a844-4f22d357880d",
   "metadata": {},
   "source": [
    "### Merge dos dataframes dos dois intervalos de tempo utilizados"
   ]
  },
  {
   "cell_type": "code",
   "execution_count": null,
   "id": "3f8d0a35-eb1a-4e6e-a2d3-30b743afbe2d",
   "metadata": {},
   "outputs": [],
   "source": [
    "dates_interval_comparasion = pd.merge(correlation_sellers_reviews_past, correlation_sellers_reviews, on='seller_name', how='inner', suffixes=('_past', '_current'))"
   ]
  },
  {
   "cell_type": "code",
   "execution_count": null,
   "id": "5a3ffd43-cc37-48f2-909b-9afb0a4fc2ee",
   "metadata": {},
   "outputs": [],
   "source": [
    "dates_interval_comparasion.head()"
   ]
  },
  {
   "cell_type": "markdown",
   "id": "6b57a243-d6c8-4aac-91ea-7136790873de",
   "metadata": {},
   "source": [
    "### Ordenação da quantidade de produtos vendidos dos intervalos de tempo para cada seller"
   ]
  },
  {
   "cell_type": "code",
   "execution_count": null,
   "id": "0fe512c9-979f-475c-a899-de4abb78ecab",
   "metadata": {},
   "outputs": [],
   "source": [
    "dates_interval_comparasion = dates_interval_comparasion.sort_values(by=['qnty_products_sold_past', 'qnty_products_sold_current'], ascending=False).reset_index(drop=True)"
   ]
  },
  {
   "cell_type": "code",
   "execution_count": null,
   "id": "d84d473f-04a0-42ce-b702-52eaec8e2870",
   "metadata": {},
   "outputs": [],
   "source": [
    "dates_interval_comparasion"
   ]
  },
  {
   "cell_type": "markdown",
   "id": "5d645a8b-e874-45f7-92b1-5997da0665b1",
   "metadata": {},
   "source": [
    "### Visualização através do gráfico de barras\n",
    "\n",
    "Comparação da quantidade de produtos vendidos nos intervalos de tempos dos **vendedores que mais vendem**"
   ]
  },
  {
   "cell_type": "code",
   "execution_count": null,
   "id": "216f1f2b-b496-4bea-ada2-1a72be28d52a",
   "metadata": {},
   "outputs": [],
   "source": [
    "top10_sellers = dates_interval_comparasion.head(10)"
   ]
  },
  {
   "cell_type": "code",
   "execution_count": null,
   "id": "c1b14013-9eec-44ad-8062-ca1447be772b",
   "metadata": {},
   "outputs": [],
   "source": [
    "top10_sellers_long = pd.melt(top10_sellers, \n",
    "                            id_vars=['seller_name'], \n",
    "                            value_vars=['qnty_products_sold_past', 'qnty_products_sold_current'],\n",
    "                            var_name='period', \n",
    "                            value_name='quantity_sold')\n",
    "\n",
    "plt.figure(figsize=(10, 6))\n",
    "sns.barplot(x='seller_name', y='quantity_sold', hue='period', data=top10_sellers_long)\n",
    "\n",
    "plt.title('Comparação de Vendas Passadas e Atuais dos 10 Maiores Vendedores')\n",
    "plt.xlabel('Vendedores')\n",
    "plt.ylabel('Quantidade de Produtos Vendidos')\n",
    "plt.xticks(rotation=45) \n",
    "plt.grid(axis='y', linestyle='--', alpha=0.7)\n",
    "\n",
    "\n",
    "plt.tight_layout()\n",
    "plt.show()"
   ]
  },
  {
   "cell_type": "markdown",
   "id": "14b2884c-7fd8-460e-83e2-afd5a988befd",
   "metadata": {
    "jp-MarkdownHeadingCollapsed": true
   },
   "source": [
    "# Houve inflação no preço dos produtos ao passar do tempo? Se houve, de quanto foi a variação desta inflação em % e em R$?"
   ]
  },
  {
   "cell_type": "code",
   "execution_count": null,
   "id": "b82d69a6-2d4b-4517-b987-866f632f0730",
   "metadata": {},
   "outputs": [],
   "source": [
    "order_items_dataset.head()"
   ]
  },
  {
   "cell_type": "code",
   "execution_count": null,
   "id": "6ad00955-05ed-4edd-b89d-d2ae680f81b4",
   "metadata": {},
   "outputs": [],
   "source": [
    "# Excluindo colunas do Order Items não necessárias para a análise\n",
    "columns_drop = order_items_dataset.columns[[3,4]]\n",
    "order_items_df_cleaned2 = order_items_dataset.drop(columns=columns_drop, axis=1)\n",
    "order_items_df_cleaned2.head()"
   ]
  },
  {
   "cell_type": "code",
   "execution_count": null,
   "id": "f44c7844-79a6-4957-8ded-df3a9c62ad48",
   "metadata": {},
   "outputs": [],
   "source": [
    "products_df_cleaned.head()"
   ]
  },
  {
   "cell_type": "markdown",
   "id": "7742cf9e-db0d-40f4-960d-b4ac0f45b621",
   "metadata": {},
   "source": [
    "### Tratamento dos dataframes orders que serão utilizados"
   ]
  },
  {
   "cell_type": "markdown",
   "id": "40db4f2e-7e8d-482d-9834-0e81366b1447",
   "metadata": {},
   "source": [
    "Primeiro intervalo de tempo de orders 2017-2018"
   ]
  },
  {
   "cell_type": "code",
   "execution_count": null,
   "id": "0863b478-b632-47ab-b664-ecd1d9cc4772",
   "metadata": {},
   "outputs": [],
   "source": [
    "orders_df_cleaned.columns "
   ]
  },
  {
   "cell_type": "code",
   "execution_count": null,
   "id": "4586e140-afe1-41fe-8234-2c62fd4cfcc7",
   "metadata": {},
   "outputs": [],
   "source": [
    "# Excluindo colunas não necessárias para análise\n",
    "columns_drop = orders_df_cleaned.columns[[1,2]]\n",
    "current_orders_df_cleaned = orders_df_cleaned.drop(columns=columns_drop, axis=1)"
   ]
  },
  {
   "cell_type": "code",
   "execution_count": null,
   "id": "fb169e92-0bf9-4bef-bfbe-e34d6f12cf04",
   "metadata": {},
   "outputs": [],
   "source": [
    "current_orders_df_cleaned.head()"
   ]
  },
  {
   "cell_type": "markdown",
   "id": "2a1a0efe-384b-47de-b609-4fe12d2be117",
   "metadata": {},
   "source": [
    "Primeiro intervalo de tempo de orders 2016-2017"
   ]
  },
  {
   "cell_type": "code",
   "execution_count": null,
   "id": "2115e80d-d8ab-408c-bbff-ce88545c23c2",
   "metadata": {},
   "outputs": [],
   "source": [
    "past_orders_df_data.columns"
   ]
  },
  {
   "cell_type": "code",
   "execution_count": null,
   "id": "29add174-d09b-43c2-b64e-8f957b667073",
   "metadata": {},
   "outputs": [],
   "source": [
    "# Excluindo colunas não necessárias para análise\n",
    "columns_drop = past_orders_df_data.columns[[1,2]]\n",
    "past_orders_df_cleaned = past_orders_df_data.drop(columns=columns_drop, axis=1)"
   ]
  },
  {
   "cell_type": "code",
   "execution_count": null,
   "id": "73d04c2e-7907-4aed-88df-bf36ad943d53",
   "metadata": {},
   "outputs": [],
   "source": [
    "past_orders_df_cleaned.head()"
   ]
  },
  {
   "cell_type": "markdown",
   "id": "e2259ad1-6b15-4927-ab11-a5eef69dcb01",
   "metadata": {},
   "source": [
    "### Merges\n",
    "\n"
   ]
  },
  {
   "cell_type": "markdown",
   "id": "cc4f9552-9928-4763-8624-46149fa84615",
   "metadata": {},
   "source": [
    "#### Dataframe intervalo 2017-2018"
   ]
  },
  {
   "cell_type": "markdown",
   "id": "2cfabd4b-e679-4257-9556-550803bc076a",
   "metadata": {},
   "source": [
    "- Products com Order Items"
   ]
  },
  {
   "cell_type": "code",
   "execution_count": null,
   "id": "0dab4b7f-8f96-439c-bddc-1d438ca78024",
   "metadata": {},
   "outputs": [],
   "source": [
    "merge_df7 = pd.merge(products_df_cleaned, order_items_df_cleaned2, on='product_id', how='inner')"
   ]
  },
  {
   "cell_type": "markdown",
   "id": "ca576f08-b818-48a8-8865-04fb58ef8e69",
   "metadata": {},
   "source": [
    "- Orders"
   ]
  },
  {
   "cell_type": "code",
   "execution_count": null,
   "id": "536e641a-8822-474d-9129-6751e99e8397",
   "metadata": {},
   "outputs": [],
   "source": [
    "merge_df7 = pd.merge(merge_df7, current_orders_df_cleaned, on='order_id', how='inner')"
   ]
  },
  {
   "cell_type": "code",
   "execution_count": null,
   "id": "98e03b62-e377-44b4-be7c-407aa9276906",
   "metadata": {},
   "outputs": [],
   "source": [
    "merge_df7.head()"
   ]
  },
  {
   "cell_type": "code",
   "execution_count": null,
   "id": "db3c0501-82f3-466e-9598-0ddebdc4cf95",
   "metadata": {},
   "outputs": [],
   "source": [
    "merge_df7.shape"
   ]
  },
  {
   "cell_type": "code",
   "execution_count": null,
   "id": "427c58bd-669e-4db1-8ca0-cf10a9715c0d",
   "metadata": {},
   "outputs": [],
   "source": [
    "merge_df7.duplicated().sum()"
   ]
  },
  {
   "cell_type": "markdown",
   "id": "b1ad8761-a398-4f9d-8cd1-272f6c5daf8a",
   "metadata": {},
   "source": [
    "### Dataframe intervalo 2016-2017"
   ]
  },
  {
   "cell_type": "markdown",
   "id": "da42a40a-f1bf-4c91-abd6-a37d1d93ed14",
   "metadata": {},
   "source": [
    "- Products Order Items"
   ]
  },
  {
   "cell_type": "code",
   "execution_count": null,
   "id": "82257542-bb20-4ccc-aefd-3dd0c668f31a",
   "metadata": {},
   "outputs": [],
   "source": [
    "merge_df8 = pd.merge(products_df_cleaned, order_items_df_cleaned2, on='product_id', how='inner')"
   ]
  },
  {
   "cell_type": "markdown",
   "id": "8f07a794-a3e5-4690-832f-6b66bd35352b",
   "metadata": {},
   "source": [
    "- Orders"
   ]
  },
  {
   "cell_type": "code",
   "execution_count": null,
   "id": "2343e2f9-d855-4cdb-96a5-d3d83b689adf",
   "metadata": {},
   "outputs": [],
   "source": [
    "merge_df8 = pd.merge(merge_df8, past_orders_df_cleaned, on='order_id', how='inner')"
   ]
  },
  {
   "cell_type": "code",
   "execution_count": null,
   "id": "eeed513b-a850-48df-bb5e-69b99f67b84c",
   "metadata": {},
   "outputs": [],
   "source": [
    "merge_df8.head()"
   ]
  },
  {
   "cell_type": "code",
   "execution_count": null,
   "id": "4f4fca70-5f3f-43eb-b0b5-7495ab29a5d4",
   "metadata": {},
   "outputs": [],
   "source": [
    "merge_df8.shape"
   ]
  },
  {
   "cell_type": "code",
   "execution_count": null,
   "id": "193304a8-2c95-4422-863d-4256fcc99da4",
   "metadata": {},
   "outputs": [],
   "source": [
    "merge_df8.product_id.duplicated().sum()"
   ]
  },
  {
   "cell_type": "code",
   "execution_count": null,
   "id": "11643508-d96b-465b-85b3-db08c6b0cb9c",
   "metadata": {},
   "outputs": [],
   "source": [
    "merge_df8.duplicated().sum()"
   ]
  },
  {
   "cell_type": "code",
   "execution_count": null,
   "id": "20de5b07-3bc1-43b6-8482-306480dabad2",
   "metadata": {},
   "outputs": [],
   "source": [
    "merge_df8.columns"
   ]
  },
  {
   "cell_type": "markdown",
   "id": "17455b7b-0a84-4914-a27f-5e624ff0b7bd",
   "metadata": {},
   "source": [
    "### Agrupamentos"
   ]
  },
  {
   "cell_type": "markdown",
   "id": "76b0cdd0-1960-47ba-876a-7669293c7172",
   "metadata": {},
   "source": [
    "#### Estrutura de raciocínio\n",
    "\n",
    "Como eu possuo 2 dataframes com intervalos de tempos diferentes, a ideia é unir eles pelo **product_id** para que os mesmos produtos possam ser comparados, em épocas diferentes.\n",
    "\n",
    "Resolvi utilizar a **média de preços de um mesmo produto** para visualizar a variação da inflação."
   ]
  },
  {
   "cell_type": "markdown",
   "id": "f71c1fd3-acb7-4d3b-928a-a3e4731f4643",
   "metadata": {},
   "source": [
    "Calculando a média de preços por produto no intervalo 2017-2018"
   ]
  },
  {
   "cell_type": "code",
   "execution_count": null,
   "id": "9d576297-fbaa-442e-b121-127d07587187",
   "metadata": {},
   "outputs": [],
   "source": [
    "mean_price_2017_2018 = merge_df7.groupby(['product_id', 'product_category_name']).agg(\n",
    "    mean_product_value_current = ('price', 'mean')\n",
    ").reset_index()"
   ]
  },
  {
   "cell_type": "code",
   "execution_count": null,
   "id": "65fd0d91-c643-4903-81fb-45722ea949a4",
   "metadata": {},
   "outputs": [],
   "source": [
    "mean_price_2017_2018.head()"
   ]
  },
  {
   "cell_type": "markdown",
   "id": "823d6de0-694a-464c-ad1b-cf9027987796",
   "metadata": {},
   "source": [
    "Calculando a média de preços por produto no intervalo 2016-2017"
   ]
  },
  {
   "cell_type": "code",
   "execution_count": null,
   "id": "7dd1833f-944e-47bb-ab02-35d6dfea720b",
   "metadata": {},
   "outputs": [],
   "source": [
    "mean_price_2016_2017 = merge_df8.groupby(['product_id', 'product_category_name']).agg(\n",
    "    mean_product_value_past = ('price', 'mean')\n",
    ").reset_index()"
   ]
  },
  {
   "cell_type": "code",
   "execution_count": null,
   "id": "0ab8457d-c819-426f-b6cc-319f11e6705b",
   "metadata": {},
   "outputs": [],
   "source": [
    "mean_price_2016_2017.head()"
   ]
  },
  {
   "cell_type": "markdown",
   "id": "1af3f6e9-647a-4d02-b9de-517c2b843294",
   "metadata": {},
   "source": [
    "### Merge"
   ]
  },
  {
   "cell_type": "markdown",
   "id": "0f4e5aed-9778-4068-8d27-f282ef9b9c4b",
   "metadata": {},
   "source": [
    "- Merge que une os dois períodos"
   ]
  },
  {
   "cell_type": "code",
   "execution_count": null,
   "id": "448a676a-1dc6-4865-ba3f-3e555ea5532c",
   "metadata": {},
   "outputs": [],
   "source": [
    "price_comparison = pd.merge(mean_price_2017_2018, mean_price_2016_2017, on='product_id', how='inner')"
   ]
  },
  {
   "cell_type": "code",
   "execution_count": null,
   "id": "6ec9cbb8-95e4-44fe-a936-7f5dd16ee11a",
   "metadata": {},
   "outputs": [],
   "source": [
    "price_comparison.head()"
   ]
  },
  {
   "cell_type": "code",
   "execution_count": null,
   "id": "7370d2a8-d00a-427d-9a54-7fb4e4488c50",
   "metadata": {},
   "outputs": [],
   "source": [
    "price_comparison.shape"
   ]
  },
  {
   "cell_type": "code",
   "execution_count": null,
   "id": "fd25a21b-045b-4845-90ea-ed12a23dcd01",
   "metadata": {},
   "outputs": [],
   "source": [
    "price_comparison.duplicated().sum()"
   ]
  },
  {
   "cell_type": "markdown",
   "id": "47b68799-1655-4d9e-b32b-ef702dd804e7",
   "metadata": {},
   "source": [
    "### Calculo das variações\n",
    "\n",
    "A variação calculada em **Reais(R$)** é feita através da **diferença entre a média do intervalo mais recente e a média do intevalo menos recente**.\n",
    "\n",
    "A variação calculada em **Porcentagem(%)** é uma formula padrão que utiliza a **variação de preços em Reais**, **divide pela média do intevalo menos recente** e **multiplica por 100**."
   ]
  },
  {
   "cell_type": "code",
   "execution_count": null,
   "id": "bd9d1b0d-7bab-4a31-995a-d1d47ca907b9",
   "metadata": {},
   "outputs": [],
   "source": [
    "price_comparison['price_variation_R$'] = price_comparison['mean_product_value_current'] - price_comparison['mean_product_value_past']\n",
    "price_comparison['price_variation_%'] = (price_comparison['price_variation_R$'] / price_comparison['mean_product_value_past']) * 100"
   ]
  },
  {
   "cell_type": "markdown",
   "id": "5c629351-bd6a-4cb8-9c2b-17ddf2e74541",
   "metadata": {},
   "source": [
    "Produtos que ficaram mais caros possuem **variação de preço positiva**. Já os que ficaram mais baratos, posssuem **variação de preços negativa**."
   ]
  },
  {
   "cell_type": "code",
   "execution_count": null,
   "id": "e6681ed9-77d1-4c90-a5cb-06a867d7b861",
   "metadata": {},
   "outputs": [],
   "source": [
    "price_comparison"
   ]
  },
  {
   "cell_type": "markdown",
   "id": "568f243b-eb83-4462-87b5-80d04a019846",
   "metadata": {},
   "source": [
    "### Ordenação pela variação de preços"
   ]
  },
  {
   "cell_type": "markdown",
   "id": "41dbb957-615e-4884-afc1-529c9e5df5fc",
   "metadata": {},
   "source": [
    "Produtos que mais inflacionaram"
   ]
  },
  {
   "cell_type": "code",
   "execution_count": null,
   "id": "333f0f40-85f9-46de-a42a-5049b3337325",
   "metadata": {},
   "outputs": [],
   "source": [
    "top_increase = price_comparison.sort_values(by='price_variation_%', ascending=False).reset_index(drop=True).head(10)\n",
    "top_increase['product_name'] = 'product' + top_increase['product_id'].str[:4]"
   ]
  },
  {
   "cell_type": "code",
   "execution_count": null,
   "id": "14df0fe7-6ad8-4eff-8e0b-7acf592e4753",
   "metadata": {},
   "outputs": [],
   "source": [
    "top_increase_sorted = top_increase.sort_values(by='price_variation_%', ascending=True)\n",
    "top_increase_sorted"
   ]
  },
  {
   "cell_type": "code",
   "execution_count": null,
   "id": "29ff46ad-f259-42fe-ac3f-9ba3928cf72e",
   "metadata": {},
   "outputs": [],
   "source": [
    "top_decrease = price_comparison.sort_values(by='price_variation_%', ascending=True).reset_index(drop=True).head(10)\n",
    "top_decrease['product_name'] = 'product' + top_increase['product_id'].str[:4]"
   ]
  },
  {
   "cell_type": "code",
   "execution_count": null,
   "id": "57e459a8-05ac-471e-af78-0026a1e0d044",
   "metadata": {},
   "outputs": [],
   "source": [
    "top_decrease"
   ]
  },
  {
   "cell_type": "markdown",
   "id": "63cd4fed-c491-4564-9afa-9e562d1910ba",
   "metadata": {},
   "source": [
    "### Visualização gráfica de produtos com maior aumento de preço"
   ]
  },
  {
   "cell_type": "code",
   "execution_count": null,
   "id": "8051556f-5010-40fe-88e8-d9ae358aeaea",
   "metadata": {},
   "outputs": [],
   "source": [
    "plt.figure(figsize=(10, 6))\n",
    "sns.barplot(x='product_name', y='price_variation_%', data=top_increase_sorted, hue='product_name', palette='Oranges')\n",
    "plt.title('Top 10 Produtos com Maior Aumento de Preço (%)', fontsize=16)\n",
    "plt.xlabel('Nome do produto', fontsize=12)\n",
    "plt.ylabel('Variação de Preço (%)', fontsize=12)\n",
    "plt.xticks(rotation=45, fontsize=10)\n",
    "plt.grid(axis='y', linestyle='--', alpha=0.8)\n",
    "plt.tight_layout()\n",
    "plt.show()"
   ]
  },
  {
   "cell_type": "code",
   "execution_count": null,
   "id": "b6b1314e-f35f-410e-93ab-2e28833d9a68",
   "metadata": {},
   "outputs": [],
   "source": [
    "mean_products_values_comparision = pd.melt(\n",
    "    top_increase, \n",
    "    id_vars=['product_name'], \n",
    "    value_vars=['mean_product_value_past', 'mean_product_value_current'],\n",
    "    var_name='period', \n",
    "    value_name='mean_price'\n",
    ")\n",
    "\n",
    "plt.figure(figsize=(12, 8))\n",
    "sns.barplot(x='product_name', y='mean_price', hue='period', data=mean_products_values_comparision,palette='Set2')\n",
    "\n",
    "plt.title('Comparação da Média de Valores dos Produtos por Período', fontsize=16, pad=20)\n",
    "plt.xlabel('Produtos', fontsize=12)\n",
    "plt.ylabel('Preço Médio (R$)', fontsize=12)\n",
    "plt.xticks(rotation=45, ha='right', fontsize=10)  \n",
    "plt.legend(title='Período', title_fontsize=12, fontsize=10, loc='upper left')\n",
    "plt.grid(axis='y', linestyle='--', alpha=0.7)\n",
    "\n",
    "plt.tight_layout()\n",
    "\n",
    "plt.show()"
   ]
  },
  {
   "cell_type": "code",
   "execution_count": null,
   "id": "b8062237-d102-40ab-9e4f-fb6c0aafb8ae",
   "metadata": {},
   "outputs": [],
   "source": [
    "plt.figure(figsize=(8, 5))\n",
    "plt.plot(X, y, 'o-', label='Preços Observados')  # Dados reais\n",
    "plt.plot(future_months, future_predictions, 'x--', label='Previsão de Preços')  # Previsões\n",
    "plt.xlabel('Tempo (Meses)')\n",
    "plt.ylabel('Mediana dos Preços')\n",
    "plt.title(f'Previsão de Preços para: {product_name}')\n",
    "plt.legend()\n",
    "plt.show()"
   ]
  },
  {
   "cell_type": "markdown",
   "id": "1234fafb-8516-4f67-82cc-326212cfed2b",
   "metadata": {
    "jp-MarkdownHeadingCollapsed": true
   },
   "source": [
    "# Análise de Produtos com Maior Diferença de Preço entre Vendas"
   ]
  },
  {
   "cell_type": "markdown",
   "id": "c622bcd6-d53e-4ff2-9d2c-b63b73e4dd3c",
   "metadata": {},
   "source": [
    "Verificar quais produtos apresentam uma grande variação de preço nas vendas."
   ]
  },
  {
   "cell_type": "code",
   "execution_count": null,
   "id": "8b1b32b8-350a-4ac7-9624-9b7fc1d82464",
   "metadata": {},
   "outputs": [],
   "source": [
    "merge_df8.head()"
   ]
  },
  {
   "cell_type": "code",
   "execution_count": null,
   "id": "161adfff-bf1a-4173-909e-c981601d6f61",
   "metadata": {},
   "outputs": [],
   "source": [
    "merge_df8.shape"
   ]
  },
  {
   "cell_type": "code",
   "execution_count": null,
   "id": "689ee1a1-2651-4d56-b348-66c1910b1e1e",
   "metadata": {},
   "outputs": [],
   "source": [
    "merge_df8.dtypes"
   ]
  },
  {
   "cell_type": "markdown",
   "id": "ca6a8987-0653-44cc-b548-06ffb64135f4",
   "metadata": {},
   "source": [
    "### Agrupamento "
   ]
  },
  {
   "cell_type": "markdown",
   "id": "34ad852b-585d-444b-b0c0-5894ffd1b62a",
   "metadata": {},
   "source": [
    "Agrupamento de product_id com com preço, obtendo o mínimo e máximo"
   ]
  },
  {
   "cell_type": "code",
   "execution_count": null,
   "id": "c29da6c1-f71f-4d30-a325-9213b2a46b58",
   "metadata": {},
   "outputs": [],
   "source": [
    "price_range = merge_df8"
   ]
  },
  {
   "cell_type": "code",
   "execution_count": null,
   "id": "37b101bf-9577-47ac-bd65-9ca8fb5525da",
   "metadata": {},
   "outputs": [],
   "source": [
    "price_range = price_range.groupby('product_id')['price'].agg(['max', 'min']).reset_index()"
   ]
  },
  {
   "cell_type": "code",
   "execution_count": null,
   "id": "d0100b33-b769-493b-bcc7-716e4fbdd560",
   "metadata": {},
   "outputs": [],
   "source": [
    "price_range.head()"
   ]
  },
  {
   "cell_type": "code",
   "execution_count": null,
   "id": "11c74a7d-af8a-4718-a510-db2a23b60d11",
   "metadata": {},
   "outputs": [],
   "source": [
    "price_range['product_name'] = 'product' + price_range['product_id'].str[:4]"
   ]
  },
  {
   "cell_type": "code",
   "execution_count": null,
   "id": "519de602-12be-4930-b2b5-c2a6da0844f2",
   "metadata": {},
   "outputs": [],
   "source": [
    "price_range['price_diff'] = price_range['max'] - price_range['min']\n",
    "price_range = price_range.sort_values(by='price_diff', ascending=False)"
   ]
  },
  {
   "cell_type": "code",
   "execution_count": null,
   "id": "ea9209cf-ebcb-4261-b7e3-f9c408fbfd02",
   "metadata": {},
   "outputs": [],
   "source": [
    "top_price_range_products = price_range.head(10)"
   ]
  },
  {
   "cell_type": "code",
   "execution_count": null,
   "id": "96ae3acb-37d7-4a9b-adc6-02cce129e837",
   "metadata": {},
   "outputs": [],
   "source": [
    "top_price_range_products.head()"
   ]
  },
  {
   "cell_type": "code",
   "execution_count": null,
   "id": "f96401e3-9acd-41e1-8639-de9d68dc88a3",
   "metadata": {},
   "outputs": [],
   "source": [
    "sns.barplot(x='price_diff', y='product_name', data=top_price_range_products, palette='coolwarm', hue='product_name')\n",
    "plt.title('Top 10 Produtos com Maior Diferença de Preço')\n",
    "plt.xlabel('Diferença de Preço(R$)', fontsize=12)\n",
    "plt.ylabel('Nome do produto', fontsize=12)\n",
    "plt.grid(axis='x', linestyle='--', alpha=0.7)\n",
    "\n",
    "plt.tight_layout()\n",
    "\n",
    "plt.show()"
   ]
  },
  {
   "cell_type": "code",
   "execution_count": null,
   "id": "963f3852-472e-4617-94e6-ef4d103a4323",
   "metadata": {},
   "outputs": [],
   "source": []
  }
 ],
 "metadata": {
  "kernelspec": {
   "display_name": "Python 3 (ipykernel)",
   "language": "python",
   "name": "python3"
  },
  "language_info": {
   "codemirror_mode": {
    "name": "ipython",
    "version": 3
   },
   "file_extension": ".py",
   "mimetype": "text/x-python",
   "name": "python",
   "nbconvert_exporter": "python",
   "pygments_lexer": "ipython3",
   "version": "3.11.13"
  }
 },
 "nbformat": 4,
 "nbformat_minor": 5
}
